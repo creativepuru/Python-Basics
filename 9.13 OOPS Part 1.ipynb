{
 "cells": [
  {
   "attachments": {},
   "cell_type": "markdown",
   "metadata": {},
   "source": [
    "# OOPS - OBJECT ORIENTED PROGRAMMING SYSTEMS"
   ]
  },
  {
   "cell_type": "code",
   "execution_count": 1,
   "metadata": {
    "ExecuteTime": {
     "end_time": "2023-04-25T02:39:21.104692Z",
     "start_time": "2023-04-25T02:39:21.036154Z"
    },
    "collapsed": true
   },
   "outputs": [
    {
     "name": "stdout",
     "output_type": "stream",
     "text": [
      "Push from VS Code\n"
     ]
    }
   ],
   "source": [
    "print(\"Push from VS Code\")"
   ]
  },
  {
   "cell_type": "code",
   "execution_count": 2,
   "metadata": {
    "ExecuteTime": {
     "end_time": "2023-04-25T02:39:21.105690Z",
     "start_time": "2023-04-25T02:39:21.083689Z"
    }
   },
   "outputs": [],
   "source": [
    "a = 1"
   ]
  },
  {
   "cell_type": "code",
   "execution_count": 3,
   "metadata": {
    "ExecuteTime": {
     "end_time": "2023-04-25T02:39:21.223232Z",
     "start_time": "2023-04-25T02:39:21.130715Z"
    }
   },
   "outputs": [
    {
     "data": {
      "text/plain": [
       "int"
      ]
     },
     "execution_count": 3,
     "metadata": {},
     "output_type": "execute_result"
    }
   ],
   "source": [
    "type(a)"
   ]
  },
  {
   "cell_type": "code",
   "execution_count": 4,
   "metadata": {
    "ExecuteTime": {
     "end_time": "2023-04-25T02:39:21.433355Z",
     "start_time": "2023-04-25T02:39:21.206235Z"
    }
   },
   "outputs": [
    {
     "name": "stdout",
     "output_type": "stream",
     "text": [
      "<class 'int'>\n"
     ]
    }
   ],
   "source": [
    "print(type(a))"
   ]
  },
  {
   "cell_type": "code",
   "execution_count": 5,
   "metadata": {
    "ExecuteTime": {
     "end_time": "2023-04-25T02:39:21.435356Z",
     "start_time": "2023-04-25T02:39:21.316775Z"
    }
   },
   "outputs": [],
   "source": [
    "b = \"puru\""
   ]
  },
  {
   "cell_type": "code",
   "execution_count": 6,
   "metadata": {
    "ExecuteTime": {
     "end_time": "2023-04-25T02:39:21.582429Z",
     "start_time": "2023-04-25T02:39:21.406333Z"
    }
   },
   "outputs": [
    {
     "name": "stdout",
     "output_type": "stream",
     "text": [
      "<class 'str'>\n"
     ]
    }
   ],
   "source": [
    "print(type(b))"
   ]
  },
  {
   "cell_type": "code",
   "execution_count": 7,
   "metadata": {
    "ExecuteTime": {
     "end_time": "2023-04-25T02:39:21.583429Z",
     "start_time": "2023-04-25T02:39:21.453887Z"
    }
   },
   "outputs": [
    {
     "name": "stdout",
     "output_type": "stream",
     "text": [
      "<class 'str'>\n"
     ]
    }
   ],
   "source": [
    "print(type(\"purushottam\"))"
   ]
  },
  {
   "cell_type": "code",
   "execution_count": 8,
   "metadata": {
    "ExecuteTime": {
     "end_time": "2023-04-25T02:39:21.584437Z",
     "start_time": "2023-04-25T02:39:21.484887Z"
    }
   },
   "outputs": [
    {
     "data": {
      "text/plain": [
       "\" Error : can not create empty class. To create empty class, we need to add the parameter 'pass'\\nCell In[9], line 1\\n    class test :\\n                ^\\nSyntaxError: incomplete input \""
      ]
     },
     "execution_count": 8,
     "metadata": {},
     "output_type": "execute_result"
    }
   ],
   "source": [
    "# class test :\n",
    "\n",
    "''' Error : can not create empty class. To create empty class, we need to add the parameter 'pass'\n",
    "Cell In[9], line 1\n",
    "    class test :\n",
    "                ^\n",
    "SyntaxError: incomplete input '''"
   ]
  },
  {
   "cell_type": "code",
   "execution_count": 9,
   "metadata": {
    "ExecuteTime": {
     "end_time": "2023-04-25T02:39:21.585438Z",
     "start_time": "2023-04-25T02:39:21.516891Z"
    }
   },
   "outputs": [
    {
     "data": {
      "text/plain": [
       "\"shortcut to show row numbers in VS Code --> select the cell and type 'cl' to show row numbers\\ntype 'ro' to collapse the output \""
      ]
     },
     "execution_count": 9,
     "metadata": {},
     "output_type": "execute_result"
    }
   ],
   "source": [
    "'''shortcut to show row numbers in VS Code --> select the cell and type 'cl' to show row numbers\n",
    "type 'ro' to collapse the output '''"
   ]
  },
  {
   "attachments": {},
   "cell_type": "markdown",
   "metadata": {},
   "source": [
    "# Creating a class"
   ]
  },
  {
   "cell_type": "code",
   "execution_count": 10,
   "metadata": {
    "ExecuteTime": {
     "end_time": "2023-04-25T02:39:21.585438Z",
     "start_time": "2023-04-25T02:39:21.548428Z"
    }
   },
   "outputs": [],
   "source": [
    "class test :\n",
    "    pass"
   ]
  },
  {
   "attachments": {},
   "cell_type": "markdown",
   "metadata": {},
   "source": [
    "# Creating object (variable) of the class"
   ]
  },
  {
   "cell_type": "code",
   "execution_count": 11,
   "metadata": {
    "ExecuteTime": {
     "end_time": "2023-04-25T02:39:21.822546Z",
     "start_time": "2023-04-25T02:39:21.563429Z"
    }
   },
   "outputs": [],
   "source": [
    "a = test()"
   ]
  },
  {
   "cell_type": "code",
   "execution_count": 12,
   "metadata": {
    "ExecuteTime": {
     "end_time": "2023-04-25T02:39:21.904612Z",
     "start_time": "2023-04-25T02:39:21.595431Z"
    }
   },
   "outputs": [
    {
     "data": {
      "text/plain": [
       "__main__.test"
      ]
     },
     "execution_count": 12,
     "metadata": {},
     "output_type": "execute_result"
    }
   ],
   "source": [
    "type(a)"
   ]
  },
  {
   "cell_type": "code",
   "execution_count": 13,
   "metadata": {
    "ExecuteTime": {
     "end_time": "2023-04-25T02:39:21.906615Z",
     "start_time": "2023-04-25T02:39:21.653977Z"
    }
   },
   "outputs": [
    {
     "name": "stdout",
     "output_type": "stream",
     "text": [
      "<class '__main__.test'>\n"
     ]
    }
   ],
   "source": [
    "print(type(a))"
   ]
  },
  {
   "cell_type": "code",
   "execution_count": 14,
   "metadata": {
    "ExecuteTime": {
     "end_time": "2023-04-25T02:39:21.907624Z",
     "start_time": "2023-04-25T02:39:21.755523Z"
    },
    "collapsed": false
   },
   "outputs": [
    {
     "name": "stdout",
     "output_type": "stream",
     "text": [
      "Push from Data-Spell app\n"
     ]
    }
   ],
   "source": [
    "print(\"Push from Data-Spell app\")"
   ]
  },
  {
   "cell_type": "code",
   "execution_count": 15,
   "metadata": {
    "ExecuteTime": {
     "end_time": "2023-04-25T02:39:21.959170Z",
     "start_time": "2023-04-25T02:39:21.819548Z"
    }
   },
   "outputs": [],
   "source": [
    "class pwskills :\n",
    "    \n",
    "    def welcome_msg() :\n",
    "        print(\"Welcome to PWSKILLS\")"
   ]
  },
  {
   "cell_type": "code",
   "execution_count": 16,
   "metadata": {
    "ExecuteTime": {
     "end_time": "2023-04-25T02:39:22.184819Z",
     "start_time": "2023-04-25T02:39:21.867616Z"
    }
   },
   "outputs": [],
   "source": [
    "anand = pwskills()"
   ]
  },
  {
   "cell_type": "code",
   "execution_count": 17,
   "metadata": {
    "ExecuteTime": {
     "end_time": "2023-04-25T02:39:22.249369Z",
     "start_time": "2023-04-25T02:39:21.912613Z"
    }
   },
   "outputs": [
    {
     "name": "stdout",
     "output_type": "stream",
     "text": [
      "<class '__main__.pwskills'>\n"
     ]
    }
   ],
   "source": [
    "print(type(anand))"
   ]
  },
  {
   "cell_type": "code",
   "execution_count": 18,
   "metadata": {
    "ExecuteTime": {
     "end_time": "2023-04-25T02:39:22.252369Z",
     "start_time": "2023-04-25T02:39:21.940632Z"
    }
   },
   "outputs": [
    {
     "data": {
      "text/plain": [
       "' ---------------------------------------------------------------------------\\nTypeError                                 Traceback (most recent call last)\\nCell In[18], line 1\\n----> 1 anand.welcome_msg()\\n\\nTypeError: pwskills.welcome_msg() takes 0 positional arguments but 1 was given '"
      ]
     },
     "execution_count": 18,
     "metadata": {},
     "output_type": "execute_result"
    }
   ],
   "source": [
    "# anand.welcome_msg()\n",
    "''' ---------------------------------------------------------------------------\n",
    "TypeError                                 Traceback (most recent call last)\n",
    "Cell In[18], line 1\n",
    "----> 1 anand.welcome_msg()\n",
    "\n",
    "TypeError: pwskills.welcome_msg() takes 0 positional arguments but 1 was given '''"
   ]
  },
  {
   "cell_type": "code",
   "execution_count": 19,
   "metadata": {
    "ExecuteTime": {
     "end_time": "2023-04-25T02:39:22.253368Z",
     "start_time": "2023-04-25T02:39:21.973173Z"
    },
    "collapsed": false
   },
   "outputs": [],
   "source": [
    "class pwskills :\n",
    "\n",
    "    def welcome_msg(self) :\n",
    "        print(\"Welcome to PWSKILLS\")"
   ]
  },
  {
   "cell_type": "code",
   "execution_count": 20,
   "metadata": {
    "ExecuteTime": {
     "end_time": "2023-04-25T02:39:22.254369Z",
     "start_time": "2023-04-25T02:39:22.016173Z"
    },
    "collapsed": false
   },
   "outputs": [],
   "source": [
    "anand = pwskills()"
   ]
  },
  {
   "cell_type": "code",
   "execution_count": 21,
   "metadata": {
    "ExecuteTime": {
     "end_time": "2023-04-25T02:39:22.313365Z",
     "start_time": "2023-04-25T02:39:22.051734Z"
    },
    "collapsed": false
   },
   "outputs": [
    {
     "name": "stdout",
     "output_type": "stream",
     "text": [
      "Welcome to PWSKILLS\n"
     ]
    }
   ],
   "source": [
    "anand.welcome_msg()"
   ]
  },
  {
   "cell_type": "code",
   "execution_count": 22,
   "metadata": {
    "ExecuteTime": {
     "end_time": "2023-04-25T02:39:22.314371Z",
     "start_time": "2023-04-25T02:39:22.113736Z"
    },
    "collapsed": false
   },
   "outputs": [],
   "source": [
    "puru = pwskills()"
   ]
  },
  {
   "cell_type": "code",
   "execution_count": 23,
   "metadata": {
    "ExecuteTime": {
     "end_time": "2023-04-25T02:39:22.541987Z",
     "start_time": "2023-04-25T02:39:22.155824Z"
    },
    "collapsed": false
   },
   "outputs": [
    {
     "name": "stdout",
     "output_type": "stream",
     "text": [
      "Welcome to PWSKILLS\n"
     ]
    }
   ],
   "source": [
    "puru.welcome_msg()"
   ]
  },
  {
   "cell_type": "code",
   "execution_count": 24,
   "metadata": {
    "ExecuteTime": {
     "end_time": "2023-04-25T02:39:22.545005Z",
     "start_time": "2023-04-25T02:39:22.245367Z"
    },
    "collapsed": false
   },
   "outputs": [],
   "source": [
    "class pwskills1 :\n",
    "\n",
    "    def __init__(self, phone_number, email_id, student_id) :\n",
    "        \"\"\"This class will take data(input) from the user\"\"\"\n",
    "\n",
    "        # Variable name   =  Data\n",
    "        self.phone_number = phone_number\n",
    "        self.email_id = email_id\n",
    "        self.student_id = student_id\n",
    "\n",
    "    def return_student_details(self) :\n",
    "        \"\"\"This class will return all the inputs taken from user\"\"\"\n",
    "\n",
    "        return self.student_id, self.email_id, self.phone_number"
   ]
  },
  {
   "cell_type": "code",
   "execution_count": 25,
   "metadata": {
    "ExecuteTime": {
     "end_time": "2023-04-25T02:39:22.596007Z",
     "start_time": "2023-04-25T02:39:22.369916Z"
    },
    "collapsed": false
   },
   "outputs": [],
   "source": [
    "anand = pwskills1(123456789, \"anand@gmail.com\", 101)"
   ]
  },
  {
   "cell_type": "code",
   "execution_count": 26,
   "metadata": {
    "ExecuteTime": {
     "end_time": "2023-04-25T02:39:22.599006Z",
     "start_time": "2023-04-25T02:39:22.416918Z"
    },
    "collapsed": false
   },
   "outputs": [
    {
     "data": {
      "text/plain": [
       "(101, 'anand@gmail.com', 123456789)"
      ]
     },
     "execution_count": 26,
     "metadata": {},
     "output_type": "execute_result"
    }
   ],
   "source": [
    "anand.return_student_details()"
   ]
  },
  {
   "cell_type": "code",
   "execution_count": 27,
   "metadata": {
    "ExecuteTime": {
     "end_time": "2023-04-25T02:39:22.600000Z",
     "start_time": "2023-04-25T02:39:22.494459Z"
    },
    "collapsed": false
   },
   "outputs": [],
   "source": [
    "rohan = pwskills1(21351561, \"rohan@gmail.com\", 102)"
   ]
  },
  {
   "cell_type": "code",
   "execution_count": 28,
   "metadata": {
    "ExecuteTime": {
     "end_time": "2023-04-25T02:39:22.751096Z",
     "start_time": "2023-04-25T02:39:22.540473Z"
    },
    "collapsed": false
   },
   "outputs": [
    {
     "data": {
      "text/plain": [
       "(102, 'rohan@gmail.com', 21351561)"
      ]
     },
     "execution_count": 28,
     "metadata": {},
     "output_type": "execute_result"
    }
   ],
   "source": [
    "rohan.return_student_details()"
   ]
  },
  {
   "cell_type": "code",
   "execution_count": 29,
   "metadata": {
    "ExecuteTime": {
     "end_time": "2023-04-25T02:39:22.795097Z",
     "start_time": "2023-04-25T02:39:22.586004Z"
    },
    "collapsed": false
   },
   "outputs": [
    {
     "data": {
      "text/plain": [
       "102"
      ]
     },
     "execution_count": 29,
     "metadata": {},
     "output_type": "execute_result"
    }
   ],
   "source": [
    "rohan.student_id"
   ]
  },
  {
   "cell_type": "code",
   "execution_count": 30,
   "metadata": {
    "ExecuteTime": {
     "end_time": "2023-04-25T02:39:22.826093Z",
     "start_time": "2023-04-25T02:39:22.617002Z"
    },
    "collapsed": false
   },
   "outputs": [
    {
     "data": {
      "text/plain": [
       "21351561"
      ]
     },
     "execution_count": 30,
     "metadata": {},
     "output_type": "execute_result"
    }
   ],
   "source": [
    "rohan.phone_number"
   ]
  },
  {
   "cell_type": "code",
   "execution_count": 31,
   "metadata": {
    "ExecuteTime": {
     "end_time": "2023-04-25T02:39:22.847649Z",
     "start_time": "2023-04-25T02:39:22.648548Z"
    },
    "collapsed": false
   },
   "outputs": [
    {
     "data": {
      "text/plain": [
       "123456789"
      ]
     },
     "execution_count": 31,
     "metadata": {},
     "output_type": "execute_result"
    }
   ],
   "source": [
    "anand.phone_number"
   ]
  },
  {
   "cell_type": "code",
   "execution_count": 32,
   "metadata": {
    "ExecuteTime": {
     "end_time": "2023-04-25T02:39:22.848647Z",
     "start_time": "2023-04-25T02:39:22.678543Z"
    },
    "collapsed": false
   },
   "outputs": [
    {
     "data": {
      "text/plain": [
       "'anand@gmail.com'"
      ]
     },
     "execution_count": 32,
     "metadata": {},
     "output_type": "execute_result"
    }
   ],
   "source": [
    "anand.email_id\n"
   ]
  },
  {
   "cell_type": "code",
   "execution_count": 33,
   "metadata": {
    "ExecuteTime": {
     "end_time": "2023-04-25T02:39:22.850648Z",
     "start_time": "2023-04-25T02:39:22.710542Z"
    },
    "collapsed": false
   },
   "outputs": [],
   "source": [
    "class pwskills2 :\n",
    "\n",
    "    def __init__(self, phone_number, email_id, student_id) :\n",
    "        \"\"\"This class will take data(input) from the user\"\"\"\n",
    "\n",
    "        # Variable name   =  Data\n",
    "        self.phone_number1 = phone_number\n",
    "        self.email_id1 = email_id\n",
    "        self.student_id1 = student_id\n",
    "\n",
    "    def return_student_details(self) :\n",
    "        \"\"\"This class will return all the inputs taken from user\"\"\"\n",
    "\n",
    "        return self.student_id1, self.email_id1, self.phone_number1"
   ]
  },
  {
   "cell_type": "code",
   "execution_count": 34,
   "metadata": {
    "ExecuteTime": {
     "end_time": "2023-04-25T02:39:22.851651Z",
     "start_time": "2023-04-25T02:39:22.742078Z"
    },
    "collapsed": false
   },
   "outputs": [],
   "source": [
    "sudh = pwskills2(12312323, 'sdfasf@dfsdf.com', 110)"
   ]
  },
  {
   "cell_type": "code",
   "execution_count": 35,
   "metadata": {
    "ExecuteTime": {
     "end_time": "2023-04-25T02:39:23.052739Z",
     "start_time": "2023-04-25T02:39:22.764097Z"
    },
    "collapsed": false
   },
   "outputs": [
    {
     "data": {
      "text/plain": [
       "\"Error :\\n---------------------------------------------------------------------------\\nAttributeError                            Traceback (most recent call last)\\nCell In[39], line 1\\n----> 1 sudh.phone_number\\n\\nAttributeError: 'pwskills2' object has no attribute 'phone_number'\\n\""
      ]
     },
     "execution_count": 35,
     "metadata": {},
     "output_type": "execute_result"
    }
   ],
   "source": [
    "# sudh.phone_number\n",
    "\n",
    "'''Error :\n",
    "---------------------------------------------------------------------------\n",
    "AttributeError                            Traceback (most recent call last)\n",
    "Cell In[39], line 1\n",
    "----> 1 sudh.phone_number\n",
    "\n",
    "AttributeError: 'pwskills2' object has no attribute 'phone_number'\n",
    "'''"
   ]
  },
  {
   "cell_type": "code",
   "execution_count": 36,
   "metadata": {
    "ExecuteTime": {
     "end_time": "2023-04-25T02:39:23.053741Z",
     "start_time": "2023-04-25T02:39:22.793097Z"
    },
    "collapsed": false
   },
   "outputs": [
    {
     "data": {
      "text/plain": [
       "12312323"
      ]
     },
     "execution_count": 36,
     "metadata": {},
     "output_type": "execute_result"
    }
   ],
   "source": [
    "sudh.phone_number1"
   ]
  },
  {
   "cell_type": "code",
   "execution_count": 37,
   "metadata": {
    "ExecuteTime": {
     "end_time": "2023-04-25T02:39:23.054738Z",
     "start_time": "2023-04-25T02:39:22.820093Z"
    },
    "collapsed": false
   },
   "outputs": [
    {
     "data": {
      "text/plain": [
       "(110, 'sdfasf@dfsdf.com', 12312323)"
      ]
     },
     "execution_count": 37,
     "metadata": {},
     "output_type": "execute_result"
    }
   ],
   "source": [
    "sudh.return_student_details()"
   ]
  },
  {
   "cell_type": "code",
   "execution_count": 38,
   "metadata": {
    "ExecuteTime": {
     "end_time": "2023-04-25T02:39:23.078731Z",
     "start_time": "2023-04-25T02:39:22.852650Z"
    },
    "collapsed": false
   },
   "outputs": [
    {
     "data": {
      "text/plain": [
       "123456789"
      ]
     },
     "execution_count": 38,
     "metadata": {},
     "output_type": "execute_result"
    }
   ],
   "source": [
    "anand.phone_number"
   ]
  },
  {
   "cell_type": "code",
   "execution_count": 39,
   "metadata": {
    "ExecuteTime": {
     "end_time": "2023-04-25T02:39:23.155287Z",
     "start_time": "2023-04-25T02:39:22.891647Z"
    },
    "collapsed": false
   },
   "outputs": [
    {
     "data": {
      "text/plain": [
       "(101, 'anand@gmail.com', 123456789)"
      ]
     },
     "execution_count": 39,
     "metadata": {},
     "output_type": "execute_result"
    }
   ],
   "source": [
    "anand.return_student_details()"
   ]
  },
  {
   "cell_type": "markdown",
   "metadata": {
    "collapsed": false
   },
   "source": [
    "# Self is not a reserved keyword ! We can use any argument name of our choice. Just like I have used 'puru' here !!!"
   ]
  },
  {
   "cell_type": "code",
   "execution_count": 40,
   "metadata": {
    "ExecuteTime": {
     "end_time": "2023-04-25T02:39:23.156289Z",
     "start_time": "2023-04-25T02:39:22.936668Z"
    },
    "collapsed": false
   },
   "outputs": [],
   "source": [
    "class pwskills2 :\n",
    "\n",
    "    def __init__(puru, phone_number, email_id, student_id) :\n",
    "        \"\"\"This class will take data(input) from the user\"\"\"\n",
    "        # Self is not a reserved keyword ! We can use any argument name of our choice. Just like I have used 'puru' here !!!\n",
    "\n",
    "        # Variable name   =  Data\n",
    "        puru.phone_number1 = phone_number\n",
    "        puru.email_id1 = email_id\n",
    "        puru.student_id1 = student_id\n",
    "\n",
    "    def return_student_details(puru) :\n",
    "        \"\"\"This class will return all the inputs taken from user\"\"\"\n",
    "\n",
    "        return puru.student_id1, puru.email_id1, puru.phone_number1"
   ]
  },
  {
   "cell_type": "code",
   "execution_count": 41,
   "metadata": {
    "ExecuteTime": {
     "end_time": "2023-04-25T02:39:23.157293Z",
     "start_time": "2023-04-25T02:39:23.015196Z"
    },
    "collapsed": false
   },
   "outputs": [],
   "source": [
    "sohan = pwskills2(12312323, 'sdfasf@dfsdf.com', 110)"
   ]
  },
  {
   "cell_type": "code",
   "execution_count": 42,
   "metadata": {
    "ExecuteTime": {
     "end_time": "2023-04-25T02:39:23.398349Z",
     "start_time": "2023-04-25T02:39:23.056736Z"
    },
    "collapsed": false
   },
   "outputs": [
    {
     "data": {
      "text/plain": [
       "12312323"
      ]
     },
     "execution_count": 42,
     "metadata": {},
     "output_type": "execute_result"
    }
   ],
   "source": [
    "sohan.phone_number1"
   ]
  },
  {
   "cell_type": "code",
   "execution_count": 43,
   "metadata": {
    "ExecuteTime": {
     "end_time": "2023-04-25T02:39:23.448519Z",
     "start_time": "2023-04-25T02:39:23.086740Z"
    },
    "collapsed": false
   },
   "outputs": [
    {
     "data": {
      "text/plain": [
       "'sdfasf@dfsdf.com'"
      ]
     },
     "execution_count": 43,
     "metadata": {},
     "output_type": "execute_result"
    }
   ],
   "source": [
    "sohan.email_id1"
   ]
  },
  {
   "cell_type": "code",
   "execution_count": 44,
   "metadata": {
    "ExecuteTime": {
     "end_time": "2023-04-25T02:39:23.450525Z",
     "start_time": "2023-04-25T02:39:23.125738Z"
    },
    "collapsed": false
   },
   "outputs": [
    {
     "data": {
      "text/plain": [
       "(110, 'sdfasf@dfsdf.com', 12312323)"
      ]
     },
     "execution_count": 44,
     "metadata": {},
     "output_type": "execute_result"
    }
   ],
   "source": [
    "sohan.return_student_details()"
   ]
  },
  {
   "cell_type": "markdown",
   "metadata": {
    "collapsed": false
   },
   "source": [
    "# ------------------- END -------------------"
   ]
  },
  {
   "cell_type": "code",
   "execution_count": null,
   "metadata": {
    "ExecuteTime": {
     "end_time": "2023-04-25T02:39:23.452522Z",
     "start_time": "2023-04-25T02:39:23.169285Z"
    },
    "collapsed": false
   },
   "outputs": [],
   "source": []
  }
 ],
 "metadata": {
  "kernelspec": {
   "display_name": "Python 3",
   "language": "python",
   "name": "python3"
  },
  "language_info": {
   "codemirror_mode": {
    "name": "ipython",
    "version": 3
   },
   "file_extension": ".py",
   "mimetype": "text/x-python",
   "name": "python",
   "nbconvert_exporter": "python",
   "pygments_lexer": "ipython3",
   "version": "3.10.4"
  }
 },
 "nbformat": 4,
 "nbformat_minor": 0
}
