{
 "cells": [
  {
   "cell_type": "code",
   "execution_count": 1,
   "id": "517301e2-7851-4967-a792-bc896a1e8874",
   "metadata": {
    "ExecuteTime": {
     "end_time": "2023-05-01T23:11:49.683939Z",
     "start_time": "2023-05-01T23:11:37.343986Z"
    }
   },
   "outputs": [],
   "source": [
    "l = [1, 200, 1.200, 'Puru', True, 1+2j]"
   ]
  },
  {
   "cell_type": "code",
   "execution_count": 2,
   "id": "741023e2-867d-4ae5-a4ba-52dbcb41052f",
   "metadata": {
    "ExecuteTime": {
     "end_time": "2023-05-01T23:11:49.695948Z",
     "start_time": "2023-05-01T23:11:37.435987Z"
    }
   },
   "outputs": [
    {
     "data": {
      "text/plain": [
       "list"
      ]
     },
     "execution_count": 2,
     "metadata": {},
     "output_type": "execute_result"
    }
   ],
   "source": [
    "type(l)"
   ]
  },
  {
   "cell_type": "code",
   "execution_count": 3,
   "id": "cd6bd7d8-5414-417d-8eb4-8316ca4ea93c",
   "metadata": {
    "ExecuteTime": {
     "end_time": "2023-05-01T23:11:50.583945Z",
     "start_time": "2023-05-01T23:11:37.546989Z"
    }
   },
   "outputs": [
    {
     "data": {
      "text/plain": [
       "200"
      ]
     },
     "execution_count": 3,
     "metadata": {},
     "output_type": "execute_result"
    }
   ],
   "source": [
    "l[1]"
   ]
  },
  {
   "cell_type": "code",
   "execution_count": 4,
   "id": "16125891-9550-4341-8199-e9d2b39760bf",
   "metadata": {
    "ExecuteTime": {
     "end_time": "2023-05-01T23:11:50.782939Z",
     "start_time": "2023-05-01T23:11:37.565984Z"
    }
   },
   "outputs": [
    {
     "data": {
      "text/plain": [
       "1.2"
      ]
     },
     "execution_count": 4,
     "metadata": {},
     "output_type": "execute_result"
    }
   ],
   "source": [
    "l[2]"
   ]
  },
  {
   "cell_type": "code",
   "execution_count": 5,
   "id": "f1ad39ab-6033-4b08-bc97-db7f03e8f899",
   "metadata": {
    "ExecuteTime": {
     "end_time": "2023-05-01T23:11:50.783940Z",
     "start_time": "2023-05-01T23:11:37.573993Z"
    }
   },
   "outputs": [
    {
     "data": {
      "text/plain": [
       "1"
      ]
     },
     "execution_count": 5,
     "metadata": {},
     "output_type": "execute_result"
    }
   ],
   "source": [
    "l[0]"
   ]
  },
  {
   "cell_type": "code",
   "execution_count": 6,
   "id": "1e917dbd-5e20-4656-a2bb-4a9d8752c661",
   "metadata": {
    "ExecuteTime": {
     "end_time": "2023-05-01T23:11:50.783940Z",
     "start_time": "2023-05-01T23:11:37.594985Z"
    }
   },
   "outputs": [
    {
     "data": {
      "text/plain": [
       "(1+2j)"
      ]
     },
     "execution_count": 6,
     "metadata": {},
     "output_type": "execute_result"
    }
   ],
   "source": [
    "l[-1]"
   ]
  },
  {
   "cell_type": "code",
   "execution_count": 7,
   "id": "080b7203-acfb-4a56-81c5-3c2a5208d5a7",
   "metadata": {
    "ExecuteTime": {
     "end_time": "2023-05-01T23:11:50.784940Z",
     "start_time": "2023-05-01T23:11:37.610985Z"
    }
   },
   "outputs": [
    {
     "data": {
      "text/plain": [
       "True"
      ]
     },
     "execution_count": 7,
     "metadata": {},
     "output_type": "execute_result"
    }
   ],
   "source": [
    "l[-2]"
   ]
  },
  {
   "cell_type": "code",
   "execution_count": 8,
   "id": "cbbbca09-c5ca-44c9-90da-c96f703712c2",
   "metadata": {
    "ExecuteTime": {
     "end_time": "2023-05-01T23:11:50.925005Z",
     "start_time": "2023-05-01T23:11:37.633990Z"
    }
   },
   "outputs": [
    {
     "data": {
      "text/plain": [
       "[1, 200, 1.2, 'Puru', True, (1+2j)]"
      ]
     },
     "execution_count": 8,
     "metadata": {},
     "output_type": "execute_result"
    }
   ],
   "source": [
    "l"
   ]
  },
  {
   "cell_type": "code",
   "execution_count": 9,
   "id": "1a80d757-c862-4390-b848-b81f9aebbb80",
   "metadata": {
    "ExecuteTime": {
     "end_time": "2023-05-01T23:11:50.925997Z",
     "start_time": "2023-05-01T23:11:37.663987Z"
    }
   },
   "outputs": [
    {
     "data": {
      "text/plain": [
       "6"
      ]
     },
     "execution_count": 9,
     "metadata": {},
     "output_type": "execute_result"
    }
   ],
   "source": [
    "len(l)"
   ]
  },
  {
   "cell_type": "code",
   "execution_count": 10,
   "id": "f6df7e3e-8b0b-4504-914c-78db5b9306c8",
   "metadata": {
    "ExecuteTime": {
     "end_time": "2023-05-01T23:11:51.269948Z",
     "start_time": "2023-05-01T23:11:37.695016Z"
    }
   },
   "outputs": [],
   "source": [
    "#l.index()"
   ]
  },
  {
   "cell_type": "code",
   "execution_count": 11,
   "id": "69708750-36bd-451a-bcc9-39a009d802e6",
   "metadata": {
    "ExecuteTime": {
     "end_time": "2023-05-01T23:11:51.270988Z",
     "start_time": "2023-05-01T23:11:37.733982Z"
    }
   },
   "outputs": [
    {
     "data": {
      "text/plain": [
       "1"
      ]
     },
     "execution_count": 11,
     "metadata": {},
     "output_type": "execute_result"
    }
   ],
   "source": [
    "l.index(200)"
   ]
  },
  {
   "cell_type": "code",
   "execution_count": 12,
   "id": "c4b5887a-db54-45e1-8c06-462b7d011ff1",
   "metadata": {
    "ExecuteTime": {
     "end_time": "2023-05-01T23:11:51.270988Z",
     "start_time": "2023-05-01T23:11:37.778986Z"
    }
   },
   "outputs": [
    {
     "data": {
      "text/plain": [
       "[1, 200, 1.2, 'Puru', True, (1+2j)]"
      ]
     },
     "execution_count": 12,
     "metadata": {},
     "output_type": "execute_result"
    }
   ],
   "source": [
    "l"
   ]
  },
  {
   "cell_type": "code",
   "execution_count": 13,
   "id": "daf8c06a-9f03-49b7-89ea-8664d7273a57",
   "metadata": {
    "ExecuteTime": {
     "end_time": "2023-05-01T23:11:51.270988Z",
     "start_time": "2023-05-01T23:11:37.806986Z"
    }
   },
   "outputs": [],
   "source": [
    "#l[900]"
   ]
  },
  {
   "cell_type": "code",
   "execution_count": 14,
   "id": "0e7f0e28-d759-4b29-9cf5-7d708b3c7148",
   "metadata": {
    "ExecuteTime": {
     "end_time": "2023-05-01T23:11:51.451001Z",
     "start_time": "2023-05-01T23:11:37.842986Z"
    }
   },
   "outputs": [
    {
     "data": {
      "text/plain": [
       "[1, 200, 1.2, 'Puru', True, (1+2j)]"
      ]
     },
     "execution_count": 14,
     "metadata": {},
     "output_type": "execute_result"
    }
   ],
   "source": [
    "l"
   ]
  },
  {
   "cell_type": "code",
   "execution_count": 15,
   "id": "77534bff-10dd-4944-af16-fb90bff26006",
   "metadata": {
    "ExecuteTime": {
     "end_time": "2023-05-01T23:11:51.451001Z",
     "start_time": "2023-05-01T23:11:37.892982Z"
    }
   },
   "outputs": [
    {
     "name": "stdout",
     "output_type": "stream",
     "text": [
      "[1, 200, 1.2, 'Puru', True, (1+2j)]\n"
     ]
    }
   ],
   "source": [
    "print(l)"
   ]
  },
  {
   "cell_type": "code",
   "execution_count": 16,
   "id": "9b1cfbdc-a82d-4ca2-a83a-7b3038b78f55",
   "metadata": {
    "ExecuteTime": {
     "end_time": "2023-05-01T23:11:52.724941Z",
     "start_time": "2023-05-01T23:11:37.969985Z"
    }
   },
   "outputs": [],
   "source": [
    "l.append('append')"
   ]
  },
  {
   "cell_type": "code",
   "execution_count": 17,
   "id": "242c99cb-30c3-49c7-b227-4d22f4120b68",
   "metadata": {
    "ExecuteTime": {
     "end_time": "2023-05-01T23:11:52.725944Z",
     "start_time": "2023-05-01T23:11:37.999987Z"
    }
   },
   "outputs": [
    {
     "data": {
      "text/plain": [
       "[1, 200, 1.2, 'Puru', True, (1+2j), 'append']"
      ]
     },
     "execution_count": 17,
     "metadata": {},
     "output_type": "execute_result"
    }
   ],
   "source": [
    "l"
   ]
  },
  {
   "cell_type": "code",
   "execution_count": 18,
   "id": "d61b9605-cdca-4085-aad2-a73df2e066ce",
   "metadata": {
    "ExecuteTime": {
     "end_time": "2023-05-01T23:11:52.725944Z",
     "start_time": "2023-05-01T23:11:38.036985Z"
    }
   },
   "outputs": [
    {
     "data": {
      "text/plain": [
       "[1, 200, 1.2]"
      ]
     },
     "execution_count": 18,
     "metadata": {},
     "output_type": "execute_result"
    }
   ],
   "source": [
    "l[0:3]"
   ]
  },
  {
   "cell_type": "code",
   "execution_count": 19,
   "id": "0d1a3806-cb47-42b7-a63c-a0e4c225131c",
   "metadata": {
    "ExecuteTime": {
     "end_time": "2023-05-01T23:11:52.726941Z",
     "start_time": "2023-05-01T23:11:38.074989Z"
    }
   },
   "outputs": [
    {
     "data": {
      "text/plain": [
       "[1, 200]"
      ]
     },
     "execution_count": 19,
     "metadata": {},
     "output_type": "execute_result"
    }
   ],
   "source": [
    "l[0:2]"
   ]
  },
  {
   "cell_type": "code",
   "execution_count": 20,
   "id": "4d03f6d8-f737-4a74-959f-74c1aab0f8b2",
   "metadata": {
    "ExecuteTime": {
     "end_time": "2023-05-01T23:11:52.727956Z",
     "start_time": "2023-05-01T23:11:38.111988Z"
    }
   },
   "outputs": [
    {
     "data": {
      "text/plain": [
       "[1]"
      ]
     },
     "execution_count": 20,
     "metadata": {},
     "output_type": "execute_result"
    }
   ],
   "source": [
    "l[0::-1]"
   ]
  },
  {
   "cell_type": "code",
   "execution_count": 21,
   "id": "8346fdfa-d024-422b-9664-c113265f13d0",
   "metadata": {
    "ExecuteTime": {
     "end_time": "2023-05-01T23:11:52.752939Z",
     "start_time": "2023-05-01T23:11:38.138983Z"
    }
   },
   "outputs": [
    {
     "data": {
      "text/plain": [
       "'append'"
      ]
     },
     "execution_count": 21,
     "metadata": {},
     "output_type": "execute_result"
    }
   ],
   "source": [
    "l[-1]"
   ]
  },
  {
   "cell_type": "code",
   "execution_count": 22,
   "id": "9d8f2b9c-b111-40e6-b0bb-5f1b726c6cb6",
   "metadata": {
    "ExecuteTime": {
     "end_time": "2023-05-01T23:11:52.752939Z",
     "start_time": "2023-05-01T23:11:38.168990Z"
    }
   },
   "outputs": [
    {
     "data": {
      "text/plain": [
       "['append', (1+2j), True, 'Puru', 1.2, 200, 1]"
      ]
     },
     "execution_count": 22,
     "metadata": {},
     "output_type": "execute_result"
    }
   ],
   "source": [
    "# Reverse the List\n",
    "\n",
    "l[::-1]"
   ]
  },
  {
   "cell_type": "code",
   "execution_count": 23,
   "id": "c9973dde-a25e-4cfb-b720-1ec3009f554f",
   "metadata": {
    "ExecuteTime": {
     "end_time": "2023-05-01T23:11:52.753949Z",
     "start_time": "2023-05-01T23:11:38.200985Z"
    }
   },
   "outputs": [
    {
     "data": {
      "text/plain": [
       "[1, 200, 1.2, 'Puru', True, (1+2j), 'append']"
      ]
     },
     "execution_count": 23,
     "metadata": {},
     "output_type": "execute_result"
    }
   ],
   "source": [
    "l"
   ]
  },
  {
   "cell_type": "code",
   "execution_count": 24,
   "id": "4c74c782-5aa2-445e-b610-b8103ea843f4",
   "metadata": {
    "ExecuteTime": {
     "end_time": "2023-05-01T23:11:52.753949Z",
     "start_time": "2023-05-01T23:11:38.236990Z"
    }
   },
   "outputs": [
    {
     "data": {
      "text/plain": [
       "[1, 1.2, True, 'append']"
      ]
     },
     "execution_count": 24,
     "metadata": {},
     "output_type": "execute_result"
    }
   ],
   "source": [
    "#Slicing at Even Index\n",
    "\n",
    "l[::2]"
   ]
  },
  {
   "cell_type": "code",
   "execution_count": 25,
   "id": "2709c5f9-93fc-4a09-80e9-39b377954bba",
   "metadata": {
    "ExecuteTime": {
     "end_time": "2023-05-01T23:11:52.756956Z",
     "start_time": "2023-05-01T23:11:38.265985Z"
    }
   },
   "outputs": [
    {
     "data": {
      "text/plain": [
       "[1, 'Puru', 'append']"
      ]
     },
     "execution_count": 25,
     "metadata": {},
     "output_type": "execute_result"
    }
   ],
   "source": [
    "l[::3]"
   ]
  },
  {
   "cell_type": "code",
   "execution_count": 26,
   "id": "593a9a8f-a5a1-4d14-944d-b0a5f92e7b32",
   "metadata": {
    "ExecuteTime": {
     "end_time": "2023-05-01T23:11:52.756956Z",
     "start_time": "2023-05-01T23:11:38.294984Z"
    }
   },
   "outputs": [],
   "source": [
    "s = 'pwskills'"
   ]
  },
  {
   "cell_type": "code",
   "execution_count": 27,
   "id": "9dd083b5-0535-4481-8e2e-391e29aa44ba",
   "metadata": {
    "ExecuteTime": {
     "end_time": "2023-05-01T23:11:52.756956Z",
     "start_time": "2023-05-01T23:11:38.315988Z"
    }
   },
   "outputs": [],
   "source": [
    "#l+s"
   ]
  },
  {
   "cell_type": "code",
   "execution_count": 28,
   "id": "b5a0639c-18cb-4ef9-ade8-f90f8279127c",
   "metadata": {
    "ExecuteTime": {
     "end_time": "2023-05-01T23:11:52.777950Z",
     "start_time": "2023-05-01T23:11:38.341985Z"
    }
   },
   "outputs": [
    {
     "data": {
      "text/plain": [
       "['p', 'w', 's', 'k', 'i', 'l', 'l', 's']"
      ]
     },
     "execution_count": 28,
     "metadata": {},
     "output_type": "execute_result"
    }
   ],
   "source": [
    "list(s)"
   ]
  },
  {
   "cell_type": "code",
   "execution_count": 29,
   "id": "b09c809d-98d3-48ae-b928-747e37966fb9",
   "metadata": {
    "ExecuteTime": {
     "end_time": "2023-05-01T23:11:52.777950Z",
     "start_time": "2023-05-01T23:11:38.378993Z"
    }
   },
   "outputs": [
    {
     "data": {
      "text/plain": [
       "[1, 200, 1.2, 'Puru', True, (1+2j), 'append']"
      ]
     },
     "execution_count": 29,
     "metadata": {},
     "output_type": "execute_result"
    }
   ],
   "source": [
    "list(l)"
   ]
  },
  {
   "cell_type": "code",
   "execution_count": 30,
   "id": "de29e161-011e-447a-93aa-4d209ca59004",
   "metadata": {
    "ExecuteTime": {
     "end_time": "2023-05-01T23:11:52.778954Z",
     "start_time": "2023-05-01T23:11:38.419987Z"
    }
   },
   "outputs": [
    {
     "data": {
      "text/plain": [
       "['p',\n",
       " 'w',\n",
       " 's',\n",
       " 'k',\n",
       " 'i',\n",
       " 'l',\n",
       " 'l',\n",
       " 's',\n",
       " 1,\n",
       " 200,\n",
       " 1.2,\n",
       " 'Puru',\n",
       " True,\n",
       " (1+2j),\n",
       " 'append']"
      ]
     },
     "execution_count": 30,
     "metadata": {},
     "output_type": "execute_result"
    }
   ],
   "source": [
    "list(s) + l"
   ]
  },
  {
   "cell_type": "code",
   "execution_count": 31,
   "id": "821f4a1f-c484-43cc-b354-e461d3bbcef0",
   "metadata": {
    "ExecuteTime": {
     "end_time": "2023-05-01T23:11:52.778954Z",
     "start_time": "2023-05-01T23:11:38.454987Z"
    }
   },
   "outputs": [
    {
     "data": {
      "text/plain": [
       "[1, 200, 1.2, 'Puru', True, (1+2j), 'append']"
      ]
     },
     "execution_count": 31,
     "metadata": {},
     "output_type": "execute_result"
    }
   ],
   "source": [
    "l"
   ]
  },
  {
   "cell_type": "code",
   "execution_count": 32,
   "id": "8746d336-1662-4c83-9507-37c940cb2c97",
   "metadata": {
    "ExecuteTime": {
     "end_time": "2023-05-01T23:11:52.779953Z",
     "start_time": "2023-05-01T23:11:38.484984Z"
    }
   },
   "outputs": [
    {
     "data": {
      "text/plain": [
       "'pwskills'"
      ]
     },
     "execution_count": 32,
     "metadata": {},
     "output_type": "execute_result"
    }
   ],
   "source": [
    "s"
   ]
  },
  {
   "cell_type": "code",
   "execution_count": 33,
   "id": "a053426f-5416-4ab7-85ed-feb63cd5ca85",
   "metadata": {
    "ExecuteTime": {
     "end_time": "2023-05-01T23:11:52.779953Z",
     "start_time": "2023-05-01T23:11:38.516990Z"
    }
   },
   "outputs": [],
   "source": [
    "ss = list(s)"
   ]
  },
  {
   "cell_type": "code",
   "execution_count": 34,
   "id": "01f873a5-f5ec-4f38-a2c9-fe9cc8e021c3",
   "metadata": {
    "ExecuteTime": {
     "end_time": "2023-05-01T23:11:52.779953Z",
     "start_time": "2023-05-01T23:11:38.532990Z"
    }
   },
   "outputs": [
    {
     "data": {
      "text/plain": [
       "[1,\n",
       " 200,\n",
       " 1.2,\n",
       " 'Puru',\n",
       " True,\n",
       " (1+2j),\n",
       " 'append',\n",
       " 'p',\n",
       " 'w',\n",
       " 's',\n",
       " 'k',\n",
       " 'i',\n",
       " 'l',\n",
       " 'l',\n",
       " 's']"
      ]
     },
     "execution_count": 34,
     "metadata": {},
     "output_type": "execute_result"
    }
   ],
   "source": [
    "l + ss"
   ]
  },
  {
   "cell_type": "code",
   "execution_count": 35,
   "id": "e4ab6da8-d4ed-4c0b-9f08-1153c258f72c",
   "metadata": {
    "ExecuteTime": {
     "end_time": "2023-05-01T23:11:52.779953Z",
     "start_time": "2023-05-01T23:11:38.567987Z"
    }
   },
   "outputs": [],
   "source": [
    "l.append('pwskills')"
   ]
  },
  {
   "cell_type": "code",
   "execution_count": 36,
   "id": "dac248eb-c37c-44dd-aa67-7b939f77b10d",
   "metadata": {
    "ExecuteTime": {
     "end_time": "2023-05-01T23:11:52.779953Z",
     "start_time": "2023-05-01T23:11:38.596988Z"
    }
   },
   "outputs": [
    {
     "data": {
      "text/plain": [
       "[1, 200, 1.2, 'Puru', True, (1+2j), 'append', 'pwskills']"
      ]
     },
     "execution_count": 36,
     "metadata": {},
     "output_type": "execute_result"
    }
   ],
   "source": [
    "l"
   ]
  },
  {
   "cell_type": "code",
   "execution_count": 37,
   "id": "b6b4d7b4-c979-41c7-9e84-b67bc2fd5c5d",
   "metadata": {
    "ExecuteTime": {
     "end_time": "2023-05-01T23:11:52.780956Z",
     "start_time": "2023-05-01T23:11:38.626987Z"
    }
   },
   "outputs": [
    {
     "data": {
      "text/plain": [
       "3"
      ]
     },
     "execution_count": 37,
     "metadata": {},
     "output_type": "execute_result"
    }
   ],
   "source": [
    "l.index('Puru')"
   ]
  },
  {
   "cell_type": "code",
   "execution_count": 38,
   "id": "3e2f6856-b91a-48cf-a55f-ecafd1b7e453",
   "metadata": {
    "ExecuteTime": {
     "end_time": "2023-05-01T23:11:52.780956Z",
     "start_time": "2023-05-01T23:11:38.656988Z"
    }
   },
   "outputs": [
    {
     "data": {
      "text/plain": [
       "'Puru'"
      ]
     },
     "execution_count": 38,
     "metadata": {},
     "output_type": "execute_result"
    }
   ],
   "source": [
    "l[3]"
   ]
  },
  {
   "cell_type": "code",
   "execution_count": 39,
   "id": "a218f096-af8b-4a19-945e-8ae18f074b9f",
   "metadata": {
    "ExecuteTime": {
     "end_time": "2023-05-01T23:11:52.780956Z",
     "start_time": "2023-05-01T23:11:38.690990Z"
    }
   },
   "outputs": [
    {
     "data": {
      "text/plain": [
       "str"
      ]
     },
     "execution_count": 39,
     "metadata": {},
     "output_type": "execute_result"
    }
   ],
   "source": [
    "type(l[3])"
   ]
  },
  {
   "cell_type": "code",
   "execution_count": 40,
   "id": "7a2df8ef-1f8f-405a-a9af-0fcb61e6677b",
   "metadata": {
    "ExecuteTime": {
     "end_time": "2023-05-01T23:11:52.781972Z",
     "start_time": "2023-05-01T23:11:38.720989Z"
    }
   },
   "outputs": [
    {
     "data": {
      "text/plain": [
       "'Puru'"
      ]
     },
     "execution_count": 40,
     "metadata": {},
     "output_type": "execute_result"
    }
   ],
   "source": [
    "l[3]"
   ]
  },
  {
   "cell_type": "code",
   "execution_count": 41,
   "id": "bdedc65c-878f-4a9b-a21a-f62f29898d3d",
   "metadata": {
    "ExecuteTime": {
     "end_time": "2023-05-01T23:11:52.782945Z",
     "start_time": "2023-05-01T23:11:38.777992Z"
    }
   },
   "outputs": [
    {
     "data": {
      "text/plain": [
       "'Pu'"
      ]
     },
     "execution_count": 41,
     "metadata": {},
     "output_type": "execute_result"
    }
   ],
   "source": [
    "l[3][0:2]"
   ]
  },
  {
   "cell_type": "code",
   "execution_count": 42,
   "id": "731d8680-25d2-4035-91f4-7119b5040b09",
   "metadata": {
    "ExecuteTime": {
     "end_time": "2023-05-01T23:11:52.782945Z",
     "start_time": "2023-05-01T23:11:38.800990Z"
    }
   },
   "outputs": [
    {
     "data": {
      "text/plain": [
       "True"
      ]
     },
     "execution_count": 42,
     "metadata": {},
     "output_type": "execute_result"
    }
   ],
   "source": [
    "l[4]"
   ]
  },
  {
   "cell_type": "code",
   "execution_count": 43,
   "id": "a87e03dc-da6e-4b12-9da0-8b2db6d83137",
   "metadata": {
    "ExecuteTime": {
     "end_time": "2023-05-01T23:11:52.782945Z",
     "start_time": "2023-05-01T23:11:38.834986Z"
    }
   },
   "outputs": [
    {
     "data": {
      "text/plain": [
       "'True'"
      ]
     },
     "execution_count": 43,
     "metadata": {},
     "output_type": "execute_result"
    }
   ],
   "source": [
    "str(l[4])"
   ]
  },
  {
   "cell_type": "code",
   "execution_count": 44,
   "id": "9b753252-cb9c-43c8-870d-5df619a52beb",
   "metadata": {
    "ExecuteTime": {
     "end_time": "2023-05-01T23:11:52.782945Z",
     "start_time": "2023-05-01T23:11:38.869988Z"
    }
   },
   "outputs": [
    {
     "data": {
      "text/plain": [
       "str"
      ]
     },
     "execution_count": 44,
     "metadata": {},
     "output_type": "execute_result"
    }
   ],
   "source": [
    "type(str(l[4]))"
   ]
  },
  {
   "cell_type": "code",
   "execution_count": 45,
   "id": "5ca0fe11-2a8a-4d81-8e22-ef0c4edbae88",
   "metadata": {
    "ExecuteTime": {
     "end_time": "2023-05-01T23:11:52.787948Z",
     "start_time": "2023-05-01T23:11:38.904987Z"
    }
   },
   "outputs": [
    {
     "data": {
      "text/plain": [
       "bool"
      ]
     },
     "execution_count": 45,
     "metadata": {},
     "output_type": "execute_result"
    }
   ],
   "source": [
    "type(l[4])"
   ]
  },
  {
   "cell_type": "code",
   "execution_count": 46,
   "id": "86ea07a5-c5cc-41bb-ad63-d0fa5aadd132",
   "metadata": {
    "ExecuteTime": {
     "end_time": "2023-05-01T23:11:52.787948Z",
     "start_time": "2023-05-01T23:11:38.949986Z"
    }
   },
   "outputs": [
    {
     "data": {
      "text/plain": [
       "True"
      ]
     },
     "execution_count": 46,
     "metadata": {},
     "output_type": "execute_result"
    }
   ],
   "source": [
    "l[4]"
   ]
  },
  {
   "cell_type": "code",
   "execution_count": 47,
   "id": "427114cb-59ac-4fbe-a0d9-3326bc4b7967",
   "metadata": {
    "ExecuteTime": {
     "end_time": "2023-05-01T23:11:52.788950Z",
     "start_time": "2023-05-01T23:11:38.976988Z"
    }
   },
   "outputs": [
    {
     "data": {
      "text/plain": [
       "'Tr'"
      ]
     },
     "execution_count": 47,
     "metadata": {},
     "output_type": "execute_result"
    }
   ],
   "source": [
    "str(l[4])[0:2]"
   ]
  },
  {
   "cell_type": "code",
   "execution_count": 48,
   "id": "1ee6dc9a-e767-45f3-8a59-c6f2e2330140",
   "metadata": {
    "ExecuteTime": {
     "end_time": "2023-05-01T23:11:52.788950Z",
     "start_time": "2023-05-01T23:11:39.007988Z"
    }
   },
   "outputs": [],
   "source": [
    "l1 = [1, 2, 3]"
   ]
  },
  {
   "cell_type": "code",
   "execution_count": 49,
   "id": "c4b863ca-aa12-468c-975f-df116bbdc235",
   "metadata": {
    "ExecuteTime": {
     "end_time": "2023-05-01T23:11:52.788950Z",
     "start_time": "2023-05-01T23:11:39.042986Z"
    }
   },
   "outputs": [
    {
     "data": {
      "text/plain": [
       "[1, 200, 1.2, 'Puru', True, (1+2j), 'append', 'pwskills']"
      ]
     },
     "execution_count": 49,
     "metadata": {},
     "output_type": "execute_result"
    }
   ],
   "source": [
    "l"
   ]
  },
  {
   "cell_type": "code",
   "execution_count": 50,
   "id": "3faa156e-46a3-4c32-9f7a-5650152705bc",
   "metadata": {
    "ExecuteTime": {
     "end_time": "2023-05-01T23:11:52.788950Z",
     "start_time": "2023-05-01T23:11:39.072989Z"
    }
   },
   "outputs": [
    {
     "data": {
      "text/plain": [
       "[1, 2, 3]"
      ]
     },
     "execution_count": 50,
     "metadata": {},
     "output_type": "execute_result"
    }
   ],
   "source": [
    "l1"
   ]
  },
  {
   "cell_type": "code",
   "execution_count": 51,
   "id": "fbc03520-c347-401c-aec6-1c332fe913f1",
   "metadata": {
    "ExecuteTime": {
     "end_time": "2023-05-01T23:11:52.789956Z",
     "start_time": "2023-05-01T23:11:39.103989Z"
    }
   },
   "outputs": [
    {
     "data": {
      "text/plain": [
       "[1, 200, 1.2, 'Puru', True, (1+2j), 'append', 'pwskills', 1, 2, 3]"
      ]
     },
     "execution_count": 51,
     "metadata": {},
     "output_type": "execute_result"
    }
   ],
   "source": [
    "l + l1"
   ]
  },
  {
   "cell_type": "code",
   "execution_count": 52,
   "id": "f7e1558f-a1ce-4516-a20f-5b0fd3430c1b",
   "metadata": {
    "ExecuteTime": {
     "end_time": "2023-05-01T23:11:52.789956Z",
     "start_time": "2023-05-01T23:11:39.168983Z"
    }
   },
   "outputs": [
    {
     "data": {
      "text/plain": [
       "[1, 2, 3, 1, 2, 3, 1, 2, 3]"
      ]
     },
     "execution_count": 52,
     "metadata": {},
     "output_type": "execute_result"
    }
   ],
   "source": [
    "l1 * 3"
   ]
  },
  {
   "cell_type": "code",
   "execution_count": 53,
   "id": "1ec75672-e114-48fe-9cbe-3de84de985e0",
   "metadata": {
    "ExecuteTime": {
     "end_time": "2023-05-01T23:11:52.789956Z",
     "start_time": "2023-05-01T23:11:39.199986Z"
    }
   },
   "outputs": [
    {
     "data": {
      "text/plain": [
       "[1,\n",
       " 200,\n",
       " 1.2,\n",
       " 'Puru',\n",
       " True,\n",
       " (1+2j),\n",
       " 'append',\n",
       " 'pwskills',\n",
       " 1,\n",
       " 200,\n",
       " 1.2,\n",
       " 'Puru',\n",
       " True,\n",
       " (1+2j),\n",
       " 'append',\n",
       " 'pwskills',\n",
       " 1,\n",
       " 200,\n",
       " 1.2,\n",
       " 'Puru',\n",
       " True,\n",
       " (1+2j),\n",
       " 'append',\n",
       " 'pwskills']"
      ]
     },
     "execution_count": 53,
     "metadata": {},
     "output_type": "execute_result"
    }
   ],
   "source": [
    "l * 3"
   ]
  },
  {
   "cell_type": "code",
   "execution_count": 54,
   "id": "f36fe9ef-094b-4065-b5ce-6acf6288b1bf",
   "metadata": {
    "ExecuteTime": {
     "end_time": "2023-05-01T23:11:52.789956Z",
     "start_time": "2023-05-01T23:11:39.238011Z"
    }
   },
   "outputs": [],
   "source": [
    "l2 = ['*', '**', '***', '****', '*****']"
   ]
  },
  {
   "cell_type": "code",
   "execution_count": 55,
   "id": "51dbbecd-9d31-41b9-8df0-426a6d8cf86c",
   "metadata": {
    "ExecuteTime": {
     "end_time": "2023-05-01T23:11:52.790952Z",
     "start_time": "2023-05-01T23:11:39.259988Z"
    }
   },
   "outputs": [
    {
     "data": {
      "text/plain": [
       "['*',\n",
       " '**',\n",
       " '***',\n",
       " '****',\n",
       " '*****',\n",
       " '*',\n",
       " '**',\n",
       " '***',\n",
       " '****',\n",
       " '*****',\n",
       " '*',\n",
       " '**',\n",
       " '***',\n",
       " '****',\n",
       " '*****',\n",
       " '*',\n",
       " '**',\n",
       " '***',\n",
       " '****',\n",
       " '*****',\n",
       " '*',\n",
       " '**',\n",
       " '***',\n",
       " '****',\n",
       " '*****']"
      ]
     },
     "execution_count": 55,
     "metadata": {},
     "output_type": "execute_result"
    }
   ],
   "source": [
    "l2 * 5"
   ]
  },
  {
   "cell_type": "code",
   "execution_count": 56,
   "id": "cf5d3ab8-1f37-41cf-8d9c-005957d3c3c0",
   "metadata": {
    "ExecuteTime": {
     "end_time": "2023-05-01T23:11:52.790952Z",
     "start_time": "2023-05-01T23:11:39.299988Z"
    }
   },
   "outputs": [
    {
     "data": {
      "text/plain": [
       "8"
      ]
     },
     "execution_count": 56,
     "metadata": {},
     "output_type": "execute_result"
    }
   ],
   "source": [
    "len(l)"
   ]
  },
  {
   "cell_type": "code",
   "execution_count": 57,
   "id": "32463626-7003-404d-bdd6-ea36dfef21f3",
   "metadata": {
    "ExecuteTime": {
     "end_time": "2023-05-01T23:11:52.790952Z",
     "start_time": "2023-05-01T23:11:39.324990Z"
    }
   },
   "outputs": [
    {
     "data": {
      "text/plain": [
       "3"
      ]
     },
     "execution_count": 57,
     "metadata": {},
     "output_type": "execute_result"
    }
   ],
   "source": [
    "len(l1)"
   ]
  },
  {
   "cell_type": "code",
   "execution_count": 58,
   "id": "a45d701e-ba84-4eaf-ad52-070d54ae5842",
   "metadata": {
    "ExecuteTime": {
     "end_time": "2023-05-01T23:11:52.790952Z",
     "start_time": "2023-05-01T23:11:39.356986Z"
    }
   },
   "outputs": [
    {
     "data": {
      "text/plain": [
       "5"
      ]
     },
     "execution_count": 58,
     "metadata": {},
     "output_type": "execute_result"
    }
   ],
   "source": [
    "len(l2)"
   ]
  },
  {
   "cell_type": "code",
   "execution_count": 59,
   "id": "65575fc9-2616-49df-af2f-c9747aacd02f",
   "metadata": {
    "ExecuteTime": {
     "end_time": "2023-05-01T23:11:52.791953Z",
     "start_time": "2023-05-01T23:11:39.392991Z"
    }
   },
   "outputs": [
    {
     "data": {
      "text/plain": [
       "[1, 200, 1.2, 'Puru', True, (1+2j), 'append', 'pwskills']"
      ]
     },
     "execution_count": 59,
     "metadata": {},
     "output_type": "execute_result"
    }
   ],
   "source": [
    "l"
   ]
  },
  {
   "cell_type": "code",
   "execution_count": 60,
   "id": "cb7625ff-ffae-46e3-a01e-051c11e760c0",
   "metadata": {
    "ExecuteTime": {
     "end_time": "2023-05-01T23:11:52.791953Z",
     "start_time": "2023-05-01T23:11:39.426986Z"
    }
   },
   "outputs": [
    {
     "data": {
      "text/plain": [
       "[1, 2, 3]"
      ]
     },
     "execution_count": 60,
     "metadata": {},
     "output_type": "execute_result"
    }
   ],
   "source": [
    "l1"
   ]
  },
  {
   "cell_type": "code",
   "execution_count": 61,
   "id": "dc0f5f5e-c473-41f6-954e-2e968732fc9c",
   "metadata": {
    "ExecuteTime": {
     "end_time": "2023-05-01T23:11:52.791953Z",
     "start_time": "2023-05-01T23:11:39.479001Z"
    }
   },
   "outputs": [
    {
     "data": {
      "text/plain": [
       "['*', '**', '***', '****', '*****']"
      ]
     },
     "execution_count": 61,
     "metadata": {},
     "output_type": "execute_result"
    }
   ],
   "source": [
    "l2"
   ]
  },
  {
   "cell_type": "code",
   "execution_count": 62,
   "id": "265f4ae8-3a73-4d54-a859-c2ac6300539b",
   "metadata": {
    "ExecuteTime": {
     "end_time": "2023-05-01T23:11:52.794947Z",
     "start_time": "2023-05-01T23:11:39.542984Z"
    }
   },
   "outputs": [],
   "source": [
    "l.append(l1)"
   ]
  },
  {
   "cell_type": "code",
   "execution_count": 63,
   "id": "675d3831-98d4-47c5-ac48-a16a5a5de9fc",
   "metadata": {
    "ExecuteTime": {
     "end_time": "2023-05-01T23:11:52.795950Z",
     "start_time": "2023-05-01T23:11:39.686986Z"
    }
   },
   "outputs": [
    {
     "data": {
      "text/plain": [
       "[1, 200, 1.2, 'Puru', True, (1+2j), 'append', 'pwskills', [1, 2, 3]]"
      ]
     },
     "execution_count": 63,
     "metadata": {},
     "output_type": "execute_result"
    }
   ],
   "source": [
    "l"
   ]
  },
  {
   "cell_type": "code",
   "execution_count": 64,
   "id": "191cf239-207d-4cbc-ac4f-cf7ef7dd5c44",
   "metadata": {
    "ExecuteTime": {
     "end_time": "2023-05-01T23:11:52.795950Z",
     "start_time": "2023-05-01T23:11:39.793056Z"
    }
   },
   "outputs": [
    {
     "data": {
      "text/plain": [
       "'pwskills'"
      ]
     },
     "execution_count": 64,
     "metadata": {},
     "output_type": "execute_result"
    }
   ],
   "source": [
    "s"
   ]
  },
  {
   "cell_type": "code",
   "execution_count": 65,
   "id": "5c36c320-7175-4cc2-b6bc-94d4b196b0f6",
   "metadata": {
    "ExecuteTime": {
     "end_time": "2023-05-01T23:11:52.796948Z",
     "start_time": "2023-05-01T23:11:39.980294Z"
    }
   },
   "outputs": [],
   "source": [
    "l.append(l2)"
   ]
  },
  {
   "cell_type": "code",
   "execution_count": 66,
   "id": "03c89910-650a-4135-823d-6cd5d2317f41",
   "metadata": {
    "ExecuteTime": {
     "end_time": "2023-05-01T23:11:52.796948Z",
     "start_time": "2023-05-01T23:11:40.010659Z"
    }
   },
   "outputs": [
    {
     "data": {
      "text/plain": [
       "[1,\n",
       " 200,\n",
       " 1.2,\n",
       " 'Puru',\n",
       " True,\n",
       " (1+2j),\n",
       " 'append',\n",
       " 'pwskills',\n",
       " [1, 2, 3],\n",
       " ['*', '**', '***', '****', '*****']]"
      ]
     },
     "execution_count": 66,
     "metadata": {},
     "output_type": "execute_result"
    }
   ],
   "source": [
    "l"
   ]
  },
  {
   "cell_type": "code",
   "execution_count": 67,
   "id": "8f08fd87-77a8-4f26-b160-aa77b177d016",
   "metadata": {
    "ExecuteTime": {
     "end_time": "2023-05-01T23:11:52.797947Z",
     "start_time": "2023-05-01T23:11:40.040852Z"
    }
   },
   "outputs": [
    {
     "data": {
      "text/plain": [
       "[1,\n",
       " 200,\n",
       " 1.2,\n",
       " 'Puru',\n",
       " True,\n",
       " (1+2j),\n",
       " 'append',\n",
       " 'pwskills',\n",
       " [1, 2, 3],\n",
       " ['*', '**', '***', '****', '*****']]"
      ]
     },
     "execution_count": 67,
     "metadata": {},
     "output_type": "execute_result"
    }
   ],
   "source": [
    "l"
   ]
  },
  {
   "cell_type": "code",
   "execution_count": 68,
   "id": "e9d55923-2008-43cb-b6e3-92afd430e0e3",
   "metadata": {
    "ExecuteTime": {
     "end_time": "2023-05-01T23:11:52.798949Z",
     "start_time": "2023-05-01T23:11:40.080502Z"
    }
   },
   "outputs": [
    {
     "data": {
      "text/plain": [
       "[1, 2, 3]"
      ]
     },
     "execution_count": 68,
     "metadata": {},
     "output_type": "execute_result"
    }
   ],
   "source": [
    "l[8]"
   ]
  },
  {
   "cell_type": "code",
   "execution_count": 69,
   "id": "dfb5bb9a-5438-4e04-b332-6beee2674a71",
   "metadata": {
    "ExecuteTime": {
     "end_time": "2023-05-01T23:11:52.798949Z",
     "start_time": "2023-05-01T23:11:40.105606Z"
    }
   },
   "outputs": [
    {
     "data": {
      "text/plain": [
       "2"
      ]
     },
     "execution_count": 69,
     "metadata": {},
     "output_type": "execute_result"
    }
   ],
   "source": [
    "l[8][1]"
   ]
  },
  {
   "cell_type": "code",
   "execution_count": 70,
   "id": "da20727b-5a18-47d0-bed8-7d177241666f",
   "metadata": {
    "ExecuteTime": {
     "end_time": "2023-05-01T23:11:52.799989Z",
     "start_time": "2023-05-01T23:11:40.151258Z"
    }
   },
   "outputs": [
    {
     "data": {
      "text/plain": [
       "[1,\n",
       " 200,\n",
       " 1.2,\n",
       " 'Puru',\n",
       " True,\n",
       " (1+2j),\n",
       " 'append',\n",
       " 'pwskills',\n",
       " [1, 2, 3],\n",
       " ['*', '**', '***', '****', '*****']]"
      ]
     },
     "execution_count": 70,
     "metadata": {},
     "output_type": "execute_result"
    }
   ],
   "source": [
    "l"
   ]
  },
  {
   "cell_type": "code",
   "execution_count": 71,
   "id": "6c950591-70e3-456f-891a-24122c2b9b3e",
   "metadata": {
    "ExecuteTime": {
     "end_time": "2023-05-01T23:11:52.799989Z",
     "start_time": "2023-05-01T23:11:40.188954Z"
    }
   },
   "outputs": [],
   "source": [
    "l.extend('anand')"
   ]
  },
  {
   "cell_type": "code",
   "execution_count": 72,
   "id": "57ce422d-6cef-446c-8cf5-81bcded56a13",
   "metadata": {
    "ExecuteTime": {
     "end_time": "2023-05-01T23:11:52.799989Z",
     "start_time": "2023-05-01T23:11:40.218833Z"
    }
   },
   "outputs": [
    {
     "data": {
      "text/plain": [
       "[1,\n",
       " 200,\n",
       " 1.2,\n",
       " 'Puru',\n",
       " True,\n",
       " (1+2j),\n",
       " 'append',\n",
       " 'pwskills',\n",
       " [1, 2, 3],\n",
       " ['*', '**', '***', '****', '*****'],\n",
       " 'a',\n",
       " 'n',\n",
       " 'a',\n",
       " 'n',\n",
       " 'd']"
      ]
     },
     "execution_count": 72,
     "metadata": {},
     "output_type": "execute_result"
    }
   ],
   "source": [
    "l"
   ]
  },
  {
   "cell_type": "code",
   "execution_count": 73,
   "id": "f7cb00ce-51fa-41f7-97ed-4ba3cf0d0692",
   "metadata": {
    "ExecuteTime": {
     "end_time": "2023-05-01T23:11:52.808962Z",
     "start_time": "2023-05-01T23:11:40.246001Z"
    }
   },
   "outputs": [
    {
     "data": {
      "text/plain": [
       "[1, 2, 3]"
      ]
     },
     "execution_count": 73,
     "metadata": {},
     "output_type": "execute_result"
    }
   ],
   "source": [
    "l1"
   ]
  },
  {
   "cell_type": "code",
   "execution_count": 74,
   "metadata": {
    "ExecuteTime": {
     "end_time": "2023-05-01T23:11:52.809948Z",
     "start_time": "2023-05-01T23:11:40.272982Z"
    },
    "collapsed": false
   },
   "outputs": [],
   "source": [
    "l1.insert(1, \"Puru\")"
   ]
  },
  {
   "cell_type": "code",
   "execution_count": 75,
   "metadata": {
    "ExecuteTime": {
     "end_time": "2023-05-01T23:11:52.810944Z",
     "start_time": "2023-05-01T23:11:40.295992Z"
    },
    "collapsed": false
   },
   "outputs": [
    {
     "data": {
      "text/plain": [
       "[1, 'Puru', 2, 3]"
      ]
     },
     "execution_count": 75,
     "metadata": {},
     "output_type": "execute_result"
    }
   ],
   "source": [
    "l1"
   ]
  },
  {
   "cell_type": "code",
   "execution_count": 76,
   "metadata": {
    "ExecuteTime": {
     "end_time": "2023-05-01T23:11:52.848945Z",
     "start_time": "2023-05-01T23:11:40.323982Z"
    },
    "collapsed": false
   },
   "outputs": [],
   "source": [
    "l1.insert(0, \"Anand\")"
   ]
  },
  {
   "cell_type": "code",
   "execution_count": 77,
   "metadata": {
    "ExecuteTime": {
     "end_time": "2023-05-01T23:11:52.849949Z",
     "start_time": "2023-05-01T23:11:40.353986Z"
    },
    "collapsed": false
   },
   "outputs": [
    {
     "data": {
      "text/plain": [
       "['Anand', 1, 'Puru', 2, 3]"
      ]
     },
     "execution_count": 77,
     "metadata": {},
     "output_type": "execute_result"
    }
   ],
   "source": [
    "l1"
   ]
  },
  {
   "cell_type": "code",
   "execution_count": 78,
   "metadata": {
    "ExecuteTime": {
     "end_time": "2023-05-01T23:11:52.849949Z",
     "start_time": "2023-05-01T23:11:40.390980Z"
    },
    "collapsed": false
   },
   "outputs": [],
   "source": [
    "l1.insert(4, [1,2,3])"
   ]
  },
  {
   "cell_type": "code",
   "execution_count": 79,
   "metadata": {
    "ExecuteTime": {
     "end_time": "2023-05-01T23:11:52.850944Z",
     "start_time": "2023-05-01T23:11:40.401984Z"
    },
    "collapsed": false
   },
   "outputs": [
    {
     "data": {
      "text/plain": [
       "['Anand', 1, 'Puru', 2, [1, 2, 3], 3]"
      ]
     },
     "execution_count": 79,
     "metadata": {},
     "output_type": "execute_result"
    }
   ],
   "source": [
    "l1"
   ]
  },
  {
   "cell_type": "code",
   "execution_count": 80,
   "metadata": {
    "ExecuteTime": {
     "end_time": "2023-05-01T23:11:52.850944Z",
     "start_time": "2023-05-01T23:11:40.433983Z"
    },
    "collapsed": false
   },
   "outputs": [],
   "source": [
    "l1.insert(-1, 16)"
   ]
  },
  {
   "cell_type": "code",
   "execution_count": 81,
   "metadata": {
    "ExecuteTime": {
     "end_time": "2023-05-01T23:11:52.850944Z",
     "start_time": "2023-05-01T23:11:40.464982Z"
    },
    "collapsed": false
   },
   "outputs": [
    {
     "data": {
      "text/plain": [
       "['Anand', 1, 'Puru', 2, [1, 2, 3], 16, 3]"
      ]
     },
     "execution_count": 81,
     "metadata": {},
     "output_type": "execute_result"
    }
   ],
   "source": [
    "l1"
   ]
  },
  {
   "cell_type": "code",
   "execution_count": 82,
   "metadata": {
    "ExecuteTime": {
     "end_time": "2023-05-01T23:11:52.851950Z",
     "start_time": "2023-05-01T23:11:40.494978Z"
    },
    "collapsed": false
   },
   "outputs": [],
   "source": [
    "l1.insert(0, 16)"
   ]
  },
  {
   "cell_type": "code",
   "execution_count": 83,
   "metadata": {
    "ExecuteTime": {
     "end_time": "2023-05-01T23:11:52.851950Z",
     "start_time": "2023-05-01T23:11:40.512977Z"
    },
    "collapsed": false
   },
   "outputs": [
    {
     "data": {
      "text/plain": [
       "[16, 'Anand', 1, 'Puru', 2, [1, 2, 3], 16, 3]"
      ]
     },
     "execution_count": 83,
     "metadata": {},
     "output_type": "execute_result"
    }
   ],
   "source": [
    "l1"
   ]
  },
  {
   "cell_type": "code",
   "execution_count": 84,
   "metadata": {
    "ExecuteTime": {
     "end_time": "2023-05-01T23:11:52.851950Z",
     "start_time": "2023-05-01T23:11:40.543580Z"
    },
    "collapsed": false
   },
   "outputs": [
    {
     "data": {
      "text/plain": [
       "3"
      ]
     },
     "execution_count": 84,
     "metadata": {},
     "output_type": "execute_result"
    }
   ],
   "source": [
    "l1.pop()"
   ]
  },
  {
   "cell_type": "code",
   "execution_count": 85,
   "metadata": {
    "ExecuteTime": {
     "end_time": "2023-05-01T23:11:52.852947Z",
     "start_time": "2023-05-01T23:11:40.574584Z"
    },
    "collapsed": false
   },
   "outputs": [
    {
     "data": {
      "text/plain": [
       "'Puru'"
      ]
     },
     "execution_count": 85,
     "metadata": {},
     "output_type": "execute_result"
    }
   ],
   "source": [
    "l1.pop(3)"
   ]
  },
  {
   "cell_type": "code",
   "execution_count": 86,
   "metadata": {
    "ExecuteTime": {
     "end_time": "2023-05-01T23:11:52.852947Z",
     "start_time": "2023-05-01T23:11:40.606586Z"
    },
    "collapsed": false
   },
   "outputs": [
    {
     "data": {
      "text/plain": [
       "[16, 'Anand', 1, 2, [1, 2, 3], 16]"
      ]
     },
     "execution_count": 86,
     "metadata": {},
     "output_type": "execute_result"
    }
   ],
   "source": [
    "l1"
   ]
  },
  {
   "cell_type": "code",
   "execution_count": 87,
   "metadata": {
    "ExecuteTime": {
     "end_time": "2023-05-01T23:11:52.853946Z",
     "start_time": "2023-05-01T23:11:40.638577Z"
    },
    "collapsed": false
   },
   "outputs": [
    {
     "data": {
      "text/plain": [
       "[1, 2, 3]"
      ]
     },
     "execution_count": 87,
     "metadata": {},
     "output_type": "execute_result"
    }
   ],
   "source": [
    "l1.pop(4)"
   ]
  },
  {
   "cell_type": "code",
   "execution_count": 88,
   "metadata": {
    "ExecuteTime": {
     "end_time": "2023-05-01T23:11:52.853946Z",
     "start_time": "2023-05-01T23:11:40.670581Z"
    },
    "collapsed": false
   },
   "outputs": [
    {
     "data": {
      "text/plain": [
       "[16, 'Anand', 1, 2, 16]"
      ]
     },
     "execution_count": 88,
     "metadata": {},
     "output_type": "execute_result"
    }
   ],
   "source": [
    "l1"
   ]
  },
  {
   "cell_type": "code",
   "execution_count": 89,
   "metadata": {
    "ExecuteTime": {
     "end_time": "2023-05-01T23:11:52.853946Z",
     "start_time": "2023-05-01T23:11:40.700578Z"
    },
    "collapsed": false
   },
   "outputs": [],
   "source": [
    "l1.insert(2, \"Purushottam\")"
   ]
  },
  {
   "cell_type": "code",
   "execution_count": 90,
   "metadata": {
    "ExecuteTime": {
     "end_time": "2023-05-01T23:11:52.853946Z",
     "start_time": "2023-05-01T23:11:40.719580Z"
    },
    "collapsed": false
   },
   "outputs": [
    {
     "data": {
      "text/plain": [
       "['*', '**', '***', '****', '*****']"
      ]
     },
     "execution_count": 90,
     "metadata": {},
     "output_type": "execute_result"
    }
   ],
   "source": [
    "l2"
   ]
  },
  {
   "cell_type": "code",
   "execution_count": 91,
   "metadata": {
    "ExecuteTime": {
     "end_time": "2023-05-01T23:11:52.853946Z",
     "start_time": "2023-05-01T23:11:40.750583Z"
    },
    "collapsed": false
   },
   "outputs": [
    {
     "data": {
      "text/plain": [
       "[16, 'Anand', 'Purushottam', 1, 2, 16]"
      ]
     },
     "execution_count": 91,
     "metadata": {},
     "output_type": "execute_result"
    }
   ],
   "source": [
    "l1"
   ]
  },
  {
   "cell_type": "code",
   "execution_count": 92,
   "metadata": {
    "ExecuteTime": {
     "end_time": "2023-05-01T23:11:52.854944Z",
     "start_time": "2023-05-01T23:11:40.781583Z"
    },
    "collapsed": false
   },
   "outputs": [],
   "source": [
    "l1.remove(2)"
   ]
  },
  {
   "cell_type": "code",
   "execution_count": 93,
   "metadata": {
    "ExecuteTime": {
     "end_time": "2023-05-01T23:11:52.862948Z",
     "start_time": "2023-05-01T23:11:40.818360Z"
    },
    "collapsed": false
   },
   "outputs": [
    {
     "data": {
      "text/plain": [
       "[16, 'Anand', 'Purushottam', 1, 16]"
      ]
     },
     "execution_count": 93,
     "metadata": {},
     "output_type": "execute_result"
    }
   ],
   "source": [
    "l1"
   ]
  },
  {
   "cell_type": "code",
   "execution_count": 94,
   "metadata": {
    "ExecuteTime": {
     "end_time": "2023-05-01T23:11:52.862948Z",
     "start_time": "2023-05-01T23:11:40.843540Z"
    },
    "collapsed": false
   },
   "outputs": [],
   "source": [
    "l1.append([1,2,3])"
   ]
  },
  {
   "cell_type": "code",
   "execution_count": 95,
   "metadata": {
    "ExecuteTime": {
     "end_time": "2023-05-01T23:11:52.863955Z",
     "start_time": "2023-05-01T23:11:40.915537Z"
    },
    "collapsed": false
   },
   "outputs": [
    {
     "data": {
      "text/plain": [
       "[16, 'Anand', 'Purushottam', 1, 16, [1, 2, 3]]"
      ]
     },
     "execution_count": 95,
     "metadata": {},
     "output_type": "execute_result"
    }
   ],
   "source": [
    "l1"
   ]
  },
  {
   "cell_type": "code",
   "execution_count": 96,
   "metadata": {
    "ExecuteTime": {
     "end_time": "2023-05-01T23:11:52.863955Z",
     "start_time": "2023-05-01T23:11:40.989539Z"
    },
    "collapsed": false
   },
   "outputs": [
    {
     "data": {
      "text/plain": [
       "16"
      ]
     },
     "execution_count": 96,
     "metadata": {},
     "output_type": "execute_result"
    }
   ],
   "source": [
    "l1[4]"
   ]
  },
  {
   "cell_type": "code",
   "execution_count": 97,
   "metadata": {
    "ExecuteTime": {
     "end_time": "2023-05-01T23:11:52.863955Z",
     "start_time": "2023-05-01T23:11:41.064539Z"
    },
    "collapsed": false
   },
   "outputs": [],
   "source": [
    "#l1[4].remove(2)"
   ]
  },
  {
   "cell_type": "code",
   "execution_count": 98,
   "metadata": {
    "ExecuteTime": {
     "end_time": "2023-05-01T23:11:52.863955Z",
     "start_time": "2023-05-01T23:11:41.097538Z"
    },
    "collapsed": false
   },
   "outputs": [
    {
     "data": {
      "text/plain": [
       "[16, 'Anand', 'Purushottam', 1, 16, [1, 2, 3]]"
      ]
     },
     "execution_count": 98,
     "metadata": {},
     "output_type": "execute_result"
    }
   ],
   "source": [
    "l1"
   ]
  },
  {
   "cell_type": "code",
   "execution_count": 99,
   "metadata": {
    "ExecuteTime": {
     "end_time": "2023-05-01T23:11:52.864955Z",
     "start_time": "2023-05-01T23:11:41.133540Z"
    },
    "collapsed": false
   },
   "outputs": [
    {
     "data": {
      "text/plain": [
       "16"
      ]
     },
     "execution_count": 99,
     "metadata": {},
     "output_type": "execute_result"
    }
   ],
   "source": [
    "l1[0]"
   ]
  },
  {
   "cell_type": "code",
   "execution_count": 100,
   "metadata": {
    "ExecuteTime": {
     "end_time": "2023-05-01T23:11:52.864955Z",
     "start_time": "2023-05-01T23:11:41.157535Z"
    },
    "collapsed": false
   },
   "outputs": [
    {
     "data": {
      "text/plain": [
       "'Anand'"
      ]
     },
     "execution_count": 100,
     "metadata": {},
     "output_type": "execute_result"
    }
   ],
   "source": [
    "l1[1]"
   ]
  },
  {
   "cell_type": "code",
   "execution_count": 101,
   "metadata": {
    "ExecuteTime": {
     "end_time": "2023-05-01T23:11:52.864955Z",
     "start_time": "2023-05-01T23:11:41.188528Z"
    },
    "collapsed": false
   },
   "outputs": [],
   "source": [
    "#AttributeError: 'str' object has no attribute 'remove'\n",
    "\n",
    "# l1[1].remove(nd)"
   ]
  },
  {
   "cell_type": "code",
   "execution_count": 102,
   "metadata": {
    "ExecuteTime": {
     "end_time": "2023-05-01T23:11:52.864955Z",
     "start_time": "2023-05-01T23:11:41.204537Z"
    },
    "collapsed": false
   },
   "outputs": [
    {
     "data": {
      "text/plain": [
       "[16, 'Anand', 'Purushottam', 1, 16, [1, 2, 3]]"
      ]
     },
     "execution_count": 102,
     "metadata": {},
     "output_type": "execute_result"
    }
   ],
   "source": [
    "l1"
   ]
  },
  {
   "cell_type": "code",
   "execution_count": 103,
   "metadata": {
    "ExecuteTime": {
     "end_time": "2023-05-01T23:11:52.864955Z",
     "start_time": "2023-05-01T23:11:41.235542Z"
    },
    "collapsed": false
   },
   "outputs": [],
   "source": [
    "l1.insert(4, 2)"
   ]
  },
  {
   "cell_type": "code",
   "execution_count": 104,
   "metadata": {
    "ExecuteTime": {
     "end_time": "2023-05-01T23:11:52.864955Z",
     "start_time": "2023-05-01T23:11:41.267527Z"
    },
    "collapsed": false
   },
   "outputs": [
    {
     "data": {
      "text/plain": [
       "[16, 'Anand', 'Purushottam', 1, 2, 16, [1, 2, 3]]"
      ]
     },
     "execution_count": 104,
     "metadata": {},
     "output_type": "execute_result"
    }
   ],
   "source": [
    "l1"
   ]
  },
  {
   "cell_type": "code",
   "execution_count": 105,
   "metadata": {
    "ExecuteTime": {
     "end_time": "2023-05-01T23:11:52.865954Z",
     "start_time": "2023-05-01T23:11:41.300530Z"
    },
    "collapsed": false
   },
   "outputs": [
    {
     "data": {
      "text/plain": [
       "[[1, 2, 3], 16, 2, 1, 'Purushottam', 'Anand', 16]"
      ]
     },
     "execution_count": 105,
     "metadata": {},
     "output_type": "execute_result"
    }
   ],
   "source": [
    "l1[::-1]\n",
    "# Reverse the List - TEMPORARY"
   ]
  },
  {
   "cell_type": "code",
   "execution_count": 106,
   "metadata": {
    "ExecuteTime": {
     "end_time": "2023-05-01T23:11:52.865954Z",
     "start_time": "2023-05-01T23:11:41.333531Z"
    },
    "collapsed": false
   },
   "outputs": [
    {
     "data": {
      "text/plain": [
       "[16, 'Anand', 'Purushottam', 1, 2, 16, [1, 2, 3]]"
      ]
     },
     "execution_count": 106,
     "metadata": {},
     "output_type": "execute_result"
    }
   ],
   "source": [
    "l1"
   ]
  },
  {
   "cell_type": "code",
   "execution_count": 107,
   "metadata": {
    "ExecuteTime": {
     "end_time": "2023-05-01T23:11:52.865954Z",
     "start_time": "2023-05-01T23:11:41.362526Z"
    },
    "collapsed": false
   },
   "outputs": [],
   "source": [
    "l1.reverse()\n",
    "# Reverse the List - PERMANENT"
   ]
  },
  {
   "cell_type": "code",
   "execution_count": 108,
   "metadata": {
    "ExecuteTime": {
     "end_time": "2023-05-01T23:11:52.865954Z",
     "start_time": "2023-05-01T23:11:41.384527Z"
    },
    "collapsed": false
   },
   "outputs": [
    {
     "data": {
      "text/plain": [
       "[[1, 2, 3], 16, 2, 1, 'Purushottam', 'Anand', 16]"
      ]
     },
     "execution_count": 108,
     "metadata": {},
     "output_type": "execute_result"
    }
   ],
   "source": [
    "l1"
   ]
  },
  {
   "cell_type": "code",
   "execution_count": 109,
   "metadata": {
    "ExecuteTime": {
     "end_time": "2023-05-01T23:11:52.865954Z",
     "start_time": "2023-05-01T23:11:41.408536Z"
    },
    "collapsed": false
   },
   "outputs": [
    {
     "data": {
      "text/plain": [
       "[16, 'Anand', 'Purushottam', 1, 2, 16, [1, 2, 3]]"
      ]
     },
     "execution_count": 109,
     "metadata": {},
     "output_type": "execute_result"
    }
   ],
   "source": [
    "l1[::-1]"
   ]
  },
  {
   "cell_type": "code",
   "execution_count": 110,
   "metadata": {
    "ExecuteTime": {
     "end_time": "2023-05-01T23:11:52.866952Z",
     "start_time": "2023-05-01T23:11:41.438526Z"
    },
    "collapsed": false
   },
   "outputs": [
    {
     "data": {
      "text/plain": [
       "[[1, 2, 3], 16, 2, 1, 'Purushottam', 'Anand', 16]"
      ]
     },
     "execution_count": 110,
     "metadata": {},
     "output_type": "execute_result"
    }
   ],
   "source": [
    "l1"
   ]
  },
  {
   "cell_type": "code",
   "execution_count": 111,
   "metadata": {
    "ExecuteTime": {
     "end_time": "2023-05-01T23:11:52.866952Z",
     "start_time": "2023-05-01T23:11:41.471902Z"
    },
    "collapsed": false
   },
   "outputs": [
    {
     "data": {
      "text/plain": [
       "[[1, 2, 3], 16, 2, 1, 'Purushottam', 'Anand', 16]"
      ]
     },
     "execution_count": 111,
     "metadata": {},
     "output_type": "execute_result"
    }
   ],
   "source": [
    "l1"
   ]
  },
  {
   "cell_type": "code",
   "execution_count": 112,
   "metadata": {
    "ExecuteTime": {
     "end_time": "2023-05-01T23:11:52.866952Z",
     "start_time": "2023-05-01T23:11:41.502579Z"
    },
    "collapsed": false
   },
   "outputs": [],
   "source": [
    "l1.reverse()"
   ]
  },
  {
   "cell_type": "code",
   "execution_count": 113,
   "metadata": {
    "ExecuteTime": {
     "end_time": "2023-05-01T23:11:52.866952Z",
     "start_time": "2023-05-01T23:11:41.533263Z"
    },
    "collapsed": false
   },
   "outputs": [
    {
     "data": {
      "text/plain": [
       "[16, 'Anand', 'Purushottam', 1, 2, 16, [1, 2, 3]]"
      ]
     },
     "execution_count": 113,
     "metadata": {},
     "output_type": "execute_result"
    }
   ],
   "source": [
    "l1"
   ]
  },
  {
   "cell_type": "code",
   "execution_count": 114,
   "metadata": {
    "ExecuteTime": {
     "end_time": "2023-05-01T23:11:52.867952Z",
     "start_time": "2023-05-01T23:11:41.598352Z"
    },
    "collapsed": false
   },
   "outputs": [
    {
     "data": {
      "text/plain": [
       "[16, 'Anand', 'Purushottam', 1, 2, 16, [1, 2, 3]]"
      ]
     },
     "execution_count": 114,
     "metadata": {},
     "output_type": "execute_result"
    }
   ],
   "source": [
    "l1"
   ]
  },
  {
   "cell_type": "code",
   "execution_count": 115,
   "metadata": {
    "ExecuteTime": {
     "end_time": "2023-05-01T23:11:52.867952Z",
     "start_time": "2023-05-01T23:11:41.635004Z"
    },
    "collapsed": false
   },
   "outputs": [],
   "source": [
    "l1 = l1[::-1]\n",
    "# Reverse the List - PERMANENT"
   ]
  },
  {
   "cell_type": "code",
   "execution_count": 116,
   "metadata": {
    "ExecuteTime": {
     "end_time": "2023-05-01T23:11:52.867952Z",
     "start_time": "2023-05-01T23:11:41.667303Z"
    },
    "collapsed": false
   },
   "outputs": [
    {
     "data": {
      "text/plain": [
       "[[1, 2, 3], 16, 2, 1, 'Purushottam', 'Anand', 16]"
      ]
     },
     "execution_count": 116,
     "metadata": {},
     "output_type": "execute_result"
    }
   ],
   "source": [
    "l1"
   ]
  },
  {
   "cell_type": "code",
   "execution_count": 117,
   "metadata": {
    "ExecuteTime": {
     "end_time": "2023-05-01T23:11:52.867952Z",
     "start_time": "2023-05-01T23:11:41.689858Z"
    },
    "collapsed": false
   },
   "outputs": [],
   "source": [
    "l2 = [5,4,6,9,8,2,3,1,7,16,12,456,86554,1321654,50,661]"
   ]
  },
  {
   "cell_type": "code",
   "execution_count": 118,
   "metadata": {
    "ExecuteTime": {
     "end_time": "2023-05-01T23:11:52.867952Z",
     "start_time": "2023-05-01T23:11:41.729163Z"
    },
    "collapsed": false
   },
   "outputs": [],
   "source": [
    "l2.sort()"
   ]
  },
  {
   "cell_type": "code",
   "execution_count": 119,
   "metadata": {
    "ExecuteTime": {
     "end_time": "2023-05-01T23:11:52.867952Z",
     "start_time": "2023-05-01T23:11:41.754947Z"
    },
    "collapsed": false
   },
   "outputs": [
    {
     "data": {
      "text/plain": [
       "[1, 2, 3, 4, 5, 6, 7, 8, 9, 12, 16, 50, 456, 661, 86554, 1321654]"
      ]
     },
     "execution_count": 119,
     "metadata": {},
     "output_type": "execute_result"
    }
   ],
   "source": [
    "l2"
   ]
  },
  {
   "cell_type": "code",
   "execution_count": 120,
   "metadata": {
    "ExecuteTime": {
     "end_time": "2023-05-01T23:11:52.867952Z",
     "start_time": "2023-05-01T23:11:41.801946Z"
    },
    "collapsed": false
   },
   "outputs": [],
   "source": [
    "l2.append(16)"
   ]
  },
  {
   "cell_type": "code",
   "execution_count": 121,
   "metadata": {
    "ExecuteTime": {
     "end_time": "2023-05-01T23:11:52.869948Z",
     "start_time": "2023-05-01T23:11:41.834950Z"
    },
    "collapsed": false
   },
   "outputs": [
    {
     "data": {
      "text/plain": [
       "[1, 2, 3, 4, 5, 6, 7, 8, 9, 12, 16, 50, 456, 661, 86554, 1321654, 16]"
      ]
     },
     "execution_count": 121,
     "metadata": {},
     "output_type": "execute_result"
    }
   ],
   "source": [
    "l2"
   ]
  },
  {
   "cell_type": "code",
   "execution_count": 122,
   "metadata": {
    "ExecuteTime": {
     "end_time": "2023-05-01T23:11:52.869948Z",
     "start_time": "2023-05-01T23:11:41.920945Z"
    },
    "collapsed": false
   },
   "outputs": [],
   "source": [
    "l2.sort()"
   ]
  },
  {
   "cell_type": "code",
   "execution_count": 123,
   "metadata": {
    "ExecuteTime": {
     "end_time": "2023-05-01T23:11:52.869948Z",
     "start_time": "2023-05-01T23:11:41.949946Z"
    },
    "collapsed": false
   },
   "outputs": [
    {
     "data": {
      "text/plain": [
       "[1, 2, 3, 4, 5, 6, 7, 8, 9, 12, 16, 16, 50, 456, 661, 86554, 1321654]"
      ]
     },
     "execution_count": 123,
     "metadata": {},
     "output_type": "execute_result"
    }
   ],
   "source": [
    "l2"
   ]
  },
  {
   "cell_type": "code",
   "execution_count": 124,
   "metadata": {
    "ExecuteTime": {
     "end_time": "2023-05-01T23:11:52.869948Z",
     "start_time": "2023-05-01T23:11:41.978946Z"
    },
    "collapsed": false
   },
   "outputs": [
    {
     "data": {
      "text/plain": [
       "[[1, 2, 3], 16, 2, 1, 'Purushottam', 'Anand', 16]"
      ]
     },
     "execution_count": 124,
     "metadata": {},
     "output_type": "execute_result"
    }
   ],
   "source": [
    "l1"
   ]
  },
  {
   "cell_type": "code",
   "execution_count": 125,
   "metadata": {
    "ExecuteTime": {
     "end_time": "2023-05-01T23:11:52.869948Z",
     "start_time": "2023-05-01T23:11:42.007951Z"
    },
    "collapsed": false
   },
   "outputs": [],
   "source": [
    "# l1.sort()\n",
    "\n",
    "# TypeError: '<' not supported between instances of 'int' and 'list'"
   ]
  },
  {
   "cell_type": "code",
   "execution_count": 126,
   "metadata": {
    "ExecuteTime": {
     "end_time": "2023-05-01T23:11:52.870953Z",
     "start_time": "2023-05-01T23:11:42.038943Z"
    },
    "collapsed": false
   },
   "outputs": [],
   "source": [
    "l3 = ['a', 'g', 'f', 'b', 'd', 'z']"
   ]
  },
  {
   "cell_type": "code",
   "execution_count": 127,
   "metadata": {
    "ExecuteTime": {
     "end_time": "2023-05-01T23:11:52.870953Z",
     "start_time": "2023-05-01T23:11:42.070949Z"
    },
    "collapsed": false
   },
   "outputs": [],
   "source": [
    "l3.sort()"
   ]
  },
  {
   "cell_type": "code",
   "execution_count": 128,
   "metadata": {
    "ExecuteTime": {
     "end_time": "2023-05-01T23:11:52.870953Z",
     "start_time": "2023-05-01T23:11:42.086951Z"
    },
    "collapsed": false
   },
   "outputs": [
    {
     "data": {
      "text/plain": [
       "['a', 'b', 'd', 'f', 'g', 'z']"
      ]
     },
     "execution_count": 128,
     "metadata": {},
     "output_type": "execute_result"
    }
   ],
   "source": [
    "l3"
   ]
  },
  {
   "cell_type": "code",
   "execution_count": 129,
   "metadata": {
    "ExecuteTime": {
     "end_time": "2023-05-01T23:11:52.870953Z",
     "start_time": "2023-05-01T23:11:42.117950Z"
    },
    "collapsed": false
   },
   "outputs": [],
   "source": [
    "l4 = ['Anand', 'Puru', \"Data\", 'Science', 'PWSKILLS']"
   ]
  },
  {
   "cell_type": "code",
   "execution_count": 130,
   "metadata": {
    "ExecuteTime": {
     "end_time": "2023-05-01T23:11:52.870953Z",
     "start_time": "2023-05-01T23:11:42.138948Z"
    },
    "collapsed": false
   },
   "outputs": [
    {
     "name": "stdout",
     "output_type": "stream",
     "text": [
      "['Anand', 'Data', 'PWSKILLS', 'Puru', 'Science']\n"
     ]
    }
   ],
   "source": [
    "# Sort in Ascending Order\n",
    "\n",
    "l4.sort()\n",
    "print(l4)"
   ]
  },
  {
   "cell_type": "code",
   "execution_count": 131,
   "metadata": {
    "ExecuteTime": {
     "end_time": "2023-05-01T23:11:52.870953Z",
     "start_time": "2023-05-01T23:11:42.167946Z"
    },
    "collapsed": false
   },
   "outputs": [],
   "source": [
    "l3.sort(reverse=True)\n",
    "\n",
    "# Sort in Descending Order"
   ]
  },
  {
   "cell_type": "code",
   "execution_count": 132,
   "metadata": {
    "ExecuteTime": {
     "end_time": "2023-05-01T23:11:52.870953Z",
     "start_time": "2023-05-01T23:11:42.182946Z"
    },
    "collapsed": false
   },
   "outputs": [
    {
     "data": {
      "text/plain": [
       "['z', 'g', 'f', 'd', 'b', 'a']"
      ]
     },
     "execution_count": 132,
     "metadata": {},
     "output_type": "execute_result"
    }
   ],
   "source": [
    "l3"
   ]
  },
  {
   "cell_type": "code",
   "execution_count": 133,
   "metadata": {
    "ExecuteTime": {
     "end_time": "2023-05-01T23:11:52.871952Z",
     "start_time": "2023-05-01T23:11:42.218951Z"
    },
    "collapsed": false
   },
   "outputs": [
    {
     "data": {
      "text/plain": [
       "3"
      ]
     },
     "execution_count": 133,
     "metadata": {},
     "output_type": "execute_result"
    }
   ],
   "source": [
    "l3.index('d')"
   ]
  },
  {
   "cell_type": "code",
   "execution_count": 134,
   "metadata": {
    "ExecuteTime": {
     "end_time": "2023-05-01T23:11:52.871952Z",
     "start_time": "2023-05-01T23:11:42.252952Z"
    },
    "collapsed": false
   },
   "outputs": [
    {
     "data": {
      "text/plain": [
       "1"
      ]
     },
     "execution_count": 134,
     "metadata": {},
     "output_type": "execute_result"
    }
   ],
   "source": [
    "l3.count('d')"
   ]
  },
  {
   "cell_type": "code",
   "execution_count": 135,
   "metadata": {
    "ExecuteTime": {
     "end_time": "2023-05-01T23:11:52.871952Z",
     "start_time": "2023-05-01T23:11:42.283951Z"
    },
    "collapsed": false
   },
   "outputs": [],
   "source": [
    "l3.insert(0, 'd')"
   ]
  },
  {
   "cell_type": "code",
   "execution_count": 136,
   "metadata": {
    "ExecuteTime": {
     "end_time": "2023-05-01T23:11:52.871952Z",
     "start_time": "2023-05-01T23:11:42.300950Z"
    },
    "collapsed": false
   },
   "outputs": [
    {
     "data": {
      "text/plain": [
       "['d', 'z', 'g', 'f', 'd', 'b', 'a']"
      ]
     },
     "execution_count": 136,
     "metadata": {},
     "output_type": "execute_result"
    }
   ],
   "source": [
    "l3"
   ]
  },
  {
   "cell_type": "code",
   "execution_count": 137,
   "metadata": {
    "ExecuteTime": {
     "end_time": "2023-05-01T23:11:52.871952Z",
     "start_time": "2023-05-01T23:11:42.342949Z"
    },
    "collapsed": false
   },
   "outputs": [],
   "source": [
    "l3.sort()"
   ]
  },
  {
   "cell_type": "code",
   "execution_count": 138,
   "metadata": {
    "ExecuteTime": {
     "end_time": "2023-05-01T23:11:52.872957Z",
     "start_time": "2023-05-01T23:11:42.373950Z"
    },
    "collapsed": false
   },
   "outputs": [
    {
     "data": {
      "text/plain": [
       "['a', 'b', 'd', 'd', 'f', 'g', 'z']"
      ]
     },
     "execution_count": 138,
     "metadata": {},
     "output_type": "execute_result"
    }
   ],
   "source": [
    "l3"
   ]
  },
  {
   "cell_type": "code",
   "execution_count": 139,
   "metadata": {
    "ExecuteTime": {
     "end_time": "2023-05-01T23:11:52.872957Z",
     "start_time": "2023-05-01T23:11:42.404947Z"
    },
    "collapsed": false
   },
   "outputs": [
    {
     "data": {
      "text/plain": [
       "2"
      ]
     },
     "execution_count": 139,
     "metadata": {},
     "output_type": "execute_result"
    }
   ],
   "source": [
    "l3.count('d')"
   ]
  },
  {
   "cell_type": "code",
   "execution_count": 140,
   "metadata": {
    "ExecuteTime": {
     "end_time": "2023-05-01T23:11:52.872957Z",
     "start_time": "2023-05-01T23:11:42.435946Z"
    },
    "collapsed": false
   },
   "outputs": [
    {
     "data": {
      "text/plain": [
       "2"
      ]
     },
     "execution_count": 140,
     "metadata": {},
     "output_type": "execute_result"
    }
   ],
   "source": [
    "l3.index('d')"
   ]
  },
  {
   "cell_type": "code",
   "execution_count": 141,
   "metadata": {
    "ExecuteTime": {
     "end_time": "2023-05-01T23:11:52.873955Z",
     "start_time": "2023-05-01T23:11:42.468947Z"
    },
    "collapsed": false
   },
   "outputs": [
    {
     "data": {
      "text/plain": [
       "2"
      ]
     },
     "execution_count": 141,
     "metadata": {},
     "output_type": "execute_result"
    }
   ],
   "source": [
    "l3.index('d')"
   ]
  },
  {
   "cell_type": "code",
   "execution_count": 142,
   "metadata": {
    "ExecuteTime": {
     "end_time": "2023-05-01T23:11:52.873955Z",
     "start_time": "2023-05-01T23:11:42.500943Z"
    },
    "collapsed": false
   },
   "outputs": [
    {
     "name": "stdout",
     "output_type": "stream",
     "text": [
      "Anand\n"
     ]
    }
   ],
   "source": [
    "s = \"Anand\"\n",
    "print(s)"
   ]
  },
  {
   "cell_type": "code",
   "execution_count": 143,
   "metadata": {
    "ExecuteTime": {
     "end_time": "2023-05-01T23:11:52.873955Z",
     "start_time": "2023-05-01T23:11:42.532947Z"
    },
    "collapsed": false
   },
   "outputs": [
    {
     "data": {
      "text/plain": [
       "'A'"
      ]
     },
     "execution_count": 143,
     "metadata": {},
     "output_type": "execute_result"
    }
   ],
   "source": [
    "s[0]"
   ]
  },
  {
   "cell_type": "code",
   "execution_count": 144,
   "metadata": {
    "ExecuteTime": {
     "end_time": "2023-05-01T23:11:52.874942Z",
     "start_time": "2023-05-01T23:11:42.570962Z"
    },
    "collapsed": false
   },
   "outputs": [],
   "source": [
    "# s[0] = 'P'\n",
    "\n",
    "# TypeError: 'str' object does not support item assignment\n",
    "# String is  Immutable\n",
    "# Lists are Mutable"
   ]
  },
  {
   "cell_type": "markdown",
   "metadata": {
    "collapsed": false
   },
   "source": [
    "Mutable are those whose value can be changed by accessing there \"Index\"\n",
    "Here, value of String at 0th index can not be changed. So Strings are Im-mutable.\n",
    "We use \"replace()\" function to change value of any index in a string. It is called \"assignment\".\n",
    "But value of list at 0th Index can be changed. So, lists are Mutable"
   ]
  },
  {
   "cell_type": "code",
   "execution_count": 145,
   "metadata": {
    "ExecuteTime": {
     "end_time": "2023-05-01T23:11:52.876944Z",
     "start_time": "2023-05-01T23:11:42.595946Z"
    },
    "collapsed": false
   },
   "outputs": [],
   "source": [
    "l4 = [1,2,32,56,4,5,6,25]"
   ]
  },
  {
   "cell_type": "code",
   "execution_count": 146,
   "metadata": {
    "ExecuteTime": {
     "end_time": "2023-05-01T23:11:52.877943Z",
     "start_time": "2023-05-01T23:11:42.631947Z"
    },
    "collapsed": false
   },
   "outputs": [
    {
     "data": {
      "text/plain": [
       "[1, 2, 32, 56, 4, 5, 6, 25]"
      ]
     },
     "execution_count": 146,
     "metadata": {},
     "output_type": "execute_result"
    }
   ],
   "source": [
    "l4"
   ]
  },
  {
   "cell_type": "code",
   "execution_count": 147,
   "metadata": {
    "ExecuteTime": {
     "end_time": "2023-05-01T23:11:52.877943Z",
     "start_time": "2023-05-01T23:11:42.659943Z"
    },
    "collapsed": false
   },
   "outputs": [],
   "source": [
    "l4.sort()"
   ]
  },
  {
   "cell_type": "code",
   "execution_count": 148,
   "metadata": {
    "ExecuteTime": {
     "end_time": "2023-05-01T23:11:52.877943Z",
     "start_time": "2023-05-01T23:11:42.690946Z"
    },
    "collapsed": false
   },
   "outputs": [
    {
     "data": {
      "text/plain": [
       "[1, 2, 4, 5, 6, 25, 32, 56]"
      ]
     },
     "execution_count": 148,
     "metadata": {},
     "output_type": "execute_result"
    }
   ],
   "source": [
    "l4"
   ]
  },
  {
   "cell_type": "code",
   "execution_count": 149,
   "metadata": {
    "ExecuteTime": {
     "end_time": "2023-05-01T23:11:52.877943Z",
     "start_time": "2023-05-01T23:11:42.724945Z"
    },
    "collapsed": false
   },
   "outputs": [],
   "source": [
    "l4[0] = 10\n",
    "\n",
    "# Lists are Mutable"
   ]
  },
  {
   "cell_type": "code",
   "execution_count": 150,
   "metadata": {
    "ExecuteTime": {
     "end_time": "2023-05-01T23:11:52.877943Z",
     "start_time": "2023-05-01T23:11:42.751949Z"
    },
    "collapsed": false
   },
   "outputs": [
    {
     "data": {
      "text/plain": [
       "[10, 2, 4, 5, 6, 25, 32, 56]"
      ]
     },
     "execution_count": 150,
     "metadata": {},
     "output_type": "execute_result"
    }
   ],
   "source": [
    "l4"
   ]
  },
  {
   "cell_type": "code",
   "execution_count": 151,
   "metadata": {
    "ExecuteTime": {
     "end_time": "2023-05-01T23:11:52.878946Z",
     "start_time": "2023-05-01T23:11:42.785955Z"
    },
    "collapsed": false
   },
   "outputs": [
    {
     "data": {
      "text/plain": [
       "'Anand'"
      ]
     },
     "execution_count": 151,
     "metadata": {},
     "output_type": "execute_result"
    }
   ],
   "source": [
    "s"
   ]
  },
  {
   "cell_type": "code",
   "execution_count": 152,
   "metadata": {
    "ExecuteTime": {
     "end_time": "2023-05-01T23:11:52.878946Z",
     "start_time": "2023-05-01T23:11:42.818946Z"
    },
    "collapsed": false
   },
   "outputs": [
    {
     "data": {
      "text/plain": [
       "'Pnand'"
      ]
     },
     "execution_count": 152,
     "metadata": {},
     "output_type": "execute_result"
    }
   ],
   "source": [
    "s.replace('A', 'P')"
   ]
  },
  {
   "cell_type": "code",
   "execution_count": 153,
   "metadata": {
    "ExecuteTime": {
     "end_time": "2023-05-01T23:11:52.879947Z",
     "start_time": "2023-05-01T23:11:42.851942Z"
    },
    "collapsed": false
   },
   "outputs": [
    {
     "data": {
      "text/plain": [
       "'Anand'"
      ]
     },
     "execution_count": 153,
     "metadata": {},
     "output_type": "execute_result"
    }
   ],
   "source": [
    "s"
   ]
  },
  {
   "cell_type": "code",
   "execution_count": 154,
   "metadata": {
    "ExecuteTime": {
     "end_time": "2023-05-01T23:11:52.879947Z",
     "start_time": "2023-05-01T23:11:42.882948Z"
    },
    "collapsed": false
   },
   "outputs": [],
   "source": [
    "s = s.replace('A', 'P')"
   ]
  },
  {
   "cell_type": "code",
   "execution_count": 155,
   "metadata": {
    "ExecuteTime": {
     "end_time": "2023-05-01T23:11:52.880949Z",
     "start_time": "2023-05-01T23:11:42.896946Z"
    },
    "collapsed": false
   },
   "outputs": [
    {
     "data": {
      "text/plain": [
       "'Pnand'"
      ]
     },
     "execution_count": 155,
     "metadata": {},
     "output_type": "execute_result"
    }
   ],
   "source": [
    "s"
   ]
  },
  {
   "cell_type": "code",
   "execution_count": 156,
   "metadata": {
    "ExecuteTime": {
     "end_time": "2023-05-01T23:11:52.880949Z",
     "start_time": "2023-05-01T23:11:42.929950Z"
    },
    "collapsed": false
   },
   "outputs": [],
   "source": [
    "# Tuples\n",
    "\n",
    "t = (1,2,3, 'anand', True, 4.5)"
   ]
  },
  {
   "cell_type": "markdown",
   "metadata": {
    "collapsed": false
   },
   "source": [
    "TUPLES starts from here ---->\n",
    "\n",
    "Tuples are also kinda like List.\n",
    "Just the difference of Brackets in between them.\n",
    "Tuples can also store any type of data inside it.\n",
    "\n",
    "MAJOR DIFFERENCE between LIST & TUPLE is \"MUTABILITY\"\n",
    "LISTS are Mutable\n",
    "TUPLES are not Mutable\n",
    "\n",
    "Tuples are used like when we do not want the data to be changed or modified. Like storing Passwords."
   ]
  },
  {
   "cell_type": "code",
   "execution_count": 157,
   "metadata": {
    "ExecuteTime": {
     "end_time": "2023-05-01T23:11:52.881957Z",
     "start_time": "2023-05-01T23:11:42.961949Z"
    },
    "collapsed": false
   },
   "outputs": [
    {
     "data": {
      "text/plain": [
       "(1, 2, 3, 'anand', True, 4.5)"
      ]
     },
     "execution_count": 157,
     "metadata": {},
     "output_type": "execute_result"
    }
   ],
   "source": [
    "t"
   ]
  },
  {
   "cell_type": "code",
   "execution_count": 158,
   "metadata": {
    "ExecuteTime": {
     "end_time": "2023-05-01T23:11:52.881957Z",
     "start_time": "2023-05-01T23:11:42.991944Z"
    },
    "collapsed": false
   },
   "outputs": [
    {
     "data": {
      "text/plain": [
       "tuple"
      ]
     },
     "execution_count": 158,
     "metadata": {},
     "output_type": "execute_result"
    }
   ],
   "source": [
    "type(t)"
   ]
  },
  {
   "cell_type": "code",
   "execution_count": 159,
   "metadata": {
    "ExecuteTime": {
     "end_time": "2023-05-01T23:11:52.884944Z",
     "start_time": "2023-05-01T23:11:43.021944Z"
    },
    "collapsed": false
   },
   "outputs": [
    {
     "data": {
      "text/plain": [
       "6"
      ]
     },
     "execution_count": 159,
     "metadata": {},
     "output_type": "execute_result"
    }
   ],
   "source": [
    "len(t)"
   ]
  },
  {
   "cell_type": "code",
   "execution_count": 160,
   "metadata": {
    "ExecuteTime": {
     "end_time": "2023-05-01T23:11:52.885946Z",
     "start_time": "2023-05-01T23:11:43.051945Z"
    },
    "collapsed": false
   },
   "outputs": [
    {
     "data": {
      "text/plain": [
       "1"
      ]
     },
     "execution_count": 160,
     "metadata": {},
     "output_type": "execute_result"
    }
   ],
   "source": [
    "t[0]"
   ]
  },
  {
   "cell_type": "code",
   "execution_count": 161,
   "metadata": {
    "ExecuteTime": {
     "end_time": "2023-05-01T23:11:52.886947Z",
     "start_time": "2023-05-01T23:11:43.083949Z"
    },
    "collapsed": false
   },
   "outputs": [
    {
     "data": {
      "text/plain": [
       "4.5"
      ]
     },
     "execution_count": 161,
     "metadata": {},
     "output_type": "execute_result"
    }
   ],
   "source": [
    "t[-1]"
   ]
  },
  {
   "cell_type": "code",
   "execution_count": 162,
   "metadata": {
    "ExecuteTime": {
     "end_time": "2023-05-01T23:11:52.886947Z",
     "start_time": "2023-05-01T23:11:43.116951Z"
    },
    "collapsed": false
   },
   "outputs": [
    {
     "data": {
      "text/plain": [
       "(4.5, True, 'anand', 3, 2, 1)"
      ]
     },
     "execution_count": 162,
     "metadata": {},
     "output_type": "execute_result"
    }
   ],
   "source": [
    "t[::-1]"
   ]
  },
  {
   "cell_type": "code",
   "execution_count": 163,
   "metadata": {
    "ExecuteTime": {
     "end_time": "2023-05-01T23:11:52.887947Z",
     "start_time": "2023-05-01T23:11:43.149945Z"
    },
    "collapsed": false
   },
   "outputs": [
    {
     "data": {
      "text/plain": [
       "(1, 2, 3, 'anand', True, 4.5)"
      ]
     },
     "execution_count": 163,
     "metadata": {},
     "output_type": "execute_result"
    }
   ],
   "source": [
    "t"
   ]
  },
  {
   "cell_type": "code",
   "execution_count": 164,
   "metadata": {
    "ExecuteTime": {
     "end_time": "2023-05-01T23:11:52.887947Z",
     "start_time": "2023-05-01T23:11:43.183948Z"
    },
    "collapsed": false
   },
   "outputs": [
    {
     "data": {
      "text/plain": [
       "[10, 2, 4, 5, 6, 25, 32, 56]"
      ]
     },
     "execution_count": 164,
     "metadata": {},
     "output_type": "execute_result"
    }
   ],
   "source": [
    "l4"
   ]
  },
  {
   "cell_type": "code",
   "execution_count": 165,
   "metadata": {
    "ExecuteTime": {
     "end_time": "2023-05-01T23:11:52.888944Z",
     "start_time": "2023-05-01T23:11:43.218947Z"
    },
    "collapsed": false
   },
   "outputs": [
    {
     "name": "stdout",
     "output_type": "stream",
     "text": [
      "[1, 2, 4, 5, 6, 25, 32, 56]\n"
     ]
    }
   ],
   "source": [
    "l4[0] = 1\n",
    "print(l4)"
   ]
  },
  {
   "cell_type": "code",
   "execution_count": 166,
   "metadata": {
    "ExecuteTime": {
     "end_time": "2023-05-01T23:11:52.889946Z",
     "start_time": "2023-05-01T23:11:43.244950Z"
    },
    "collapsed": false
   },
   "outputs": [
    {
     "data": {
      "text/plain": [
       "(1, 2, 3, 'anand', True, 4.5)"
      ]
     },
     "execution_count": 166,
     "metadata": {},
     "output_type": "execute_result"
    }
   ],
   "source": [
    "t"
   ]
  },
  {
   "cell_type": "code",
   "execution_count": 167,
   "metadata": {
    "ExecuteTime": {
     "end_time": "2023-05-01T23:11:52.889946Z",
     "start_time": "2023-05-01T23:11:43.274950Z"
    },
    "collapsed": false
   },
   "outputs": [
    {
     "data": {
      "text/plain": [
       "1"
      ]
     },
     "execution_count": 167,
     "metadata": {},
     "output_type": "execute_result"
    }
   ],
   "source": [
    "t[0]"
   ]
  },
  {
   "cell_type": "code",
   "execution_count": 168,
   "metadata": {
    "ExecuteTime": {
     "end_time": "2023-05-01T23:11:52.892999Z",
     "start_time": "2023-05-01T23:11:43.311952Z"
    },
    "collapsed": false
   },
   "outputs": [
    {
     "data": {
      "text/plain": [
       "\" TypeError                                 Traceback (most recent call last)\\nCell In[206], line 1\\n----> 1 t[0] = 10\\n\\nTypeError: 'tuple' object does not support item assignment \""
      ]
     },
     "execution_count": 168,
     "metadata": {},
     "output_type": "execute_result"
    }
   ],
   "source": [
    "# t[0] = 10\n",
    "\n",
    "# ---------------------------------------------------------------------------\n",
    "''' TypeError                                 Traceback (most recent call last)\n",
    "Cell In[206], line 1\n",
    "----> 1 t[0] = 10\n",
    "\n",
    "TypeError: 'tuple' object does not support item assignment '''"
   ]
  },
  {
   "cell_type": "code",
   "execution_count": 169,
   "metadata": {
    "ExecuteTime": {
     "end_time": "2023-05-01T23:11:52.893945Z",
     "start_time": "2023-05-01T23:11:43.337947Z"
    },
    "collapsed": false
   },
   "outputs": [
    {
     "data": {
      "text/plain": [
       "(1, 2, 3, 'anand', True, 4.5)"
      ]
     },
     "execution_count": 169,
     "metadata": {},
     "output_type": "execute_result"
    }
   ],
   "source": [
    "t"
   ]
  },
  {
   "cell_type": "code",
   "execution_count": 170,
   "metadata": {
    "ExecuteTime": {
     "end_time": "2023-05-01T23:11:52.893945Z",
     "start_time": "2023-05-01T23:11:43.370948Z"
    },
    "collapsed": false
   },
   "outputs": [
    {
     "data": {
      "text/plain": [
       "True"
      ]
     },
     "execution_count": 170,
     "metadata": {},
     "output_type": "execute_result"
    }
   ],
   "source": [
    "t.__contains__('anand')"
   ]
  },
  {
   "cell_type": "code",
   "execution_count": 171,
   "metadata": {
    "ExecuteTime": {
     "end_time": "2023-05-01T23:11:52.894948Z",
     "start_time": "2023-05-01T23:11:43.402947Z"
    },
    "collapsed": false
   },
   "outputs": [
    {
     "data": {
      "text/plain": [
       "3"
      ]
     },
     "execution_count": 171,
     "metadata": {},
     "output_type": "execute_result"
    }
   ],
   "source": [
    "t.index('anand')"
   ]
  },
  {
   "cell_type": "code",
   "execution_count": 172,
   "metadata": {
    "ExecuteTime": {
     "end_time": "2023-05-01T23:11:52.895951Z",
     "start_time": "2023-05-01T23:11:43.434945Z"
    },
    "collapsed": false
   },
   "outputs": [
    {
     "data": {
      "text/plain": [
       "1"
      ]
     },
     "execution_count": 172,
     "metadata": {},
     "output_type": "execute_result"
    }
   ],
   "source": [
    "t.count(2)"
   ]
  },
  {
   "cell_type": "code",
   "execution_count": 173,
   "metadata": {
    "ExecuteTime": {
     "end_time": "2023-05-01T23:11:52.895951Z",
     "start_time": "2023-05-01T23:11:43.468947Z"
    },
    "collapsed": false
   },
   "outputs": [],
   "source": [
    "# SET --->\n",
    "\n",
    "s1 = {}"
   ]
  },
  {
   "cell_type": "markdown",
   "metadata": {
    "collapsed": false
   },
   "source": [
    "Concept of SET starts from here\n",
    "We use {} to create set\n",
    "Type of empty {} is \"dict\" - dictionary\n",
    "But, type of filled {1,2,3,4,5} data is \"Set\"\n",
    "\n",
    "See Examples below --->"
   ]
  },
  {
   "cell_type": "code",
   "execution_count": 174,
   "metadata": {
    "ExecuteTime": {
     "end_time": "2023-05-01T23:11:52.896949Z",
     "start_time": "2023-05-01T23:11:43.484944Z"
    },
    "collapsed": false
   },
   "outputs": [
    {
     "data": {
      "text/plain": [
       "dict"
      ]
     },
     "execution_count": 174,
     "metadata": {},
     "output_type": "execute_result"
    }
   ],
   "source": [
    "type(s1)"
   ]
  },
  {
   "cell_type": "code",
   "execution_count": 175,
   "metadata": {
    "ExecuteTime": {
     "end_time": "2023-05-01T23:11:52.896949Z",
     "start_time": "2023-05-01T23:11:43.512950Z"
    },
    "collapsed": false
   },
   "outputs": [
    {
     "name": "stdout",
     "output_type": "stream",
     "text": [
      "<class 'set'>\n"
     ]
    }
   ],
   "source": [
    "s2 = {1,2,3,4,5}\n",
    "print(type(s2))"
   ]
  },
  {
   "cell_type": "code",
   "execution_count": 176,
   "metadata": {
    "ExecuteTime": {
     "end_time": "2023-05-01T23:11:52.896949Z",
     "start_time": "2023-05-01T23:11:43.543947Z"
    },
    "collapsed": false
   },
   "outputs": [],
   "source": [
    "s3 = {1,2,3.45,'puru', True}"
   ]
  },
  {
   "cell_type": "code",
   "execution_count": 177,
   "metadata": {
    "ExecuteTime": {
     "end_time": "2023-05-01T23:11:52.900947Z",
     "start_time": "2023-05-01T23:11:43.573953Z"
    },
    "collapsed": false
   },
   "outputs": [
    {
     "data": {
      "text/plain": [
       "{1, 2, 3.45, 'puru'}"
      ]
     },
     "execution_count": 177,
     "metadata": {},
     "output_type": "execute_result"
    }
   ],
   "source": [
    "s3"
   ]
  },
  {
   "cell_type": "code",
   "execution_count": 178,
   "metadata": {
    "ExecuteTime": {
     "end_time": "2023-05-01T23:11:52.901947Z",
     "start_time": "2023-05-01T23:11:43.609951Z"
    },
    "collapsed": false
   },
   "outputs": [
    {
     "data": {
      "text/plain": [
       "\" s3 = {1,2,3.45,'puru', True, [1,2,3,5]}\\n\\n---------------------------------------------------------------------------\\nTypeError                                 Traceback (most recent call last)\\nCell In[220], line 1\\n----> 1 s3 = {1,2,3.45,'puru', True, [1,2,3,5]}\\n\\nTypeError: unhashable type: 'list' \""
      ]
     },
     "execution_count": 178,
     "metadata": {},
     "output_type": "execute_result"
    }
   ],
   "source": [
    "''' s3 = {1,2,3.45,'puru', True, [1,2,3,5]}\n",
    "\n",
    "---------------------------------------------------------------------------\n",
    "TypeError                                 Traceback (most recent call last)\n",
    "Cell In[220], line 1\n",
    "----> 1 s3 = {1,2,3.45,'puru', True, [1,2,3,5]}\n",
    "\n",
    "TypeError: unhashable type: 'list' '''"
   ]
  },
  {
   "cell_type": "markdown",
   "metadata": {
    "collapsed": false
   },
   "source": [
    "Set can only contain immutable data types.\n",
    "List is Mutable, so we can not store list in sets.\n",
    "Tuples are immutable, so we can store Tuples inside Sets"
   ]
  },
  {
   "cell_type": "code",
   "execution_count": 179,
   "metadata": {
    "ExecuteTime": {
     "end_time": "2023-05-01T23:11:52.901947Z",
     "start_time": "2023-05-01T23:11:43.638946Z"
    },
    "collapsed": false
   },
   "outputs": [
    {
     "name": "stdout",
     "output_type": "stream",
     "text": [
      "{16.12, 1, 2, 'puru', (1, 2, 3, 5), (12+6j)}\n"
     ]
    }
   ],
   "source": [
    "s3 = {1,2,16.12,'puru', True, (1,2,3,5), 12+6j}\n",
    "print(s3)"
   ]
  },
  {
   "cell_type": "code",
   "execution_count": 180,
   "metadata": {
    "ExecuteTime": {
     "end_time": "2023-05-01T23:11:52.901947Z",
     "start_time": "2023-05-01T23:11:43.668943Z"
    },
    "collapsed": false
   },
   "outputs": [],
   "source": [
    "s4 = {1,1,1,2,3,5,6,4,6,5,7,8,9,52,6,4,2,52}"
   ]
  },
  {
   "cell_type": "markdown",
   "metadata": {
    "collapsed": false
   },
   "source": [
    "Set only give Unique data\n",
    "Set remove all the duplicate data"
   ]
  },
  {
   "cell_type": "code",
   "execution_count": 181,
   "metadata": {
    "ExecuteTime": {
     "end_time": "2023-05-01T23:11:52.902950Z",
     "start_time": "2023-05-01T23:11:43.687956Z"
    },
    "collapsed": false
   },
   "outputs": [
    {
     "data": {
      "text/plain": [
       "{1, 2, 3, 4, 5, 6, 7, 8, 9, 52}"
      ]
     },
     "execution_count": 181,
     "metadata": {},
     "output_type": "execute_result"
    }
   ],
   "source": [
    "s4"
   ]
  },
  {
   "cell_type": "code",
   "execution_count": 182,
   "metadata": {
    "ExecuteTime": {
     "end_time": "2023-05-01T23:11:52.902950Z",
     "start_time": "2023-05-01T23:11:43.716948Z"
    },
    "collapsed": false
   },
   "outputs": [],
   "source": [
    "s4 = {1,1,1,2,3,5,6,4,6,5,7,8,9,52,6,4,2,52,'anand', 'anand'}"
   ]
  },
  {
   "cell_type": "code",
   "execution_count": 183,
   "metadata": {
    "ExecuteTime": {
     "end_time": "2023-05-01T23:11:52.903964Z",
     "start_time": "2023-05-01T23:11:43.752945Z"
    },
    "collapsed": false
   },
   "outputs": [
    {
     "data": {
      "text/plain": [
       "{1, 2, 3, 4, 5, 52, 6, 7, 8, 9, 'anand'}"
      ]
     },
     "execution_count": 183,
     "metadata": {},
     "output_type": "execute_result"
    }
   ],
   "source": [
    "s4"
   ]
  },
  {
   "cell_type": "code",
   "execution_count": 184,
   "metadata": {
    "ExecuteTime": {
     "end_time": "2023-05-01T23:11:52.903964Z",
     "start_time": "2023-05-01T23:11:43.804944Z"
    },
    "collapsed": false
   },
   "outputs": [],
   "source": [
    "s4 = {1,1,1,2,3,5,6,4,6,5,7,8,9,52,6,4,2,52,'anand','Anand'}"
   ]
  },
  {
   "cell_type": "markdown",
   "metadata": {
    "collapsed": false
   },
   "source": [
    "Python is a case-sensitive language.\n",
    "So it does not remove 'anand' & 'Anand' because there is difference between captial A and small a.\n",
    "But it removes same word 'anand' which is repeated 2 times"
   ]
  },
  {
   "cell_type": "code",
   "execution_count": 185,
   "metadata": {
    "ExecuteTime": {
     "end_time": "2023-05-01T23:11:52.903964Z",
     "start_time": "2023-05-01T23:11:43.829950Z"
    },
    "collapsed": false
   },
   "outputs": [
    {
     "data": {
      "text/plain": [
       "{1, 2, 3, 4, 5, 52, 6, 7, 8, 9, 'Anand', 'anand'}"
      ]
     },
     "execution_count": 185,
     "metadata": {},
     "output_type": "execute_result"
    }
   ],
   "source": [
    "s4"
   ]
  },
  {
   "cell_type": "code",
   "execution_count": 186,
   "metadata": {
    "ExecuteTime": {
     "end_time": "2023-05-01T23:11:52.904949Z",
     "start_time": "2023-05-01T23:11:43.863944Z"
    },
    "collapsed": false
   },
   "outputs": [],
   "source": [
    "l5 = [1,1,1,2,3,5,6,4,6,5,7,8,9,52,6,4,2,52,'anand', 'anand']"
   ]
  },
  {
   "cell_type": "code",
   "execution_count": 187,
   "metadata": {
    "ExecuteTime": {
     "end_time": "2023-05-01T23:11:52.906944Z",
     "start_time": "2023-05-01T23:11:43.891946Z"
    },
    "collapsed": false
   },
   "outputs": [
    {
     "data": {
      "text/plain": [
       "[1, 1, 1, 2, 3, 5, 6, 4, 6, 5, 7, 8, 9, 52, 6, 4, 2, 52, 'anand', 'anand']"
      ]
     },
     "execution_count": 187,
     "metadata": {},
     "output_type": "execute_result"
    }
   ],
   "source": [
    "l5"
   ]
  },
  {
   "cell_type": "code",
   "execution_count": 188,
   "metadata": {
    "ExecuteTime": {
     "end_time": "2023-05-01T23:11:52.906944Z",
     "start_time": "2023-05-01T23:11:43.922949Z"
    },
    "collapsed": false
   },
   "outputs": [],
   "source": [
    "l5 = list(set(l5))"
   ]
  },
  {
   "cell_type": "markdown",
   "metadata": {
    "collapsed": false
   },
   "source": [
    "Remove all duplicates of a List using Set"
   ]
  },
  {
   "cell_type": "code",
   "execution_count": 189,
   "metadata": {
    "ExecuteTime": {
     "end_time": "2023-05-01T23:11:52.907959Z",
     "start_time": "2023-05-01T23:11:43.953959Z"
    },
    "collapsed": false
   },
   "outputs": [
    {
     "data": {
      "text/plain": [
       "[1, 2, 3, 4, 5, 6, 7, 8, 9, 'anand', 52]"
      ]
     },
     "execution_count": 189,
     "metadata": {},
     "output_type": "execute_result"
    }
   ],
   "source": [
    "l5"
   ]
  },
  {
   "cell_type": "code",
   "execution_count": 190,
   "metadata": {
    "ExecuteTime": {
     "end_time": "2023-05-01T23:11:52.908950Z",
     "start_time": "2023-05-01T23:11:43.990944Z"
    },
    "collapsed": false
   },
   "outputs": [
    {
     "data": {
      "text/plain": [
       "{1, 2, 3, 4, 5, 52, 6, 7, 8, 9, 'Anand', 'anand'}"
      ]
     },
     "execution_count": 190,
     "metadata": {},
     "output_type": "execute_result"
    }
   ],
   "source": [
    "s4"
   ]
  },
  {
   "cell_type": "code",
   "execution_count": 191,
   "metadata": {
    "ExecuteTime": {
     "end_time": "2023-05-01T23:11:52.909945Z",
     "start_time": "2023-05-01T23:11:44.021948Z"
    },
    "collapsed": false
   },
   "outputs": [
    {
     "data": {
      "text/plain": [
       "\" s4[0]\\n\\n---------------------------------------------------------------------------\\nTypeError                                 Traceback (most recent call last)\\nCell In[247], line 1\\n----> 1 s4[0]\\n\\nTypeError: 'set' object is not subscriptable \""
      ]
     },
     "execution_count": 191,
     "metadata": {},
     "output_type": "execute_result"
    }
   ],
   "source": [
    "''' s4[0]\n",
    "\n",
    "---------------------------------------------------------------------------\n",
    "TypeError                                 Traceback (most recent call last)\n",
    "Cell In[247], line 1\n",
    "----> 1 s4[0]\n",
    "\n",
    "TypeError: 'set' object is not subscriptable '''"
   ]
  },
  {
   "cell_type": "code",
   "execution_count": 192,
   "metadata": {
    "ExecuteTime": {
     "end_time": "2023-05-01T23:11:52.909945Z",
     "start_time": "2023-05-01T23:11:44.050945Z"
    },
    "collapsed": false
   },
   "outputs": [
    {
     "data": {
      "text/plain": [
       "\" s4[::-1]\\n\\n---------------------------------------------------------------------------\\nTypeError                                 Traceback (most recent call last)\\nCell In[249], line 1\\n----> 1 s4[::-1]\\n\\nTypeError: 'set' object is not subscriptable \""
      ]
     },
     "execution_count": 192,
     "metadata": {},
     "output_type": "execute_result"
    }
   ],
   "source": [
    "''' s4[::-1]\n",
    "\n",
    "---------------------------------------------------------------------------\n",
    "TypeError                                 Traceback (most recent call last)\n",
    "Cell In[249], line 1\n",
    "----> 1 s4[::-1]\n",
    "\n",
    "TypeError: 'set' object is not subscriptable '''\n"
   ]
  },
  {
   "cell_type": "code",
   "execution_count": 193,
   "metadata": {
    "ExecuteTime": {
     "end_time": "2023-05-01T23:11:52.910948Z",
     "start_time": "2023-05-01T23:11:44.087943Z"
    },
    "collapsed": false
   },
   "outputs": [
    {
     "data": {
      "text/plain": [
       "(1, 2, 3, 'anand', True, 4.5)"
      ]
     },
     "execution_count": 193,
     "metadata": {},
     "output_type": "execute_result"
    }
   ],
   "source": [
    "t"
   ]
  },
  {
   "cell_type": "code",
   "execution_count": 194,
   "metadata": {
    "ExecuteTime": {
     "end_time": "2023-05-01T23:11:52.910948Z",
     "start_time": "2023-05-01T23:11:44.115947Z"
    },
    "collapsed": false
   },
   "outputs": [
    {
     "data": {
      "text/plain": [
       "{1, 2, 3, 4, 5, 52, 6, 7, 8, 9, 'Anand', 'anand'}"
      ]
     },
     "execution_count": 194,
     "metadata": {},
     "output_type": "execute_result"
    }
   ],
   "source": [
    "s4"
   ]
  },
  {
   "cell_type": "code",
   "execution_count": 195,
   "metadata": {
    "ExecuteTime": {
     "end_time": "2023-05-01T23:11:52.911949Z",
     "start_time": "2023-05-01T23:11:44.151947Z"
    },
    "collapsed": false
   },
   "outputs": [],
   "source": [
    "s4.add(50)"
   ]
  },
  {
   "cell_type": "code",
   "execution_count": 196,
   "metadata": {
    "ExecuteTime": {
     "end_time": "2023-05-01T23:11:52.911949Z",
     "start_time": "2023-05-01T23:11:44.176943Z"
    },
    "collapsed": false
   },
   "outputs": [
    {
     "data": {
      "text/plain": [
       "{1, 2, 3, 4, 5, 50, 52, 6, 7, 8, 9, 'Anand', 'anand'}"
      ]
     },
     "execution_count": 196,
     "metadata": {},
     "output_type": "execute_result"
    }
   ],
   "source": [
    "s4"
   ]
  },
  {
   "cell_type": "code",
   "execution_count": 197,
   "metadata": {
    "ExecuteTime": {
     "end_time": "2023-05-01T23:11:52.912943Z",
     "start_time": "2023-05-01T23:11:44.209949Z"
    },
    "collapsed": false
   },
   "outputs": [],
   "source": [
    "s4.remove(52)"
   ]
  },
  {
   "cell_type": "code",
   "execution_count": 198,
   "metadata": {
    "ExecuteTime": {
     "end_time": "2023-05-01T23:11:52.912943Z",
     "start_time": "2023-05-01T23:11:44.241943Z"
    },
    "collapsed": false
   },
   "outputs": [
    {
     "data": {
      "text/plain": [
       "{1, 2, 3, 4, 5, 50, 6, 7, 8, 9, 'Anand', 'anand'}"
      ]
     },
     "execution_count": 198,
     "metadata": {},
     "output_type": "execute_result"
    }
   ],
   "source": [
    "s4"
   ]
  },
  {
   "cell_type": "code",
   "execution_count": 199,
   "metadata": {
    "ExecuteTime": {
     "end_time": "2023-05-01T23:11:52.912943Z",
     "start_time": "2023-05-01T23:11:44.272954Z"
    },
    "collapsed": false
   },
   "outputs": [],
   "source": [
    "s5 = s4.copy()"
   ]
  },
  {
   "cell_type": "code",
   "execution_count": 200,
   "metadata": {
    "ExecuteTime": {
     "end_time": "2023-05-01T23:11:52.912943Z",
     "start_time": "2023-05-01T23:11:44.302948Z"
    },
    "collapsed": false
   },
   "outputs": [
    {
     "data": {
      "text/plain": [
       "{1, 2, 3, 4, 5, 50, 6, 7, 8, 9, 'Anand', 'anand'}"
      ]
     },
     "execution_count": 200,
     "metadata": {},
     "output_type": "execute_result"
    }
   ],
   "source": [
    "s5"
   ]
  },
  {
   "cell_type": "code",
   "execution_count": 201,
   "metadata": {
    "ExecuteTime": {
     "end_time": "2023-05-01T23:11:52.913959Z",
     "start_time": "2023-05-01T23:11:44.339945Z"
    },
    "collapsed": false
   },
   "outputs": [
    {
     "data": {
      "text/plain": [
       "1"
      ]
     },
     "execution_count": 201,
     "metadata": {},
     "output_type": "execute_result"
    }
   ],
   "source": [
    "s5.pop()"
   ]
  },
  {
   "cell_type": "code",
   "execution_count": 202,
   "metadata": {
    "ExecuteTime": {
     "end_time": "2023-05-01T23:11:52.913959Z",
     "start_time": "2023-05-01T23:11:44.372955Z"
    },
    "collapsed": false
   },
   "outputs": [
    {
     "data": {
      "text/plain": [
       "{2, 3, 4, 5, 50, 6, 7, 8, 9, 'Anand', 'anand'}"
      ]
     },
     "execution_count": 202,
     "metadata": {},
     "output_type": "execute_result"
    }
   ],
   "source": [
    "s5"
   ]
  },
  {
   "cell_type": "code",
   "execution_count": null,
   "metadata": {
    "ExecuteTime": {
     "end_time": "2023-05-01T23:11:52.914951Z",
     "start_time": "2023-05-01T23:11:44.399943Z"
    },
    "collapsed": false
   },
   "outputs": [],
   "source": []
  },
  {
   "cell_type": "code",
   "execution_count": 203,
   "metadata": {
    "ExecuteTime": {
     "end_time": "2023-05-01T23:11:52.914951Z",
     "start_time": "2023-05-01T23:11:44.431947Z"
    },
    "collapsed": false
   },
   "outputs": [],
   "source": [
    "s = 'this is a pen'\n",
    "l = list(s)"
   ]
  },
  {
   "cell_type": "code",
   "execution_count": 204,
   "metadata": {
    "ExecuteTime": {
     "end_time": "2023-05-01T23:11:52.914951Z",
     "start_time": "2023-05-01T23:11:44.465946Z"
    },
    "collapsed": false
   },
   "outputs": [
    {
     "data": {
      "text/plain": [
       "['t', 'h', 'i', 's', ' ', 'i', 's', ' ', 'a', ' ', 'p', 'e', 'n']"
      ]
     },
     "execution_count": 204,
     "metadata": {},
     "output_type": "execute_result"
    }
   ],
   "source": [
    "l"
   ]
  },
  {
   "cell_type": "code",
   "execution_count": 205,
   "metadata": {
    "ExecuteTime": {
     "end_time": "2023-05-01T23:11:52.914951Z",
     "start_time": "2023-05-01T23:11:44.499950Z"
    },
    "collapsed": false
   },
   "outputs": [],
   "source": [
    "l.reverse()"
   ]
  },
  {
   "cell_type": "code",
   "execution_count": 206,
   "metadata": {
    "ExecuteTime": {
     "end_time": "2023-05-01T23:11:52.914951Z",
     "start_time": "2023-05-01T23:11:44.513945Z"
    },
    "collapsed": false
   },
   "outputs": [
    {
     "data": {
      "text/plain": [
       "['n', 'e', 'p', ' ', 'a', ' ', 's', 'i', ' ', 's', 'i', 'h', 't']"
      ]
     },
     "execution_count": 206,
     "metadata": {},
     "output_type": "execute_result"
    }
   ],
   "source": [
    "l"
   ]
  },
  {
   "cell_type": "code",
   "execution_count": 207,
   "metadata": {
    "ExecuteTime": {
     "end_time": "2023-05-01T23:11:52.914951Z",
     "start_time": "2023-05-01T23:11:44.542950Z"
    },
    "collapsed": false
   },
   "outputs": [
    {
     "data": {
      "text/plain": [
       "'this is a pen'"
      ]
     },
     "execution_count": 207,
     "metadata": {},
     "output_type": "execute_result"
    }
   ],
   "source": [
    "s"
   ]
  },
  {
   "cell_type": "code",
   "execution_count": 208,
   "metadata": {
    "ExecuteTime": {
     "end_time": "2023-05-01T23:11:52.915954Z",
     "start_time": "2023-05-01T23:11:44.575945Z"
    },
    "collapsed": false
   },
   "outputs": [
    {
     "data": {
      "text/plain": [
       "['n', 'e', 'p', ' ', 'a', ' ', 's', 'i', ' ', 's', 'i', 'h', 't']"
      ]
     },
     "execution_count": 208,
     "metadata": {},
     "output_type": "execute_result"
    }
   ],
   "source": [
    "l"
   ]
  },
  {
   "cell_type": "code",
   "execution_count": 209,
   "metadata": {
    "ExecuteTime": {
     "end_time": "2023-05-01T23:11:52.915954Z",
     "start_time": "2023-05-01T23:11:44.617947Z"
    },
    "collapsed": false
   },
   "outputs": [
    {
     "name": "stdout",
     "output_type": "stream",
     "text": [
      "nep a si siht\n"
     ]
    }
   ],
   "source": [
    "string = \"this is a pen\"\n",
    "words = string.split()\n",
    "reversed_words = list(reversed(words))\n",
    "reversed_chars = [word[::-1] for word in reversed_words]\n",
    "reversed_string = \" \".join(reversed_chars)\n",
    "print(reversed_string)\n"
   ]
  },
  {
   "cell_type": "code",
   "execution_count": 210,
   "metadata": {
    "ExecuteTime": {
     "end_time": "2023-05-01T23:11:52.916941Z",
     "start_time": "2023-05-01T23:11:44.653948Z"
    },
    "collapsed": false
   },
   "outputs": [
    {
     "name": "stdout",
     "output_type": "stream",
     "text": [
      "pen a is this\n"
     ]
    }
   ],
   "source": [
    "string = \"this is a pen\"\n",
    "reversed_string = \" \".join(word[::-1] for word in string.split())\n",
    "print(reversed_string[::-1])\n"
   ]
  },
  {
   "cell_type": "code",
   "execution_count": 211,
   "metadata": {
    "ExecuteTime": {
     "end_time": "2023-05-01T23:11:52.916941Z",
     "start_time": "2023-05-01T23:11:44.688949Z"
    },
    "collapsed": false
   },
   "outputs": [
    {
     "name": "stdout",
     "output_type": "stream",
     "text": [
      "nep a si siht\n"
     ]
    }
   ],
   "source": [
    "string = \"this is a pen\"\n",
    "reversed_string = \" \".join(word[::-1] for word in string.split()[::-1])\n",
    "print(reversed_string)\n"
   ]
  },
  {
   "cell_type": "code",
   "execution_count": 212,
   "metadata": {
    "ExecuteTime": {
     "end_time": "2023-05-01T23:14:01.123653Z",
     "start_time": "2023-05-01T23:14:00.836654Z"
    },
    "collapsed": false
   },
   "outputs": [
    {
     "name": "stdout",
     "output_type": "stream",
     "text": [
      "siht si a nep\n"
     ]
    }
   ],
   "source": [
    "string = \"this is a pen\"\n",
    "words = string.split()\n",
    "reversed_words = [word[::-1] for word in words]\n",
    "reversed_string = \" \".join(reversed_words)\n",
    "print(reversed_string)\n"
   ]
  },
  {
   "cell_type": "code",
   "execution_count": 213,
   "metadata": {
    "ExecuteTime": {
     "end_time": "2023-05-01T23:14:56.081726Z",
     "start_time": "2023-05-01T23:14:55.995728Z"
    },
    "collapsed": false
   },
   "outputs": [],
   "source": [
    "s = \"this is a pen\""
   ]
  },
  {
   "cell_type": "code",
   "execution_count": 214,
   "metadata": {
    "ExecuteTime": {
     "end_time": "2023-05-01T23:14:58.264719Z",
     "start_time": "2023-05-01T23:14:57.782722Z"
    },
    "collapsed": false
   },
   "outputs": [
    {
     "data": {
      "text/plain": [
       "'this is a pen'"
      ]
     },
     "execution_count": 214,
     "metadata": {},
     "output_type": "execute_result"
    }
   ],
   "source": [
    "s"
   ]
  },
  {
   "cell_type": "code",
   "execution_count": 215,
   "metadata": {
    "ExecuteTime": {
     "end_time": "2023-05-01T23:15:04.879404Z",
     "start_time": "2023-05-01T23:15:04.380404Z"
    },
    "collapsed": false
   },
   "outputs": [
    {
     "data": {
      "text/plain": [
       "['t', 'h', 'i', 's', ' ', 'i', 's', ' ', 'a', ' ', 'p', 'e', 'n']"
      ]
     },
     "execution_count": 215,
     "metadata": {},
     "output_type": "execute_result"
    }
   ],
   "source": [
    "list(s)"
   ]
  },
  {
   "cell_type": "code",
   "execution_count": 216,
   "metadata": {
    "ExecuteTime": {
     "end_time": "2023-05-01T23:15:22.143775Z",
     "start_time": "2023-05-01T23:15:21.650721Z"
    },
    "collapsed": false
   },
   "outputs": [
    {
     "data": {
      "text/plain": [
       "['n', 'e', 'p', ' ', 'a', ' ', 's', 'i', ' ', 's', 'i', 'h', 't']"
      ]
     },
     "execution_count": 216,
     "metadata": {},
     "output_type": "execute_result"
    }
   ],
   "source": [
    "list(s[::-1])"
   ]
  },
  {
   "cell_type": "code",
   "execution_count": 217,
   "metadata": {
    "ExecuteTime": {
     "end_time": "2023-05-01T23:15:38.150701Z",
     "start_time": "2023-05-01T23:15:37.700707Z"
    },
    "collapsed": false
   },
   "outputs": [
    {
     "data": {
      "text/plain": [
       "['n', 'e', 'p', ' ', 'a', ' ', 's', 'i', ' ', 's', 'i', 'h', 't']"
      ]
     },
     "execution_count": 217,
     "metadata": {},
     "output_type": "execute_result"
    }
   ],
   "source": [
    "list(s)[::-1]"
   ]
  },
  {
   "cell_type": "code",
   "execution_count": 218,
   "metadata": {
    "ExecuteTime": {
     "end_time": "2023-05-01T23:16:13.004499Z",
     "start_time": "2023-05-01T23:16:12.821504Z"
    },
    "collapsed": false
   },
   "outputs": [
    {
     "data": {
      "text/plain": [
       "['n', 'e', 'p', ' ', 'a', ' ', 's', 'i', ' ', 's', 'i']"
      ]
     },
     "execution_count": 218,
     "metadata": {},
     "output_type": "execute_result"
    }
   ],
   "source": [
    "list(s)[:1:-1]"
   ]
  },
  {
   "cell_type": "code",
   "execution_count": 219,
   "metadata": {
    "ExecuteTime": {
     "end_time": "2023-05-01T23:16:22.250500Z",
     "start_time": "2023-05-01T23:16:21.861516Z"
    },
    "collapsed": false
   },
   "outputs": [
    {
     "data": {
      "text/plain": [
       "['n', 'e', 'p', ' ', 'a', ' ', 's', 'i', ' ', 's', 'i', 'h', 't']"
      ]
     },
     "execution_count": 219,
     "metadata": {},
     "output_type": "execute_result"
    }
   ],
   "source": [
    "l"
   ]
  },
  {
   "cell_type": "code",
   "execution_count": 220,
   "metadata": {
    "ExecuteTime": {
     "end_time": "2023-05-01T23:16:58.056510Z",
     "start_time": "2023-05-01T23:16:57.245510Z"
    },
    "collapsed": false
   },
   "outputs": [
    {
     "data": {
      "text/plain": [
       "\"['n', 'e', 'p', ' ', 'a', ' ', 's', 'i', ' ', 's', 'i', 'h', 't']\""
      ]
     },
     "execution_count": 220,
     "metadata": {},
     "output_type": "execute_result"
    }
   ],
   "source": [
    "str(l)"
   ]
  },
  {
   "cell_type": "code",
   "execution_count": 221,
   "metadata": {
    "ExecuteTime": {
     "end_time": "2023-05-01T23:18:54.962180Z",
     "start_time": "2023-05-01T23:18:54.735186Z"
    },
    "collapsed": false
   },
   "outputs": [
    {
     "data": {
      "text/plain": [
       "['n', 'e', 'p', ' ', 'a', ' ', 's', 'i', ' ', 's', 'i', 'h', 't']"
      ]
     },
     "execution_count": 221,
     "metadata": {},
     "output_type": "execute_result"
    }
   ],
   "source": [
    "l"
   ]
  },
  {
   "cell_type": "code",
   "execution_count": 222,
   "metadata": {
    "ExecuteTime": {
     "end_time": "2023-05-01T23:19:02.022178Z",
     "start_time": "2023-05-01T23:19:01.822179Z"
    },
    "collapsed": false
   },
   "outputs": [
    {
     "data": {
      "text/plain": [
       "3"
      ]
     },
     "execution_count": 222,
     "metadata": {},
     "output_type": "execute_result"
    }
   ],
   "source": [
    "l.count(' ')"
   ]
  },
  {
   "cell_type": "code",
   "execution_count": 223,
   "metadata": {
    "ExecuteTime": {
     "end_time": "2023-05-01T23:19:03.901175Z",
     "start_time": "2023-05-01T23:19:03.584188Z"
    },
    "collapsed": false
   },
   "outputs": [],
   "source": [
    "l1 = l.remove(' ')"
   ]
  },
  {
   "cell_type": "code",
   "execution_count": 224,
   "metadata": {
    "ExecuteTime": {
     "end_time": "2023-05-01T23:19:37.671428Z",
     "start_time": "2023-05-01T23:19:37.483878Z"
    },
    "collapsed": false
   },
   "outputs": [
    {
     "data": {
      "text/plain": [
       "['n', 'e', 'p', 'a', ' ', 's', 'i', ' ', 's', 'i', 'h', 't']"
      ]
     },
     "execution_count": 224,
     "metadata": {},
     "output_type": "execute_result"
    }
   ],
   "source": [
    "l"
   ]
  },
  {
   "cell_type": "code",
   "execution_count": 225,
   "metadata": {
    "ExecuteTime": {
     "end_time": "2023-05-01T23:19:52.918038Z",
     "start_time": "2023-05-01T23:19:52.681047Z"
    },
    "collapsed": false
   },
   "outputs": [],
   "source": [
    "l.append(' ')"
   ]
  },
  {
   "cell_type": "code",
   "execution_count": 226,
   "metadata": {
    "ExecuteTime": {
     "end_time": "2023-05-01T23:19:56.561812Z",
     "start_time": "2023-05-01T23:19:56.247818Z"
    },
    "collapsed": false
   },
   "outputs": [
    {
     "data": {
      "text/plain": [
       "['n', 'e', 'p', 'a', ' ', 's', 'i', ' ', 's', 'i', 'h', 't', ' ']"
      ]
     },
     "execution_count": 226,
     "metadata": {},
     "output_type": "execute_result"
    }
   ],
   "source": [
    "l"
   ]
  },
  {
   "cell_type": "code",
   "execution_count": 227,
   "metadata": {
    "ExecuteTime": {
     "end_time": "2023-05-01T23:20:05.454144Z",
     "start_time": "2023-05-01T23:20:04.881155Z"
    },
    "collapsed": false
   },
   "outputs": [
    {
     "data": {
      "text/plain": [
       "' '"
      ]
     },
     "execution_count": 227,
     "metadata": {},
     "output_type": "execute_result"
    }
   ],
   "source": [
    "l.pop()"
   ]
  },
  {
   "cell_type": "code",
   "execution_count": 228,
   "metadata": {
    "ExecuteTime": {
     "end_time": "2023-05-01T23:20:08.076152Z",
     "start_time": "2023-05-01T23:20:07.516149Z"
    },
    "collapsed": false
   },
   "outputs": [
    {
     "data": {
      "text/plain": [
       "['n', 'e', 'p', 'a', ' ', 's', 'i', ' ', 's', 'i', 'h', 't']"
      ]
     },
     "execution_count": 228,
     "metadata": {},
     "output_type": "execute_result"
    }
   ],
   "source": [
    "l"
   ]
  },
  {
   "cell_type": "code",
   "execution_count": 229,
   "metadata": {
    "ExecuteTime": {
     "end_time": "2023-05-01T23:21:44.806357Z",
     "start_time": "2023-05-01T23:21:44.693507Z"
    },
    "collapsed": false
   },
   "outputs": [],
   "source": [
    "l.insert(4,' ')"
   ]
  },
  {
   "cell_type": "code",
   "execution_count": 230,
   "metadata": {
    "ExecuteTime": {
     "end_time": "2023-05-01T23:21:46.279335Z",
     "start_time": "2023-05-01T23:21:45.974338Z"
    },
    "collapsed": false
   },
   "outputs": [
    {
     "data": {
      "text/plain": [
       "['n', 'e', 'p', 'a', ' ', ' ', 's', 'i', ' ', 's', 'i', 'h', 't']"
      ]
     },
     "execution_count": 230,
     "metadata": {},
     "output_type": "execute_result"
    }
   ],
   "source": [
    "l"
   ]
  },
  {
   "cell_type": "code",
   "execution_count": 231,
   "metadata": {
    "ExecuteTime": {
     "end_time": "2023-05-01T23:22:40.122532Z",
     "start_time": "2023-05-01T23:22:39.653535Z"
    },
    "collapsed": false
   },
   "outputs": [],
   "source": [
    "s = \"this is a pen\""
   ]
  },
  {
   "cell_type": "code",
   "execution_count": 232,
   "metadata": {
    "ExecuteTime": {
     "end_time": "2023-05-01T23:22:42.380528Z",
     "start_time": "2023-05-01T23:22:42.066535Z"
    },
    "collapsed": false
   },
   "outputs": [
    {
     "data": {
      "text/plain": [
       "'this is a pen'"
      ]
     },
     "execution_count": 232,
     "metadata": {},
     "output_type": "execute_result"
    }
   ],
   "source": [
    "s"
   ]
  },
  {
   "cell_type": "code",
   "execution_count": 233,
   "metadata": {
    "ExecuteTime": {
     "end_time": "2023-05-01T23:23:52.716300Z",
     "start_time": "2023-05-01T23:23:52.592304Z"
    },
    "collapsed": false
   },
   "outputs": [
    {
     "data": {
      "text/plain": [
       "''"
      ]
     },
     "execution_count": 233,
     "metadata": {},
     "output_type": "execute_result"
    }
   ],
   "source": [
    "s.removesuffix(\"this is a pen\")"
   ]
  },
  {
   "cell_type": "code",
   "execution_count": 234,
   "metadata": {
    "ExecuteTime": {
     "end_time": "2023-05-01T23:23:54.906302Z",
     "start_time": "2023-05-01T23:23:54.683309Z"
    },
    "collapsed": false
   },
   "outputs": [
    {
     "data": {
      "text/plain": [
       "'this is a pen'"
      ]
     },
     "execution_count": 234,
     "metadata": {},
     "output_type": "execute_result"
    }
   ],
   "source": [
    "s"
   ]
  },
  {
   "cell_type": "code",
   "execution_count": 235,
   "metadata": {
    "ExecuteTime": {
     "end_time": "2023-05-01T23:24:04.256301Z",
     "start_time": "2023-05-01T23:24:03.728311Z"
    },
    "collapsed": false
   },
   "outputs": [],
   "source": [
    "s = \"this is a pen\""
   ]
  },
  {
   "cell_type": "code",
   "execution_count": 236,
   "metadata": {
    "ExecuteTime": {
     "end_time": "2023-05-01T23:27:27.988479Z",
     "start_time": "2023-05-01T23:27:27.822478Z"
    },
    "collapsed": false
   },
   "outputs": [
    {
     "data": {
      "text/plain": [
       "False"
      ]
     },
     "execution_count": 236,
     "metadata": {},
     "output_type": "execute_result"
    }
   ],
   "source": [
    "s.endswith('t')"
   ]
  },
  {
   "cell_type": "code",
   "execution_count": 237,
   "metadata": {
    "ExecuteTime": {
     "end_time": "2023-05-01T23:27:48.291995Z",
     "start_time": "2023-05-01T23:27:47.983998Z"
    },
    "collapsed": false
   },
   "outputs": [
    {
     "data": {
      "text/plain": [
       "['t', 'h', 'i', 's', ' ', 'i', 's', ' ', 'a', ' ', 'p', 'e', 'n']"
      ]
     },
     "execution_count": 237,
     "metadata": {},
     "output_type": "execute_result"
    }
   ],
   "source": [
    "list(s)"
   ]
  },
  {
   "cell_type": "code",
   "execution_count": 238,
   "metadata": {
    "ExecuteTime": {
     "end_time": "2023-05-01T23:28:41.336794Z",
     "start_time": "2023-05-01T23:28:41.105294Z"
    },
    "collapsed": false
   },
   "outputs": [],
   "source": [
    "l = list(s)[::-1]"
   ]
  },
  {
   "cell_type": "code",
   "execution_count": 239,
   "metadata": {
    "ExecuteTime": {
     "end_time": "2023-05-01T23:28:43.832801Z",
     "start_time": "2023-05-01T23:28:43.638798Z"
    },
    "collapsed": false
   },
   "outputs": [
    {
     "data": {
      "text/plain": [
       "['n', 'e', 'p', ' ', 'a', ' ', 's', 'i', ' ', 's', 'i', 'h', 't']"
      ]
     },
     "execution_count": 239,
     "metadata": {},
     "output_type": "execute_result"
    }
   ],
   "source": [
    "l"
   ]
  },
  {
   "cell_type": "code",
   "execution_count": 240,
   "metadata": {
    "ExecuteTime": {
     "end_time": "2023-05-01T23:29:10.329114Z",
     "start_time": "2023-05-01T23:29:09.623703Z"
    },
    "collapsed": false
   },
   "outputs": [],
   "source": [
    "l.remove(' ')"
   ]
  },
  {
   "cell_type": "code",
   "execution_count": 241,
   "metadata": {
    "ExecuteTime": {
     "end_time": "2023-05-01T23:31:22.635305Z",
     "start_time": "2023-05-01T23:31:22.423308Z"
    },
    "collapsed": false
   },
   "outputs": [
    {
     "data": {
      "text/plain": [
       "['n', 'e', 'p', 'a', ' ', 's', 'i', ' ', 's', 'i', 'h', 't']"
      ]
     },
     "execution_count": 241,
     "metadata": {},
     "output_type": "execute_result"
    }
   ],
   "source": [
    "l"
   ]
  },
  {
   "cell_type": "code",
   "execution_count": 242,
   "metadata": {
    "ExecuteTime": {
     "end_time": "2023-05-01T23:31:40.889953Z",
     "start_time": "2023-05-01T23:31:40.461964Z"
    },
    "collapsed": false
   },
   "outputs": [],
   "source": [
    "l.remove(' ')"
   ]
  },
  {
   "cell_type": "code",
   "execution_count": 245,
   "metadata": {
    "ExecuteTime": {
     "end_time": "2023-05-01T23:32:01.074913Z",
     "start_time": "2023-05-01T23:32:00.324901Z"
    },
    "collapsed": false
   },
   "outputs": [
    {
     "data": {
      "text/plain": [
       "['n', 'e', 'p', 'a', 's', 'i', 's', 'i', 'h', 't']"
      ]
     },
     "execution_count": 245,
     "metadata": {},
     "output_type": "execute_result"
    }
   ],
   "source": [
    "l"
   ]
  },
  {
   "cell_type": "code",
   "execution_count": 246,
   "metadata": {
    "ExecuteTime": {
     "end_time": "2023-05-01T23:34:09.293315Z",
     "start_time": "2023-05-01T23:34:09.194032Z"
    },
    "collapsed": false
   },
   "outputs": [],
   "source": [
    "s = ['this', 'is', 'a', 'pen']"
   ]
  },
  {
   "cell_type": "code",
   "execution_count": 247,
   "metadata": {
    "ExecuteTime": {
     "end_time": "2023-05-01T23:34:11.485016Z",
     "start_time": "2023-05-01T23:34:10.890742Z"
    },
    "collapsed": false
   },
   "outputs": [
    {
     "data": {
      "text/plain": [
       "['this', 'is', 'a', 'pen']"
      ]
     },
     "execution_count": 247,
     "metadata": {},
     "output_type": "execute_result"
    }
   ],
   "source": [
    "s"
   ]
  },
  {
   "cell_type": "code",
   "execution_count": 248,
   "metadata": {
    "ExecuteTime": {
     "end_time": "2023-05-01T23:35:12.108705Z",
     "start_time": "2023-05-01T23:35:11.931706Z"
    },
    "collapsed": false
   },
   "outputs": [
    {
     "data": {
      "text/plain": [
       "'pen'"
      ]
     },
     "execution_count": 248,
     "metadata": {},
     "output_type": "execute_result"
    }
   ],
   "source": [
    "s[0]\n",
    "s[1]\n",
    "s[2]\n",
    "s[3]"
   ]
  },
  {
   "cell_type": "code",
   "execution_count": 249,
   "metadata": {
    "ExecuteTime": {
     "end_time": "2023-05-01T23:36:03.874350Z",
     "start_time": "2023-05-01T23:36:03.658337Z"
    },
    "collapsed": false
   },
   "outputs": [],
   "source": [
    "s1 = s[3][::-1]"
   ]
  },
  {
   "cell_type": "code",
   "execution_count": 250,
   "metadata": {
    "ExecuteTime": {
     "end_time": "2023-05-01T23:36:07.943333Z",
     "start_time": "2023-05-01T23:36:07.543337Z"
    },
    "collapsed": false
   },
   "outputs": [
    {
     "data": {
      "text/plain": [
       "'nep'"
      ]
     },
     "execution_count": 250,
     "metadata": {},
     "output_type": "execute_result"
    }
   ],
   "source": [
    "s1"
   ]
  },
  {
   "cell_type": "code",
   "execution_count": 251,
   "metadata": {
    "ExecuteTime": {
     "end_time": "2023-05-01T23:37:36.336797Z",
     "start_time": "2023-05-01T23:37:35.756803Z"
    },
    "collapsed": false
   },
   "outputs": [],
   "source": [
    "s2 = s[2]"
   ]
  },
  {
   "cell_type": "code",
   "execution_count": 252,
   "metadata": {
    "ExecuteTime": {
     "end_time": "2023-05-01T23:37:39.543798Z",
     "start_time": "2023-05-01T23:37:39.186805Z"
    },
    "collapsed": false
   },
   "outputs": [
    {
     "data": {
      "text/plain": [
       "'a'"
      ]
     },
     "execution_count": 252,
     "metadata": {},
     "output_type": "execute_result"
    }
   ],
   "source": [
    "s2"
   ]
  },
  {
   "cell_type": "code",
   "execution_count": 253,
   "metadata": {
    "ExecuteTime": {
     "end_time": "2023-05-01T23:37:55.747220Z",
     "start_time": "2023-05-01T23:37:55.361173Z"
    },
    "collapsed": false
   },
   "outputs": [],
   "source": [
    "s3 = s1+s2"
   ]
  },
  {
   "cell_type": "code",
   "execution_count": 254,
   "metadata": {
    "ExecuteTime": {
     "end_time": "2023-05-01T23:37:58.150168Z",
     "start_time": "2023-05-01T23:37:57.610175Z"
    },
    "collapsed": false
   },
   "outputs": [
    {
     "data": {
      "text/plain": [
       "'nepa'"
      ]
     },
     "execution_count": 254,
     "metadata": {},
     "output_type": "execute_result"
    }
   ],
   "source": [
    "s3"
   ]
  },
  {
   "cell_type": "code",
   "execution_count": 256,
   "id": "010746c3",
   "metadata": {},
   "outputs": [
    {
     "name": "stdout",
     "output_type": "stream",
     "text": [
      "Given String: this is a pen\n",
      "Reversed String: nepa si s iht\n"
     ]
    }
   ],
   "source": [
    "s = 'this is a pen'\n",
    "l = list(s)\n",
    "l.reverse() \n",
    "l.remove(' ')\n",
    "l.insert(9,' ')\n",
    "print(\"Given String:\", s)\n",
    "\n",
    "s = ''\n",
    "for i in l:\n",
    "    s = s + i\n",
    "print(\"Reversed String:\", s)"
   ]
  },
  {
   "cell_type": "markdown",
   "source": [
    "# ------------------- END OF PRACTICE -------------------"
   ],
   "metadata": {
    "collapsed": false
   }
  },
  {
   "cell_type": "code",
   "execution_count": null,
   "outputs": [],
   "source": [],
   "metadata": {
    "collapsed": false
   }
  }
 ],
 "metadata": {
  "kernelspec": {
   "display_name": "Python 3 (ipykernel)",
   "language": "python",
   "name": "python3"
  },
  "language_info": {
   "codemirror_mode": {
    "name": "ipython",
    "version": 3
   },
   "file_extension": ".py",
   "mimetype": "text/x-python",
   "name": "python",
   "nbconvert_exporter": "python",
   "pygments_lexer": "ipython3",
   "version": "3.10.4"
  }
 },
 "nbformat": 4,
 "nbformat_minor": 5
}
