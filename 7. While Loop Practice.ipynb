{
 "cells": [
  {
   "cell_type": "markdown",
   "source": [
    "# While Loop Practice"
   ],
   "metadata": {
    "collapsed": false
   }
  },
  {
   "cell_type": "code",
   "execution_count": 9,
   "metadata": {
    "collapsed": true,
    "ExecuteTime": {
     "start_time": "2023-04-17T04:34:30.740846Z",
     "end_time": "2023-04-17T04:34:30.803346Z"
    }
   },
   "outputs": [
    {
     "name": "stdout",
     "output_type": "stream",
     "text": [
      "1\n",
      "2\n",
      "3\n",
      "4\n",
      "5\n",
      "6\n",
      "7\n",
      "8\n",
      "9\n",
      "10\n"
     ]
    }
   ],
   "source": [
    "a = 1\n",
    "\n",
    "while a<= 10 :\n",
    "    print(a)\n",
    "    # a = a + 1\n",
    "    a += 1"
   ]
  },
  {
   "cell_type": "code",
   "execution_count": 10,
   "outputs": [
    {
     "name": "stdout",
     "output_type": "stream",
     "text": [
      "1\n"
     ]
    }
   ],
   "source": [
    "a = 1\n",
    "\n",
    "while a<= 10 :\n",
    "    print(a)\n",
    "    break\n",
    "    # a = a+1  --> Infinite loop if we not use 'break' keyword"
   ],
   "metadata": {
    "collapsed": false,
    "ExecuteTime": {
     "start_time": "2023-04-17T04:34:41.832112Z",
     "end_time": "2023-04-17T04:34:41.876027Z"
    }
   }
  },
  {
   "cell_type": "markdown",
   "source": [],
   "metadata": {
    "collapsed": false
   }
  },
  {
   "cell_type": "markdown",
   "source": [
    "# Example - Sum up the number till some point :"
   ],
   "metadata": {
    "collapsed": false
   }
  },
  {
   "cell_type": "code",
   "execution_count": 28,
   "outputs": [
    {
     "name": "stdout",
     "output_type": "stream",
     "text": [
      "Below are the numbers you have selected : \n",
      "1\n",
      "2\n",
      "3\n",
      "4\n",
      "5\n",
      "\n",
      "Sum of all the numbers till  5  is :  15\n"
     ]
    }
   ],
   "source": [
    "n = int(input(\" Enter your limit : \"))\n",
    "start_point = 0\n",
    "counter = 1\n",
    "print(\"Below are the numbers you have selected : \")\n",
    "\n",
    "while counter <= n :\n",
    "    print(counter)\n",
    "    start_point = start_point + counter\n",
    "    counter = counter + 1\n",
    "\n",
    "print(\"\\nSum of all the numbers till \", n, \" is : \", start_point)"
   ],
   "metadata": {
    "collapsed": false,
    "ExecuteTime": {
     "start_time": "2023-04-17T04:50:56.324424Z",
     "end_time": "2023-04-17T04:50:57.703391Z"
    }
   }
  },
  {
   "cell_type": "markdown",
   "source": [
    "# Find Factorial of any number :"
   ],
   "metadata": {
    "collapsed": false
   }
  },
  {
   "cell_type": "code",
   "execution_count": 33,
   "outputs": [
    {
     "name": "stdout",
     "output_type": "stream",
     "text": [
      "You have entered :  3\n",
      "Factorial is :  6\n"
     ]
    }
   ],
   "source": [
    "number = int(input(\" Enter your number to find it's factorial : \"))\n",
    "factorial = 1\n",
    "print(\"You have entered : \", number)\n",
    "\n",
    "while number > 0 :\n",
    "    factorial = factorial * number\n",
    "    number = number - 1\n",
    "\n",
    "print(\"Factorial is : \", factorial)"
   ],
   "metadata": {
    "collapsed": false,
    "ExecuteTime": {
     "start_time": "2023-04-17T04:59:11.361998Z",
     "end_time": "2023-04-17T04:59:13.373678Z"
    }
   }
  },
  {
   "cell_type": "markdown",
   "source": [
    "# Fibonacci Series :"
   ],
   "metadata": {
    "collapsed": false
   }
  },
  {
   "cell_type": "code",
   "execution_count": 37,
   "outputs": [
    {
     "name": "stdout",
     "output_type": "stream",
     "text": [
      "You have entered :  10 \n",
      "Below is the Fibonacci series you are looking for -->\n",
      "\n",
      "0\n",
      "1\n",
      "1\n",
      "2\n",
      "3\n",
      "5\n",
      "8\n",
      "13\n",
      "21\n",
      "34\n"
     ]
    }
   ],
   "source": [
    "number = int(input(\"Enter the number of element you are looking for to find it's Fibonacci Series : \"))\n",
    "print(\"You have entered : \", number, \"\\nBelow is the Fibonacci series you are looking for -->\\n\")\n",
    "a , b = 0 , 1\n",
    "counter = 0\n",
    "\n",
    "while counter < number :\n",
    "    print(a)\n",
    "    c = a + b\n",
    "    a = b\n",
    "    b = c\n",
    "    counter = counter + 1"
   ],
   "metadata": {
    "collapsed": false,
    "ExecuteTime": {
     "start_time": "2023-04-17T05:12:37.430914Z",
     "end_time": "2023-04-17T05:12:38.981260Z"
    }
   }
  },
  {
   "cell_type": "code",
   "execution_count": null,
   "outputs": [],
   "source": [],
   "metadata": {
    "collapsed": false
   }
  }
 ],
 "metadata": {
  "kernelspec": {
   "display_name": "Python 3",
   "language": "python",
   "name": "python3"
  },
  "language_info": {
   "codemirror_mode": {
    "name": "ipython",
    "version": 2
   },
   "file_extension": ".py",
   "mimetype": "text/x-python",
   "name": "python",
   "nbconvert_exporter": "python",
   "pygments_lexer": "ipython2",
   "version": "2.7.6"
  }
 },
 "nbformat": 4,
 "nbformat_minor": 0
}
