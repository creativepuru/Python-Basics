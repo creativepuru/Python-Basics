{
 "cells": [
  {
   "cell_type": "markdown",
   "metadata": {
    "collapsed": false
   },
   "source": [
    "# While Loop Practice"
   ]
  },
  {
   "cell_type": "code",
   "execution_count": 1,
   "metadata": {
    "ExecuteTime": {
     "end_time": "2023-04-19T18:01:19.566062Z",
     "start_time": "2023-04-19T18:01:19.388308Z"
    },
    "collapsed": true
   },
   "outputs": [
    {
     "name": "stdout",
     "output_type": "stream",
     "text": [
      "1\n",
      "2\n",
      "3\n",
      "4\n",
      "5\n",
      "6\n",
      "7\n",
      "8\n",
      "9\n",
      "10\n"
     ]
    }
   ],
   "source": [
    "a = 1\n",
    "\n",
    "while a <= 10 :\n",
    "    print(a)\n",
    "    a = a + 1\n",
    "\n",
    "#print(a)"
   ]
  },
  {
   "cell_type": "code",
   "execution_count": 2,
   "metadata": {
    "ExecuteTime": {
     "end_time": "2023-04-19T18:01:19.602690Z",
     "start_time": "2023-04-19T18:01:19.466844Z"
    },
    "collapsed": false
   },
   "outputs": [
    {
     "name": "stdout",
     "output_type": "stream",
     "text": [
      "1\n"
     ]
    }
   ],
   "source": [
    "a = 1\n",
    "\n",
    "while a<= 10 :\n",
    "    print(a)\n",
    "    break\n",
    "    # a = a+1  --> Infinite loop if we not use 'break' keyword"
   ]
  },
  {
   "cell_type": "markdown",
   "metadata": {
    "collapsed": false
   },
   "source": []
  },
  {
   "cell_type": "markdown",
   "metadata": {
    "collapsed": false
   },
   "source": [
    "# Example - Sum up the number till some point :"
   ]
  },
  {
   "cell_type": "code",
   "execution_count": 3,
   "metadata": {
    "ExecuteTime": {
     "end_time": "2023-04-19T18:01:22.115501Z",
     "start_time": "2023-04-19T18:01:19.498113Z"
    },
    "collapsed": false
   },
   "outputs": [
    {
     "name": "stdout",
     "output_type": "stream",
     "text": [
      "Sum up the number till some point :\n",
      "Below are the numbers you have selected : \n",
      "1\n",
      "2\n",
      "\n",
      "Sum of all the numbers till  2  is :  3\n"
     ]
    }
   ],
   "source": [
    "print(\"Sum up the number till some point :\")\n",
    "n = int(input(\" Enter your limit to find it's sum : \"))\n",
    "add = 0\n",
    "counter = 1\n",
    "print(\"Below are the numbers you have selected : \")\n",
    "\n",
    "while counter <= n :\n",
    "    print(counter)\n",
    "    add = add + counter\n",
    "    counter = counter + 1\n",
    "\n",
    "print(\"\\nSum of all the numbers till \", n, \" is : \", add)"
   ]
  },
  {
   "cell_type": "markdown",
   "metadata": {
    "collapsed": false
   },
   "source": [
    "# Find Factorial of any number :"
   ]
  },
  {
   "cell_type": "code",
   "execution_count": 4,
   "metadata": {
    "ExecuteTime": {
     "end_time": "2023-04-19T18:01:22.875926Z",
     "start_time": "2023-04-19T18:01:21.927149Z"
    },
    "collapsed": false
   },
   "outputs": [
    {
     "name": "stdout",
     "output_type": "stream",
     "text": [
      "You have entered :  53\n",
      "Factorial is :  4274883284060025564298013753389399649690343788366813724672000000000000\n"
     ]
    }
   ],
   "source": [
    "number = int(input(\" Enter your number to find it's factorial : \"))\n",
    "factorial = 1\n",
    "print(\"You have entered : \", number)\n",
    "\n",
    "while number > 0 :\n",
    "    factorial = factorial * number\n",
    "    number = number - 1\n",
    "\n",
    "print(\"Factorial is : \", factorial)"
   ]
  },
  {
   "cell_type": "markdown",
   "metadata": {
    "collapsed": false
   },
   "source": [
    "# Fibonacci Series :"
   ]
  },
  {
   "cell_type": "code",
   "execution_count": 5,
   "metadata": {
    "ExecuteTime": {
     "end_time": "2023-04-19T18:01:23.573637Z",
     "start_time": "2023-04-19T18:01:22.822104Z"
    },
    "collapsed": false
   },
   "outputs": [
    {
     "name": "stdout",
     "output_type": "stream",
     "text": [
      "0\n",
      "1\n"
     ]
    }
   ],
   "source": [
    "n = int(input(\"Enter the number of element you are looking for : \"))\n",
    "a = 0\n",
    "b = 1\n",
    "counter = 0\n",
    "\n",
    "while counter < n :\n",
    "    print(a)\n",
    "    c = a + b\n",
    "    a = b\n",
    "    b = c\n",
    "    counter = counter + 1"
   ]
  },
  {
   "cell_type": "code",
   "execution_count": 6,
   "metadata": {
    "ExecuteTime": {
     "end_time": "2023-04-19T18:01:24.676145Z",
     "start_time": "2023-04-19T18:01:23.520203Z"
    },
    "collapsed": false
   },
   "outputs": [
    {
     "name": "stdout",
     "output_type": "stream",
     "text": [
      "You have entered :  2 \n",
      "Below is the Fibonacci series you are looking for -->\n",
      "\n",
      "0\n",
      "1\n"
     ]
    }
   ],
   "source": [
    "number = int(input(\"Enter the number of element you are looking for to find it's Fibonacci Series : \"))\n",
    "print(\"You have entered : \", number, \"\\nBelow is the Fibonacci series you are looking for -->\\n\")\n",
    "a , b = 0 , 1\n",
    "counter = 0\n",
    "\n",
    "while counter < number :\n",
    "    print(a)\n",
    "    c = a + b\n",
    "    a = b\n",
    "    b = c\n",
    "    counter = counter + 1"
   ]
  },
  {
   "cell_type": "code",
   "execution_count": 7,
   "metadata": {
    "ExecuteTime": {
     "end_time": "2023-04-19T18:01:24.807599Z",
     "start_time": "2023-04-19T18:01:24.575939Z"
    },
    "collapsed": false
   },
   "outputs": [
    {
     "name": "stdout",
     "output_type": "stream",
     "text": [
      "0\n",
      "1\n",
      "1\n",
      "2\n",
      "3\n",
      "5\n",
      "8\n",
      "13\n",
      "21\n",
      "34\n"
     ]
    }
   ],
   "source": [
    "a , b = 0 , 1\n",
    "\n",
    "for i in range(10) :\n",
    "    print(a)\n",
    "    c = a + b\n",
    "    a = b\n",
    "    b = c"
   ]
  },
  {
   "cell_type": "code",
   "execution_count": 8,
   "metadata": {
    "ExecuteTime": {
     "end_time": "2023-04-19T18:01:26.094243Z",
     "start_time": "2023-04-19T18:01:24.682661Z"
    },
    "collapsed": false
   },
   "outputs": [
    {
     "name": "stdout",
     "output_type": "stream",
     "text": [
      "0\n",
      "1\n",
      "1\n"
     ]
    }
   ],
   "source": [
    "number = int(input(\"Enter the number of element you are looking for to find it's Fibonacci Series : \"))\n",
    "a , b = 0 , 1\n",
    "\n",
    "for i in range(number) :\n",
    "    print(a)\n",
    "    c = a + b\n",
    "    a = b\n",
    "    b = c"
   ]
  },
  {
   "cell_type": "code",
   "execution_count": 9,
   "metadata": {
    "ExecuteTime": {
     "end_time": "2023-04-19T18:01:51.086850Z",
     "start_time": "2023-04-19T18:01:51.039963Z"
    },
    "collapsed": false
   },
   "outputs": [],
   "source": [
    "s = \"puru\""
   ]
  },
  {
   "cell_type": "code",
   "execution_count": 10,
   "metadata": {
    "ExecuteTime": {
     "end_time": "2023-04-19T18:02:04.519214Z",
     "start_time": "2023-04-19T18:02:04.380122Z"
    },
    "collapsed": false
   },
   "outputs": [
    {
     "data": {
      "text/plain": [
       "'urup'"
      ]
     },
     "execution_count": 10,
     "metadata": {},
     "output_type": "execute_result"
    }
   ],
   "source": [
    "s[::-1]"
   ]
  },
  {
   "cell_type": "markdown",
   "metadata": {
    "collapsed": false
   },
   "source": [
    "# Reverse a String using While Loop"
   ]
  },
  {
   "cell_type": "code",
   "execution_count": 11,
   "metadata": {
    "ExecuteTime": {
     "end_time": "2023-04-19T18:03:58.503992Z",
     "start_time": "2023-04-19T18:03:54.569050Z"
    },
    "collapsed": false
   },
   "outputs": [
    {
     "name": "stdout",
     "output_type": "stream",
     "text": [
      "abcdcba\n",
      "7\n"
     ]
    }
   ],
   "source": [
    "word = input(\"Enter your string to reverse it : \")\n",
    "reverse = \"\"\n",
    "length = len(word)\n",
    "\n",
    "print(word)\n",
    "print(length)"
   ]
  },
  {
   "cell_type": "code",
   "execution_count": 12,
   "metadata": {
    "ExecuteTime": {
     "end_time": "2023-04-19T18:05:33.658165Z",
     "start_time": "2023-04-19T18:05:29.634179Z"
    },
    "collapsed": false
   },
   "outputs": [
    {
     "name": "stdout",
     "output_type": "stream",
     "text": [
      "nep a si siht\n"
     ]
    }
   ],
   "source": [
    "word = input(\"Enter your string to reverse it : \")\n",
    "reverse = \"\"\n",
    "length = len(word)\n",
    "\n",
    "while length > 0 :\n",
    "    reverse = reverse + word[length - 1]\n",
    "    length = length - 1\n",
    "print(reverse)"
   ]
  },
  {
   "cell_type": "markdown",
   "metadata": {
    "collapsed": false
   },
   "source": [
    "# Print table of numbers"
   ]
  },
  {
   "cell_type": "code",
   "execution_count": 13,
   "metadata": {
    "ExecuteTime": {
     "end_time": "2023-04-19T18:17:04.013602Z",
     "start_time": "2023-04-19T18:17:02.878970Z"
    },
    "collapsed": false
   },
   "outputs": [
    {
     "name": "stdout",
     "output_type": "stream",
     "text": [
      "100 * 1 = 100\n",
      "100 * 2 = 200\n",
      "100 * 3 = 300\n",
      "100 * 4 = 400\n",
      "100 * 5 = 500\n",
      "100 * 6 = 600\n",
      "100 * 7 = 700\n",
      "100 * 8 = 800\n",
      "100 * 9 = 900\n",
      "100 * 10 = 1000\n"
     ]
    }
   ],
   "source": [
    "number = int(input(\"Enter your number to find it's table : \"))\n",
    "i = 1\n",
    "\n",
    "while i <= 10 :\n",
    "    result = number * i\n",
    "    print(number, \"*\", i, \"=\", result)\n",
    "    i = i + 1"
   ]
  },
  {
   "cell_type": "code",
   "execution_count": 14,
   "metadata": {
    "ExecuteTime": {
     "end_time": "2023-04-19T18:18:16.016097Z",
     "start_time": "2023-04-19T18:18:14.883473Z"
    },
    "collapsed": false
   },
   "outputs": [
    {
     "name": "stdout",
     "output_type": "stream",
     "text": [
      "Find below the table of 100 :\n",
      "\n",
      "100 * 1 = 100\n",
      "100 * 2 = 200\n",
      "100 * 3 = 300\n",
      "100 * 4 = 400\n",
      "100 * 5 = 500\n",
      "100 * 6 = 600\n",
      "100 * 7 = 700\n",
      "100 * 8 = 800\n",
      "100 * 9 = 900\n",
      "100 * 10 = 1000\n",
      "100 * 11 = 1100\n",
      "100 * 12 = 1200\n",
      "100 * 13 = 1300\n",
      "100 * 14 = 1400\n",
      "100 * 15 = 1500\n",
      "100 * 16 = 1600\n",
      "100 * 17 = 1700\n",
      "100 * 18 = 1800\n",
      "100 * 19 = 1900\n",
      "100 * 20 = 2000\n"
     ]
    }
   ],
   "source": [
    "number = int(input(\"Enter your number to find it's table : \"))\n",
    "print(\"Find below the table of\", number, \":\\n\")\n",
    "i = 1\n",
    "\n",
    "while i <= 20 :\n",
    "    result = number * i\n",
    "    print(number, \"*\", i, \"=\", result)\n",
    "    i = i + 1"
   ]
  },
  {
   "cell_type": "code",
   "execution_count": 15,
   "metadata": {
    "ExecuteTime": {
     "end_time": "2023-04-19T18:22:13.684912Z",
     "start_time": "2023-04-19T18:22:11.422974Z"
    },
    "collapsed": false
   },
   "outputs": [
    {
     "name": "stdout",
     "output_type": "stream",
     "text": [
      "100 * 1 = 100\n",
      "100 * 2 = 200\n",
      "100 * 3 = 300\n",
      "100 * 4 = 400\n",
      "100 * 5 = 500\n",
      "100 * 6 = 600\n",
      "100 * 7 = 700\n",
      "100 * 8 = 800\n",
      "100 * 9 = 900\n",
      "100 * 10 = 1000\n"
     ]
    }
   ],
   "source": [
    "number = int(input(\"Enter your number to find it's table : \"))\n",
    "\n",
    "for i in range(1, 11) :\n",
    "    result = number * i\n",
    "    print(number, \"*\", i, \"=\", result)"
   ]
  },
  {
   "cell_type": "code",
   "execution_count": 16,
   "metadata": {
    "ExecuteTime": {
     "end_time": "2023-04-19T18:24:03.422097Z",
     "start_time": "2023-04-19T18:24:03.352883Z"
    },
    "collapsed": false
   },
   "outputs": [
    {
     "name": "stdout",
     "output_type": "stream",
     "text": [
      "1\n",
      "2\n",
      "3\n",
      "4\n"
     ]
    }
   ],
   "source": [
    "n = 5\n",
    "i = 1\n",
    "\n",
    "while i < n :\n",
    "    print(i)\n",
    "    i = i + 1\n"
   ]
  },
  {
   "cell_type": "code",
   "execution_count": 17,
   "metadata": {
    "ExecuteTime": {
     "end_time": "2023-04-19T18:25:07.177744Z",
     "start_time": "2023-04-19T18:25:07.152924Z"
    },
    "collapsed": false
   },
   "outputs": [
    {
     "name": "stdout",
     "output_type": "stream",
     "text": [
      "1\n",
      "2\n",
      "3\n",
      "4\n",
      "This will be executed once your while loop will complete itself.\n"
     ]
    }
   ],
   "source": [
    "n = 5\n",
    "i = 1\n",
    "\n",
    "while i < n :\n",
    "    print(i)\n",
    "    i = i + 1\n",
    "else :\n",
    "    print(\"This will be executed once your while loop will complete itself.\")"
   ]
  },
  {
   "cell_type": "code",
   "execution_count": 18,
   "metadata": {
    "ExecuteTime": {
     "end_time": "2023-04-19T18:25:41.679254Z",
     "start_time": "2023-04-19T18:25:41.562648Z"
    },
    "collapsed": false
   },
   "outputs": [
    {
     "name": "stdout",
     "output_type": "stream",
     "text": [
      "1\n",
      "2\n",
      "3\n"
     ]
    }
   ],
   "source": [
    "n = 5\n",
    "i = 1\n",
    "\n",
    "while i < n :\n",
    "    print(i)\n",
    "    if i == 3 :\n",
    "        break\n",
    "    i = i + 1\n",
    "else :\n",
    "    print(\"This will be executed once your while loop will complete itself.\")"
   ]
  },
  {
   "cell_type": "markdown",
   "metadata": {
    "collapsed": false
   },
   "source": [
    "---------------------------- END ----------------------------"
   ]
  },
  {
   "cell_type": "code",
   "execution_count": null,
   "metadata": {
    "collapsed": false
   },
   "outputs": [],
   "source": []
  }
 ],
 "metadata": {
  "kernelspec": {
   "display_name": "Python 3",
   "language": "python",
   "name": "python3"
  },
  "language_info": {
   "codemirror_mode": {
    "name": "ipython",
    "version": 3
   },
   "file_extension": ".py",
   "mimetype": "text/x-python",
   "name": "python",
   "nbconvert_exporter": "python",
   "pygments_lexer": "ipython3",
   "version": "3.10.4"
  }
 },
 "nbformat": 4,
 "nbformat_minor": 0
}
