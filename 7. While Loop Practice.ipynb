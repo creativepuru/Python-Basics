{
 "cells": [
  {
   "cell_type": "markdown",
   "source": [
    "# While Loop Practice"
   ],
   "metadata": {
    "collapsed": false
   }
  },
  {
   "cell_type": "code",
   "execution_count": 1,
   "metadata": {
    "collapsed": true,
    "ExecuteTime": {
     "start_time": "2023-04-18T15:53:52.649675Z",
     "end_time": "2023-04-18T15:53:52.672317Z"
    }
   },
   "outputs": [
    {
     "name": "stdout",
     "output_type": "stream",
     "text": [
      "1\n",
      "2\n",
      "3\n",
      "4\n",
      "5\n",
      "6\n",
      "7\n",
      "8\n",
      "9\n",
      "10\n"
     ]
    }
   ],
   "source": [
    "a = 1\n",
    "\n",
    "while a<= 10 :\n",
    "    print(a)\n",
    "    # a = a + 1\n",
    "    a += 1"
   ]
  },
  {
   "cell_type": "code",
   "execution_count": 2,
   "outputs": [
    {
     "name": "stdout",
     "output_type": "stream",
     "text": [
      "1\n"
     ]
    }
   ],
   "source": [
    "a = 1\n",
    "\n",
    "while a<= 10 :\n",
    "    print(a)\n",
    "    break\n",
    "    # a = a+1  --> Infinite loop if we not use 'break' keyword"
   ],
   "metadata": {
    "collapsed": false,
    "ExecuteTime": {
     "start_time": "2023-04-17T16:53:38.626257Z",
     "end_time": "2023-04-17T16:53:38.931038Z"
    }
   }
  },
  {
   "cell_type": "markdown",
   "source": [],
   "metadata": {
    "collapsed": false
   }
  },
  {
   "cell_type": "markdown",
   "source": [
    "# Example - Sum up the number till some point :"
   ],
   "metadata": {
    "collapsed": false
   }
  },
  {
   "cell_type": "code",
   "execution_count": 3,
   "outputs": [
    {
     "name": "stdout",
     "output_type": "stream",
     "text": [
      "Below are the numbers you have selected : \n",
      "1\n",
      "2\n",
      "\n",
      "Sum of all the numbers till  2  is :  3\n"
     ]
    }
   ],
   "source": [
    "n = int(input(\" Enter your limit : \"))\n",
    "start_point = 0\n",
    "counter = 1\n",
    "print(\"Below are the numbers you have selected : \")\n",
    "\n",
    "while counter <= n :\n",
    "    print(counter)\n",
    "    start_point = start_point + counter\n",
    "    counter = counter + 1\n",
    "\n",
    "print(\"\\nSum of all the numbers till \", n, \" is : \", start_point)"
   ],
   "metadata": {
    "collapsed": false,
    "ExecuteTime": {
     "start_time": "2023-04-17T16:53:38.910932Z",
     "end_time": "2023-04-17T16:53:44.443293Z"
    }
   }
  },
  {
   "cell_type": "markdown",
   "source": [
    "# Find Factorial of any number :"
   ],
   "metadata": {
    "collapsed": false
   }
  },
  {
   "cell_type": "code",
   "execution_count": 4,
   "outputs": [
    {
     "name": "stdout",
     "output_type": "stream",
     "text": [
      "You have entered :  2\n",
      "Factorial is :  2\n"
     ]
    }
   ],
   "source": [
    "number = int(input(\" Enter your number to find it's factorial : \"))\n",
    "factorial = 1\n",
    "print(\"You have entered : \", number)\n",
    "\n",
    "while number > 0 :\n",
    "    factorial = factorial * number\n",
    "    number = number - 1\n",
    "\n",
    "print(\"Factorial is : \", factorial)"
   ],
   "metadata": {
    "collapsed": false,
    "ExecuteTime": {
     "start_time": "2023-04-17T16:53:44.306176Z",
     "end_time": "2023-04-17T16:53:48.562051Z"
    }
   }
  },
  {
   "cell_type": "markdown",
   "source": [
    "# Fibonacci Series :"
   ],
   "metadata": {
    "collapsed": false
   }
  },
  {
   "cell_type": "code",
   "execution_count": 5,
   "outputs": [
    {
     "name": "stdout",
     "output_type": "stream",
     "text": [
      "You have entered :  3 \n",
      "Below is the Fibonacci series you are looking for -->\n",
      "\n",
      "0\n",
      "1\n",
      "1\n"
     ]
    }
   ],
   "source": [
    "number = int(input(\"Enter the number of element you are looking for to find it's Fibonacci Series : \"))\n",
    "print(\"You have entered : \", number, \"\\nBelow is the Fibonacci series you are looking for -->\\n\")\n",
    "a , b = 0 , 1\n",
    "counter = 0\n",
    "\n",
    "while counter < number :\n",
    "    print(a)\n",
    "    c = a + b\n",
    "    a = b\n",
    "    b = c\n",
    "    counter = counter + 1"
   ],
   "metadata": {
    "collapsed": false,
    "ExecuteTime": {
     "start_time": "2023-04-17T16:53:48.520839Z",
     "end_time": "2023-04-17T16:53:52.869712Z"
    }
   }
  },
  {
   "cell_type": "code",
   "execution_count": 5,
   "outputs": [],
   "source": [],
   "metadata": {
    "collapsed": false,
    "ExecuteTime": {
     "start_time": "2023-04-17T16:53:52.603878Z",
     "end_time": "2023-04-17T16:53:52.870725Z"
    }
   }
  }
 ],
 "metadata": {
  "kernelspec": {
   "display_name": "Python 3",
   "language": "python",
   "name": "python3"
  },
  "language_info": {
   "codemirror_mode": {
    "name": "ipython",
    "version": 2
   },
   "file_extension": ".py",
   "mimetype": "text/x-python",
   "name": "python",
   "nbconvert_exporter": "python",
   "pygments_lexer": "ipython2",
   "version": "2.7.6"
  }
 },
 "nbformat": 4,
 "nbformat_minor": 0
}
