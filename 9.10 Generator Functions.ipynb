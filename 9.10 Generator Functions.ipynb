{
 "cells": [
  {
   "cell_type": "markdown",
   "metadata": {
    "collapsed": false
   },
   "source": [
    "# Generator Functions\n",
    "Optimising internal memory utilisation\n",
    "used to save memory\n",
    "it stores output every single time"
   ]
  },
  {
   "cell_type": "code",
   "execution_count": 1,
   "metadata": {
    "ExecuteTime": {
     "start_time": "2023-05-02T01:23:46.177002Z",
     "end_time": "2023-05-02T01:23:47.776005Z"
    },
    "collapsed": true
   },
   "outputs": [
    {
     "data": {
      "text/plain": "range(0, 10)"
     },
     "execution_count": 1,
     "metadata": {},
     "output_type": "execute_result"
    }
   ],
   "source": [
    "range(10)"
   ]
  },
  {
   "cell_type": "code",
   "execution_count": 2,
   "metadata": {
    "ExecuteTime": {
     "start_time": "2023-05-02T01:23:46.204001Z",
     "end_time": "2023-05-02T01:23:47.776005Z"
    },
    "collapsed": false
   },
   "outputs": [
    {
     "name": "stdout",
     "output_type": "stream",
     "text": [
      "0\n",
      "1\n",
      "2\n",
      "3\n",
      "4\n",
      "5\n",
      "6\n",
      "7\n",
      "8\n",
      "9\n"
     ]
    }
   ],
   "source": [
    "for i in range(10) :\n",
    "    print(i)"
   ]
  },
  {
   "cell_type": "code",
   "execution_count": 3,
   "metadata": {
    "ExecuteTime": {
     "start_time": "2023-05-02T01:23:46.233010Z",
     "end_time": "2023-05-02T01:23:47.776005Z"
    },
    "collapsed": false
   },
   "outputs": [],
   "source": [
    "def test_fib(n) :\n",
    "    a, b = 0, 1\n",
    "    for i in range(n) :\n",
    "        yield a\n",
    "        a, b = b, a+b"
   ]
  },
  {
   "cell_type": "code",
   "execution_count": 4,
   "metadata": {
    "ExecuteTime": {
     "start_time": "2023-05-02T01:23:46.271014Z",
     "end_time": "2023-05-02T01:23:47.777005Z"
    },
    "collapsed": false
   },
   "outputs": [
    {
     "data": {
      "text/plain": "<generator object test_fib at 0x000001F31537A180>"
     },
     "execution_count": 4,
     "metadata": {},
     "output_type": "execute_result"
    }
   ],
   "source": [
    "test_fib(10)"
   ]
  },
  {
   "cell_type": "code",
   "execution_count": 5,
   "metadata": {
    "ExecuteTime": {
     "start_time": "2023-05-02T01:23:46.298012Z",
     "end_time": "2023-05-02T01:23:47.777005Z"
    },
    "collapsed": false
   },
   "outputs": [
    {
     "name": "stdout",
     "output_type": "stream",
     "text": [
      "0\n",
      "1\n",
      "1\n",
      "2\n",
      "3\n",
      "5\n",
      "8\n",
      "13\n",
      "21\n",
      "34\n"
     ]
    }
   ],
   "source": [
    "for i in test_fib(10) :\n",
    "    print(i)"
   ]
  },
  {
   "cell_type": "code",
   "execution_count": 6,
   "metadata": {
    "ExecuteTime": {
     "start_time": "2023-05-02T01:23:46.329006Z",
     "end_time": "2023-05-02T01:23:47.777005Z"
    },
    "collapsed": false
   },
   "outputs": [],
   "source": [
    "def test2_fib(n) :\n",
    "    a, b = 0, 1\n",
    "    for i in range(n) :\n",
    "        a, b = b, a+b\n",
    "        yield a"
   ]
  },
  {
   "cell_type": "code",
   "execution_count": 7,
   "metadata": {
    "ExecuteTime": {
     "start_time": "2023-05-02T01:23:46.360008Z",
     "end_time": "2023-05-02T01:23:47.778007Z"
    },
    "collapsed": false
   },
   "outputs": [
    {
     "name": "stdout",
     "output_type": "stream",
     "text": [
      "1\n",
      "1\n",
      "2\n",
      "3\n",
      "5\n",
      "8\n",
      "13\n",
      "21\n",
      "34\n",
      "55\n"
     ]
    }
   ],
   "source": [
    "for i in test2_fib(10) :\n",
    "    print(i)"
   ]
  },
  {
   "cell_type": "code",
   "execution_count": 8,
   "metadata": {
    "ExecuteTime": {
     "start_time": "2023-05-02T01:23:46.392006Z",
     "end_time": "2023-05-02T01:23:47.778007Z"
    },
    "collapsed": false
   },
   "outputs": [],
   "source": [
    "def test_fib(n) :\n",
    "    a, b = 0, 1\n",
    "    for i in range(n) :\n",
    "        a, b = b, a+b\n",
    "        return a"
   ]
  },
  {
   "cell_type": "code",
   "execution_count": 9,
   "metadata": {
    "ExecuteTime": {
     "start_time": "2023-05-02T01:23:46.422003Z",
     "end_time": "2023-05-02T01:23:47.778007Z"
    },
    "collapsed": false
   },
   "outputs": [
    {
     "data": {
      "text/plain": "1"
     },
     "execution_count": 9,
     "metadata": {},
     "output_type": "execute_result"
    }
   ],
   "source": [
    "test_fib(10)"
   ]
  },
  {
   "cell_type": "code",
   "execution_count": 10,
   "metadata": {
    "ExecuteTime": {
     "start_time": "2023-05-02T01:23:46.463005Z",
     "end_time": "2023-05-02T01:23:47.779011Z"
    },
    "collapsed": false
   },
   "outputs": [],
   "source": [
    "def test_fib1() :\n",
    "    a, b = 0, 1\n",
    "    while True :\n",
    "        yield a\n",
    "        a, b = b, a+b"
   ]
  },
  {
   "cell_type": "code",
   "execution_count": 11,
   "metadata": {
    "ExecuteTime": {
     "start_time": "2023-05-02T01:23:46.489001Z",
     "end_time": "2023-05-02T01:23:47.779011Z"
    },
    "collapsed": false
   },
   "outputs": [],
   "source": [
    "fib = test_fib1()"
   ]
  },
  {
   "cell_type": "code",
   "execution_count": 12,
   "metadata": {
    "ExecuteTime": {
     "start_time": "2023-05-02T01:23:46.505006Z",
     "end_time": "2023-05-02T01:23:47.780013Z"
    },
    "collapsed": false
   },
   "outputs": [
    {
     "data": {
      "text/plain": "generator"
     },
     "execution_count": 12,
     "metadata": {},
     "output_type": "execute_result"
    }
   ],
   "source": [
    "type(fib)"
   ]
  },
  {
   "cell_type": "code",
   "execution_count": 13,
   "metadata": {
    "ExecuteTime": {
     "start_time": "2023-05-02T01:23:46.547002Z",
     "end_time": "2023-05-02T01:23:47.780013Z"
    },
    "collapsed": false
   },
   "outputs": [
    {
     "name": "stdout",
     "output_type": "stream",
     "text": [
      "0\n",
      "1\n",
      "1\n",
      "2\n",
      "3\n",
      "5\n",
      "8\n",
      "13\n",
      "21\n",
      "34\n"
     ]
    }
   ],
   "source": [
    "for i in range(10) :\n",
    "    print(next(fib))"
   ]
  },
  {
   "cell_type": "markdown",
   "metadata": {
    "collapsed": false
   },
   "source": [
    "# Internal functioning of \"for\" loop"
   ]
  },
  {
   "cell_type": "code",
   "execution_count": 14,
   "metadata": {
    "ExecuteTime": {
     "start_time": "2023-05-02T01:23:46.578001Z",
     "end_time": "2023-05-02T01:23:47.802998Z"
    },
    "collapsed": false
   },
   "outputs": [],
   "source": [
    "s = \"puru\""
   ]
  },
  {
   "cell_type": "code",
   "execution_count": 15,
   "metadata": {
    "ExecuteTime": {
     "start_time": "2023-05-02T01:23:46.611006Z",
     "end_time": "2023-05-02T01:23:47.802998Z"
    },
    "collapsed": false
   },
   "outputs": [
    {
     "name": "stdout",
     "output_type": "stream",
     "text": [
      "p\n",
      "u\n",
      "r\n",
      "u\n"
     ]
    }
   ],
   "source": [
    "for i in s :\n",
    "    print(i)"
   ]
  },
  {
   "cell_type": "code",
   "execution_count": 16,
   "metadata": {
    "ExecuteTime": {
     "start_time": "2023-05-02T01:23:46.647007Z",
     "end_time": "2023-05-02T01:23:47.804001Z"
    },
    "collapsed": false
   },
   "outputs": [
    {
     "data": {
      "text/plain": "'puru'"
     },
     "execution_count": 16,
     "metadata": {},
     "output_type": "execute_result"
    }
   ],
   "source": [
    "s"
   ]
  },
  {
   "cell_type": "code",
   "execution_count": 17,
   "metadata": {
    "ExecuteTime": {
     "start_time": "2023-05-02T01:23:46.674013Z",
     "end_time": "2023-05-02T01:23:47.804001Z"
    },
    "collapsed": false
   },
   "outputs": [
    {
     "data": {
      "text/plain": "\"Error\\n---------------------------------------------------------------------------\\nTypeError                                 Traceback (most recent call last)\\nCell In[48], line 1\\n----> 1 next(s)\\n\\nTypeError: 'str' object is not an iterator\\n\""
     },
     "execution_count": 17,
     "metadata": {},
     "output_type": "execute_result"
    }
   ],
   "source": [
    "# next(s)\n",
    "\n",
    "'''Error\n",
    "---------------------------------------------------------------------------\n",
    "TypeError                                 Traceback (most recent call last)\n",
    "Cell In[48], line 1\n",
    "----> 1 next(s)\n",
    "\n",
    "TypeError: 'str' object is not an iterator\n",
    "'''"
   ]
  },
  {
   "cell_type": "code",
   "execution_count": 18,
   "metadata": {
    "ExecuteTime": {
     "start_time": "2023-05-02T01:23:46.703007Z",
     "end_time": "2023-05-02T01:23:47.805001Z"
    },
    "collapsed": false
   },
   "outputs": [],
   "source": [
    "s1 = iter(s)"
   ]
  },
  {
   "cell_type": "code",
   "execution_count": 19,
   "metadata": {
    "ExecuteTime": {
     "start_time": "2023-05-02T01:23:46.725001Z",
     "end_time": "2023-05-02T01:23:47.805001Z"
    },
    "collapsed": false
   },
   "outputs": [
    {
     "data": {
      "text/plain": "str_iterator"
     },
     "execution_count": 19,
     "metadata": {},
     "output_type": "execute_result"
    }
   ],
   "source": [
    "type(s1)"
   ]
  },
  {
   "cell_type": "code",
   "execution_count": 20,
   "metadata": {
    "ExecuteTime": {
     "start_time": "2023-05-02T01:23:46.754005Z",
     "end_time": "2023-05-02T01:23:47.806003Z"
    },
    "collapsed": false
   },
   "outputs": [
    {
     "data": {
      "text/plain": "'p'"
     },
     "execution_count": 20,
     "metadata": {},
     "output_type": "execute_result"
    }
   ],
   "source": [
    "next(s1)"
   ]
  },
  {
   "cell_type": "code",
   "execution_count": 21,
   "metadata": {
    "ExecuteTime": {
     "start_time": "2023-05-02T01:23:46.781006Z",
     "end_time": "2023-05-02T01:23:47.806003Z"
    },
    "collapsed": false
   },
   "outputs": [
    {
     "data": {
      "text/plain": "'u'"
     },
     "execution_count": 21,
     "metadata": {},
     "output_type": "execute_result"
    }
   ],
   "source": [
    "next(s1)"
   ]
  },
  {
   "cell_type": "code",
   "execution_count": 22,
   "metadata": {
    "ExecuteTime": {
     "start_time": "2023-05-02T01:23:46.817002Z",
     "end_time": "2023-05-02T01:23:47.807000Z"
    },
    "collapsed": false
   },
   "outputs": [
    {
     "data": {
      "text/plain": "'r'"
     },
     "execution_count": 22,
     "metadata": {},
     "output_type": "execute_result"
    }
   ],
   "source": [
    "next(s1)"
   ]
  },
  {
   "cell_type": "code",
   "execution_count": 23,
   "metadata": {
    "ExecuteTime": {
     "start_time": "2023-05-02T01:23:46.844003Z",
     "end_time": "2023-05-02T01:23:47.808004Z"
    },
    "collapsed": false
   },
   "outputs": [
    {
     "data": {
      "text/plain": "'u'"
     },
     "execution_count": 23,
     "metadata": {},
     "output_type": "execute_result"
    }
   ],
   "source": [
    "next(s1)"
   ]
  },
  {
   "cell_type": "code",
   "execution_count": 24,
   "metadata": {
    "ExecuteTime": {
     "start_time": "2023-05-02T01:23:46.881001Z",
     "end_time": "2023-05-02T01:23:47.810016Z"
    },
    "collapsed": false
   },
   "outputs": [
    {
     "data": {
      "text/plain": "'puru'"
     },
     "execution_count": 24,
     "metadata": {},
     "output_type": "execute_result"
    }
   ],
   "source": [
    "s"
   ]
  },
  {
   "cell_type": "markdown",
   "metadata": {
    "collapsed": false
   },
   "source": [
    "# Concept of \"Iterator\" and \"Iterable\"\n",
    "Iterator = objects or data which can go on loop and work with the 'next()' function and give output for next...next...next data !!!\n",
    "Iterable = objects or data which can be made iterator.\n"
   ]
  },
  {
   "cell_type": "code",
   "execution_count": 25,
   "metadata": {
    "ExecuteTime": {
     "start_time": "2023-05-02T01:23:46.925004Z",
     "end_time": "2023-05-02T01:23:47.811019Z"
    },
    "collapsed": false
   },
   "outputs": [
    {
     "data": {
      "text/plain": "\" Error\\n---------------------------------------------------------------------------\\nTypeError                                 Traceback (most recent call last)\\nCell In[64], line 1\\n----> 1 next(1316)\\n\\nTypeError: 'int' object is not an iterator\\n\""
     },
     "execution_count": 25,
     "metadata": {},
     "output_type": "execute_result"
    }
   ],
   "source": [
    "# next(1316)\n",
    "\n",
    "''' Error\n",
    "---------------------------------------------------------------------------\n",
    "TypeError                                 Traceback (most recent call last)\n",
    "Cell In[64], line 1\n",
    "----> 1 next(1316)\n",
    "\n",
    "TypeError: 'int' object is not an iterator\n",
    "'''"
   ]
  },
  {
   "cell_type": "code",
   "execution_count": 26,
   "metadata": {
    "ExecuteTime": {
     "start_time": "2023-05-02T01:23:46.957005Z",
     "end_time": "2023-05-02T01:23:47.812001Z"
    },
    "collapsed": false
   },
   "outputs": [
    {
     "data": {
      "text/plain": "\"Error\\n---------------------------------------------------------------------------\\nTypeError                                 Traceback (most recent call last)\\nCell In[66], line 1\\n----> 1 iter(1316)\\n\\nTypeError: 'int' object is not iterable\\n\""
     },
     "execution_count": 26,
     "metadata": {},
     "output_type": "execute_result"
    }
   ],
   "source": [
    "# iter(1316)\n",
    "\n",
    "'''Error\n",
    "---------------------------------------------------------------------------\n",
    "TypeError                                 Traceback (most recent call last)\n",
    "Cell In[66], line 1\n",
    "----> 1 iter(1316)\n",
    "\n",
    "TypeError: 'int' object is not iterable\n",
    "'''"
   ]
  },
  {
   "cell_type": "markdown",
   "metadata": {
    "collapsed": false
   },
   "source": [
    "String is iterable\n",
    "Integer is not iterable"
   ]
  },
  {
   "cell_type": "code",
   "execution_count": 27,
   "metadata": {
    "ExecuteTime": {
     "start_time": "2023-05-02T01:23:47.007009Z",
     "end_time": "2023-05-02T01:23:47.812001Z"
    },
    "collapsed": false
   },
   "outputs": [],
   "source": [
    "def count_test(n) :\n",
    "    count = 1\n",
    "    while count <= n :\n",
    "        yield count\n",
    "        count = count + 1"
   ]
  },
  {
   "cell_type": "code",
   "execution_count": 28,
   "metadata": {
    "ExecuteTime": {
     "start_time": "2023-05-02T01:23:47.047011Z",
     "end_time": "2023-05-02T01:23:47.812001Z"
    },
    "collapsed": false
   },
   "outputs": [],
   "source": [
    "c = count_test(5)"
   ]
  },
  {
   "cell_type": "code",
   "execution_count": 29,
   "metadata": {
    "ExecuteTime": {
     "start_time": "2023-05-02T01:23:47.069003Z",
     "end_time": "2023-05-02T01:23:47.813005Z"
    },
    "collapsed": false
   },
   "outputs": [
    {
     "data": {
      "text/plain": "generator"
     },
     "execution_count": 29,
     "metadata": {},
     "output_type": "execute_result"
    }
   ],
   "source": [
    "type(c)"
   ]
  },
  {
   "cell_type": "code",
   "execution_count": 30,
   "metadata": {
    "ExecuteTime": {
     "start_time": "2023-05-02T01:23:47.096005Z",
     "end_time": "2023-05-02T01:23:47.813005Z"
    },
    "collapsed": false
   },
   "outputs": [
    {
     "name": "stdout",
     "output_type": "stream",
     "text": [
      "1\n",
      "2\n",
      "3\n",
      "4\n",
      "5\n"
     ]
    }
   ],
   "source": [
    "for i in c :\n",
    "    print(i)"
   ]
  },
  {
   "cell_type": "code",
   "execution_count": 31,
   "metadata": {
    "collapsed": false,
    "ExecuteTime": {
     "start_time": "2023-05-02T01:23:47.126001Z",
     "end_time": "2023-05-02T01:23:47.814002Z"
    }
   },
   "outputs": [
    {
     "name": "stdout",
     "output_type": "stream",
     "text": [
      "t\n",
      "h\n",
      "i\n",
      "s\n",
      " \n",
      "i\n",
      "s\n",
      " \n",
      "a\n",
      " \n",
      "p\n",
      "e\n",
      "n\n"
     ]
    }
   ],
   "source": [
    "s = \"this is a pen\"\n",
    "for i in s:\n",
    "    print(i)"
   ]
  },
  {
   "cell_type": "code",
   "execution_count": 32,
   "metadata": {
    "ExecuteTime": {
     "start_time": "2023-05-02T01:23:47.161001Z",
     "end_time": "2023-05-02T01:23:47.814002Z"
    }
   },
   "outputs": [
    {
     "name": "stdout",
     "output_type": "stream",
     "text": [
      "this is a pen\n",
      "this is a pen\n",
      "this is a pen\n",
      "this is a pen\n",
      "this is a pen\n",
      "this is a pen\n",
      "this is a pen\n",
      "this is a pen\n",
      "this is a pen\n",
      "this is a pen\n",
      "this is a pen\n",
      "this is a pen\n",
      "this is a pen\n"
     ]
    }
   ],
   "source": [
    "s = \"this is a pen\"\n",
    "for i in s:\n",
    "    print(s)"
   ]
  },
  {
   "cell_type": "code",
   "execution_count": 33,
   "metadata": {
    "ExecuteTime": {
     "start_time": "2023-05-02T01:23:47.189000Z",
     "end_time": "2023-05-02T01:23:47.814999Z"
    }
   },
   "outputs": [],
   "source": [
    "s = 'this is a pen'"
   ]
  },
  {
   "cell_type": "code",
   "execution_count": 34,
   "metadata": {
    "ExecuteTime": {
     "start_time": "2023-05-02T01:23:47.223008Z",
     "end_time": "2023-05-02T01:23:47.816003Z"
    }
   },
   "outputs": [
    {
     "data": {
      "text/plain": "'this is a pen'"
     },
     "execution_count": 34,
     "metadata": {},
     "output_type": "execute_result"
    }
   ],
   "source": [
    "s"
   ]
  },
  {
   "cell_type": "code",
   "execution_count": 35,
   "metadata": {
    "ExecuteTime": {
     "start_time": "2023-05-02T01:23:47.252003Z",
     "end_time": "2023-05-02T01:23:47.817000Z"
    }
   },
   "outputs": [],
   "source": [
    "l = list(s)"
   ]
  },
  {
   "cell_type": "code",
   "execution_count": 36,
   "metadata": {
    "ExecuteTime": {
     "start_time": "2023-05-02T01:23:47.286003Z",
     "end_time": "2023-05-02T01:23:47.818008Z"
    }
   },
   "outputs": [],
   "source": [
    "l.reverse()"
   ]
  },
  {
   "cell_type": "code",
   "execution_count": 37,
   "metadata": {
    "ExecuteTime": {
     "start_time": "2023-05-02T01:23:47.315004Z",
     "end_time": "2023-05-02T01:23:47.819004Z"
    }
   },
   "outputs": [
    {
     "data": {
      "text/plain": "['n', 'e', 'p', ' ', 'a', ' ', 's', 'i', ' ', 's', 'i', 'h', 't']"
     },
     "execution_count": 37,
     "metadata": {},
     "output_type": "execute_result"
    }
   ],
   "source": [
    "l"
   ]
  },
  {
   "cell_type": "code",
   "execution_count": 38,
   "metadata": {
    "ExecuteTime": {
     "start_time": "2023-05-02T01:23:47.346006Z",
     "end_time": "2023-05-02T01:23:47.820005Z"
    }
   },
   "outputs": [],
   "source": [
    "l.remove(' ')"
   ]
  },
  {
   "cell_type": "code",
   "execution_count": 39,
   "metadata": {
    "ExecuteTime": {
     "start_time": "2023-05-02T01:23:47.363004Z",
     "end_time": "2023-05-02T01:23:47.821005Z"
    }
   },
   "outputs": [
    {
     "data": {
      "text/plain": "['n', 'e', 'p', 'a', ' ', 's', 'i', ' ', 's', 'i', 'h', 't']"
     },
     "execution_count": 39,
     "metadata": {},
     "output_type": "execute_result"
    }
   ],
   "source": [
    "l"
   ]
  },
  {
   "cell_type": "code",
   "execution_count": 40,
   "metadata": {
    "ExecuteTime": {
     "start_time": "2023-05-02T01:23:47.434005Z",
     "end_time": "2023-05-02T01:23:47.821999Z"
    }
   },
   "outputs": [],
   "source": [
    "l.insert(9,' ')"
   ]
  },
  {
   "cell_type": "code",
   "execution_count": 41,
   "metadata": {
    "ExecuteTime": {
     "start_time": "2023-05-02T01:23:47.491010Z",
     "end_time": "2023-05-02T01:23:47.821999Z"
    }
   },
   "outputs": [
    {
     "data": {
      "text/plain": "['n', 'e', 'p', 'a', ' ', 's', 'i', ' ', 's', ' ', 'i', 'h', 't']"
     },
     "execution_count": 41,
     "metadata": {},
     "output_type": "execute_result"
    }
   ],
   "source": [
    "l"
   ]
  },
  {
   "cell_type": "code",
   "execution_count": 42,
   "metadata": {
    "ExecuteTime": {
     "start_time": "2023-05-02T01:23:47.523004Z",
     "end_time": "2023-05-02T01:23:47.824005Z"
    }
   },
   "outputs": [
    {
     "name": "stdout",
     "output_type": "stream",
     "text": [
      "Given String: this is a pen\n",
      "Reversed String: nepa si s iht\n"
     ]
    }
   ],
   "source": [
    "s = 'this is a pen'\n",
    "l = list(s)\n",
    "l.reverse() \n",
    "l.remove(' ')\n",
    "l.insert(9,' ')\n",
    "print(\"Given String:\", s)\n",
    "\n",
    "s = ''\n",
    "for i in l:\n",
    "    s = s + i\n",
    "print(\"Reversed String:\", s)"
   ]
  },
  {
   "cell_type": "markdown",
   "source": [
    "# ------------------- END OF PRACTICE -------------------"
   ],
   "metadata": {
    "collapsed": false
   }
  },
  {
   "cell_type": "code",
   "execution_count": 43,
   "metadata": {
    "ExecuteTime": {
     "start_time": "2023-05-02T01:23:47.629999Z",
     "end_time": "2023-05-02T01:23:47.825006Z"
    }
   },
   "outputs": [],
   "source": []
  }
 ],
 "metadata": {
  "kernelspec": {
   "display_name": "Python 3",
   "language": "python",
   "name": "python3"
  },
  "language_info": {
   "codemirror_mode": {
    "name": "ipython",
    "version": 3
   },
   "file_extension": ".py",
   "mimetype": "text/x-python",
   "name": "python",
   "nbconvert_exporter": "python",
   "pygments_lexer": "ipython3",
   "version": "3.10.4"
  }
 },
 "nbformat": 4,
 "nbformat_minor": 0
}
