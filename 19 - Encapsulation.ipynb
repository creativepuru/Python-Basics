{
 "cells": [
  {
   "cell_type": "code",
   "execution_count": 973,
   "metadata": {
    "ExecuteTime": {
     "end_time": "2023-04-26T00:39:13.492411Z",
     "start_time": "2023-04-26T00:39:13.439000Z"
    },
    "collapsed": true
   },
   "outputs": [],
   "source": [
    "class test :\n",
    "\n",
    "    def __init__(self, a, b):\n",
    "        self.a = a\n",
    "        self.b = b"
   ]
  },
  {
   "cell_type": "code",
   "execution_count": 974,
   "metadata": {
    "ExecuteTime": {
     "end_time": "2023-04-26T00:39:32.601153Z",
     "start_time": "2023-04-26T00:39:32.555591Z"
    },
    "collapsed": false
   },
   "outputs": [],
   "source": [
    "t = test(12, 34)"
   ]
  },
  {
   "cell_type": "code",
   "execution_count": 975,
   "metadata": {
    "ExecuteTime": {
     "end_time": "2023-04-26T00:39:38.195328Z",
     "start_time": "2023-04-26T00:39:38.082328Z"
    },
    "collapsed": false
   },
   "outputs": [
    {
     "data": {
      "text/plain": [
       "12"
      ]
     },
     "execution_count": 975,
     "metadata": {},
     "output_type": "execute_result"
    }
   ],
   "source": [
    "t.a"
   ]
  },
  {
   "cell_type": "code",
   "execution_count": 976,
   "metadata": {
    "ExecuteTime": {
     "end_time": "2023-04-26T00:39:41.532327Z",
     "start_time": "2023-04-26T00:39:41.506330Z"
    },
    "collapsed": false
   },
   "outputs": [
    {
     "data": {
      "text/plain": [
       "34"
      ]
     },
     "execution_count": 976,
     "metadata": {},
     "output_type": "execute_result"
    }
   ],
   "source": [
    "t.b"
   ]
  },
  {
   "cell_type": "code",
   "execution_count": 977,
   "metadata": {
    "ExecuteTime": {
     "end_time": "2023-04-26T00:39:52.325325Z",
     "start_time": "2023-04-26T00:39:52.249339Z"
    },
    "collapsed": false
   },
   "outputs": [],
   "source": [
    "t.a = 75674"
   ]
  },
  {
   "cell_type": "code",
   "execution_count": 978,
   "metadata": {
    "ExecuteTime": {
     "end_time": "2023-04-26T00:39:55.265334Z",
     "start_time": "2023-04-26T00:39:55.201326Z"
    },
    "collapsed": false
   },
   "outputs": [
    {
     "data": {
      "text/plain": [
       "75674"
      ]
     },
     "execution_count": 978,
     "metadata": {},
     "output_type": "execute_result"
    }
   ],
   "source": [
    "t.a"
   ]
  },
  {
   "cell_type": "code",
   "execution_count": 979,
   "metadata": {
    "ExecuteTime": {
     "end_time": "2023-04-26T00:39:57.729343Z",
     "start_time": "2023-04-26T00:39:57.647327Z"
    },
    "collapsed": false
   },
   "outputs": [
    {
     "data": {
      "text/plain": [
       "34"
      ]
     },
     "execution_count": 979,
     "metadata": {},
     "output_type": "execute_result"
    }
   ],
   "source": [
    "t.b\n"
   ]
  },
  {
   "cell_type": "markdown",
   "metadata": {
    "collapsed": false
   },
   "source": [
    "# Encapsulating the data by using double underscore (\"__\") before the variable name\n",
    "examples : self.__year, self.__make"
   ]
  },
  {
   "cell_type": "code",
   "execution_count": 980,
   "metadata": {
    "ExecuteTime": {
     "end_time": "2023-04-26T00:54:21.911415Z",
     "start_time": "2023-04-26T00:54:21.862419Z"
    },
    "collapsed": false
   },
   "outputs": [],
   "source": [
    "class car :\n",
    "\n",
    "    def __init__(self, year, make, model, speed):\n",
    "        self.__year = year\n",
    "        self.__make = make\n",
    "        self.__model = model\n",
    "        self.__speed = 0"
   ]
  },
  {
   "cell_type": "code",
   "execution_count": 981,
   "metadata": {
    "ExecuteTime": {
     "end_time": "2023-04-26T00:54:22.470437Z",
     "start_time": "2023-04-26T00:54:22.401416Z"
    },
    "collapsed": false
   },
   "outputs": [],
   "source": [
    "c = car(2023, \"Bugati\", \"Veyron\", 500)"
   ]
  },
  {
   "cell_type": "markdown",
   "metadata": {
    "collapsed": false
   },
   "source": [
    "# Steps to access the variable :\n",
    "use _ single underscore and then class name, then double underscore __ and then variable name\n",
    "c._car__make"
   ]
  },
  {
   "cell_type": "code",
   "execution_count": 982,
   "metadata": {
    "ExecuteTime": {
     "end_time": "2023-04-26T00:54:23.586420Z",
     "start_time": "2023-04-26T00:54:23.538419Z"
    },
    "collapsed": false
   },
   "outputs": [
    {
     "data": {
      "text/plain": [
       "'Bugati'"
      ]
     },
     "execution_count": 982,
     "metadata": {},
     "output_type": "execute_result"
    }
   ],
   "source": [
    "c._car__make"
   ]
  },
  {
   "cell_type": "code",
   "execution_count": 983,
   "metadata": {
    "ExecuteTime": {
     "end_time": "2023-04-26T00:54:24.102417Z",
     "start_time": "2023-04-26T00:54:24.056417Z"
    },
    "collapsed": false
   },
   "outputs": [
    {
     "data": {
      "text/plain": [
       "2023"
      ]
     },
     "execution_count": 983,
     "metadata": {},
     "output_type": "execute_result"
    }
   ],
   "source": [
    "c._car__year"
   ]
  },
  {
   "cell_type": "code",
   "execution_count": 984,
   "metadata": {
    "ExecuteTime": {
     "end_time": "2023-04-26T00:54:25.006418Z",
     "start_time": "2023-04-26T00:54:24.975448Z"
    },
    "collapsed": false
   },
   "outputs": [
    {
     "data": {
      "text/plain": [
       "0"
      ]
     },
     "execution_count": 984,
     "metadata": {},
     "output_type": "execute_result"
    }
   ],
   "source": [
    "c._car__speed"
   ]
  },
  {
   "cell_type": "code",
   "execution_count": 985,
   "metadata": {
    "ExecuteTime": {
     "end_time": "2023-04-26T00:54:25.904415Z",
     "start_time": "2023-04-26T00:54:25.845419Z"
    },
    "collapsed": false
   },
   "outputs": [
    {
     "data": {
      "text/plain": [
       "'Veyron'"
      ]
     },
     "execution_count": 985,
     "metadata": {},
     "output_type": "execute_result"
    }
   ],
   "source": [
    "c._car__model"
   ]
  },
  {
   "cell_type": "code",
   "execution_count": 986,
   "metadata": {
    "ExecuteTime": {
     "end_time": "2023-04-26T00:59:12.071601Z",
     "start_time": "2023-04-26T00:59:12.031602Z"
    },
    "collapsed": false
   },
   "outputs": [],
   "source": [
    "class car :\n",
    "\n",
    "    def __init__(self, year, make, model, speed):\n",
    "\n",
    "        self.__year = year\n",
    "        self.__make = make\n",
    "        self.__model = model\n",
    "        self.__speed = 0\n",
    "\n",
    "    def set_speed(self, speed):\n",
    "        self.__speed = 0 if speed < 0 else speed\n",
    "\n",
    "    def get_speed(self):\n",
    "        return self.__speed"
   ]
  },
  {
   "cell_type": "code",
   "execution_count": 987,
   "metadata": {
    "ExecuteTime": {
     "end_time": "2023-04-26T01:00:15.513599Z",
     "start_time": "2023-04-26T01:00:15.465605Z"
    },
    "collapsed": false
   },
   "outputs": [],
   "source": [
    "c = car(2022, \"Mercedes\", \"A class\", 400)"
   ]
  },
  {
   "cell_type": "code",
   "execution_count": 988,
   "metadata": {
    "ExecuteTime": {
     "end_time": "2023-04-26T01:00:40.209598Z",
     "start_time": "2023-04-26T01:00:40.057599Z"
    },
    "collapsed": false
   },
   "outputs": [
    {
     "data": {
      "text/plain": [
       "0"
      ]
     },
     "execution_count": 988,
     "metadata": {},
     "output_type": "execute_result"
    }
   ],
   "source": [
    "c.get_speed()"
   ]
  },
  {
   "cell_type": "code",
   "execution_count": 989,
   "metadata": {
    "ExecuteTime": {
     "end_time": "2023-04-26T01:00:54.987615Z",
     "start_time": "2023-04-26T01:00:54.942603Z"
    },
    "collapsed": false
   },
   "outputs": [],
   "source": [
    "c.set_speed(1000)"
   ]
  },
  {
   "cell_type": "code",
   "execution_count": 990,
   "metadata": {
    "ExecuteTime": {
     "end_time": "2023-04-26T01:01:02.940636Z",
     "start_time": "2023-04-26T01:01:02.854601Z"
    },
    "collapsed": false
   },
   "outputs": [
    {
     "data": {
      "text/plain": [
       "1000"
      ]
     },
     "execution_count": 990,
     "metadata": {},
     "output_type": "execute_result"
    }
   ],
   "source": [
    "c.get_speed()"
   ]
  },
  {
   "cell_type": "code",
   "execution_count": 991,
   "metadata": {
    "ExecuteTime": {
     "end_time": "2023-04-26T01:01:20.981761Z",
     "start_time": "2023-04-26T01:01:20.877048Z"
    },
    "collapsed": false
   },
   "outputs": [
    {
     "data": {
      "text/plain": [
       "'A class'"
      ]
     },
     "execution_count": 991,
     "metadata": {},
     "output_type": "execute_result"
    }
   ],
   "source": [
    "c._car__model"
   ]
  },
  {
   "cell_type": "code",
   "execution_count": 992,
   "metadata": {
    "ExecuteTime": {
     "end_time": "2023-04-26T01:01:32.107302Z",
     "start_time": "2023-04-26T01:01:32.055521Z"
    },
    "collapsed": false
   },
   "outputs": [
    {
     "data": {
      "text/plain": [
       "'Mercedes'"
      ]
     },
     "execution_count": 992,
     "metadata": {},
     "output_type": "execute_result"
    }
   ],
   "source": [
    "c._car__make"
   ]
  },
  {
   "cell_type": "code",
   "execution_count": 993,
   "metadata": {
    "ExecuteTime": {
     "end_time": "2023-04-26T01:17:53.122280Z",
     "start_time": "2023-04-26T01:17:53.085278Z"
    },
    "collapsed": false
   },
   "outputs": [],
   "source": [
    "class bank_account :\n",
    "\n",
    "    def __init__(self, balance):            # Private function\n",
    "        self.__balance = balance            # we have used double underscore here in variable \"self.__balance\" , that's why function is private and hidden from the user.\n",
    "\n",
    "    def deposit(self, deposit_amount):      # Public function\n",
    "        self.__balance = self.__balance + deposit_amount\n",
    "\n",
    "    def withdraw(self, withdraw_amount):    # Public function\n",
    "        if self.__balance >= withdraw_amount :\n",
    "            self.__balance = self.__balance - withdraw_amount\n",
    "            return True\n",
    "        else :\n",
    "            return False\n",
    "\n",
    "    def get_balance(self):                  # Public function\n",
    "        return self.__balance"
   ]
  },
  {
   "cell_type": "code",
   "execution_count": 994,
   "metadata": {
    "ExecuteTime": {
     "end_time": "2023-04-26T01:17:55.325281Z",
     "start_time": "2023-04-26T01:17:55.292280Z"
    },
    "collapsed": false
   },
   "outputs": [],
   "source": [
    "puru = bank_account(1000)"
   ]
  },
  {
   "cell_type": "code",
   "execution_count": 995,
   "metadata": {
    "ExecuteTime": {
     "end_time": "2023-04-26T01:17:55.585277Z",
     "start_time": "2023-04-26T01:17:55.496280Z"
    },
    "collapsed": false
   },
   "outputs": [
    {
     "data": {
      "text/plain": [
       "1000"
      ]
     },
     "execution_count": 995,
     "metadata": {},
     "output_type": "execute_result"
    }
   ],
   "source": [
    "puru.get_balance()"
   ]
  },
  {
   "cell_type": "code",
   "execution_count": 996,
   "metadata": {
    "ExecuteTime": {
     "end_time": "2023-04-26T01:17:55.867276Z",
     "start_time": "2023-04-26T01:17:55.777281Z"
    },
    "collapsed": false
   },
   "outputs": [],
   "source": [
    "puru.deposit(10000)"
   ]
  },
  {
   "cell_type": "code",
   "execution_count": 997,
   "metadata": {
    "ExecuteTime": {
     "end_time": "2023-04-26T01:17:55.998279Z",
     "start_time": "2023-04-26T01:17:55.920278Z"
    },
    "collapsed": false
   },
   "outputs": [
    {
     "data": {
      "text/plain": [
       "11000"
      ]
     },
     "execution_count": 997,
     "metadata": {},
     "output_type": "execute_result"
    }
   ],
   "source": [
    "puru.get_balance()"
   ]
  },
  {
   "cell_type": "code",
   "execution_count": 998,
   "metadata": {
    "ExecuteTime": {
     "end_time": "2023-04-26T01:17:59.666276Z",
     "start_time": "2023-04-26T01:17:59.583282Z"
    },
    "collapsed": false
   },
   "outputs": [
    {
     "data": {
      "text/plain": [
       "True"
      ]
     },
     "execution_count": 998,
     "metadata": {},
     "output_type": "execute_result"
    }
   ],
   "source": [
    "puru.withdraw(5000)"
   ]
  },
  {
   "cell_type": "code",
   "execution_count": 999,
   "metadata": {
    "ExecuteTime": {
     "end_time": "2023-04-26T01:18:00.611275Z",
     "start_time": "2023-04-26T01:18:00.577278Z"
    },
    "collapsed": false
   },
   "outputs": [
    {
     "data": {
      "text/plain": [
       "6000"
      ]
     },
     "execution_count": 999,
     "metadata": {},
     "output_type": "execute_result"
    }
   ],
   "source": [
    "puru.get_balance()"
   ]
  },
  {
   "cell_type": "code",
   "execution_count": 1000,
   "metadata": {
    "ExecuteTime": {
     "end_time": "2023-04-26T01:21:08.045636Z",
     "start_time": "2023-04-26T01:21:07.918939Z"
    },
    "collapsed": false
   },
   "outputs": [
    {
     "data": {
      "text/plain": [
       "False"
      ]
     },
     "execution_count": 1000,
     "metadata": {},
     "output_type": "execute_result"
    }
   ],
   "source": [
    "puru.withdraw(100000)"
   ]
  },
  {
   "cell_type": "code",
   "execution_count": 1001,
   "metadata": {
    "ExecuteTime": {
     "end_time": "2023-04-26T01:21:21.705255Z",
     "start_time": "2023-04-26T01:21:21.621922Z"
    },
    "collapsed": false
   },
   "outputs": [],
   "source": [
    "puru.deposit(1000000000000)"
   ]
  },
  {
   "cell_type": "code",
   "execution_count": 1002,
   "metadata": {
    "ExecuteTime": {
     "end_time": "2023-04-26T01:21:27.368235Z",
     "start_time": "2023-04-26T01:21:27.219905Z"
    },
    "collapsed": false
   },
   "outputs": [
    {
     "data": {
      "text/plain": [
       "1000000006000"
      ]
     },
     "execution_count": 1002,
     "metadata": {},
     "output_type": "execute_result"
    }
   ],
   "source": [
    "puru.get_balance()"
   ]
  },
  {
   "cell_type": "code",
   "execution_count": 1003,
   "metadata": {
    "ExecuteTime": {
     "end_time": "2023-04-26T01:22:03.973114Z",
     "start_time": "2023-04-26T01:22:03.817212Z"
    },
    "collapsed": false
   },
   "outputs": [],
   "source": [
    "puru.deposit(4000)"
   ]
  },
  {
   "cell_type": "code",
   "execution_count": 1004,
   "metadata": {
    "ExecuteTime": {
     "end_time": "2023-04-26T01:22:07.655427Z",
     "start_time": "2023-04-26T01:22:07.405286Z"
    },
    "collapsed": false
   },
   "outputs": [
    {
     "data": {
      "text/plain": [
       "1000000010000"
      ]
     },
     "execution_count": 1004,
     "metadata": {},
     "output_type": "execute_result"
    }
   ],
   "source": [
    "puru.get_balance()"
   ]
  },
  {
   "cell_type": "code",
   "execution_count": 1005,
   "metadata": {
    "ExecuteTime": {
     "end_time": "2023-04-26T01:22:21.609408Z",
     "start_time": "2023-04-26T01:22:21.380711Z"
    },
    "collapsed": false
   },
   "outputs": [],
   "source": [
    "puru.deposit(100000)"
   ]
  },
  {
   "cell_type": "code",
   "execution_count": 1006,
   "metadata": {
    "ExecuteTime": {
     "end_time": "2023-04-26T01:22:31.975432Z",
     "start_time": "2023-04-26T01:22:31.864721Z"
    },
    "collapsed": false
   },
   "outputs": [
    {
     "data": {
      "text/plain": [
       "1000000110000"
      ]
     },
     "execution_count": 1006,
     "metadata": {},
     "output_type": "execute_result"
    }
   ],
   "source": [
    "puru.get_balance()"
   ]
  },
  {
   "cell_type": "code",
   "execution_count": 1007,
   "metadata": {
    "ExecuteTime": {
     "end_time": "2023-04-26T01:22:39.849971Z",
     "start_time": "2023-04-26T01:22:39.633642Z"
    },
    "collapsed": false
   },
   "outputs": [],
   "source": [
    "puru.deposit(989321354684651)"
   ]
  },
  {
   "cell_type": "code",
   "execution_count": 1008,
   "metadata": {
    "ExecuteTime": {
     "end_time": "2023-04-26T01:22:44.496288Z",
     "start_time": "2023-04-26T01:22:44.330942Z"
    },
    "collapsed": false
   },
   "outputs": [
    {
     "data": {
      "text/plain": [
       "990321354794651"
      ]
     },
     "execution_count": 1008,
     "metadata": {},
     "output_type": "execute_result"
    }
   ],
   "source": [
    "puru.get_balance()"
   ]
  },
  {
   "cell_type": "markdown",
   "metadata": {
    "collapsed": false
   },
   "source": [
    "# ---------------------------- END ----------------------------"
   ]
  },
  {
   "cell_type": "code",
   "execution_count": null,
   "metadata": {
    "collapsed": false
   },
   "outputs": [],
   "source": []
  }
 ],
 "metadata": {
  "kernelspec": {
   "display_name": "Python 3",
   "language": "python",
   "name": "python3"
  },
  "language_info": {
   "codemirror_mode": {
    "name": "ipython",
    "version": 3
   },
   "file_extension": ".py",
   "mimetype": "text/x-python",
   "name": "python",
   "nbconvert_exporter": "python",
   "pygments_lexer": "ipython3",
   "version": "3.10.4"
  }
 },
 "nbformat": 4,
 "nbformat_minor": 0
}
