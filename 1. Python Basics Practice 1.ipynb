{
 "cells": [
  {
   "cell_type": "code",
   "execution_count": 10,
   "id": "053b993c-7728-4774-a841-8fe90ce1056e",
   "metadata": {},
   "outputs": [
    {
     "name": "stdout",
     "output_type": "stream",
     "text": [
      "3.10.4 (main, Apr 25 2023, 19:51:33) [GCC 9.4.0]\n"
     ]
    }
   ],
   "source": [
    "import sys\n",
    "print(sys.version)"
   ]
  },
  {
   "cell_type": "code",
   "execution_count": 11,
   "id": "1a020a9c-c1ed-4a98-bdfd-da3df111cc0e",
   "metadata": {},
   "outputs": [
    {
     "name": "stdout",
     "output_type": "stream",
     "text": [
      "Hello Purushottam\n"
     ]
    }
   ],
   "source": [
    "print ('Hello Purushottam')"
   ]
  },
  {
   "cell_type": "code",
   "execution_count": 12,
   "id": "22fbfaa4-3ef7-4396-9a09-9d78e442f789",
   "metadata": {},
   "outputs": [
    {
     "name": "stdout",
     "output_type": "stream",
     "text": [
      "Hello anon\n"
     ]
    }
   ],
   "source": [
    "f = input('Write your First Name : ')\n",
    "\n",
    "print('Hello ' + f)"
   ]
  },
  {
   "cell_type": "code",
   "execution_count": 13,
   "id": "3a807f3c-f68e-4f9f-a7cf-41f2c57f806f",
   "metadata": {},
   "outputs": [],
   "source": [
    "Error = '''f = int(input('Enter your age (in years) : '))\n",
    "born = 2023-f\n",
    "\n",
    "print('You were born in the Year : ' + born)\n",
    "'''\n",
    "\n"
   ]
  },
  {
   "cell_type": "code",
   "execution_count": 14,
   "id": "653642f3-1da0-4bab-a2e0-fa930b83d3ad",
   "metadata": {},
   "outputs": [
    {
     "name": "stdout",
     "output_type": "stream",
     "text": [
      "You were born in the Year : \n",
      "1923\n"
     ]
    }
   ],
   "source": [
    "f = int(input('Enter your age (in years) : '))\n",
    "born = 2023-f\n",
    "\n",
    "print('You were born in the Year : ')\n",
    "print(born)"
   ]
  },
  {
   "cell_type": "code",
   "execution_count": 15,
   "id": "ee2608e1-04cf-422f-a24f-33a81b7b3dda",
   "metadata": {},
   "outputs": [
    {
     "name": "stdout",
     "output_type": "stream",
     "text": [
      "Hello anon ymous\n"
     ]
    }
   ],
   "source": [
    "f1 = input('Write your First Name : ')\n",
    "f2 = input('Write your Second Name : ')\n",
    "\n",
    "print('Hello ' + f1 + ' ' + f2)"
   ]
  },
  {
   "cell_type": "code",
   "execution_count": 16,
   "id": "74bde03e-b7f9-40eb-a5b7-8476b019328e",
   "metadata": {},
   "outputs": [
    {
     "name": "stdout",
     "output_type": "stream",
     "text": [
      "You were born in the Year : \n",
      "1923\n"
     ]
    },
    {
     "data": {
      "text/plain": [
       "int"
      ]
     },
     "execution_count": 16,
     "metadata": {},
     "output_type": "execute_result"
    }
   ],
   "source": [
    "f = int(input('Enter your age (in years) : '))\n",
    "born = 2023-f\n",
    "\n",
    "print('You were born in the Year : ')\n",
    "print(born)\n",
    "#type(f)\n",
    "type(born)"
   ]
  },
  {
   "cell_type": "code",
   "execution_count": null,
   "id": "62268f67-9c74-42af-9358-b6721bc69980",
   "metadata": {},
   "outputs": [],
   "source": []
  }
 ],
 "metadata": {
  "kernelspec": {
   "display_name": "Python 3 (ipykernel)",
   "language": "python",
   "name": "python3"
  },
  "language_info": {
   "codemirror_mode": {
    "name": "ipython",
    "version": 3
   },
   "file_extension": ".py",
   "mimetype": "text/x-python",
   "name": "python",
   "nbconvert_exporter": "python",
   "pygments_lexer": "ipython3",
   "version": "3.10.4"
  }
 },
 "nbformat": 4,
 "nbformat_minor": 5
}
