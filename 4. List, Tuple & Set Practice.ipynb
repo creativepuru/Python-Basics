{
 "cells": [
  {
   "cell_type": "code",
   "execution_count": 99,
   "id": "517301e2-7851-4967-a792-bc896a1e8874",
   "metadata": {
    "ExecuteTime": {
     "start_time": "2023-05-01T23:11:37.343986Z",
     "end_time": "2023-05-01T23:11:49.683939Z"
    }
   },
   "outputs": [],
   "source": [
    "l = [1, 200, 1.200, 'Puru', True, 1+2j]"
   ]
  },
  {
   "cell_type": "code",
   "execution_count": 100,
   "id": "741023e2-867d-4ae5-a4ba-52dbcb41052f",
   "metadata": {
    "ExecuteTime": {
     "start_time": "2023-05-01T23:11:37.435987Z",
     "end_time": "2023-05-01T23:11:49.695948Z"
    }
   },
   "outputs": [
    {
     "data": {
      "text/plain": "list"
     },
     "execution_count": 100,
     "metadata": {},
     "output_type": "execute_result"
    }
   ],
   "source": [
    "type(l)"
   ]
  },
  {
   "cell_type": "code",
   "execution_count": 101,
   "id": "cd6bd7d8-5414-417d-8eb4-8316ca4ea93c",
   "metadata": {
    "ExecuteTime": {
     "start_time": "2023-05-01T23:11:37.546989Z",
     "end_time": "2023-05-01T23:11:50.583945Z"
    }
   },
   "outputs": [
    {
     "data": {
      "text/plain": "200"
     },
     "execution_count": 101,
     "metadata": {},
     "output_type": "execute_result"
    }
   ],
   "source": [
    "l[1]"
   ]
  },
  {
   "cell_type": "code",
   "execution_count": 102,
   "id": "16125891-9550-4341-8199-e9d2b39760bf",
   "metadata": {
    "ExecuteTime": {
     "start_time": "2023-05-01T23:11:37.565984Z",
     "end_time": "2023-05-01T23:11:50.782939Z"
    }
   },
   "outputs": [
    {
     "data": {
      "text/plain": "1.2"
     },
     "execution_count": 102,
     "metadata": {},
     "output_type": "execute_result"
    }
   ],
   "source": [
    "l[2]"
   ]
  },
  {
   "cell_type": "code",
   "execution_count": 103,
   "id": "f1ad39ab-6033-4b08-bc97-db7f03e8f899",
   "metadata": {
    "ExecuteTime": {
     "start_time": "2023-05-01T23:11:37.573993Z",
     "end_time": "2023-05-01T23:11:50.783940Z"
    }
   },
   "outputs": [
    {
     "data": {
      "text/plain": "1"
     },
     "execution_count": 103,
     "metadata": {},
     "output_type": "execute_result"
    }
   ],
   "source": [
    "l[0]"
   ]
  },
  {
   "cell_type": "code",
   "execution_count": 104,
   "id": "1e917dbd-5e20-4656-a2bb-4a9d8752c661",
   "metadata": {
    "ExecuteTime": {
     "start_time": "2023-05-01T23:11:37.594985Z",
     "end_time": "2023-05-01T23:11:50.783940Z"
    }
   },
   "outputs": [
    {
     "data": {
      "text/plain": "(1+2j)"
     },
     "execution_count": 104,
     "metadata": {},
     "output_type": "execute_result"
    }
   ],
   "source": [
    "l[-1]"
   ]
  },
  {
   "cell_type": "code",
   "execution_count": 105,
   "id": "080b7203-acfb-4a56-81c5-3c2a5208d5a7",
   "metadata": {
    "ExecuteTime": {
     "start_time": "2023-05-01T23:11:37.610985Z",
     "end_time": "2023-05-01T23:11:50.784940Z"
    }
   },
   "outputs": [
    {
     "data": {
      "text/plain": "True"
     },
     "execution_count": 105,
     "metadata": {},
     "output_type": "execute_result"
    }
   ],
   "source": [
    "l[-2]"
   ]
  },
  {
   "cell_type": "code",
   "execution_count": 106,
   "id": "cbbbca09-c5ca-44c9-90da-c96f703712c2",
   "metadata": {
    "ExecuteTime": {
     "start_time": "2023-05-01T23:11:37.633990Z",
     "end_time": "2023-05-01T23:11:50.925005Z"
    }
   },
   "outputs": [
    {
     "data": {
      "text/plain": "[1, 200, 1.2, 'Puru', True, (1+2j)]"
     },
     "execution_count": 106,
     "metadata": {},
     "output_type": "execute_result"
    }
   ],
   "source": [
    "l"
   ]
  },
  {
   "cell_type": "code",
   "execution_count": 107,
   "id": "1a80d757-c862-4390-b848-b81f9aebbb80",
   "metadata": {
    "ExecuteTime": {
     "start_time": "2023-05-01T23:11:37.663987Z",
     "end_time": "2023-05-01T23:11:50.925997Z"
    }
   },
   "outputs": [
    {
     "data": {
      "text/plain": "6"
     },
     "execution_count": 107,
     "metadata": {},
     "output_type": "execute_result"
    }
   ],
   "source": [
    "len(l)"
   ]
  },
  {
   "cell_type": "code",
   "execution_count": 108,
   "id": "f6df7e3e-8b0b-4504-914c-78db5b9306c8",
   "metadata": {
    "ExecuteTime": {
     "start_time": "2023-05-01T23:11:37.695016Z",
     "end_time": "2023-05-01T23:11:51.269948Z"
    }
   },
   "outputs": [],
   "source": [
    "#l.index()"
   ]
  },
  {
   "cell_type": "code",
   "execution_count": 109,
   "id": "69708750-36bd-451a-bcc9-39a009d802e6",
   "metadata": {
    "ExecuteTime": {
     "start_time": "2023-05-01T23:11:37.733982Z",
     "end_time": "2023-05-01T23:11:51.270988Z"
    }
   },
   "outputs": [
    {
     "data": {
      "text/plain": "1"
     },
     "execution_count": 109,
     "metadata": {},
     "output_type": "execute_result"
    }
   ],
   "source": [
    "l.index(200)"
   ]
  },
  {
   "cell_type": "code",
   "execution_count": 110,
   "id": "c4b5887a-db54-45e1-8c06-462b7d011ff1",
   "metadata": {
    "ExecuteTime": {
     "start_time": "2023-05-01T23:11:37.778986Z",
     "end_time": "2023-05-01T23:11:51.270988Z"
    }
   },
   "outputs": [
    {
     "data": {
      "text/plain": "[1, 200, 1.2, 'Puru', True, (1+2j)]"
     },
     "execution_count": 110,
     "metadata": {},
     "output_type": "execute_result"
    }
   ],
   "source": [
    "l"
   ]
  },
  {
   "cell_type": "code",
   "execution_count": 111,
   "id": "daf8c06a-9f03-49b7-89ea-8664d7273a57",
   "metadata": {
    "ExecuteTime": {
     "start_time": "2023-05-01T23:11:37.806986Z",
     "end_time": "2023-05-01T23:11:51.270988Z"
    }
   },
   "outputs": [],
   "source": [
    "#l[900]"
   ]
  },
  {
   "cell_type": "code",
   "execution_count": 112,
   "id": "0e7f0e28-d759-4b29-9cf5-7d708b3c7148",
   "metadata": {
    "ExecuteTime": {
     "start_time": "2023-05-01T23:11:37.842986Z",
     "end_time": "2023-05-01T23:11:51.451001Z"
    }
   },
   "outputs": [
    {
     "data": {
      "text/plain": "[1, 200, 1.2, 'Puru', True, (1+2j)]"
     },
     "execution_count": 112,
     "metadata": {},
     "output_type": "execute_result"
    }
   ],
   "source": [
    "l"
   ]
  },
  {
   "cell_type": "code",
   "execution_count": 113,
   "id": "77534bff-10dd-4944-af16-fb90bff26006",
   "metadata": {
    "ExecuteTime": {
     "start_time": "2023-05-01T23:11:37.892982Z",
     "end_time": "2023-05-01T23:11:51.451001Z"
    }
   },
   "outputs": [
    {
     "name": "stdout",
     "output_type": "stream",
     "text": [
      "[1, 200, 1.2, 'Puru', True, (1+2j)]\n"
     ]
    }
   ],
   "source": [
    "print(l)"
   ]
  },
  {
   "cell_type": "code",
   "execution_count": 114,
   "id": "9b1cfbdc-a82d-4ca2-a83a-7b3038b78f55",
   "metadata": {
    "ExecuteTime": {
     "start_time": "2023-05-01T23:11:37.969985Z",
     "end_time": "2023-05-01T23:11:52.724941Z"
    }
   },
   "outputs": [],
   "source": [
    "l.append('append')"
   ]
  },
  {
   "cell_type": "code",
   "execution_count": 115,
   "id": "242c99cb-30c3-49c7-b227-4d22f4120b68",
   "metadata": {
    "ExecuteTime": {
     "start_time": "2023-05-01T23:11:37.999987Z",
     "end_time": "2023-05-01T23:11:52.725944Z"
    }
   },
   "outputs": [
    {
     "data": {
      "text/plain": "[1, 200, 1.2, 'Puru', True, (1+2j), 'append']"
     },
     "execution_count": 115,
     "metadata": {},
     "output_type": "execute_result"
    }
   ],
   "source": [
    "l"
   ]
  },
  {
   "cell_type": "code",
   "execution_count": 116,
   "id": "d61b9605-cdca-4085-aad2-a73df2e066ce",
   "metadata": {
    "ExecuteTime": {
     "start_time": "2023-05-01T23:11:38.036985Z",
     "end_time": "2023-05-01T23:11:52.725944Z"
    }
   },
   "outputs": [
    {
     "data": {
      "text/plain": "[1, 200, 1.2]"
     },
     "execution_count": 116,
     "metadata": {},
     "output_type": "execute_result"
    }
   ],
   "source": [
    "l[0:3]"
   ]
  },
  {
   "cell_type": "code",
   "execution_count": 117,
   "id": "0d1a3806-cb47-42b7-a63c-a0e4c225131c",
   "metadata": {
    "ExecuteTime": {
     "start_time": "2023-05-01T23:11:38.074989Z",
     "end_time": "2023-05-01T23:11:52.726941Z"
    }
   },
   "outputs": [
    {
     "data": {
      "text/plain": "[1, 200]"
     },
     "execution_count": 117,
     "metadata": {},
     "output_type": "execute_result"
    }
   ],
   "source": [
    "l[0:2]"
   ]
  },
  {
   "cell_type": "code",
   "execution_count": 118,
   "id": "4d03f6d8-f737-4a74-959f-74c1aab0f8b2",
   "metadata": {
    "ExecuteTime": {
     "start_time": "2023-05-01T23:11:38.111988Z",
     "end_time": "2023-05-01T23:11:52.727956Z"
    }
   },
   "outputs": [
    {
     "data": {
      "text/plain": "[1]"
     },
     "execution_count": 118,
     "metadata": {},
     "output_type": "execute_result"
    }
   ],
   "source": [
    "l[0::-1]"
   ]
  },
  {
   "cell_type": "code",
   "execution_count": 119,
   "id": "8346fdfa-d024-422b-9664-c113265f13d0",
   "metadata": {
    "ExecuteTime": {
     "start_time": "2023-05-01T23:11:38.138983Z",
     "end_time": "2023-05-01T23:11:52.752939Z"
    }
   },
   "outputs": [
    {
     "data": {
      "text/plain": "'append'"
     },
     "execution_count": 119,
     "metadata": {},
     "output_type": "execute_result"
    }
   ],
   "source": [
    "l[-1]"
   ]
  },
  {
   "cell_type": "code",
   "execution_count": 120,
   "id": "9d8f2b9c-b111-40e6-b0bb-5f1b726c6cb6",
   "metadata": {
    "ExecuteTime": {
     "start_time": "2023-05-01T23:11:38.168990Z",
     "end_time": "2023-05-01T23:11:52.752939Z"
    }
   },
   "outputs": [
    {
     "data": {
      "text/plain": "['append', (1+2j), True, 'Puru', 1.2, 200, 1]"
     },
     "execution_count": 120,
     "metadata": {},
     "output_type": "execute_result"
    }
   ],
   "source": [
    "# Reverse the List\n",
    "\n",
    "l[::-1]"
   ]
  },
  {
   "cell_type": "code",
   "execution_count": 121,
   "id": "c9973dde-a25e-4cfb-b720-1ec3009f554f",
   "metadata": {
    "ExecuteTime": {
     "start_time": "2023-05-01T23:11:38.200985Z",
     "end_time": "2023-05-01T23:11:52.753949Z"
    }
   },
   "outputs": [
    {
     "data": {
      "text/plain": "[1, 200, 1.2, 'Puru', True, (1+2j), 'append']"
     },
     "execution_count": 121,
     "metadata": {},
     "output_type": "execute_result"
    }
   ],
   "source": [
    "l"
   ]
  },
  {
   "cell_type": "code",
   "execution_count": 122,
   "id": "4c74c782-5aa2-445e-b610-b8103ea843f4",
   "metadata": {
    "ExecuteTime": {
     "start_time": "2023-05-01T23:11:38.236990Z",
     "end_time": "2023-05-01T23:11:52.753949Z"
    }
   },
   "outputs": [
    {
     "data": {
      "text/plain": "[1, 1.2, True, 'append']"
     },
     "execution_count": 122,
     "metadata": {},
     "output_type": "execute_result"
    }
   ],
   "source": [
    "#Slicing at Even Index\n",
    "\n",
    "l[::2]"
   ]
  },
  {
   "cell_type": "code",
   "execution_count": 123,
   "id": "2709c5f9-93fc-4a09-80e9-39b377954bba",
   "metadata": {
    "ExecuteTime": {
     "start_time": "2023-05-01T23:11:38.265985Z",
     "end_time": "2023-05-01T23:11:52.756956Z"
    }
   },
   "outputs": [
    {
     "data": {
      "text/plain": "[1, 'Puru', 'append']"
     },
     "execution_count": 123,
     "metadata": {},
     "output_type": "execute_result"
    }
   ],
   "source": [
    "l[::3]"
   ]
  },
  {
   "cell_type": "code",
   "execution_count": 124,
   "id": "593a9a8f-a5a1-4d14-944d-b0a5f92e7b32",
   "metadata": {
    "ExecuteTime": {
     "start_time": "2023-05-01T23:11:38.294984Z",
     "end_time": "2023-05-01T23:11:52.756956Z"
    }
   },
   "outputs": [],
   "source": [
    "s = 'pwskills'"
   ]
  },
  {
   "cell_type": "code",
   "execution_count": 125,
   "id": "9dd083b5-0535-4481-8e2e-391e29aa44ba",
   "metadata": {
    "ExecuteTime": {
     "start_time": "2023-05-01T23:11:38.315988Z",
     "end_time": "2023-05-01T23:11:52.756956Z"
    }
   },
   "outputs": [],
   "source": [
    "#l+s"
   ]
  },
  {
   "cell_type": "code",
   "execution_count": 126,
   "id": "b5a0639c-18cb-4ef9-ade8-f90f8279127c",
   "metadata": {
    "ExecuteTime": {
     "start_time": "2023-05-01T23:11:38.341985Z",
     "end_time": "2023-05-01T23:11:52.777950Z"
    }
   },
   "outputs": [
    {
     "data": {
      "text/plain": "['p', 'w', 's', 'k', 'i', 'l', 'l', 's']"
     },
     "execution_count": 126,
     "metadata": {},
     "output_type": "execute_result"
    }
   ],
   "source": [
    "list(s)"
   ]
  },
  {
   "cell_type": "code",
   "execution_count": 127,
   "id": "b09c809d-98d3-48ae-b928-747e37966fb9",
   "metadata": {
    "ExecuteTime": {
     "start_time": "2023-05-01T23:11:38.378993Z",
     "end_time": "2023-05-01T23:11:52.777950Z"
    }
   },
   "outputs": [
    {
     "data": {
      "text/plain": "[1, 200, 1.2, 'Puru', True, (1+2j), 'append']"
     },
     "execution_count": 127,
     "metadata": {},
     "output_type": "execute_result"
    }
   ],
   "source": [
    "list(l)"
   ]
  },
  {
   "cell_type": "code",
   "execution_count": 128,
   "id": "de29e161-011e-447a-93aa-4d209ca59004",
   "metadata": {
    "ExecuteTime": {
     "start_time": "2023-05-01T23:11:38.419987Z",
     "end_time": "2023-05-01T23:11:52.778954Z"
    }
   },
   "outputs": [
    {
     "data": {
      "text/plain": "['p',\n 'w',\n 's',\n 'k',\n 'i',\n 'l',\n 'l',\n 's',\n 1,\n 200,\n 1.2,\n 'Puru',\n True,\n (1+2j),\n 'append']"
     },
     "execution_count": 128,
     "metadata": {},
     "output_type": "execute_result"
    }
   ],
   "source": [
    "list(s) + l"
   ]
  },
  {
   "cell_type": "code",
   "execution_count": 129,
   "id": "821f4a1f-c484-43cc-b354-e461d3bbcef0",
   "metadata": {
    "ExecuteTime": {
     "start_time": "2023-05-01T23:11:38.454987Z",
     "end_time": "2023-05-01T23:11:52.778954Z"
    }
   },
   "outputs": [
    {
     "data": {
      "text/plain": "[1, 200, 1.2, 'Puru', True, (1+2j), 'append']"
     },
     "execution_count": 129,
     "metadata": {},
     "output_type": "execute_result"
    }
   ],
   "source": [
    "l"
   ]
  },
  {
   "cell_type": "code",
   "execution_count": 130,
   "id": "8746d336-1662-4c83-9507-37c940cb2c97",
   "metadata": {
    "ExecuteTime": {
     "start_time": "2023-05-01T23:11:38.484984Z",
     "end_time": "2023-05-01T23:11:52.779953Z"
    }
   },
   "outputs": [
    {
     "data": {
      "text/plain": "'pwskills'"
     },
     "execution_count": 130,
     "metadata": {},
     "output_type": "execute_result"
    }
   ],
   "source": [
    "s"
   ]
  },
  {
   "cell_type": "code",
   "execution_count": 131,
   "id": "a053426f-5416-4ab7-85ed-feb63cd5ca85",
   "metadata": {
    "ExecuteTime": {
     "start_time": "2023-05-01T23:11:38.516990Z",
     "end_time": "2023-05-01T23:11:52.779953Z"
    }
   },
   "outputs": [],
   "source": [
    "ss = list(s)"
   ]
  },
  {
   "cell_type": "code",
   "execution_count": 132,
   "id": "01f873a5-f5ec-4f38-a2c9-fe9cc8e021c3",
   "metadata": {
    "ExecuteTime": {
     "start_time": "2023-05-01T23:11:38.532990Z",
     "end_time": "2023-05-01T23:11:52.779953Z"
    }
   },
   "outputs": [
    {
     "data": {
      "text/plain": "[1,\n 200,\n 1.2,\n 'Puru',\n True,\n (1+2j),\n 'append',\n 'p',\n 'w',\n 's',\n 'k',\n 'i',\n 'l',\n 'l',\n 's']"
     },
     "execution_count": 132,
     "metadata": {},
     "output_type": "execute_result"
    }
   ],
   "source": [
    "l + ss"
   ]
  },
  {
   "cell_type": "code",
   "execution_count": 133,
   "id": "e4ab6da8-d4ed-4c0b-9f08-1153c258f72c",
   "metadata": {
    "ExecuteTime": {
     "start_time": "2023-05-01T23:11:38.567987Z",
     "end_time": "2023-05-01T23:11:52.779953Z"
    }
   },
   "outputs": [],
   "source": [
    "l.append('pwskills')"
   ]
  },
  {
   "cell_type": "code",
   "execution_count": 134,
   "id": "dac248eb-c37c-44dd-aa67-7b939f77b10d",
   "metadata": {
    "ExecuteTime": {
     "start_time": "2023-05-01T23:11:38.596988Z",
     "end_time": "2023-05-01T23:11:52.779953Z"
    }
   },
   "outputs": [
    {
     "data": {
      "text/plain": "[1, 200, 1.2, 'Puru', True, (1+2j), 'append', 'pwskills']"
     },
     "execution_count": 134,
     "metadata": {},
     "output_type": "execute_result"
    }
   ],
   "source": [
    "l"
   ]
  },
  {
   "cell_type": "code",
   "execution_count": 135,
   "id": "b6b4d7b4-c979-41c7-9e84-b67bc2fd5c5d",
   "metadata": {
    "ExecuteTime": {
     "start_time": "2023-05-01T23:11:38.626987Z",
     "end_time": "2023-05-01T23:11:52.780956Z"
    }
   },
   "outputs": [
    {
     "data": {
      "text/plain": "3"
     },
     "execution_count": 135,
     "metadata": {},
     "output_type": "execute_result"
    }
   ],
   "source": [
    "l.index('Puru')"
   ]
  },
  {
   "cell_type": "code",
   "execution_count": 136,
   "id": "3e2f6856-b91a-48cf-a55f-ecafd1b7e453",
   "metadata": {
    "ExecuteTime": {
     "start_time": "2023-05-01T23:11:38.656988Z",
     "end_time": "2023-05-01T23:11:52.780956Z"
    }
   },
   "outputs": [
    {
     "data": {
      "text/plain": "'Puru'"
     },
     "execution_count": 136,
     "metadata": {},
     "output_type": "execute_result"
    }
   ],
   "source": [
    "l[3]"
   ]
  },
  {
   "cell_type": "code",
   "execution_count": 137,
   "id": "a218f096-af8b-4a19-945e-8ae18f074b9f",
   "metadata": {
    "ExecuteTime": {
     "start_time": "2023-05-01T23:11:38.690990Z",
     "end_time": "2023-05-01T23:11:52.780956Z"
    }
   },
   "outputs": [
    {
     "data": {
      "text/plain": "str"
     },
     "execution_count": 137,
     "metadata": {},
     "output_type": "execute_result"
    }
   ],
   "source": [
    "type(l[3])"
   ]
  },
  {
   "cell_type": "code",
   "execution_count": 138,
   "id": "7a2df8ef-1f8f-405a-a9af-0fcb61e6677b",
   "metadata": {
    "ExecuteTime": {
     "start_time": "2023-05-01T23:11:38.720989Z",
     "end_time": "2023-05-01T23:11:52.781972Z"
    }
   },
   "outputs": [
    {
     "data": {
      "text/plain": "'Puru'"
     },
     "execution_count": 138,
     "metadata": {},
     "output_type": "execute_result"
    }
   ],
   "source": [
    "l[3]"
   ]
  },
  {
   "cell_type": "code",
   "execution_count": 139,
   "id": "bdedc65c-878f-4a9b-a21a-f62f29898d3d",
   "metadata": {
    "ExecuteTime": {
     "start_time": "2023-05-01T23:11:38.777992Z",
     "end_time": "2023-05-01T23:11:52.782945Z"
    }
   },
   "outputs": [
    {
     "data": {
      "text/plain": "'Pu'"
     },
     "execution_count": 139,
     "metadata": {},
     "output_type": "execute_result"
    }
   ],
   "source": [
    "l[3][0:2]"
   ]
  },
  {
   "cell_type": "code",
   "execution_count": 140,
   "id": "731d8680-25d2-4035-91f4-7119b5040b09",
   "metadata": {
    "ExecuteTime": {
     "start_time": "2023-05-01T23:11:38.800990Z",
     "end_time": "2023-05-01T23:11:52.782945Z"
    }
   },
   "outputs": [
    {
     "data": {
      "text/plain": "True"
     },
     "execution_count": 140,
     "metadata": {},
     "output_type": "execute_result"
    }
   ],
   "source": [
    "l[4]"
   ]
  },
  {
   "cell_type": "code",
   "execution_count": 141,
   "id": "a87e03dc-da6e-4b12-9da0-8b2db6d83137",
   "metadata": {
    "ExecuteTime": {
     "start_time": "2023-05-01T23:11:38.834986Z",
     "end_time": "2023-05-01T23:11:52.782945Z"
    }
   },
   "outputs": [
    {
     "data": {
      "text/plain": "'True'"
     },
     "execution_count": 141,
     "metadata": {},
     "output_type": "execute_result"
    }
   ],
   "source": [
    "str(l[4])"
   ]
  },
  {
   "cell_type": "code",
   "execution_count": 142,
   "id": "9b753252-cb9c-43c8-870d-5df619a52beb",
   "metadata": {
    "ExecuteTime": {
     "start_time": "2023-05-01T23:11:38.869988Z",
     "end_time": "2023-05-01T23:11:52.782945Z"
    }
   },
   "outputs": [
    {
     "data": {
      "text/plain": "str"
     },
     "execution_count": 142,
     "metadata": {},
     "output_type": "execute_result"
    }
   ],
   "source": [
    "type(str(l[4]))"
   ]
  },
  {
   "cell_type": "code",
   "execution_count": 143,
   "id": "5ca0fe11-2a8a-4d81-8e22-ef0c4edbae88",
   "metadata": {
    "ExecuteTime": {
     "start_time": "2023-05-01T23:11:38.904987Z",
     "end_time": "2023-05-01T23:11:52.787948Z"
    }
   },
   "outputs": [
    {
     "data": {
      "text/plain": "bool"
     },
     "execution_count": 143,
     "metadata": {},
     "output_type": "execute_result"
    }
   ],
   "source": [
    "type(l[4])"
   ]
  },
  {
   "cell_type": "code",
   "execution_count": 144,
   "id": "86ea07a5-c5cc-41bb-ad63-d0fa5aadd132",
   "metadata": {
    "ExecuteTime": {
     "start_time": "2023-05-01T23:11:38.949986Z",
     "end_time": "2023-05-01T23:11:52.787948Z"
    }
   },
   "outputs": [
    {
     "data": {
      "text/plain": "True"
     },
     "execution_count": 144,
     "metadata": {},
     "output_type": "execute_result"
    }
   ],
   "source": [
    "l[4]"
   ]
  },
  {
   "cell_type": "code",
   "execution_count": 145,
   "id": "427114cb-59ac-4fbe-a0d9-3326bc4b7967",
   "metadata": {
    "ExecuteTime": {
     "start_time": "2023-05-01T23:11:38.976988Z",
     "end_time": "2023-05-01T23:11:52.788950Z"
    }
   },
   "outputs": [
    {
     "data": {
      "text/plain": "'Tr'"
     },
     "execution_count": 145,
     "metadata": {},
     "output_type": "execute_result"
    }
   ],
   "source": [
    "str(l[4])[0:2]"
   ]
  },
  {
   "cell_type": "code",
   "execution_count": 146,
   "id": "1ee6dc9a-e767-45f3-8a59-c6f2e2330140",
   "metadata": {
    "ExecuteTime": {
     "start_time": "2023-05-01T23:11:39.007988Z",
     "end_time": "2023-05-01T23:11:52.788950Z"
    }
   },
   "outputs": [],
   "source": [
    "l1 = [1, 2, 3]"
   ]
  },
  {
   "cell_type": "code",
   "execution_count": 147,
   "id": "c4b863ca-aa12-468c-975f-df116bbdc235",
   "metadata": {
    "ExecuteTime": {
     "start_time": "2023-05-01T23:11:39.042986Z",
     "end_time": "2023-05-01T23:11:52.788950Z"
    }
   },
   "outputs": [
    {
     "data": {
      "text/plain": "[1, 200, 1.2, 'Puru', True, (1+2j), 'append', 'pwskills']"
     },
     "execution_count": 147,
     "metadata": {},
     "output_type": "execute_result"
    }
   ],
   "source": [
    "l"
   ]
  },
  {
   "cell_type": "code",
   "execution_count": 148,
   "id": "3faa156e-46a3-4c32-9f7a-5650152705bc",
   "metadata": {
    "ExecuteTime": {
     "start_time": "2023-05-01T23:11:39.072989Z",
     "end_time": "2023-05-01T23:11:52.788950Z"
    }
   },
   "outputs": [
    {
     "data": {
      "text/plain": "[1, 2, 3]"
     },
     "execution_count": 148,
     "metadata": {},
     "output_type": "execute_result"
    }
   ],
   "source": [
    "l1"
   ]
  },
  {
   "cell_type": "code",
   "execution_count": 149,
   "id": "fbc03520-c347-401c-aec6-1c332fe913f1",
   "metadata": {
    "ExecuteTime": {
     "start_time": "2023-05-01T23:11:39.103989Z",
     "end_time": "2023-05-01T23:11:52.789956Z"
    }
   },
   "outputs": [
    {
     "data": {
      "text/plain": "[1, 200, 1.2, 'Puru', True, (1+2j), 'append', 'pwskills', 1, 2, 3]"
     },
     "execution_count": 149,
     "metadata": {},
     "output_type": "execute_result"
    }
   ],
   "source": [
    "l + l1"
   ]
  },
  {
   "cell_type": "code",
   "execution_count": 150,
   "id": "f7e1558f-a1ce-4516-a20f-5b0fd3430c1b",
   "metadata": {
    "ExecuteTime": {
     "start_time": "2023-05-01T23:11:39.168983Z",
     "end_time": "2023-05-01T23:11:52.789956Z"
    }
   },
   "outputs": [
    {
     "data": {
      "text/plain": "[1, 2, 3, 1, 2, 3, 1, 2, 3]"
     },
     "execution_count": 150,
     "metadata": {},
     "output_type": "execute_result"
    }
   ],
   "source": [
    "l1 * 3"
   ]
  },
  {
   "cell_type": "code",
   "execution_count": 151,
   "id": "1ec75672-e114-48fe-9cbe-3de84de985e0",
   "metadata": {
    "ExecuteTime": {
     "start_time": "2023-05-01T23:11:39.199986Z",
     "end_time": "2023-05-01T23:11:52.789956Z"
    }
   },
   "outputs": [
    {
     "data": {
      "text/plain": "[1,\n 200,\n 1.2,\n 'Puru',\n True,\n (1+2j),\n 'append',\n 'pwskills',\n 1,\n 200,\n 1.2,\n 'Puru',\n True,\n (1+2j),\n 'append',\n 'pwskills',\n 1,\n 200,\n 1.2,\n 'Puru',\n True,\n (1+2j),\n 'append',\n 'pwskills']"
     },
     "execution_count": 151,
     "metadata": {},
     "output_type": "execute_result"
    }
   ],
   "source": [
    "l * 3"
   ]
  },
  {
   "cell_type": "code",
   "execution_count": 152,
   "id": "f36fe9ef-094b-4065-b5ce-6acf6288b1bf",
   "metadata": {
    "ExecuteTime": {
     "start_time": "2023-05-01T23:11:39.238011Z",
     "end_time": "2023-05-01T23:11:52.789956Z"
    }
   },
   "outputs": [],
   "source": [
    "l2 = ['*', '**', '***', '****', '*****']"
   ]
  },
  {
   "cell_type": "code",
   "execution_count": 153,
   "id": "51dbbecd-9d31-41b9-8df0-426a6d8cf86c",
   "metadata": {
    "ExecuteTime": {
     "start_time": "2023-05-01T23:11:39.259988Z",
     "end_time": "2023-05-01T23:11:52.790952Z"
    }
   },
   "outputs": [
    {
     "data": {
      "text/plain": "['*',\n '**',\n '***',\n '****',\n '*****',\n '*',\n '**',\n '***',\n '****',\n '*****',\n '*',\n '**',\n '***',\n '****',\n '*****',\n '*',\n '**',\n '***',\n '****',\n '*****',\n '*',\n '**',\n '***',\n '****',\n '*****']"
     },
     "execution_count": 153,
     "metadata": {},
     "output_type": "execute_result"
    }
   ],
   "source": [
    "l2 * 5"
   ]
  },
  {
   "cell_type": "code",
   "execution_count": 154,
   "id": "cf5d3ab8-1f37-41cf-8d9c-005957d3c3c0",
   "metadata": {
    "ExecuteTime": {
     "start_time": "2023-05-01T23:11:39.299988Z",
     "end_time": "2023-05-01T23:11:52.790952Z"
    }
   },
   "outputs": [
    {
     "data": {
      "text/plain": "8"
     },
     "execution_count": 154,
     "metadata": {},
     "output_type": "execute_result"
    }
   ],
   "source": [
    "len(l)"
   ]
  },
  {
   "cell_type": "code",
   "execution_count": 155,
   "id": "32463626-7003-404d-bdd6-ea36dfef21f3",
   "metadata": {
    "ExecuteTime": {
     "start_time": "2023-05-01T23:11:39.324990Z",
     "end_time": "2023-05-01T23:11:52.790952Z"
    }
   },
   "outputs": [
    {
     "data": {
      "text/plain": "3"
     },
     "execution_count": 155,
     "metadata": {},
     "output_type": "execute_result"
    }
   ],
   "source": [
    "len(l1)"
   ]
  },
  {
   "cell_type": "code",
   "execution_count": 156,
   "id": "a45d701e-ba84-4eaf-ad52-070d54ae5842",
   "metadata": {
    "ExecuteTime": {
     "start_time": "2023-05-01T23:11:39.356986Z",
     "end_time": "2023-05-01T23:11:52.790952Z"
    }
   },
   "outputs": [
    {
     "data": {
      "text/plain": "5"
     },
     "execution_count": 156,
     "metadata": {},
     "output_type": "execute_result"
    }
   ],
   "source": [
    "len(l2)"
   ]
  },
  {
   "cell_type": "code",
   "execution_count": 157,
   "id": "65575fc9-2616-49df-af2f-c9747aacd02f",
   "metadata": {
    "ExecuteTime": {
     "start_time": "2023-05-01T23:11:39.392991Z",
     "end_time": "2023-05-01T23:11:52.791953Z"
    }
   },
   "outputs": [
    {
     "data": {
      "text/plain": "[1, 200, 1.2, 'Puru', True, (1+2j), 'append', 'pwskills']"
     },
     "execution_count": 157,
     "metadata": {},
     "output_type": "execute_result"
    }
   ],
   "source": [
    "l"
   ]
  },
  {
   "cell_type": "code",
   "execution_count": 158,
   "id": "cb7625ff-ffae-46e3-a01e-051c11e760c0",
   "metadata": {
    "ExecuteTime": {
     "start_time": "2023-05-01T23:11:39.426986Z",
     "end_time": "2023-05-01T23:11:52.791953Z"
    }
   },
   "outputs": [
    {
     "data": {
      "text/plain": "[1, 2, 3]"
     },
     "execution_count": 158,
     "metadata": {},
     "output_type": "execute_result"
    }
   ],
   "source": [
    "l1"
   ]
  },
  {
   "cell_type": "code",
   "execution_count": 159,
   "id": "dc0f5f5e-c473-41f6-954e-2e968732fc9c",
   "metadata": {
    "ExecuteTime": {
     "start_time": "2023-05-01T23:11:39.479001Z",
     "end_time": "2023-05-01T23:11:52.791953Z"
    }
   },
   "outputs": [
    {
     "data": {
      "text/plain": "['*', '**', '***', '****', '*****']"
     },
     "execution_count": 159,
     "metadata": {},
     "output_type": "execute_result"
    }
   ],
   "source": [
    "l2"
   ]
  },
  {
   "cell_type": "code",
   "execution_count": 160,
   "id": "265f4ae8-3a73-4d54-a859-c2ac6300539b",
   "metadata": {
    "ExecuteTime": {
     "start_time": "2023-05-01T23:11:39.542984Z",
     "end_time": "2023-05-01T23:11:52.794947Z"
    }
   },
   "outputs": [],
   "source": [
    "l.append(l1)"
   ]
  },
  {
   "cell_type": "code",
   "execution_count": 161,
   "id": "675d3831-98d4-47c5-ac48-a16a5a5de9fc",
   "metadata": {
    "ExecuteTime": {
     "start_time": "2023-05-01T23:11:39.686986Z",
     "end_time": "2023-05-01T23:11:52.795950Z"
    }
   },
   "outputs": [
    {
     "data": {
      "text/plain": "[1, 200, 1.2, 'Puru', True, (1+2j), 'append', 'pwskills', [1, 2, 3]]"
     },
     "execution_count": 161,
     "metadata": {},
     "output_type": "execute_result"
    }
   ],
   "source": [
    "l"
   ]
  },
  {
   "cell_type": "code",
   "execution_count": 162,
   "id": "191cf239-207d-4cbc-ac4f-cf7ef7dd5c44",
   "metadata": {
    "ExecuteTime": {
     "start_time": "2023-05-01T23:11:39.793056Z",
     "end_time": "2023-05-01T23:11:52.795950Z"
    }
   },
   "outputs": [
    {
     "data": {
      "text/plain": "'pwskills'"
     },
     "execution_count": 162,
     "metadata": {},
     "output_type": "execute_result"
    }
   ],
   "source": [
    "s"
   ]
  },
  {
   "cell_type": "code",
   "execution_count": 163,
   "id": "5c36c320-7175-4cc2-b6bc-94d4b196b0f6",
   "metadata": {
    "ExecuteTime": {
     "start_time": "2023-05-01T23:11:39.980294Z",
     "end_time": "2023-05-01T23:11:52.796948Z"
    }
   },
   "outputs": [],
   "source": [
    "l.append(l2)"
   ]
  },
  {
   "cell_type": "code",
   "execution_count": 164,
   "id": "03c89910-650a-4135-823d-6cd5d2317f41",
   "metadata": {
    "ExecuteTime": {
     "start_time": "2023-05-01T23:11:40.010659Z",
     "end_time": "2023-05-01T23:11:52.796948Z"
    }
   },
   "outputs": [
    {
     "data": {
      "text/plain": "[1,\n 200,\n 1.2,\n 'Puru',\n True,\n (1+2j),\n 'append',\n 'pwskills',\n [1, 2, 3],\n ['*', '**', '***', '****', '*****']]"
     },
     "execution_count": 164,
     "metadata": {},
     "output_type": "execute_result"
    }
   ],
   "source": [
    "l"
   ]
  },
  {
   "cell_type": "code",
   "execution_count": 165,
   "id": "8f08fd87-77a8-4f26-b160-aa77b177d016",
   "metadata": {
    "ExecuteTime": {
     "start_time": "2023-05-01T23:11:40.040852Z",
     "end_time": "2023-05-01T23:11:52.797947Z"
    }
   },
   "outputs": [
    {
     "data": {
      "text/plain": "[1,\n 200,\n 1.2,\n 'Puru',\n True,\n (1+2j),\n 'append',\n 'pwskills',\n [1, 2, 3],\n ['*', '**', '***', '****', '*****']]"
     },
     "execution_count": 165,
     "metadata": {},
     "output_type": "execute_result"
    }
   ],
   "source": [
    "l"
   ]
  },
  {
   "cell_type": "code",
   "execution_count": 166,
   "id": "e9d55923-2008-43cb-b6e3-92afd430e0e3",
   "metadata": {
    "ExecuteTime": {
     "start_time": "2023-05-01T23:11:40.080502Z",
     "end_time": "2023-05-01T23:11:52.798949Z"
    }
   },
   "outputs": [
    {
     "data": {
      "text/plain": "[1, 2, 3]"
     },
     "execution_count": 166,
     "metadata": {},
     "output_type": "execute_result"
    }
   ],
   "source": [
    "l[8]"
   ]
  },
  {
   "cell_type": "code",
   "execution_count": 167,
   "id": "dfb5bb9a-5438-4e04-b332-6beee2674a71",
   "metadata": {
    "ExecuteTime": {
     "start_time": "2023-05-01T23:11:40.105606Z",
     "end_time": "2023-05-01T23:11:52.798949Z"
    }
   },
   "outputs": [
    {
     "data": {
      "text/plain": "2"
     },
     "execution_count": 167,
     "metadata": {},
     "output_type": "execute_result"
    }
   ],
   "source": [
    "l[8][1]"
   ]
  },
  {
   "cell_type": "code",
   "execution_count": 168,
   "id": "da20727b-5a18-47d0-bed8-7d177241666f",
   "metadata": {
    "ExecuteTime": {
     "start_time": "2023-05-01T23:11:40.151258Z",
     "end_time": "2023-05-01T23:11:52.799989Z"
    }
   },
   "outputs": [
    {
     "data": {
      "text/plain": "[1,\n 200,\n 1.2,\n 'Puru',\n True,\n (1+2j),\n 'append',\n 'pwskills',\n [1, 2, 3],\n ['*', '**', '***', '****', '*****']]"
     },
     "execution_count": 168,
     "metadata": {},
     "output_type": "execute_result"
    }
   ],
   "source": [
    "l"
   ]
  },
  {
   "cell_type": "code",
   "execution_count": 169,
   "id": "6c950591-70e3-456f-891a-24122c2b9b3e",
   "metadata": {
    "ExecuteTime": {
     "start_time": "2023-05-01T23:11:40.188954Z",
     "end_time": "2023-05-01T23:11:52.799989Z"
    }
   },
   "outputs": [],
   "source": [
    "l.extend('anand')"
   ]
  },
  {
   "cell_type": "code",
   "execution_count": 170,
   "id": "57ce422d-6cef-446c-8cf5-81bcded56a13",
   "metadata": {
    "ExecuteTime": {
     "start_time": "2023-05-01T23:11:40.218833Z",
     "end_time": "2023-05-01T23:11:52.799989Z"
    }
   },
   "outputs": [
    {
     "data": {
      "text/plain": "[1,\n 200,\n 1.2,\n 'Puru',\n True,\n (1+2j),\n 'append',\n 'pwskills',\n [1, 2, 3],\n ['*', '**', '***', '****', '*****'],\n 'a',\n 'n',\n 'a',\n 'n',\n 'd']"
     },
     "execution_count": 170,
     "metadata": {},
     "output_type": "execute_result"
    }
   ],
   "source": [
    "l"
   ]
  },
  {
   "cell_type": "code",
   "execution_count": 171,
   "id": "f7cb00ce-51fa-41f7-97ed-4ba3cf0d0692",
   "metadata": {
    "ExecuteTime": {
     "start_time": "2023-05-01T23:11:40.246001Z",
     "end_time": "2023-05-01T23:11:52.808962Z"
    }
   },
   "outputs": [
    {
     "data": {
      "text/plain": "[1, 2, 3]"
     },
     "execution_count": 171,
     "metadata": {},
     "output_type": "execute_result"
    }
   ],
   "source": [
    "l1"
   ]
  },
  {
   "cell_type": "code",
   "execution_count": 172,
   "outputs": [],
   "source": [
    "l1.insert(1, \"Puru\")"
   ],
   "metadata": {
    "collapsed": false,
    "ExecuteTime": {
     "start_time": "2023-05-01T23:11:40.272982Z",
     "end_time": "2023-05-01T23:11:52.809948Z"
    }
   }
  },
  {
   "cell_type": "code",
   "execution_count": 173,
   "outputs": [
    {
     "data": {
      "text/plain": "[1, 'Puru', 2, 3]"
     },
     "execution_count": 173,
     "metadata": {},
     "output_type": "execute_result"
    }
   ],
   "source": [
    "l1"
   ],
   "metadata": {
    "collapsed": false,
    "ExecuteTime": {
     "start_time": "2023-05-01T23:11:40.295992Z",
     "end_time": "2023-05-01T23:11:52.810944Z"
    }
   }
  },
  {
   "cell_type": "code",
   "execution_count": 174,
   "outputs": [],
   "source": [
    "l1.insert(0, \"Anand\")"
   ],
   "metadata": {
    "collapsed": false,
    "ExecuteTime": {
     "start_time": "2023-05-01T23:11:40.323982Z",
     "end_time": "2023-05-01T23:11:52.848945Z"
    }
   }
  },
  {
   "cell_type": "code",
   "execution_count": 175,
   "outputs": [
    {
     "data": {
      "text/plain": "['Anand', 1, 'Puru', 2, 3]"
     },
     "execution_count": 175,
     "metadata": {},
     "output_type": "execute_result"
    }
   ],
   "source": [
    "l1"
   ],
   "metadata": {
    "collapsed": false,
    "ExecuteTime": {
     "start_time": "2023-05-01T23:11:40.353986Z",
     "end_time": "2023-05-01T23:11:52.849949Z"
    }
   }
  },
  {
   "cell_type": "code",
   "execution_count": 176,
   "outputs": [],
   "source": [
    "l1.insert(4, [1,2,3])"
   ],
   "metadata": {
    "collapsed": false,
    "ExecuteTime": {
     "start_time": "2023-05-01T23:11:40.390980Z",
     "end_time": "2023-05-01T23:11:52.849949Z"
    }
   }
  },
  {
   "cell_type": "code",
   "execution_count": 177,
   "outputs": [
    {
     "data": {
      "text/plain": "['Anand', 1, 'Puru', 2, [1, 2, 3], 3]"
     },
     "execution_count": 177,
     "metadata": {},
     "output_type": "execute_result"
    }
   ],
   "source": [
    "l1"
   ],
   "metadata": {
    "collapsed": false,
    "ExecuteTime": {
     "start_time": "2023-05-01T23:11:40.401984Z",
     "end_time": "2023-05-01T23:11:52.850944Z"
    }
   }
  },
  {
   "cell_type": "code",
   "execution_count": 178,
   "outputs": [],
   "source": [
    "l1.insert(-1, 16)"
   ],
   "metadata": {
    "collapsed": false,
    "ExecuteTime": {
     "start_time": "2023-05-01T23:11:40.433983Z",
     "end_time": "2023-05-01T23:11:52.850944Z"
    }
   }
  },
  {
   "cell_type": "code",
   "execution_count": 179,
   "outputs": [
    {
     "data": {
      "text/plain": "['Anand', 1, 'Puru', 2, [1, 2, 3], 16, 3]"
     },
     "execution_count": 179,
     "metadata": {},
     "output_type": "execute_result"
    }
   ],
   "source": [
    "l1"
   ],
   "metadata": {
    "collapsed": false,
    "ExecuteTime": {
     "start_time": "2023-05-01T23:11:40.464982Z",
     "end_time": "2023-05-01T23:11:52.850944Z"
    }
   }
  },
  {
   "cell_type": "code",
   "execution_count": 180,
   "outputs": [],
   "source": [
    "l1.insert(0, 16)"
   ],
   "metadata": {
    "collapsed": false,
    "ExecuteTime": {
     "start_time": "2023-05-01T23:11:40.494978Z",
     "end_time": "2023-05-01T23:11:52.851950Z"
    }
   }
  },
  {
   "cell_type": "code",
   "execution_count": 181,
   "outputs": [
    {
     "data": {
      "text/plain": "[16, 'Anand', 1, 'Puru', 2, [1, 2, 3], 16, 3]"
     },
     "execution_count": 181,
     "metadata": {},
     "output_type": "execute_result"
    }
   ],
   "source": [
    "l1"
   ],
   "metadata": {
    "collapsed": false,
    "ExecuteTime": {
     "start_time": "2023-05-01T23:11:40.512977Z",
     "end_time": "2023-05-01T23:11:52.851950Z"
    }
   }
  },
  {
   "cell_type": "code",
   "execution_count": 182,
   "outputs": [
    {
     "data": {
      "text/plain": "3"
     },
     "execution_count": 182,
     "metadata": {},
     "output_type": "execute_result"
    }
   ],
   "source": [
    "l1.pop()"
   ],
   "metadata": {
    "collapsed": false,
    "ExecuteTime": {
     "start_time": "2023-05-01T23:11:40.543580Z",
     "end_time": "2023-05-01T23:11:52.851950Z"
    }
   }
  },
  {
   "cell_type": "code",
   "execution_count": 183,
   "outputs": [
    {
     "data": {
      "text/plain": "'Puru'"
     },
     "execution_count": 183,
     "metadata": {},
     "output_type": "execute_result"
    }
   ],
   "source": [
    "l1.pop(3)"
   ],
   "metadata": {
    "collapsed": false,
    "ExecuteTime": {
     "start_time": "2023-05-01T23:11:40.574584Z",
     "end_time": "2023-05-01T23:11:52.852947Z"
    }
   }
  },
  {
   "cell_type": "code",
   "execution_count": 184,
   "outputs": [
    {
     "data": {
      "text/plain": "[16, 'Anand', 1, 2, [1, 2, 3], 16]"
     },
     "execution_count": 184,
     "metadata": {},
     "output_type": "execute_result"
    }
   ],
   "source": [
    "l1"
   ],
   "metadata": {
    "collapsed": false,
    "ExecuteTime": {
     "start_time": "2023-05-01T23:11:40.606586Z",
     "end_time": "2023-05-01T23:11:52.852947Z"
    }
   }
  },
  {
   "cell_type": "code",
   "execution_count": 185,
   "outputs": [
    {
     "data": {
      "text/plain": "[1, 2, 3]"
     },
     "execution_count": 185,
     "metadata": {},
     "output_type": "execute_result"
    }
   ],
   "source": [
    "l1.pop(4)"
   ],
   "metadata": {
    "collapsed": false,
    "ExecuteTime": {
     "start_time": "2023-05-01T23:11:40.638577Z",
     "end_time": "2023-05-01T23:11:52.853946Z"
    }
   }
  },
  {
   "cell_type": "code",
   "execution_count": 186,
   "outputs": [
    {
     "data": {
      "text/plain": "[16, 'Anand', 1, 2, 16]"
     },
     "execution_count": 186,
     "metadata": {},
     "output_type": "execute_result"
    }
   ],
   "source": [
    "l1"
   ],
   "metadata": {
    "collapsed": false,
    "ExecuteTime": {
     "start_time": "2023-05-01T23:11:40.670581Z",
     "end_time": "2023-05-01T23:11:52.853946Z"
    }
   }
  },
  {
   "cell_type": "code",
   "execution_count": 187,
   "outputs": [],
   "source": [
    "l1.insert(2, \"Purushottam\")"
   ],
   "metadata": {
    "collapsed": false,
    "ExecuteTime": {
     "start_time": "2023-05-01T23:11:40.700578Z",
     "end_time": "2023-05-01T23:11:52.853946Z"
    }
   }
  },
  {
   "cell_type": "code",
   "execution_count": 188,
   "outputs": [
    {
     "data": {
      "text/plain": "['*', '**', '***', '****', '*****']"
     },
     "execution_count": 188,
     "metadata": {},
     "output_type": "execute_result"
    }
   ],
   "source": [
    "l2"
   ],
   "metadata": {
    "collapsed": false,
    "ExecuteTime": {
     "start_time": "2023-05-01T23:11:40.719580Z",
     "end_time": "2023-05-01T23:11:52.853946Z"
    }
   }
  },
  {
   "cell_type": "code",
   "execution_count": 189,
   "outputs": [
    {
     "data": {
      "text/plain": "[16, 'Anand', 'Purushottam', 1, 2, 16]"
     },
     "execution_count": 189,
     "metadata": {},
     "output_type": "execute_result"
    }
   ],
   "source": [
    "l1"
   ],
   "metadata": {
    "collapsed": false,
    "ExecuteTime": {
     "start_time": "2023-05-01T23:11:40.750583Z",
     "end_time": "2023-05-01T23:11:52.853946Z"
    }
   }
  },
  {
   "cell_type": "code",
   "execution_count": 190,
   "outputs": [],
   "source": [
    "l1.remove(2)"
   ],
   "metadata": {
    "collapsed": false,
    "ExecuteTime": {
     "start_time": "2023-05-01T23:11:40.781583Z",
     "end_time": "2023-05-01T23:11:52.854944Z"
    }
   }
  },
  {
   "cell_type": "code",
   "execution_count": 191,
   "outputs": [
    {
     "data": {
      "text/plain": "[16, 'Anand', 'Purushottam', 1, 16]"
     },
     "execution_count": 191,
     "metadata": {},
     "output_type": "execute_result"
    }
   ],
   "source": [
    "l1"
   ],
   "metadata": {
    "collapsed": false,
    "ExecuteTime": {
     "start_time": "2023-05-01T23:11:40.818360Z",
     "end_time": "2023-05-01T23:11:52.862948Z"
    }
   }
  },
  {
   "cell_type": "code",
   "execution_count": 192,
   "outputs": [],
   "source": [
    "l1.append([1,2,3])"
   ],
   "metadata": {
    "collapsed": false,
    "ExecuteTime": {
     "start_time": "2023-05-01T23:11:40.843540Z",
     "end_time": "2023-05-01T23:11:52.862948Z"
    }
   }
  },
  {
   "cell_type": "code",
   "execution_count": 193,
   "outputs": [
    {
     "data": {
      "text/plain": "[16, 'Anand', 'Purushottam', 1, 16, [1, 2, 3]]"
     },
     "execution_count": 193,
     "metadata": {},
     "output_type": "execute_result"
    }
   ],
   "source": [
    "l1"
   ],
   "metadata": {
    "collapsed": false,
    "ExecuteTime": {
     "start_time": "2023-05-01T23:11:40.915537Z",
     "end_time": "2023-05-01T23:11:52.863955Z"
    }
   }
  },
  {
   "cell_type": "code",
   "execution_count": 194,
   "outputs": [
    {
     "data": {
      "text/plain": "16"
     },
     "execution_count": 194,
     "metadata": {},
     "output_type": "execute_result"
    }
   ],
   "source": [
    "l1[4]"
   ],
   "metadata": {
    "collapsed": false,
    "ExecuteTime": {
     "start_time": "2023-05-01T23:11:40.989539Z",
     "end_time": "2023-05-01T23:11:52.863955Z"
    }
   }
  },
  {
   "cell_type": "code",
   "execution_count": 195,
   "outputs": [],
   "source": [
    "#l1[4].remove(2)"
   ],
   "metadata": {
    "collapsed": false,
    "ExecuteTime": {
     "start_time": "2023-05-01T23:11:41.064539Z",
     "end_time": "2023-05-01T23:11:52.863955Z"
    }
   }
  },
  {
   "cell_type": "code",
   "execution_count": 196,
   "outputs": [
    {
     "data": {
      "text/plain": "[16, 'Anand', 'Purushottam', 1, 16, [1, 2, 3]]"
     },
     "execution_count": 196,
     "metadata": {},
     "output_type": "execute_result"
    }
   ],
   "source": [
    "l1"
   ],
   "metadata": {
    "collapsed": false,
    "ExecuteTime": {
     "start_time": "2023-05-01T23:11:41.097538Z",
     "end_time": "2023-05-01T23:11:52.863955Z"
    }
   }
  },
  {
   "cell_type": "code",
   "execution_count": 197,
   "outputs": [
    {
     "data": {
      "text/plain": "16"
     },
     "execution_count": 197,
     "metadata": {},
     "output_type": "execute_result"
    }
   ],
   "source": [
    "l1[0]"
   ],
   "metadata": {
    "collapsed": false,
    "ExecuteTime": {
     "start_time": "2023-05-01T23:11:41.133540Z",
     "end_time": "2023-05-01T23:11:52.864955Z"
    }
   }
  },
  {
   "cell_type": "code",
   "execution_count": 198,
   "outputs": [
    {
     "data": {
      "text/plain": "'Anand'"
     },
     "execution_count": 198,
     "metadata": {},
     "output_type": "execute_result"
    }
   ],
   "source": [
    "l1[1]"
   ],
   "metadata": {
    "collapsed": false,
    "ExecuteTime": {
     "start_time": "2023-05-01T23:11:41.157535Z",
     "end_time": "2023-05-01T23:11:52.864955Z"
    }
   }
  },
  {
   "cell_type": "code",
   "execution_count": 199,
   "outputs": [],
   "source": [
    "#AttributeError: 'str' object has no attribute 'remove'\n",
    "\n",
    "# l1[1].remove(nd)"
   ],
   "metadata": {
    "collapsed": false,
    "ExecuteTime": {
     "start_time": "2023-05-01T23:11:41.188528Z",
     "end_time": "2023-05-01T23:11:52.864955Z"
    }
   }
  },
  {
   "cell_type": "code",
   "execution_count": 200,
   "outputs": [
    {
     "data": {
      "text/plain": "[16, 'Anand', 'Purushottam', 1, 16, [1, 2, 3]]"
     },
     "execution_count": 200,
     "metadata": {},
     "output_type": "execute_result"
    }
   ],
   "source": [
    "l1"
   ],
   "metadata": {
    "collapsed": false,
    "ExecuteTime": {
     "start_time": "2023-05-01T23:11:41.204537Z",
     "end_time": "2023-05-01T23:11:52.864955Z"
    }
   }
  },
  {
   "cell_type": "code",
   "execution_count": 201,
   "outputs": [],
   "source": [
    "l1.insert(4, 2)"
   ],
   "metadata": {
    "collapsed": false,
    "ExecuteTime": {
     "start_time": "2023-05-01T23:11:41.235542Z",
     "end_time": "2023-05-01T23:11:52.864955Z"
    }
   }
  },
  {
   "cell_type": "code",
   "execution_count": 202,
   "outputs": [
    {
     "data": {
      "text/plain": "[16, 'Anand', 'Purushottam', 1, 2, 16, [1, 2, 3]]"
     },
     "execution_count": 202,
     "metadata": {},
     "output_type": "execute_result"
    }
   ],
   "source": [
    "l1"
   ],
   "metadata": {
    "collapsed": false,
    "ExecuteTime": {
     "start_time": "2023-05-01T23:11:41.267527Z",
     "end_time": "2023-05-01T23:11:52.864955Z"
    }
   }
  },
  {
   "cell_type": "code",
   "execution_count": 203,
   "outputs": [
    {
     "data": {
      "text/plain": "[[1, 2, 3], 16, 2, 1, 'Purushottam', 'Anand', 16]"
     },
     "execution_count": 203,
     "metadata": {},
     "output_type": "execute_result"
    }
   ],
   "source": [
    "l1[::-1]\n",
    "# Reverse the List - TEMPORARY"
   ],
   "metadata": {
    "collapsed": false,
    "ExecuteTime": {
     "start_time": "2023-05-01T23:11:41.300530Z",
     "end_time": "2023-05-01T23:11:52.865954Z"
    }
   }
  },
  {
   "cell_type": "code",
   "execution_count": 204,
   "outputs": [
    {
     "data": {
      "text/plain": "[16, 'Anand', 'Purushottam', 1, 2, 16, [1, 2, 3]]"
     },
     "execution_count": 204,
     "metadata": {},
     "output_type": "execute_result"
    }
   ],
   "source": [
    "l1"
   ],
   "metadata": {
    "collapsed": false,
    "ExecuteTime": {
     "start_time": "2023-05-01T23:11:41.333531Z",
     "end_time": "2023-05-01T23:11:52.865954Z"
    }
   }
  },
  {
   "cell_type": "code",
   "execution_count": 205,
   "outputs": [],
   "source": [
    "l1.reverse()\n",
    "# Reverse the List - PERMANENT"
   ],
   "metadata": {
    "collapsed": false,
    "ExecuteTime": {
     "start_time": "2023-05-01T23:11:41.362526Z",
     "end_time": "2023-05-01T23:11:52.865954Z"
    }
   }
  },
  {
   "cell_type": "code",
   "execution_count": 206,
   "outputs": [
    {
     "data": {
      "text/plain": "[[1, 2, 3], 16, 2, 1, 'Purushottam', 'Anand', 16]"
     },
     "execution_count": 206,
     "metadata": {},
     "output_type": "execute_result"
    }
   ],
   "source": [
    "l1"
   ],
   "metadata": {
    "collapsed": false,
    "ExecuteTime": {
     "start_time": "2023-05-01T23:11:41.384527Z",
     "end_time": "2023-05-01T23:11:52.865954Z"
    }
   }
  },
  {
   "cell_type": "code",
   "execution_count": 207,
   "outputs": [
    {
     "data": {
      "text/plain": "[16, 'Anand', 'Purushottam', 1, 2, 16, [1, 2, 3]]"
     },
     "execution_count": 207,
     "metadata": {},
     "output_type": "execute_result"
    }
   ],
   "source": [
    "l1[::-1]"
   ],
   "metadata": {
    "collapsed": false,
    "ExecuteTime": {
     "start_time": "2023-05-01T23:11:41.408536Z",
     "end_time": "2023-05-01T23:11:52.865954Z"
    }
   }
  },
  {
   "cell_type": "code",
   "execution_count": 208,
   "outputs": [
    {
     "data": {
      "text/plain": "[[1, 2, 3], 16, 2, 1, 'Purushottam', 'Anand', 16]"
     },
     "execution_count": 208,
     "metadata": {},
     "output_type": "execute_result"
    }
   ],
   "source": [
    "l1"
   ],
   "metadata": {
    "collapsed": false,
    "ExecuteTime": {
     "start_time": "2023-05-01T23:11:41.438526Z",
     "end_time": "2023-05-01T23:11:52.866952Z"
    }
   }
  },
  {
   "cell_type": "code",
   "execution_count": 209,
   "outputs": [
    {
     "data": {
      "text/plain": "[[1, 2, 3], 16, 2, 1, 'Purushottam', 'Anand', 16]"
     },
     "execution_count": 209,
     "metadata": {},
     "output_type": "execute_result"
    }
   ],
   "source": [
    "l1"
   ],
   "metadata": {
    "collapsed": false,
    "ExecuteTime": {
     "start_time": "2023-05-01T23:11:41.471902Z",
     "end_time": "2023-05-01T23:11:52.866952Z"
    }
   }
  },
  {
   "cell_type": "code",
   "execution_count": 210,
   "outputs": [],
   "source": [
    "l1.reverse()"
   ],
   "metadata": {
    "collapsed": false,
    "ExecuteTime": {
     "start_time": "2023-05-01T23:11:41.502579Z",
     "end_time": "2023-05-01T23:11:52.866952Z"
    }
   }
  },
  {
   "cell_type": "code",
   "execution_count": 211,
   "outputs": [
    {
     "data": {
      "text/plain": "[16, 'Anand', 'Purushottam', 1, 2, 16, [1, 2, 3]]"
     },
     "execution_count": 211,
     "metadata": {},
     "output_type": "execute_result"
    }
   ],
   "source": [
    "l1"
   ],
   "metadata": {
    "collapsed": false,
    "ExecuteTime": {
     "start_time": "2023-05-01T23:11:41.533263Z",
     "end_time": "2023-05-01T23:11:52.866952Z"
    }
   }
  },
  {
   "cell_type": "code",
   "execution_count": 212,
   "outputs": [
    {
     "data": {
      "text/plain": "[16, 'Anand', 'Purushottam', 1, 2, 16, [1, 2, 3]]"
     },
     "execution_count": 212,
     "metadata": {},
     "output_type": "execute_result"
    }
   ],
   "source": [
    "l1"
   ],
   "metadata": {
    "collapsed": false,
    "ExecuteTime": {
     "start_time": "2023-05-01T23:11:41.598352Z",
     "end_time": "2023-05-01T23:11:52.867952Z"
    }
   }
  },
  {
   "cell_type": "code",
   "execution_count": 213,
   "outputs": [],
   "source": [
    "l1 = l1[::-1]\n",
    "# Reverse the List - PERMANENT"
   ],
   "metadata": {
    "collapsed": false,
    "ExecuteTime": {
     "start_time": "2023-05-01T23:11:41.635004Z",
     "end_time": "2023-05-01T23:11:52.867952Z"
    }
   }
  },
  {
   "cell_type": "code",
   "execution_count": 214,
   "outputs": [
    {
     "data": {
      "text/plain": "[[1, 2, 3], 16, 2, 1, 'Purushottam', 'Anand', 16]"
     },
     "execution_count": 214,
     "metadata": {},
     "output_type": "execute_result"
    }
   ],
   "source": [
    "l1"
   ],
   "metadata": {
    "collapsed": false,
    "ExecuteTime": {
     "start_time": "2023-05-01T23:11:41.667303Z",
     "end_time": "2023-05-01T23:11:52.867952Z"
    }
   }
  },
  {
   "cell_type": "code",
   "execution_count": 215,
   "outputs": [],
   "source": [
    "l2 = [5,4,6,9,8,2,3,1,7,16,12,456,86554,1321654,50,661]"
   ],
   "metadata": {
    "collapsed": false,
    "ExecuteTime": {
     "start_time": "2023-05-01T23:11:41.689858Z",
     "end_time": "2023-05-01T23:11:52.867952Z"
    }
   }
  },
  {
   "cell_type": "code",
   "execution_count": 216,
   "outputs": [],
   "source": [
    "l2.sort()"
   ],
   "metadata": {
    "collapsed": false,
    "ExecuteTime": {
     "start_time": "2023-05-01T23:11:41.729163Z",
     "end_time": "2023-05-01T23:11:52.867952Z"
    }
   }
  },
  {
   "cell_type": "code",
   "execution_count": 217,
   "outputs": [
    {
     "data": {
      "text/plain": "[1, 2, 3, 4, 5, 6, 7, 8, 9, 12, 16, 50, 456, 661, 86554, 1321654]"
     },
     "execution_count": 217,
     "metadata": {},
     "output_type": "execute_result"
    }
   ],
   "source": [
    "l2"
   ],
   "metadata": {
    "collapsed": false,
    "ExecuteTime": {
     "start_time": "2023-05-01T23:11:41.754947Z",
     "end_time": "2023-05-01T23:11:52.867952Z"
    }
   }
  },
  {
   "cell_type": "code",
   "execution_count": 218,
   "outputs": [],
   "source": [
    "l2.append(16)"
   ],
   "metadata": {
    "collapsed": false,
    "ExecuteTime": {
     "start_time": "2023-05-01T23:11:41.801946Z",
     "end_time": "2023-05-01T23:11:52.867952Z"
    }
   }
  },
  {
   "cell_type": "code",
   "execution_count": 219,
   "outputs": [
    {
     "data": {
      "text/plain": "[1, 2, 3, 4, 5, 6, 7, 8, 9, 12, 16, 50, 456, 661, 86554, 1321654, 16]"
     },
     "execution_count": 219,
     "metadata": {},
     "output_type": "execute_result"
    }
   ],
   "source": [
    "l2"
   ],
   "metadata": {
    "collapsed": false,
    "ExecuteTime": {
     "start_time": "2023-05-01T23:11:41.834950Z",
     "end_time": "2023-05-01T23:11:52.869948Z"
    }
   }
  },
  {
   "cell_type": "code",
   "execution_count": 220,
   "outputs": [],
   "source": [
    "l2.sort()"
   ],
   "metadata": {
    "collapsed": false,
    "ExecuteTime": {
     "start_time": "2023-05-01T23:11:41.920945Z",
     "end_time": "2023-05-01T23:11:52.869948Z"
    }
   }
  },
  {
   "cell_type": "code",
   "execution_count": 221,
   "outputs": [
    {
     "data": {
      "text/plain": "[1, 2, 3, 4, 5, 6, 7, 8, 9, 12, 16, 16, 50, 456, 661, 86554, 1321654]"
     },
     "execution_count": 221,
     "metadata": {},
     "output_type": "execute_result"
    }
   ],
   "source": [
    "l2"
   ],
   "metadata": {
    "collapsed": false,
    "ExecuteTime": {
     "start_time": "2023-05-01T23:11:41.949946Z",
     "end_time": "2023-05-01T23:11:52.869948Z"
    }
   }
  },
  {
   "cell_type": "code",
   "execution_count": 222,
   "outputs": [
    {
     "data": {
      "text/plain": "[[1, 2, 3], 16, 2, 1, 'Purushottam', 'Anand', 16]"
     },
     "execution_count": 222,
     "metadata": {},
     "output_type": "execute_result"
    }
   ],
   "source": [
    "l1"
   ],
   "metadata": {
    "collapsed": false,
    "ExecuteTime": {
     "start_time": "2023-05-01T23:11:41.978946Z",
     "end_time": "2023-05-01T23:11:52.869948Z"
    }
   }
  },
  {
   "cell_type": "code",
   "execution_count": 223,
   "outputs": [],
   "source": [
    "# l1.sort()\n",
    "\n",
    "# TypeError: '<' not supported between instances of 'int' and 'list'"
   ],
   "metadata": {
    "collapsed": false,
    "ExecuteTime": {
     "start_time": "2023-05-01T23:11:42.007951Z",
     "end_time": "2023-05-01T23:11:52.869948Z"
    }
   }
  },
  {
   "cell_type": "code",
   "execution_count": 224,
   "outputs": [],
   "source": [
    "l3 = ['a', 'g', 'f', 'b', 'd', 'z']"
   ],
   "metadata": {
    "collapsed": false,
    "ExecuteTime": {
     "start_time": "2023-05-01T23:11:42.038943Z",
     "end_time": "2023-05-01T23:11:52.870953Z"
    }
   }
  },
  {
   "cell_type": "code",
   "execution_count": 225,
   "outputs": [],
   "source": [
    "l3.sort()"
   ],
   "metadata": {
    "collapsed": false,
    "ExecuteTime": {
     "start_time": "2023-05-01T23:11:42.070949Z",
     "end_time": "2023-05-01T23:11:52.870953Z"
    }
   }
  },
  {
   "cell_type": "code",
   "execution_count": 226,
   "outputs": [
    {
     "data": {
      "text/plain": "['a', 'b', 'd', 'f', 'g', 'z']"
     },
     "execution_count": 226,
     "metadata": {},
     "output_type": "execute_result"
    }
   ],
   "source": [
    "l3"
   ],
   "metadata": {
    "collapsed": false,
    "ExecuteTime": {
     "start_time": "2023-05-01T23:11:42.086951Z",
     "end_time": "2023-05-01T23:11:52.870953Z"
    }
   }
  },
  {
   "cell_type": "code",
   "execution_count": 227,
   "outputs": [],
   "source": [
    "l4 = ['Anand', 'Puru', \"Data\", 'Science', 'PWSKILLS']"
   ],
   "metadata": {
    "collapsed": false,
    "ExecuteTime": {
     "start_time": "2023-05-01T23:11:42.117950Z",
     "end_time": "2023-05-01T23:11:52.870953Z"
    }
   }
  },
  {
   "cell_type": "code",
   "execution_count": 228,
   "outputs": [
    {
     "name": "stdout",
     "output_type": "stream",
     "text": [
      "['Anand', 'Data', 'PWSKILLS', 'Puru', 'Science']\n"
     ]
    }
   ],
   "source": [
    "# Sort in Ascending Order\n",
    "\n",
    "l4.sort()\n",
    "print(l4)"
   ],
   "metadata": {
    "collapsed": false,
    "ExecuteTime": {
     "start_time": "2023-05-01T23:11:42.138948Z",
     "end_time": "2023-05-01T23:11:52.870953Z"
    }
   }
  },
  {
   "cell_type": "code",
   "execution_count": 229,
   "outputs": [],
   "source": [
    "l3.sort(reverse=True)\n",
    "\n",
    "# Sort in Descending Order"
   ],
   "metadata": {
    "collapsed": false,
    "ExecuteTime": {
     "start_time": "2023-05-01T23:11:42.167946Z",
     "end_time": "2023-05-01T23:11:52.870953Z"
    }
   }
  },
  {
   "cell_type": "code",
   "execution_count": 230,
   "outputs": [
    {
     "data": {
      "text/plain": "['z', 'g', 'f', 'd', 'b', 'a']"
     },
     "execution_count": 230,
     "metadata": {},
     "output_type": "execute_result"
    }
   ],
   "source": [
    "l3"
   ],
   "metadata": {
    "collapsed": false,
    "ExecuteTime": {
     "start_time": "2023-05-01T23:11:42.182946Z",
     "end_time": "2023-05-01T23:11:52.870953Z"
    }
   }
  },
  {
   "cell_type": "code",
   "execution_count": 231,
   "outputs": [
    {
     "data": {
      "text/plain": "3"
     },
     "execution_count": 231,
     "metadata": {},
     "output_type": "execute_result"
    }
   ],
   "source": [
    "l3.index('d')"
   ],
   "metadata": {
    "collapsed": false,
    "ExecuteTime": {
     "start_time": "2023-05-01T23:11:42.218951Z",
     "end_time": "2023-05-01T23:11:52.871952Z"
    }
   }
  },
  {
   "cell_type": "code",
   "execution_count": 232,
   "outputs": [
    {
     "data": {
      "text/plain": "1"
     },
     "execution_count": 232,
     "metadata": {},
     "output_type": "execute_result"
    }
   ],
   "source": [
    "l3.count('d')"
   ],
   "metadata": {
    "collapsed": false,
    "ExecuteTime": {
     "start_time": "2023-05-01T23:11:42.252952Z",
     "end_time": "2023-05-01T23:11:52.871952Z"
    }
   }
  },
  {
   "cell_type": "code",
   "execution_count": 233,
   "outputs": [],
   "source": [
    "l3.insert(0, 'd')"
   ],
   "metadata": {
    "collapsed": false,
    "ExecuteTime": {
     "start_time": "2023-05-01T23:11:42.283951Z",
     "end_time": "2023-05-01T23:11:52.871952Z"
    }
   }
  },
  {
   "cell_type": "code",
   "execution_count": 234,
   "outputs": [
    {
     "data": {
      "text/plain": "['d', 'z', 'g', 'f', 'd', 'b', 'a']"
     },
     "execution_count": 234,
     "metadata": {},
     "output_type": "execute_result"
    }
   ],
   "source": [
    "l3"
   ],
   "metadata": {
    "collapsed": false,
    "ExecuteTime": {
     "start_time": "2023-05-01T23:11:42.300950Z",
     "end_time": "2023-05-01T23:11:52.871952Z"
    }
   }
  },
  {
   "cell_type": "code",
   "execution_count": 235,
   "outputs": [],
   "source": [
    "l3.sort()"
   ],
   "metadata": {
    "collapsed": false,
    "ExecuteTime": {
     "start_time": "2023-05-01T23:11:42.342949Z",
     "end_time": "2023-05-01T23:11:52.871952Z"
    }
   }
  },
  {
   "cell_type": "code",
   "execution_count": 236,
   "outputs": [
    {
     "data": {
      "text/plain": "['a', 'b', 'd', 'd', 'f', 'g', 'z']"
     },
     "execution_count": 236,
     "metadata": {},
     "output_type": "execute_result"
    }
   ],
   "source": [
    "l3"
   ],
   "metadata": {
    "collapsed": false,
    "ExecuteTime": {
     "start_time": "2023-05-01T23:11:42.373950Z",
     "end_time": "2023-05-01T23:11:52.872957Z"
    }
   }
  },
  {
   "cell_type": "code",
   "execution_count": 237,
   "outputs": [
    {
     "data": {
      "text/plain": "2"
     },
     "execution_count": 237,
     "metadata": {},
     "output_type": "execute_result"
    }
   ],
   "source": [
    "l3.count('d')"
   ],
   "metadata": {
    "collapsed": false,
    "ExecuteTime": {
     "start_time": "2023-05-01T23:11:42.404947Z",
     "end_time": "2023-05-01T23:11:52.872957Z"
    }
   }
  },
  {
   "cell_type": "code",
   "execution_count": 238,
   "outputs": [
    {
     "data": {
      "text/plain": "2"
     },
     "execution_count": 238,
     "metadata": {},
     "output_type": "execute_result"
    }
   ],
   "source": [
    "l3.index('d')"
   ],
   "metadata": {
    "collapsed": false,
    "ExecuteTime": {
     "start_time": "2023-05-01T23:11:42.435946Z",
     "end_time": "2023-05-01T23:11:52.872957Z"
    }
   }
  },
  {
   "cell_type": "code",
   "execution_count": 239,
   "outputs": [
    {
     "data": {
      "text/plain": "2"
     },
     "execution_count": 239,
     "metadata": {},
     "output_type": "execute_result"
    }
   ],
   "source": [
    "l3.index('d')"
   ],
   "metadata": {
    "collapsed": false,
    "ExecuteTime": {
     "start_time": "2023-05-01T23:11:42.468947Z",
     "end_time": "2023-05-01T23:11:52.873955Z"
    }
   }
  },
  {
   "cell_type": "code",
   "execution_count": 240,
   "outputs": [
    {
     "name": "stdout",
     "output_type": "stream",
     "text": [
      "Anand\n"
     ]
    }
   ],
   "source": [
    "s = \"Anand\"\n",
    "print(s)"
   ],
   "metadata": {
    "collapsed": false,
    "ExecuteTime": {
     "start_time": "2023-05-01T23:11:42.500943Z",
     "end_time": "2023-05-01T23:11:52.873955Z"
    }
   }
  },
  {
   "cell_type": "code",
   "execution_count": 241,
   "outputs": [
    {
     "data": {
      "text/plain": "'A'"
     },
     "execution_count": 241,
     "metadata": {},
     "output_type": "execute_result"
    }
   ],
   "source": [
    "s[0]"
   ],
   "metadata": {
    "collapsed": false,
    "ExecuteTime": {
     "start_time": "2023-05-01T23:11:42.532947Z",
     "end_time": "2023-05-01T23:11:52.873955Z"
    }
   }
  },
  {
   "cell_type": "code",
   "execution_count": 242,
   "outputs": [],
   "source": [
    "# s[0] = 'P'\n",
    "\n",
    "# TypeError: 'str' object does not support item assignment\n",
    "# String is  Immutable\n",
    "# Lists are Mutable"
   ],
   "metadata": {
    "collapsed": false,
    "ExecuteTime": {
     "start_time": "2023-05-01T23:11:42.570962Z",
     "end_time": "2023-05-01T23:11:52.874942Z"
    }
   }
  },
  {
   "cell_type": "markdown",
   "source": [
    "Mutable are those whose value can be changed by accessing there \"Index\"\n",
    "Here, value of String at 0th index can not be changed. So Strings are Im-mutable.\n",
    "We use \"replace()\" function to change value of any index in a string. It is called \"assignment\".\n",
    "But value of list at 0th Index can be changed. So, lists are Mutable"
   ],
   "metadata": {
    "collapsed": false
   }
  },
  {
   "cell_type": "code",
   "execution_count": 243,
   "outputs": [],
   "source": [
    "l4 = [1,2,32,56,4,5,6,25]"
   ],
   "metadata": {
    "collapsed": false,
    "ExecuteTime": {
     "start_time": "2023-05-01T23:11:42.595946Z",
     "end_time": "2023-05-01T23:11:52.876944Z"
    }
   }
  },
  {
   "cell_type": "code",
   "execution_count": 244,
   "outputs": [
    {
     "data": {
      "text/plain": "[1, 2, 32, 56, 4, 5, 6, 25]"
     },
     "execution_count": 244,
     "metadata": {},
     "output_type": "execute_result"
    }
   ],
   "source": [
    "l4"
   ],
   "metadata": {
    "collapsed": false,
    "ExecuteTime": {
     "start_time": "2023-05-01T23:11:42.631947Z",
     "end_time": "2023-05-01T23:11:52.877943Z"
    }
   }
  },
  {
   "cell_type": "code",
   "execution_count": 245,
   "outputs": [],
   "source": [
    "l4.sort()"
   ],
   "metadata": {
    "collapsed": false,
    "ExecuteTime": {
     "start_time": "2023-05-01T23:11:42.659943Z",
     "end_time": "2023-05-01T23:11:52.877943Z"
    }
   }
  },
  {
   "cell_type": "code",
   "execution_count": 246,
   "outputs": [
    {
     "data": {
      "text/plain": "[1, 2, 4, 5, 6, 25, 32, 56]"
     },
     "execution_count": 246,
     "metadata": {},
     "output_type": "execute_result"
    }
   ],
   "source": [
    "l4"
   ],
   "metadata": {
    "collapsed": false,
    "ExecuteTime": {
     "start_time": "2023-05-01T23:11:42.690946Z",
     "end_time": "2023-05-01T23:11:52.877943Z"
    }
   }
  },
  {
   "cell_type": "code",
   "execution_count": 247,
   "outputs": [],
   "source": [
    "l4[0] = 10\n",
    "\n",
    "# Lists are Mutable"
   ],
   "metadata": {
    "collapsed": false,
    "ExecuteTime": {
     "start_time": "2023-05-01T23:11:42.724945Z",
     "end_time": "2023-05-01T23:11:52.877943Z"
    }
   }
  },
  {
   "cell_type": "code",
   "execution_count": 248,
   "outputs": [
    {
     "data": {
      "text/plain": "[10, 2, 4, 5, 6, 25, 32, 56]"
     },
     "execution_count": 248,
     "metadata": {},
     "output_type": "execute_result"
    }
   ],
   "source": [
    "l4"
   ],
   "metadata": {
    "collapsed": false,
    "ExecuteTime": {
     "start_time": "2023-05-01T23:11:42.751949Z",
     "end_time": "2023-05-01T23:11:52.877943Z"
    }
   }
  },
  {
   "cell_type": "code",
   "execution_count": 249,
   "outputs": [
    {
     "data": {
      "text/plain": "'Anand'"
     },
     "execution_count": 249,
     "metadata": {},
     "output_type": "execute_result"
    }
   ],
   "source": [
    "s"
   ],
   "metadata": {
    "collapsed": false,
    "ExecuteTime": {
     "start_time": "2023-05-01T23:11:42.785955Z",
     "end_time": "2023-05-01T23:11:52.878946Z"
    }
   }
  },
  {
   "cell_type": "code",
   "execution_count": 250,
   "outputs": [
    {
     "data": {
      "text/plain": "'Pnand'"
     },
     "execution_count": 250,
     "metadata": {},
     "output_type": "execute_result"
    }
   ],
   "source": [
    "s.replace('A', 'P')"
   ],
   "metadata": {
    "collapsed": false,
    "ExecuteTime": {
     "start_time": "2023-05-01T23:11:42.818946Z",
     "end_time": "2023-05-01T23:11:52.878946Z"
    }
   }
  },
  {
   "cell_type": "code",
   "execution_count": 251,
   "outputs": [
    {
     "data": {
      "text/plain": "'Anand'"
     },
     "execution_count": 251,
     "metadata": {},
     "output_type": "execute_result"
    }
   ],
   "source": [
    "s"
   ],
   "metadata": {
    "collapsed": false,
    "ExecuteTime": {
     "start_time": "2023-05-01T23:11:42.851942Z",
     "end_time": "2023-05-01T23:11:52.879947Z"
    }
   }
  },
  {
   "cell_type": "code",
   "execution_count": 252,
   "outputs": [],
   "source": [
    "s = s.replace('A', 'P')"
   ],
   "metadata": {
    "collapsed": false,
    "ExecuteTime": {
     "start_time": "2023-05-01T23:11:42.882948Z",
     "end_time": "2023-05-01T23:11:52.879947Z"
    }
   }
  },
  {
   "cell_type": "code",
   "execution_count": 253,
   "outputs": [
    {
     "data": {
      "text/plain": "'Pnand'"
     },
     "execution_count": 253,
     "metadata": {},
     "output_type": "execute_result"
    }
   ],
   "source": [
    "s"
   ],
   "metadata": {
    "collapsed": false,
    "ExecuteTime": {
     "start_time": "2023-05-01T23:11:42.896946Z",
     "end_time": "2023-05-01T23:11:52.880949Z"
    }
   }
  },
  {
   "cell_type": "code",
   "execution_count": 254,
   "outputs": [],
   "source": [
    "# Tuples\n",
    "\n",
    "t = (1,2,3, 'anand', True, 4.5)"
   ],
   "metadata": {
    "collapsed": false,
    "ExecuteTime": {
     "start_time": "2023-05-01T23:11:42.929950Z",
     "end_time": "2023-05-01T23:11:52.880949Z"
    }
   }
  },
  {
   "cell_type": "markdown",
   "source": [
    "TUPLES starts from here ---->\n",
    "\n",
    "Tuples are also kinda like List.\n",
    "Just the difference of Brackets in between them.\n",
    "Tuples can also store any type of data inside it.\n",
    "\n",
    "MAJOR DIFFERENCE between LIST & TUPLE is \"MUTABILITY\"\n",
    "LISTS are Mutable\n",
    "TUPLES are not Mutable\n",
    "\n",
    "Tuples are used like when we do not want the data to be changed or modified. Like storing Passwords."
   ],
   "metadata": {
    "collapsed": false
   }
  },
  {
   "cell_type": "code",
   "execution_count": 255,
   "outputs": [
    {
     "data": {
      "text/plain": "(1, 2, 3, 'anand', True, 4.5)"
     },
     "execution_count": 255,
     "metadata": {},
     "output_type": "execute_result"
    }
   ],
   "source": [
    "t"
   ],
   "metadata": {
    "collapsed": false,
    "ExecuteTime": {
     "start_time": "2023-05-01T23:11:42.961949Z",
     "end_time": "2023-05-01T23:11:52.881957Z"
    }
   }
  },
  {
   "cell_type": "code",
   "execution_count": 256,
   "outputs": [
    {
     "data": {
      "text/plain": "tuple"
     },
     "execution_count": 256,
     "metadata": {},
     "output_type": "execute_result"
    }
   ],
   "source": [
    "type(t)"
   ],
   "metadata": {
    "collapsed": false,
    "ExecuteTime": {
     "start_time": "2023-05-01T23:11:42.991944Z",
     "end_time": "2023-05-01T23:11:52.881957Z"
    }
   }
  },
  {
   "cell_type": "code",
   "execution_count": 257,
   "outputs": [
    {
     "data": {
      "text/plain": "6"
     },
     "execution_count": 257,
     "metadata": {},
     "output_type": "execute_result"
    }
   ],
   "source": [
    "len(t)"
   ],
   "metadata": {
    "collapsed": false,
    "ExecuteTime": {
     "start_time": "2023-05-01T23:11:43.021944Z",
     "end_time": "2023-05-01T23:11:52.884944Z"
    }
   }
  },
  {
   "cell_type": "code",
   "execution_count": 258,
   "outputs": [
    {
     "data": {
      "text/plain": "1"
     },
     "execution_count": 258,
     "metadata": {},
     "output_type": "execute_result"
    }
   ],
   "source": [
    "t[0]"
   ],
   "metadata": {
    "collapsed": false,
    "ExecuteTime": {
     "start_time": "2023-05-01T23:11:43.051945Z",
     "end_time": "2023-05-01T23:11:52.885946Z"
    }
   }
  },
  {
   "cell_type": "code",
   "execution_count": 259,
   "outputs": [
    {
     "data": {
      "text/plain": "4.5"
     },
     "execution_count": 259,
     "metadata": {},
     "output_type": "execute_result"
    }
   ],
   "source": [
    "t[-1]"
   ],
   "metadata": {
    "collapsed": false,
    "ExecuteTime": {
     "start_time": "2023-05-01T23:11:43.083949Z",
     "end_time": "2023-05-01T23:11:52.886947Z"
    }
   }
  },
  {
   "cell_type": "code",
   "execution_count": 260,
   "outputs": [
    {
     "data": {
      "text/plain": "(4.5, True, 'anand', 3, 2, 1)"
     },
     "execution_count": 260,
     "metadata": {},
     "output_type": "execute_result"
    }
   ],
   "source": [
    "t[::-1]"
   ],
   "metadata": {
    "collapsed": false,
    "ExecuteTime": {
     "start_time": "2023-05-01T23:11:43.116951Z",
     "end_time": "2023-05-01T23:11:52.886947Z"
    }
   }
  },
  {
   "cell_type": "code",
   "execution_count": 261,
   "outputs": [
    {
     "data": {
      "text/plain": "(1, 2, 3, 'anand', True, 4.5)"
     },
     "execution_count": 261,
     "metadata": {},
     "output_type": "execute_result"
    }
   ],
   "source": [
    "t"
   ],
   "metadata": {
    "collapsed": false,
    "ExecuteTime": {
     "start_time": "2023-05-01T23:11:43.149945Z",
     "end_time": "2023-05-01T23:11:52.887947Z"
    }
   }
  },
  {
   "cell_type": "code",
   "execution_count": 262,
   "outputs": [
    {
     "data": {
      "text/plain": "[10, 2, 4, 5, 6, 25, 32, 56]"
     },
     "execution_count": 262,
     "metadata": {},
     "output_type": "execute_result"
    }
   ],
   "source": [
    "l4"
   ],
   "metadata": {
    "collapsed": false,
    "ExecuteTime": {
     "start_time": "2023-05-01T23:11:43.183948Z",
     "end_time": "2023-05-01T23:11:52.887947Z"
    }
   }
  },
  {
   "cell_type": "code",
   "execution_count": 263,
   "outputs": [
    {
     "name": "stdout",
     "output_type": "stream",
     "text": [
      "[1, 2, 4, 5, 6, 25, 32, 56]\n"
     ]
    }
   ],
   "source": [
    "l4[0] = 1\n",
    "print(l4)"
   ],
   "metadata": {
    "collapsed": false,
    "ExecuteTime": {
     "start_time": "2023-05-01T23:11:43.218947Z",
     "end_time": "2023-05-01T23:11:52.888944Z"
    }
   }
  },
  {
   "cell_type": "code",
   "execution_count": 264,
   "outputs": [
    {
     "data": {
      "text/plain": "(1, 2, 3, 'anand', True, 4.5)"
     },
     "execution_count": 264,
     "metadata": {},
     "output_type": "execute_result"
    }
   ],
   "source": [
    "t"
   ],
   "metadata": {
    "collapsed": false,
    "ExecuteTime": {
     "start_time": "2023-05-01T23:11:43.244950Z",
     "end_time": "2023-05-01T23:11:52.889946Z"
    }
   }
  },
  {
   "cell_type": "code",
   "execution_count": 265,
   "outputs": [
    {
     "data": {
      "text/plain": "1"
     },
     "execution_count": 265,
     "metadata": {},
     "output_type": "execute_result"
    }
   ],
   "source": [
    "t[0]"
   ],
   "metadata": {
    "collapsed": false,
    "ExecuteTime": {
     "start_time": "2023-05-01T23:11:43.274950Z",
     "end_time": "2023-05-01T23:11:52.889946Z"
    }
   }
  },
  {
   "cell_type": "code",
   "execution_count": 266,
   "outputs": [
    {
     "data": {
      "text/plain": "\" TypeError                                 Traceback (most recent call last)\\nCell In[206], line 1\\n----> 1 t[0] = 10\\n\\nTypeError: 'tuple' object does not support item assignment \""
     },
     "execution_count": 266,
     "metadata": {},
     "output_type": "execute_result"
    }
   ],
   "source": [
    "# t[0] = 10\n",
    "\n",
    "# ---------------------------------------------------------------------------\n",
    "''' TypeError                                 Traceback (most recent call last)\n",
    "Cell In[206], line 1\n",
    "----> 1 t[0] = 10\n",
    "\n",
    "TypeError: 'tuple' object does not support item assignment '''"
   ],
   "metadata": {
    "collapsed": false,
    "ExecuteTime": {
     "start_time": "2023-05-01T23:11:43.311952Z",
     "end_time": "2023-05-01T23:11:52.892999Z"
    }
   }
  },
  {
   "cell_type": "code",
   "execution_count": 267,
   "outputs": [
    {
     "data": {
      "text/plain": "(1, 2, 3, 'anand', True, 4.5)"
     },
     "execution_count": 267,
     "metadata": {},
     "output_type": "execute_result"
    }
   ],
   "source": [
    "t"
   ],
   "metadata": {
    "collapsed": false,
    "ExecuteTime": {
     "start_time": "2023-05-01T23:11:43.337947Z",
     "end_time": "2023-05-01T23:11:52.893945Z"
    }
   }
  },
  {
   "cell_type": "code",
   "execution_count": 268,
   "outputs": [
    {
     "data": {
      "text/plain": "True"
     },
     "execution_count": 268,
     "metadata": {},
     "output_type": "execute_result"
    }
   ],
   "source": [
    "t.__contains__('anand')"
   ],
   "metadata": {
    "collapsed": false,
    "ExecuteTime": {
     "start_time": "2023-05-01T23:11:43.370948Z",
     "end_time": "2023-05-01T23:11:52.893945Z"
    }
   }
  },
  {
   "cell_type": "code",
   "execution_count": 269,
   "outputs": [
    {
     "data": {
      "text/plain": "3"
     },
     "execution_count": 269,
     "metadata": {},
     "output_type": "execute_result"
    }
   ],
   "source": [
    "t.index('anand')"
   ],
   "metadata": {
    "collapsed": false,
    "ExecuteTime": {
     "start_time": "2023-05-01T23:11:43.402947Z",
     "end_time": "2023-05-01T23:11:52.894948Z"
    }
   }
  },
  {
   "cell_type": "code",
   "execution_count": 270,
   "outputs": [
    {
     "data": {
      "text/plain": "1"
     },
     "execution_count": 270,
     "metadata": {},
     "output_type": "execute_result"
    }
   ],
   "source": [
    "t.count(2)"
   ],
   "metadata": {
    "collapsed": false,
    "ExecuteTime": {
     "start_time": "2023-05-01T23:11:43.434945Z",
     "end_time": "2023-05-01T23:11:52.895951Z"
    }
   }
  },
  {
   "cell_type": "code",
   "execution_count": 271,
   "outputs": [],
   "source": [
    "# SET --->\n",
    "\n",
    "s1 = {}"
   ],
   "metadata": {
    "collapsed": false,
    "ExecuteTime": {
     "start_time": "2023-05-01T23:11:43.468947Z",
     "end_time": "2023-05-01T23:11:52.895951Z"
    }
   }
  },
  {
   "cell_type": "markdown",
   "source": [
    "Concept of SET starts from here\n",
    "We use {} to create set\n",
    "Type of empty {} is \"dict\" - dictionary\n",
    "But, type of filled {1,2,3,4,5} data is \"Set\"\n",
    "\n",
    "See Examples below --->"
   ],
   "metadata": {
    "collapsed": false
   }
  },
  {
   "cell_type": "code",
   "execution_count": 272,
   "outputs": [
    {
     "data": {
      "text/plain": "dict"
     },
     "execution_count": 272,
     "metadata": {},
     "output_type": "execute_result"
    }
   ],
   "source": [
    "type(s1)"
   ],
   "metadata": {
    "collapsed": false,
    "ExecuteTime": {
     "start_time": "2023-05-01T23:11:43.484944Z",
     "end_time": "2023-05-01T23:11:52.896949Z"
    }
   }
  },
  {
   "cell_type": "code",
   "execution_count": 273,
   "outputs": [
    {
     "name": "stdout",
     "output_type": "stream",
     "text": [
      "<class 'set'>\n"
     ]
    }
   ],
   "source": [
    "s2 = {1,2,3,4,5}\n",
    "print(type(s2))"
   ],
   "metadata": {
    "collapsed": false,
    "ExecuteTime": {
     "start_time": "2023-05-01T23:11:43.512950Z",
     "end_time": "2023-05-01T23:11:52.896949Z"
    }
   }
  },
  {
   "cell_type": "code",
   "execution_count": 274,
   "outputs": [],
   "source": [
    "s3 = {1,2,3.45,'puru', True}"
   ],
   "metadata": {
    "collapsed": false,
    "ExecuteTime": {
     "start_time": "2023-05-01T23:11:43.543947Z",
     "end_time": "2023-05-01T23:11:52.896949Z"
    }
   }
  },
  {
   "cell_type": "code",
   "execution_count": 275,
   "outputs": [
    {
     "data": {
      "text/plain": "{1, 2, 3.45, 'puru'}"
     },
     "execution_count": 275,
     "metadata": {},
     "output_type": "execute_result"
    }
   ],
   "source": [
    "s3"
   ],
   "metadata": {
    "collapsed": false,
    "ExecuteTime": {
     "start_time": "2023-05-01T23:11:43.573953Z",
     "end_time": "2023-05-01T23:11:52.900947Z"
    }
   }
  },
  {
   "cell_type": "code",
   "execution_count": 276,
   "outputs": [
    {
     "data": {
      "text/plain": "\" s3 = {1,2,3.45,'puru', True, [1,2,3,5]}\\n\\n---------------------------------------------------------------------------\\nTypeError                                 Traceback (most recent call last)\\nCell In[220], line 1\\n----> 1 s3 = {1,2,3.45,'puru', True, [1,2,3,5]}\\n\\nTypeError: unhashable type: 'list' \""
     },
     "execution_count": 276,
     "metadata": {},
     "output_type": "execute_result"
    }
   ],
   "source": [
    "''' s3 = {1,2,3.45,'puru', True, [1,2,3,5]}\n",
    "\n",
    "---------------------------------------------------------------------------\n",
    "TypeError                                 Traceback (most recent call last)\n",
    "Cell In[220], line 1\n",
    "----> 1 s3 = {1,2,3.45,'puru', True, [1,2,3,5]}\n",
    "\n",
    "TypeError: unhashable type: 'list' '''"
   ],
   "metadata": {
    "collapsed": false,
    "ExecuteTime": {
     "start_time": "2023-05-01T23:11:43.609951Z",
     "end_time": "2023-05-01T23:11:52.901947Z"
    }
   }
  },
  {
   "cell_type": "markdown",
   "source": [
    "Set can only contain immutable data types.\n",
    "List is Mutable, so we can not store list in sets.\n",
    "Tuples are immutable, so we can store Tuples inside Sets"
   ],
   "metadata": {
    "collapsed": false
   }
  },
  {
   "cell_type": "code",
   "execution_count": 277,
   "outputs": [
    {
     "name": "stdout",
     "output_type": "stream",
     "text": [
      "{16.12, 1, 2, (1, 2, 3, 5), 'puru', (12+6j)}\n"
     ]
    }
   ],
   "source": [
    "s3 = {1,2,16.12,'puru', True, (1,2,3,5), 12+6j}\n",
    "print(s3)"
   ],
   "metadata": {
    "collapsed": false,
    "ExecuteTime": {
     "start_time": "2023-05-01T23:11:43.638946Z",
     "end_time": "2023-05-01T23:11:52.901947Z"
    }
   }
  },
  {
   "cell_type": "code",
   "execution_count": 278,
   "outputs": [],
   "source": [
    "s4 = {1,1,1,2,3,5,6,4,6,5,7,8,9,52,6,4,2,52}"
   ],
   "metadata": {
    "collapsed": false,
    "ExecuteTime": {
     "start_time": "2023-05-01T23:11:43.668943Z",
     "end_time": "2023-05-01T23:11:52.901947Z"
    }
   }
  },
  {
   "cell_type": "markdown",
   "source": [
    "Set only give Unique data\n",
    "Set remove all the duplicate data"
   ],
   "metadata": {
    "collapsed": false
   }
  },
  {
   "cell_type": "code",
   "execution_count": 279,
   "outputs": [
    {
     "data": {
      "text/plain": "{1, 2, 3, 4, 5, 6, 7, 8, 9, 52}"
     },
     "execution_count": 279,
     "metadata": {},
     "output_type": "execute_result"
    }
   ],
   "source": [
    "s4"
   ],
   "metadata": {
    "collapsed": false,
    "ExecuteTime": {
     "start_time": "2023-05-01T23:11:43.687956Z",
     "end_time": "2023-05-01T23:11:52.902950Z"
    }
   }
  },
  {
   "cell_type": "code",
   "execution_count": 280,
   "outputs": [],
   "source": [
    "s4 = {1,1,1,2,3,5,6,4,6,5,7,8,9,52,6,4,2,52,'anand', 'anand'}"
   ],
   "metadata": {
    "collapsed": false,
    "ExecuteTime": {
     "start_time": "2023-05-01T23:11:43.716948Z",
     "end_time": "2023-05-01T23:11:52.902950Z"
    }
   }
  },
  {
   "cell_type": "code",
   "execution_count": 281,
   "outputs": [
    {
     "data": {
      "text/plain": "{1, 2, 3, 4, 5, 52, 6, 7, 8, 9, 'anand'}"
     },
     "execution_count": 281,
     "metadata": {},
     "output_type": "execute_result"
    }
   ],
   "source": [
    "s4"
   ],
   "metadata": {
    "collapsed": false,
    "ExecuteTime": {
     "start_time": "2023-05-01T23:11:43.752945Z",
     "end_time": "2023-05-01T23:11:52.903964Z"
    }
   }
  },
  {
   "cell_type": "code",
   "execution_count": 282,
   "outputs": [],
   "source": [
    "s4 = {1,1,1,2,3,5,6,4,6,5,7,8,9,52,6,4,2,52,'anand','Anand'}"
   ],
   "metadata": {
    "collapsed": false,
    "ExecuteTime": {
     "start_time": "2023-05-01T23:11:43.804944Z",
     "end_time": "2023-05-01T23:11:52.903964Z"
    }
   }
  },
  {
   "cell_type": "markdown",
   "source": [
    "Python is a case-sensitive language.\n",
    "So it does not remove 'anand' & 'Anand' because there is difference between captial A and small a.\n",
    "But it removes same word 'anand' which is repeated 2 times"
   ],
   "metadata": {
    "collapsed": false
   }
  },
  {
   "cell_type": "code",
   "execution_count": 283,
   "outputs": [
    {
     "data": {
      "text/plain": "{1, 2, 3, 4, 5, 52, 6, 7, 8, 9, 'Anand', 'anand'}"
     },
     "execution_count": 283,
     "metadata": {},
     "output_type": "execute_result"
    }
   ],
   "source": [
    "s4"
   ],
   "metadata": {
    "collapsed": false,
    "ExecuteTime": {
     "start_time": "2023-05-01T23:11:43.829950Z",
     "end_time": "2023-05-01T23:11:52.903964Z"
    }
   }
  },
  {
   "cell_type": "code",
   "execution_count": 284,
   "outputs": [],
   "source": [
    "l5 = [1,1,1,2,3,5,6,4,6,5,7,8,9,52,6,4,2,52,'anand', 'anand']"
   ],
   "metadata": {
    "collapsed": false,
    "ExecuteTime": {
     "start_time": "2023-05-01T23:11:43.863944Z",
     "end_time": "2023-05-01T23:11:52.904949Z"
    }
   }
  },
  {
   "cell_type": "code",
   "execution_count": 285,
   "outputs": [
    {
     "data": {
      "text/plain": "[1, 1, 1, 2, 3, 5, 6, 4, 6, 5, 7, 8, 9, 52, 6, 4, 2, 52, 'anand', 'anand']"
     },
     "execution_count": 285,
     "metadata": {},
     "output_type": "execute_result"
    }
   ],
   "source": [
    "l5"
   ],
   "metadata": {
    "collapsed": false,
    "ExecuteTime": {
     "start_time": "2023-05-01T23:11:43.891946Z",
     "end_time": "2023-05-01T23:11:52.906944Z"
    }
   }
  },
  {
   "cell_type": "code",
   "execution_count": 286,
   "outputs": [],
   "source": [
    "l5 = list(set(l5))"
   ],
   "metadata": {
    "collapsed": false,
    "ExecuteTime": {
     "start_time": "2023-05-01T23:11:43.922949Z",
     "end_time": "2023-05-01T23:11:52.906944Z"
    }
   }
  },
  {
   "cell_type": "markdown",
   "source": [
    "Remove all duplicates of a List using Set"
   ],
   "metadata": {
    "collapsed": false
   }
  },
  {
   "cell_type": "code",
   "execution_count": 287,
   "outputs": [
    {
     "data": {
      "text/plain": "[1, 2, 3, 4, 5, 6, 7, 8, 9, 52, 'anand']"
     },
     "execution_count": 287,
     "metadata": {},
     "output_type": "execute_result"
    }
   ],
   "source": [
    "l5"
   ],
   "metadata": {
    "collapsed": false,
    "ExecuteTime": {
     "start_time": "2023-05-01T23:11:43.953959Z",
     "end_time": "2023-05-01T23:11:52.907959Z"
    }
   }
  },
  {
   "cell_type": "code",
   "execution_count": 288,
   "outputs": [
    {
     "data": {
      "text/plain": "{1, 2, 3, 4, 5, 52, 6, 7, 8, 9, 'Anand', 'anand'}"
     },
     "execution_count": 288,
     "metadata": {},
     "output_type": "execute_result"
    }
   ],
   "source": [
    "s4"
   ],
   "metadata": {
    "collapsed": false,
    "ExecuteTime": {
     "start_time": "2023-05-01T23:11:43.990944Z",
     "end_time": "2023-05-01T23:11:52.908950Z"
    }
   }
  },
  {
   "cell_type": "code",
   "execution_count": 289,
   "outputs": [
    {
     "data": {
      "text/plain": "\" s4[0]\\n\\n---------------------------------------------------------------------------\\nTypeError                                 Traceback (most recent call last)\\nCell In[247], line 1\\n----> 1 s4[0]\\n\\nTypeError: 'set' object is not subscriptable \""
     },
     "execution_count": 289,
     "metadata": {},
     "output_type": "execute_result"
    }
   ],
   "source": [
    "''' s4[0]\n",
    "\n",
    "---------------------------------------------------------------------------\n",
    "TypeError                                 Traceback (most recent call last)\n",
    "Cell In[247], line 1\n",
    "----> 1 s4[0]\n",
    "\n",
    "TypeError: 'set' object is not subscriptable '''"
   ],
   "metadata": {
    "collapsed": false,
    "ExecuteTime": {
     "start_time": "2023-05-01T23:11:44.021948Z",
     "end_time": "2023-05-01T23:11:52.909945Z"
    }
   }
  },
  {
   "cell_type": "code",
   "execution_count": 290,
   "outputs": [
    {
     "data": {
      "text/plain": "\" s4[::-1]\\n\\n---------------------------------------------------------------------------\\nTypeError                                 Traceback (most recent call last)\\nCell In[249], line 1\\n----> 1 s4[::-1]\\n\\nTypeError: 'set' object is not subscriptable \""
     },
     "execution_count": 290,
     "metadata": {},
     "output_type": "execute_result"
    }
   ],
   "source": [
    "''' s4[::-1]\n",
    "\n",
    "---------------------------------------------------------------------------\n",
    "TypeError                                 Traceback (most recent call last)\n",
    "Cell In[249], line 1\n",
    "----> 1 s4[::-1]\n",
    "\n",
    "TypeError: 'set' object is not subscriptable '''\n"
   ],
   "metadata": {
    "collapsed": false,
    "ExecuteTime": {
     "start_time": "2023-05-01T23:11:44.050945Z",
     "end_time": "2023-05-01T23:11:52.909945Z"
    }
   }
  },
  {
   "cell_type": "code",
   "execution_count": 291,
   "outputs": [
    {
     "data": {
      "text/plain": "(1, 2, 3, 'anand', True, 4.5)"
     },
     "execution_count": 291,
     "metadata": {},
     "output_type": "execute_result"
    }
   ],
   "source": [
    "t"
   ],
   "metadata": {
    "collapsed": false,
    "ExecuteTime": {
     "start_time": "2023-05-01T23:11:44.087943Z",
     "end_time": "2023-05-01T23:11:52.910948Z"
    }
   }
  },
  {
   "cell_type": "code",
   "execution_count": 292,
   "outputs": [
    {
     "data": {
      "text/plain": "{1, 2, 3, 4, 5, 52, 6, 7, 8, 9, 'Anand', 'anand'}"
     },
     "execution_count": 292,
     "metadata": {},
     "output_type": "execute_result"
    }
   ],
   "source": [
    "s4"
   ],
   "metadata": {
    "collapsed": false,
    "ExecuteTime": {
     "start_time": "2023-05-01T23:11:44.115947Z",
     "end_time": "2023-05-01T23:11:52.910948Z"
    }
   }
  },
  {
   "cell_type": "code",
   "execution_count": 293,
   "outputs": [],
   "source": [
    "s4.add(50)"
   ],
   "metadata": {
    "collapsed": false,
    "ExecuteTime": {
     "start_time": "2023-05-01T23:11:44.151947Z",
     "end_time": "2023-05-01T23:11:52.911949Z"
    }
   }
  },
  {
   "cell_type": "code",
   "execution_count": 294,
   "outputs": [
    {
     "data": {
      "text/plain": "{1, 2, 3, 4, 5, 50, 52, 6, 7, 8, 9, 'Anand', 'anand'}"
     },
     "execution_count": 294,
     "metadata": {},
     "output_type": "execute_result"
    }
   ],
   "source": [
    "s4"
   ],
   "metadata": {
    "collapsed": false,
    "ExecuteTime": {
     "start_time": "2023-05-01T23:11:44.176943Z",
     "end_time": "2023-05-01T23:11:52.911949Z"
    }
   }
  },
  {
   "cell_type": "code",
   "execution_count": 295,
   "outputs": [],
   "source": [
    "s4.remove(52)"
   ],
   "metadata": {
    "collapsed": false,
    "ExecuteTime": {
     "start_time": "2023-05-01T23:11:44.209949Z",
     "end_time": "2023-05-01T23:11:52.912943Z"
    }
   }
  },
  {
   "cell_type": "code",
   "execution_count": 296,
   "outputs": [
    {
     "data": {
      "text/plain": "{1, 2, 3, 4, 5, 50, 6, 7, 8, 9, 'Anand', 'anand'}"
     },
     "execution_count": 296,
     "metadata": {},
     "output_type": "execute_result"
    }
   ],
   "source": [
    "s4"
   ],
   "metadata": {
    "collapsed": false,
    "ExecuteTime": {
     "start_time": "2023-05-01T23:11:44.241943Z",
     "end_time": "2023-05-01T23:11:52.912943Z"
    }
   }
  },
  {
   "cell_type": "code",
   "execution_count": 297,
   "outputs": [],
   "source": [
    "s5 = s4.copy()"
   ],
   "metadata": {
    "collapsed": false,
    "ExecuteTime": {
     "start_time": "2023-05-01T23:11:44.272954Z",
     "end_time": "2023-05-01T23:11:52.912943Z"
    }
   }
  },
  {
   "cell_type": "code",
   "execution_count": 298,
   "outputs": [
    {
     "data": {
      "text/plain": "{1, 2, 3, 4, 5, 50, 6, 7, 8, 9, 'Anand', 'anand'}"
     },
     "execution_count": 298,
     "metadata": {},
     "output_type": "execute_result"
    }
   ],
   "source": [
    "s5"
   ],
   "metadata": {
    "collapsed": false,
    "ExecuteTime": {
     "start_time": "2023-05-01T23:11:44.302948Z",
     "end_time": "2023-05-01T23:11:52.912943Z"
    }
   }
  },
  {
   "cell_type": "code",
   "execution_count": 299,
   "outputs": [
    {
     "data": {
      "text/plain": "1"
     },
     "execution_count": 299,
     "metadata": {},
     "output_type": "execute_result"
    }
   ],
   "source": [
    "s5.pop()"
   ],
   "metadata": {
    "collapsed": false,
    "ExecuteTime": {
     "start_time": "2023-05-01T23:11:44.339945Z",
     "end_time": "2023-05-01T23:11:52.913959Z"
    }
   }
  },
  {
   "cell_type": "code",
   "execution_count": 300,
   "outputs": [
    {
     "data": {
      "text/plain": "{2, 3, 4, 5, 50, 6, 7, 8, 9, 'Anand', 'anand'}"
     },
     "execution_count": 300,
     "metadata": {},
     "output_type": "execute_result"
    }
   ],
   "source": [
    "s5"
   ],
   "metadata": {
    "collapsed": false,
    "ExecuteTime": {
     "start_time": "2023-05-01T23:11:44.372955Z",
     "end_time": "2023-05-01T23:11:52.913959Z"
    }
   }
  },
  {
   "cell_type": "code",
   "execution_count": 301,
   "outputs": [
    {
     "data": {
      "text/plain": "' ------------------- END OF PRACTICE -------------------\\n'"
     },
     "execution_count": 301,
     "metadata": {},
     "output_type": "execute_result"
    }
   ],
   "source": [
    "''' ------------------- END OF PRACTICE -------------------\n",
    "'''"
   ],
   "metadata": {
    "collapsed": false,
    "ExecuteTime": {
     "start_time": "2023-05-01T23:11:44.399943Z",
     "end_time": "2023-05-01T23:11:52.914951Z"
    }
   }
  },
  {
   "cell_type": "code",
   "execution_count": 302,
   "outputs": [],
   "source": [
    "s = 'this is a pen'\n",
    "l = list(s)"
   ],
   "metadata": {
    "collapsed": false,
    "ExecuteTime": {
     "start_time": "2023-05-01T23:11:44.431947Z",
     "end_time": "2023-05-01T23:11:52.914951Z"
    }
   }
  },
  {
   "cell_type": "code",
   "execution_count": 303,
   "outputs": [
    {
     "data": {
      "text/plain": "['t', 'h', 'i', 's', ' ', 'i', 's', ' ', 'a', ' ', 'p', 'e', 'n']"
     },
     "execution_count": 303,
     "metadata": {},
     "output_type": "execute_result"
    }
   ],
   "source": [
    "l"
   ],
   "metadata": {
    "collapsed": false,
    "ExecuteTime": {
     "start_time": "2023-05-01T23:11:44.465946Z",
     "end_time": "2023-05-01T23:11:52.914951Z"
    }
   }
  },
  {
   "cell_type": "code",
   "execution_count": 304,
   "outputs": [],
   "source": [
    "l.reverse()"
   ],
   "metadata": {
    "collapsed": false,
    "ExecuteTime": {
     "start_time": "2023-05-01T23:11:44.499950Z",
     "end_time": "2023-05-01T23:11:52.914951Z"
    }
   }
  },
  {
   "cell_type": "code",
   "execution_count": 305,
   "outputs": [
    {
     "data": {
      "text/plain": "['n', 'e', 'p', ' ', 'a', ' ', 's', 'i', ' ', 's', 'i', 'h', 't']"
     },
     "execution_count": 305,
     "metadata": {},
     "output_type": "execute_result"
    }
   ],
   "source": [
    "l"
   ],
   "metadata": {
    "collapsed": false,
    "ExecuteTime": {
     "start_time": "2023-05-01T23:11:44.513945Z",
     "end_time": "2023-05-01T23:11:52.914951Z"
    }
   }
  },
  {
   "cell_type": "code",
   "execution_count": 306,
   "outputs": [
    {
     "data": {
      "text/plain": "'this is a pen'"
     },
     "execution_count": 306,
     "metadata": {},
     "output_type": "execute_result"
    }
   ],
   "source": [
    "s"
   ],
   "metadata": {
    "collapsed": false,
    "ExecuteTime": {
     "start_time": "2023-05-01T23:11:44.542950Z",
     "end_time": "2023-05-01T23:11:52.914951Z"
    }
   }
  },
  {
   "cell_type": "code",
   "execution_count": 307,
   "outputs": [
    {
     "data": {
      "text/plain": "['n', 'e', 'p', ' ', 'a', ' ', 's', 'i', ' ', 's', 'i', 'h', 't']"
     },
     "execution_count": 307,
     "metadata": {},
     "output_type": "execute_result"
    }
   ],
   "source": [
    "l"
   ],
   "metadata": {
    "collapsed": false,
    "ExecuteTime": {
     "start_time": "2023-05-01T23:11:44.575945Z",
     "end_time": "2023-05-01T23:11:52.915954Z"
    }
   }
  },
  {
   "cell_type": "code",
   "execution_count": 308,
   "outputs": [
    {
     "name": "stdout",
     "output_type": "stream",
     "text": [
      "nep a si siht\n"
     ]
    }
   ],
   "source": [
    "string = \"this is a pen\"\n",
    "words = string.split()\n",
    "reversed_words = list(reversed(words))\n",
    "reversed_chars = [word[::-1] for word in reversed_words]\n",
    "reversed_string = \" \".join(reversed_chars)\n",
    "print(reversed_string)\n"
   ],
   "metadata": {
    "collapsed": false,
    "ExecuteTime": {
     "start_time": "2023-05-01T23:11:44.617947Z",
     "end_time": "2023-05-01T23:11:52.915954Z"
    }
   }
  },
  {
   "cell_type": "code",
   "execution_count": 309,
   "outputs": [
    {
     "name": "stdout",
     "output_type": "stream",
     "text": [
      "pen a is this\n"
     ]
    }
   ],
   "source": [
    "string = \"this is a pen\"\n",
    "reversed_string = \" \".join(word[::-1] for word in string.split())\n",
    "print(reversed_string[::-1])\n"
   ],
   "metadata": {
    "collapsed": false,
    "ExecuteTime": {
     "start_time": "2023-05-01T23:11:44.653948Z",
     "end_time": "2023-05-01T23:11:52.916941Z"
    }
   }
  },
  {
   "cell_type": "code",
   "execution_count": 310,
   "outputs": [
    {
     "name": "stdout",
     "output_type": "stream",
     "text": [
      "nep a si siht\n"
     ]
    }
   ],
   "source": [
    "string = \"this is a pen\"\n",
    "reversed_string = \" \".join(word[::-1] for word in string.split()[::-1])\n",
    "print(reversed_string)\n"
   ],
   "metadata": {
    "collapsed": false,
    "ExecuteTime": {
     "start_time": "2023-05-01T23:11:44.688949Z",
     "end_time": "2023-05-01T23:11:52.916941Z"
    }
   }
  },
  {
   "cell_type": "code",
   "execution_count": 311,
   "outputs": [
    {
     "name": "stdout",
     "output_type": "stream",
     "text": [
      "siht si a nep\n"
     ]
    }
   ],
   "source": [
    "string = \"this is a pen\"\n",
    "words = string.split()\n",
    "reversed_words = [word[::-1] for word in words]\n",
    "reversed_string = \" \".join(reversed_words)\n",
    "print(reversed_string)\n"
   ],
   "metadata": {
    "collapsed": false,
    "ExecuteTime": {
     "start_time": "2023-05-01T23:14:00.836654Z",
     "end_time": "2023-05-01T23:14:01.123653Z"
    }
   }
  },
  {
   "cell_type": "code",
   "execution_count": 313,
   "outputs": [],
   "source": [
    "s = \"this is a pen\""
   ],
   "metadata": {
    "collapsed": false,
    "ExecuteTime": {
     "start_time": "2023-05-01T23:14:55.995728Z",
     "end_time": "2023-05-01T23:14:56.081726Z"
    }
   }
  },
  {
   "cell_type": "code",
   "execution_count": 314,
   "outputs": [
    {
     "data": {
      "text/plain": "'this is a pen'"
     },
     "execution_count": 314,
     "metadata": {},
     "output_type": "execute_result"
    }
   ],
   "source": [
    "s"
   ],
   "metadata": {
    "collapsed": false,
    "ExecuteTime": {
     "start_time": "2023-05-01T23:14:57.782722Z",
     "end_time": "2023-05-01T23:14:58.264719Z"
    }
   }
  },
  {
   "cell_type": "code",
   "execution_count": 315,
   "outputs": [
    {
     "data": {
      "text/plain": "['t', 'h', 'i', 's', ' ', 'i', 's', ' ', 'a', ' ', 'p', 'e', 'n']"
     },
     "execution_count": 315,
     "metadata": {},
     "output_type": "execute_result"
    }
   ],
   "source": [
    "list(s)"
   ],
   "metadata": {
    "collapsed": false,
    "ExecuteTime": {
     "start_time": "2023-05-01T23:15:04.380404Z",
     "end_time": "2023-05-01T23:15:04.879404Z"
    }
   }
  },
  {
   "cell_type": "code",
   "execution_count": 316,
   "outputs": [
    {
     "data": {
      "text/plain": "['n', 'e', 'p', ' ', 'a', ' ', 's', 'i', ' ', 's', 'i', 'h', 't']"
     },
     "execution_count": 316,
     "metadata": {},
     "output_type": "execute_result"
    }
   ],
   "source": [
    "list(s[::-1])"
   ],
   "metadata": {
    "collapsed": false,
    "ExecuteTime": {
     "start_time": "2023-05-01T23:15:21.650721Z",
     "end_time": "2023-05-01T23:15:22.143775Z"
    }
   }
  },
  {
   "cell_type": "code",
   "execution_count": 317,
   "outputs": [
    {
     "data": {
      "text/plain": "['n', 'e', 'p', ' ', 'a', ' ', 's', 'i', ' ', 's', 'i', 'h', 't']"
     },
     "execution_count": 317,
     "metadata": {},
     "output_type": "execute_result"
    }
   ],
   "source": [
    "list(s)[::-1]"
   ],
   "metadata": {
    "collapsed": false,
    "ExecuteTime": {
     "start_time": "2023-05-01T23:15:37.700707Z",
     "end_time": "2023-05-01T23:15:38.150701Z"
    }
   }
  },
  {
   "cell_type": "code",
   "execution_count": 319,
   "outputs": [
    {
     "data": {
      "text/plain": "['n', 'e', 'p', ' ', 'a', ' ', 's', 'i', ' ', 's', 'i']"
     },
     "execution_count": 319,
     "metadata": {},
     "output_type": "execute_result"
    }
   ],
   "source": [
    "list(s)[:1:-1]"
   ],
   "metadata": {
    "collapsed": false,
    "ExecuteTime": {
     "start_time": "2023-05-01T23:16:12.821504Z",
     "end_time": "2023-05-01T23:16:13.004499Z"
    }
   }
  },
  {
   "cell_type": "code",
   "execution_count": 320,
   "outputs": [
    {
     "data": {
      "text/plain": "['n', 'e', 'p', ' ', 'a', ' ', 's', 'i', ' ', 's', 'i', 'h', 't']"
     },
     "execution_count": 320,
     "metadata": {},
     "output_type": "execute_result"
    }
   ],
   "source": [
    "l"
   ],
   "metadata": {
    "collapsed": false,
    "ExecuteTime": {
     "start_time": "2023-05-01T23:16:21.861516Z",
     "end_time": "2023-05-01T23:16:22.250500Z"
    }
   }
  },
  {
   "cell_type": "code",
   "execution_count": 321,
   "outputs": [
    {
     "data": {
      "text/plain": "\"['n', 'e', 'p', ' ', 'a', ' ', 's', 'i', ' ', 's', 'i', 'h', 't']\""
     },
     "execution_count": 321,
     "metadata": {},
     "output_type": "execute_result"
    }
   ],
   "source": [
    "str(l)"
   ],
   "metadata": {
    "collapsed": false,
    "ExecuteTime": {
     "start_time": "2023-05-01T23:16:57.245510Z",
     "end_time": "2023-05-01T23:16:58.056510Z"
    }
   }
  },
  {
   "cell_type": "code",
   "execution_count": 331,
   "outputs": [
    {
     "data": {
      "text/plain": "['n', 'e', 'p', 'a', 's', 'i', ' ', 's', 'i', 'h', 't']"
     },
     "execution_count": 331,
     "metadata": {},
     "output_type": "execute_result"
    }
   ],
   "source": [
    "l"
   ],
   "metadata": {
    "collapsed": false,
    "ExecuteTime": {
     "start_time": "2023-05-01T23:18:54.735186Z",
     "end_time": "2023-05-01T23:18:54.962180Z"
    }
   }
  },
  {
   "cell_type": "code",
   "execution_count": 332,
   "outputs": [
    {
     "data": {
      "text/plain": "1"
     },
     "execution_count": 332,
     "metadata": {},
     "output_type": "execute_result"
    }
   ],
   "source": [
    "l.count(' ')"
   ],
   "metadata": {
    "collapsed": false,
    "ExecuteTime": {
     "start_time": "2023-05-01T23:19:01.822179Z",
     "end_time": "2023-05-01T23:19:02.022178Z"
    }
   }
  },
  {
   "cell_type": "code",
   "execution_count": 333,
   "outputs": [],
   "source": [
    "l1 = l.remove(' ')"
   ],
   "metadata": {
    "collapsed": false,
    "ExecuteTime": {
     "start_time": "2023-05-01T23:19:03.584188Z",
     "end_time": "2023-05-01T23:19:03.901175Z"
    }
   }
  },
  {
   "cell_type": "code",
   "execution_count": 336,
   "outputs": [
    {
     "data": {
      "text/plain": "['n', 'e', 'p', 'a', 's', 'i', 's', 'i', 'h', 't']"
     },
     "execution_count": 336,
     "metadata": {},
     "output_type": "execute_result"
    }
   ],
   "source": [
    "l"
   ],
   "metadata": {
    "collapsed": false,
    "ExecuteTime": {
     "start_time": "2023-05-01T23:19:37.483878Z",
     "end_time": "2023-05-01T23:19:37.671428Z"
    }
   }
  },
  {
   "cell_type": "code",
   "execution_count": 337,
   "outputs": [],
   "source": [
    "l.append(' ')"
   ],
   "metadata": {
    "collapsed": false,
    "ExecuteTime": {
     "start_time": "2023-05-01T23:19:52.681047Z",
     "end_time": "2023-05-01T23:19:52.918038Z"
    }
   }
  },
  {
   "cell_type": "code",
   "execution_count": 338,
   "outputs": [
    {
     "data": {
      "text/plain": "['n', 'e', 'p', 'a', 's', 'i', 's', 'i', 'h', 't', ' ']"
     },
     "execution_count": 338,
     "metadata": {},
     "output_type": "execute_result"
    }
   ],
   "source": [
    "l"
   ],
   "metadata": {
    "collapsed": false,
    "ExecuteTime": {
     "start_time": "2023-05-01T23:19:56.247818Z",
     "end_time": "2023-05-01T23:19:56.561812Z"
    }
   }
  },
  {
   "cell_type": "code",
   "execution_count": 339,
   "outputs": [
    {
     "data": {
      "text/plain": "' '"
     },
     "execution_count": 339,
     "metadata": {},
     "output_type": "execute_result"
    }
   ],
   "source": [
    "l.pop()"
   ],
   "metadata": {
    "collapsed": false,
    "ExecuteTime": {
     "start_time": "2023-05-01T23:20:04.881155Z",
     "end_time": "2023-05-01T23:20:05.454144Z"
    }
   }
  },
  {
   "cell_type": "code",
   "execution_count": 340,
   "outputs": [
    {
     "data": {
      "text/plain": "['n', 'e', 'p', 'a', 's', 'i', 's', 'i', 'h', 't']"
     },
     "execution_count": 340,
     "metadata": {},
     "output_type": "execute_result"
    }
   ],
   "source": [
    "l"
   ],
   "metadata": {
    "collapsed": false,
    "ExecuteTime": {
     "start_time": "2023-05-01T23:20:07.516149Z",
     "end_time": "2023-05-01T23:20:08.076152Z"
    }
   }
  },
  {
   "cell_type": "code",
   "execution_count": 343,
   "outputs": [],
   "source": [
    "l.insert(4,' ')"
   ],
   "metadata": {
    "collapsed": false,
    "ExecuteTime": {
     "start_time": "2023-05-01T23:21:44.693507Z",
     "end_time": "2023-05-01T23:21:44.806357Z"
    }
   }
  },
  {
   "cell_type": "code",
   "execution_count": 344,
   "outputs": [
    {
     "data": {
      "text/plain": "['n', 'e', 'p', ' ', ' ', 'a', 's', 'i', 's', 'i', 'h', 't']"
     },
     "execution_count": 344,
     "metadata": {},
     "output_type": "execute_result"
    }
   ],
   "source": [
    "l"
   ],
   "metadata": {
    "collapsed": false,
    "ExecuteTime": {
     "start_time": "2023-05-01T23:21:45.974338Z",
     "end_time": "2023-05-01T23:21:46.279335Z"
    }
   }
  },
  {
   "cell_type": "code",
   "execution_count": 345,
   "outputs": [],
   "source": [
    "s = \"this is a pen\""
   ],
   "metadata": {
    "collapsed": false,
    "ExecuteTime": {
     "start_time": "2023-05-01T23:22:39.653535Z",
     "end_time": "2023-05-01T23:22:40.122532Z"
    }
   }
  },
  {
   "cell_type": "code",
   "execution_count": 346,
   "outputs": [
    {
     "data": {
      "text/plain": "'this is a pen'"
     },
     "execution_count": 346,
     "metadata": {},
     "output_type": "execute_result"
    }
   ],
   "source": [
    "s"
   ],
   "metadata": {
    "collapsed": false,
    "ExecuteTime": {
     "start_time": "2023-05-01T23:22:42.066535Z",
     "end_time": "2023-05-01T23:22:42.380528Z"
    }
   }
  },
  {
   "cell_type": "code",
   "execution_count": 350,
   "outputs": [
    {
     "data": {
      "text/plain": "''"
     },
     "execution_count": 350,
     "metadata": {},
     "output_type": "execute_result"
    }
   ],
   "source": [
    "s.removesuffix(\"this is a pen\")"
   ],
   "metadata": {
    "collapsed": false,
    "ExecuteTime": {
     "start_time": "2023-05-01T23:23:52.592304Z",
     "end_time": "2023-05-01T23:23:52.716300Z"
    }
   }
  },
  {
   "cell_type": "code",
   "execution_count": 351,
   "outputs": [
    {
     "data": {
      "text/plain": "'this is a pen'"
     },
     "execution_count": 351,
     "metadata": {},
     "output_type": "execute_result"
    }
   ],
   "source": [
    "s"
   ],
   "metadata": {
    "collapsed": false,
    "ExecuteTime": {
     "start_time": "2023-05-01T23:23:54.683309Z",
     "end_time": "2023-05-01T23:23:54.906302Z"
    }
   }
  },
  {
   "cell_type": "code",
   "execution_count": 352,
   "outputs": [],
   "source": [
    "s = \"this is a pen\""
   ],
   "metadata": {
    "collapsed": false,
    "ExecuteTime": {
     "start_time": "2023-05-01T23:24:03.728311Z",
     "end_time": "2023-05-01T23:24:04.256301Z"
    }
   }
  },
  {
   "cell_type": "code",
   "execution_count": 357,
   "outputs": [
    {
     "data": {
      "text/plain": "False"
     },
     "execution_count": 357,
     "metadata": {},
     "output_type": "execute_result"
    }
   ],
   "source": [
    "s.endswith('t')"
   ],
   "metadata": {
    "collapsed": false,
    "ExecuteTime": {
     "start_time": "2023-05-01T23:27:27.822478Z",
     "end_time": "2023-05-01T23:27:27.988479Z"
    }
   }
  },
  {
   "cell_type": "code",
   "execution_count": 358,
   "outputs": [
    {
     "data": {
      "text/plain": "['t', 'h', 'i', 's', ' ', 'i', 's', ' ', 'a', ' ', 'p', 'e', 'n']"
     },
     "execution_count": 358,
     "metadata": {},
     "output_type": "execute_result"
    }
   ],
   "source": [
    "list(s)"
   ],
   "metadata": {
    "collapsed": false,
    "ExecuteTime": {
     "start_time": "2023-05-01T23:27:47.983998Z",
     "end_time": "2023-05-01T23:27:48.291995Z"
    }
   }
  },
  {
   "cell_type": "code",
   "execution_count": 361,
   "outputs": [],
   "source": [
    "l = list(s)[::-1]"
   ],
   "metadata": {
    "collapsed": false,
    "ExecuteTime": {
     "start_time": "2023-05-01T23:28:41.105294Z",
     "end_time": "2023-05-01T23:28:41.336794Z"
    }
   }
  },
  {
   "cell_type": "code",
   "execution_count": 362,
   "outputs": [
    {
     "data": {
      "text/plain": "['n', 'e', 'p', ' ', 'a', ' ', 's', 'i', ' ', 's', 'i', 'h', 't']"
     },
     "execution_count": 362,
     "metadata": {},
     "output_type": "execute_result"
    }
   ],
   "source": [
    "l"
   ],
   "metadata": {
    "collapsed": false,
    "ExecuteTime": {
     "start_time": "2023-05-01T23:28:43.638798Z",
     "end_time": "2023-05-01T23:28:43.832801Z"
    }
   }
  },
  {
   "cell_type": "code",
   "execution_count": 363,
   "outputs": [],
   "source": [
    "l.remove(' ')"
   ],
   "metadata": {
    "collapsed": false,
    "ExecuteTime": {
     "start_time": "2023-05-01T23:29:09.623703Z",
     "end_time": "2023-05-01T23:29:10.329114Z"
    }
   }
  },
  {
   "cell_type": "code",
   "execution_count": 367,
   "outputs": [
    {
     "data": {
      "text/plain": "['n', 'e', 'p', 'a', ' ', 's', 'i', ' ', ' ', 's', 'i', 'h', 't']"
     },
     "execution_count": 367,
     "metadata": {},
     "output_type": "execute_result"
    }
   ],
   "source": [
    "l"
   ],
   "metadata": {
    "collapsed": false,
    "ExecuteTime": {
     "start_time": "2023-05-01T23:31:22.423308Z",
     "end_time": "2023-05-01T23:31:22.635305Z"
    }
   }
  },
  {
   "cell_type": "code",
   "execution_count": 368,
   "outputs": [],
   "source": [
    "l.remove(' ')"
   ],
   "metadata": {
    "collapsed": false,
    "ExecuteTime": {
     "start_time": "2023-05-01T23:31:40.461964Z",
     "end_time": "2023-05-01T23:31:40.889953Z"
    }
   }
  },
  {
   "cell_type": "code",
   "execution_count": 369,
   "outputs": [],
   "source": [
    "l.remove(' ')"
   ],
   "metadata": {
    "collapsed": false,
    "ExecuteTime": {
     "start_time": "2023-05-01T23:31:46.643123Z",
     "end_time": "2023-05-01T23:31:47.141549Z"
    }
   }
  },
  {
   "cell_type": "code",
   "execution_count": 371,
   "outputs": [],
   "source": [
    "l.remove(' ')"
   ],
   "metadata": {
    "collapsed": false,
    "ExecuteTime": {
     "start_time": "2023-05-01T23:31:58.479895Z",
     "end_time": "2023-05-01T23:31:58.674900Z"
    }
   }
  },
  {
   "cell_type": "code",
   "execution_count": 372,
   "outputs": [
    {
     "data": {
      "text/plain": "['n', 'e', 'p', 'a', 's', 'i', 's', 'i', 'h', 't']"
     },
     "execution_count": 372,
     "metadata": {},
     "output_type": "execute_result"
    }
   ],
   "source": [
    "l"
   ],
   "metadata": {
    "collapsed": false,
    "ExecuteTime": {
     "start_time": "2023-05-01T23:32:00.324901Z",
     "end_time": "2023-05-01T23:32:01.074913Z"
    }
   }
  },
  {
   "cell_type": "code",
   "execution_count": 381,
   "outputs": [],
   "source": [
    "s = ['this', 'is', 'a', 'pen']"
   ],
   "metadata": {
    "collapsed": false,
    "ExecuteTime": {
     "start_time": "2023-05-01T23:34:09.194032Z",
     "end_time": "2023-05-01T23:34:09.293315Z"
    }
   }
  },
  {
   "cell_type": "code",
   "execution_count": 382,
   "outputs": [
    {
     "data": {
      "text/plain": "['this', 'is', 'a', 'pen']"
     },
     "execution_count": 382,
     "metadata": {},
     "output_type": "execute_result"
    }
   ],
   "source": [
    "s"
   ],
   "metadata": {
    "collapsed": false,
    "ExecuteTime": {
     "start_time": "2023-05-01T23:34:10.890742Z",
     "end_time": "2023-05-01T23:34:11.485016Z"
    }
   }
  },
  {
   "cell_type": "code",
   "execution_count": 386,
   "outputs": [
    {
     "data": {
      "text/plain": "'pen'"
     },
     "execution_count": 386,
     "metadata": {},
     "output_type": "execute_result"
    }
   ],
   "source": [
    "s[0]\n",
    "s[1]\n",
    "s[2]\n",
    "s[3]"
   ],
   "metadata": {
    "collapsed": false,
    "ExecuteTime": {
     "start_time": "2023-05-01T23:35:11.931706Z",
     "end_time": "2023-05-01T23:35:12.108705Z"
    }
   }
  },
  {
   "cell_type": "code",
   "execution_count": 388,
   "outputs": [],
   "source": [
    "s1 = s[3][::-1]"
   ],
   "metadata": {
    "collapsed": false,
    "ExecuteTime": {
     "start_time": "2023-05-01T23:36:03.658337Z",
     "end_time": "2023-05-01T23:36:03.874350Z"
    }
   }
  },
  {
   "cell_type": "code",
   "execution_count": 389,
   "outputs": [
    {
     "data": {
      "text/plain": "'nep'"
     },
     "execution_count": 389,
     "metadata": {},
     "output_type": "execute_result"
    }
   ],
   "source": [
    "s1"
   ],
   "metadata": {
    "collapsed": false,
    "ExecuteTime": {
     "start_time": "2023-05-01T23:36:07.543337Z",
     "end_time": "2023-05-01T23:36:07.943333Z"
    }
   }
  },
  {
   "cell_type": "code",
   "execution_count": 393,
   "outputs": [],
   "source": [
    "s2 = s[2]"
   ],
   "metadata": {
    "collapsed": false,
    "ExecuteTime": {
     "start_time": "2023-05-01T23:37:35.756803Z",
     "end_time": "2023-05-01T23:37:36.336797Z"
    }
   }
  },
  {
   "cell_type": "code",
   "execution_count": 394,
   "outputs": [
    {
     "data": {
      "text/plain": "'a'"
     },
     "execution_count": 394,
     "metadata": {},
     "output_type": "execute_result"
    }
   ],
   "source": [
    "s2"
   ],
   "metadata": {
    "collapsed": false,
    "ExecuteTime": {
     "start_time": "2023-05-01T23:37:39.186805Z",
     "end_time": "2023-05-01T23:37:39.543798Z"
    }
   }
  },
  {
   "cell_type": "code",
   "execution_count": 395,
   "outputs": [],
   "source": [
    "s3 = s1+s2"
   ],
   "metadata": {
    "collapsed": false,
    "ExecuteTime": {
     "start_time": "2023-05-01T23:37:55.361173Z",
     "end_time": "2023-05-01T23:37:55.747220Z"
    }
   }
  },
  {
   "cell_type": "code",
   "execution_count": 396,
   "outputs": [
    {
     "data": {
      "text/plain": "'nepa'"
     },
     "execution_count": 396,
     "metadata": {},
     "output_type": "execute_result"
    }
   ],
   "source": [
    "s3"
   ],
   "metadata": {
    "collapsed": false,
    "ExecuteTime": {
     "start_time": "2023-05-01T23:37:57.610175Z",
     "end_time": "2023-05-01T23:37:58.150168Z"
    }
   }
  },
  {
   "cell_type": "code",
   "execution_count": null,
   "outputs": [],
   "source": [],
   "metadata": {
    "collapsed": false
   }
  }
 ],
 "metadata": {
  "kernelspec": {
   "display_name": "Python 3 (ipykernel)",
   "language": "python",
   "name": "python3"
  },
  "language_info": {
   "codemirror_mode": {
    "name": "ipython",
    "version": 3
   },
   "file_extension": ".py",
   "mimetype": "text/x-python",
   "name": "python",
   "nbconvert_exporter": "python",
   "pygments_lexer": "ipython3",
   "version": "3.11.3"
  }
 },
 "nbformat": 4,
 "nbformat_minor": 5
}
