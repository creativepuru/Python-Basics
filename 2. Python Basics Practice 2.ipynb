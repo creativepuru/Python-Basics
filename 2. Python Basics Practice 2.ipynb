{
 "cells": [
  {
   "cell_type": "code",
   "execution_count": 1,
   "id": "0208e64f-eb91-4395-b2d9-63dcc65ae3e0",
   "metadata": {
    "ExecuteTime": {
     "end_time": "2023-05-02T03:55:31.401363Z",
     "start_time": "2023-05-02T03:55:27.137361Z"
    }
   },
   "outputs": [
    {
     "data": {
      "text/plain": [
       "2"
      ]
     },
     "execution_count": 1,
     "metadata": {},
     "output_type": "execute_result"
    }
   ],
   "source": [
    "1+1"
   ]
  },
  {
   "cell_type": "code",
   "execution_count": 2,
   "id": "69798d1f-05d0-4cb5-8cdb-abc331982025",
   "metadata": {
    "ExecuteTime": {
     "end_time": "2023-05-02T03:55:31.409362Z",
     "start_time": "2023-05-02T03:55:27.250362Z"
    }
   },
   "outputs": [
    {
     "data": {
      "text/plain": [
       "25"
      ]
     },
     "execution_count": 2,
     "metadata": {},
     "output_type": "execute_result"
    }
   ],
   "source": [
    "5*5"
   ]
  },
  {
   "cell_type": "code",
   "execution_count": 3,
   "id": "b670ffb4-296c-4d2d-a84c-bd00a12af616",
   "metadata": {
    "ExecuteTime": {
     "end_time": "2023-05-02T03:55:31.410364Z",
     "start_time": "2023-05-02T03:55:27.291360Z"
    }
   },
   "outputs": [],
   "source": [
    "a = 5*5"
   ]
  },
  {
   "cell_type": "code",
   "execution_count": 4,
   "id": "ba47f654-eee1-44c1-a420-2cd33126e59f",
   "metadata": {
    "ExecuteTime": {
     "end_time": "2023-05-02T03:55:31.411374Z",
     "start_time": "2023-05-02T03:55:27.312369Z"
    }
   },
   "outputs": [
    {
     "name": "stdout",
     "output_type": "stream",
     "text": [
      "25\n"
     ]
    }
   ],
   "source": [
    "print(a)"
   ]
  },
  {
   "cell_type": "code",
   "execution_count": 5,
   "id": "f4bef8d1-f090-4a2b-a1f7-e9664224b6f1",
   "metadata": {
    "ExecuteTime": {
     "end_time": "2023-05-02T03:55:31.412360Z",
     "start_time": "2023-05-02T03:55:27.330362Z"
    }
   },
   "outputs": [
    {
     "name": "stdout",
     "output_type": "stream",
     "text": [
      "25\n"
     ]
    }
   ],
   "source": [
    "+a\n",
    "print(a)"
   ]
  },
  {
   "cell_type": "code",
   "execution_count": 6,
   "id": "1e618b39-9afc-4f67-b144-ea067b487ad4",
   "metadata": {
    "ExecuteTime": {
     "end_time": "2023-05-02T03:55:31.413361Z",
     "start_time": "2023-05-02T03:55:27.354360Z"
    }
   },
   "outputs": [
    {
     "name": "stdout",
     "output_type": "stream",
     "text": [
      "35\n"
     ]
    }
   ],
   "source": [
    "b = 10\n",
    "print (a+b)"
   ]
  },
  {
   "cell_type": "code",
   "execution_count": 7,
   "id": "60f37d85-7a81-4d43-a58e-f5faa0cecc1f",
   "metadata": {
    "ExecuteTime": {
     "end_time": "2023-05-02T03:55:31.414357Z",
     "start_time": "2023-05-02T03:55:27.387361Z"
    }
   },
   "outputs": [
    {
     "data": {
      "text/plain": [
       "35"
      ]
     },
     "execution_count": 7,
     "metadata": {},
     "output_type": "execute_result"
    }
   ],
   "source": [
    "a+b"
   ]
  },
  {
   "cell_type": "code",
   "execution_count": 8,
   "id": "143c13e8-665e-4be6-a94f-080a8ae81d47",
   "metadata": {
    "ExecuteTime": {
     "end_time": "2023-05-02T03:55:31.415364Z",
     "start_time": "2023-05-02T03:55:27.420364Z"
    }
   },
   "outputs": [
    {
     "data": {
      "text/plain": [
       "int"
      ]
     },
     "execution_count": 8,
     "metadata": {},
     "output_type": "execute_result"
    }
   ],
   "source": [
    "type(a)"
   ]
  },
  {
   "cell_type": "code",
   "execution_count": 9,
   "id": "5b8fa031-01eb-4d4c-b481-00a649ab35a0",
   "metadata": {
    "ExecuteTime": {
     "end_time": "2023-05-02T03:55:31.443361Z",
     "start_time": "2023-05-02T03:55:27.446365Z"
    }
   },
   "outputs": [
    {
     "data": {
      "text/plain": [
       "int"
      ]
     },
     "execution_count": 9,
     "metadata": {},
     "output_type": "execute_result"
    }
   ],
   "source": [
    "type(a+b)"
   ]
  },
  {
   "cell_type": "code",
   "execution_count": 10,
   "id": "ea7376a3-331c-4ff4-8a27-b40351035472",
   "metadata": {
    "ExecuteTime": {
     "end_time": "2023-05-02T03:55:31.445362Z",
     "start_time": "2023-05-02T03:55:27.476361Z"
    }
   },
   "outputs": [],
   "source": [
    "c = 10.10"
   ]
  },
  {
   "cell_type": "code",
   "execution_count": 11,
   "id": "c529dfef-65a3-4edd-bbd7-f715cfb04410",
   "metadata": {
    "ExecuteTime": {
     "end_time": "2023-05-02T03:55:31.446359Z",
     "start_time": "2023-05-02T03:55:27.508364Z"
    }
   },
   "outputs": [
    {
     "data": {
      "text/plain": [
       "float"
      ]
     },
     "execution_count": 11,
     "metadata": {},
     "output_type": "execute_result"
    }
   ],
   "source": [
    "type(c)"
   ]
  },
  {
   "cell_type": "code",
   "execution_count": 12,
   "id": "b4ed14ce-1b62-4d95-8f9a-041d7f65dd91",
   "metadata": {
    "ExecuteTime": {
     "end_time": "2023-05-02T03:55:31.447361Z",
     "start_time": "2023-05-02T03:55:27.540359Z"
    }
   },
   "outputs": [
    {
     "data": {
      "text/plain": [
       "str"
      ]
     },
     "execution_count": 12,
     "metadata": {},
     "output_type": "execute_result"
    }
   ],
   "source": [
    "d = 'Anand Purushottam'\n",
    "type (d)"
   ]
  },
  {
   "cell_type": "code",
   "execution_count": 13,
   "id": "70373f05-4460-4174-93bd-6783cb200747",
   "metadata": {
    "ExecuteTime": {
     "end_time": "2023-05-02T03:55:31.459361Z",
     "start_time": "2023-05-02T03:55:27.579359Z"
    }
   },
   "outputs": [
    {
     "data": {
      "text/plain": [
       "bool"
      ]
     },
     "execution_count": 13,
     "metadata": {},
     "output_type": "execute_result"
    }
   ],
   "source": [
    "e = True\n",
    "type (e)"
   ]
  },
  {
   "cell_type": "code",
   "execution_count": 14,
   "id": "6ea6489e-538a-4acf-8b8a-97b5bc4d04c5",
   "metadata": {
    "ExecuteTime": {
     "end_time": "2023-05-02T03:55:31.461367Z",
     "start_time": "2023-05-02T03:55:27.614369Z"
    }
   },
   "outputs": [
    {
     "data": {
      "text/plain": [
       "bool"
      ]
     },
     "execution_count": 14,
     "metadata": {},
     "output_type": "execute_result"
    }
   ],
   "source": [
    "f = False\n",
    "type (f)"
   ]
  },
  {
   "cell_type": "code",
   "execution_count": 15,
   "id": "b68da823-4b49-46a0-9b80-f40c0b671bf2",
   "metadata": {
    "ExecuteTime": {
     "end_time": "2023-05-02T03:55:31.463375Z",
     "start_time": "2023-05-02T03:55:27.653360Z"
    }
   },
   "outputs": [
    {
     "data": {
      "text/plain": [
       "1"
      ]
     },
     "execution_count": 15,
     "metadata": {},
     "output_type": "execute_result"
    }
   ],
   "source": [
    "e+f"
   ]
  },
  {
   "cell_type": "code",
   "execution_count": 16,
   "id": "26d53cff-ad11-4560-817e-d1d57dc92bb3",
   "metadata": {
    "ExecuteTime": {
     "end_time": "2023-05-02T03:55:31.468360Z",
     "start_time": "2023-05-02T03:55:27.682362Z"
    }
   },
   "outputs": [
    {
     "data": {
      "text/plain": [
       "0"
      ]
     },
     "execution_count": 16,
     "metadata": {},
     "output_type": "execute_result"
    }
   ],
   "source": [
    "e*f"
   ]
  },
  {
   "cell_type": "code",
   "execution_count": 17,
   "id": "367e6d17-b274-4af6-bf3b-9e3f5e65e467",
   "metadata": {
    "ExecuteTime": {
     "end_time": "2023-05-02T03:55:31.469366Z",
     "start_time": "2023-05-02T03:55:27.725360Z"
    }
   },
   "outputs": [
    {
     "data": {
      "text/plain": [
       "-1"
      ]
     },
     "execution_count": 17,
     "metadata": {},
     "output_type": "execute_result"
    }
   ],
   "source": [
    "e-f\n",
    "f-e"
   ]
  },
  {
   "cell_type": "code",
   "execution_count": 18,
   "id": "971543b8-d63b-4654-8be4-322bb6130678",
   "metadata": {
    "ExecuteTime": {
     "end_time": "2023-05-02T03:55:31.470360Z",
     "start_time": "2023-05-02T03:55:27.766362Z"
    }
   },
   "outputs": [
    {
     "data": {
      "text/plain": [
       "1"
      ]
     },
     "execution_count": 18,
     "metadata": {},
     "output_type": "execute_result"
    }
   ],
   "source": [
    "e-f"
   ]
  },
  {
   "cell_type": "code",
   "execution_count": 19,
   "id": "256421c6-5f4e-4f80-9280-d48ba8414a1f",
   "metadata": {
    "ExecuteTime": {
     "end_time": "2023-05-02T03:55:31.471363Z",
     "start_time": "2023-05-02T03:55:27.813361Z"
    }
   },
   "outputs": [
    {
     "data": {
      "text/plain": [
       "-1"
      ]
     },
     "execution_count": 19,
     "metadata": {},
     "output_type": "execute_result"
    }
   ],
   "source": [
    "f-e"
   ]
  },
  {
   "cell_type": "code",
   "execution_count": 20,
   "id": "9d1221be-f674-4508-b7fd-0e7e7956157f",
   "metadata": {
    "ExecuteTime": {
     "end_time": "2023-05-02T03:55:31.472361Z",
     "start_time": "2023-05-02T03:55:27.851363Z"
    }
   },
   "outputs": [],
   "source": [
    "#e/f"
   ]
  },
  {
   "cell_type": "code",
   "execution_count": 21,
   "id": "31e4d93c-8128-4d1d-a9f8-708c81936546",
   "metadata": {
    "ExecuteTime": {
     "end_time": "2023-05-02T03:55:31.482364Z",
     "start_time": "2023-05-02T03:55:27.885358Z"
    }
   },
   "outputs": [
    {
     "data": {
      "text/plain": [
       "0.0"
      ]
     },
     "execution_count": 21,
     "metadata": {},
     "output_type": "execute_result"
    }
   ],
   "source": [
    "f/e"
   ]
  },
  {
   "cell_type": "code",
   "execution_count": 22,
   "id": "3ed2b68d-de0f-42de-9089-2ebd99de4fe4",
   "metadata": {
    "ExecuteTime": {
     "end_time": "2023-05-02T03:55:31.483360Z",
     "start_time": "2023-05-02T03:55:27.933361Z"
    }
   },
   "outputs": [],
   "source": [
    "#1/0"
   ]
  },
  {
   "cell_type": "code",
   "execution_count": 23,
   "id": "f3176e79-36f5-4c6b-852d-6533642c3072",
   "metadata": {
    "ExecuteTime": {
     "end_time": "2023-05-02T03:55:31.483360Z",
     "start_time": "2023-05-02T03:55:27.996364Z"
    }
   },
   "outputs": [],
   "source": [
    "v = 1 + 2j"
   ]
  },
  {
   "cell_type": "code",
   "execution_count": 24,
   "id": "64720414-a67e-48bc-8c3c-0b29c028cf7b",
   "metadata": {
    "ExecuteTime": {
     "end_time": "2023-05-02T03:55:31.484367Z",
     "start_time": "2023-05-02T03:55:28.109363Z"
    }
   },
   "outputs": [
    {
     "data": {
      "text/plain": [
       "complex"
      ]
     },
     "execution_count": 24,
     "metadata": {},
     "output_type": "execute_result"
    }
   ],
   "source": [
    "type(v)"
   ]
  },
  {
   "cell_type": "code",
   "execution_count": 25,
   "id": "675f11f9-2873-4886-adf1-50971528b750",
   "metadata": {
    "ExecuteTime": {
     "end_time": "2023-05-02T03:55:31.485360Z",
     "start_time": "2023-05-02T03:55:28.150365Z"
    }
   },
   "outputs": [
    {
     "data": {
      "text/plain": [
       "2.0"
      ]
     },
     "execution_count": 25,
     "metadata": {},
     "output_type": "execute_result"
    }
   ],
   "source": [
    "v.imag"
   ]
  },
  {
   "cell_type": "code",
   "execution_count": 26,
   "id": "c5928970-4ffa-41c3-bb1a-edd4c75551b9",
   "metadata": {
    "ExecuteTime": {
     "end_time": "2023-05-02T03:55:31.486363Z",
     "start_time": "2023-05-02T03:55:28.188360Z"
    }
   },
   "outputs": [
    {
     "data": {
      "text/plain": [
       "1.0"
      ]
     },
     "execution_count": 26,
     "metadata": {},
     "output_type": "execute_result"
    }
   ],
   "source": [
    "v.real"
   ]
  },
  {
   "cell_type": "code",
   "execution_count": 27,
   "id": "293cb55d-875c-4891-98f0-52edc81bc824",
   "metadata": {
    "ExecuteTime": {
     "end_time": "2023-05-02T03:55:31.486363Z",
     "start_time": "2023-05-02T03:55:28.224364Z"
    }
   },
   "outputs": [
    {
     "name": "stdout",
     "output_type": "stream",
     "text": [
      "25\n"
     ]
    }
   ],
   "source": [
    "print(a)"
   ]
  },
  {
   "cell_type": "code",
   "execution_count": 28,
   "id": "76ce2047-ea9b-4823-a991-692cc9120d59",
   "metadata": {
    "ExecuteTime": {
     "end_time": "2023-05-02T03:55:31.489356Z",
     "start_time": "2023-05-02T03:55:28.257363Z"
    }
   },
   "outputs": [
    {
     "name": "stdout",
     "output_type": "stream",
     "text": [
      "10\n"
     ]
    }
   ],
   "source": [
    "print(b)"
   ]
  },
  {
   "cell_type": "code",
   "execution_count": 29,
   "id": "d3992c10-e10b-4830-bf13-94a64efb5dc8",
   "metadata": {
    "ExecuteTime": {
     "end_time": "2023-05-02T03:55:31.490360Z",
     "start_time": "2023-05-02T03:55:28.298361Z"
    }
   },
   "outputs": [
    {
     "name": "stdout",
     "output_type": "stream",
     "text": [
      "10.1\n"
     ]
    }
   ],
   "source": [
    "print(c)"
   ]
  },
  {
   "cell_type": "code",
   "execution_count": 30,
   "id": "da81c872-0cb7-427e-b383-a0d919ae2a65",
   "metadata": {
    "ExecuteTime": {
     "end_time": "2023-05-02T03:55:31.491364Z",
     "start_time": "2023-05-02T03:55:28.368364Z"
    },
    "tags": []
   },
   "outputs": [],
   "source": [
    "s = \"pwskills\"\n",
    "#    01234567\n",
    "#   -8-7-6-5-4-3-2-1"
   ]
  },
  {
   "cell_type": "code",
   "execution_count": 31,
   "id": "6d97986e-ef68-42d0-ba04-c39a257f1830",
   "metadata": {
    "ExecuteTime": {
     "end_time": "2023-05-02T03:55:31.491364Z",
     "start_time": "2023-05-02T03:55:28.421372Z"
    }
   },
   "outputs": [
    {
     "data": {
      "text/plain": [
       "str"
      ]
     },
     "execution_count": 31,
     "metadata": {},
     "output_type": "execute_result"
    }
   ],
   "source": [
    "type(s)"
   ]
  },
  {
   "cell_type": "code",
   "execution_count": 32,
   "id": "88608df3-420d-4dd1-b5fa-ee32754f6c35",
   "metadata": {
    "ExecuteTime": {
     "end_time": "2023-05-02T03:55:31.493361Z",
     "start_time": "2023-05-02T03:55:28.451361Z"
    }
   },
   "outputs": [
    {
     "data": {
      "text/plain": [
       "'p'"
      ]
     },
     "execution_count": 32,
     "metadata": {},
     "output_type": "execute_result"
    }
   ],
   "source": [
    "s[0]"
   ]
  },
  {
   "cell_type": "code",
   "execution_count": 33,
   "id": "1b426687-5238-4330-86ab-a7780eff6013",
   "metadata": {
    "ExecuteTime": {
     "end_time": "2023-05-02T03:55:31.494364Z",
     "start_time": "2023-05-02T03:55:28.485368Z"
    }
   },
   "outputs": [
    {
     "data": {
      "text/plain": [
       "'s'"
      ]
     },
     "execution_count": 33,
     "metadata": {},
     "output_type": "execute_result"
    }
   ],
   "source": [
    "s[2]"
   ]
  },
  {
   "cell_type": "code",
   "execution_count": 34,
   "id": "1e5e02f3-2008-4c38-9cec-5bedec2040f9",
   "metadata": {
    "ExecuteTime": {
     "end_time": "2023-05-02T03:55:31.494364Z",
     "start_time": "2023-05-02T03:55:28.515367Z"
    }
   },
   "outputs": [
    {
     "data": {
      "text/plain": [
       "'s'"
      ]
     },
     "execution_count": 34,
     "metadata": {},
     "output_type": "execute_result"
    }
   ],
   "source": [
    "s[-1]"
   ]
  },
  {
   "cell_type": "code",
   "execution_count": 35,
   "id": "026fa91d-242e-45a1-b701-a9bb9748f992",
   "metadata": {
    "ExecuteTime": {
     "end_time": "2023-05-02T03:55:31.497359Z",
     "start_time": "2023-05-02T03:55:28.558364Z"
    }
   },
   "outputs": [
    {
     "data": {
      "text/plain": [
       "'l'"
      ]
     },
     "execution_count": 35,
     "metadata": {},
     "output_type": "execute_result"
    }
   ],
   "source": [
    "s[-3]"
   ]
  },
  {
   "cell_type": "code",
   "execution_count": 36,
   "id": "0d471281-297f-4b21-87e8-4c7c415e921b",
   "metadata": {
    "ExecuteTime": {
     "end_time": "2023-05-02T03:55:31.498362Z",
     "start_time": "2023-05-02T03:55:28.591365Z"
    }
   },
   "outputs": [
    {
     "data": {
      "text/plain": [
       "'i'"
      ]
     },
     "execution_count": 36,
     "metadata": {},
     "output_type": "execute_result"
    }
   ],
   "source": [
    "s[-4]"
   ]
  },
  {
   "cell_type": "code",
   "execution_count": 37,
   "id": "b822820d-2ce5-4e5d-9e58-8370d7bc2003",
   "metadata": {
    "ExecuteTime": {
     "end_time": "2023-05-02T03:55:31.498362Z",
     "start_time": "2023-05-02T03:55:28.625360Z"
    }
   },
   "outputs": [
    {
     "data": {
      "text/plain": [
       "'pws'"
      ]
     },
     "execution_count": 37,
     "metadata": {},
     "output_type": "execute_result"
    }
   ],
   "source": [
    "s[0:3]"
   ]
  },
  {
   "cell_type": "code",
   "execution_count": 38,
   "id": "ce6c502a-1c4f-43fc-ac26-d3a7731d137d",
   "metadata": {
    "ExecuteTime": {
     "end_time": "2023-05-02T03:55:31.499362Z",
     "start_time": "2023-05-02T03:55:28.656363Z"
    }
   },
   "outputs": [
    {
     "name": "stdout",
     "output_type": "stream",
     "text": [
      "pwskills\n"
     ]
    }
   ],
   "source": [
    "print(s)"
   ]
  },
  {
   "cell_type": "code",
   "execution_count": 39,
   "id": "768e7921-76ea-4d20-8859-ed453d44cf55",
   "metadata": {
    "ExecuteTime": {
     "end_time": "2023-05-02T03:55:31.499362Z",
     "start_time": "2023-05-02T03:55:28.687362Z"
    }
   },
   "outputs": [
    {
     "data": {
      "text/plain": [
       "'pwsk'"
      ]
     },
     "execution_count": 39,
     "metadata": {},
     "output_type": "execute_result"
    }
   ],
   "source": [
    "s[0:4]"
   ]
  },
  {
   "cell_type": "code",
   "execution_count": 40,
   "id": "13253f92-3e06-4cf1-9917-adf75286e15c",
   "metadata": {
    "ExecuteTime": {
     "end_time": "2023-05-02T03:55:31.500360Z",
     "start_time": "2023-05-02T03:55:28.721362Z"
    }
   },
   "outputs": [
    {
     "data": {
      "text/plain": [
       "'pw'"
      ]
     },
     "execution_count": 40,
     "metadata": {},
     "output_type": "execute_result"
    }
   ],
   "source": [
    "s[0:2]"
   ]
  },
  {
   "cell_type": "code",
   "execution_count": 41,
   "id": "06ae2599-5567-4ea3-be15-b87cdab048e1",
   "metadata": {
    "ExecuteTime": {
     "end_time": "2023-05-02T03:55:31.500360Z",
     "start_time": "2023-05-02T03:55:28.773364Z"
    }
   },
   "outputs": [
    {
     "data": {
      "text/plain": [
       "'psil'"
      ]
     },
     "execution_count": 41,
     "metadata": {},
     "output_type": "execute_result"
    }
   ],
   "source": [
    "s[0:8:2]"
   ]
  },
  {
   "cell_type": "code",
   "execution_count": 42,
   "id": "33d09496-fb08-4068-a2a2-646be1e32448",
   "metadata": {
    "ExecuteTime": {
     "end_time": "2023-05-02T03:55:31.501362Z",
     "start_time": "2023-05-02T03:55:28.813366Z"
    }
   },
   "outputs": [
    {
     "data": {
      "text/plain": [
       "'pwskills'"
      ]
     },
     "execution_count": 42,
     "metadata": {},
     "output_type": "execute_result"
    }
   ],
   "source": [
    "s[0:8:1]"
   ]
  },
  {
   "cell_type": "code",
   "execution_count": 43,
   "id": "a51772c1-01f3-4701-adef-88f0df8b20a5",
   "metadata": {
    "ExecuteTime": {
     "end_time": "2023-05-02T03:55:31.501362Z",
     "start_time": "2023-05-02T03:55:28.840361Z"
    }
   },
   "outputs": [
    {
     "data": {
      "text/plain": [
       "'psil'"
      ]
     },
     "execution_count": 43,
     "metadata": {},
     "output_type": "execute_result"
    }
   ],
   "source": [
    "s[::2]"
   ]
  },
  {
   "cell_type": "code",
   "execution_count": 44,
   "id": "bed87344-deb6-4e5c-b1a4-2233bfa337ec",
   "metadata": {
    "ExecuteTime": {
     "end_time": "2023-05-02T03:55:31.502366Z",
     "start_time": "2023-05-02T03:55:28.871366Z"
    }
   },
   "outputs": [
    {
     "data": {
      "text/plain": [
       "''"
      ]
     },
     "execution_count": 44,
     "metadata": {},
     "output_type": "execute_result"
    }
   ],
   "source": [
    "s[2:2]"
   ]
  },
  {
   "cell_type": "code",
   "execution_count": 45,
   "id": "3b8f234c-ca1a-477d-98d3-8153db5bc34e",
   "metadata": {
    "ExecuteTime": {
     "end_time": "2023-05-02T03:55:31.503360Z",
     "start_time": "2023-05-02T03:55:28.904370Z"
    }
   },
   "outputs": [
    {
     "data": {
      "text/plain": [
       "'sil'"
      ]
     },
     "execution_count": 45,
     "metadata": {},
     "output_type": "execute_result"
    }
   ],
   "source": [
    "s[2::2]"
   ]
  },
  {
   "cell_type": "code",
   "execution_count": 46,
   "id": "36df4b9f-f3fe-40c4-8e15-60da6dc4f559",
   "metadata": {
    "ExecuteTime": {
     "end_time": "2023-05-02T03:55:31.505359Z",
     "start_time": "2023-05-02T03:55:28.936365Z"
    }
   },
   "outputs": [
    {
     "data": {
      "text/plain": [
       "'sl'"
      ]
     },
     "execution_count": 46,
     "metadata": {},
     "output_type": "execute_result"
    }
   ],
   "source": [
    "s[2::3]"
   ]
  },
  {
   "cell_type": "code",
   "execution_count": 47,
   "id": "d858d97a-84df-4927-929c-09c5be13182f",
   "metadata": {
    "ExecuteTime": {
     "end_time": "2023-05-02T03:55:31.506372Z",
     "start_time": "2023-05-02T03:55:28.972364Z"
    }
   },
   "outputs": [
    {
     "data": {
      "text/plain": [
       "'sllikswp'"
      ]
     },
     "execution_count": 47,
     "metadata": {},
     "output_type": "execute_result"
    }
   ],
   "source": [
    "s[::-1]"
   ]
  },
  {
   "cell_type": "code",
   "execution_count": 48,
   "id": "6794f5c3-c2a5-419f-bcf9-761f21dc464e",
   "metadata": {
    "ExecuteTime": {
     "end_time": "2023-05-02T03:55:31.507365Z",
     "start_time": "2023-05-02T03:55:29.019359Z"
    }
   },
   "outputs": [
    {
     "data": {
      "text/plain": [
       "''"
      ]
     },
     "execution_count": 48,
     "metadata": {},
     "output_type": "execute_result"
    }
   ],
   "source": [
    "s[2:7:-1]"
   ]
  },
  {
   "cell_type": "code",
   "execution_count": 49,
   "id": "a7f0bd13-cf4f-4491-8e34-1ad7adc9ad80",
   "metadata": {
    "ExecuteTime": {
     "end_time": "2023-05-02T03:55:31.508362Z",
     "start_time": "2023-05-02T03:55:29.073362Z"
    }
   },
   "outputs": [
    {
     "data": {
      "text/plain": [
       "''"
      ]
     },
     "execution_count": 49,
     "metadata": {},
     "output_type": "execute_result"
    }
   ],
   "source": [
    "s[8:0]"
   ]
  },
  {
   "cell_type": "code",
   "execution_count": 50,
   "id": "2d37d9af-f8d6-4eec-b1f1-2c073aec77ae",
   "metadata": {
    "ExecuteTime": {
     "end_time": "2023-05-02T03:55:31.508362Z",
     "start_time": "2023-05-02T03:55:29.132362Z"
    }
   },
   "outputs": [
    {
     "data": {
      "text/plain": [
       "'slliksw'"
      ]
     },
     "execution_count": 50,
     "metadata": {},
     "output_type": "execute_result"
    }
   ],
   "source": [
    "s[8:0:-1]"
   ]
  },
  {
   "cell_type": "code",
   "execution_count": 51,
   "id": "4591df0a-bb7a-49f5-8c78-5d22c23b746b",
   "metadata": {
    "ExecuteTime": {
     "end_time": "2023-05-02T03:55:31.509371Z",
     "start_time": "2023-05-02T03:55:29.164361Z"
    }
   },
   "outputs": [
    {
     "data": {
      "text/plain": [
       "'slliksw'"
      ]
     },
     "execution_count": 51,
     "metadata": {},
     "output_type": "execute_result"
    }
   ],
   "source": [
    "s[9:0:-1]"
   ]
  },
  {
   "cell_type": "code",
   "execution_count": 52,
   "id": "4e7aa37f-8c5d-49f4-8204-ea11ad2373e5",
   "metadata": {
    "ExecuteTime": {
     "end_time": "2023-05-02T03:55:31.509371Z",
     "start_time": "2023-05-02T03:55:29.190364Z"
    }
   },
   "outputs": [
    {
     "data": {
      "text/plain": [
       "''"
      ]
     },
     "execution_count": 52,
     "metadata": {},
     "output_type": "execute_result"
    }
   ],
   "source": [
    "s[8:-1:-1]"
   ]
  },
  {
   "cell_type": "code",
   "execution_count": 53,
   "id": "a08b22ea-176c-4b30-ae6a-0acc11e40c54",
   "metadata": {
    "ExecuteTime": {
     "end_time": "2023-05-02T03:55:31.510365Z",
     "start_time": "2023-05-02T03:55:29.223365Z"
    }
   },
   "outputs": [
    {
     "data": {
      "text/plain": [
       "'sllikswp'"
      ]
     },
     "execution_count": 53,
     "metadata": {},
     "output_type": "execute_result"
    }
   ],
   "source": [
    "s[8::-1]"
   ]
  },
  {
   "cell_type": "code",
   "execution_count": 54,
   "id": "7454fb9c-035d-4ffb-ac6b-3cb3b9671755",
   "metadata": {
    "ExecuteTime": {
     "end_time": "2023-05-02T03:55:31.511384Z",
     "start_time": "2023-05-02T03:55:29.255362Z"
    }
   },
   "outputs": [
    {
     "data": {
      "text/plain": [
       "''"
      ]
     },
     "execution_count": 54,
     "metadata": {},
     "output_type": "execute_result"
    }
   ],
   "source": [
    "s[-2:-8:1]"
   ]
  },
  {
   "cell_type": "code",
   "execution_count": 55,
   "id": "96c9c5ee-7bee-4414-a310-70f982ea1e11",
   "metadata": {
    "ExecuteTime": {
     "end_time": "2023-05-02T03:55:31.515364Z",
     "start_time": "2023-05-02T03:55:29.282362Z"
    }
   },
   "outputs": [
    {
     "data": {
      "text/plain": [
       "'lliksw'"
      ]
     },
     "execution_count": 55,
     "metadata": {},
     "output_type": "execute_result"
    }
   ],
   "source": [
    "s[-2:-8:-1]"
   ]
  },
  {
   "cell_type": "code",
   "execution_count": 56,
   "id": "719fa843-a0b1-4e43-9548-e8de781f8fa2",
   "metadata": {
    "ExecuteTime": {
     "end_time": "2023-05-02T03:55:31.515364Z",
     "start_time": "2023-05-02T03:55:29.309366Z"
    }
   },
   "outputs": [
    {
     "data": {
      "text/plain": [
       "'sllikswp'"
      ]
     },
     "execution_count": 56,
     "metadata": {},
     "output_type": "execute_result"
    }
   ],
   "source": [
    "s[::-1]"
   ]
  },
  {
   "cell_type": "code",
   "execution_count": 57,
   "id": "ec11543e-0939-4ac2-a905-7f6b10a52d3a",
   "metadata": {
    "ExecuteTime": {
     "end_time": "2023-05-02T03:55:31.516361Z",
     "start_time": "2023-05-02T03:55:29.343364Z"
    }
   },
   "outputs": [
    {
     "data": {
      "text/plain": [
       "'pwskills'"
      ]
     },
     "execution_count": 57,
     "metadata": {},
     "output_type": "execute_result"
    }
   ],
   "source": [
    "s[::]"
   ]
  },
  {
   "cell_type": "code",
   "execution_count": 58,
   "id": "5525f457-0005-4c79-a4f7-ad21ed2645cf",
   "metadata": {
    "ExecuteTime": {
     "end_time": "2023-05-02T03:55:31.516361Z",
     "start_time": "2023-05-02T03:55:29.372363Z"
    }
   },
   "outputs": [
    {
     "data": {
      "text/plain": [
       "''"
      ]
     },
     "execution_count": 58,
     "metadata": {},
     "output_type": "execute_result"
    }
   ],
   "source": [
    "s[:-90:]"
   ]
  },
  {
   "cell_type": "code",
   "execution_count": 59,
   "id": "4b3ebdb0-e6de-4c18-8b65-306ffdc7596b",
   "metadata": {
    "ExecuteTime": {
     "end_time": "2023-05-02T03:55:31.517364Z",
     "start_time": "2023-05-02T03:55:29.413364Z"
    }
   },
   "outputs": [],
   "source": [
    "#s[90]"
   ]
  },
  {
   "cell_type": "code",
   "execution_count": 60,
   "id": "7936a931-d267-4d58-9b0a-725f62db0518",
   "metadata": {
    "ExecuteTime": {
     "end_time": "2023-05-02T03:55:31.517364Z",
     "start_time": "2023-05-02T03:55:29.436367Z"
    }
   },
   "outputs": [
    {
     "data": {
      "text/plain": [
       "'sllikswp'"
      ]
     },
     "execution_count": 60,
     "metadata": {},
     "output_type": "execute_result"
    }
   ],
   "source": [
    "s[:-90:-1]"
   ]
  },
  {
   "cell_type": "code",
   "execution_count": 61,
   "id": "59cbd068-644b-459e-af67-8b345bd8d1ea",
   "metadata": {
    "ExecuteTime": {
     "end_time": "2023-05-02T03:55:31.517364Z",
     "start_time": "2023-05-02T03:55:29.476360Z"
    }
   },
   "outputs": [],
   "source": [
    "c = 200023"
   ]
  },
  {
   "cell_type": "code",
   "execution_count": 62,
   "id": "d5d5bccb-21b0-41dd-b513-3b9bb4aa7331",
   "metadata": {
    "ExecuteTime": {
     "end_time": "2023-05-02T03:55:31.518362Z",
     "start_time": "2023-05-02T03:55:29.506366Z"
    }
   },
   "outputs": [],
   "source": [
    "d = str(c)"
   ]
  },
  {
   "cell_type": "code",
   "execution_count": 63,
   "id": "89e89711-b123-411a-bc03-fb7f3703db6d",
   "metadata": {
    "ExecuteTime": {
     "end_time": "2023-05-02T03:55:31.518362Z",
     "start_time": "2023-05-02T03:55:29.564361Z"
    }
   },
   "outputs": [],
   "source": [
    "#c[::]"
   ]
  },
  {
   "cell_type": "code",
   "execution_count": 64,
   "id": "c33ba92a-1e79-4060-8789-34f90992db9b",
   "metadata": {
    "ExecuteTime": {
     "end_time": "2023-05-02T03:55:31.518362Z",
     "start_time": "2023-05-02T03:55:29.600362Z"
    }
   },
   "outputs": [
    {
     "data": {
      "text/plain": [
       "'200023'"
      ]
     },
     "execution_count": 64,
     "metadata": {},
     "output_type": "execute_result"
    }
   ],
   "source": [
    "d[::]"
   ]
  },
  {
   "cell_type": "code",
   "execution_count": 65,
   "id": "c2e496fc-b620-4f67-b0d4-276c75bf7ab1",
   "metadata": {
    "ExecuteTime": {
     "end_time": "2023-05-02T03:55:31.519357Z",
     "start_time": "2023-05-02T03:55:29.640363Z"
    }
   },
   "outputs": [
    {
     "data": {
      "text/plain": [
       "'2'"
      ]
     },
     "execution_count": 65,
     "metadata": {},
     "output_type": "execute_result"
    }
   ],
   "source": [
    "d[0::-1]"
   ]
  },
  {
   "cell_type": "code",
   "execution_count": 66,
   "id": "87aa3fad-7b8b-4ed9-80a8-beb1656a7d7f",
   "metadata": {
    "ExecuteTime": {
     "end_time": "2023-05-02T03:55:31.520360Z",
     "start_time": "2023-05-02T03:55:29.682363Z"
    }
   },
   "outputs": [
    {
     "data": {
      "text/plain": [
       "'320002'"
      ]
     },
     "execution_count": 66,
     "metadata": {},
     "output_type": "execute_result"
    }
   ],
   "source": [
    "d[::-1]"
   ]
  },
  {
   "cell_type": "code",
   "execution_count": 67,
   "id": "a194e87f-7e7d-4b7d-a986-cc431382b2ae",
   "metadata": {
    "ExecuteTime": {
     "end_time": "2023-05-02T03:55:31.524358Z",
     "start_time": "2023-05-02T03:55:29.721359Z"
    }
   },
   "outputs": [],
   "source": [
    "s1 = \"this is my string class\""
   ]
  },
  {
   "cell_type": "code",
   "execution_count": 68,
   "id": "ceceef5f-300b-4926-9b7e-7e1c60de6778",
   "metadata": {
    "ExecuteTime": {
     "end_time": "2023-05-02T03:55:31.525363Z",
     "start_time": "2023-05-02T03:55:29.756364Z"
    }
   },
   "outputs": [
    {
     "data": {
      "text/plain": [
       "23"
      ]
     },
     "execution_count": 68,
     "metadata": {},
     "output_type": "execute_result"
    }
   ],
   "source": [
    "len(s1)"
   ]
  },
  {
   "cell_type": "code",
   "execution_count": 69,
   "id": "dad74438-790f-4f65-9cba-41d3f40400d0",
   "metadata": {
    "ExecuteTime": {
     "end_time": "2023-05-02T03:55:31.526365Z",
     "start_time": "2023-05-02T03:55:29.789363Z"
    }
   },
   "outputs": [
    {
     "data": {
      "text/plain": [
       "-1"
      ]
     },
     "execution_count": 69,
     "metadata": {},
     "output_type": "execute_result"
    }
   ],
   "source": [
    "s1.find(s)"
   ]
  },
  {
   "cell_type": "code",
   "execution_count": 70,
   "id": "b653d77f-94bd-46b4-9ec7-3ce5fbbf5a2d",
   "metadata": {
    "ExecuteTime": {
     "end_time": "2023-05-02T03:55:31.527375Z",
     "start_time": "2023-05-02T03:55:29.818362Z"
    }
   },
   "outputs": [
    {
     "data": {
      "text/plain": [
       "3"
      ]
     },
     "execution_count": 70,
     "metadata": {},
     "output_type": "execute_result"
    }
   ],
   "source": [
    "s1.find('s')"
   ]
  },
  {
   "cell_type": "code",
   "execution_count": 71,
   "id": "3a06e2f5-1045-4386-a408-102efa2018e7",
   "metadata": {
    "ExecuteTime": {
     "end_time": "2023-05-02T03:55:31.528363Z",
     "start_time": "2023-05-02T03:55:29.851361Z"
    }
   },
   "outputs": [
    {
     "data": {
      "text/plain": [
       "2"
      ]
     },
     "execution_count": 71,
     "metadata": {},
     "output_type": "execute_result"
    }
   ],
   "source": [
    "s1.find('is')"
   ]
  },
  {
   "cell_type": "code",
   "execution_count": 72,
   "id": "81346d82-acf2-49ef-a58c-af210db4782d",
   "metadata": {
    "ExecuteTime": {
     "end_time": "2023-05-02T03:55:31.529361Z",
     "start_time": "2023-05-02T03:55:29.876363Z"
    }
   },
   "outputs": [
    {
     "data": {
      "text/plain": [
       "-1"
      ]
     },
     "execution_count": 72,
     "metadata": {},
     "output_type": "execute_result"
    }
   ],
   "source": [
    "s1.find('iS')"
   ]
  },
  {
   "cell_type": "code",
   "execution_count": 73,
   "id": "84fd6339-3759-4a5c-9d46-4d435c10f1c3",
   "metadata": {
    "ExecuteTime": {
     "end_time": "2023-05-02T03:55:31.530361Z",
     "start_time": "2023-05-02T03:55:29.913369Z"
    }
   },
   "outputs": [
    {
     "data": {
      "text/plain": [
       "'This is my string class'"
      ]
     },
     "execution_count": 73,
     "metadata": {},
     "output_type": "execute_result"
    }
   ],
   "source": [
    "s1.capitalize()"
   ]
  },
  {
   "cell_type": "code",
   "execution_count": 74,
   "id": "678cd1eb-1b0a-4cb0-be17-899c3e48f2ca",
   "metadata": {
    "ExecuteTime": {
     "end_time": "2023-05-02T03:55:31.532364Z",
     "start_time": "2023-05-02T03:55:29.940364Z"
    }
   },
   "outputs": [
    {
     "data": {
      "text/plain": [
       "5"
      ]
     },
     "execution_count": 74,
     "metadata": {},
     "output_type": "execute_result"
    }
   ],
   "source": [
    "s1.count('s')"
   ]
  },
  {
   "cell_type": "code",
   "execution_count": 75,
   "id": "52470967-422d-48f2-b065-198700bd1d1e",
   "metadata": {
    "ExecuteTime": {
     "end_time": "2023-05-02T03:55:31.532364Z",
     "start_time": "2023-05-02T03:55:29.981360Z"
    }
   },
   "outputs": [
    {
     "data": {
      "text/plain": [
       "2"
      ]
     },
     "execution_count": 75,
     "metadata": {},
     "output_type": "execute_result"
    }
   ],
   "source": [
    "s1.index('is')"
   ]
  },
  {
   "cell_type": "code",
   "execution_count": 76,
   "id": "e863d76e-45d7-4da5-8480-137cdcfd30a2",
   "metadata": {
    "ExecuteTime": {
     "end_time": "2023-05-02T03:55:31.533362Z",
     "start_time": "2023-05-02T03:55:30.007365Z"
    }
   },
   "outputs": [
    {
     "data": {
      "text/plain": [
       "'This is my string class'"
      ]
     },
     "execution_count": 76,
     "metadata": {},
     "output_type": "execute_result"
    }
   ],
   "source": [
    "s1.capitalize()"
   ]
  },
  {
   "cell_type": "code",
   "execution_count": 77,
   "id": "69e5f54e-8ecb-4b71-aa08-9f3cebba188c",
   "metadata": {
    "ExecuteTime": {
     "end_time": "2023-05-02T03:55:31.533362Z",
     "start_time": "2023-05-02T03:55:30.069373Z"
    }
   },
   "outputs": [
    {
     "data": {
      "text/plain": [
       "False"
      ]
     },
     "execution_count": 77,
     "metadata": {},
     "output_type": "execute_result"
    }
   ],
   "source": [
    "s1.isupper()"
   ]
  },
  {
   "cell_type": "code",
   "execution_count": 78,
   "id": "2b301b7f-c690-4030-93a3-caa5da4e26e2",
   "metadata": {
    "ExecuteTime": {
     "end_time": "2023-05-02T03:55:31.534359Z",
     "start_time": "2023-05-02T03:55:30.134362Z"
    }
   },
   "outputs": [
    {
     "name": "stdout",
     "output_type": "stream",
     "text": [
      "THIS IS MY STRING CLASS\n"
     ]
    }
   ],
   "source": [
    "s2 = s1.upper()\n",
    "print(s2)"
   ]
  },
  {
   "cell_type": "code",
   "execution_count": 79,
   "id": "bb8ca7dd-d291-40d0-9154-d911a90714a1",
   "metadata": {
    "ExecuteTime": {
     "end_time": "2023-05-02T03:55:31.535363Z",
     "start_time": "2023-05-02T03:55:30.162358Z"
    }
   },
   "outputs": [
    {
     "data": {
      "text/plain": [
       "True"
      ]
     },
     "execution_count": 79,
     "metadata": {},
     "output_type": "execute_result"
    }
   ],
   "source": [
    "s2.isupper()"
   ]
  },
  {
   "cell_type": "code",
   "execution_count": 80,
   "id": "c79e3aca-86b5-4ee7-98fc-10bc48e05616",
   "metadata": {
    "ExecuteTime": {
     "end_time": "2023-05-02T03:55:31.535363Z",
     "start_time": "2023-05-02T03:55:30.192360Z"
    }
   },
   "outputs": [
    {
     "data": {
      "text/plain": [
       "'This Is My String Class'"
      ]
     },
     "execution_count": 80,
     "metadata": {},
     "output_type": "execute_result"
    }
   ],
   "source": [
    "s1.title()"
   ]
  },
  {
   "cell_type": "code",
   "execution_count": 81,
   "id": "6f00cb3a-72a8-4603-ad51-cf2199925c9c",
   "metadata": {
    "ExecuteTime": {
     "end_time": "2023-05-02T03:55:31.536360Z",
     "start_time": "2023-05-02T03:55:30.230362Z"
    }
   },
   "outputs": [
    {
     "data": {
      "text/plain": [
       "'pwskills'"
      ]
     },
     "execution_count": 81,
     "metadata": {},
     "output_type": "execute_result"
    }
   ],
   "source": [
    "s"
   ]
  },
  {
   "cell_type": "code",
   "execution_count": 82,
   "id": "dd629f1e-b206-44c4-92be-31cc3cfee79d",
   "metadata": {
    "ExecuteTime": {
     "end_time": "2023-05-02T03:55:31.536360Z",
     "start_time": "2023-05-02T03:55:30.293360Z"
    }
   },
   "outputs": [],
   "source": [
    "#s + 1"
   ]
  },
  {
   "cell_type": "code",
   "execution_count": 83,
   "id": "43edd03b-6c3a-4aca-a052-4c17e40448cf",
   "metadata": {
    "ExecuteTime": {
     "end_time": "2023-05-02T03:55:31.541361Z",
     "start_time": "2023-05-02T03:55:30.326367Z"
    }
   },
   "outputs": [
    {
     "data": {
      "text/plain": [
       "'pwskills puru'"
      ]
     },
     "execution_count": 83,
     "metadata": {},
     "output_type": "execute_result"
    }
   ],
   "source": [
    "s + \" puru\""
   ]
  },
  {
   "cell_type": "code",
   "execution_count": 84,
   "id": "5bcfb979-2790-49be-a751-61297f0887b4",
   "metadata": {
    "ExecuteTime": {
     "end_time": "2023-05-02T03:55:31.541361Z",
     "start_time": "2023-05-02T03:55:30.368364Z"
    }
   },
   "outputs": [
    {
     "data": {
      "text/plain": [
       "'pwskills 1'"
      ]
     },
     "execution_count": 84,
     "metadata": {},
     "output_type": "execute_result"
    }
   ],
   "source": [
    "s + ' 1'"
   ]
  },
  {
   "cell_type": "code",
   "execution_count": 85,
   "id": "7f23623b-4d16-402a-93af-e785ebf4e1ef",
   "metadata": {
    "ExecuteTime": {
     "end_time": "2023-05-02T03:55:31.542363Z",
     "start_time": "2023-05-02T03:55:30.405364Z"
    }
   },
   "outputs": [
    {
     "data": {
      "text/plain": [
       "'pwskills 1'"
      ]
     },
     "execution_count": 85,
     "metadata": {},
     "output_type": "execute_result"
    }
   ],
   "source": [
    "s + ' ' + str(1)"
   ]
  },
  {
   "cell_type": "code",
   "execution_count": 86,
   "id": "1381bedd-a5cc-430f-a623-a9fe4163b199",
   "metadata": {
    "ExecuteTime": {
     "end_time": "2023-05-02T03:55:31.543364Z",
     "start_time": "2023-05-02T03:55:30.437364Z"
    }
   },
   "outputs": [
    {
     "data": {
      "text/plain": [
       "'pwskillspwskillspwskills'"
      ]
     },
     "execution_count": 86,
     "metadata": {},
     "output_type": "execute_result"
    }
   ],
   "source": [
    "s * 3"
   ]
  },
  {
   "cell_type": "code",
   "execution_count": 87,
   "id": "c4f99dfd-7a84-4930-8428-9033620c1bb6",
   "metadata": {
    "ExecuteTime": {
     "end_time": "2023-05-02T03:55:31.544364Z",
     "start_time": "2023-05-02T03:55:30.472363Z"
    }
   },
   "outputs": [
    {
     "data": {
      "text/plain": [
       "'purupurupurupurupuru'"
      ]
     },
     "execution_count": 87,
     "metadata": {},
     "output_type": "execute_result"
    }
   ],
   "source": [
    "'puru' * 5"
   ]
  },
  {
   "cell_type": "code",
   "execution_count": 88,
   "id": "6de54b6c-aaba-47aa-9b85-cf74c1591cca",
   "metadata": {
    "ExecuteTime": {
     "end_time": "2023-05-02T03:55:31.544364Z",
     "start_time": "2023-05-02T03:55:30.496365Z"
    }
   },
   "outputs": [],
   "source": [
    "#puru/4"
   ]
  },
  {
   "cell_type": "code",
   "execution_count": 89,
   "id": "a179f7a0-2f4b-467f-b745-f1263a64f9f2",
   "metadata": {
    "ExecuteTime": {
     "end_time": "2023-05-02T03:55:31.544364Z",
     "start_time": "2023-05-02T03:55:30.525363Z"
    }
   },
   "outputs": [],
   "source": [
    "#'puru'/4"
   ]
  },
  {
   "cell_type": "code",
   "execution_count": 90,
   "id": "3f1433dd-2a2e-4cb5-a6eb-747f2a068512",
   "metadata": {
    "ExecuteTime": {
     "end_time": "2023-05-02T03:55:31.550360Z",
     "start_time": "2023-05-02T03:55:30.556365Z"
    }
   },
   "outputs": [],
   "source": [
    "#'don't do copy and paste in my class'"
   ]
  },
  {
   "cell_type": "code",
   "execution_count": 91,
   "id": "9f33a10a-c09d-4f37-91bf-fbae343cf8d4",
   "metadata": {
    "ExecuteTime": {
     "end_time": "2023-05-02T03:55:31.550360Z",
     "start_time": "2023-05-02T03:55:30.592361Z"
    }
   },
   "outputs": [
    {
     "data": {
      "text/plain": [
       "\"don't do copy and paste in my class\""
      ]
     },
     "execution_count": 91,
     "metadata": {},
     "output_type": "execute_result"
    }
   ],
   "source": [
    "\"don't do copy and paste in my class\""
   ]
  },
  {
   "cell_type": "code",
   "execution_count": 92,
   "id": "bfd443f4-0501-4184-9a21-3d3e2b95aaca",
   "metadata": {
    "ExecuteTime": {
     "end_time": "2023-05-02T03:55:31.551360Z",
     "start_time": "2023-05-02T03:55:30.619362Z"
    }
   },
   "outputs": [],
   "source": [
    "# It is used for comments"
   ]
  },
  {
   "cell_type": "code",
   "execution_count": 93,
   "id": "e14d450e-674d-4d4b-af2a-f8ae52437120",
   "metadata": {
    "ExecuteTime": {
     "end_time": "2023-05-02T03:55:31.551360Z",
     "start_time": "2023-05-02T03:55:30.651364Z"
    }
   },
   "outputs": [],
   "source": [
    "## It is comment section"
   ]
  },
  {
   "cell_type": "code",
   "execution_count": 94,
   "id": "8cce938c-f14b-4e85-9c48-e8244a16d729",
   "metadata": {
    "ExecuteTime": {
     "end_time": "2023-05-02T03:55:31.552360Z",
     "start_time": "2023-05-02T03:55:30.692362Z"
    }
   },
   "outputs": [
    {
     "data": {
      "text/plain": [
       "' This is my first class of programming. I have learnt variable declaration, data types, string, integer, boolean, complex nos.\\nI have seen some example of string slicing and indexing\\nI have gone through some of the string inbuilt function\\nApart from that I am also trying to practice in my laptop '"
      ]
     },
     "execution_count": 94,
     "metadata": {},
     "output_type": "execute_result"
    }
   ],
   "source": [
    "# Now I am using comment for more than 1 line\n",
    "\n",
    "''' This is my first class of programming. I have learnt variable declaration, data types, string, integer, boolean, complex nos.\n",
    "I have seen some example of string slicing and indexing\n",
    "I have gone through some of the string inbuilt function\n",
    "Apart from that I am also trying to practice in my laptop '''\n",
    "\n",
    "# Select all and then press Ctrl+/ to automatically enter '#' for every single line"
   ]
  },
  {
   "cell_type": "code",
   "execution_count": 95,
   "id": "9de3c5b7-2bfa-4a51-a651-a27080712fd4",
   "metadata": {
    "ExecuteTime": {
     "end_time": "2023-05-02T03:55:31.553363Z",
     "start_time": "2023-05-02T03:55:30.721361Z"
    }
   },
   "outputs": [
    {
     "data": {
      "text/plain": [
       "25"
      ]
     },
     "execution_count": 95,
     "metadata": {},
     "output_type": "execute_result"
    }
   ],
   "source": [
    "a"
   ]
  },
  {
   "cell_type": "code",
   "execution_count": 96,
   "id": "d2fafabe-7209-43f4-a763-c8388c496578",
   "metadata": {
    "ExecuteTime": {
     "end_time": "2023-05-02T03:55:31.554360Z",
     "start_time": "2023-05-02T03:55:30.755359Z"
    }
   },
   "outputs": [
    {
     "data": {
      "text/plain": [
       "10"
      ]
     },
     "execution_count": 96,
     "metadata": {},
     "output_type": "execute_result"
    }
   ],
   "source": [
    "b"
   ]
  },
  {
   "cell_type": "code",
   "execution_count": 97,
   "id": "af801bc5-af6a-484d-8435-c2f9b12f4335",
   "metadata": {
    "ExecuteTime": {
     "end_time": "2023-05-02T03:55:31.561375Z",
     "start_time": "2023-05-02T03:55:30.787365Z"
    }
   },
   "outputs": [
    {
     "data": {
      "text/plain": [
       "200023"
      ]
     },
     "execution_count": 97,
     "metadata": {},
     "output_type": "execute_result"
    }
   ],
   "source": [
    "c"
   ]
  },
  {
   "cell_type": "code",
   "execution_count": 98,
   "id": "0e0b10cc-4f85-43b3-baa5-03064737b527",
   "metadata": {
    "ExecuteTime": {
     "end_time": "2023-05-02T03:55:31.562360Z",
     "start_time": "2023-05-02T03:55:30.850364Z"
    }
   },
   "outputs": [
    {
     "data": {
      "text/plain": [
       "'200023'"
      ]
     },
     "execution_count": 98,
     "metadata": {},
     "output_type": "execute_result"
    }
   ],
   "source": [
    "d"
   ]
  },
  {
   "cell_type": "code",
   "execution_count": 99,
   "id": "08b300b3-6cdc-42f6-9abe-38c5d7bd46f7",
   "metadata": {
    "ExecuteTime": {
     "end_time": "2023-05-02T03:55:31.563370Z",
     "start_time": "2023-05-02T03:55:30.876361Z"
    }
   },
   "outputs": [
    {
     "data": {
      "text/plain": [
       "True"
      ]
     },
     "execution_count": 99,
     "metadata": {},
     "output_type": "execute_result"
    }
   ],
   "source": [
    "e"
   ]
  },
  {
   "cell_type": "code",
   "execution_count": 100,
   "id": "3f619bce-14b4-4c97-b0d6-d255da17b1a2",
   "metadata": {
    "ExecuteTime": {
     "end_time": "2023-05-02T03:55:31.563370Z",
     "start_time": "2023-05-02T03:55:30.908360Z"
    }
   },
   "outputs": [
    {
     "data": {
      "text/plain": [
       "False"
      ]
     },
     "execution_count": 100,
     "metadata": {},
     "output_type": "execute_result"
    }
   ],
   "source": [
    "f"
   ]
  },
  {
   "cell_type": "code",
   "execution_count": 101,
   "id": "5978807e-e847-42b4-8029-b7a6567af71a",
   "metadata": {
    "ExecuteTime": {
     "end_time": "2023-05-02T03:55:31.564363Z",
     "start_time": "2023-05-02T03:55:30.938363Z"
    }
   },
   "outputs": [
    {
     "data": {
      "text/plain": [
       "'pwskills'"
      ]
     },
     "execution_count": 101,
     "metadata": {},
     "output_type": "execute_result"
    }
   ],
   "source": [
    "s"
   ]
  },
  {
   "cell_type": "code",
   "execution_count": 102,
   "id": "17b958d9-50dc-4f08-add3-15dc035778fb",
   "metadata": {
    "ExecuteTime": {
     "end_time": "2023-05-02T03:55:31.564363Z",
     "start_time": "2023-05-02T03:55:30.970364Z"
    }
   },
   "outputs": [
    {
     "data": {
      "text/plain": [
       "'this is my string class'"
      ]
     },
     "execution_count": 102,
     "metadata": {},
     "output_type": "execute_result"
    }
   ],
   "source": [
    "s1"
   ]
  },
  {
   "cell_type": "code",
   "execution_count": 103,
   "id": "eef3e902-4755-4767-a7d5-9f0c386f8871",
   "metadata": {
    "ExecuteTime": {
     "end_time": "2023-05-02T03:55:31.565362Z",
     "start_time": "2023-05-02T03:55:31.007363Z"
    }
   },
   "outputs": [
    {
     "data": {
      "text/plain": [
       "str"
      ]
     },
     "execution_count": 103,
     "metadata": {},
     "output_type": "execute_result"
    }
   ],
   "source": [
    "type(s)"
   ]
  },
  {
   "cell_type": "code",
   "execution_count": 104,
   "id": "4cba87a1-bedd-47a6-a791-c5cfc557ca71",
   "metadata": {
    "ExecuteTime": {
     "end_time": "2023-05-02T03:55:31.565362Z",
     "start_time": "2023-05-02T03:55:31.068359Z"
    }
   },
   "outputs": [],
   "source": [
    "#type(s,s1,s2)"
   ]
  },
  {
   "cell_type": "code",
   "execution_count": 105,
   "id": "7065ce82-f70a-4079-b9e1-4cd485bf4446",
   "metadata": {
    "ExecuteTime": {
     "end_time": "2023-05-02T03:55:31.566361Z",
     "start_time": "2023-05-02T03:55:31.119363Z"
    }
   },
   "outputs": [
    {
     "data": {
      "text/plain": [
       "'THIS IS MY STRING CLASS'"
      ]
     },
     "execution_count": 105,
     "metadata": {},
     "output_type": "execute_result"
    }
   ],
   "source": [
    "s2"
   ]
  },
  {
   "cell_type": "markdown",
   "metadata": {
    "collapsed": false
   },
   "source": [
    "# Question :\n",
    "# Given String :  this is a pen\n",
    "# Required Output after Reverse : nepa si s iht"
   ]
  },
  {
   "cell_type": "code",
   "execution_count": 106,
   "id": "361fdf40-4368-4362-b4be-fb730ea5a398",
   "metadata": {
    "ExecuteTime": {
     "end_time": "2023-05-02T03:55:31.566361Z",
     "start_time": "2023-05-02T03:55:31.163360Z"
    }
   },
   "outputs": [
    {
     "name": "stdout",
     "output_type": "stream",
     "text": [
      "Given String: this is a pen\n",
      "Reversed String: nepa si s iht\n"
     ]
    }
   ],
   "source": [
    "s = 'this is a pen'\n",
    "l = list(s)\n",
    "l.reverse()\n",
    "l.remove(' ')\n",
    "l.insert(9,' ')\n",
    "print(\"Given String:\", s)\n",
    "\n",
    "s = ''\n",
    "for i in l:\n",
    "    s = s + i\n",
    "print(\"Reversed String:\", s)"
   ]
  },
  {
   "cell_type": "code",
   "execution_count": 107,
   "metadata": {
    "ExecuteTime": {
     "end_time": "2023-05-02T03:55:31.574359Z",
     "start_time": "2023-05-02T03:55:31.193359Z"
    },
    "collapsed": false
   },
   "outputs": [
    {
     "name": "stdout",
     "output_type": "stream",
     "text": [
      "Given String :  this is a pen\n",
      "Reversed String :  nepa si s iht\n"
     ]
    }
   ],
   "source": [
    "s = 'this is a pen'\n",
    "s1 = s[2::-1]\n",
    "s2 = s[3:2:-1]\n",
    "s3 = s[6:4:-1]\n",
    "s4 = s[8:7:-1]\n",
    "s5 = (s[12:9:-1])\n",
    "\n",
    "print(\"Given String : \", s)\n",
    "print(\"Reversed String : \", s5+s4, s3, s2, s1)"
   ]
  },
  {
   "cell_type": "code",
   "execution_count": 108,
   "metadata": {
    "ExecuteTime": {
     "end_time": "2023-05-02T03:55:31.574359Z",
     "start_time": "2023-05-02T03:55:31.224363Z"
    },
    "collapsed": false
   },
   "outputs": [],
   "source": [
    "s = \"this is a pen\""
   ]
  },
  {
   "cell_type": "code",
   "execution_count": 109,
   "metadata": {
    "ExecuteTime": {
     "end_time": "2023-05-02T03:55:31.575358Z",
     "start_time": "2023-05-02T03:55:31.255365Z"
    },
    "collapsed": false
   },
   "outputs": [
    {
     "data": {
      "text/plain": [
       "3"
      ]
     },
     "execution_count": 109,
     "metadata": {},
     "output_type": "execute_result"
    }
   ],
   "source": [
    "s.count(' ')"
   ]
  },
  {
   "cell_type": "code",
   "execution_count": 110,
   "metadata": {
    "ExecuteTime": {
     "end_time": "2023-05-02T03:55:31.575358Z",
     "start_time": "2023-05-02T03:55:31.286363Z"
    },
    "collapsed": false
   },
   "outputs": [],
   "source": [
    "s1 = s.replace(' ', '')"
   ]
  },
  {
   "cell_type": "code",
   "execution_count": 111,
   "metadata": {
    "ExecuteTime": {
     "end_time": "2023-05-02T03:55:31.576357Z",
     "start_time": "2023-05-02T03:55:31.319367Z"
    },
    "collapsed": false
   },
   "outputs": [
    {
     "data": {
      "text/plain": [
       "'thisisapen'"
      ]
     },
     "execution_count": 111,
     "metadata": {},
     "output_type": "execute_result"
    }
   ],
   "source": [
    "s1"
   ]
  },
  {
   "cell_type": "code",
   "execution_count": 112,
   "metadata": {
    "ExecuteTime": {
     "end_time": "2023-05-02T03:55:31.576357Z",
     "start_time": "2023-05-02T03:55:31.353363Z"
    },
    "collapsed": false
   },
   "outputs": [],
   "source": [
    "s2 = s1[::-1]"
   ]
  },
  {
   "cell_type": "code",
   "execution_count": 113,
   "metadata": {
    "ExecuteTime": {
     "end_time": "2023-05-02T03:55:35.609481Z",
     "start_time": "2023-05-02T03:55:31.386362Z"
    },
    "collapsed": false
   },
   "outputs": [
    {
     "data": {
      "text/plain": [
       "'nepasisiht'"
      ]
     },
     "execution_count": 113,
     "metadata": {},
     "output_type": "execute_result"
    }
   ],
   "source": [
    "s2"
   ]
  },
  {
   "cell_type": "code",
   "execution_count": 114,
   "metadata": {
    "ExecuteTime": {
     "end_time": "2023-05-02T03:55:35.879483Z",
     "start_time": "2023-05-02T03:55:31.438361Z"
    },
    "collapsed": false
   },
   "outputs": [
    {
     "data": {
      "text/plain": [
       "'thisisapen'"
      ]
     },
     "execution_count": 114,
     "metadata": {},
     "output_type": "execute_result"
    }
   ],
   "source": [
    "s1"
   ]
  },
  {
   "cell_type": "code",
   "execution_count": 115,
   "metadata": {
    "ExecuteTime": {
     "end_time": "2023-05-02T03:55:35.879483Z",
     "start_time": "2023-05-02T03:55:31.525363Z"
    },
    "collapsed": false
   },
   "outputs": [],
   "source": [
    "l = list(s2)"
   ]
  },
  {
   "cell_type": "code",
   "execution_count": 116,
   "metadata": {
    "ExecuteTime": {
     "end_time": "2023-05-02T03:55:35.881487Z",
     "start_time": "2023-05-02T03:55:31.597365Z"
    },
    "collapsed": false
   },
   "outputs": [
    {
     "data": {
      "text/plain": [
       "['n', 'e', 'p', 'a', 's', 'i', 's', 'i', 'h', 't']"
      ]
     },
     "execution_count": 116,
     "metadata": {},
     "output_type": "execute_result"
    }
   ],
   "source": [
    "l"
   ]
  },
  {
   "cell_type": "code",
   "execution_count": 117,
   "metadata": {
    "ExecuteTime": {
     "end_time": "2023-05-02T03:55:35.882487Z",
     "start_time": "2023-05-02T03:55:31.631368Z"
    },
    "collapsed": false
   },
   "outputs": [],
   "source": [
    "l.insert(3, ' ')"
   ]
  },
  {
   "cell_type": "code",
   "execution_count": 118,
   "metadata": {
    "ExecuteTime": {
     "end_time": "2023-05-02T03:55:35.930476Z",
     "start_time": "2023-05-02T03:55:31.716361Z"
    },
    "collapsed": false
   },
   "outputs": [
    {
     "data": {
      "text/plain": [
       "['n', 'e', 'p', ' ', 'a', 's', 'i', 's', 'i', 'h', 't']"
      ]
     },
     "execution_count": 118,
     "metadata": {},
     "output_type": "execute_result"
    }
   ],
   "source": [
    "l"
   ]
  },
  {
   "cell_type": "code",
   "execution_count": 119,
   "metadata": {
    "ExecuteTime": {
     "end_time": "2023-05-02T03:55:35.931477Z",
     "start_time": "2023-05-02T03:55:31.773377Z"
    },
    "collapsed": false
   },
   "outputs": [],
   "source": [
    "l.remove(' ')"
   ]
  },
  {
   "cell_type": "code",
   "execution_count": 120,
   "metadata": {
    "ExecuteTime": {
     "end_time": "2023-05-02T03:55:35.932481Z",
     "start_time": "2023-05-02T03:55:31.800363Z"
    },
    "collapsed": false
   },
   "outputs": [
    {
     "data": {
      "text/plain": [
       "['n', 'e', 'p', 'a', 's', 'i', 's', 'i', 'h', 't']"
      ]
     },
     "execution_count": 120,
     "metadata": {},
     "output_type": "execute_result"
    }
   ],
   "source": [
    "l"
   ]
  },
  {
   "cell_type": "code",
   "execution_count": 121,
   "metadata": {
    "ExecuteTime": {
     "end_time": "2023-05-02T03:55:35.933478Z",
     "start_time": "2023-05-02T03:55:31.832361Z"
    },
    "collapsed": false
   },
   "outputs": [],
   "source": [
    "l.insert(4, ' ')"
   ]
  },
  {
   "cell_type": "code",
   "execution_count": 122,
   "metadata": {
    "ExecuteTime": {
     "end_time": "2023-05-02T03:55:35.950485Z",
     "start_time": "2023-05-02T03:55:31.910362Z"
    },
    "collapsed": false
   },
   "outputs": [
    {
     "data": {
      "text/plain": [
       "['n', 'e', 'p', 'a', ' ', 's', 'i', 's', 'i', 'h', 't']"
      ]
     },
     "execution_count": 122,
     "metadata": {},
     "output_type": "execute_result"
    }
   ],
   "source": [
    "l"
   ]
  },
  {
   "cell_type": "code",
   "execution_count": 123,
   "metadata": {
    "ExecuteTime": {
     "end_time": "2023-05-02T03:55:35.951479Z",
     "start_time": "2023-05-02T03:55:31.952361Z"
    },
    "collapsed": false
   },
   "outputs": [],
   "source": [
    "l.insert(7, ' ')"
   ]
  },
  {
   "cell_type": "code",
   "execution_count": 124,
   "metadata": {
    "ExecuteTime": {
     "end_time": "2023-05-02T03:55:35.953479Z",
     "start_time": "2023-05-02T03:55:32.022358Z"
    },
    "collapsed": false
   },
   "outputs": [
    {
     "data": {
      "text/plain": [
       "['n', 'e', 'p', 'a', ' ', 's', 'i', ' ', 's', 'i', 'h', 't']"
      ]
     },
     "execution_count": 124,
     "metadata": {},
     "output_type": "execute_result"
    }
   ],
   "source": [
    "l"
   ]
  },
  {
   "cell_type": "code",
   "execution_count": 125,
   "metadata": {
    "ExecuteTime": {
     "end_time": "2023-05-02T03:55:35.959479Z",
     "start_time": "2023-05-02T03:55:32.105365Z"
    },
    "collapsed": false
   },
   "outputs": [],
   "source": [
    "l.insert(9, ' ')"
   ]
  },
  {
   "cell_type": "code",
   "execution_count": 126,
   "metadata": {
    "ExecuteTime": {
     "end_time": "2023-05-02T03:55:35.961494Z",
     "start_time": "2023-05-02T03:55:32.135360Z"
    },
    "collapsed": false
   },
   "outputs": [
    {
     "data": {
      "text/plain": [
       "['n', 'e', 'p', 'a', ' ', 's', 'i', ' ', 's', ' ', 'i', 'h', 't']"
      ]
     },
     "execution_count": 126,
     "metadata": {},
     "output_type": "execute_result"
    }
   ],
   "source": [
    "l"
   ]
  },
  {
   "cell_type": "code",
   "execution_count": 127,
   "metadata": {
    "ExecuteTime": {
     "end_time": "2023-05-02T03:55:35.963477Z",
     "start_time": "2023-05-02T03:55:32.167360Z"
    },
    "collapsed": false
   },
   "outputs": [
    {
     "name": "stdout",
     "output_type": "stream",
     "text": [
      "Given String : this is a pen\n",
      "Reversed String : nepa si s iht\n"
     ]
    }
   ],
   "source": [
    "s1 = \"\"\n",
    "for i in l:\n",
    "    s1 = s1 + i\n",
    "print(\"Given String :\",s)\n",
    "print(\"Reversed String :\",s1)"
   ]
  },
  {
   "cell_type": "code",
   "execution_count": 128,
   "metadata": {
    "ExecuteTime": {
     "end_time": "2023-05-02T03:55:35.964477Z",
     "start_time": "2023-05-02T03:55:32.199366Z"
    },
    "collapsed": false
   },
   "outputs": [
    {
     "name": "stdout",
     "output_type": "stream",
     "text": [
      "Given String : this is a pen\n",
      "Reversed String : nepa si s iht\n"
     ]
    }
   ],
   "source": [
    "s = \"this is a pen\"\n",
    "s_reverse = \"\"\n",
    "\n",
    "s1 = s.replace(' ', '')\n",
    "s2 = s1[::-1]\n",
    "l = list(s2)\n",
    "l.insert(4, ' ')\n",
    "l.insert(7, ' ')\n",
    "l.insert(9, ' ')\n",
    "\n",
    "for i in l:\n",
    "    s_reverse = s_reverse + i\n",
    "print(\"Given String :\",s)\n",
    "print(\"Reversed String :\",s_reverse)"
   ]
  },
  {
   "cell_type": "code",
   "execution_count": 129,
   "metadata": {
    "ExecuteTime": {
     "end_time": "2023-05-02T03:55:44.390482Z",
     "start_time": "2023-05-02T03:55:32.234359Z"
    },
    "collapsed": false
   },
   "outputs": [
    {
     "name": "stdout",
     "output_type": "stream",
     "text": [
      "Given String : hi i am anand\n",
      "Reversed String : dnan am a iih\n"
     ]
    }
   ],
   "source": [
    "s = str(input(\"Enter any string with spaces to reverse it and get the Desired Output like 'nepa si s iht' : \"))\n",
    "s_reverse = \"\"\n",
    "\n",
    "s1 = s.replace(' ', '')\n",
    "s2 = s1[::-1]\n",
    "l = list(s2)\n",
    "l.insert(4, ' ')\n",
    "l.insert(7, ' ')\n",
    "l.insert(9, ' ')\n",
    "\n",
    "if len(l) <= 13:\n",
    "    for i in l:\n",
    "        s_reverse = s_reverse + i\n",
    "    print(\"Given String :\",s)\n",
    "    print(\"Reversed String :\",s_reverse)\n",
    "\n",
    "else:\n",
    "    Error = \"\"\"Oops! Your string has more than 13 characters.\n",
    "    Enter a string which has only 13 characters to gain the desired output.\n",
    "    Try again!\n",
    "    \"\"\"\n",
    "    print(Error)\n",
    "    print(\"You have entered : \", s)\n",
    "    print(\"Your string has length :\", len(s))\n",
    "    exit()"
   ]
  },
  {
   "cell_type": "code",
   "execution_count": 147,
   "metadata": {
    "ExecuteTime": {
     "end_time": "2023-05-02T03:55:44.392480Z",
     "start_time": "2023-05-02T03:55:43.740484Z"
    },
    "collapsed": false
   },
   "outputs": [],
   "source": [
    "s = str(input(\"Enter any string to reverse it's order in the same way : \"))\n",
    "\n",
    "def ReverseString(s):\n",
    "    \n",
    "    for i in s:\n",
    "        "
   ]
  },
  {
   "cell_type": "code",
   "execution_count": 165,
   "id": "a69ca8c0",
   "metadata": {},
   "outputs": [
    {
     "name": "stdout",
     "output_type": "stream",
     "text": [
      "['this', 'is', 'a', 'pen']\n",
      "['siht', 'si', 'a', 'nep']\n",
      "nepasisiht\n",
      "\n"
     ]
    }
   ],
   "source": [
    "def reverse_string(s):\n",
    "    words = s.split()\n",
    "    print(words)\n",
    "    reversed_words = [word[::-1] for word in words]\n",
    "    print(reversed_words)\n",
    "    result = \"\"\n",
    "    \n",
    "    for i in range(len(words)):\n",
    "        result = result + reversed_words[i][::-1] + \"\" * (len(words[i]) + len(reversed_words[i]))\n",
    "    return result[::-1]\n",
    "\n",
    "\n",
    "s = \"this is a pen\"\n",
    "reversed_string = reverse_string(s)\n",
    "print(reversed_string) # Output: nepa si s iht\n",
    "\n",
    "\n",
    "'''\n",
    "s = \"you are chatgpt\"\n",
    "reversed_string = reverse_string(s)\n",
    "print(reversed_string) # Output: tpg tah cerauoy '''\n",
    "print()\n"
   ]
  },
  {
   "cell_type": "code",
   "execution_count": 167,
   "id": "17a53c6f",
   "metadata": {},
   "outputs": [
    {
     "name": "stdout",
     "output_type": "stream",
     "text": [
      "sihtsia  nep\n",
      "uoyeratpgtahc\n"
     ]
    }
   ],
   "source": [
    "def reverse_string(s):\n",
    "    words = s.split()\n",
    "    n = len(words)\n",
    "    result = \"\"\n",
    "    for i in range(n):\n",
    "        # Calculate the index of the character in the original string\n",
    "        index = sum([len(words[j]) for j in range(i)]) + i\n",
    "\n",
    "        # Reverse the current word and add it to the result string\n",
    "        result += words[i][::-1]\n",
    "\n",
    "        # Add spaces to the result string to keep the character at index `index`\n",
    "        while len(result) < index + 1:\n",
    "            result += \" \"\n",
    "\n",
    "    return result\n",
    "\n",
    "s = \"this is a pen\"\n",
    "reversed_string = reverse_string(s)\n",
    "print(reversed_string) # Output: nepa si s iht\n",
    "\n",
    "s = \"you are chatgpt\"\n",
    "reversed_string = reverse_string(s)\n",
    "print(reversed_string) # Output: tpg tah cerauoy\n"
   ]
  },
  {
   "cell_type": "code",
   "execution_count": 168,
   "id": "42859561",
   "metadata": {},
   "outputs": [
    {
     "name": "stdout",
     "output_type": "stream",
     "text": [
      "sihtsianep\n",
      "uoyeratpgtahc\n"
     ]
    }
   ],
   "source": [
    "def reverse_string(s):\n",
    "    words = s.split()\n",
    "    lengths = [len(word) for word in words]\n",
    "    total_length = sum(lengths)\n",
    "    result = [\"\"] * total_length\n",
    "    index = 0\n",
    "    for i in range(len(words)):\n",
    "        reversed_word = words[i][::-1]\n",
    "        word_length = lengths[i]\n",
    "        result[index:index+word_length] = reversed_word\n",
    "        index += word_length\n",
    "    return \"\".join(result)\n",
    "\n",
    "s = \"this is a pen\"\n",
    "reversed_string = reverse_string(s)\n",
    "print(reversed_string) # Output: nepa si s iht\n",
    "\n",
    "s = \"you are chatgpt\"\n",
    "reversed_string = reverse_string(s)\n",
    "print(reversed_string) # Output: tpg tah cerauoy\n"
   ]
  },
  {
   "cell_type": "code",
   "execution_count": null,
   "id": "10b4b3fe",
   "metadata": {},
   "outputs": [],
   "source": []
  }
 ],
 "metadata": {
  "kernelspec": {
   "display_name": "Python 3 (ipykernel)",
   "language": "python",
   "name": "python3"
  },
  "language_info": {
   "codemirror_mode": {
    "name": "ipython",
    "version": 3
   },
   "file_extension": ".py",
   "mimetype": "text/x-python",
   "name": "python",
   "nbconvert_exporter": "python",
   "pygments_lexer": "ipython3",
   "version": "3.10.4"
  }
 },
 "nbformat": 4,
 "nbformat_minor": 5
}
