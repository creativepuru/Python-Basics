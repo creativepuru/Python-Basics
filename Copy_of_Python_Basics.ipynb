{
 "cells": [
  {
   "cell_type": "code",
   "execution_count": 5,
   "metadata": {
    "ExecuteTime": {
     "start_time": "2023-04-14T04:12:46.887105Z",
     "end_time": "2023-04-14T04:12:46.949598Z"
    },
    "collapsed": true,
    "id": "Jv-kFcA1__lo",
    "outputId": "63d944a1-22d5-4fe8-bb6f-7e35eabcb875",
    "colab": {
     "base_uri": "https://localhost:8080/"
    }
   },
   "outputs": [
    {
     "name": "stdout",
     "output_type": "stream",
     "text": [
      "Welcome Purushottam to IIT Delhi AI-ML Course\n",
      "It is a check for Commit & Push Request created by DataSpell app\n"
     ]
    }
   ],
   "source": [
    "x = 'Welcome Purushottam to IIT Delhi AI-ML Course'\n",
    "y = \"It is a check for Commit & Push Request created by DataSpell app\"\n",
    "print (x)\n",
    "print(y)"
   ]
  },
  {
   "cell_type": "code",
   "execution_count": 2,
   "metadata": {
    "ExecuteTime": {
     "start_time": "2023-04-14T02:49:29.291812Z",
     "end_time": "2023-04-14T02:49:37.045749Z"
    },
    "id": "gbY4rUad__lx",
    "outputId": "a42622ab-0e6c-4c3d-82aa-848eb87e2505",
    "colab": {
     "base_uri": "https://localhost:8080/"
    }
   },
   "outputs": [
    {
     "name": "stdout",
     "output_type": "stream",
     "text": [
      "16\n"
     ]
    }
   ],
   "source": [
    "y = 16\n",
    "print(y)"
   ]
  },
  {
   "cell_type": "code",
   "execution_count": 3,
   "metadata": {
    "ExecuteTime": {
     "start_time": "2023-04-14T02:49:29.509189Z",
     "end_time": "2023-04-14T02:49:38.536816Z"
    },
    "id": "yF8Dyr7___ly",
    "outputId": "9e00f155-cd89-46a6-8a8e-fe2a4483ea7c",
    "colab": {
     "base_uri": "https://localhost:8080/"
    }
   },
   "outputs": [
    {
     "name": "stdout",
     "output_type": "stream",
     "text": [
      "<class 'str'>\n",
      "<class 'int'>\n"
     ]
    }
   ],
   "source": [
    "print(type(x))\n",
    "print(type(y))"
   ]
  },
  {
   "cell_type": "code",
   "execution_count": 4,
   "metadata": {
    "ExecuteTime": {
     "start_time": "2023-04-14T02:49:29.828945Z",
     "end_time": "2023-04-14T02:49:38.540354Z"
    },
    "id": "pWw3pgL8__lz"
   },
   "outputs": [],
   "source": [
    "f = 16.12\n",
    "b = True"
   ]
  },
  {
   "cell_type": "code",
   "execution_count": 5,
   "metadata": {
    "ExecuteTime": {
     "start_time": "2023-04-14T02:49:33.087174Z",
     "end_time": "2023-04-14T02:49:38.622364Z"
    },
    "id": "C_9Zkfip__l0",
    "outputId": "e0399cef-4813-4c34-c6ab-d81b52e22195",
    "colab": {
     "base_uri": "https://localhost:8080/"
    }
   },
   "outputs": [
    {
     "name": "stdout",
     "output_type": "stream",
     "text": [
      "<class 'float'>\n",
      "<class 'bool'>\n"
     ]
    }
   ],
   "source": [
    "print(type(f))\n",
    "print(type(b))"
   ]
  },
  {
   "cell_type": "code",
   "execution_count": 6,
   "metadata": {
    "ExecuteTime": {
     "start_time": "2023-04-14T02:49:33.127372Z",
     "end_time": "2023-04-14T02:49:38.626378Z"
    },
    "id": "QLmnn_D0__l1",
    "outputId": "ffcc0f49-823f-4786-809e-70a1e921b8cc",
    "colab": {
     "base_uri": "https://localhost:8080/"
    }
   },
   "outputs": [
    {
     "name": "stdout",
     "output_type": "stream",
     "text": [
      "<class 'str'>\n"
     ]
    }
   ],
   "source": [
    "print(type('16'))"
   ]
  },
  {
   "cell_type": "code",
   "execution_count": 7,
   "metadata": {
    "ExecuteTime": {
     "start_time": "2023-04-14T02:49:33.140488Z",
     "end_time": "2023-04-14T02:49:38.628875Z"
    },
    "id": "-5tpfxRz__l2"
   },
   "outputs": [],
   "source": [
    "x = 3;y = 4;z = 100"
   ]
  },
  {
   "cell_type": "code",
   "execution_count": 8,
   "metadata": {
    "ExecuteTime": {
     "start_time": "2023-04-14T02:49:33.152055Z",
     "end_time": "2023-04-14T02:49:38.831199Z"
    },
    "id": "wyJqDsk5__l3",
    "outputId": "22b96fd2-6627-4891-8538-b7dd374cc19b",
    "colab": {
     "base_uri": "https://localhost:8080/"
    }
   },
   "outputs": [
    {
     "data": {
      "text/plain": "7"
     },
     "execution_count": 8,
     "metadata": {},
     "output_type": "execute_result"
    }
   ],
   "source": [
    "x + y"
   ]
  },
  {
   "cell_type": "code",
   "execution_count": 9,
   "metadata": {
    "ExecuteTime": {
     "start_time": "2023-04-14T02:49:33.156601Z",
     "end_time": "2023-04-14T02:49:38.892182Z"
    },
    "id": "tPbb_gl5__l4",
    "outputId": "ae6e3893-96ee-4ad6-e41a-bef270f549cc",
    "colab": {
     "base_uri": "https://localhost:8080/"
    }
   },
   "outputs": [
    {
     "data": {
      "text/plain": "-1"
     },
     "execution_count": 9,
     "metadata": {},
     "output_type": "execute_result"
    }
   ],
   "source": [
    "x - y"
   ]
  },
  {
   "cell_type": "code",
   "execution_count": 10,
   "metadata": {
    "ExecuteTime": {
     "start_time": "2023-04-14T02:49:33.160132Z",
     "end_time": "2023-04-14T02:49:38.895184Z"
    },
    "id": "6k5Fz3Mq__l5",
    "outputId": "c8369b1f-77d9-4588-835f-f914272d2195",
    "colab": {
     "base_uri": "https://localhost:8080/"
    }
   },
   "outputs": [
    {
     "data": {
      "text/plain": "12"
     },
     "execution_count": 10,
     "metadata": {},
     "output_type": "execute_result"
    }
   ],
   "source": [
    "x * y"
   ]
  },
  {
   "cell_type": "code",
   "execution_count": 11,
   "metadata": {
    "ExecuteTime": {
     "start_time": "2023-04-14T02:49:33.171720Z",
     "end_time": "2023-04-14T02:49:38.905758Z"
    },
    "id": "gb3onwQ7__l6",
    "outputId": "a9339a7e-2d65-4ebe-87ff-c7f829767cd4",
    "colab": {
     "base_uri": "https://localhost:8080/"
    }
   },
   "outputs": [
    {
     "data": {
      "text/plain": "0.75"
     },
     "execution_count": 11,
     "metadata": {},
     "output_type": "execute_result"
    }
   ],
   "source": [
    "x / y\n",
    "# used for normal division method or say used to find Quotient"
   ]
  },
  {
   "cell_type": "code",
   "execution_count": 12,
   "metadata": {
    "ExecuteTime": {
     "start_time": "2023-04-14T02:49:33.172718Z",
     "end_time": "2023-04-14T02:49:39.100144Z"
    },
    "id": "aBfTndBa__l6",
    "outputId": "a9edb84e-99fa-4719-979c-cad0f3916292",
    "colab": {
     "base_uri": "https://localhost:8080/"
    }
   },
   "outputs": [
    {
     "data": {
      "text/plain": "81"
     },
     "execution_count": 12,
     "metadata": {},
     "output_type": "execute_result"
    }
   ],
   "source": [
    "x ** y\n",
    "# used to find Exponential"
   ]
  },
  {
   "cell_type": "code",
   "execution_count": 13,
   "metadata": {
    "ExecuteTime": {
     "start_time": "2023-04-14T02:49:33.176720Z",
     "end_time": "2023-04-14T02:49:39.102166Z"
    },
    "id": "jrPNe4WH__l7",
    "outputId": "593e4aa4-ece2-4f3a-8b6e-146fa54fa13f",
    "colab": {
     "base_uri": "https://localhost:8080/"
    }
   },
   "outputs": [
    {
     "data": {
      "text/plain": "3"
     },
     "execution_count": 13,
     "metadata": {},
     "output_type": "execute_result"
    }
   ],
   "source": [
    "x % y\n",
    "# used to find Reminders"
   ]
  },
  {
   "cell_type": "code",
   "execution_count": 14,
   "metadata": {
    "ExecuteTime": {
     "start_time": "2023-04-14T02:49:33.196810Z",
     "end_time": "2023-04-14T02:49:39.103170Z"
    },
    "id": "7EsgSN6k__l8",
    "outputId": "e30c6e76-a56b-40c9-ae1a-cce8749d8159",
    "colab": {
     "base_uri": "https://localhost:8080/"
    }
   },
   "outputs": [
    {
     "data": {
      "text/plain": "3"
     },
     "execution_count": 14,
     "metadata": {},
     "output_type": "execute_result"
    }
   ],
   "source": [
    "x"
   ]
  },
  {
   "cell_type": "code",
   "execution_count": 15,
   "metadata": {
    "ExecuteTime": {
     "start_time": "2023-04-14T02:49:33.198819Z",
     "end_time": "2023-04-14T02:49:39.105170Z"
    },
    "id": "L85BKFvr__l8",
    "outputId": "8131f855-adc9-4f45-fa38-957fcf4345ef",
    "colab": {
     "base_uri": "https://localhost:8080/"
    }
   },
   "outputs": [
    {
     "data": {
      "text/plain": "4"
     },
     "execution_count": 15,
     "metadata": {},
     "output_type": "execute_result"
    }
   ],
   "source": [
    "y"
   ]
  },
  {
   "cell_type": "code",
   "execution_count": 16,
   "metadata": {
    "ExecuteTime": {
     "start_time": "2023-04-14T02:49:33.347827Z",
     "end_time": "2023-04-14T02:49:39.286249Z"
    },
    "id": "CGabe7Fl__l8",
    "outputId": "edd594a7-a6cb-4778-e211-bb741eecdcd5",
    "colab": {
     "base_uri": "https://localhost:8080/"
    }
   },
   "outputs": [
    {
     "data": {
      "text/plain": "33.333333333333336"
     },
     "execution_count": 16,
     "metadata": {},
     "output_type": "execute_result"
    }
   ],
   "source": [
    "z / x"
   ]
  },
  {
   "cell_type": "code",
   "execution_count": 17,
   "metadata": {
    "ExecuteTime": {
     "start_time": "2023-04-14T02:49:33.350368Z",
     "end_time": "2023-04-14T02:49:39.292818Z"
    },
    "id": "jG76yYSw__l9",
    "outputId": "faba8d30-4035-413e-c878-dad9f5f68da9",
    "colab": {
     "base_uri": "https://localhost:8080/"
    }
   },
   "outputs": [
    {
     "data": {
      "text/plain": "33"
     },
     "execution_count": 17,
     "metadata": {},
     "output_type": "execute_result"
    }
   ],
   "source": [
    "z // x\n",
    "# divides but takes floor value"
   ]
  },
  {
   "cell_type": "code",
   "execution_count": 18,
   "metadata": {
    "ExecuteTime": {
     "start_time": "2023-04-14T02:49:33.350368Z",
     "end_time": "2023-04-14T02:49:39.293821Z"
    },
    "id": "SY05WeCZ__l-"
   },
   "outputs": [],
   "source": [
    "a = 5\n",
    "b = 7"
   ]
  },
  {
   "cell_type": "code",
   "execution_count": 19,
   "metadata": {
    "ExecuteTime": {
     "start_time": "2023-04-14T02:49:33.351388Z",
     "end_time": "2023-04-14T02:49:39.617536Z"
    },
    "id": "WEQC1nGx__l-",
    "outputId": "a9bf02b9-a7f4-4fd3-bf4e-392be8dca00a",
    "colab": {
     "base_uri": "https://localhost:8080/"
    }
   },
   "outputs": [
    {
     "name": "stdout",
     "output_type": "stream",
     "text": [
      "True\n",
      "False\n"
     ]
    }
   ],
   "source": [
    "print(a==5)\n",
    "print(b==6)"
   ]
  },
  {
   "cell_type": "code",
   "execution_count": 20,
   "metadata": {
    "ExecuteTime": {
     "start_time": "2023-04-14T02:49:33.353386Z",
     "end_time": "2023-04-14T02:49:39.617536Z"
    },
    "id": "iOOuFAwm__l_"
   },
   "outputs": [],
   "source": [
    "a = 'hi'\n",
    "b = ' hello'"
   ]
  },
  {
   "cell_type": "code",
   "execution_count": 21,
   "metadata": {
    "ExecuteTime": {
     "start_time": "2023-04-14T02:49:33.354901Z",
     "end_time": "2023-04-14T02:49:39.621113Z"
    },
    "id": "tvvVH160__l_",
    "outputId": "8a4a7fc3-56cc-40c7-9bfd-4a37a4b87c04",
    "colab": {
     "base_uri": "https://localhost:8080/"
    }
   },
   "outputs": [
    {
     "name": "stdout",
     "output_type": "stream",
     "text": [
      "hi\n",
      " hello\n"
     ]
    }
   ],
   "source": [
    "print(a)\n",
    "print(b)"
   ]
  },
  {
   "cell_type": "code",
   "execution_count": 22,
   "metadata": {
    "ExecuteTime": {
     "start_time": "2023-04-14T02:49:33.355919Z",
     "end_time": "2023-04-14T02:49:39.757060Z"
    },
    "id": "5y7wyutY__mA",
    "outputId": "517e2a26-44d4-4c77-bb26-2f1269941dca",
    "colab": {
     "base_uri": "https://localhost:8080/"
    }
   },
   "outputs": [
    {
     "name": "stdout",
     "output_type": "stream",
     "text": [
      "hi hello\n"
     ]
    }
   ],
   "source": [
    "print(a + b)"
   ]
  },
  {
   "cell_type": "code",
   "execution_count": 23,
   "metadata": {
    "ExecuteTime": {
     "start_time": "2023-04-14T02:49:33.355919Z",
     "end_time": "2023-04-14T02:49:39.758083Z"
    },
    "id": "Txyu0_Ex__mA",
    "outputId": "45ac417b-d419-410f-a2b4-9724816e6322",
    "colab": {
     "base_uri": "https://localhost:8080/"
    }
   },
   "outputs": [
    {
     "name": "stdout",
     "output_type": "stream",
     "text": [
      "3\n"
     ]
    }
   ],
   "source": [
    "a = '2'\n",
    "# print(a + 1) --> TypeError: can only concatenate str (not \"int\") to str\n",
    "print(int(a) + 1)"
   ]
  },
  {
   "cell_type": "code",
   "execution_count": 24,
   "metadata": {
    "ExecuteTime": {
     "start_time": "2023-04-14T02:49:33.355919Z",
     "end_time": "2023-04-14T02:49:39.758657Z"
    },
    "id": "bWQ9NCin__mA"
   },
   "outputs": [],
   "source": [
    "a = \"Hi \""
   ]
  },
  {
   "cell_type": "code",
   "execution_count": 25,
   "metadata": {
    "ExecuteTime": {
     "start_time": "2023-04-14T02:49:33.356920Z",
     "end_time": "2023-04-14T02:49:39.774766Z"
    },
    "id": "-kbLKcZd__mB",
    "outputId": "83b46ab6-e3ad-49e3-a242-7e6e1ee04803",
    "colab": {
     "base_uri": "https://localhost:8080/",
     "height": 36
    }
   },
   "outputs": [
    {
     "data": {
      "text/plain": "'Hi Hi Hi '"
     },
     "execution_count": 25,
     "metadata": {},
     "output_type": "execute_result"
    }
   ],
   "source": [
    "a * 3"
   ]
  },
  {
   "cell_type": "code",
   "execution_count": 26,
   "metadata": {
    "ExecuteTime": {
     "start_time": "2023-04-14T02:49:33.356920Z",
     "end_time": "2023-04-14T02:50:33.412014Z"
    },
    "id": "vXFEi_KW__mB",
    "outputId": "fff32342-f527-468f-92c0-7200eb284401",
    "colab": {
     "base_uri": "https://localhost:8080/"
    }
   },
   "outputs": [],
   "source": [
    "name = input(\"What's your name ?\")"
   ]
  },
  {
   "cell_type": "code",
   "execution_count": 27,
   "metadata": {
    "ExecuteTime": {
     "start_time": "2023-04-14T02:50:12.638995Z",
     "end_time": "2023-04-14T02:50:33.668451Z"
    },
    "id": "IcJOulD5__mC",
    "outputId": "60fde12c-b18c-4d3e-89c2-475156f4d150",
    "colab": {
     "base_uri": "https://localhost:8080/"
    }
   },
   "outputs": [
    {
     "name": "stdout",
     "output_type": "stream",
     "text": [
      "a\n"
     ]
    }
   ],
   "source": [
    "print(name)"
   ]
  },
  {
   "cell_type": "code",
   "execution_count": 28,
   "metadata": {
    "ExecuteTime": {
     "start_time": "2023-04-14T02:50:12.691967Z",
     "end_time": "2023-04-14T02:50:33.686680Z"
    },
    "id": "2YOPyACh__mC",
    "outputId": "9776882d-db0f-4ae2-9203-42abe02d340e",
    "colab": {
     "base_uri": "https://localhost:8080/"
    }
   },
   "outputs": [
    {
     "name": "stdout",
     "output_type": "stream",
     "text": [
      "Nice to meet you  a !\n"
     ]
    }
   ],
   "source": [
    "print(\"Nice to meet you \", name, \"!\")"
   ]
  },
  {
   "cell_type": "code",
   "execution_count": 29,
   "metadata": {
    "ExecuteTime": {
     "start_time": "2023-04-14T02:50:13.033973Z",
     "end_time": "2023-04-14T02:50:53.739481Z"
    },
    "id": "ApDNBDeZ__mC",
    "outputId": "f943bdc8-125a-40a6-b83c-18ff2afdf3bb",
    "colab": {
     "base_uri": "https://localhost:8080/"
    }
   },
   "outputs": [],
   "source": [
    "age = input(\"What's your age ?\")"
   ]
  },
  {
   "cell_type": "code",
   "execution_count": 30,
   "metadata": {
    "ExecuteTime": {
     "start_time": "2023-04-14T02:50:52.749257Z",
     "end_time": "2023-04-14T02:50:53.739481Z"
    },
    "id": "qQKCqIZE__mD",
    "outputId": "2c0da07a-c506-4445-a516-69878401352c",
    "colab": {
     "base_uri": "https://localhost:8080/"
    }
   },
   "outputs": [
    {
     "name": "stdout",
     "output_type": "stream",
     "text": [
      "1\n"
     ]
    }
   ],
   "source": [
    "print(age)"
   ]
  },
  {
   "cell_type": "code",
   "execution_count": 31,
   "metadata": {
    "ExecuteTime": {
     "start_time": "2023-04-14T02:50:52.798047Z",
     "end_time": "2023-04-14T02:50:54.020732Z"
    },
    "id": "eLjU1OaY__mD",
    "outputId": "ba01473b-b483-475a-e904-9f7e10f71586",
    "colab": {
     "base_uri": "https://localhost:8080/"
    }
   },
   "outputs": [
    {
     "name": "stdout",
     "output_type": "stream",
     "text": [
      "<class 'str'>\n",
      "<class 'str'>\n"
     ]
    }
   ],
   "source": [
    "print(type(name))\n",
    "print(type(age))"
   ]
  },
  {
   "cell_type": "code",
   "execution_count": 32,
   "metadata": {
    "ExecuteTime": {
     "start_time": "2023-04-14T02:50:53.298347Z",
     "end_time": "2023-04-14T02:50:54.083234Z"
    },
    "id": "CODpAsMn__mD"
   },
   "outputs": [],
   "source": [
    "# Syntax for Creating Lists\n",
    "\n",
    "lst = [1, 2, 'a', 10.0, True]"
   ]
  },
  {
   "cell_type": "code",
   "execution_count": 33,
   "metadata": {
    "ExecuteTime": {
     "start_time": "2023-04-14T02:50:53.598858Z",
     "end_time": "2023-04-14T02:50:54.270732Z"
    },
    "id": "XQPKBtXH__mD",
    "outputId": "acac2a28-88e5-44b7-b65d-e1d8d1f44d63",
    "colab": {
     "base_uri": "https://localhost:8080/"
    }
   },
   "outputs": [
    {
     "name": "stdout",
     "output_type": "stream",
     "text": [
      "[1, 2, 'a', 10.0, True]\n"
     ]
    }
   ],
   "source": [
    "print(lst)"
   ]
  },
  {
   "cell_type": "code",
   "execution_count": 34,
   "metadata": {
    "ExecuteTime": {
     "start_time": "2023-04-14T02:50:53.926983Z",
     "end_time": "2023-04-14T02:50:54.270732Z"
    },
    "id": "_6god5Cn__mE",
    "outputId": "ffaae0b4-ec6d-45fb-ecf9-97520ab048e1",
    "colab": {
     "base_uri": "https://localhost:8080/"
    }
   },
   "outputs": [
    {
     "name": "stdout",
     "output_type": "stream",
     "text": [
      "<class 'list'>\n"
     ]
    }
   ],
   "source": [
    "print(type(lst))"
   ]
  },
  {
   "cell_type": "code",
   "execution_count": 35,
   "metadata": {
    "ExecuteTime": {
     "start_time": "2023-04-14T02:50:53.989500Z",
     "end_time": "2023-04-14T02:50:54.270732Z"
    },
    "id": "o1YEwlak__mE"
   },
   "outputs": [],
   "source": [
    "#   --> Conditional statements ( If & Else ) starts from here"
   ]
  },
  {
   "cell_type": "code",
   "execution_count": 36,
   "metadata": {
    "ExecuteTime": {
     "start_time": "2023-04-14T02:50:54.130114Z",
     "end_time": "2023-04-14T02:50:55.933209Z"
    },
    "id": "OBOwdDNn__mE",
    "outputId": "4dee47d6-942c-4930-99d8-58d5ed082d1b",
    "colab": {
     "base_uri": "https://localhost:8080/"
    }
   },
   "outputs": [
    {
     "name": "stdout",
     "output_type": "stream",
     "text": [
      "<class 'str'>\n",
      "1  is odd\n",
      "<class 'int'>\n"
     ]
    }
   ],
   "source": [
    "x = input(\"Write any number between 0 to 99 : \")\n",
    "print(type(x))\n",
    "y = int(x)\n",
    "if y % 2 == 0:\n",
    "    print(y, \" is even\")\n",
    "else:\n",
    "    print(y, \" is odd\")\n",
    "print(type(y))"
   ]
  },
  {
   "cell_type": "code",
   "execution_count": 37,
   "metadata": {
    "ExecuteTime": {
     "start_time": "2023-04-14T02:50:55.524015Z",
     "end_time": "2023-04-14T02:50:58.127547Z"
    },
    "id": "77YKrUAO__mF",
    "outputId": "f4d848c6-800f-44c4-c1a1-2158f11ac40b",
    "colab": {
     "base_uri": "https://localhost:8080/"
    }
   },
   "outputs": [
    {
     "name": "stdout",
     "output_type": "stream",
     "text": [
      "1  is smaller than 10\n",
      "1  is greater than 0\n"
     ]
    }
   ],
   "source": [
    "x = input(\"Write any number between 0 to 10 : \")\n",
    "y = int(x)\n",
    "if y < 10:\n",
    "    print(x, \" is smaller than 10\")\n",
    "if y > 0 :\n",
    "    print(x, \" is greater than 0\")"
   ]
  },
  {
   "cell_type": "code",
   "execution_count": 38,
   "metadata": {
    "ExecuteTime": {
     "start_time": "2023-04-14T02:50:57.641841Z",
     "end_time": "2023-04-14T02:50:59.561789Z"
    },
    "id": "2MuwsaZm__mF",
    "outputId": "a715e555-b2ac-42a3-fe2f-f5ef66966a5d",
    "colab": {
     "base_uri": "https://localhost:8080/"
    }
   },
   "outputs": [
    {
     "name": "stdout",
     "output_type": "stream",
     "text": [
      "1  is smaller than 10\n",
      "1  is greater than 0\n"
     ]
    }
   ],
   "source": [
    "x = input(\"Write any number between 0 to 10 : \")\n",
    "y = int(x)\n",
    "if 10 > y > 0:\n",
    "    print(y, \" is smaller than 10\")\n",
    "    print(y, \" is greater than 0\")"
   ]
  },
  {
   "cell_type": "code",
   "execution_count": 39,
   "metadata": {
    "ExecuteTime": {
     "start_time": "2023-04-14T02:50:59.084345Z",
     "end_time": "2023-04-14T02:51:03.045365Z"
    },
    "id": "FQTQ8LEZ__mG",
    "outputId": "ded950ed-1b3d-448a-8e9b-4f7b92cadc2f",
    "colab": {
     "base_uri": "https://localhost:8080/"
    }
   },
   "outputs": [
    {
     "name": "stdout",
     "output_type": "stream",
     "text": [
      "1 & 1  are equal \n"
     ]
    }
   ],
   "source": [
    "# Using if else statement as a condition -->\n",
    "\n",
    "x = int(input(\"1st Input = Write any number between 0 to 20 : \"))\n",
    "y = int(input(\"2nd Input = Write any number between 0 to 20 : \"))\n",
    "#x1 = int(x)\n",
    "#y1 = int(y)\n",
    "\n",
    "if x <= 20 and y <= 20 :\n",
    "    if x < y :\n",
    "        print(x, \" is less than \", y)\n",
    "    elif x > y :\n",
    "        print(x, \" is greater than \", y)\n",
    "    else :\n",
    "        print(x, \"&\", y, \" are equal \")\n",
    "\n",
    "else :\n",
    "    print(\"Oops, you have entered the wrong value !!!\")"
   ]
  },
  {
   "cell_type": "code",
   "execution_count": 40,
   "metadata": {
    "ExecuteTime": {
     "start_time": "2023-04-14T02:51:02.536285Z",
     "end_time": "2023-04-14T02:51:03.046354Z"
    },
    "id": "3NrKijt___mH",
    "outputId": "accd00a0-0e13-4350-a067-64517a80f09b",
    "colab": {
     "base_uri": "https://localhost:8080/"
    }
   },
   "outputs": [
    {
     "name": "stdout",
     "output_type": "stream",
     "text": [
      "x is greater than 5\n"
     ]
    }
   ],
   "source": [
    "x = 6\n",
    "if not (x>5) :\n",
    "    print(\"x is less than 5\")\n",
    "if not (x<5) :\n",
    "    print(\"x is greater than 5\")"
   ]
  },
  {
   "cell_type": "code",
   "execution_count": 41,
   "metadata": {
    "ExecuteTime": {
     "start_time": "2023-04-14T02:51:02.618290Z",
     "end_time": "2023-04-14T02:51:03.048357Z"
    },
    "id": "o47CX_4n__mI"
   },
   "outputs": [],
   "source": [
    "# Using Iterative Constructs --> While & For Loop"
   ]
  },
  {
   "cell_type": "code",
   "execution_count": 42,
   "metadata": {
    "ExecuteTime": {
     "start_time": "2023-04-14T02:51:02.787357Z",
     "end_time": "2023-04-14T02:51:10.302014Z"
    },
    "id": "e-TBEO6F__mI",
    "outputId": "a2345667-ba6d-4155-c3e7-527273485cd9",
    "colab": {
     "base_uri": "https://localhost:8080/"
    }
   },
   "outputs": [
    {
     "name": "stdout",
     "output_type": "stream",
     "text": [
      "Enter Marks of Student  1 : \n",
      "Congrats ! You have got 3rd Division !!!\n",
      "\n"
     ]
    }
   ],
   "source": [
    "n = int(input(\"Enter total number of students : \"))\n",
    "\n",
    "c = 1\n",
    "while c <= n :\n",
    "    print(\"Enter Marks of Student \", c, \": \")\n",
    "    m1 = int(input(\"Enter Marks 1 : \"))\n",
    "    m2 = int(input(\"Enter Marks 2 : \"))\n",
    "    m3 = int(input(\"Enter Marks 3 : \"))\n",
    "    total = m1 + m2 + m3\n",
    "    average = total/3\n",
    "\n",
    "    if average >= 90 :\n",
    "        print(\"Congrats ! You have got 1st Division !!!\\n\")\n",
    "    elif 70 <= average < 90 :\n",
    "        print(\"Congrats ! You have got 2nd Division !!!\\n\")\n",
    "    else:\n",
    "        print(\"Congrats ! You have got 3rd Division !!!\\n\")\n",
    "    c = c + 1"
   ]
  },
  {
   "cell_type": "code",
   "execution_count": 43,
   "metadata": {
    "id": "Gr1P1jcD__mJ",
    "outputId": "2b307d5f-3ab2-4707-fe0e-5232c16985f8",
    "colab": {
     "base_uri": "https://localhost:8080/"
    },
    "ExecuteTime": {
     "start_time": "2023-04-14T02:51:10.102353Z",
     "end_time": "2023-04-14T02:51:10.303011Z"
    }
   },
   "outputs": [
    {
     "name": "stdout",
     "output_type": "stream",
     "text": [
      "Number of Elements in the list are :  5\n",
      "Sum is :  150\n",
      "Mean of elements is :  30.0\n"
     ]
    }
   ],
   "source": [
    "# Given a list of numbers, find the number of elements in the list and calculate the mean value\n",
    "# using 'for' loop for pre-defined value\n",
    "\n",
    "numlist = [10, 20, 30, 40, 50]\n",
    "\n",
    "counter = 0\n",
    "sum = 0\n",
    "\n",
    "for element in numlist:\n",
    "  counter = counter + 1\n",
    "  sum = sum + element\n",
    "\n",
    "Mean = round(sum/counter, 2)\n",
    "print(\"Number of Elements in the list are : \", counter)\n",
    "print(\"Sum is : \", sum)\n",
    "print (\"Mean of elements is : \", Mean)"
   ]
  },
  {
   "cell_type": "code",
   "source": [
    "# Take input from user and find the number of elements in the list and calculate the mean value\n",
    "# using 'While' loop to take input from user\n",
    "\n",
    "n = int(input(\"You want to find Mean of how many numbers ? : \"))\n",
    "\n",
    "sumofnumlist = 0\n",
    "count = 1\n",
    "while count <= n :\n",
    "  print(\"Enter number\", count)\n",
    "  numlist = int(input())\n",
    "  print(\"You have entered : \", numlist, \" \\n\")\n",
    "  sumofnumlist = sumofnumlist + numlist\n",
    "  count = count + 1\n",
    "\n",
    "Mean = round(sumofnumlist/n, 2)\n",
    "print(\"Find the Mean of numbers below : --> \\nNumber of Elements in the list are : \", n)\n",
    "print(\"Sum is : \", sumofnumlist)\n",
    "print (\"Mean of elements is : \", Mean)"
   ],
   "metadata": {
    "id": "7qZm1Vn3Dk7j",
    "outputId": "e8e8641a-5fb1-4495-d595-d967316b322e",
    "colab": {
     "base_uri": "https://localhost:8080/"
    },
    "ExecuteTime": {
     "start_time": "2023-04-14T03:15:05.352571Z",
     "end_time": "2023-04-14T03:15:07.345569Z"
    }
   },
   "execution_count": 6,
   "outputs": [
    {
     "name": "stdout",
     "output_type": "stream",
     "text": [
      "Enter number 1\n",
      "You have entered :  1  \n",
      "\n",
      "Enter number 2\n",
      "You have entered :  2  \n",
      "\n",
      "Find the Mean of numbers below : --> \n",
      "Number of Elements in the list are :  2\n",
      "Sum is :  3\n",
      "Mean of elements is :  1.5\n"
     ]
    }
   ]
  },
  {
   "cell_type": "code",
   "source": [],
   "metadata": {
    "id": "QhBt-SC-Hh_j",
    "ExecuteTime": {
     "start_time": "2023-04-14T02:51:13.640752Z",
     "end_time": "2023-04-14T02:51:14.066703Z"
    }
   },
   "execution_count": 44,
   "outputs": []
  }
 ],
 "metadata": {
  "kernelspec": {
   "display_name": "Python 3",
   "language": "python",
   "name": "python3"
  },
  "language_info": {
   "codemirror_mode": {
    "name": "ipython",
    "version": 3
   },
   "file_extension": ".py",
   "mimetype": "text/x-python",
   "name": "python",
   "nbconvert_exporter": "python",
   "pygments_lexer": "ipython3",
   "version": "3.11.3"
  },
  "colab": {
   "provenance": []
  }
 },
 "nbformat": 4,
 "nbformat_minor": 0
}
