{
 "cells": [
  {
   "cell_type": "markdown",
   "source": [
    "# 1. LIST COMPREHENSION"
   ],
   "metadata": {
    "collapsed": false
   }
  },
  {
   "cell_type": "code",
   "execution_count": 31,
   "metadata": {
    "collapsed": true,
    "ExecuteTime": {
     "start_time": "2023-04-19T19:26:17.006107Z",
     "end_time": "2023-04-19T19:26:17.068622Z"
    }
   },
   "outputs": [
    {
     "name": "stdout",
     "output_type": "stream",
     "text": [
      "1\n",
      "2\n",
      "3\n"
     ]
    },
    {
     "data": {
      "text/plain": "[1, 4, 9]"
     },
     "execution_count": 31,
     "metadata": {},
     "output_type": "execute_result"
    }
   ],
   "source": [
    "l = [1,2,3]\n",
    "l1 = []\n",
    "\n",
    "for i in l :\n",
    "    print(i)\n",
    "    l1.append(i**2)\n",
    "\n",
    "l1"
   ]
  },
  {
   "cell_type": "code",
   "execution_count": 32,
   "outputs": [
    {
     "name": "stdout",
     "output_type": "stream",
     "text": [
      "1\n",
      "[1]\n",
      "2\n",
      "[2]\n",
      "3\n",
      "[3]\n",
      "4\n",
      "[4]\n",
      "5\n",
      "[5]\n",
      "6\n",
      "[6]\n",
      "7\n",
      "[7]\n",
      "8\n",
      "[8]\n",
      "9\n",
      "[9]\n",
      "10\n",
      "[10]\n",
      "<class 'int'>\n",
      "<class 'list'>\n"
     ]
    }
   ],
   "source": [
    "l = []\n",
    "l1 = []\n",
    "\n",
    "for i in range(1,11) :\n",
    "    print(i)\n",
    "    l = [i]\n",
    "    print(l)\n",
    "\n",
    "print(type(i))\n",
    "print(type(l))"
   ],
   "metadata": {
    "collapsed": false,
    "ExecuteTime": {
     "start_time": "2023-04-19T19:26:17.052987Z",
     "end_time": "2023-04-19T19:26:17.084676Z"
    }
   }
  },
  {
   "cell_type": "markdown",
   "source": [
    "# Square of numbers from 1 to 10 using for loop & list"
   ],
   "metadata": {
    "collapsed": false
   }
  },
  {
   "cell_type": "code",
   "execution_count": 33,
   "outputs": [
    {
     "name": "stdout",
     "output_type": "stream",
     "text": [
      "1\n",
      "2\n",
      "3\n",
      "4\n",
      "5\n",
      "6\n",
      "7\n",
      "8\n",
      "9\n",
      "10\n",
      "[1, 4, 9, 16, 25, 36, 49, 64, 81, 100]\n",
      "Type of i is :  <class 'int'>\n",
      "Type of l is :  <class 'list'>\n"
     ]
    }
   ],
   "source": [
    "l = []\n",
    "\n",
    "for i in range(1,11) :\n",
    "    print(i)\n",
    "    l.append(i**2)\n",
    "\n",
    "print(l)\n",
    "print(\"Type of i is : \", type(i))\n",
    "print(\"Type of l is : \", type(l))"
   ],
   "metadata": {
    "collapsed": false,
    "ExecuteTime": {
     "start_time": "2023-04-19T19:26:17.084676Z",
     "end_time": "2023-04-19T19:26:17.235325Z"
    }
   }
  },
  {
   "cell_type": "markdown",
   "source": [
    "# Square of numbers from 1 to 10 in just a Single line code using list comprehension"
   ],
   "metadata": {
    "collapsed": false
   }
  },
  {
   "cell_type": "code",
   "execution_count": 46,
   "outputs": [
    {
     "data": {
      "text/plain": "[1, 4, 9, 16, 25, 36, 49, 64, 81, 100]"
     },
     "execution_count": 46,
     "metadata": {},
     "output_type": "execute_result"
    }
   ],
   "source": [
    "[i**2 for i in range(1,11)]"
   ],
   "metadata": {
    "collapsed": false,
    "ExecuteTime": {
     "start_time": "2023-04-19T19:36:08.705963Z",
     "end_time": "2023-04-19T19:36:08.768900Z"
    }
   }
  },
  {
   "cell_type": "code",
   "execution_count": 41,
   "outputs": [
    {
     "data": {
      "text/plain": "[1, 4, 9, 16, 2025, 4225, 103041, 144]"
     },
     "execution_count": 41,
     "metadata": {},
     "output_type": "execute_result"
    }
   ],
   "source": [
    "l = [1,2,3,4,45,65,321,12]\n",
    "l1 = []\n",
    "\n",
    "for i in l :\n",
    "    l1.append(i**2)\n",
    "l1"
   ],
   "metadata": {
    "collapsed": false,
    "ExecuteTime": {
     "start_time": "2023-04-19T19:31:55.702180Z",
     "end_time": "2023-04-19T19:31:55.764707Z"
    }
   }
  },
  {
   "cell_type": "markdown",
   "source": [
    "# Using List Comprehension for above code to make the code in just a Single line"
   ],
   "metadata": {
    "collapsed": false
   }
  },
  {
   "cell_type": "code",
   "execution_count": 48,
   "outputs": [
    {
     "data": {
      "text/plain": "[1, 4, 9, 16, 2025, 100, 400]"
     },
     "execution_count": 48,
     "metadata": {},
     "output_type": "execute_result"
    }
   ],
   "source": [
    "''' l = [1,2,3,4,65,321,12]\n",
    "l1 = []\n",
    "\n",
    "for i in l :\n",
    "    print(i)\n",
    "    l1.append(i**2)\n",
    "\n",
    "l1 '''\n",
    "\n",
    "l = [1,2,3,4,45,10,20]\n",
    "[i**2 for i in l]\n",
    "\n",
    "# Output(i**2) that we want to return will be written at very first of the list comprehension.\n",
    "# and then after we write the code logic"
   ],
   "metadata": {
    "collapsed": false,
    "ExecuteTime": {
     "start_time": "2023-04-19T19:39:35.611165Z",
     "end_time": "2023-04-19T19:39:35.674096Z"
    }
   }
  },
  {
   "cell_type": "code",
   "execution_count": 52,
   "outputs": [
    {
     "data": {
      "text/plain": "[2, 4, 10, 20]"
     },
     "execution_count": 52,
     "metadata": {},
     "output_type": "execute_result"
    }
   ],
   "source": [
    "[i for i in l if i % 2 == 0]\n",
    "\n",
    "# Output(i) that we want to return will be written at very first of the list comprehension.\n",
    "# and then after we write the code logic & it's condition"
   ],
   "metadata": {
    "collapsed": false,
    "ExecuteTime": {
     "start_time": "2023-04-19T19:40:45.889075Z",
     "end_time": "2023-04-19T19:40:45.935953Z"
    }
   }
  },
  {
   "cell_type": "code",
   "execution_count": 53,
   "outputs": [
    {
     "data": {
      "text/plain": "[1, 2, 3, 4, 45, 10, 20]"
     },
     "execution_count": 53,
     "metadata": {},
     "output_type": "execute_result"
    }
   ],
   "source": [
    "l"
   ],
   "metadata": {
    "collapsed": false,
    "ExecuteTime": {
     "start_time": "2023-04-19T19:41:13.411425Z",
     "end_time": "2023-04-19T19:41:13.506965Z"
    }
   }
  },
  {
   "cell_type": "markdown",
   "source": [
    "# Convert list in uppercase"
   ],
   "metadata": {
    "collapsed": false
   }
  },
  {
   "cell_type": "code",
   "execution_count": 58,
   "outputs": [],
   "source": [
    "l1 = [\"puru\", \"pwskills\", \"anand\", \"data science masters\"]"
   ],
   "metadata": {
    "collapsed": false,
    "ExecuteTime": {
     "start_time": "2023-04-19T19:42:55.918776Z",
     "end_time": "2023-04-19T19:42:55.943572Z"
    }
   }
  },
  {
   "cell_type": "code",
   "execution_count": 59,
   "outputs": [
    {
     "data": {
      "text/plain": "['PURU', 'PWSKILLS', 'ANAND', 'DATA SCIENCE MASTERS']"
     },
     "execution_count": 59,
     "metadata": {},
     "output_type": "execute_result"
    }
   ],
   "source": [
    "[i.upper() for i in l1]"
   ],
   "metadata": {
    "collapsed": false,
    "ExecuteTime": {
     "start_time": "2023-04-19T19:42:56.325414Z",
     "end_time": "2023-04-19T19:42:56.548695Z"
    }
   }
  },
  {
   "cell_type": "markdown",
   "source": [
    "# 2. TUPLE & DICTIONARY COMPREHENSION"
   ],
   "metadata": {
    "collapsed": false
   }
  },
  {
   "cell_type": "code",
   "execution_count": 60,
   "outputs": [
    {
     "data": {
      "text/plain": "<generator object <genexpr> at 0x00000164F3581620>"
     },
     "execution_count": 60,
     "metadata": {},
     "output_type": "execute_result"
    }
   ],
   "source": [
    "(i**2 for i in l)"
   ],
   "metadata": {
    "collapsed": false,
    "ExecuteTime": {
     "start_time": "2023-04-19T19:44:38.264745Z",
     "end_time": "2023-04-19T19:44:38.370870Z"
    }
   }
  },
  {
   "cell_type": "code",
   "execution_count": 61,
   "outputs": [
    {
     "data": {
      "text/plain": "[1, 4, 9, 16, 2025, 100, 400]"
     },
     "execution_count": 61,
     "metadata": {},
     "output_type": "execute_result"
    }
   ],
   "source": [
    "list(i**2 for i in l)"
   ],
   "metadata": {
    "collapsed": false,
    "ExecuteTime": {
     "start_time": "2023-04-19T19:45:46.450207Z",
     "end_time": "2023-04-19T19:45:46.513167Z"
    }
   }
  },
  {
   "cell_type": "code",
   "execution_count": 62,
   "outputs": [
    {
     "data": {
      "text/plain": "[1, 2, 3, 4, 45, 10, 20]"
     },
     "execution_count": 62,
     "metadata": {},
     "output_type": "execute_result"
    }
   ],
   "source": [
    "l"
   ],
   "metadata": {
    "collapsed": false,
    "ExecuteTime": {
     "start_time": "2023-04-19T19:45:52.332560Z",
     "end_time": "2023-04-19T19:45:52.426824Z"
    }
   }
  },
  {
   "cell_type": "code",
   "execution_count": 63,
   "outputs": [],
   "source": [
    "d = {\"key1\" : 1, \"key2\" : 2, \"key3\" : 3, \"key4\" : 4}"
   ],
   "metadata": {
    "collapsed": false,
    "ExecuteTime": {
     "start_time": "2023-04-19T19:46:54.973174Z",
     "end_time": "2023-04-19T19:46:55.039649Z"
    }
   }
  },
  {
   "cell_type": "code",
   "execution_count": 73,
   "outputs": [
    {
     "data": {
      "text/plain": "{1, 4, 9, 16}"
     },
     "execution_count": 73,
     "metadata": {},
     "output_type": "execute_result"
    }
   ],
   "source": [
    "{i**2 for i in d.values()}"
   ],
   "metadata": {
    "collapsed": false,
    "ExecuteTime": {
     "start_time": "2023-04-19T19:52:46.996572Z",
     "end_time": "2023-04-19T19:52:47.122007Z"
    }
   }
  },
  {
   "cell_type": "code",
   "execution_count": 67,
   "outputs": [
    {
     "data": {
      "text/plain": "dict_values([1, 2, 3, 4])"
     },
     "execution_count": 67,
     "metadata": {},
     "output_type": "execute_result"
    }
   ],
   "source": [
    "d.values()"
   ],
   "metadata": {
    "collapsed": false,
    "ExecuteTime": {
     "start_time": "2023-04-19T19:49:32.196505Z",
     "end_time": "2023-04-19T19:49:32.227775Z"
    }
   }
  },
  {
   "cell_type": "code",
   "execution_count": 74,
   "outputs": [
    {
     "data": {
      "text/plain": "{1, 4, 9, 16}"
     },
     "execution_count": 74,
     "metadata": {},
     "output_type": "execute_result"
    }
   ],
   "source": [
    "{v**2 for v in d.values()}"
   ],
   "metadata": {
    "collapsed": false,
    "ExecuteTime": {
     "start_time": "2023-04-19T19:53:00.455559Z",
     "end_time": "2023-04-19T19:53:00.486805Z"
    }
   }
  },
  {
   "cell_type": "code",
   "execution_count": 75,
   "outputs": [
    {
     "data": {
      "text/plain": "dict_items([('key1', 1), ('key2', 2), ('key3', 3), ('key4', 4)])"
     },
     "execution_count": 75,
     "metadata": {},
     "output_type": "execute_result"
    }
   ],
   "source": [
    "d.items()"
   ],
   "metadata": {
    "collapsed": false,
    "ExecuteTime": {
     "start_time": "2023-04-19T19:53:05.385610Z",
     "end_time": "2023-04-19T19:53:05.416857Z"
    }
   }
  },
  {
   "cell_type": "code",
   "execution_count": 76,
   "outputs": [
    {
     "data": {
      "text/plain": "{'key1': 1, 'key2': 4, 'key3': 9, 'key4': 16}"
     },
     "execution_count": 76,
     "metadata": {},
     "output_type": "execute_result"
    }
   ],
   "source": [
    "{k:v**2 for k, v in d.items()}"
   ],
   "metadata": {
    "collapsed": false,
    "ExecuteTime": {
     "start_time": "2023-04-19T19:53:37.270855Z",
     "end_time": "2023-04-19T19:53:37.330763Z"
    }
   }
  },
  {
   "cell_type": "code",
   "execution_count": 77,
   "outputs": [
    {
     "data": {
      "text/plain": "{1, 4, 9, 16}"
     },
     "execution_count": 77,
     "metadata": {},
     "output_type": "execute_result"
    }
   ],
   "source": [
    "{v**2 for v in d.values()}"
   ],
   "metadata": {
    "collapsed": false,
    "ExecuteTime": {
     "start_time": "2023-04-19T19:53:54.144699Z",
     "end_time": "2023-04-19T19:53:54.285735Z"
    }
   }
  },
  {
   "cell_type": "code",
   "execution_count": 78,
   "outputs": [
    {
     "data": {
      "text/plain": "{'key1': 1, 'key2': 2, 'key3': 3, 'key4': 4}"
     },
     "execution_count": 78,
     "metadata": {},
     "output_type": "execute_result"
    }
   ],
   "source": [
    "d"
   ],
   "metadata": {
    "collapsed": false,
    "ExecuteTime": {
     "start_time": "2023-04-19T19:54:12.106671Z",
     "end_time": "2023-04-19T19:54:12.283139Z"
    }
   }
  },
  {
   "cell_type": "code",
   "execution_count": 80,
   "outputs": [
    {
     "data": {
      "text/plain": "{'key2': 2, 'key3': 3, 'key4': 4}"
     },
     "execution_count": 80,
     "metadata": {},
     "output_type": "execute_result"
    }
   ],
   "source": [
    "{k:v for k, v in d.items() if v > 1}\n",
    "\n",
    "# Output(k:v) that we want to return will be written at very first of the list comprehension.\n",
    "# and then after we write the code logic (for k, v in d.items()) & it's condition (if v > 1)"
   ],
   "metadata": {
    "collapsed": false,
    "ExecuteTime": {
     "start_time": "2023-04-19T19:56:33.722500Z",
     "end_time": "2023-04-19T19:56:33.768780Z"
    }
   }
  },
  {
   "cell_type": "code",
   "execution_count": null,
   "outputs": [],
   "source": [],
   "metadata": {
    "collapsed": false
   }
  }
 ],
 "metadata": {
  "kernelspec": {
   "display_name": "Python 3",
   "language": "python",
   "name": "python3"
  },
  "language_info": {
   "codemirror_mode": {
    "name": "ipython",
    "version": 2
   },
   "file_extension": ".py",
   "mimetype": "text/x-python",
   "name": "python",
   "nbconvert_exporter": "python",
   "pygments_lexer": "ipython2",
   "version": "2.7.6"
  }
 },
 "nbformat": 4,
 "nbformat_minor": 0
}
