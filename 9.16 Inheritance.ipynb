{
 "cells": [
  {
   "cell_type": "markdown",
   "metadata": {
    "collapsed": false
   },
   "source": [
    "# Inheritance in Python"
   ]
  },
  {
   "cell_type": "code",
   "execution_count": 1,
   "metadata": {
    "ExecuteTime": {
     "end_time": "2023-04-26T04:09:15.466910Z",
     "start_time": "2023-04-26T04:09:15.453917Z"
    },
    "collapsed": true
   },
   "outputs": [],
   "source": [
    "# Parent Class\n",
    "\n",
    "class test :\n",
    "\n",
    "    def test_meth(self):\n",
    "        return \"This is my first class\""
   ]
  },
  {
   "cell_type": "code",
   "execution_count": 2,
   "metadata": {
    "ExecuteTime": {
     "end_time": "2023-04-26T04:09:15.528482Z",
     "start_time": "2023-04-26T04:09:15.473912Z"
    },
    "collapsed": false
   },
   "outputs": [],
   "source": [
    "# Child Class\n",
    "\n",
    "class child_test(test) :\n",
    "    pass"
   ]
  },
  {
   "cell_type": "code",
   "execution_count": 3,
   "metadata": {
    "ExecuteTime": {
     "end_time": "2023-04-26T04:09:15.528482Z",
     "start_time": "2023-04-26T04:09:15.506913Z"
    },
    "collapsed": false
   },
   "outputs": [],
   "source": [
    "# Creating Object of child class\n",
    "\n",
    "child_test_object = child_test()"
   ]
  },
  {
   "cell_type": "code",
   "execution_count": 4,
   "metadata": {
    "ExecuteTime": {
     "end_time": "2023-04-26T04:09:15.634017Z",
     "start_time": "2023-04-26T04:09:15.526483Z"
    },
    "collapsed": false
   },
   "outputs": [
    {
     "data": {
      "text/plain": [
       "<__main__.child_test at 0x7fe85e30cc10>"
      ]
     },
     "execution_count": 4,
     "metadata": {},
     "output_type": "execute_result"
    }
   ],
   "source": [
    "child_test_object"
   ]
  },
  {
   "cell_type": "code",
   "execution_count": 5,
   "metadata": {
    "ExecuteTime": {
     "end_time": "2023-04-26T04:09:15.669013Z",
     "start_time": "2023-04-26T04:09:15.572461Z"
    },
    "collapsed": false
   },
   "outputs": [
    {
     "data": {
      "text/plain": [
       "'This is my first class'"
      ]
     },
     "execution_count": 5,
     "metadata": {},
     "output_type": "execute_result"
    }
   ],
   "source": [
    "# Calling function of parent class by using object of child class\n",
    "\n",
    "child_test_object.test_meth()"
   ]
  },
  {
   "cell_type": "code",
   "execution_count": 6,
   "metadata": {
    "ExecuteTime": {
     "end_time": "2023-04-26T04:09:15.671014Z",
     "start_time": "2023-04-26T04:09:15.601464Z"
    },
    "collapsed": false
   },
   "outputs": [],
   "source": [
    "class class1 :\n",
    "\n",
    "    def test_class1(self):\n",
    "        return \"This is a method from class 1\""
   ]
  },
  {
   "cell_type": "code",
   "execution_count": 7,
   "metadata": {
    "ExecuteTime": {
     "end_time": "2023-04-26T04:09:15.672014Z",
     "start_time": "2023-04-26T04:09:15.626017Z"
    },
    "collapsed": false
   },
   "outputs": [],
   "source": [
    "class class2(class1) :\n",
    "\n",
    "    def test_class2(self):\n",
    "        return \"This is a method from class 2\""
   ]
  },
  {
   "cell_type": "code",
   "execution_count": 8,
   "metadata": {
    "ExecuteTime": {
     "end_time": "2023-04-26T04:09:15.771558Z",
     "start_time": "2023-04-26T04:09:15.658020Z"
    },
    "collapsed": false
   },
   "outputs": [],
   "source": [
    "class class3(class2) :\n",
    "    pass"
   ]
  },
  {
   "cell_type": "code",
   "execution_count": 9,
   "metadata": {
    "ExecuteTime": {
     "end_time": "2023-04-26T04:09:15.805560Z",
     "start_time": "2023-04-26T04:09:15.693019Z"
    },
    "collapsed": false
   },
   "outputs": [],
   "source": [
    "obj_class3 = class3()"
   ]
  },
  {
   "cell_type": "code",
   "execution_count": 10,
   "metadata": {
    "ExecuteTime": {
     "end_time": "2023-04-26T04:09:15.806559Z",
     "start_time": "2023-04-26T04:09:15.726561Z"
    },
    "collapsed": false
   },
   "outputs": [
    {
     "data": {
      "text/plain": [
       "'This is a method from class 1'"
      ]
     },
     "execution_count": 10,
     "metadata": {},
     "output_type": "execute_result"
    }
   ],
   "source": [
    "obj_class3.test_class1()"
   ]
  },
  {
   "cell_type": "code",
   "execution_count": 11,
   "metadata": {
    "ExecuteTime": {
     "end_time": "2023-04-26T04:09:15.807562Z",
     "start_time": "2023-04-26T04:09:15.754562Z"
    },
    "collapsed": false
   },
   "outputs": [
    {
     "data": {
      "text/plain": [
       "'This is a method from class 2'"
      ]
     },
     "execution_count": 11,
     "metadata": {},
     "output_type": "execute_result"
    }
   ],
   "source": [
    "obj_class3.test_class2()"
   ]
  },
  {
   "cell_type": "markdown",
   "metadata": {
    "collapsed": false
   },
   "source": [
    "# Multi Level Inheritance"
   ]
  },
  {
   "cell_type": "code",
   "execution_count": 12,
   "metadata": {
    "ExecuteTime": {
     "end_time": "2023-04-26T04:09:15.944702Z",
     "start_time": "2023-04-26T04:09:15.781566Z"
    },
    "collapsed": false
   },
   "outputs": [],
   "source": [
    "# Example of Multi Level Inheritance :\n",
    "\n",
    "class class1 :\n",
    "    def test_class1(self):\n",
    "        return \"This is a method from class 1\"\n",
    "\n",
    "class class2(class1) :\n",
    "    def test_class2(self):\n",
    "        return \"This is a method from class 2\"\n",
    "\n",
    "class class3(class2) :\n",
    "    pass\n",
    "\n",
    "obj_class3 = class3()"
   ]
  },
  {
   "cell_type": "markdown",
   "metadata": {
    "collapsed": false
   },
   "source": [
    "# Multiple Inheritance"
   ]
  },
  {
   "cell_type": "code",
   "execution_count": 13,
   "metadata": {
    "ExecuteTime": {
     "end_time": "2023-04-26T04:09:27.923963Z",
     "start_time": "2023-04-26T04:09:27.869968Z"
    },
    "collapsed": false
   },
   "outputs": [],
   "source": [
    "class class1 :\n",
    "    def test_class1(self):\n",
    "        return \"--> This is a class 1\"\n",
    "\n",
    "class class2 :\n",
    "    def test_class2(self):\n",
    "        return \"--> This is class 2\"\n",
    "\n",
    "class class3(class1, class2):\n",
    "    pass\n",
    "\n",
    "obj_class3 = class3()"
   ]
  },
  {
   "cell_type": "code",
   "execution_count": 14,
   "metadata": {
    "ExecuteTime": {
     "end_time": "2023-04-26T04:09:28.736064Z",
     "start_time": "2023-04-26T04:09:28.686060Z"
    },
    "collapsed": false
   },
   "outputs": [
    {
     "data": {
      "text/plain": [
       "'--> This is class 2'"
      ]
     },
     "execution_count": 14,
     "metadata": {},
     "output_type": "execute_result"
    }
   ],
   "source": [
    "obj_class3.test_class2()"
   ]
  },
  {
   "cell_type": "code",
   "execution_count": 15,
   "metadata": {
    "ExecuteTime": {
     "end_time": "2023-04-26T04:09:39.271193Z",
     "start_time": "2023-04-26T04:09:39.160613Z"
    },
    "collapsed": false
   },
   "outputs": [
    {
     "data": {
      "text/plain": [
       "'--> This is a class 1'"
      ]
     },
     "execution_count": 15,
     "metadata": {},
     "output_type": "execute_result"
    }
   ],
   "source": [
    "obj_class3.test_class1()"
   ]
  },
  {
   "cell_type": "markdown",
   "metadata": {
    "collapsed": false
   },
   "source": [
    "# ---------------------------- END ----------------------------"
   ]
  },
  {
   "cell_type": "code",
   "execution_count": null,
   "metadata": {
    "collapsed": false
   },
   "outputs": [],
   "source": []
  }
 ],
 "metadata": {
  "kernelspec": {
   "display_name": "Python 3",
   "language": "python",
   "name": "python3"
  },
  "language_info": {
   "codemirror_mode": {
    "name": "ipython",
    "version": 3
   },
   "file_extension": ".py",
   "mimetype": "text/x-python",
   "name": "python",
   "nbconvert_exporter": "python",
   "pygments_lexer": "ipython3",
   "version": "3.10.4"
  }
 },
 "nbformat": 4,
 "nbformat_minor": 0
}
