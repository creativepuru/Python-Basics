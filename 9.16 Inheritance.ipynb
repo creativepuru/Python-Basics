{
 "cells": [
  {
   "cell_type": "markdown",
   "metadata": {
    "collapsed": false
   },
   "source": [
    "# Inheritance in Python"
   ]
  },
  {
   "cell_type": "code",
   "execution_count": 1,
   "metadata": {
    "collapsed": true,
    "ExecuteTime": {
     "end_time": "2023-05-08T14:16:30.275877500Z",
     "start_time": "2023-05-08T14:16:30.239874Z"
    }
   },
   "outputs": [],
   "source": [
    "# Parent Class\n",
    "\n",
    "class test :\n",
    "\n",
    "    def test_meth(self):\n",
    "        return \"This is my first class\""
   ]
  },
  {
   "cell_type": "code",
   "execution_count": 2,
   "metadata": {
    "collapsed": false,
    "ExecuteTime": {
     "end_time": "2023-05-08T14:16:30.373878200Z",
     "start_time": "2023-05-08T14:16:30.279877500Z"
    }
   },
   "outputs": [],
   "source": [
    "# Child Class\n",
    "\n",
    "class child_test(test) :\n",
    "    pass"
   ]
  },
  {
   "cell_type": "code",
   "execution_count": 3,
   "metadata": {
    "collapsed": false,
    "ExecuteTime": {
     "end_time": "2023-05-08T14:16:30.373878200Z",
     "start_time": "2023-05-08T14:16:30.303876500Z"
    }
   },
   "outputs": [],
   "source": [
    "# Creating Object of child class\n",
    "\n",
    "child_test_object = child_test()"
   ]
  },
  {
   "cell_type": "code",
   "execution_count": 4,
   "metadata": {
    "collapsed": false,
    "ExecuteTime": {
     "end_time": "2023-05-08T14:16:30.411876100Z",
     "start_time": "2023-05-08T14:16:30.336875Z"
    }
   },
   "outputs": [
    {
     "data": {
      "text/plain": "<__main__.child_test at 0x26c87c0edd0>"
     },
     "execution_count": 4,
     "metadata": {},
     "output_type": "execute_result"
    }
   ],
   "source": [
    "child_test_object"
   ]
  },
  {
   "cell_type": "code",
   "execution_count": 5,
   "metadata": {
    "collapsed": false,
    "ExecuteTime": {
     "end_time": "2023-05-08T14:16:30.509813200Z",
     "start_time": "2023-05-08T14:16:30.384884800Z"
    }
   },
   "outputs": [
    {
     "data": {
      "text/plain": "'This is my first class'"
     },
     "execution_count": 5,
     "metadata": {},
     "output_type": "execute_result"
    }
   ],
   "source": [
    "# Calling function of parent class by using object of child class\n",
    "\n",
    "child_test_object.test_meth()"
   ]
  },
  {
   "cell_type": "code",
   "execution_count": 6,
   "metadata": {
    "collapsed": false,
    "ExecuteTime": {
     "end_time": "2023-05-08T14:16:30.645811700Z",
     "start_time": "2023-05-08T14:16:30.448877300Z"
    }
   },
   "outputs": [],
   "source": [
    "class class1 :\n",
    "\n",
    "    def test_class1(self):\n",
    "        return \"This is a method from class 1\""
   ]
  },
  {
   "cell_type": "code",
   "execution_count": 7,
   "metadata": {
    "collapsed": false,
    "ExecuteTime": {
     "end_time": "2023-05-08T14:16:30.669808500Z",
     "start_time": "2023-05-08T14:16:30.555810900Z"
    }
   },
   "outputs": [],
   "source": [
    "class class2(class1) :\n",
    "\n",
    "    def test_class2(self):\n",
    "        return \"This is a method from class 2\""
   ]
  },
  {
   "cell_type": "code",
   "execution_count": 8,
   "metadata": {
    "collapsed": false,
    "ExecuteTime": {
     "end_time": "2023-05-08T14:16:30.671818400Z",
     "start_time": "2023-05-08T14:16:30.592815700Z"
    }
   },
   "outputs": [],
   "source": [
    "class class3(class2) :\n",
    "    pass"
   ]
  },
  {
   "cell_type": "code",
   "execution_count": 9,
   "metadata": {
    "collapsed": false,
    "ExecuteTime": {
     "end_time": "2023-05-08T14:16:30.671818400Z",
     "start_time": "2023-05-08T14:16:30.646808500Z"
    }
   },
   "outputs": [],
   "source": [
    "obj_class3 = class3()"
   ]
  },
  {
   "cell_type": "code",
   "execution_count": 10,
   "metadata": {
    "collapsed": false,
    "ExecuteTime": {
     "end_time": "2023-05-08T14:16:30.735808100Z",
     "start_time": "2023-05-08T14:16:30.658810800Z"
    }
   },
   "outputs": [
    {
     "data": {
      "text/plain": "'This is a method from class 1'"
     },
     "execution_count": 10,
     "metadata": {},
     "output_type": "execute_result"
    }
   ],
   "source": [
    "obj_class3.test_class1()"
   ]
  },
  {
   "cell_type": "code",
   "execution_count": 11,
   "metadata": {
    "collapsed": false,
    "ExecuteTime": {
     "end_time": "2023-05-08T14:16:30.736827Z",
     "start_time": "2023-05-08T14:16:30.689811200Z"
    }
   },
   "outputs": [
    {
     "data": {
      "text/plain": "'This is a method from class 2'"
     },
     "execution_count": 11,
     "metadata": {},
     "output_type": "execute_result"
    }
   ],
   "source": [
    "obj_class3.test_class2()"
   ]
  },
  {
   "cell_type": "markdown",
   "metadata": {
    "collapsed": false
   },
   "source": [
    "# Multi Level Inheritance"
   ]
  },
  {
   "cell_type": "code",
   "execution_count": 12,
   "metadata": {
    "collapsed": false,
    "ExecuteTime": {
     "end_time": "2023-05-08T14:16:30.757826600Z",
     "start_time": "2023-05-08T14:16:30.720812300Z"
    }
   },
   "outputs": [],
   "source": [
    "# Example of Multi Level Inheritance :\n",
    "\n",
    "class class1 :\n",
    "    def test_class1(self):\n",
    "        return \"This is a method from class 1\"\n",
    "\n",
    "class class2(class1) :\n",
    "    def test_class2(self):\n",
    "        return \"This is a method from class 2\"\n",
    "\n",
    "class class3(class2) :\n",
    "    pass\n",
    "\n",
    "obj_class3 = class3()"
   ]
  },
  {
   "cell_type": "markdown",
   "metadata": {
    "collapsed": false
   },
   "source": [
    "# Multiple Inheritance"
   ]
  },
  {
   "cell_type": "code",
   "execution_count": 13,
   "metadata": {
    "collapsed": false,
    "ExecuteTime": {
     "end_time": "2023-05-08T14:16:30.872560100Z",
     "start_time": "2023-05-08T14:16:30.753813300Z"
    }
   },
   "outputs": [],
   "source": [
    "class class1 :\n",
    "    def test_class1(self):\n",
    "        return \"--> This is a class 1\"\n",
    "\n",
    "class class2 :\n",
    "    def test_class2(self):\n",
    "        return \"--> This is class 2\"\n",
    "\n",
    "class class3(class1, class2):\n",
    "    pass\n",
    "\n",
    "obj_class3 = class3()"
   ]
  },
  {
   "cell_type": "code",
   "execution_count": 14,
   "metadata": {
    "collapsed": false,
    "ExecuteTime": {
     "end_time": "2023-05-08T14:16:30.931744800Z",
     "start_time": "2023-05-08T14:16:30.817939800Z"
    }
   },
   "outputs": [
    {
     "data": {
      "text/plain": "'--> This is class 2'"
     },
     "execution_count": 14,
     "metadata": {},
     "output_type": "execute_result"
    }
   ],
   "source": [
    "obj_class3.test_class2()"
   ]
  },
  {
   "cell_type": "code",
   "execution_count": 15,
   "metadata": {
    "collapsed": false,
    "ExecuteTime": {
     "end_time": "2023-05-08T14:16:31.090050Z",
     "start_time": "2023-05-08T14:16:30.846909500Z"
    }
   },
   "outputs": [
    {
     "data": {
      "text/plain": "'--> This is a class 1'"
     },
     "execution_count": 15,
     "metadata": {},
     "output_type": "execute_result"
    }
   ],
   "source": [
    "obj_class3.test_class1()"
   ]
  },
  {
   "cell_type": "markdown",
   "metadata": {
    "collapsed": false
   },
   "source": [
    "# ---------------------------- END ----------------------------"
   ]
  },
  {
   "cell_type": "code",
   "execution_count": 15,
   "metadata": {
    "collapsed": false,
    "ExecuteTime": {
     "end_time": "2023-05-08T14:16:31.092050800Z",
     "start_time": "2023-05-08T14:16:30.907748Z"
    }
   },
   "outputs": [],
   "source": []
  }
 ],
 "metadata": {
  "kernelspec": {
   "display_name": "Python 3",
   "language": "python",
   "name": "python3"
  },
  "language_info": {
   "codemirror_mode": {
    "name": "ipython",
    "version": 3
   },
   "file_extension": ".py",
   "mimetype": "text/x-python",
   "name": "python",
   "nbconvert_exporter": "python",
   "pygments_lexer": "ipython3",
   "version": "3.10.4"
  }
 },
 "nbformat": 4,
 "nbformat_minor": 0
}
