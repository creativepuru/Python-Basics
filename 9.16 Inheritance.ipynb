{
 "cells": [
  {
   "cell_type": "markdown",
   "metadata": {
    "collapsed": false
   },
   "source": [
    "# Inheritance in Python"
   ]
  },
  {
   "cell_type": "code",
   "execution_count": 16,
   "metadata": {
    "collapsed": true,
    "ExecuteTime": {
     "end_time": "2023-05-08T14:15:54.600998200Z",
     "start_time": "2023-05-08T14:15:54.301988500Z"
    }
   },
   "outputs": [],
   "source": [
    "# Parent Class\n",
    "\n",
    "class test :\n",
    "\n",
    "    def test_meth(self):\n",
    "        return \"This is my first class\""
   ]
  },
  {
   "cell_type": "code",
   "execution_count": 17,
   "metadata": {
    "collapsed": false,
    "ExecuteTime": {
     "end_time": "2023-05-08T14:15:54.637987300Z",
     "start_time": "2023-05-08T14:15:54.345993200Z"
    }
   },
   "outputs": [],
   "source": [
    "# Child Class\n",
    "\n",
    "class child_test(test) :\n",
    "    pass"
   ]
  },
  {
   "cell_type": "code",
   "execution_count": 18,
   "metadata": {
    "collapsed": false,
    "ExecuteTime": {
     "end_time": "2023-05-08T14:15:54.638986300Z",
     "start_time": "2023-05-08T14:15:54.396985500Z"
    }
   },
   "outputs": [],
   "source": [
    "# Creating Object of child class\n",
    "\n",
    "child_test_object = child_test()"
   ]
  },
  {
   "cell_type": "code",
   "execution_count": 19,
   "metadata": {
    "collapsed": false,
    "ExecuteTime": {
     "end_time": "2023-05-08T14:15:54.697987300Z",
     "start_time": "2023-05-08T14:15:54.612003600Z"
    }
   },
   "outputs": [
    {
     "data": {
      "text/plain": "<__main__.child_test at 0x273f921f700>"
     },
     "execution_count": 19,
     "metadata": {},
     "output_type": "execute_result"
    }
   ],
   "source": [
    "child_test_object"
   ]
  },
  {
   "cell_type": "code",
   "execution_count": 20,
   "metadata": {
    "collapsed": false,
    "ExecuteTime": {
     "end_time": "2023-05-08T14:15:54.860986500Z",
     "start_time": "2023-05-08T14:15:54.668986800Z"
    }
   },
   "outputs": [
    {
     "data": {
      "text/plain": "'This is my first class'"
     },
     "execution_count": 20,
     "metadata": {},
     "output_type": "execute_result"
    }
   ],
   "source": [
    "# Calling function of parent class by using object of child class\n",
    "\n",
    "child_test_object.test_meth()"
   ]
  },
  {
   "cell_type": "code",
   "execution_count": 21,
   "metadata": {
    "collapsed": false,
    "ExecuteTime": {
     "end_time": "2023-05-08T14:15:54.957984300Z",
     "start_time": "2023-05-08T14:15:54.865987800Z"
    }
   },
   "outputs": [],
   "source": [
    "class class1 :\n",
    "\n",
    "    def test_class1(self):\n",
    "        return \"This is a method from class 1\""
   ]
  },
  {
   "cell_type": "code",
   "execution_count": 22,
   "metadata": {
    "collapsed": false,
    "ExecuteTime": {
     "end_time": "2023-05-08T14:15:55.076988500Z",
     "start_time": "2023-05-08T14:15:54.965983600Z"
    }
   },
   "outputs": [],
   "source": [
    "class class2(class1) :\n",
    "\n",
    "    def test_class2(self):\n",
    "        return \"This is a method from class 2\""
   ]
  },
  {
   "cell_type": "code",
   "execution_count": 23,
   "metadata": {
    "collapsed": false,
    "ExecuteTime": {
     "end_time": "2023-05-08T14:15:55.091983300Z",
     "start_time": "2023-05-08T14:15:55.079986100Z"
    }
   },
   "outputs": [],
   "source": [
    "class class3(class2) :\n",
    "    pass"
   ]
  },
  {
   "cell_type": "code",
   "execution_count": 24,
   "metadata": {
    "collapsed": false,
    "ExecuteTime": {
     "end_time": "2023-05-08T14:15:55.128981700Z",
     "start_time": "2023-05-08T14:15:55.094987900Z"
    }
   },
   "outputs": [],
   "source": [
    "obj_class3 = class3()"
   ]
  },
  {
   "cell_type": "code",
   "execution_count": 25,
   "metadata": {
    "collapsed": false,
    "ExecuteTime": {
     "end_time": "2023-05-08T14:15:55.206985500Z",
     "start_time": "2023-05-08T14:15:55.124987800Z"
    }
   },
   "outputs": [
    {
     "data": {
      "text/plain": "'This is a method from class 1'"
     },
     "execution_count": 25,
     "metadata": {},
     "output_type": "execute_result"
    }
   ],
   "source": [
    "obj_class3.test_class1()"
   ]
  },
  {
   "cell_type": "code",
   "execution_count": 26,
   "metadata": {
    "collapsed": false,
    "ExecuteTime": {
     "end_time": "2023-05-08T14:15:55.332982100Z",
     "start_time": "2023-05-08T14:15:55.175983700Z"
    }
   },
   "outputs": [
    {
     "data": {
      "text/plain": "'This is a method from class 2'"
     },
     "execution_count": 26,
     "metadata": {},
     "output_type": "execute_result"
    }
   ],
   "source": [
    "obj_class3.test_class2()"
   ]
  },
  {
   "cell_type": "markdown",
   "metadata": {
    "collapsed": false
   },
   "source": [
    "# Multi Level Inheritance"
   ]
  },
  {
   "cell_type": "code",
   "execution_count": 27,
   "metadata": {
    "collapsed": false,
    "ExecuteTime": {
     "end_time": "2023-05-08T14:15:55.333987700Z",
     "start_time": "2023-05-08T14:15:55.249982600Z"
    }
   },
   "outputs": [],
   "source": [
    "# Example of Multi Level Inheritance :\n",
    "\n",
    "class class1 :\n",
    "    def test_class1(self):\n",
    "        return \"This is a method from class 1\"\n",
    "\n",
    "class class2(class1) :\n",
    "    def test_class2(self):\n",
    "        return \"This is a method from class 2\"\n",
    "\n",
    "class class3(class2) :\n",
    "    pass\n",
    "\n",
    "obj_class3 = class3()"
   ]
  },
  {
   "cell_type": "markdown",
   "metadata": {
    "collapsed": false
   },
   "source": [
    "# Multiple Inheritance"
   ]
  },
  {
   "cell_type": "code",
   "execution_count": 28,
   "metadata": {
    "collapsed": false,
    "ExecuteTime": {
     "end_time": "2023-05-08T14:15:55.459981600Z",
     "start_time": "2023-05-08T14:15:55.298984800Z"
    }
   },
   "outputs": [],
   "source": [
    "class class1 :\n",
    "    def test_class1(self):\n",
    "        return \"--> This is a class 1\"\n",
    "\n",
    "class class2 :\n",
    "    def test_class2(self):\n",
    "        return \"--> This is class 2\"\n",
    "\n",
    "class class3(class1, class2):\n",
    "    pass\n",
    "\n",
    "obj_class3 = class3()"
   ]
  },
  {
   "cell_type": "code",
   "execution_count": 29,
   "metadata": {
    "collapsed": false,
    "ExecuteTime": {
     "end_time": "2023-05-08T14:15:55.467983900Z",
     "start_time": "2023-05-08T14:15:55.337989900Z"
    }
   },
   "outputs": [
    {
     "data": {
      "text/plain": "'--> This is class 2'"
     },
     "execution_count": 29,
     "metadata": {},
     "output_type": "execute_result"
    }
   ],
   "source": [
    "obj_class3.test_class2()"
   ]
  },
  {
   "cell_type": "code",
   "execution_count": 30,
   "metadata": {
    "collapsed": false,
    "ExecuteTime": {
     "end_time": "2023-05-08T14:15:55.469982700Z",
     "start_time": "2023-05-08T14:15:55.403985400Z"
    }
   },
   "outputs": [
    {
     "data": {
      "text/plain": "'--> This is a class 1'"
     },
     "execution_count": 30,
     "metadata": {},
     "output_type": "execute_result"
    }
   ],
   "source": [
    "obj_class3.test_class1()"
   ]
  },
  {
   "cell_type": "markdown",
   "metadata": {
    "collapsed": false
   },
   "source": [
    "# ---------------------------- END ----------------------------"
   ]
  },
  {
   "cell_type": "code",
   "execution_count": 30,
   "metadata": {
    "collapsed": false,
    "ExecuteTime": {
     "end_time": "2023-05-08T14:15:55.470989700Z",
     "start_time": "2023-05-08T14:15:55.448985200Z"
    }
   },
   "outputs": [],
   "source": []
  }
 ],
 "metadata": {
  "kernelspec": {
   "display_name": "Python 3",
   "language": "python",
   "name": "python3"
  },
  "language_info": {
   "codemirror_mode": {
    "name": "ipython",
    "version": 3
   },
   "file_extension": ".py",
   "mimetype": "text/x-python",
   "name": "python",
   "nbconvert_exporter": "python",
   "pygments_lexer": "ipython3",
   "version": "3.10.4"
  }
 },
 "nbformat": 4,
 "nbformat_minor": 0
}
