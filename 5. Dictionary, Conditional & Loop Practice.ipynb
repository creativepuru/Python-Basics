{
 "cells": [
  {
   "cell_type": "code",
   "execution_count": 1,
   "metadata": {
    "collapsed": true,
    "ExecuteTime": {
     "start_time": "2023-04-16T01:09:33.538723Z",
     "end_time": "2023-04-16T01:09:46.651725Z"
    }
   },
   "outputs": [],
   "source": [
    "d = {}"
   ]
  },
  {
   "cell_type": "code",
   "execution_count": 2,
   "outputs": [
    {
     "data": {
      "text/plain": "dict"
     },
     "execution_count": 2,
     "metadata": {},
     "output_type": "execute_result"
    }
   ],
   "source": [
    "type(d)"
   ],
   "metadata": {
    "collapsed": false,
    "ExecuteTime": {
     "start_time": "2023-04-16T01:09:33.576729Z",
     "end_time": "2023-04-16T01:09:46.722722Z"
    }
   }
  },
  {
   "cell_type": "code",
   "execution_count": 3,
   "outputs": [],
   "source": [
    "d1 = {'key' : \"puru\"}"
   ],
   "metadata": {
    "collapsed": false,
    "ExecuteTime": {
     "start_time": "2023-04-16T01:09:33.944723Z",
     "end_time": "2023-04-16T01:09:46.722722Z"
    }
   }
  },
  {
   "cell_type": "code",
   "execution_count": 4,
   "outputs": [
    {
     "data": {
      "text/plain": "{'key': 'puru'}"
     },
     "execution_count": 4,
     "metadata": {},
     "output_type": "execute_result"
    }
   ],
   "source": [
    "d1"
   ],
   "metadata": {
    "collapsed": false,
    "ExecuteTime": {
     "start_time": "2023-04-16T01:09:34.119725Z",
     "end_time": "2023-04-16T01:09:46.818730Z"
    }
   }
  },
  {
   "cell_type": "code",
   "execution_count": 5,
   "outputs": [],
   "source": [
    "d2 = {'name' : \"Purushottam\", 'email' : \"abc@gmail.com\", 'number' : '12345'}"
   ],
   "metadata": {
    "collapsed": false,
    "ExecuteTime": {
     "start_time": "2023-04-16T01:09:34.392725Z",
     "end_time": "2023-04-16T01:09:46.828721Z"
    }
   }
  },
  {
   "cell_type": "code",
   "execution_count": 6,
   "outputs": [
    {
     "data": {
      "text/plain": "{'name': 'Purushottam', 'email': 'abc@gmail.com', 'number': '12345'}"
     },
     "execution_count": 6,
     "metadata": {},
     "output_type": "execute_result"
    }
   ],
   "source": [
    "d2"
   ],
   "metadata": {
    "collapsed": false,
    "ExecuteTime": {
     "start_time": "2023-04-16T01:09:34.569725Z",
     "end_time": "2023-04-16T01:09:46.831722Z"
    }
   }
  },
  {
   "cell_type": "code",
   "execution_count": 7,
   "outputs": [
    {
     "data": {
      "text/plain": "dict"
     },
     "execution_count": 7,
     "metadata": {},
     "output_type": "execute_result"
    }
   ],
   "source": [
    "type(d2)"
   ],
   "metadata": {
    "collapsed": false,
    "ExecuteTime": {
     "start_time": "2023-04-16T01:09:34.962735Z",
     "end_time": "2023-04-16T01:09:46.838724Z"
    }
   }
  },
  {
   "cell_type": "code",
   "execution_count": 8,
   "outputs": [
    {
     "data": {
      "text/plain": "dict"
     },
     "execution_count": 8,
     "metadata": {},
     "output_type": "execute_result"
    }
   ],
   "source": [
    "type(d1)"
   ],
   "metadata": {
    "collapsed": false,
    "ExecuteTime": {
     "start_time": "2023-04-16T01:09:34.962735Z",
     "end_time": "2023-04-16T01:09:46.840726Z"
    }
   }
  },
  {
   "cell_type": "code",
   "execution_count": 9,
   "outputs": [],
   "source": [
    "d3 = {123 : 'puru'}"
   ],
   "metadata": {
    "collapsed": false,
    "ExecuteTime": {
     "start_time": "2023-04-16T01:09:34.962735Z",
     "end_time": "2023-04-16T01:09:46.841729Z"
    }
   }
  },
  {
   "cell_type": "code",
   "execution_count": 10,
   "outputs": [
    {
     "data": {
      "text/plain": "{123: 'puru'}"
     },
     "execution_count": 10,
     "metadata": {},
     "output_type": "execute_result"
    }
   ],
   "source": [
    "d3"
   ],
   "metadata": {
    "collapsed": false,
    "ExecuteTime": {
     "start_time": "2023-04-16T01:09:34.963732Z",
     "end_time": "2023-04-16T01:09:46.842725Z"
    }
   }
  },
  {
   "cell_type": "code",
   "execution_count": 11,
   "outputs": [
    {
     "data": {
      "text/plain": "\" d4 = {123 : 'puru', @abc : 'abc'}\\nERROR :\\nCell In[23], line 1\\nd4 = {123 : 'puru', @abc : 'abc'}\\n^\\nSyntaxError: invalid syntax\\n\\nWe can not use @ or any symbol as a key value \""
     },
     "execution_count": 11,
     "metadata": {},
     "output_type": "execute_result"
    }
   ],
   "source": [
    "''' d4 = {123 : 'puru', @abc : 'abc'}\n",
    "ERROR :\n",
    "Cell In[23], line 1\n",
    "d4 = {123 : 'puru', @abc : 'abc'}\n",
    "^\n",
    "SyntaxError: invalid syntax\n",
    "\n",
    "We can not use @ or any symbol as a key value '''"
   ],
   "metadata": {
    "collapsed": false,
    "ExecuteTime": {
     "start_time": "2023-04-16T01:09:35.047723Z",
     "end_time": "2023-04-16T01:09:46.853728Z"
    }
   }
  },
  {
   "cell_type": "code",
   "execution_count": 12,
   "outputs": [],
   "source": [
    "d3 = {'name': 'puru', '@abc' : 'abc', 123 : 'xyz', True : 'abc', False : 1234}"
   ],
   "metadata": {
    "collapsed": false,
    "ExecuteTime": {
     "start_time": "2023-04-16T01:09:35.159725Z",
     "end_time": "2023-04-16T01:09:46.853728Z"
    }
   }
  },
  {
   "cell_type": "code",
   "execution_count": 13,
   "outputs": [
    {
     "data": {
      "text/plain": "{'name': 'puru', '@abc': 'abc', 123: 'xyz', True: 'abc', False: 1234}"
     },
     "execution_count": 13,
     "metadata": {},
     "output_type": "execute_result"
    }
   ],
   "source": [
    "d3"
   ],
   "metadata": {
    "collapsed": false,
    "ExecuteTime": {
     "start_time": "2023-04-16T01:09:35.405722Z",
     "end_time": "2023-04-16T01:09:46.867722Z"
    }
   }
  },
  {
   "cell_type": "code",
   "execution_count": 14,
   "outputs": [
    {
     "data": {
      "text/plain": "'puru'"
     },
     "execution_count": 14,
     "metadata": {},
     "output_type": "execute_result"
    }
   ],
   "source": [
    "d3['name']"
   ],
   "metadata": {
    "collapsed": false,
    "ExecuteTime": {
     "start_time": "2023-04-16T01:09:35.443720Z",
     "end_time": "2023-04-16T01:09:46.868729Z"
    }
   }
  },
  {
   "cell_type": "code",
   "execution_count": 15,
   "outputs": [
    {
     "data": {
      "text/plain": "'xyz'"
     },
     "execution_count": 15,
     "metadata": {},
     "output_type": "execute_result"
    }
   ],
   "source": [
    "d3[123]"
   ],
   "metadata": {
    "collapsed": false,
    "ExecuteTime": {
     "start_time": "2023-04-16T01:09:35.477722Z",
     "end_time": "2023-04-16T01:09:46.870730Z"
    }
   }
  },
  {
   "cell_type": "code",
   "execution_count": 16,
   "outputs": [
    {
     "data": {
      "text/plain": "'abc'"
     },
     "execution_count": 16,
     "metadata": {},
     "output_type": "execute_result"
    }
   ],
   "source": [
    "d3[True]"
   ],
   "metadata": {
    "collapsed": false,
    "ExecuteTime": {
     "start_time": "2023-04-16T01:09:35.643723Z",
     "end_time": "2023-04-16T01:09:46.872734Z"
    }
   }
  },
  {
   "cell_type": "code",
   "execution_count": 17,
   "outputs": [
    {
     "data": {
      "text/plain": "1234"
     },
     "execution_count": 17,
     "metadata": {},
     "output_type": "execute_result"
    }
   ],
   "source": [
    "d3[False]"
   ],
   "metadata": {
    "collapsed": false,
    "ExecuteTime": {
     "start_time": "2023-04-16T01:09:35.775727Z",
     "end_time": "2023-04-16T01:09:46.874724Z"
    }
   }
  },
  {
   "cell_type": "code",
   "execution_count": 18,
   "outputs": [
    {
     "data": {
      "text/plain": "'abc'"
     },
     "execution_count": 18,
     "metadata": {},
     "output_type": "execute_result"
    }
   ],
   "source": [
    "d3['@abc']"
   ],
   "metadata": {
    "collapsed": false,
    "ExecuteTime": {
     "start_time": "2023-04-16T01:09:36.058721Z",
     "end_time": "2023-04-16T01:09:46.875723Z"
    }
   }
  },
  {
   "cell_type": "code",
   "execution_count": 19,
   "outputs": [
    {
     "data": {
      "text/plain": "'abc'"
     },
     "execution_count": 19,
     "metadata": {},
     "output_type": "execute_result"
    }
   ],
   "source": [
    "d3[1]"
   ],
   "metadata": {
    "collapsed": false,
    "ExecuteTime": {
     "start_time": "2023-04-16T01:09:36.097730Z",
     "end_time": "2023-04-16T01:09:46.876721Z"
    }
   }
  },
  {
   "cell_type": "code",
   "execution_count": 20,
   "outputs": [
    {
     "data": {
      "text/plain": "{'name': 'puru', '@abc': 'abc', 123: 'xyz', True: 'abc', False: 1234}"
     },
     "execution_count": 20,
     "metadata": {},
     "output_type": "execute_result"
    }
   ],
   "source": [
    "d3"
   ],
   "metadata": {
    "collapsed": false,
    "ExecuteTime": {
     "start_time": "2023-04-16T01:09:36.177721Z",
     "end_time": "2023-04-16T01:09:46.877725Z"
    }
   }
  },
  {
   "cell_type": "code",
   "execution_count": 21,
   "outputs": [
    {
     "data": {
      "text/plain": "1234"
     },
     "execution_count": 21,
     "metadata": {},
     "output_type": "execute_result"
    }
   ],
   "source": [
    "d3[0]"
   ],
   "metadata": {
    "collapsed": false,
    "ExecuteTime": {
     "start_time": "2023-04-16T01:09:36.720725Z",
     "end_time": "2023-04-16T01:09:46.883724Z"
    }
   }
  },
  {
   "cell_type": "code",
   "execution_count": 22,
   "outputs": [],
   "source": [
    "d4 = {'name' : 'puru', 'mail_id' : 'abc@gmail.com', 'name' : 'purushottam'}"
   ],
   "metadata": {
    "collapsed": false,
    "ExecuteTime": {
     "start_time": "2023-04-16T01:09:37.059722Z",
     "end_time": "2023-04-16T01:09:46.886723Z"
    }
   }
  },
  {
   "cell_type": "markdown",
   "source": [
    "KEY should be unique.\n",
    "If we duplicate the value of KEY then, it overwrites with the 2nd or latest value provided\n",
    "\n",
    "'name' : 'puru' & 'name' : 'purushottam'\n",
    "Here 'name' is KEY and 'puru' & 'purushottam' are VALUES"
   ],
   "metadata": {
    "collapsed": false
   }
  },
  {
   "cell_type": "code",
   "execution_count": 23,
   "outputs": [
    {
     "data": {
      "text/plain": "'purushottam'"
     },
     "execution_count": 23,
     "metadata": {},
     "output_type": "execute_result"
    }
   ],
   "source": [
    "d4['name']"
   ],
   "metadata": {
    "collapsed": false,
    "ExecuteTime": {
     "start_time": "2023-04-16T01:09:37.614723Z",
     "end_time": "2023-04-16T01:09:46.887721Z"
    }
   }
  },
  {
   "cell_type": "code",
   "execution_count": 24,
   "outputs": [],
   "source": [
    "d4 = {'name1' : 'puru', 'mail_id' : 'abc@gmail.com', 'name2' : 'purushottam'}"
   ],
   "metadata": {
    "collapsed": false,
    "ExecuteTime": {
     "start_time": "2023-04-16T01:09:38.106726Z",
     "end_time": "2023-04-16T01:09:46.890727Z"
    }
   }
  },
  {
   "cell_type": "code",
   "execution_count": 25,
   "outputs": [
    {
     "data": {
      "text/plain": "'puru'"
     },
     "execution_count": 25,
     "metadata": {},
     "output_type": "execute_result"
    }
   ],
   "source": [
    "d4['name1']"
   ],
   "metadata": {
    "collapsed": false,
    "ExecuteTime": {
     "start_time": "2023-04-16T01:09:43.268726Z",
     "end_time": "2023-04-16T01:09:46.891727Z"
    }
   }
  },
  {
   "cell_type": "code",
   "execution_count": 26,
   "outputs": [
    {
     "data": {
      "text/plain": "'purushottam'"
     },
     "execution_count": 26,
     "metadata": {},
     "output_type": "execute_result"
    }
   ],
   "source": [
    "d4['name2']"
   ],
   "metadata": {
    "collapsed": false,
    "ExecuteTime": {
     "start_time": "2023-04-16T01:09:43.268726Z",
     "end_time": "2023-04-16T01:09:46.893726Z"
    }
   }
  },
  {
   "cell_type": "code",
   "execution_count": 27,
   "outputs": [],
   "source": [
    "d5 = {'company' : 'pwskills', 'courses' : ['data science', 'web dev', 'java with dsa system design']}"
   ],
   "metadata": {
    "collapsed": false,
    "ExecuteTime": {
     "start_time": "2023-04-16T01:09:43.268726Z",
     "end_time": "2023-04-16T01:09:46.894724Z"
    }
   }
  },
  {
   "cell_type": "code",
   "execution_count": 28,
   "outputs": [
    {
     "data": {
      "text/plain": "{'company': 'pwskills',\n 'courses': ['data science', 'web dev', 'java with dsa system design']}"
     },
     "execution_count": 28,
     "metadata": {},
     "output_type": "execute_result"
    }
   ],
   "source": [
    "d5"
   ],
   "metadata": {
    "collapsed": false,
    "ExecuteTime": {
     "start_time": "2023-04-16T01:09:43.353723Z",
     "end_time": "2023-04-16T01:09:46.895721Z"
    }
   }
  },
  {
   "cell_type": "code",
   "execution_count": 29,
   "outputs": [
    {
     "data": {
      "text/plain": "['data science', 'web dev', 'java with dsa system design']"
     },
     "execution_count": 29,
     "metadata": {},
     "output_type": "execute_result"
    }
   ],
   "source": [
    "d5['courses']"
   ],
   "metadata": {
    "collapsed": false,
    "ExecuteTime": {
     "start_time": "2023-04-16T01:09:43.353723Z",
     "end_time": "2023-04-16T01:09:46.937726Z"
    }
   }
  },
  {
   "cell_type": "code",
   "execution_count": 30,
   "outputs": [
    {
     "data": {
      "text/plain": "'data science'"
     },
     "execution_count": 30,
     "metadata": {},
     "output_type": "execute_result"
    }
   ],
   "source": [
    "d5['courses'][0]"
   ],
   "metadata": {
    "collapsed": false,
    "ExecuteTime": {
     "start_time": "2023-04-16T01:09:43.356727Z",
     "end_time": "2023-04-16T01:09:46.938727Z"
    }
   }
  },
  {
   "cell_type": "code",
   "execution_count": 31,
   "outputs": [],
   "source": [
    "d6 = {'number' : [12,13,5,6,4,3,313,64654,2132,54654], 'assignment' : {1,2,3,4,5,6,4,5654,21321}, 'launch date' : (15,4,2023)}"
   ],
   "metadata": {
    "collapsed": false,
    "ExecuteTime": {
     "start_time": "2023-04-16T01:09:43.356727Z",
     "end_time": "2023-04-16T01:09:46.939729Z"
    }
   }
  },
  {
   "cell_type": "code",
   "execution_count": 32,
   "outputs": [
    {
     "data": {
      "text/plain": "{'number': [12, 13, 5, 6, 4, 3, 313, 64654, 2132, 54654],\n 'assignment': {1, 2, 3, 4, 5, 6, 5654, 21321},\n 'launch date': (15, 4, 2023)}"
     },
     "execution_count": 32,
     "metadata": {},
     "output_type": "execute_result"
    }
   ],
   "source": [
    "d6"
   ],
   "metadata": {
    "collapsed": false,
    "ExecuteTime": {
     "start_time": "2023-04-16T01:09:43.357726Z",
     "end_time": "2023-04-16T01:09:46.940726Z"
    }
   }
  },
  {
   "cell_type": "code",
   "execution_count": 33,
   "outputs": [],
   "source": [
    "d6 = {'number' : [12,13,5,6,4,3,313,64654,2132,54654], 'assignment' : {1,2,3,4,5,6,4,5654,21321}, 'launch date' : (15,4,2023), 'class_time' : {'web dev' : 8, 'data science masters' : 9, 'java' : 10}}"
   ],
   "metadata": {
    "collapsed": false,
    "ExecuteTime": {
     "start_time": "2023-04-16T01:09:43.357726Z",
     "end_time": "2023-04-16T01:09:46.941727Z"
    }
   }
  },
  {
   "cell_type": "markdown",
   "source": [
    "We can add Dictionary inside a Dictionary\n",
    "We can add List inside a Dict\n",
    "we can add tuples inside a Dict\n",
    "we can add set inside a dict\n",
    "we can also do nesting inside a Dict --> like List inside a List of a Dict, Dict inside Dict and so on ....\n",
    "\n",
    "Ex : d6 = {'number' : [12,13,5,6,4,3,313,64654,2132,54654], 'assignment' : {1,2,3,4,5,6,4,5654,21321}, 'launch date' : (15,4,2023), 'class_time' : {'web dev' : 8, 'data science masters' : 9, 'java' : 10}}"
   ],
   "metadata": {
    "collapsed": false
   }
  },
  {
   "cell_type": "code",
   "execution_count": 34,
   "outputs": [
    {
     "data": {
      "text/plain": "{'number': [12, 13, 5, 6, 4, 3, 313, 64654, 2132, 54654],\n 'assignment': {1, 2, 3, 4, 5, 6, 5654, 21321},\n 'launch date': (15, 4, 2023),\n 'class_time': {'web dev': 8, 'data science masters': 9, 'java': 10}}"
     },
     "execution_count": 34,
     "metadata": {},
     "output_type": "execute_result"
    }
   ],
   "source": [
    "d6"
   ],
   "metadata": {
    "collapsed": false,
    "ExecuteTime": {
     "start_time": "2023-04-16T01:09:43.357726Z",
     "end_time": "2023-04-16T01:09:46.944727Z"
    }
   }
  },
  {
   "cell_type": "code",
   "execution_count": 35,
   "outputs": [
    {
     "data": {
      "text/plain": "10"
     },
     "execution_count": 35,
     "metadata": {},
     "output_type": "execute_result"
    }
   ],
   "source": [
    "d6['class_time']['java']"
   ],
   "metadata": {
    "collapsed": false,
    "ExecuteTime": {
     "start_time": "2023-04-16T01:09:43.358720Z",
     "end_time": "2023-04-16T01:09:46.945729Z"
    }
   }
  },
  {
   "cell_type": "code",
   "execution_count": 36,
   "outputs": [
    {
     "data": {
      "text/plain": "{'number': [12, 13, 5, 6, 4, 3, 313, 64654, 2132, 54654],\n 'assignment': {1, 2, 3, 4, 5, 6, 5654, 21321},\n 'launch date': (15, 4, 2023),\n 'class_time': {'web dev': 8, 'data science masters': 9, 'java': 10}}"
     },
     "execution_count": 36,
     "metadata": {},
     "output_type": "execute_result"
    }
   ],
   "source": [
    "d6"
   ],
   "metadata": {
    "collapsed": false,
    "ExecuteTime": {
     "start_time": "2023-04-16T01:09:43.370722Z",
     "end_time": "2023-04-16T01:09:46.998723Z"
    }
   }
  },
  {
   "cell_type": "code",
   "execution_count": 37,
   "outputs": [],
   "source": [
    "d6['mentor'] = ['sudhanshu', 'krish', 'anurag', 'hayder', 'purushottam']"
   ],
   "metadata": {
    "collapsed": false,
    "ExecuteTime": {
     "start_time": "2023-04-16T01:09:43.371725Z",
     "end_time": "2023-04-16T01:09:47.007720Z"
    }
   }
  },
  {
   "cell_type": "code",
   "execution_count": 38,
   "outputs": [
    {
     "data": {
      "text/plain": "{'number': [12, 13, 5, 6, 4, 3, 313, 64654, 2132, 54654],\n 'assignment': {1, 2, 3, 4, 5, 6, 5654, 21321},\n 'launch date': (15, 4, 2023),\n 'class_time': {'web dev': 8, 'data science masters': 9, 'java': 10},\n 'mentor': ['sudhanshu', 'krish', 'anurag', 'hayder', 'purushottam']}"
     },
     "execution_count": 38,
     "metadata": {},
     "output_type": "execute_result"
    }
   ],
   "source": [
    "d6"
   ],
   "metadata": {
    "collapsed": false,
    "ExecuteTime": {
     "start_time": "2023-04-16T01:09:43.371725Z",
     "end_time": "2023-04-16T01:09:47.009724Z"
    }
   }
  },
  {
   "cell_type": "code",
   "execution_count": 39,
   "outputs": [
    {
     "data": {
      "text/plain": "[12, 13, 5, 6, 4, 3, 313, 64654, 2132, 54654]"
     },
     "execution_count": 39,
     "metadata": {},
     "output_type": "execute_result"
    }
   ],
   "source": [
    "d6['number']"
   ],
   "metadata": {
    "collapsed": false,
    "ExecuteTime": {
     "start_time": "2023-04-16T01:09:43.375724Z",
     "end_time": "2023-04-16T01:09:47.011729Z"
    }
   }
  },
  {
   "cell_type": "code",
   "execution_count": 40,
   "outputs": [],
   "source": [
    "d6['number'] = [1,2,3]"
   ],
   "metadata": {
    "collapsed": false,
    "ExecuteTime": {
     "start_time": "2023-04-16T01:09:43.389727Z",
     "end_time": "2023-04-16T01:09:47.011729Z"
    }
   }
  },
  {
   "cell_type": "code",
   "execution_count": 41,
   "outputs": [
    {
     "data": {
      "text/plain": "{'number': [1, 2, 3],\n 'assignment': {1, 2, 3, 4, 5, 6, 5654, 21321},\n 'launch date': (15, 4, 2023),\n 'class_time': {'web dev': 8, 'data science masters': 9, 'java': 10},\n 'mentor': ['sudhanshu', 'krish', 'anurag', 'hayder', 'purushottam']}"
     },
     "execution_count": 41,
     "metadata": {},
     "output_type": "execute_result"
    }
   ],
   "source": [
    "d6"
   ],
   "metadata": {
    "collapsed": false,
    "ExecuteTime": {
     "start_time": "2023-04-16T01:09:43.389727Z",
     "end_time": "2023-04-16T01:09:47.018723Z"
    }
   }
  },
  {
   "cell_type": "code",
   "execution_count": 42,
   "outputs": [
    {
     "data": {
      "text/plain": "[1, 2, 3]"
     },
     "execution_count": 42,
     "metadata": {},
     "output_type": "execute_result"
    }
   ],
   "source": [
    "d6.pop('number')"
   ],
   "metadata": {
    "collapsed": false,
    "ExecuteTime": {
     "start_time": "2023-04-16T01:09:43.389727Z",
     "end_time": "2023-04-16T01:09:47.020729Z"
    }
   }
  },
  {
   "cell_type": "code",
   "execution_count": 43,
   "outputs": [
    {
     "data": {
      "text/plain": "{'assignment': {1, 2, 3, 4, 5, 6, 5654, 21321},\n 'launch date': (15, 4, 2023),\n 'class_time': {'web dev': 8, 'data science masters': 9, 'java': 10},\n 'mentor': ['sudhanshu', 'krish', 'anurag', 'hayder', 'purushottam']}"
     },
     "execution_count": 43,
     "metadata": {},
     "output_type": "execute_result"
    }
   ],
   "source": [
    "d6"
   ],
   "metadata": {
    "collapsed": false,
    "ExecuteTime": {
     "start_time": "2023-04-16T01:09:43.389727Z",
     "end_time": "2023-04-16T01:09:47.021743Z"
    }
   }
  },
  {
   "cell_type": "code",
   "execution_count": 44,
   "outputs": [],
   "source": [
    "del d6['assignment']"
   ],
   "metadata": {
    "collapsed": false,
    "ExecuteTime": {
     "start_time": "2023-04-16T01:09:43.390725Z",
     "end_time": "2023-04-16T01:09:47.022728Z"
    }
   }
  },
  {
   "cell_type": "code",
   "execution_count": 45,
   "outputs": [
    {
     "data": {
      "text/plain": "{'launch date': (15, 4, 2023),\n 'class_time': {'web dev': 8, 'data science masters': 9, 'java': 10},\n 'mentor': ['sudhanshu', 'krish', 'anurag', 'hayder', 'purushottam']}"
     },
     "execution_count": 45,
     "metadata": {},
     "output_type": "execute_result"
    }
   ],
   "source": [
    "d6"
   ],
   "metadata": {
    "collapsed": false,
    "ExecuteTime": {
     "start_time": "2023-04-16T01:09:43.390725Z",
     "end_time": "2023-04-16T01:09:47.023728Z"
    }
   }
  },
  {
   "cell_type": "code",
   "execution_count": 46,
   "outputs": [
    {
     "data": {
      "text/plain": "dict_keys(['launch date', 'class_time', 'mentor'])"
     },
     "execution_count": 46,
     "metadata": {},
     "output_type": "execute_result"
    }
   ],
   "source": [
    "d6.keys()"
   ],
   "metadata": {
    "collapsed": false,
    "ExecuteTime": {
     "start_time": "2023-04-16T01:09:43.391734Z",
     "end_time": "2023-04-16T01:09:47.061726Z"
    }
   }
  },
  {
   "cell_type": "code",
   "execution_count": 47,
   "outputs": [
    {
     "data": {
      "text/plain": "dict_values([(15, 4, 2023), {'web dev': 8, 'data science masters': 9, 'java': 10}, ['sudhanshu', 'krish', 'anurag', 'hayder', 'purushottam']])"
     },
     "execution_count": 47,
     "metadata": {},
     "output_type": "execute_result"
    }
   ],
   "source": [
    "d6.values()"
   ],
   "metadata": {
    "collapsed": false,
    "ExecuteTime": {
     "start_time": "2023-04-16T01:09:43.391734Z",
     "end_time": "2023-04-16T01:09:47.067727Z"
    }
   }
  },
  {
   "cell_type": "code",
   "execution_count": 48,
   "outputs": [
    {
     "data": {
      "text/plain": "dict_items([('launch date', (15, 4, 2023)), ('class_time', {'web dev': 8, 'data science masters': 9, 'java': 10}), ('mentor', ['sudhanshu', 'krish', 'anurag', 'hayder', 'purushottam'])])"
     },
     "execution_count": 48,
     "metadata": {},
     "output_type": "execute_result"
    }
   ],
   "source": [
    "d6.items()"
   ],
   "metadata": {
    "collapsed": false,
    "ExecuteTime": {
     "start_time": "2023-04-16T01:09:43.392728Z",
     "end_time": "2023-04-16T01:09:47.068723Z"
    }
   }
  },
  {
   "cell_type": "code",
   "execution_count": 49,
   "outputs": [],
   "source": [
    "d6 = {'number' : [12,13,5,6,4,3,313,64654,2132,54654], 'assignment' : {1,2,3,4,5,6,4,5654,21321}, 'launch date' : (15,4,2023), 'class_time' : {'web dev' : 8, 'data science masters' : 9, 'java' : 10}, 'mentor' : ['sudhanshu', 'krish', 'anurag', 'hayder', 'purushottam']}"
   ],
   "metadata": {
    "collapsed": false,
    "ExecuteTime": {
     "start_time": "2023-04-16T01:09:43.392728Z",
     "end_time": "2023-04-16T01:09:47.069724Z"
    }
   }
  },
  {
   "cell_type": "code",
   "execution_count": 50,
   "outputs": [
    {
     "data": {
      "text/plain": "{'number': [12, 13, 5, 6, 4, 3, 313, 64654, 2132, 54654],\n 'assignment': {1, 2, 3, 4, 5, 6, 5654, 21321},\n 'launch date': (15, 4, 2023),\n 'class_time': {'web dev': 8, 'data science masters': 9, 'java': 10},\n 'mentor': ['sudhanshu', 'krish', 'anurag', 'hayder', 'purushottam']}"
     },
     "execution_count": 50,
     "metadata": {},
     "output_type": "execute_result"
    }
   ],
   "source": [
    "d6"
   ],
   "metadata": {
    "collapsed": false,
    "ExecuteTime": {
     "start_time": "2023-04-16T01:09:43.393722Z",
     "end_time": "2023-04-16T01:09:47.070726Z"
    }
   }
  },
  {
   "cell_type": "code",
   "execution_count": 51,
   "outputs": [
    {
     "data": {
      "text/plain": "dict_items([('number', [12, 13, 5, 6, 4, 3, 313, 64654, 2132, 54654]), ('assignment', {1, 2, 3, 4, 5, 6, 21321, 5654}), ('launch date', (15, 4, 2023)), ('class_time', {'web dev': 8, 'data science masters': 9, 'java': 10}), ('mentor', ['sudhanshu', 'krish', 'anurag', 'hayder', 'purushottam'])])"
     },
     "execution_count": 51,
     "metadata": {},
     "output_type": "execute_result"
    }
   ],
   "source": [
    "d6.items()"
   ],
   "metadata": {
    "collapsed": false,
    "ExecuteTime": {
     "start_time": "2023-04-16T01:09:43.395723Z",
     "end_time": "2023-04-16T01:09:47.071728Z"
    }
   }
  },
  {
   "cell_type": "markdown",
   "source": [
    "--------------------------- Dictionary practice ends here ---------------------------"
   ],
   "metadata": {
    "collapsed": false
   }
  },
  {
   "cell_type": "markdown",
   "source": [
    "-------------------- Conditional Statements (If-Else) practice starts from here --------------------"
   ],
   "metadata": {
    "collapsed": false
   }
  },
  {
   "cell_type": "code",
   "execution_count": 52,
   "outputs": [
    {
     "name": "stdout",
     "output_type": "stream",
     "text": [
      "You have got :  100.0  marks !!!\n",
      "You will be a part of A0 Batch\n"
     ]
    }
   ],
   "source": [
    "marks = float(input('Enter your Marks : '))\n",
    "print(\"You have got : \", marks, \" marks !!!\")\n",
    "if marks >= 80 :\n",
    "    print('You will be a part of A0 Batch')\n",
    "elif 60 <= marks < 80 :\n",
    "    print('You will be a part of A1 Batch')\n",
    "elif 40 <= marks < 60 :\n",
    "    print('You will be a part of A2 Batch')\n",
    "else :\n",
    "    print('You will be part of A3 Batch')"
   ],
   "metadata": {
    "collapsed": false,
    "ExecuteTime": {
     "start_time": "2023-04-16T01:09:43.400722Z",
     "end_time": "2023-04-16T01:14:34.205910Z"
    }
   }
  },
  {
   "cell_type": "code",
   "execution_count": 53,
   "outputs": [],
   "source": [
    "mark = input('Enter your Marks : ')"
   ],
   "metadata": {
    "collapsed": false,
    "ExecuteTime": {
     "start_time": "2023-04-16T01:14:31.160778Z",
     "end_time": "2023-04-16T01:14:36.011955Z"
    }
   }
  },
  {
   "cell_type": "code",
   "execution_count": 54,
   "outputs": [
    {
     "data": {
      "text/plain": "'100'"
     },
     "execution_count": 54,
     "metadata": {},
     "output_type": "execute_result"
    }
   ],
   "source": [
    "mark"
   ],
   "metadata": {
    "collapsed": false,
    "ExecuteTime": {
     "start_time": "2023-04-16T01:14:35.655320Z",
     "end_time": "2023-04-16T01:14:36.137152Z"
    }
   }
  },
  {
   "cell_type": "code",
   "execution_count": 55,
   "outputs": [
    {
     "data": {
      "text/plain": "str"
     },
     "execution_count": 55,
     "metadata": {},
     "output_type": "execute_result"
    }
   ],
   "source": [
    "type(mark)"
   ],
   "metadata": {
    "collapsed": false,
    "ExecuteTime": {
     "start_time": "2023-04-16T01:14:35.753030Z",
     "end_time": "2023-04-16T01:14:37.307065Z"
    }
   }
  },
  {
   "cell_type": "code",
   "execution_count": 56,
   "outputs": [
    {
     "data": {
      "text/plain": "100.0"
     },
     "execution_count": 56,
     "metadata": {},
     "output_type": "execute_result"
    }
   ],
   "source": [
    "marks"
   ],
   "metadata": {
    "collapsed": false,
    "ExecuteTime": {
     "start_time": "2023-04-16T01:14:37.251141Z",
     "end_time": "2023-04-16T01:14:37.307065Z"
    }
   }
  },
  {
   "cell_type": "code",
   "execution_count": 57,
   "outputs": [
    {
     "data": {
      "text/plain": "float"
     },
     "execution_count": 57,
     "metadata": {},
     "output_type": "execute_result"
    }
   ],
   "source": [
    "type(marks)"
   ],
   "metadata": {
    "collapsed": false,
    "ExecuteTime": {
     "start_time": "2023-04-16T01:14:37.252139Z",
     "end_time": "2023-04-16T01:14:37.307065Z"
    }
   }
  },
  {
   "cell_type": "code",
   "execution_count": 58,
   "outputs": [
    {
     "name": "stdout",
     "output_type": "stream",
     "text": [
      "I will purchase\n"
     ]
    }
   ],
   "source": [
    "price = int(input(\"Enter price : \"))\n",
    "\n",
    "if price > 1000 :\n",
    "    print('I will not purchase')\n",
    "else :\n",
    "    print(\"I will purchase\")"
   ],
   "metadata": {
    "collapsed": false,
    "ExecuteTime": {
     "start_time": "2023-04-16T01:14:37.260140Z",
     "end_time": "2023-04-16T01:14:38.952166Z"
    }
   }
  },
  {
   "cell_type": "code",
   "execution_count": 59,
   "outputs": [
    {
     "name": "stdout",
     "output_type": "stream",
     "text": [
      "The price is :  100\n",
      "Not interested\n"
     ]
    }
   ],
   "source": [
    "price = int(input(\"Enter price : \"))\n",
    "print(\"The price is : \", price)\n",
    "\n",
    "if price >= 1000 :\n",
    "    print('I will not purchase')\n",
    "    if price > 5000 :\n",
    "        print(\"This is too much\")\n",
    "    elif price < 2000 :\n",
    "        print(\"It's Okay but still I will not purchase\")\n",
    "\n",
    "elif price > 500 :\n",
    "    print(\"I will purchase\")\n",
    "else :\n",
    "    print(\"Not interested\")"
   ],
   "metadata": {
    "collapsed": false,
    "ExecuteTime": {
     "start_time": "2023-04-16T01:14:38.695439Z",
     "end_time": "2023-04-16T01:14:40.516713Z"
    }
   }
  },
  {
   "cell_type": "code",
   "execution_count": 60,
   "outputs": [],
   "source": [
    "l = [1,2,3,4,5,6,7,8,9,10]"
   ],
   "metadata": {
    "collapsed": false,
    "ExecuteTime": {
     "start_time": "2023-04-16T01:14:40.372722Z",
     "end_time": "2023-04-16T01:14:40.540990Z"
    }
   }
  },
  {
   "cell_type": "code",
   "execution_count": 61,
   "outputs": [
    {
     "name": "stdout",
     "output_type": "stream",
     "text": [
      "1\n",
      "2\n",
      "3\n",
      "4\n",
      "5\n",
      "6\n",
      "7\n",
      "8\n",
      "9\n",
      "10\n",
      "\n",
      "Sum of list is :  55\n"
     ]
    }
   ],
   "source": [
    "s = 0\n",
    "\n",
    "for i in l :\n",
    "    print(i)\n",
    "    s = s + i\n",
    "\n",
    "print(\"\\nSum of list is : \", s)"
   ],
   "metadata": {
    "collapsed": false,
    "ExecuteTime": {
     "start_time": "2023-04-16T01:14:40.418716Z",
     "end_time": "2023-04-16T01:14:40.826873Z"
    }
   }
  },
  {
   "cell_type": "code",
   "execution_count": 62,
   "outputs": [
    {
     "name": "stdout",
     "output_type": "stream",
     "text": [
      "2\n",
      "3\n",
      "4\n",
      "5\n",
      "6\n",
      "7\n",
      "8\n",
      "9\n",
      "10\n",
      "11\n"
     ]
    }
   ],
   "source": [
    "for i in l :\n",
    "    print(i+1)"
   ],
   "metadata": {
    "collapsed": false,
    "ExecuteTime": {
     "start_time": "2023-04-16T01:14:40.600321Z",
     "end_time": "2023-04-16T01:14:40.829874Z"
    }
   }
  },
  {
   "cell_type": "code",
   "execution_count": 63,
   "outputs": [
    {
     "data": {
      "text/plain": "[1, 2, 3, 4, 5, 6, 7, 8, 9, 10]"
     },
     "execution_count": 63,
     "metadata": {},
     "output_type": "execute_result"
    }
   ],
   "source": [
    "l"
   ],
   "metadata": {
    "collapsed": false,
    "ExecuteTime": {
     "start_time": "2023-04-16T01:14:40.667083Z",
     "end_time": "2023-04-16T01:14:40.831879Z"
    }
   }
  },
  {
   "cell_type": "code",
   "execution_count": 64,
   "outputs": [
    {
     "data": {
      "text/plain": "[2, 3, 4, 5, 6, 7, 8, 9, 10, 11]"
     },
     "execution_count": 64,
     "metadata": {},
     "output_type": "execute_result"
    }
   ],
   "source": [
    "l1 = []\n",
    "for i in l :\n",
    "    #print(i+1)\n",
    "    l1.append(i+1)\n",
    "l1"
   ],
   "metadata": {
    "collapsed": false,
    "ExecuteTime": {
     "start_time": "2023-04-16T01:14:40.744874Z",
     "end_time": "2023-04-16T01:14:41.105981Z"
    }
   }
  },
  {
   "cell_type": "code",
   "execution_count": 65,
   "outputs": [
    {
     "data": {
      "text/plain": "[1, 2, 3, 4, 5, 6, 7, 8, 9, 10]"
     },
     "execution_count": 65,
     "metadata": {},
     "output_type": "execute_result"
    }
   ],
   "source": [
    "l"
   ],
   "metadata": {
    "collapsed": false,
    "ExecuteTime": {
     "start_time": "2023-04-16T01:14:40.888874Z",
     "end_time": "2023-04-16T01:14:41.216790Z"
    }
   }
  },
  {
   "cell_type": "code",
   "execution_count": 66,
   "outputs": [
    {
     "data": {
      "text/plain": "[2, 3, 4, 5, 6, 7, 8, 9, 10, 11]"
     },
     "execution_count": 66,
     "metadata": {},
     "output_type": "execute_result"
    }
   ],
   "source": [
    "l1"
   ],
   "metadata": {
    "collapsed": false,
    "ExecuteTime": {
     "start_time": "2023-04-16T01:14:41.014262Z",
     "end_time": "2023-04-16T01:14:41.530216Z"
    }
   }
  },
  {
   "cell_type": "code",
   "execution_count": 67,
   "outputs": [],
   "source": [
    "l2 = [\"anand\", 'puru', 'pwskills', 'course']"
   ],
   "metadata": {
    "collapsed": false,
    "ExecuteTime": {
     "start_time": "2023-04-16T01:14:41.137054Z",
     "end_time": "2023-04-16T01:14:41.531216Z"
    }
   }
  },
  {
   "cell_type": "code",
   "execution_count": 68,
   "outputs": [
    {
     "name": "stdout",
     "output_type": "stream",
     "text": [
      "anand\n",
      "puru\n",
      "pwskills\n",
      "course\n"
     ]
    }
   ],
   "source": [
    "for i in l2 :\n",
    "    print(i)"
   ],
   "metadata": {
    "collapsed": false,
    "ExecuteTime": {
     "start_time": "2023-04-16T01:14:41.211081Z",
     "end_time": "2023-04-16T01:14:41.535217Z"
    }
   }
  },
  {
   "cell_type": "code",
   "execution_count": 69,
   "outputs": [
    {
     "data": {
      "text/plain": "str"
     },
     "execution_count": 69,
     "metadata": {},
     "output_type": "execute_result"
    }
   ],
   "source": [
    "type(i)"
   ],
   "metadata": {
    "collapsed": false,
    "ExecuteTime": {
     "start_time": "2023-04-16T01:14:41.358212Z",
     "end_time": "2023-04-16T01:14:41.633820Z"
    }
   }
  },
  {
   "cell_type": "code",
   "execution_count": 70,
   "outputs": [
    {
     "name": "stdout",
     "output_type": "stream",
     "text": [
      "anand\n",
      "puru\n",
      "pwskills\n",
      "course\n"
     ]
    },
    {
     "data": {
      "text/plain": "['ANAND', 'PURU', 'PWSKILLS', 'COURSE']"
     },
     "execution_count": 70,
     "metadata": {},
     "output_type": "execute_result"
    }
   ],
   "source": [
    "l3 = []\n",
    "for i in l2 :\n",
    "    print(i)\n",
    "    l3.append(i.upper())\n",
    "l3"
   ],
   "metadata": {
    "collapsed": false,
    "ExecuteTime": {
     "start_time": "2023-04-16T01:14:41.529213Z",
     "end_time": "2023-04-16T01:14:41.959480Z"
    }
   }
  },
  {
   "cell_type": "code",
   "execution_count": 71,
   "outputs": [
    {
     "data": {
      "text/plain": "['ANAND', 'PURU', 'PWSKILLS', 'COURSE']"
     },
     "execution_count": 71,
     "metadata": {},
     "output_type": "execute_result"
    }
   ],
   "source": [
    "l3"
   ],
   "metadata": {
    "collapsed": false,
    "ExecuteTime": {
     "start_time": "2023-04-16T01:14:41.810475Z",
     "end_time": "2023-04-16T01:14:42.111024Z"
    }
   }
  },
  {
   "cell_type": "code",
   "execution_count": 72,
   "outputs": [],
   "source": [
    "l = [1,2,3,4,'anand', 'puru', 15.16, \"abc\", 426]"
   ],
   "metadata": {
    "collapsed": false,
    "ExecuteTime": {
     "start_time": "2023-04-16T01:14:42.072022Z",
     "end_time": "2023-04-16T01:14:42.414990Z"
    }
   }
  },
  {
   "cell_type": "code",
   "execution_count": 73,
   "outputs": [
    {
     "name": "stdout",
     "output_type": "stream",
     "text": [
      "1\n",
      "2\n",
      "3\n",
      "4\n",
      "anand\n",
      "puru\n",
      "15.16\n",
      "abc\n",
      "426\n"
     ]
    }
   ],
   "source": [
    "for i in l :\n",
    "    print(i)"
   ],
   "metadata": {
    "collapsed": false,
    "ExecuteTime": {
     "start_time": "2023-04-16T01:14:42.255030Z",
     "end_time": "2023-04-16T01:14:42.546989Z"
    }
   }
  },
  {
   "cell_type": "code",
   "execution_count": 74,
   "outputs": [],
   "source": [
    "l1_num = []\n",
    "l2_str = []\n",
    "\n",
    "for i in l :\n",
    "    if type(i) == int or type(i) == float :\n",
    "        l1_num.append(i)\n",
    "    else :\n",
    "        l2_str.append(i)"
   ],
   "metadata": {
    "collapsed": false,
    "ExecuteTime": {
     "start_time": "2023-04-16T01:14:42.522992Z",
     "end_time": "2023-04-16T01:14:42.740052Z"
    }
   }
  },
  {
   "cell_type": "code",
   "execution_count": 75,
   "outputs": [
    {
     "data": {
      "text/plain": "[1, 2, 3, 4, 15.16, 426]"
     },
     "execution_count": 75,
     "metadata": {},
     "output_type": "execute_result"
    }
   ],
   "source": [
    "l1_num"
   ],
   "metadata": {
    "collapsed": false,
    "ExecuteTime": {
     "start_time": "2023-04-16T01:14:42.678065Z",
     "end_time": "2023-04-16T01:14:42.875054Z"
    }
   }
  },
  {
   "cell_type": "code",
   "execution_count": 76,
   "outputs": [
    {
     "data": {
      "text/plain": "['anand', 'puru', 'abc']"
     },
     "execution_count": 76,
     "metadata": {},
     "output_type": "execute_result"
    }
   ],
   "source": [
    "l2_str"
   ],
   "metadata": {
    "collapsed": false,
    "ExecuteTime": {
     "start_time": "2023-04-16T01:14:42.794057Z",
     "end_time": "2023-04-16T01:14:43.078073Z"
    }
   }
  },
  {
   "cell_type": "markdown",
   "source": [
    "------------------- PRACTICE ENDS HERE -------------------"
   ],
   "metadata": {
    "collapsed": false
   }
  },
  {
   "cell_type": "code",
   "execution_count": 76,
   "outputs": [],
   "source": [],
   "metadata": {
    "collapsed": false,
    "ExecuteTime": {
     "start_time": "2023-04-16T01:14:42.976866Z",
     "end_time": "2023-04-16T01:14:43.079078Z"
    }
   }
  }
 ],
 "metadata": {
  "kernelspec": {
   "display_name": "Python 3",
   "language": "python",
   "name": "python3"
  },
  "language_info": {
   "codemirror_mode": {
    "name": "ipython",
    "version": 2
   },
   "file_extension": ".py",
   "mimetype": "text/x-python",
   "name": "python",
   "nbconvert_exporter": "python",
   "pygments_lexer": "ipython2",
   "version": "2.7.6"
  }
 },
 "nbformat": 4,
 "nbformat_minor": 0
}
