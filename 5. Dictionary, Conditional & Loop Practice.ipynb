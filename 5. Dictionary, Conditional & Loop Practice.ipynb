{
 "cells": [
  {
   "cell_type": "code",
   "execution_count": 1,
   "metadata": {
    "ExecuteTime": {
     "end_time": "2023-04-16T01:09:46.651725Z",
     "start_time": "2023-04-16T01:09:33.538723Z"
    },
    "collapsed": true
   },
   "outputs": [],
   "source": [
    "d = {}"
   ]
  },
  {
   "cell_type": "code",
   "execution_count": 2,
   "metadata": {
    "ExecuteTime": {
     "end_time": "2023-04-16T01:09:46.722722Z",
     "start_time": "2023-04-16T01:09:33.576729Z"
    },
    "collapsed": false
   },
   "outputs": [
    {
     "data": {
      "text/plain": [
       "dict"
      ]
     },
     "execution_count": 2,
     "metadata": {},
     "output_type": "execute_result"
    }
   ],
   "source": [
    "type(d)"
   ]
  },
  {
   "cell_type": "code",
   "execution_count": 3,
   "metadata": {
    "ExecuteTime": {
     "end_time": "2023-04-16T01:09:46.722722Z",
     "start_time": "2023-04-16T01:09:33.944723Z"
    },
    "collapsed": false
   },
   "outputs": [],
   "source": [
    "d1 = {'key' : \"puru\"}"
   ]
  },
  {
   "cell_type": "code",
   "execution_count": 4,
   "metadata": {
    "ExecuteTime": {
     "end_time": "2023-04-16T01:09:46.818730Z",
     "start_time": "2023-04-16T01:09:34.119725Z"
    },
    "collapsed": false
   },
   "outputs": [
    {
     "data": {
      "text/plain": [
       "{'key': 'puru'}"
      ]
     },
     "execution_count": 4,
     "metadata": {},
     "output_type": "execute_result"
    }
   ],
   "source": [
    "d1"
   ]
  },
  {
   "cell_type": "code",
   "execution_count": 5,
   "metadata": {
    "ExecuteTime": {
     "end_time": "2023-04-16T01:09:46.828721Z",
     "start_time": "2023-04-16T01:09:34.392725Z"
    },
    "collapsed": false
   },
   "outputs": [],
   "source": [
    "d2 = {'name' : \"Purushottam\", 'email' : \"abc@gmail.com\", 'number' : '12345'}"
   ]
  },
  {
   "cell_type": "code",
   "execution_count": 6,
   "metadata": {
    "ExecuteTime": {
     "end_time": "2023-04-16T01:09:46.831722Z",
     "start_time": "2023-04-16T01:09:34.569725Z"
    },
    "collapsed": false
   },
   "outputs": [
    {
     "data": {
      "text/plain": [
       "{'name': 'Purushottam', 'email': 'abc@gmail.com', 'number': '12345'}"
      ]
     },
     "execution_count": 6,
     "metadata": {},
     "output_type": "execute_result"
    }
   ],
   "source": [
    "d2"
   ]
  },
  {
   "cell_type": "code",
   "execution_count": 7,
   "metadata": {
    "ExecuteTime": {
     "end_time": "2023-04-16T01:09:46.838724Z",
     "start_time": "2023-04-16T01:09:34.962735Z"
    },
    "collapsed": false
   },
   "outputs": [
    {
     "data": {
      "text/plain": [
       "dict"
      ]
     },
     "execution_count": 7,
     "metadata": {},
     "output_type": "execute_result"
    }
   ],
   "source": [
    "type(d2)"
   ]
  },
  {
   "cell_type": "code",
   "execution_count": 8,
   "metadata": {
    "ExecuteTime": {
     "end_time": "2023-04-16T01:09:46.840726Z",
     "start_time": "2023-04-16T01:09:34.962735Z"
    },
    "collapsed": false
   },
   "outputs": [
    {
     "data": {
      "text/plain": [
       "dict"
      ]
     },
     "execution_count": 8,
     "metadata": {},
     "output_type": "execute_result"
    }
   ],
   "source": [
    "type(d1)"
   ]
  },
  {
   "cell_type": "code",
   "execution_count": 9,
   "metadata": {
    "ExecuteTime": {
     "end_time": "2023-04-16T01:09:46.841729Z",
     "start_time": "2023-04-16T01:09:34.962735Z"
    },
    "collapsed": false
   },
   "outputs": [],
   "source": [
    "d3 = {123 : 'puru'}"
   ]
  },
  {
   "cell_type": "code",
   "execution_count": 10,
   "metadata": {
    "ExecuteTime": {
     "end_time": "2023-04-16T01:09:46.842725Z",
     "start_time": "2023-04-16T01:09:34.963732Z"
    },
    "collapsed": false
   },
   "outputs": [
    {
     "data": {
      "text/plain": [
       "{123: 'puru'}"
      ]
     },
     "execution_count": 10,
     "metadata": {},
     "output_type": "execute_result"
    }
   ],
   "source": [
    "d3"
   ]
  },
  {
   "cell_type": "code",
   "execution_count": 11,
   "metadata": {
    "ExecuteTime": {
     "end_time": "2023-04-16T01:09:46.853728Z",
     "start_time": "2023-04-16T01:09:35.047723Z"
    },
    "collapsed": false
   },
   "outputs": [
    {
     "data": {
      "text/plain": [
       "\" d4 = {123 : 'puru', @abc : 'abc'}\\nERROR :\\nCell In[23], line 1\\nd4 = {123 : 'puru', @abc : 'abc'}\\n^\\nSyntaxError: invalid syntax\\n\\nWe can not use @ or any symbol as a key value \""
      ]
     },
     "execution_count": 11,
     "metadata": {},
     "output_type": "execute_result"
    }
   ],
   "source": [
    "''' d4 = {123 : 'puru', @abc : 'abc'}\n",
    "ERROR :\n",
    "Cell In[23], line 1\n",
    "d4 = {123 : 'puru', @abc : 'abc'}\n",
    "^\n",
    "SyntaxError: invalid syntax\n",
    "\n",
    "We can not use @ or any symbol as a key value '''"
   ]
  },
  {
   "cell_type": "code",
   "execution_count": 12,
   "metadata": {
    "ExecuteTime": {
     "end_time": "2023-04-16T01:09:46.853728Z",
     "start_time": "2023-04-16T01:09:35.159725Z"
    },
    "collapsed": false
   },
   "outputs": [],
   "source": [
    "d3 = {'name': 'puru', '@abc' : 'abc', 123 : 'xyz', True : 'abc', False : 1234}"
   ]
  },
  {
   "cell_type": "code",
   "execution_count": 13,
   "metadata": {
    "ExecuteTime": {
     "end_time": "2023-04-16T01:09:46.867722Z",
     "start_time": "2023-04-16T01:09:35.405722Z"
    },
    "collapsed": false
   },
   "outputs": [
    {
     "data": {
      "text/plain": [
       "{'name': 'puru', '@abc': 'abc', 123: 'xyz', True: 'abc', False: 1234}"
      ]
     },
     "execution_count": 13,
     "metadata": {},
     "output_type": "execute_result"
    }
   ],
   "source": [
    "d3"
   ]
  },
  {
   "cell_type": "code",
   "execution_count": 14,
   "metadata": {
    "ExecuteTime": {
     "end_time": "2023-04-16T01:09:46.868729Z",
     "start_time": "2023-04-16T01:09:35.443720Z"
    },
    "collapsed": false
   },
   "outputs": [
    {
     "data": {
      "text/plain": [
       "'puru'"
      ]
     },
     "execution_count": 14,
     "metadata": {},
     "output_type": "execute_result"
    }
   ],
   "source": [
    "d3['name']"
   ]
  },
  {
   "cell_type": "code",
   "execution_count": 15,
   "metadata": {
    "ExecuteTime": {
     "end_time": "2023-04-16T01:09:46.870730Z",
     "start_time": "2023-04-16T01:09:35.477722Z"
    },
    "collapsed": false
   },
   "outputs": [
    {
     "data": {
      "text/plain": [
       "'xyz'"
      ]
     },
     "execution_count": 15,
     "metadata": {},
     "output_type": "execute_result"
    }
   ],
   "source": [
    "d3[123]"
   ]
  },
  {
   "cell_type": "code",
   "execution_count": 16,
   "metadata": {
    "ExecuteTime": {
     "end_time": "2023-04-16T01:09:46.872734Z",
     "start_time": "2023-04-16T01:09:35.643723Z"
    },
    "collapsed": false
   },
   "outputs": [
    {
     "data": {
      "text/plain": [
       "'abc'"
      ]
     },
     "execution_count": 16,
     "metadata": {},
     "output_type": "execute_result"
    }
   ],
   "source": [
    "d3[True]"
   ]
  },
  {
   "cell_type": "code",
   "execution_count": 17,
   "metadata": {
    "ExecuteTime": {
     "end_time": "2023-04-16T01:09:46.874724Z",
     "start_time": "2023-04-16T01:09:35.775727Z"
    },
    "collapsed": false
   },
   "outputs": [
    {
     "data": {
      "text/plain": [
       "1234"
      ]
     },
     "execution_count": 17,
     "metadata": {},
     "output_type": "execute_result"
    }
   ],
   "source": [
    "d3[False]"
   ]
  },
  {
   "cell_type": "code",
   "execution_count": 18,
   "metadata": {
    "ExecuteTime": {
     "end_time": "2023-04-16T01:09:46.875723Z",
     "start_time": "2023-04-16T01:09:36.058721Z"
    },
    "collapsed": false
   },
   "outputs": [
    {
     "data": {
      "text/plain": [
       "'abc'"
      ]
     },
     "execution_count": 18,
     "metadata": {},
     "output_type": "execute_result"
    }
   ],
   "source": [
    "d3['@abc']"
   ]
  },
  {
   "cell_type": "code",
   "execution_count": 19,
   "metadata": {
    "ExecuteTime": {
     "end_time": "2023-04-16T01:09:46.876721Z",
     "start_time": "2023-04-16T01:09:36.097730Z"
    },
    "collapsed": false
   },
   "outputs": [
    {
     "data": {
      "text/plain": [
       "'abc'"
      ]
     },
     "execution_count": 19,
     "metadata": {},
     "output_type": "execute_result"
    }
   ],
   "source": [
    "d3[1]"
   ]
  },
  {
   "cell_type": "code",
   "execution_count": 20,
   "metadata": {
    "ExecuteTime": {
     "end_time": "2023-04-16T01:09:46.877725Z",
     "start_time": "2023-04-16T01:09:36.177721Z"
    },
    "collapsed": false
   },
   "outputs": [
    {
     "data": {
      "text/plain": [
       "{'name': 'puru', '@abc': 'abc', 123: 'xyz', True: 'abc', False: 1234}"
      ]
     },
     "execution_count": 20,
     "metadata": {},
     "output_type": "execute_result"
    }
   ],
   "source": [
    "d3"
   ]
  },
  {
   "cell_type": "code",
   "execution_count": 21,
   "metadata": {
    "ExecuteTime": {
     "end_time": "2023-04-16T01:09:46.883724Z",
     "start_time": "2023-04-16T01:09:36.720725Z"
    },
    "collapsed": false
   },
   "outputs": [
    {
     "data": {
      "text/plain": [
       "1234"
      ]
     },
     "execution_count": 21,
     "metadata": {},
     "output_type": "execute_result"
    }
   ],
   "source": [
    "d3[0]"
   ]
  },
  {
   "cell_type": "code",
   "execution_count": 22,
   "metadata": {
    "ExecuteTime": {
     "end_time": "2023-04-16T01:09:46.886723Z",
     "start_time": "2023-04-16T01:09:37.059722Z"
    },
    "collapsed": false
   },
   "outputs": [],
   "source": [
    "d4 = {'name' : 'puru', 'mail_id' : 'abc@gmail.com', 'name' : 'purushottam'}"
   ]
  },
  {
   "cell_type": "markdown",
   "metadata": {
    "collapsed": false
   },
   "source": [
    "KEY should be unique.\n",
    "If we duplicate the value of KEY then, it overwrites with the 2nd or latest value provided\n",
    "\n",
    "'name' : 'puru' & 'name' : 'purushottam'\n",
    "Here 'name' is KEY and 'puru' & 'purushottam' are VALUES"
   ]
  },
  {
   "cell_type": "code",
   "execution_count": 23,
   "metadata": {
    "ExecuteTime": {
     "end_time": "2023-04-16T01:09:46.887721Z",
     "start_time": "2023-04-16T01:09:37.614723Z"
    },
    "collapsed": false
   },
   "outputs": [
    {
     "data": {
      "text/plain": [
       "'purushottam'"
      ]
     },
     "execution_count": 23,
     "metadata": {},
     "output_type": "execute_result"
    }
   ],
   "source": [
    "d4['name']"
   ]
  },
  {
   "cell_type": "code",
   "execution_count": 24,
   "metadata": {
    "ExecuteTime": {
     "end_time": "2023-04-16T01:09:46.890727Z",
     "start_time": "2023-04-16T01:09:38.106726Z"
    },
    "collapsed": false
   },
   "outputs": [],
   "source": [
    "d4 = {'name1' : 'puru', 'mail_id' : 'abc@gmail.com', 'name2' : 'purushottam'}"
   ]
  },
  {
   "cell_type": "code",
   "execution_count": 25,
   "metadata": {
    "ExecuteTime": {
     "end_time": "2023-04-16T01:09:46.891727Z",
     "start_time": "2023-04-16T01:09:43.268726Z"
    },
    "collapsed": false
   },
   "outputs": [
    {
     "data": {
      "text/plain": [
       "'puru'"
      ]
     },
     "execution_count": 25,
     "metadata": {},
     "output_type": "execute_result"
    }
   ],
   "source": [
    "d4['name1']"
   ]
  },
  {
   "cell_type": "code",
   "execution_count": 26,
   "metadata": {
    "ExecuteTime": {
     "end_time": "2023-04-16T01:09:46.893726Z",
     "start_time": "2023-04-16T01:09:43.268726Z"
    },
    "collapsed": false
   },
   "outputs": [
    {
     "data": {
      "text/plain": [
       "'purushottam'"
      ]
     },
     "execution_count": 26,
     "metadata": {},
     "output_type": "execute_result"
    }
   ],
   "source": [
    "d4['name2']"
   ]
  },
  {
   "cell_type": "code",
   "execution_count": 27,
   "metadata": {
    "ExecuteTime": {
     "end_time": "2023-04-16T01:09:46.894724Z",
     "start_time": "2023-04-16T01:09:43.268726Z"
    },
    "collapsed": false
   },
   "outputs": [],
   "source": [
    "d5 = {'company' : 'pwskills', 'courses' : ['data science', 'web dev', 'java with dsa system design']}"
   ]
  },
  {
   "cell_type": "code",
   "execution_count": 28,
   "metadata": {
    "ExecuteTime": {
     "end_time": "2023-04-16T01:09:46.895721Z",
     "start_time": "2023-04-16T01:09:43.353723Z"
    },
    "collapsed": false
   },
   "outputs": [
    {
     "data": {
      "text/plain": [
       "{'company': 'pwskills',\n",
       " 'courses': ['data science', 'web dev', 'java with dsa system design']}"
      ]
     },
     "execution_count": 28,
     "metadata": {},
     "output_type": "execute_result"
    }
   ],
   "source": [
    "d5"
   ]
  },
  {
   "cell_type": "code",
   "execution_count": 29,
   "metadata": {
    "ExecuteTime": {
     "end_time": "2023-04-16T01:09:46.937726Z",
     "start_time": "2023-04-16T01:09:43.353723Z"
    },
    "collapsed": false
   },
   "outputs": [
    {
     "data": {
      "text/plain": [
       "['data science', 'web dev', 'java with dsa system design']"
      ]
     },
     "execution_count": 29,
     "metadata": {},
     "output_type": "execute_result"
    }
   ],
   "source": [
    "d5['courses']"
   ]
  },
  {
   "cell_type": "code",
   "execution_count": 30,
   "metadata": {
    "ExecuteTime": {
     "end_time": "2023-04-16T01:09:46.938727Z",
     "start_time": "2023-04-16T01:09:43.356727Z"
    },
    "collapsed": false
   },
   "outputs": [
    {
     "data": {
      "text/plain": [
       "'data science'"
      ]
     },
     "execution_count": 30,
     "metadata": {},
     "output_type": "execute_result"
    }
   ],
   "source": [
    "d5['courses'][0]"
   ]
  },
  {
   "cell_type": "code",
   "execution_count": 31,
   "metadata": {
    "ExecuteTime": {
     "end_time": "2023-04-16T01:09:46.939729Z",
     "start_time": "2023-04-16T01:09:43.356727Z"
    },
    "collapsed": false
   },
   "outputs": [],
   "source": [
    "d6 = {'number' : [12,13,5,6,4,3,313,64654,2132,54654], 'assignment' : {1,2,3,4,5,6,4,5654,21321}, 'launch date' : (15,4,2023)}"
   ]
  },
  {
   "cell_type": "code",
   "execution_count": 32,
   "metadata": {
    "ExecuteTime": {
     "end_time": "2023-04-16T01:09:46.940726Z",
     "start_time": "2023-04-16T01:09:43.357726Z"
    },
    "collapsed": false
   },
   "outputs": [
    {
     "data": {
      "text/plain": [
       "{'number': [12, 13, 5, 6, 4, 3, 313, 64654, 2132, 54654],\n",
       " 'assignment': {1, 2, 3, 4, 5, 6, 5654, 21321},\n",
       " 'launch date': (15, 4, 2023)}"
      ]
     },
     "execution_count": 32,
     "metadata": {},
     "output_type": "execute_result"
    }
   ],
   "source": [
    "d6"
   ]
  },
  {
   "cell_type": "code",
   "execution_count": 33,
   "metadata": {
    "ExecuteTime": {
     "end_time": "2023-04-16T01:09:46.941727Z",
     "start_time": "2023-04-16T01:09:43.357726Z"
    },
    "collapsed": false
   },
   "outputs": [],
   "source": [
    "d6 = {'number' : [12,13,5,6,4,3,313,64654,2132,54654], 'assignment' : {1,2,3,4,5,6,4,5654,21321}, 'launch date' : (15,4,2023), 'class_time' : {'web dev' : 8, 'data science masters' : 9, 'java' : 10}}"
   ]
  },
  {
   "cell_type": "markdown",
   "metadata": {
    "collapsed": false
   },
   "source": [
    "We can add Dictionary inside a Dictionary\n",
    "We can add List inside a Dict\n",
    "we can add tuples inside a Dict\n",
    "we can add set inside a dict\n",
    "we can also do nesting inside a Dict --> like List inside a List of a Dict, Dict inside Dict and so on ....\n",
    "\n",
    "Ex : d6 = {'number' : [12,13,5,6,4,3,313,64654,2132,54654], 'assignment' : {1,2,3,4,5,6,4,5654,21321}, 'launch date' : (15,4,2023), 'class_time' : {'web dev' : 8, 'data science masters' : 9, 'java' : 10}}"
   ]
  },
  {
   "cell_type": "code",
   "execution_count": 34,
   "metadata": {
    "ExecuteTime": {
     "end_time": "2023-04-16T01:09:46.944727Z",
     "start_time": "2023-04-16T01:09:43.357726Z"
    },
    "collapsed": false
   },
   "outputs": [
    {
     "data": {
      "text/plain": [
       "{'number': [12, 13, 5, 6, 4, 3, 313, 64654, 2132, 54654],\n",
       " 'assignment': {1, 2, 3, 4, 5, 6, 5654, 21321},\n",
       " 'launch date': (15, 4, 2023),\n",
       " 'class_time': {'web dev': 8, 'data science masters': 9, 'java': 10}}"
      ]
     },
     "execution_count": 34,
     "metadata": {},
     "output_type": "execute_result"
    }
   ],
   "source": [
    "d6"
   ]
  },
  {
   "cell_type": "code",
   "execution_count": 35,
   "metadata": {
    "ExecuteTime": {
     "end_time": "2023-04-16T01:09:46.945729Z",
     "start_time": "2023-04-16T01:09:43.358720Z"
    },
    "collapsed": false
   },
   "outputs": [
    {
     "data": {
      "text/plain": [
       "10"
      ]
     },
     "execution_count": 35,
     "metadata": {},
     "output_type": "execute_result"
    }
   ],
   "source": [
    "d6['class_time']['java']"
   ]
  },
  {
   "cell_type": "code",
   "execution_count": 36,
   "metadata": {
    "ExecuteTime": {
     "end_time": "2023-04-16T01:09:46.998723Z",
     "start_time": "2023-04-16T01:09:43.370722Z"
    },
    "collapsed": false
   },
   "outputs": [
    {
     "data": {
      "text/plain": [
       "{'number': [12, 13, 5, 6, 4, 3, 313, 64654, 2132, 54654],\n",
       " 'assignment': {1, 2, 3, 4, 5, 6, 5654, 21321},\n",
       " 'launch date': (15, 4, 2023),\n",
       " 'class_time': {'web dev': 8, 'data science masters': 9, 'java': 10}}"
      ]
     },
     "execution_count": 36,
     "metadata": {},
     "output_type": "execute_result"
    }
   ],
   "source": [
    "d6"
   ]
  },
  {
   "cell_type": "code",
   "execution_count": 37,
   "metadata": {
    "ExecuteTime": {
     "end_time": "2023-04-16T01:09:47.007720Z",
     "start_time": "2023-04-16T01:09:43.371725Z"
    },
    "collapsed": false
   },
   "outputs": [],
   "source": [
    "d6['mentor'] = ['sudhanshu', 'krish', 'anurag', 'hayder', 'purushottam']"
   ]
  },
  {
   "cell_type": "code",
   "execution_count": 38,
   "metadata": {
    "ExecuteTime": {
     "end_time": "2023-04-16T01:09:47.009724Z",
     "start_time": "2023-04-16T01:09:43.371725Z"
    },
    "collapsed": false
   },
   "outputs": [
    {
     "data": {
      "text/plain": [
       "{'number': [12, 13, 5, 6, 4, 3, 313, 64654, 2132, 54654],\n",
       " 'assignment': {1, 2, 3, 4, 5, 6, 5654, 21321},\n",
       " 'launch date': (15, 4, 2023),\n",
       " 'class_time': {'web dev': 8, 'data science masters': 9, 'java': 10},\n",
       " 'mentor': ['sudhanshu', 'krish', 'anurag', 'hayder', 'purushottam']}"
      ]
     },
     "execution_count": 38,
     "metadata": {},
     "output_type": "execute_result"
    }
   ],
   "source": [
    "d6"
   ]
  },
  {
   "cell_type": "code",
   "execution_count": 39,
   "metadata": {
    "ExecuteTime": {
     "end_time": "2023-04-16T01:09:47.011729Z",
     "start_time": "2023-04-16T01:09:43.375724Z"
    },
    "collapsed": false
   },
   "outputs": [
    {
     "data": {
      "text/plain": [
       "[12, 13, 5, 6, 4, 3, 313, 64654, 2132, 54654]"
      ]
     },
     "execution_count": 39,
     "metadata": {},
     "output_type": "execute_result"
    }
   ],
   "source": [
    "d6['number']"
   ]
  },
  {
   "cell_type": "code",
   "execution_count": 40,
   "metadata": {
    "ExecuteTime": {
     "end_time": "2023-04-16T01:09:47.011729Z",
     "start_time": "2023-04-16T01:09:43.389727Z"
    },
    "collapsed": false
   },
   "outputs": [],
   "source": [
    "d6['number'] = [1,2,3]"
   ]
  },
  {
   "cell_type": "code",
   "execution_count": 41,
   "metadata": {
    "ExecuteTime": {
     "end_time": "2023-04-16T01:09:47.018723Z",
     "start_time": "2023-04-16T01:09:43.389727Z"
    },
    "collapsed": false
   },
   "outputs": [
    {
     "data": {
      "text/plain": [
       "{'number': [1, 2, 3],\n",
       " 'assignment': {1, 2, 3, 4, 5, 6, 5654, 21321},\n",
       " 'launch date': (15, 4, 2023),\n",
       " 'class_time': {'web dev': 8, 'data science masters': 9, 'java': 10},\n",
       " 'mentor': ['sudhanshu', 'krish', 'anurag', 'hayder', 'purushottam']}"
      ]
     },
     "execution_count": 41,
     "metadata": {},
     "output_type": "execute_result"
    }
   ],
   "source": [
    "d6"
   ]
  },
  {
   "cell_type": "code",
   "execution_count": 42,
   "metadata": {
    "ExecuteTime": {
     "end_time": "2023-04-16T01:09:47.020729Z",
     "start_time": "2023-04-16T01:09:43.389727Z"
    },
    "collapsed": false
   },
   "outputs": [
    {
     "data": {
      "text/plain": [
       "[1, 2, 3]"
      ]
     },
     "execution_count": 42,
     "metadata": {},
     "output_type": "execute_result"
    }
   ],
   "source": [
    "d6.pop('number')"
   ]
  },
  {
   "cell_type": "code",
   "execution_count": 43,
   "metadata": {
    "ExecuteTime": {
     "end_time": "2023-04-16T01:09:47.021743Z",
     "start_time": "2023-04-16T01:09:43.389727Z"
    },
    "collapsed": false
   },
   "outputs": [
    {
     "data": {
      "text/plain": [
       "{'assignment': {1, 2, 3, 4, 5, 6, 5654, 21321},\n",
       " 'launch date': (15, 4, 2023),\n",
       " 'class_time': {'web dev': 8, 'data science masters': 9, 'java': 10},\n",
       " 'mentor': ['sudhanshu', 'krish', 'anurag', 'hayder', 'purushottam']}"
      ]
     },
     "execution_count": 43,
     "metadata": {},
     "output_type": "execute_result"
    }
   ],
   "source": [
    "d6"
   ]
  },
  {
   "cell_type": "code",
   "execution_count": 44,
   "metadata": {
    "ExecuteTime": {
     "end_time": "2023-04-16T01:09:47.022728Z",
     "start_time": "2023-04-16T01:09:43.390725Z"
    },
    "collapsed": false
   },
   "outputs": [],
   "source": [
    "del d6['assignment']"
   ]
  },
  {
   "cell_type": "code",
   "execution_count": 45,
   "metadata": {
    "ExecuteTime": {
     "end_time": "2023-04-16T01:09:47.023728Z",
     "start_time": "2023-04-16T01:09:43.390725Z"
    },
    "collapsed": false
   },
   "outputs": [
    {
     "data": {
      "text/plain": [
       "{'launch date': (15, 4, 2023),\n",
       " 'class_time': {'web dev': 8, 'data science masters': 9, 'java': 10},\n",
       " 'mentor': ['sudhanshu', 'krish', 'anurag', 'hayder', 'purushottam']}"
      ]
     },
     "execution_count": 45,
     "metadata": {},
     "output_type": "execute_result"
    }
   ],
   "source": [
    "d6"
   ]
  },
  {
   "cell_type": "code",
   "execution_count": 46,
   "metadata": {
    "ExecuteTime": {
     "end_time": "2023-04-16T01:09:47.061726Z",
     "start_time": "2023-04-16T01:09:43.391734Z"
    },
    "collapsed": false
   },
   "outputs": [
    {
     "data": {
      "text/plain": [
       "dict_keys(['launch date', 'class_time', 'mentor'])"
      ]
     },
     "execution_count": 46,
     "metadata": {},
     "output_type": "execute_result"
    }
   ],
   "source": [
    "d6.keys()"
   ]
  },
  {
   "cell_type": "code",
   "execution_count": 47,
   "metadata": {
    "ExecuteTime": {
     "end_time": "2023-04-16T01:09:47.067727Z",
     "start_time": "2023-04-16T01:09:43.391734Z"
    },
    "collapsed": false
   },
   "outputs": [
    {
     "data": {
      "text/plain": [
       "dict_values([(15, 4, 2023), {'web dev': 8, 'data science masters': 9, 'java': 10}, ['sudhanshu', 'krish', 'anurag', 'hayder', 'purushottam']])"
      ]
     },
     "execution_count": 47,
     "metadata": {},
     "output_type": "execute_result"
    }
   ],
   "source": [
    "d6.values()"
   ]
  },
  {
   "cell_type": "code",
   "execution_count": 48,
   "metadata": {
    "ExecuteTime": {
     "end_time": "2023-04-16T01:09:47.068723Z",
     "start_time": "2023-04-16T01:09:43.392728Z"
    },
    "collapsed": false
   },
   "outputs": [
    {
     "data": {
      "text/plain": [
       "dict_items([('launch date', (15, 4, 2023)), ('class_time', {'web dev': 8, 'data science masters': 9, 'java': 10}), ('mentor', ['sudhanshu', 'krish', 'anurag', 'hayder', 'purushottam'])])"
      ]
     },
     "execution_count": 48,
     "metadata": {},
     "output_type": "execute_result"
    }
   ],
   "source": [
    "d6.items()"
   ]
  },
  {
   "cell_type": "code",
   "execution_count": 49,
   "metadata": {
    "ExecuteTime": {
     "end_time": "2023-04-16T01:09:47.069724Z",
     "start_time": "2023-04-16T01:09:43.392728Z"
    },
    "collapsed": false
   },
   "outputs": [],
   "source": [
    "d6 = {'number' : [12,13,5,6,4,3,313,64654,2132,54654], 'assignment' : {1,2,3,4,5,6,4,5654,21321}, 'launch date' : (15,4,2023), 'class_time' : {'web dev' : 8, 'data science masters' : 9, 'java' : 10}, 'mentor' : ['sudhanshu', 'krish', 'anurag', 'hayder', 'purushottam']}"
   ]
  },
  {
   "cell_type": "code",
   "execution_count": 50,
   "metadata": {
    "ExecuteTime": {
     "end_time": "2023-04-16T01:09:47.070726Z",
     "start_time": "2023-04-16T01:09:43.393722Z"
    },
    "collapsed": false
   },
   "outputs": [
    {
     "data": {
      "text/plain": [
       "{'number': [12, 13, 5, 6, 4, 3, 313, 64654, 2132, 54654],\n",
       " 'assignment': {1, 2, 3, 4, 5, 6, 5654, 21321},\n",
       " 'launch date': (15, 4, 2023),\n",
       " 'class_time': {'web dev': 8, 'data science masters': 9, 'java': 10},\n",
       " 'mentor': ['sudhanshu', 'krish', 'anurag', 'hayder', 'purushottam']}"
      ]
     },
     "execution_count": 50,
     "metadata": {},
     "output_type": "execute_result"
    }
   ],
   "source": [
    "d6"
   ]
  },
  {
   "cell_type": "code",
   "execution_count": 51,
   "metadata": {
    "ExecuteTime": {
     "end_time": "2023-04-16T01:09:47.071728Z",
     "start_time": "2023-04-16T01:09:43.395723Z"
    },
    "collapsed": false
   },
   "outputs": [
    {
     "data": {
      "text/plain": [
       "dict_items([('number', [12, 13, 5, 6, 4, 3, 313, 64654, 2132, 54654]), ('assignment', {1, 2, 3, 4, 5, 6, 21321, 5654}), ('launch date', (15, 4, 2023)), ('class_time', {'web dev': 8, 'data science masters': 9, 'java': 10}), ('mentor', ['sudhanshu', 'krish', 'anurag', 'hayder', 'purushottam'])])"
      ]
     },
     "execution_count": 51,
     "metadata": {},
     "output_type": "execute_result"
    }
   ],
   "source": [
    "d6.items()"
   ]
  },
  {
   "cell_type": "markdown",
   "metadata": {
    "collapsed": false
   },
   "source": [
    "--------------------------- Dictionary practice ends here ---------------------------"
   ]
  },
  {
   "cell_type": "markdown",
   "metadata": {
    "collapsed": false
   },
   "source": [
    "-------------------- Conditional Statements (If-Else) practice starts from here --------------------"
   ]
  },
  {
   "cell_type": "code",
   "execution_count": 52,
   "metadata": {
    "ExecuteTime": {
     "end_time": "2023-04-16T01:14:34.205910Z",
     "start_time": "2023-04-16T01:09:43.400722Z"
    },
    "collapsed": false
   },
   "outputs": [
    {
     "name": "stdout",
     "output_type": "stream",
     "text": [
      "You have got :  100.0  marks !!!\n",
      "You will be a part of A0 Batch\n"
     ]
    }
   ],
   "source": [
    "marks = float(input('Enter your Marks : '))\n",
    "print(\"You have got : \", marks, \" marks !!!\")\n",
    "if marks >= 80 :\n",
    "    print('You will be a part of A0 Batch')\n",
    "elif 60 <= marks < 80 :\n",
    "    print('You will be a part of A1 Batch')\n",
    "elif 40 <= marks < 60 :\n",
    "    print('You will be a part of A2 Batch')\n",
    "else :\n",
    "    print('You will be part of A3 Batch')"
   ]
  },
  {
   "cell_type": "code",
   "execution_count": 53,
   "metadata": {
    "ExecuteTime": {
     "end_time": "2023-04-16T01:14:36.011955Z",
     "start_time": "2023-04-16T01:14:31.160778Z"
    },
    "collapsed": false
   },
   "outputs": [],
   "source": [
    "mark = input('Enter your Marks : ')"
   ]
  },
  {
   "cell_type": "code",
   "execution_count": 54,
   "metadata": {
    "ExecuteTime": {
     "end_time": "2023-04-16T01:14:36.137152Z",
     "start_time": "2023-04-16T01:14:35.655320Z"
    },
    "collapsed": false
   },
   "outputs": [
    {
     "data": {
      "text/plain": [
       "'100'"
      ]
     },
     "execution_count": 54,
     "metadata": {},
     "output_type": "execute_result"
    }
   ],
   "source": [
    "mark"
   ]
  },
  {
   "cell_type": "code",
   "execution_count": 55,
   "metadata": {
    "ExecuteTime": {
     "end_time": "2023-04-16T01:14:37.307065Z",
     "start_time": "2023-04-16T01:14:35.753030Z"
    },
    "collapsed": false
   },
   "outputs": [
    {
     "data": {
      "text/plain": [
       "str"
      ]
     },
     "execution_count": 55,
     "metadata": {},
     "output_type": "execute_result"
    }
   ],
   "source": [
    "type(mark)"
   ]
  },
  {
   "cell_type": "code",
   "execution_count": 56,
   "metadata": {
    "ExecuteTime": {
     "end_time": "2023-04-16T01:14:37.307065Z",
     "start_time": "2023-04-16T01:14:37.251141Z"
    },
    "collapsed": false
   },
   "outputs": [
    {
     "data": {
      "text/plain": [
       "100.0"
      ]
     },
     "execution_count": 56,
     "metadata": {},
     "output_type": "execute_result"
    }
   ],
   "source": [
    "marks"
   ]
  },
  {
   "cell_type": "code",
   "execution_count": 57,
   "metadata": {
    "ExecuteTime": {
     "end_time": "2023-04-16T01:14:37.307065Z",
     "start_time": "2023-04-16T01:14:37.252139Z"
    },
    "collapsed": false
   },
   "outputs": [
    {
     "data": {
      "text/plain": [
       "float"
      ]
     },
     "execution_count": 57,
     "metadata": {},
     "output_type": "execute_result"
    }
   ],
   "source": [
    "type(marks)"
   ]
  },
  {
   "cell_type": "code",
   "execution_count": 58,
   "metadata": {
    "ExecuteTime": {
     "end_time": "2023-04-16T01:14:38.952166Z",
     "start_time": "2023-04-16T01:14:37.260140Z"
    },
    "collapsed": false
   },
   "outputs": [
    {
     "name": "stdout",
     "output_type": "stream",
     "text": [
      "I will purchase\n"
     ]
    }
   ],
   "source": [
    "price = int(input(\"Enter price : \"))\n",
    "\n",
    "if price > 1000 :\n",
    "    print('I will not purchase')\n",
    "else :\n",
    "    print(\"I will purchase\")"
   ]
  },
  {
   "cell_type": "code",
   "execution_count": 59,
   "metadata": {
    "ExecuteTime": {
     "end_time": "2023-04-16T01:14:40.516713Z",
     "start_time": "2023-04-16T01:14:38.695439Z"
    },
    "collapsed": false
   },
   "outputs": [
    {
     "name": "stdout",
     "output_type": "stream",
     "text": [
      "The price is :  5000\n",
      "I will not purchase\n"
     ]
    }
   ],
   "source": [
    "price = int(input(\"Enter price : \"))\n",
    "print(\"The price is : \", price)\n",
    "\n",
    "if price >= 1000 :\n",
    "    print('I will not purchase')\n",
    "    if price > 5000 :\n",
    "        print(\"This is too much\")\n",
    "    elif price < 2000 :\n",
    "        print(\"It's Okay but still I will not purchase\")\n",
    "\n",
    "elif price > 500 :\n",
    "    print(\"I will purchase\")\n",
    "else :\n",
    "    print(\"Not interested\")"
   ]
  },
  {
   "cell_type": "code",
   "execution_count": 60,
   "metadata": {
    "ExecuteTime": {
     "end_time": "2023-04-16T01:14:40.540990Z",
     "start_time": "2023-04-16T01:14:40.372722Z"
    },
    "collapsed": false
   },
   "outputs": [],
   "source": [
    "l = [1,2,3,4,5,6,7,8,9,10]"
   ]
  },
  {
   "cell_type": "code",
   "execution_count": 61,
   "metadata": {
    "ExecuteTime": {
     "end_time": "2023-04-16T01:14:40.826873Z",
     "start_time": "2023-04-16T01:14:40.418716Z"
    },
    "collapsed": false
   },
   "outputs": [
    {
     "name": "stdout",
     "output_type": "stream",
     "text": [
      "1\n",
      "2\n",
      "3\n",
      "4\n",
      "5\n",
      "6\n",
      "7\n",
      "8\n",
      "9\n",
      "10\n",
      "\n",
      "Sum of list is :  55\n"
     ]
    }
   ],
   "source": [
    "s = 0\n",
    "\n",
    "for i in l :\n",
    "    print(i)\n",
    "    s = s + i\n",
    "\n",
    "print(\"\\nSum of list is : \", s)"
   ]
  },
  {
   "cell_type": "code",
   "execution_count": 62,
   "metadata": {
    "ExecuteTime": {
     "end_time": "2023-04-16T01:14:40.829874Z",
     "start_time": "2023-04-16T01:14:40.600321Z"
    },
    "collapsed": false
   },
   "outputs": [
    {
     "name": "stdout",
     "output_type": "stream",
     "text": [
      "2\n",
      "3\n",
      "4\n",
      "5\n",
      "6\n",
      "7\n",
      "8\n",
      "9\n",
      "10\n",
      "11\n"
     ]
    }
   ],
   "source": [
    "for i in l :\n",
    "    print(i+1)"
   ]
  },
  {
   "cell_type": "code",
   "execution_count": 63,
   "metadata": {
    "ExecuteTime": {
     "end_time": "2023-04-16T01:14:40.831879Z",
     "start_time": "2023-04-16T01:14:40.667083Z"
    },
    "collapsed": false
   },
   "outputs": [
    {
     "data": {
      "text/plain": [
       "[1, 2, 3, 4, 5, 6, 7, 8, 9, 10]"
      ]
     },
     "execution_count": 63,
     "metadata": {},
     "output_type": "execute_result"
    }
   ],
   "source": [
    "l"
   ]
  },
  {
   "cell_type": "code",
   "execution_count": 64,
   "metadata": {
    "ExecuteTime": {
     "end_time": "2023-04-16T01:14:41.105981Z",
     "start_time": "2023-04-16T01:14:40.744874Z"
    },
    "collapsed": false
   },
   "outputs": [
    {
     "data": {
      "text/plain": [
       "[2, 3, 4, 5, 6, 7, 8, 9, 10, 11]"
      ]
     },
     "execution_count": 64,
     "metadata": {},
     "output_type": "execute_result"
    }
   ],
   "source": [
    "l1 = []\n",
    "for i in l :\n",
    "    #print(i+1)\n",
    "    l1.append(i+1)\n",
    "l1"
   ]
  },
  {
   "cell_type": "code",
   "execution_count": 65,
   "metadata": {
    "ExecuteTime": {
     "end_time": "2023-04-16T01:14:41.216790Z",
     "start_time": "2023-04-16T01:14:40.888874Z"
    },
    "collapsed": false
   },
   "outputs": [
    {
     "data": {
      "text/plain": [
       "[1, 2, 3, 4, 5, 6, 7, 8, 9, 10]"
      ]
     },
     "execution_count": 65,
     "metadata": {},
     "output_type": "execute_result"
    }
   ],
   "source": [
    "l"
   ]
  },
  {
   "cell_type": "code",
   "execution_count": 66,
   "metadata": {
    "ExecuteTime": {
     "end_time": "2023-04-16T01:14:41.530216Z",
     "start_time": "2023-04-16T01:14:41.014262Z"
    },
    "collapsed": false
   },
   "outputs": [
    {
     "data": {
      "text/plain": [
       "[2, 3, 4, 5, 6, 7, 8, 9, 10, 11]"
      ]
     },
     "execution_count": 66,
     "metadata": {},
     "output_type": "execute_result"
    }
   ],
   "source": [
    "l1"
   ]
  },
  {
   "cell_type": "code",
   "execution_count": 67,
   "metadata": {
    "ExecuteTime": {
     "end_time": "2023-04-16T01:14:41.531216Z",
     "start_time": "2023-04-16T01:14:41.137054Z"
    },
    "collapsed": false
   },
   "outputs": [],
   "source": [
    "l2 = [\"anand\", 'puru', 'pwskills', 'course']"
   ]
  },
  {
   "cell_type": "code",
   "execution_count": 68,
   "metadata": {
    "ExecuteTime": {
     "end_time": "2023-04-16T01:14:41.535217Z",
     "start_time": "2023-04-16T01:14:41.211081Z"
    },
    "collapsed": false
   },
   "outputs": [
    {
     "name": "stdout",
     "output_type": "stream",
     "text": [
      "anand\n",
      "puru\n",
      "pwskills\n",
      "course\n"
     ]
    }
   ],
   "source": [
    "for i in l2 :\n",
    "    print(i)"
   ]
  },
  {
   "cell_type": "code",
   "execution_count": 69,
   "metadata": {
    "ExecuteTime": {
     "end_time": "2023-04-16T01:14:41.633820Z",
     "start_time": "2023-04-16T01:14:41.358212Z"
    },
    "collapsed": false
   },
   "outputs": [
    {
     "data": {
      "text/plain": [
       "str"
      ]
     },
     "execution_count": 69,
     "metadata": {},
     "output_type": "execute_result"
    }
   ],
   "source": [
    "type(i)"
   ]
  },
  {
   "cell_type": "code",
   "execution_count": 70,
   "metadata": {
    "ExecuteTime": {
     "end_time": "2023-04-16T01:14:41.959480Z",
     "start_time": "2023-04-16T01:14:41.529213Z"
    },
    "collapsed": false
   },
   "outputs": [
    {
     "name": "stdout",
     "output_type": "stream",
     "text": [
      "anand\n",
      "puru\n",
      "pwskills\n",
      "course\n"
     ]
    },
    {
     "data": {
      "text/plain": [
       "['ANAND', 'PURU', 'PWSKILLS', 'COURSE']"
      ]
     },
     "execution_count": 70,
     "metadata": {},
     "output_type": "execute_result"
    }
   ],
   "source": [
    "l3 = []\n",
    "for i in l2 :\n",
    "    print(i)\n",
    "    l3.append(i.upper())\n",
    "l3"
   ]
  },
  {
   "cell_type": "code",
   "execution_count": 71,
   "metadata": {
    "ExecuteTime": {
     "end_time": "2023-04-16T01:14:42.111024Z",
     "start_time": "2023-04-16T01:14:41.810475Z"
    },
    "collapsed": false
   },
   "outputs": [
    {
     "data": {
      "text/plain": [
       "['ANAND', 'PURU', 'PWSKILLS', 'COURSE']"
      ]
     },
     "execution_count": 71,
     "metadata": {},
     "output_type": "execute_result"
    }
   ],
   "source": [
    "l3"
   ]
  },
  {
   "cell_type": "code",
   "execution_count": 72,
   "metadata": {
    "ExecuteTime": {
     "end_time": "2023-04-16T01:14:42.414990Z",
     "start_time": "2023-04-16T01:14:42.072022Z"
    },
    "collapsed": false
   },
   "outputs": [],
   "source": [
    "l = [1,2,3,4,'anand', 'puru', 15.16, \"abc\", 426]"
   ]
  },
  {
   "cell_type": "code",
   "execution_count": 73,
   "metadata": {
    "ExecuteTime": {
     "end_time": "2023-04-16T01:14:42.546989Z",
     "start_time": "2023-04-16T01:14:42.255030Z"
    },
    "collapsed": false
   },
   "outputs": [
    {
     "name": "stdout",
     "output_type": "stream",
     "text": [
      "1\n",
      "2\n",
      "3\n",
      "4\n",
      "anand\n",
      "puru\n",
      "15.16\n",
      "abc\n",
      "426\n"
     ]
    }
   ],
   "source": [
    "for i in l :\n",
    "    print(i)"
   ]
  },
  {
   "cell_type": "code",
   "execution_count": 74,
   "metadata": {
    "ExecuteTime": {
     "end_time": "2023-04-16T01:14:42.740052Z",
     "start_time": "2023-04-16T01:14:42.522992Z"
    },
    "collapsed": false
   },
   "outputs": [],
   "source": [
    "l1_num = []\n",
    "l2_str = []\n",
    "\n",
    "for i in l :\n",
    "    if type(i) == int or type(i) == float :\n",
    "        l1_num.append(i)\n",
    "    else :\n",
    "        l2_str.append(i)"
   ]
  },
  {
   "cell_type": "code",
   "execution_count": 75,
   "metadata": {
    "ExecuteTime": {
     "end_time": "2023-04-16T01:14:42.875054Z",
     "start_time": "2023-04-16T01:14:42.678065Z"
    },
    "collapsed": false
   },
   "outputs": [
    {
     "data": {
      "text/plain": [
       "[1, 2, 3, 4, 15.16, 426]"
      ]
     },
     "execution_count": 75,
     "metadata": {},
     "output_type": "execute_result"
    }
   ],
   "source": [
    "l1_num"
   ]
  },
  {
   "cell_type": "code",
   "execution_count": 76,
   "metadata": {
    "ExecuteTime": {
     "end_time": "2023-04-16T01:14:43.078073Z",
     "start_time": "2023-04-16T01:14:42.794057Z"
    },
    "collapsed": false
   },
   "outputs": [
    {
     "data": {
      "text/plain": [
       "['anand', 'puru', 'abc']"
      ]
     },
     "execution_count": 76,
     "metadata": {},
     "output_type": "execute_result"
    }
   ],
   "source": [
    "l2_str"
   ]
  },
  {
   "cell_type": "markdown",
   "metadata": {
    "collapsed": false
   },
   "source": [
    "------------------- PRACTICE ENDS HERE -------------------"
   ]
  },
  {
   "cell_type": "code",
   "execution_count": null,
   "metadata": {
    "ExecuteTime": {
     "end_time": "2023-04-16T01:14:43.079078Z",
     "start_time": "2023-04-16T01:14:42.976866Z"
    },
    "collapsed": false
   },
   "outputs": [],
   "source": []
  }
 ],
 "metadata": {
  "kernelspec": {
   "display_name": "Python 3",
   "language": "python",
   "name": "python3"
  },
  "language_info": {
   "codemirror_mode": {
    "name": "ipython",
    "version": 3
   },
   "file_extension": ".py",
   "mimetype": "text/x-python",
   "name": "python",
   "nbconvert_exporter": "python",
   "pygments_lexer": "ipython3",
   "version": "3.10.4"
  }
 },
 "nbformat": 4,
 "nbformat_minor": 0
}
