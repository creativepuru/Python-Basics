{
 "cells": [
  {
   "cell_type": "markdown",
   "metadata": {
    "collapsed": false
   },
   "source": [
    "# Polymorphism - Same entity but different behaviour in different environments based upon data input"
   ]
  },
  {
   "cell_type": "code",
   "execution_count": 1,
   "metadata": {
    "ExecuteTime": {
     "end_time": "2023-04-25T03:35:57.229925Z",
     "start_time": "2023-04-25T03:35:56.194704Z"
    },
    "collapsed": true
   },
   "outputs": [
    {
     "name": "stdout",
     "output_type": "stream",
     "text": [
      "Push from Data-Spell app\n"
     ]
    }
   ],
   "source": [
    "print(\"Push from Data-Spell app\")"
   ]
  },
  {
   "cell_type": "code",
   "execution_count": 2,
   "metadata": {
    "ExecuteTime": {
     "end_time": "2023-04-25T03:35:57.366279Z",
     "start_time": "2023-04-25T03:35:56.488247Z"
    },
    "collapsed": false
   },
   "outputs": [],
   "source": [
    "def test(a , b) :\n",
    "    return a + b"
   ]
  },
  {
   "cell_type": "code",
   "execution_count": 3,
   "metadata": {
    "ExecuteTime": {
     "end_time": "2023-04-25T03:35:57.373822Z",
     "start_time": "2023-04-25T03:35:56.488247Z"
    },
    "collapsed": false
   },
   "outputs": [
    {
     "data": {
      "text/plain": [
       "11"
      ]
     },
     "execution_count": 3,
     "metadata": {},
     "output_type": "execute_result"
    }
   ],
   "source": [
    "test(5,6)"
   ]
  },
  {
   "cell_type": "code",
   "execution_count": 4,
   "metadata": {
    "ExecuteTime": {
     "end_time": "2023-04-25T03:35:57.375826Z",
     "start_time": "2023-04-25T03:35:56.488247Z"
    },
    "collapsed": false
   },
   "outputs": [
    {
     "data": {
      "text/plain": [
       "3"
      ]
     },
     "execution_count": 4,
     "metadata": {},
     "output_type": "execute_result"
    }
   ],
   "source": [
    "test(1,2)"
   ]
  },
  {
   "cell_type": "code",
   "execution_count": 5,
   "metadata": {
    "ExecuteTime": {
     "end_time": "2023-04-25T03:35:57.391489Z",
     "start_time": "2023-04-25T03:35:56.493784Z"
    },
    "collapsed": false
   },
   "outputs": [
    {
     "data": {
      "text/plain": [
       "'puru anand'"
      ]
     },
     "execution_count": 5,
     "metadata": {},
     "output_type": "execute_result"
    }
   ],
   "source": [
    "test('puru ', 'anand')"
   ]
  },
  {
   "cell_type": "code",
   "execution_count": 6,
   "metadata": {
    "ExecuteTime": {
     "end_time": "2023-04-25T03:35:57.393534Z",
     "start_time": "2023-04-25T03:35:56.493784Z"
    },
    "collapsed": false
   },
   "outputs": [
    {
     "data": {
      "text/plain": [
       "[1, 2, 3, 9, 8, 7]"
      ]
     },
     "execution_count": 6,
     "metadata": {},
     "output_type": "execute_result"
    }
   ],
   "source": [
    "test([1,2,3], [9,8,7])"
   ]
  },
  {
   "cell_type": "code",
   "execution_count": 7,
   "metadata": {
    "ExecuteTime": {
     "end_time": "2023-04-25T03:36:33.657870Z",
     "start_time": "2023-04-25T03:36:33.574859Z"
    },
    "collapsed": false
   },
   "outputs": [],
   "source": [
    "class DataScience :\n",
    "\n",
    "    def syllabus(self):\n",
    "        print(\"This is my syllabus for Data Science Masters\")"
   ]
  },
  {
   "cell_type": "code",
   "execution_count": 8,
   "metadata": {
    "ExecuteTime": {
     "end_time": "2023-04-25T03:36:34.488867Z",
     "start_time": "2023-04-25T03:36:34.356857Z"
    },
    "collapsed": false
   },
   "outputs": [],
   "source": [
    "class WebDev :\n",
    "\n",
    "    def syllabus(self):\n",
    "        print(\"This is my syllabus for Web Development\")"
   ]
  },
  {
   "cell_type": "code",
   "execution_count": 9,
   "metadata": {
    "ExecuteTime": {
     "end_time": "2023-04-25T03:36:35.184859Z",
     "start_time": "2023-04-25T03:36:35.120862Z"
    },
    "collapsed": false
   },
   "outputs": [],
   "source": [
    "def class_parcer(class_obj) :\n",
    "    for i in class_obj :\n",
    "        i.syllabus()"
   ]
  },
  {
   "cell_type": "code",
   "execution_count": 10,
   "metadata": {
    "ExecuteTime": {
     "end_time": "2023-04-25T03:36:35.891868Z",
     "start_time": "2023-04-25T03:36:35.833862Z"
    },
    "collapsed": false
   },
   "outputs": [],
   "source": [
    "data_science = DataScience"
   ]
  },
  {
   "cell_type": "code",
   "execution_count": 11,
   "metadata": {
    "ExecuteTime": {
     "end_time": "2023-04-25T03:36:36.468859Z",
     "start_time": "2023-04-25T03:36:36.411864Z"
    },
    "collapsed": false
   },
   "outputs": [],
   "source": [
    "web_dev = WebDev"
   ]
  },
  {
   "cell_type": "code",
   "execution_count": 12,
   "metadata": {
    "ExecuteTime": {
     "end_time": "2023-04-25T03:36:38.243862Z",
     "start_time": "2023-04-25T03:36:38.190858Z"
    },
    "collapsed": false
   },
   "outputs": [],
   "source": [
    "class_obj = [data_science, web_dev]"
   ]
  },
  {
   "cell_type": "code",
   "execution_count": 13,
   "metadata": {
    "ExecuteTime": {
     "end_time": "2023-04-25T03:45:01.492094Z",
     "start_time": "2023-04-25T03:45:01.453098Z"
    },
    "collapsed": false
   },
   "outputs": [],
   "source": [
    "# class_parcer(class_obj)"
   ]
  },
  {
   "cell_type": "code",
   "execution_count": 14,
   "metadata": {
    "ExecuteTime": {
     "end_time": "2023-04-25T03:45:16.051099Z",
     "start_time": "2023-04-25T03:45:16.010096Z"
    },
    "collapsed": false
   },
   "outputs": [],
   "source": [
    "# class_parcer(class_obj)\n",
    "Error = '''---------------------------------------------------------------------------\n",
    "TypeError                                 Traceback (most recent call last)\n",
    "Cell In[20], line 1\n",
    "----> 1 class_parcer(class_obj)\n",
    "\n",
    "Cell In[16], line 3, in class_parcer(class_obj)\n",
    "      1 def class_parcer(class_obj) :\n",
    "      2     for i in class_obj :\n",
    "----> 3         i.syllabus()\n",
    "\n",
    "TypeError: DataScience.syllabus() missing 1 required positional argument: 'self' '''"
   ]
  },
  {
   "cell_type": "code",
   "execution_count": 15,
   "metadata": {
    "ExecuteTime": {
     "end_time": "2023-04-25T03:45:17.585096Z",
     "start_time": "2023-04-25T03:45:17.502093Z"
    },
    "collapsed": false
   },
   "outputs": [
    {
     "name": "stdout",
     "output_type": "stream",
     "text": [
      "---------------------------------------------------------------------------\n",
      "TypeError                                 Traceback (most recent call last)\n",
      "Cell In[20], line 1\n",
      "----> 1 class_parcer(class_obj)\n",
      "\n",
      "Cell In[16], line 3, in class_parcer(class_obj)\n",
      "      1 def class_parcer(class_obj) :\n",
      "      2     for i in class_obj :\n",
      "----> 3         i.syllabus()\n",
      "\n",
      "TypeError: DataScience.syllabus() missing 1 required positional argument: 'self' \n"
     ]
    }
   ],
   "source": [
    "print(Error)"
   ]
  },
  {
   "cell_type": "code",
   "execution_count": 16,
   "metadata": {
    "ExecuteTime": {
     "end_time": "2023-04-25T03:49:03.431593Z",
     "start_time": "2023-04-25T03:49:03.388592Z"
    },
    "collapsed": false
   },
   "outputs": [
    {
     "name": "stdout",
     "output_type": "stream",
     "text": [
      "This is my syllabus for Data Science Masters\n",
      "This is my syllabus for Web Development\n"
     ]
    }
   ],
   "source": [
    "class DataScience :\n",
    "    def syllabus(self):\n",
    "        print(\"This is my syllabus for Data Science Masters\")\n",
    "\n",
    "class WebDev :\n",
    "    def syllabus(self):\n",
    "        print(\"This is my syllabus for Web Development\")\n",
    "\n",
    "data_science = DataScience()\n",
    "web_dev = WebDev()\n",
    "\n",
    "def class_parcer(class_obj) :\n",
    "    for i in class_obj :\n",
    "        i.syllabus()\n",
    "\n",
    "class_obj = [data_science, web_dev]\n",
    "\n",
    "class_parcer(class_obj)"
   ]
  },
  {
   "cell_type": "code",
   "execution_count": null,
   "metadata": {
    "collapsed": false
   },
   "outputs": [],
   "source": []
  }
 ],
 "metadata": {
  "kernelspec": {
   "display_name": "Python 3",
   "language": "python",
   "name": "python3"
  },
  "language_info": {
   "codemirror_mode": {
    "name": "ipython",
    "version": 3
   },
   "file_extension": ".py",
   "mimetype": "text/x-python",
   "name": "python",
   "nbconvert_exporter": "python",
   "pygments_lexer": "ipython3",
   "version": "3.10.4"
  }
 },
 "nbformat": 4,
 "nbformat_minor": 0
}
