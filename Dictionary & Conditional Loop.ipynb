{
 "cells": [
  {
   "cell_type": "code",
   "execution_count": 10,
   "metadata": {
    "collapsed": true,
    "ExecuteTime": {
     "start_time": "2023-04-15T12:47:41.818566Z",
     "end_time": "2023-04-15T12:47:41.869565Z"
    }
   },
   "outputs": [],
   "source": [
    "d = {}"
   ]
  },
  {
   "cell_type": "code",
   "execution_count": 11,
   "outputs": [
    {
     "data": {
      "text/plain": "dict"
     },
     "execution_count": 11,
     "metadata": {},
     "output_type": "execute_result"
    }
   ],
   "source": [
    "type(d)"
   ],
   "metadata": {
    "collapsed": false,
    "ExecuteTime": {
     "start_time": "2023-04-15T12:47:41.837571Z",
     "end_time": "2023-04-15T12:47:41.984564Z"
    }
   }
  },
  {
   "cell_type": "code",
   "execution_count": 12,
   "outputs": [],
   "source": [
    "d1 = {'key' : \"puru\"}"
   ],
   "metadata": {
    "collapsed": false,
    "ExecuteTime": {
     "start_time": "2023-04-15T12:47:41.910565Z",
     "end_time": "2023-04-15T12:47:42.163570Z"
    }
   }
  },
  {
   "cell_type": "code",
   "execution_count": 13,
   "outputs": [
    {
     "data": {
      "text/plain": "{'key': 'puru'}"
     },
     "execution_count": 13,
     "metadata": {},
     "output_type": "execute_result"
    }
   ],
   "source": [
    "d1"
   ],
   "metadata": {
    "collapsed": false,
    "ExecuteTime": {
     "start_time": "2023-04-15T12:47:42.175571Z",
     "end_time": "2023-04-15T12:47:42.335571Z"
    }
   }
  },
  {
   "cell_type": "code",
   "execution_count": 14,
   "outputs": [],
   "source": [
    "d2 = {'name' : \"Purushottam\", 'email' : \"abc@gmail.com\", 'number' : '12345'}"
   ],
   "metadata": {
    "collapsed": false,
    "ExecuteTime": {
     "start_time": "2023-04-15T12:49:27.108568Z",
     "end_time": "2023-04-15T12:49:27.150565Z"
    }
   }
  },
  {
   "cell_type": "code",
   "execution_count": 15,
   "outputs": [
    {
     "data": {
      "text/plain": "{'name': 'Purushottam', 'email': 'abc@gmail.com', 'number': '12345'}"
     },
     "execution_count": 15,
     "metadata": {},
     "output_type": "execute_result"
    }
   ],
   "source": [
    "d2"
   ],
   "metadata": {
    "collapsed": false,
    "ExecuteTime": {
     "start_time": "2023-04-15T12:49:29.362565Z",
     "end_time": "2023-04-15T12:49:29.508573Z"
    }
   }
  },
  {
   "cell_type": "code",
   "execution_count": 16,
   "outputs": [
    {
     "data": {
      "text/plain": "dict"
     },
     "execution_count": 16,
     "metadata": {},
     "output_type": "execute_result"
    }
   ],
   "source": [
    "type(d2)"
   ],
   "metadata": {
    "collapsed": false,
    "ExecuteTime": {
     "start_time": "2023-04-15T12:49:51.509570Z",
     "end_time": "2023-04-15T12:49:51.592570Z"
    }
   }
  },
  {
   "cell_type": "code",
   "execution_count": 17,
   "outputs": [
    {
     "data": {
      "text/plain": "dict"
     },
     "execution_count": 17,
     "metadata": {},
     "output_type": "execute_result"
    }
   ],
   "source": [
    "type(d1)"
   ],
   "metadata": {
    "collapsed": false,
    "ExecuteTime": {
     "start_time": "2023-04-15T12:49:55.888571Z",
     "end_time": "2023-04-15T12:49:55.964569Z"
    }
   }
  },
  {
   "cell_type": "code",
   "execution_count": 21,
   "outputs": [],
   "source": [
    "d3 = {123 : 'puru'}"
   ],
   "metadata": {
    "collapsed": false,
    "ExecuteTime": {
     "start_time": "2023-04-15T12:51:52.031362Z",
     "end_time": "2023-04-15T12:51:52.076361Z"
    }
   }
  },
  {
   "cell_type": "code",
   "execution_count": 22,
   "outputs": [
    {
     "data": {
      "text/plain": "{123: 'puru'}"
     },
     "execution_count": 22,
     "metadata": {},
     "output_type": "execute_result"
    }
   ],
   "source": [
    "d3"
   ],
   "metadata": {
    "collapsed": false,
    "ExecuteTime": {
     "start_time": "2023-04-15T12:51:53.903417Z",
     "end_time": "2023-04-15T12:51:53.993361Z"
    }
   }
  },
  {
   "cell_type": "code",
   "execution_count": 26,
   "outputs": [
    {
     "data": {
      "text/plain": "\" d4 = {123 : 'puru', @abc : 'abc'}\\nERROR :\\nCell In[23], line 1\\nd4 = {123 : 'puru', @abc : 'abc'}\\n^\\nSyntaxError: invalid syntax \\n\\nWe can not use @ or any symbol as a key value \""
     },
     "execution_count": 26,
     "metadata": {},
     "output_type": "execute_result"
    }
   ],
   "source": [
    "''' d4 = {123 : 'puru', @abc : 'abc'}\n",
    "ERROR :\n",
    "Cell In[23], line 1\n",
    "d4 = {123 : 'puru', @abc : 'abc'}\n",
    "^\n",
    "SyntaxError: invalid syntax\n",
    "\n",
    "We can not use @ or any symbol as a key value '''"
   ],
   "metadata": {
    "collapsed": false,
    "ExecuteTime": {
     "start_time": "2023-04-15T12:54:04.156360Z",
     "end_time": "2023-04-15T12:54:04.209359Z"
    }
   }
  },
  {
   "cell_type": "code",
   "execution_count": 32,
   "outputs": [],
   "source": [
    "d3 = {'name': 'puru', '@abc' : 'abc', 123 : 'xyz', True : 'abc', False : 1234}"
   ],
   "metadata": {
    "collapsed": false,
    "ExecuteTime": {
     "start_time": "2023-04-15T12:56:43.190121Z",
     "end_time": "2023-04-15T12:56:43.245890Z"
    }
   }
  },
  {
   "cell_type": "code",
   "execution_count": 33,
   "outputs": [
    {
     "data": {
      "text/plain": "{'name': 'puru', '@abc': 'abc', 123: 'xyz', True: 'abc', False: 1234}"
     },
     "execution_count": 33,
     "metadata": {},
     "output_type": "execute_result"
    }
   ],
   "source": [
    "d3"
   ],
   "metadata": {
    "collapsed": false,
    "ExecuteTime": {
     "start_time": "2023-04-15T12:56:44.680716Z",
     "end_time": "2023-04-15T12:56:44.711469Z"
    }
   }
  },
  {
   "cell_type": "code",
   "execution_count": 35,
   "outputs": [
    {
     "data": {
      "text/plain": "'puru'"
     },
     "execution_count": 35,
     "metadata": {},
     "output_type": "execute_result"
    }
   ],
   "source": [
    "d3['name']"
   ],
   "metadata": {
    "collapsed": false,
    "ExecuteTime": {
     "start_time": "2023-04-15T12:57:23.678201Z",
     "end_time": "2023-04-15T12:57:23.716458Z"
    }
   }
  },
  {
   "cell_type": "code",
   "execution_count": 36,
   "outputs": [
    {
     "data": {
      "text/plain": "'xyz'"
     },
     "execution_count": 36,
     "metadata": {},
     "output_type": "execute_result"
    }
   ],
   "source": [
    "d3[123]"
   ],
   "metadata": {
    "collapsed": false,
    "ExecuteTime": {
     "start_time": "2023-04-15T12:57:34.906197Z",
     "end_time": "2023-04-15T12:57:34.985677Z"
    }
   }
  },
  {
   "cell_type": "code",
   "execution_count": 37,
   "outputs": [
    {
     "data": {
      "text/plain": "'abc'"
     },
     "execution_count": 37,
     "metadata": {},
     "output_type": "execute_result"
    }
   ],
   "source": [
    "d3[True]"
   ],
   "metadata": {
    "collapsed": false,
    "ExecuteTime": {
     "start_time": "2023-04-15T12:57:43.165168Z",
     "end_time": "2023-04-15T12:57:43.214446Z"
    }
   }
  },
  {
   "cell_type": "code",
   "execution_count": 38,
   "outputs": [
    {
     "data": {
      "text/plain": "1234"
     },
     "execution_count": 38,
     "metadata": {},
     "output_type": "execute_result"
    }
   ],
   "source": [
    "d3[False]"
   ],
   "metadata": {
    "collapsed": false,
    "ExecuteTime": {
     "start_time": "2023-04-15T12:57:47.235759Z",
     "end_time": "2023-04-15T12:57:47.417382Z"
    }
   }
  },
  {
   "cell_type": "code",
   "execution_count": 39,
   "outputs": [
    {
     "data": {
      "text/plain": "'abc'"
     },
     "execution_count": 39,
     "metadata": {},
     "output_type": "execute_result"
    }
   ],
   "source": [
    "d3['@abc']"
   ],
   "metadata": {
    "collapsed": false,
    "ExecuteTime": {
     "start_time": "2023-04-15T12:58:00.520052Z",
     "end_time": "2023-04-15T12:58:00.593976Z"
    }
   }
  },
  {
   "cell_type": "code",
   "execution_count": 40,
   "outputs": [
    {
     "data": {
      "text/plain": "'abc'"
     },
     "execution_count": 40,
     "metadata": {},
     "output_type": "execute_result"
    }
   ],
   "source": [
    "d3[1]"
   ],
   "metadata": {
    "collapsed": false,
    "ExecuteTime": {
     "start_time": "2023-04-15T12:58:05.733284Z",
     "end_time": "2023-04-15T12:58:06.112545Z"
    }
   }
  },
  {
   "cell_type": "code",
   "execution_count": 41,
   "outputs": [
    {
     "data": {
      "text/plain": "{'name': 'puru', '@abc': 'abc', 123: 'xyz', True: 'abc', False: 1234}"
     },
     "execution_count": 41,
     "metadata": {},
     "output_type": "execute_result"
    }
   ],
   "source": [
    "d3"
   ],
   "metadata": {
    "collapsed": false,
    "ExecuteTime": {
     "start_time": "2023-04-15T12:58:19.004147Z",
     "end_time": "2023-04-15T12:58:19.091637Z"
    }
   }
  },
  {
   "cell_type": "code",
   "execution_count": 42,
   "outputs": [
    {
     "data": {
      "text/plain": "1234"
     },
     "execution_count": 42,
     "metadata": {},
     "output_type": "execute_result"
    }
   ],
   "source": [
    "d3[0]"
   ],
   "metadata": {
    "collapsed": false,
    "ExecuteTime": {
     "start_time": "2023-04-15T12:58:32.695216Z",
     "end_time": "2023-04-15T12:58:32.774688Z"
    }
   }
  },
  {
   "cell_type": "code",
   "execution_count": 44,
   "outputs": [],
   "source": [
    "d4 = {'name' : 'puru', 'mail_id' : 'abc@gmail.com', 'name' : 'purushottam'}"
   ],
   "metadata": {
    "collapsed": false,
    "ExecuteTime": {
     "start_time": "2023-04-15T13:00:21.811902Z",
     "end_time": "2023-04-15T13:00:21.843535Z"
    }
   }
  },
  {
   "cell_type": "markdown",
   "source": [
    "KEY should be unique.\n",
    "If we duplicate the value of KEY then, it overwrites with the 2nd or latest value provided\n",
    "\n",
    "'name' : 'puru' & 'name' : 'purushottam'\n",
    "Here 'name' is KEY and 'puru' & 'purushottam' are VALUES"
   ],
   "metadata": {
    "collapsed": false
   }
  },
  {
   "cell_type": "code",
   "execution_count": 46,
   "outputs": [
    {
     "data": {
      "text/plain": "'purushottam'"
     },
     "execution_count": 46,
     "metadata": {},
     "output_type": "execute_result"
    }
   ],
   "source": [
    "d4['name']"
   ],
   "metadata": {
    "collapsed": false,
    "ExecuteTime": {
     "start_time": "2023-04-15T13:00:51.460487Z",
     "end_time": "2023-04-15T13:00:51.534006Z"
    }
   }
  },
  {
   "cell_type": "code",
   "execution_count": 47,
   "outputs": [],
   "source": [
    "d4 = {'name1' : 'puru', 'mail_id' : 'abc@gmail.com', 'name2' : 'purushottam'}"
   ],
   "metadata": {
    "collapsed": false,
    "ExecuteTime": {
     "start_time": "2023-04-15T13:05:04.350074Z",
     "end_time": "2023-04-15T13:05:04.423523Z"
    }
   }
  },
  {
   "cell_type": "code",
   "execution_count": 49,
   "outputs": [
    {
     "data": {
      "text/plain": "'puru'"
     },
     "execution_count": 49,
     "metadata": {},
     "output_type": "execute_result"
    }
   ],
   "source": [
    "d4['name1']"
   ],
   "metadata": {
    "collapsed": false,
    "ExecuteTime": {
     "start_time": "2023-04-15T13:05:15.488500Z",
     "end_time": "2023-04-15T13:05:15.532232Z"
    }
   }
  },
  {
   "cell_type": "code",
   "execution_count": 50,
   "outputs": [
    {
     "data": {
      "text/plain": "'purushottam'"
     },
     "execution_count": 50,
     "metadata": {},
     "output_type": "execute_result"
    }
   ],
   "source": [
    "d4['name2']"
   ],
   "metadata": {
    "collapsed": false,
    "ExecuteTime": {
     "start_time": "2023-04-15T13:05:21.334813Z",
     "end_time": "2023-04-15T13:05:21.487272Z"
    }
   }
  },
  {
   "cell_type": "code",
   "execution_count": 51,
   "outputs": [],
   "source": [
    "d5 = {'company' : 'pwskills', 'courses' : ['data science', 'web dev', 'java with dsa system design']}"
   ],
   "metadata": {
    "collapsed": false,
    "ExecuteTime": {
     "start_time": "2023-04-15T13:07:50.445484Z",
     "end_time": "2023-04-15T13:07:50.480477Z"
    }
   }
  },
  {
   "cell_type": "code",
   "execution_count": 52,
   "outputs": [
    {
     "data": {
      "text/plain": "{'company': 'pwskills',\n 'courses': ['data science', 'web dev', 'java with dsa system design']}"
     },
     "execution_count": 52,
     "metadata": {},
     "output_type": "execute_result"
    }
   ],
   "source": [
    "d5"
   ],
   "metadata": {
    "collapsed": false,
    "ExecuteTime": {
     "start_time": "2023-04-15T13:07:55.328831Z",
     "end_time": "2023-04-15T13:07:55.396649Z"
    }
   }
  },
  {
   "cell_type": "code",
   "execution_count": 55,
   "outputs": [
    {
     "data": {
      "text/plain": "['data science', 'web dev', 'java with dsa system design']"
     },
     "execution_count": 55,
     "metadata": {},
     "output_type": "execute_result"
    }
   ],
   "source": [
    "d5['courses']"
   ],
   "metadata": {
    "collapsed": false,
    "ExecuteTime": {
     "start_time": "2023-04-15T13:08:25.816667Z",
     "end_time": "2023-04-15T13:08:25.888104Z"
    }
   }
  },
  {
   "cell_type": "code",
   "execution_count": 58,
   "outputs": [
    {
     "data": {
      "text/plain": "'data science'"
     },
     "execution_count": 58,
     "metadata": {},
     "output_type": "execute_result"
    }
   ],
   "source": [
    "d5['courses'][0]"
   ],
   "metadata": {
    "collapsed": false,
    "ExecuteTime": {
     "start_time": "2023-04-15T13:09:51.263728Z",
     "end_time": "2023-04-15T13:09:51.318725Z"
    }
   }
  },
  {
   "cell_type": "code",
   "execution_count": 66,
   "outputs": [],
   "source": [
    "d6 = {'number' : [12,13,5,6,4,3,313,64654,2132,54654], 'assignment' : {1,2,3,4,5,6,4,5654,21321}, 'launch date' : (15,4,2023)}"
   ],
   "metadata": {
    "collapsed": false,
    "ExecuteTime": {
     "start_time": "2023-04-15T13:13:18.938542Z",
     "end_time": "2023-04-15T13:13:18.989366Z"
    }
   }
  },
  {
   "cell_type": "code",
   "execution_count": 67,
   "outputs": [
    {
     "data": {
      "text/plain": "{'number': [12, 13, 5, 6, 4, 3, 313, 64654, 2132, 54654],\n 'assignment': {1, 2, 3, 4, 5, 6, 5654, 21321},\n 'launch date': (15, 4, 2023)}"
     },
     "execution_count": 67,
     "metadata": {},
     "output_type": "execute_result"
    }
   ],
   "source": [
    "d6"
   ],
   "metadata": {
    "collapsed": false,
    "ExecuteTime": {
     "start_time": "2023-04-15T13:13:20.460262Z",
     "end_time": "2023-04-15T13:13:20.532708Z"
    }
   }
  },
  {
   "cell_type": "code",
   "execution_count": 68,
   "outputs": [],
   "source": [
    "d6 = {'number' : [12,13,5,6,4,3,313,64654,2132,54654], 'assignment' : {1,2,3,4,5,6,4,5654,21321}, 'launch date' : (15,4,2023), 'class_time' : {'web dev' : 8, 'data science masters' : 9, 'java' : 10}}"
   ],
   "metadata": {
    "collapsed": false,
    "ExecuteTime": {
     "start_time": "2023-04-15T13:15:55.076524Z",
     "end_time": "2023-04-15T13:15:55.181519Z"
    }
   }
  },
  {
   "cell_type": "markdown",
   "source": [
    "We can add Dictionary inside a Dictionary\n",
    "We can add List inside a Dict\n",
    "we can add tuples inside a Dict\n",
    "we can add set inside a dict\n",
    "we can also do nesting inside a Dict --> like List inside a List of a Dict, Dict inside Dict and so on ....\n",
    "\n",
    "Ex : d6 = {'number' : [12,13,5,6,4,3,313,64654,2132,54654], 'assignment' : {1,2,3,4,5,6,4,5654,21321}, 'launch date' : (15,4,2023), 'class_time' : {'web dev' : 8, 'data science masters' : 9, 'java' : 10}}"
   ],
   "metadata": {
    "collapsed": false
   }
  },
  {
   "cell_type": "code",
   "execution_count": 70,
   "outputs": [
    {
     "data": {
      "text/plain": "{'number': [12, 13, 5, 6, 4, 3, 313, 64654, 2132, 54654],\n 'assignment': {1, 2, 3, 4, 5, 6, 5654, 21321},\n 'launch date': (15, 4, 2023),\n 'class_time': {'web dev': 8, 'data science masters': 9, 'java': 10}}"
     },
     "execution_count": 70,
     "metadata": {},
     "output_type": "execute_result"
    }
   ],
   "source": [
    "d6"
   ],
   "metadata": {
    "collapsed": false,
    "ExecuteTime": {
     "start_time": "2023-04-15T13:21:12.339437Z",
     "end_time": "2023-04-15T13:21:12.383438Z"
    }
   }
  },
  {
   "cell_type": "code",
   "execution_count": 74,
   "outputs": [
    {
     "data": {
      "text/plain": "10"
     },
     "execution_count": 74,
     "metadata": {},
     "output_type": "execute_result"
    }
   ],
   "source": [
    "d6['class_time']['java']"
   ],
   "metadata": {
    "collapsed": false,
    "ExecuteTime": {
     "start_time": "2023-04-15T13:23:03.281259Z",
     "end_time": "2023-04-15T13:23:03.349259Z"
    }
   }
  },
  {
   "cell_type": "code",
   "execution_count": 75,
   "outputs": [
    {
     "data": {
      "text/plain": "{'number': [12, 13, 5, 6, 4, 3, 313, 64654, 2132, 54654],\n 'assignment': {1, 2, 3, 4, 5, 6, 5654, 21321},\n 'launch date': (15, 4, 2023),\n 'class_time': {'web dev': 8, 'data science masters': 9, 'java': 10}}"
     },
     "execution_count": 75,
     "metadata": {},
     "output_type": "execute_result"
    }
   ],
   "source": [
    "d6"
   ],
   "metadata": {
    "collapsed": false,
    "ExecuteTime": {
     "start_time": "2023-04-15T13:24:19.262295Z",
     "end_time": "2023-04-15T13:24:19.407108Z"
    }
   }
  },
  {
   "cell_type": "code",
   "execution_count": 76,
   "outputs": [],
   "source": [
    "d6['mentor'] = ['sudhanshu', 'krish', 'anurag', 'hayder', 'purushottam']"
   ],
   "metadata": {
    "collapsed": false,
    "ExecuteTime": {
     "start_time": "2023-04-15T13:26:39.099548Z",
     "end_time": "2023-04-15T13:26:39.239544Z"
    }
   }
  },
  {
   "cell_type": "code",
   "execution_count": 77,
   "outputs": [
    {
     "data": {
      "text/plain": "{'number': [12, 13, 5, 6, 4, 3, 313, 64654, 2132, 54654],\n 'assignment': {1, 2, 3, 4, 5, 6, 5654, 21321},\n 'launch date': (15, 4, 2023),\n 'class_time': {'web dev': 8, 'data science masters': 9, 'java': 10},\n 'mentor': ['sudhanshu', 'krish', 'anurag', 'hayder', 'purushottam']}"
     },
     "execution_count": 77,
     "metadata": {},
     "output_type": "execute_result"
    }
   ],
   "source": [
    "d6"
   ],
   "metadata": {
    "collapsed": false,
    "ExecuteTime": {
     "start_time": "2023-04-15T13:26:42.041544Z",
     "end_time": "2023-04-15T13:26:42.144543Z"
    }
   }
  },
  {
   "cell_type": "code",
   "execution_count": 78,
   "outputs": [
    {
     "data": {
      "text/plain": "[12, 13, 5, 6, 4, 3, 313, 64654, 2132, 54654]"
     },
     "execution_count": 78,
     "metadata": {},
     "output_type": "execute_result"
    }
   ],
   "source": [
    "d6['number']"
   ],
   "metadata": {
    "collapsed": false,
    "ExecuteTime": {
     "start_time": "2023-04-15T13:27:28.534983Z",
     "end_time": "2023-04-15T13:27:28.719993Z"
    }
   }
  },
  {
   "cell_type": "code",
   "execution_count": 79,
   "outputs": [],
   "source": [
    "d6['number'] = [1,2,3]"
   ],
   "metadata": {
    "collapsed": false,
    "ExecuteTime": {
     "start_time": "2023-04-15T13:27:44.405550Z",
     "end_time": "2023-04-15T13:27:44.515837Z"
    }
   }
  },
  {
   "cell_type": "code",
   "execution_count": 80,
   "outputs": [
    {
     "data": {
      "text/plain": "{'number': [1, 2, 3],\n 'assignment': {1, 2, 3, 4, 5, 6, 5654, 21321},\n 'launch date': (15, 4, 2023),\n 'class_time': {'web dev': 8, 'data science masters': 9, 'java': 10},\n 'mentor': ['sudhanshu', 'krish', 'anurag', 'hayder', 'purushottam']}"
     },
     "execution_count": 80,
     "metadata": {},
     "output_type": "execute_result"
    }
   ],
   "source": [
    "d6"
   ],
   "metadata": {
    "collapsed": false,
    "ExecuteTime": {
     "start_time": "2023-04-15T13:27:46.622075Z",
     "end_time": "2023-04-15T13:27:46.752338Z"
    }
   }
  },
  {
   "cell_type": "code",
   "execution_count": 82,
   "outputs": [
    {
     "data": {
      "text/plain": "[1, 2, 3]"
     },
     "execution_count": 82,
     "metadata": {},
     "output_type": "execute_result"
    }
   ],
   "source": [
    "d6.pop('number')"
   ],
   "metadata": {
    "collapsed": false,
    "ExecuteTime": {
     "start_time": "2023-04-15T13:28:32.652924Z",
     "end_time": "2023-04-15T13:28:32.785309Z"
    }
   }
  },
  {
   "cell_type": "code",
   "execution_count": 83,
   "outputs": [
    {
     "data": {
      "text/plain": "{'assignment': {1, 2, 3, 4, 5, 6, 5654, 21321},\n 'launch date': (15, 4, 2023),\n 'class_time': {'web dev': 8, 'data science masters': 9, 'java': 10},\n 'mentor': ['sudhanshu', 'krish', 'anurag', 'hayder', 'purushottam']}"
     },
     "execution_count": 83,
     "metadata": {},
     "output_type": "execute_result"
    }
   ],
   "source": [
    "d6"
   ],
   "metadata": {
    "collapsed": false,
    "ExecuteTime": {
     "start_time": "2023-04-15T13:28:36.289268Z",
     "end_time": "2023-04-15T13:28:36.337651Z"
    }
   }
  },
  {
   "cell_type": "code",
   "execution_count": 85,
   "outputs": [],
   "source": [
    "del d6['assignment']"
   ],
   "metadata": {
    "collapsed": false,
    "ExecuteTime": {
     "start_time": "2023-04-15T13:29:10.755252Z",
     "end_time": "2023-04-15T13:29:10.857744Z"
    }
   }
  },
  {
   "cell_type": "code",
   "execution_count": 86,
   "outputs": [
    {
     "data": {
      "text/plain": "{'launch date': (15, 4, 2023),\n 'class_time': {'web dev': 8, 'data science masters': 9, 'java': 10},\n 'mentor': ['sudhanshu', 'krish', 'anurag', 'hayder', 'purushottam']}"
     },
     "execution_count": 86,
     "metadata": {},
     "output_type": "execute_result"
    }
   ],
   "source": [
    "d6"
   ],
   "metadata": {
    "collapsed": false,
    "ExecuteTime": {
     "start_time": "2023-04-15T13:29:13.408225Z",
     "end_time": "2023-04-15T13:29:13.557676Z"
    }
   }
  },
  {
   "cell_type": "code",
   "execution_count": 87,
   "outputs": [
    {
     "data": {
      "text/plain": "dict_keys(['launch date', 'class_time', 'mentor'])"
     },
     "execution_count": 87,
     "metadata": {},
     "output_type": "execute_result"
    }
   ],
   "source": [
    "d6.keys()"
   ],
   "metadata": {
    "collapsed": false,
    "ExecuteTime": {
     "start_time": "2023-04-15T13:29:26.868568Z",
     "end_time": "2023-04-15T13:29:27.004835Z"
    }
   }
  },
  {
   "cell_type": "code",
   "execution_count": 88,
   "outputs": [
    {
     "data": {
      "text/plain": "dict_values([(15, 4, 2023), {'web dev': 8, 'data science masters': 9, 'java': 10}, ['sudhanshu', 'krish', 'anurag', 'hayder', 'purushottam']])"
     },
     "execution_count": 88,
     "metadata": {},
     "output_type": "execute_result"
    }
   ],
   "source": [
    "d6.values()"
   ],
   "metadata": {
    "collapsed": false,
    "ExecuteTime": {
     "start_time": "2023-04-15T13:30:05.758608Z",
     "end_time": "2023-04-15T13:30:05.946078Z"
    }
   }
  },
  {
   "cell_type": "code",
   "execution_count": 89,
   "outputs": [
    {
     "data": {
      "text/plain": "dict_items([('launch date', (15, 4, 2023)), ('class_time', {'web dev': 8, 'data science masters': 9, 'java': 10}), ('mentor', ['sudhanshu', 'krish', 'anurag', 'hayder', 'purushottam'])])"
     },
     "execution_count": 89,
     "metadata": {},
     "output_type": "execute_result"
    }
   ],
   "source": [
    "d6.items()"
   ],
   "metadata": {
    "collapsed": false,
    "ExecuteTime": {
     "start_time": "2023-04-15T13:30:48.897703Z",
     "end_time": "2023-04-15T13:30:49.101870Z"
    }
   }
  },
  {
   "cell_type": "code",
   "execution_count": 93,
   "outputs": [],
   "source": [
    "d6 = {'number' : [12,13,5,6,4,3,313,64654,2132,54654], 'assignment' : {1,2,3,4,5,6,4,5654,21321}, 'launch date' : (15,4,2023), 'class_time' : {'web dev' : 8, 'data science masters' : 9, 'java' : 10}, 'mentor' : ['sudhanshu', 'krish', 'anurag', 'hayder', 'purushottam']}"
   ],
   "metadata": {
    "collapsed": false,
    "ExecuteTime": {
     "start_time": "2023-04-15T13:32:38.410814Z",
     "end_time": "2023-04-15T13:32:38.466821Z"
    }
   }
  },
  {
   "cell_type": "code",
   "execution_count": 94,
   "outputs": [
    {
     "data": {
      "text/plain": "{'number': [12, 13, 5, 6, 4, 3, 313, 64654, 2132, 54654],\n 'assignment': {1, 2, 3, 4, 5, 6, 5654, 21321},\n 'launch date': (15, 4, 2023),\n 'class_time': {'web dev': 8, 'data science masters': 9, 'java': 10},\n 'mentor': ['sudhanshu', 'krish', 'anurag', 'hayder', 'purushottam']}"
     },
     "execution_count": 94,
     "metadata": {},
     "output_type": "execute_result"
    }
   ],
   "source": [
    "d6"
   ],
   "metadata": {
    "collapsed": false,
    "ExecuteTime": {
     "start_time": "2023-04-15T13:32:39.937092Z",
     "end_time": "2023-04-15T13:32:39.982297Z"
    }
   }
  },
  {
   "cell_type": "code",
   "execution_count": 95,
   "outputs": [
    {
     "data": {
      "text/plain": "dict_items([('number', [12, 13, 5, 6, 4, 3, 313, 64654, 2132, 54654]), ('assignment', {1, 2, 3, 4, 5, 6, 21321, 5654}), ('launch date', (15, 4, 2023)), ('class_time', {'web dev': 8, 'data science masters': 9, 'java': 10}), ('mentor', ['sudhanshu', 'krish', 'anurag', 'hayder', 'purushottam'])])"
     },
     "execution_count": 95,
     "metadata": {},
     "output_type": "execute_result"
    }
   ],
   "source": [
    "d6.items()"
   ],
   "metadata": {
    "collapsed": false,
    "ExecuteTime": {
     "start_time": "2023-04-15T13:32:46.272343Z",
     "end_time": "2023-04-15T13:32:46.466413Z"
    }
   }
  },
  {
   "cell_type": "markdown",
   "source": [
    "--------------------------- Dictionary practice ends here ---------------------------"
   ],
   "metadata": {
    "collapsed": false
   }
  },
  {
   "cell_type": "markdown",
   "source": [
    "-------------------- Conditional Statements (If-Else) practice starts from here --------------------"
   ],
   "metadata": {
    "collapsed": false
   }
  },
  {
   "cell_type": "code",
   "execution_count": 109,
   "outputs": [],
   "source": [
    "marks = int(input('Enter your Marks : '))\n",
    "\n",
    "if marks >= 80 :\n",
    "    print('You will be a part of A0 Batch')\n",
    "elif 60 <= marks < 80 :\n",
    "    print('You will be a part of A1 Batch')\n",
    "elif 40 <= marks < 60 :\n",
    "    print('You will be a part of A2 Batch')\n",
    "else :\n",
    "    print('You will be part of A3 Batch')"
   ],
   "metadata": {
    "collapsed": false,
    "ExecuteTime": {
     "start_time": "2023-04-15T13:54:02.971739Z",
     "end_time": "2023-04-15T13:54:06.110029Z"
    }
   }
  },
  {
   "cell_type": "code",
   "execution_count": null,
   "outputs": [],
   "source": [],
   "metadata": {
    "collapsed": false
   }
  }
 ],
 "metadata": {
  "kernelspec": {
   "display_name": "Python 3",
   "language": "python",
   "name": "python3"
  },
  "language_info": {
   "codemirror_mode": {
    "name": "ipython",
    "version": 2
   },
   "file_extension": ".py",
   "mimetype": "text/x-python",
   "name": "python",
   "nbconvert_exporter": "python",
   "pygments_lexer": "ipython2",
   "version": "2.7.6"
  }
 },
 "nbformat": 4,
 "nbformat_minor": 0
}
