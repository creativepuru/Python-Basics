{
 "cells": [
  {
   "cell_type": "code",
   "execution_count": 1,
   "metadata": {
    "collapsed": true,
    "ExecuteTime": {
     "start_time": "2023-04-15T13:58:57.248240Z",
     "end_time": "2023-04-15T13:58:58.093237Z"
    }
   },
   "outputs": [],
   "source": [
    "d = {}"
   ]
  },
  {
   "cell_type": "code",
   "execution_count": 2,
   "outputs": [
    {
     "data": {
      "text/plain": "dict"
     },
     "execution_count": 2,
     "metadata": {},
     "output_type": "execute_result"
    }
   ],
   "source": [
    "type(d)"
   ],
   "metadata": {
    "collapsed": false,
    "ExecuteTime": {
     "start_time": "2023-04-15T13:58:57.334233Z",
     "end_time": "2023-04-15T13:58:58.127236Z"
    }
   }
  },
  {
   "cell_type": "code",
   "execution_count": 3,
   "outputs": [],
   "source": [
    "d1 = {'key' : \"puru\"}"
   ],
   "metadata": {
    "collapsed": false,
    "ExecuteTime": {
     "start_time": "2023-04-15T13:58:57.400238Z",
     "end_time": "2023-04-15T13:58:58.128245Z"
    }
   }
  },
  {
   "cell_type": "code",
   "execution_count": 4,
   "outputs": [
    {
     "data": {
      "text/plain": "{'key': 'puru'}"
     },
     "execution_count": 4,
     "metadata": {},
     "output_type": "execute_result"
    }
   ],
   "source": [
    "d1"
   ],
   "metadata": {
    "collapsed": false,
    "ExecuteTime": {
     "start_time": "2023-04-15T13:58:57.522239Z",
     "end_time": "2023-04-15T13:58:58.137235Z"
    }
   }
  },
  {
   "cell_type": "code",
   "execution_count": 5,
   "outputs": [],
   "source": [
    "d2 = {'name' : \"Purushottam\", 'email' : \"abc@gmail.com\", 'number' : '12345'}"
   ],
   "metadata": {
    "collapsed": false,
    "ExecuteTime": {
     "start_time": "2023-04-15T13:58:57.777238Z",
     "end_time": "2023-04-15T13:58:58.138238Z"
    }
   }
  },
  {
   "cell_type": "code",
   "execution_count": 6,
   "outputs": [
    {
     "data": {
      "text/plain": "{'name': 'Purushottam', 'email': 'abc@gmail.com', 'number': '12345'}"
     },
     "execution_count": 6,
     "metadata": {},
     "output_type": "execute_result"
    }
   ],
   "source": [
    "d2"
   ],
   "metadata": {
    "collapsed": false,
    "ExecuteTime": {
     "start_time": "2023-04-15T13:58:57.960234Z",
     "end_time": "2023-04-15T13:58:58.618240Z"
    }
   }
  },
  {
   "cell_type": "code",
   "execution_count": 7,
   "outputs": [
    {
     "data": {
      "text/plain": "dict"
     },
     "execution_count": 7,
     "metadata": {},
     "output_type": "execute_result"
    }
   ],
   "source": [
    "type(d2)"
   ],
   "metadata": {
    "collapsed": false,
    "ExecuteTime": {
     "start_time": "2023-04-15T13:58:58.214235Z",
     "end_time": "2023-04-15T13:58:58.790241Z"
    }
   }
  },
  {
   "cell_type": "code",
   "execution_count": 8,
   "outputs": [
    {
     "data": {
      "text/plain": "dict"
     },
     "execution_count": 8,
     "metadata": {},
     "output_type": "execute_result"
    }
   ],
   "source": [
    "type(d1)"
   ],
   "metadata": {
    "collapsed": false,
    "ExecuteTime": {
     "start_time": "2023-04-15T13:58:58.510238Z",
     "end_time": "2023-04-15T13:58:58.791234Z"
    }
   }
  },
  {
   "cell_type": "code",
   "execution_count": 9,
   "outputs": [],
   "source": [
    "d3 = {123 : 'puru'}"
   ],
   "metadata": {
    "collapsed": false,
    "ExecuteTime": {
     "start_time": "2023-04-15T13:58:58.600234Z",
     "end_time": "2023-04-15T13:58:59.012234Z"
    }
   }
  },
  {
   "cell_type": "code",
   "execution_count": 10,
   "outputs": [
    {
     "data": {
      "text/plain": "{123: 'puru'}"
     },
     "execution_count": 10,
     "metadata": {},
     "output_type": "execute_result"
    }
   ],
   "source": [
    "d3"
   ],
   "metadata": {
    "collapsed": false,
    "ExecuteTime": {
     "start_time": "2023-04-15T13:58:58.657237Z",
     "end_time": "2023-04-15T13:58:59.577235Z"
    }
   }
  },
  {
   "cell_type": "code",
   "execution_count": 11,
   "outputs": [
    {
     "data": {
      "text/plain": "\" d4 = {123 : 'puru', @abc : 'abc'}\\nERROR :\\nCell In[23], line 1\\nd4 = {123 : 'puru', @abc : 'abc'}\\n^\\nSyntaxError: invalid syntax\\n\\nWe can not use @ or any symbol as a key value \""
     },
     "execution_count": 11,
     "metadata": {},
     "output_type": "execute_result"
    }
   ],
   "source": [
    "''' d4 = {123 : 'puru', @abc : 'abc'}\n",
    "ERROR :\n",
    "Cell In[23], line 1\n",
    "d4 = {123 : 'puru', @abc : 'abc'}\n",
    "^\n",
    "SyntaxError: invalid syntax\n",
    "\n",
    "We can not use @ or any symbol as a key value '''"
   ],
   "metadata": {
    "collapsed": false,
    "ExecuteTime": {
     "start_time": "2023-04-15T13:58:59.361237Z",
     "end_time": "2023-04-15T13:58:59.629237Z"
    }
   }
  },
  {
   "cell_type": "code",
   "execution_count": 12,
   "outputs": [],
   "source": [
    "d3 = {'name': 'puru', '@abc' : 'abc', 123 : 'xyz', True : 'abc', False : 1234}"
   ],
   "metadata": {
    "collapsed": false,
    "ExecuteTime": {
     "start_time": "2023-04-15T13:58:59.546239Z",
     "end_time": "2023-04-15T13:58:59.835240Z"
    }
   }
  },
  {
   "cell_type": "code",
   "execution_count": 13,
   "outputs": [
    {
     "data": {
      "text/plain": "{'name': 'puru', '@abc': 'abc', 123: 'xyz', True: 'abc', False: 1234}"
     },
     "execution_count": 13,
     "metadata": {},
     "output_type": "execute_result"
    }
   ],
   "source": [
    "d3"
   ],
   "metadata": {
    "collapsed": false,
    "ExecuteTime": {
     "start_time": "2023-04-15T13:58:59.761240Z",
     "end_time": "2023-04-15T13:59:00.102236Z"
    }
   }
  },
  {
   "cell_type": "code",
   "execution_count": 14,
   "outputs": [
    {
     "data": {
      "text/plain": "'puru'"
     },
     "execution_count": 14,
     "metadata": {},
     "output_type": "execute_result"
    }
   ],
   "source": [
    "d3['name']"
   ],
   "metadata": {
    "collapsed": false,
    "ExecuteTime": {
     "start_time": "2023-04-15T13:58:59.897239Z",
     "end_time": "2023-04-15T13:59:00.106236Z"
    }
   }
  },
  {
   "cell_type": "code",
   "execution_count": 15,
   "outputs": [
    {
     "data": {
      "text/plain": "'xyz'"
     },
     "execution_count": 15,
     "metadata": {},
     "output_type": "execute_result"
    }
   ],
   "source": [
    "d3[123]"
   ],
   "metadata": {
    "collapsed": false,
    "ExecuteTime": {
     "start_time": "2023-04-15T13:58:59.963239Z",
     "end_time": "2023-04-15T13:59:00.748236Z"
    }
   }
  },
  {
   "cell_type": "code",
   "execution_count": 16,
   "outputs": [
    {
     "data": {
      "text/plain": "'abc'"
     },
     "execution_count": 16,
     "metadata": {},
     "output_type": "execute_result"
    }
   ],
   "source": [
    "d3[True]"
   ],
   "metadata": {
    "collapsed": false,
    "ExecuteTime": {
     "start_time": "2023-04-15T13:59:00.717233Z",
     "end_time": "2023-04-15T13:59:00.945235Z"
    }
   }
  },
  {
   "cell_type": "code",
   "execution_count": 17,
   "outputs": [
    {
     "data": {
      "text/plain": "1234"
     },
     "execution_count": 17,
     "metadata": {},
     "output_type": "execute_result"
    }
   ],
   "source": [
    "d3[False]"
   ],
   "metadata": {
    "collapsed": false,
    "ExecuteTime": {
     "start_time": "2023-04-15T13:59:00.793240Z",
     "end_time": "2023-04-15T13:59:00.949239Z"
    }
   }
  },
  {
   "cell_type": "code",
   "execution_count": 18,
   "outputs": [
    {
     "data": {
      "text/plain": "'abc'"
     },
     "execution_count": 18,
     "metadata": {},
     "output_type": "execute_result"
    }
   ],
   "source": [
    "d3['@abc']"
   ],
   "metadata": {
    "collapsed": false,
    "ExecuteTime": {
     "start_time": "2023-04-15T13:59:01.096239Z",
     "end_time": "2023-04-15T13:59:01.302237Z"
    }
   }
  },
  {
   "cell_type": "code",
   "execution_count": 19,
   "outputs": [
    {
     "data": {
      "text/plain": "'abc'"
     },
     "execution_count": 19,
     "metadata": {},
     "output_type": "execute_result"
    }
   ],
   "source": [
    "d3[1]"
   ],
   "metadata": {
    "collapsed": false,
    "ExecuteTime": {
     "start_time": "2023-04-15T13:59:01.192236Z",
     "end_time": "2023-04-15T13:59:01.565242Z"
    }
   }
  },
  {
   "cell_type": "code",
   "execution_count": 20,
   "outputs": [
    {
     "data": {
      "text/plain": "{'name': 'puru', '@abc': 'abc', 123: 'xyz', True: 'abc', False: 1234}"
     },
     "execution_count": 20,
     "metadata": {},
     "output_type": "execute_result"
    }
   ],
   "source": [
    "d3"
   ],
   "metadata": {
    "collapsed": false,
    "ExecuteTime": {
     "start_time": "2023-04-15T13:59:01.491237Z",
     "end_time": "2023-04-15T13:59:01.745243Z"
    }
   }
  },
  {
   "cell_type": "code",
   "execution_count": 21,
   "outputs": [
    {
     "data": {
      "text/plain": "1234"
     },
     "execution_count": 21,
     "metadata": {},
     "output_type": "execute_result"
    }
   ],
   "source": [
    "d3[0]"
   ],
   "metadata": {
    "collapsed": false,
    "ExecuteTime": {
     "start_time": "2023-04-15T13:59:01.603234Z",
     "end_time": "2023-04-15T13:59:02.006236Z"
    }
   }
  },
  {
   "cell_type": "code",
   "execution_count": 22,
   "outputs": [],
   "source": [
    "d4 = {'name' : 'puru', 'mail_id' : 'abc@gmail.com', 'name' : 'purushottam'}"
   ],
   "metadata": {
    "collapsed": false,
    "ExecuteTime": {
     "start_time": "2023-04-15T13:59:01.808237Z",
     "end_time": "2023-04-15T13:59:02.180236Z"
    }
   }
  },
  {
   "cell_type": "markdown",
   "source": [
    "KEY should be unique.\n",
    "If we duplicate the value of KEY then, it overwrites with the 2nd or latest value provided\n",
    "\n",
    "'name' : 'puru' & 'name' : 'purushottam'\n",
    "Here 'name' is KEY and 'puru' & 'purushottam' are VALUES"
   ],
   "metadata": {
    "collapsed": false
   }
  },
  {
   "cell_type": "code",
   "execution_count": 23,
   "outputs": [
    {
     "data": {
      "text/plain": "'purushottam'"
     },
     "execution_count": 23,
     "metadata": {},
     "output_type": "execute_result"
    }
   ],
   "source": [
    "d4['name']"
   ],
   "metadata": {
    "collapsed": false,
    "ExecuteTime": {
     "start_time": "2023-04-15T13:59:01.994234Z",
     "end_time": "2023-04-15T13:59:02.388236Z"
    }
   }
  },
  {
   "cell_type": "code",
   "execution_count": 24,
   "outputs": [],
   "source": [
    "d4 = {'name1' : 'puru', 'mail_id' : 'abc@gmail.com', 'name2' : 'purushottam'}"
   ],
   "metadata": {
    "collapsed": false,
    "ExecuteTime": {
     "start_time": "2023-04-15T13:59:02.232239Z",
     "end_time": "2023-04-15T13:59:02.547238Z"
    }
   }
  },
  {
   "cell_type": "code",
   "execution_count": 25,
   "outputs": [
    {
     "data": {
      "text/plain": "'puru'"
     },
     "execution_count": 25,
     "metadata": {},
     "output_type": "execute_result"
    }
   ],
   "source": [
    "d4['name1']"
   ],
   "metadata": {
    "collapsed": false,
    "ExecuteTime": {
     "start_time": "2023-04-15T13:59:02.476238Z",
     "end_time": "2023-04-15T13:59:02.745241Z"
    }
   }
  },
  {
   "cell_type": "code",
   "execution_count": 26,
   "outputs": [
    {
     "data": {
      "text/plain": "'purushottam'"
     },
     "execution_count": 26,
     "metadata": {},
     "output_type": "execute_result"
    }
   ],
   "source": [
    "d4['name2']"
   ],
   "metadata": {
    "collapsed": false,
    "ExecuteTime": {
     "start_time": "2023-04-15T13:59:02.738236Z",
     "end_time": "2023-04-15T13:59:03.640235Z"
    }
   }
  },
  {
   "cell_type": "code",
   "execution_count": 27,
   "outputs": [],
   "source": [
    "d5 = {'company' : 'pwskills', 'courses' : ['data science', 'web dev', 'java with dsa system design']}"
   ],
   "metadata": {
    "collapsed": false,
    "ExecuteTime": {
     "start_time": "2023-04-15T13:59:03.436234Z",
     "end_time": "2023-04-15T13:59:04.163234Z"
    }
   }
  },
  {
   "cell_type": "code",
   "execution_count": 28,
   "outputs": [
    {
     "data": {
      "text/plain": "{'company': 'pwskills',\n 'courses': ['data science', 'web dev', 'java with dsa system design']}"
     },
     "execution_count": 28,
     "metadata": {},
     "output_type": "execute_result"
    }
   ],
   "source": [
    "d5"
   ],
   "metadata": {
    "collapsed": false,
    "ExecuteTime": {
     "start_time": "2023-04-15T13:59:04.129237Z",
     "end_time": "2023-04-15T13:59:04.914236Z"
    }
   }
  },
  {
   "cell_type": "code",
   "execution_count": 29,
   "outputs": [
    {
     "data": {
      "text/plain": "['data science', 'web dev', 'java with dsa system design']"
     },
     "execution_count": 29,
     "metadata": {},
     "output_type": "execute_result"
    }
   ],
   "source": [
    "d5['courses']"
   ],
   "metadata": {
    "collapsed": false,
    "ExecuteTime": {
     "start_time": "2023-04-15T13:59:04.775238Z",
     "end_time": "2023-04-15T13:59:05.111235Z"
    }
   }
  },
  {
   "cell_type": "code",
   "execution_count": 30,
   "outputs": [
    {
     "data": {
      "text/plain": "'data science'"
     },
     "execution_count": 30,
     "metadata": {},
     "output_type": "execute_result"
    }
   ],
   "source": [
    "d5['courses'][0]"
   ],
   "metadata": {
    "collapsed": false,
    "ExecuteTime": {
     "start_time": "2023-04-15T13:59:04.928241Z",
     "end_time": "2023-04-15T13:59:05.279235Z"
    }
   }
  },
  {
   "cell_type": "code",
   "execution_count": 31,
   "outputs": [],
   "source": [
    "d6 = {'number' : [12,13,5,6,4,3,313,64654,2132,54654], 'assignment' : {1,2,3,4,5,6,4,5654,21321}, 'launch date' : (15,4,2023)}"
   ],
   "metadata": {
    "collapsed": false,
    "ExecuteTime": {
     "start_time": "2023-04-15T13:59:05.022238Z",
     "end_time": "2023-04-15T13:59:05.281238Z"
    }
   }
  },
  {
   "cell_type": "code",
   "execution_count": 32,
   "outputs": [
    {
     "data": {
      "text/plain": "{'number': [12, 13, 5, 6, 4, 3, 313, 64654, 2132, 54654],\n 'assignment': {1, 2, 3, 4, 5, 6, 5654, 21321},\n 'launch date': (15, 4, 2023)}"
     },
     "execution_count": 32,
     "metadata": {},
     "output_type": "execute_result"
    }
   ],
   "source": [
    "d6"
   ],
   "metadata": {
    "collapsed": false,
    "ExecuteTime": {
     "start_time": "2023-04-15T13:59:05.098233Z",
     "end_time": "2023-04-15T13:59:05.573249Z"
    }
   }
  },
  {
   "cell_type": "code",
   "execution_count": 33,
   "outputs": [],
   "source": [
    "d6 = {'number' : [12,13,5,6,4,3,313,64654,2132,54654], 'assignment' : {1,2,3,4,5,6,4,5654,21321}, 'launch date' : (15,4,2023), 'class_time' : {'web dev' : 8, 'data science masters' : 9, 'java' : 10}}"
   ],
   "metadata": {
    "collapsed": false,
    "ExecuteTime": {
     "start_time": "2023-04-15T13:59:05.327249Z",
     "end_time": "2023-04-15T13:59:05.775240Z"
    }
   }
  },
  {
   "cell_type": "markdown",
   "source": [
    "We can add Dictionary inside a Dictionary\n",
    "We can add List inside a Dict\n",
    "we can add tuples inside a Dict\n",
    "we can add set inside a dict\n",
    "we can also do nesting inside a Dict --> like List inside a List of a Dict, Dict inside Dict and so on ....\n",
    "\n",
    "Ex : d6 = {'number' : [12,13,5,6,4,3,313,64654,2132,54654], 'assignment' : {1,2,3,4,5,6,4,5654,21321}, 'launch date' : (15,4,2023), 'class_time' : {'web dev' : 8, 'data science masters' : 9, 'java' : 10}}"
   ],
   "metadata": {
    "collapsed": false
   }
  },
  {
   "cell_type": "code",
   "execution_count": 34,
   "outputs": [
    {
     "data": {
      "text/plain": "{'number': [12, 13, 5, 6, 4, 3, 313, 64654, 2132, 54654],\n 'assignment': {1, 2, 3, 4, 5, 6, 5654, 21321},\n 'launch date': (15, 4, 2023),\n 'class_time': {'web dev': 8, 'data science masters': 9, 'java': 10}}"
     },
     "execution_count": 34,
     "metadata": {},
     "output_type": "execute_result"
    }
   ],
   "source": [
    "d6"
   ],
   "metadata": {
    "collapsed": false,
    "ExecuteTime": {
     "start_time": "2023-04-15T13:59:05.645236Z",
     "end_time": "2023-04-15T13:59:05.823234Z"
    }
   }
  },
  {
   "cell_type": "code",
   "execution_count": 35,
   "outputs": [
    {
     "data": {
      "text/plain": "10"
     },
     "execution_count": 35,
     "metadata": {},
     "output_type": "execute_result"
    }
   ],
   "source": [
    "d6['class_time']['java']"
   ],
   "metadata": {
    "collapsed": false,
    "ExecuteTime": {
     "start_time": "2023-04-15T13:59:05.743236Z",
     "end_time": "2023-04-15T13:59:06.090246Z"
    }
   }
  },
  {
   "cell_type": "code",
   "execution_count": 36,
   "outputs": [
    {
     "data": {
      "text/plain": "{'number': [12, 13, 5, 6, 4, 3, 313, 64654, 2132, 54654],\n 'assignment': {1, 2, 3, 4, 5, 6, 5654, 21321},\n 'launch date': (15, 4, 2023),\n 'class_time': {'web dev': 8, 'data science masters': 9, 'java': 10}}"
     },
     "execution_count": 36,
     "metadata": {},
     "output_type": "execute_result"
    }
   ],
   "source": [
    "d6"
   ],
   "metadata": {
    "collapsed": false,
    "ExecuteTime": {
     "start_time": "2023-04-15T13:59:05.872238Z",
     "end_time": "2023-04-15T13:59:06.167235Z"
    }
   }
  },
  {
   "cell_type": "code",
   "execution_count": 37,
   "outputs": [],
   "source": [
    "d6['mentor'] = ['sudhanshu', 'krish', 'anurag', 'hayder', 'purushottam']"
   ],
   "metadata": {
    "collapsed": false,
    "ExecuteTime": {
     "start_time": "2023-04-15T13:59:06.036239Z",
     "end_time": "2023-04-15T13:59:06.317235Z"
    }
   }
  },
  {
   "cell_type": "code",
   "execution_count": 38,
   "outputs": [
    {
     "data": {
      "text/plain": "{'number': [12, 13, 5, 6, 4, 3, 313, 64654, 2132, 54654],\n 'assignment': {1, 2, 3, 4, 5, 6, 5654, 21321},\n 'launch date': (15, 4, 2023),\n 'class_time': {'web dev': 8, 'data science masters': 9, 'java': 10},\n 'mentor': ['sudhanshu', 'krish', 'anurag', 'hayder', 'purushottam']}"
     },
     "execution_count": 38,
     "metadata": {},
     "output_type": "execute_result"
    }
   ],
   "source": [
    "d6"
   ],
   "metadata": {
    "collapsed": false,
    "ExecuteTime": {
     "start_time": "2023-04-15T13:59:06.117233Z",
     "end_time": "2023-04-15T13:59:06.616238Z"
    }
   }
  },
  {
   "cell_type": "code",
   "execution_count": 39,
   "outputs": [
    {
     "data": {
      "text/plain": "[12, 13, 5, 6, 4, 3, 313, 64654, 2132, 54654]"
     },
     "execution_count": 39,
     "metadata": {},
     "output_type": "execute_result"
    }
   ],
   "source": [
    "d6['number']"
   ],
   "metadata": {
    "collapsed": false,
    "ExecuteTime": {
     "start_time": "2023-04-15T13:59:06.599234Z",
     "end_time": "2023-04-15T13:59:06.913237Z"
    }
   }
  },
  {
   "cell_type": "code",
   "execution_count": 40,
   "outputs": [],
   "source": [
    "d6['number'] = [1,2,3]"
   ],
   "metadata": {
    "collapsed": false,
    "ExecuteTime": {
     "start_time": "2023-04-15T13:59:06.857237Z",
     "end_time": "2023-04-15T13:59:07.090241Z"
    }
   }
  },
  {
   "cell_type": "code",
   "execution_count": 41,
   "outputs": [
    {
     "data": {
      "text/plain": "{'number': [1, 2, 3],\n 'assignment': {1, 2, 3, 4, 5, 6, 5654, 21321},\n 'launch date': (15, 4, 2023),\n 'class_time': {'web dev': 8, 'data science masters': 9, 'java': 10},\n 'mentor': ['sudhanshu', 'krish', 'anurag', 'hayder', 'purushottam']}"
     },
     "execution_count": 41,
     "metadata": {},
     "output_type": "execute_result"
    }
   ],
   "source": [
    "d6"
   ],
   "metadata": {
    "collapsed": false,
    "ExecuteTime": {
     "start_time": "2023-04-15T13:59:07.032239Z",
     "end_time": "2023-04-15T13:59:07.138235Z"
    }
   }
  },
  {
   "cell_type": "code",
   "execution_count": 42,
   "outputs": [
    {
     "data": {
      "text/plain": "[1, 2, 3]"
     },
     "execution_count": 42,
     "metadata": {},
     "output_type": "execute_result"
    }
   ],
   "source": [
    "d6.pop('number')"
   ],
   "metadata": {
    "collapsed": false,
    "ExecuteTime": {
     "start_time": "2023-04-15T13:59:07.100240Z",
     "end_time": "2023-04-15T13:59:07.531242Z"
    }
   }
  },
  {
   "cell_type": "code",
   "execution_count": 43,
   "outputs": [
    {
     "data": {
      "text/plain": "{'assignment': {1, 2, 3, 4, 5, 6, 5654, 21321},\n 'launch date': (15, 4, 2023),\n 'class_time': {'web dev': 8, 'data science masters': 9, 'java': 10},\n 'mentor': ['sudhanshu', 'krish', 'anurag', 'hayder', 'purushottam']}"
     },
     "execution_count": 43,
     "metadata": {},
     "output_type": "execute_result"
    }
   ],
   "source": [
    "d6"
   ],
   "metadata": {
    "collapsed": false,
    "ExecuteTime": {
     "start_time": "2023-04-15T13:59:07.281235Z",
     "end_time": "2023-04-15T13:59:07.752237Z"
    }
   }
  },
  {
   "cell_type": "code",
   "execution_count": 44,
   "outputs": [],
   "source": [
    "del d6['assignment']"
   ],
   "metadata": {
    "collapsed": false,
    "ExecuteTime": {
     "start_time": "2023-04-15T13:59:07.571241Z",
     "end_time": "2023-04-15T13:59:07.765232Z"
    }
   }
  },
  {
   "cell_type": "code",
   "execution_count": 45,
   "outputs": [
    {
     "data": {
      "text/plain": "{'launch date': (15, 4, 2023),\n 'class_time': {'web dev': 8, 'data science masters': 9, 'java': 10},\n 'mentor': ['sudhanshu', 'krish', 'anurag', 'hayder', 'purushottam']}"
     },
     "execution_count": 45,
     "metadata": {},
     "output_type": "execute_result"
    }
   ],
   "source": [
    "d6"
   ],
   "metadata": {
    "collapsed": false,
    "ExecuteTime": {
     "start_time": "2023-04-15T13:59:07.631239Z",
     "end_time": "2023-04-15T13:59:08.067235Z"
    }
   }
  },
  {
   "cell_type": "code",
   "execution_count": 46,
   "outputs": [
    {
     "data": {
      "text/plain": "dict_keys(['launch date', 'class_time', 'mentor'])"
     },
     "execution_count": 46,
     "metadata": {},
     "output_type": "execute_result"
    }
   ],
   "source": [
    "d6.keys()"
   ],
   "metadata": {
    "collapsed": false,
    "ExecuteTime": {
     "start_time": "2023-04-15T13:59:07.824236Z",
     "end_time": "2023-04-15T13:59:08.104237Z"
    }
   }
  },
  {
   "cell_type": "code",
   "execution_count": 47,
   "outputs": [
    {
     "data": {
      "text/plain": "dict_values([(15, 4, 2023), {'web dev': 8, 'data science masters': 9, 'java': 10}, ['sudhanshu', 'krish', 'anurag', 'hayder', 'purushottam']])"
     },
     "execution_count": 47,
     "metadata": {},
     "output_type": "execute_result"
    }
   ],
   "source": [
    "d6.values()"
   ],
   "metadata": {
    "collapsed": false,
    "ExecuteTime": {
     "start_time": "2023-04-15T13:59:07.931239Z",
     "end_time": "2023-04-15T13:59:08.301236Z"
    }
   }
  },
  {
   "cell_type": "code",
   "execution_count": 48,
   "outputs": [
    {
     "data": {
      "text/plain": "dict_items([('launch date', (15, 4, 2023)), ('class_time', {'web dev': 8, 'data science masters': 9, 'java': 10}), ('mentor', ['sudhanshu', 'krish', 'anurag', 'hayder', 'purushottam'])])"
     },
     "execution_count": 48,
     "metadata": {},
     "output_type": "execute_result"
    }
   ],
   "source": [
    "d6.items()"
   ],
   "metadata": {
    "collapsed": false,
    "ExecuteTime": {
     "start_time": "2023-04-15T13:59:08.230248Z",
     "end_time": "2023-04-15T13:59:08.510235Z"
    }
   }
  },
  {
   "cell_type": "code",
   "execution_count": 49,
   "outputs": [],
   "source": [
    "d6 = {'number' : [12,13,5,6,4,3,313,64654,2132,54654], 'assignment' : {1,2,3,4,5,6,4,5654,21321}, 'launch date' : (15,4,2023), 'class_time' : {'web dev' : 8, 'data science masters' : 9, 'java' : 10}, 'mentor' : ['sudhanshu', 'krish', 'anurag', 'hayder', 'purushottam']}"
   ],
   "metadata": {
    "collapsed": false,
    "ExecuteTime": {
     "start_time": "2023-04-15T13:59:08.309239Z",
     "end_time": "2023-04-15T13:59:08.623236Z"
    }
   }
  },
  {
   "cell_type": "code",
   "execution_count": 50,
   "outputs": [
    {
     "data": {
      "text/plain": "{'number': [12, 13, 5, 6, 4, 3, 313, 64654, 2132, 54654],\n 'assignment': {1, 2, 3, 4, 5, 6, 5654, 21321},\n 'launch date': (15, 4, 2023),\n 'class_time': {'web dev': 8, 'data science masters': 9, 'java': 10},\n 'mentor': ['sudhanshu', 'krish', 'anurag', 'hayder', 'purushottam']}"
     },
     "execution_count": 50,
     "metadata": {},
     "output_type": "execute_result"
    }
   ],
   "source": [
    "d6"
   ],
   "metadata": {
    "collapsed": false,
    "ExecuteTime": {
     "start_time": "2023-04-15T13:59:08.387238Z",
     "end_time": "2023-04-15T13:59:08.656240Z"
    }
   }
  },
  {
   "cell_type": "code",
   "execution_count": 51,
   "outputs": [
    {
     "data": {
      "text/plain": "dict_items([('number', [12, 13, 5, 6, 4, 3, 313, 64654, 2132, 54654]), ('assignment', {1, 2, 3, 4, 5, 6, 21321, 5654}), ('launch date', (15, 4, 2023)), ('class_time', {'web dev': 8, 'data science masters': 9, 'java': 10}), ('mentor', ['sudhanshu', 'krish', 'anurag', 'hayder', 'purushottam'])])"
     },
     "execution_count": 51,
     "metadata": {},
     "output_type": "execute_result"
    }
   ],
   "source": [
    "d6.items()"
   ],
   "metadata": {
    "collapsed": false,
    "ExecuteTime": {
     "start_time": "2023-04-15T13:59:08.503236Z",
     "end_time": "2023-04-15T13:59:08.811235Z"
    }
   }
  },
  {
   "cell_type": "markdown",
   "source": [
    "--------------------------- Dictionary practice ends here ---------------------------"
   ],
   "metadata": {
    "collapsed": false
   }
  },
  {
   "cell_type": "markdown",
   "source": [
    "-------------------- Conditional Statements (If-Else) practice starts from here --------------------"
   ],
   "metadata": {
    "collapsed": false
   }
  },
  {
   "cell_type": "code",
   "execution_count": 61,
   "outputs": [
    {
     "name": "stdout",
     "output_type": "stream",
     "text": [
      "You have got :  100.0  marks !!!\n",
      "You will be a part of A0 Batch\n"
     ]
    }
   ],
   "source": [
    "marks = float(input('Enter your Marks : '))\n",
    "print(\"You have got : \", marks, \" marks !!!\")\n",
    "if marks >= 80 :\n",
    "    print('You will be a part of A0 Batch')\n",
    "elif 60 <= marks < 80 :\n",
    "    print('You will be a part of A1 Batch')\n",
    "elif 40 <= marks < 60 :\n",
    "    print('You will be a part of A2 Batch')\n",
    "else :\n",
    "    print('You will be part of A3 Batch')"
   ],
   "metadata": {
    "collapsed": false,
    "ExecuteTime": {
     "start_time": "2023-04-15T14:09:28.301617Z",
     "end_time": "2023-04-15T14:09:32.017012Z"
    }
   }
  },
  {
   "cell_type": "code",
   "execution_count": 62,
   "outputs": [],
   "source": [
    "mark = input('Enter your Marks : ')"
   ],
   "metadata": {
    "collapsed": false,
    "ExecuteTime": {
     "start_time": "2023-04-15T14:09:39.995005Z",
     "end_time": "2023-04-15T14:09:41.690088Z"
    }
   }
  },
  {
   "cell_type": "code",
   "execution_count": 63,
   "outputs": [
    {
     "data": {
      "text/plain": "'95'"
     },
     "execution_count": 63,
     "metadata": {},
     "output_type": "execute_result"
    }
   ],
   "source": [
    "mark"
   ],
   "metadata": {
    "collapsed": false,
    "ExecuteTime": {
     "start_time": "2023-04-15T14:09:43.846088Z",
     "end_time": "2023-04-15T14:09:43.961701Z"
    }
   }
  },
  {
   "cell_type": "code",
   "execution_count": 64,
   "outputs": [
    {
     "data": {
      "text/plain": "str"
     },
     "execution_count": 64,
     "metadata": {},
     "output_type": "execute_result"
    }
   ],
   "source": [
    "type(mark)"
   ],
   "metadata": {
    "collapsed": false,
    "ExecuteTime": {
     "start_time": "2023-04-15T14:09:46.952165Z",
     "end_time": "2023-04-15T14:09:47.083087Z"
    }
   }
  },
  {
   "cell_type": "code",
   "execution_count": 65,
   "outputs": [
    {
     "data": {
      "text/plain": "100.0"
     },
     "execution_count": 65,
     "metadata": {},
     "output_type": "execute_result"
    }
   ],
   "source": [
    "marks"
   ],
   "metadata": {
    "collapsed": false,
    "ExecuteTime": {
     "start_time": "2023-04-15T14:09:50.617345Z",
     "end_time": "2023-04-15T14:09:50.713420Z"
    }
   }
  },
  {
   "cell_type": "code",
   "execution_count": 66,
   "outputs": [
    {
     "data": {
      "text/plain": "float"
     },
     "execution_count": 66,
     "metadata": {},
     "output_type": "execute_result"
    }
   ],
   "source": [
    "type(marks)"
   ],
   "metadata": {
    "collapsed": false,
    "ExecuteTime": {
     "start_time": "2023-04-15T14:09:52.773953Z",
     "end_time": "2023-04-15T14:09:52.902089Z"
    }
   }
  },
  {
   "cell_type": "code",
   "execution_count": null,
   "outputs": [],
   "source": [],
   "metadata": {
    "collapsed": false
   }
  }
 ],
 "metadata": {
  "kernelspec": {
   "display_name": "Python 3",
   "language": "python",
   "name": "python3"
  },
  "language_info": {
   "codemirror_mode": {
    "name": "ipython",
    "version": 2
   },
   "file_extension": ".py",
   "mimetype": "text/x-python",
   "name": "python",
   "nbconvert_exporter": "python",
   "pygments_lexer": "ipython2",
   "version": "2.7.6"
  }
 },
 "nbformat": 4,
 "nbformat_minor": 0
}
