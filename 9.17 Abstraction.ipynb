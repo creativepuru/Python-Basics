{
 "cells": [
  {
   "cell_type": "markdown",
   "metadata": {
    "collapsed": false
   },
   "source": [
    "# ABSTRACTION"
   ]
  },
  {
   "cell_type": "code",
   "execution_count": 13,
   "metadata": {
    "collapsed": true,
    "ExecuteTime": {
     "end_time": "2023-05-08T14:13:36.954816500Z",
     "start_time": "2023-05-08T14:13:36.827817300Z"
    }
   },
   "outputs": [],
   "source": [
    "import abc\n",
    "\n",
    "class pwskills :\n",
    "\n",
    "    @abc.abstractmethod\n",
    "    def students_details(self):\n",
    "        pass\n",
    "\n",
    "    @abc.abstractmethod\n",
    "    def students_assignments(self):\n",
    "        pass\n",
    "\n",
    "    @abc.abstractmethod\n",
    "    def students_marks(self):\n",
    "        pass"
   ]
  },
  {
   "cell_type": "code",
   "execution_count": 14,
   "metadata": {
    "collapsed": false,
    "ExecuteTime": {
     "end_time": "2023-05-08T14:13:36.956814400Z",
     "start_time": "2023-05-08T14:13:36.867816900Z"
    }
   },
   "outputs": [],
   "source": [
    "# importing pre-defined abstract method from the class 'abc'\n",
    "\n",
    "import abc"
   ]
  },
  {
   "cell_type": "code",
   "execution_count": 15,
   "metadata": {
    "collapsed": false,
    "ExecuteTime": {
     "end_time": "2023-05-08T14:13:37.270817300Z",
     "start_time": "2023-05-08T14:13:36.891816400Z"
    }
   },
   "outputs": [],
   "source": [
    "# Creating class and it's functions :\n",
    "\n",
    "class pwskills :\n",
    "\n",
    "    def student_details(self):\n",
    "        pass\n",
    "\n",
    "    def student_assignments(self):\n",
    "        pass\n",
    "\n",
    "    def student_marks(self):\n",
    "        pass"
   ]
  },
  {
   "cell_type": "code",
   "execution_count": 16,
   "metadata": {
    "collapsed": false,
    "ExecuteTime": {
     "end_time": "2023-05-08T14:13:37.361816900Z",
     "start_time": "2023-05-08T14:13:37.279817600Z"
    }
   },
   "outputs": [],
   "source": [
    "# Applying abstract method by using @abc.abstractmethod\n",
    "# Skeleton class / Blueprint Class\n",
    "\n",
    "class pwskills :\n",
    "\n",
    "    @abc.abstractmethod\n",
    "    def student_details(self):\n",
    "        pass\n",
    "\n",
    "    @abc.abstractmethod\n",
    "    def student_assignments(self):\n",
    "        pass\n",
    "\n",
    "    @abc.abstractmethod\n",
    "    def student_marks(self):\n",
    "        pass"
   ]
  },
  {
   "cell_type": "code",
   "execution_count": 17,
   "metadata": {
    "collapsed": false,
    "ExecuteTime": {
     "end_time": "2023-05-08T14:13:37.399811900Z",
     "start_time": "2023-05-08T14:13:37.363815200Z"
    }
   },
   "outputs": [],
   "source": [
    "# Class 1\n",
    "\n",
    "class student_details(pwskills) :\n",
    "\n",
    "    def student_details(self):\n",
    "        return \"This is a method for taking student details\"\n",
    "\n",
    "    def student_assignments(self):\n",
    "        return \"This is a method for assignment details for a particular student\"\n"
   ]
  },
  {
   "cell_type": "code",
   "execution_count": 18,
   "metadata": {
    "collapsed": false,
    "ExecuteTime": {
     "end_time": "2023-05-08T14:13:37.468815400Z",
     "start_time": "2023-05-08T14:13:37.399811900Z"
    }
   },
   "outputs": [],
   "source": [
    "# Class 2\n",
    "\n",
    "class data_science_masters(pwskills):\n",
    "\n",
    "    def student_details(self):\n",
    "        return \"This will return student details for Data Science Masters\"\n",
    "\n",
    "    def student_assignments(self):\n",
    "        return \"This will give you Student assignment details for Data Science Masters\""
   ]
  },
  {
   "cell_type": "code",
   "execution_count": 19,
   "metadata": {
    "collapsed": false,
    "ExecuteTime": {
     "end_time": "2023-05-08T14:13:37.613824Z",
     "start_time": "2023-05-08T14:13:37.424816Z"
    }
   },
   "outputs": [],
   "source": [
    "dsm = data_science_masters()"
   ]
  },
  {
   "cell_type": "code",
   "execution_count": 20,
   "metadata": {
    "collapsed": false,
    "ExecuteTime": {
     "end_time": "2023-05-08T14:13:37.730814300Z",
     "start_time": "2023-05-08T14:13:37.616820400Z"
    }
   },
   "outputs": [
    {
     "data": {
      "text/plain": "'This will return student details for Data Science Masters'"
     },
     "execution_count": 20,
     "metadata": {},
     "output_type": "execute_result"
    }
   ],
   "source": [
    "dsm.student_details()"
   ]
  },
  {
   "cell_type": "code",
   "execution_count": 21,
   "metadata": {
    "collapsed": false,
    "ExecuteTime": {
     "end_time": "2023-05-08T14:13:38.077814300Z",
     "start_time": "2023-05-08T14:13:37.654817800Z"
    }
   },
   "outputs": [],
   "source": [
    "sd = student_details()"
   ]
  },
  {
   "cell_type": "code",
   "execution_count": 22,
   "metadata": {
    "collapsed": false,
    "ExecuteTime": {
     "end_time": "2023-05-08T14:13:38.142816500Z",
     "start_time": "2023-05-08T14:13:38.085815400Z"
    }
   },
   "outputs": [
    {
     "data": {
      "text/plain": "'This is a method for taking student details'"
     },
     "execution_count": 22,
     "metadata": {},
     "output_type": "execute_result"
    }
   ],
   "source": [
    "sd.student_details()"
   ]
  },
  {
   "cell_type": "code",
   "execution_count": 23,
   "metadata": {
    "collapsed": false,
    "ExecuteTime": {
     "end_time": "2023-05-08T14:13:38.262816500Z",
     "start_time": "2023-05-08T14:13:38.132820500Z"
    }
   },
   "outputs": [
    {
     "data": {
      "text/plain": "'This will give you Student assignment details for Data Science Masters'"
     },
     "execution_count": 23,
     "metadata": {},
     "output_type": "execute_result"
    }
   ],
   "source": [
    "dsm.student_assignments()"
   ]
  },
  {
   "cell_type": "code",
   "execution_count": 24,
   "metadata": {
    "collapsed": false,
    "ExecuteTime": {
     "end_time": "2023-05-08T14:13:38.537850300Z",
     "start_time": "2023-05-08T14:13:38.214816500Z"
    }
   },
   "outputs": [
    {
     "data": {
      "text/plain": "'This is a method for assignment details for a particular student'"
     },
     "execution_count": 24,
     "metadata": {},
     "output_type": "execute_result"
    }
   ],
   "source": [
    "sd.student_assignments()"
   ]
  },
  {
   "cell_type": "code",
   "execution_count": 24,
   "metadata": {
    "collapsed": false,
    "ExecuteTime": {
     "end_time": "2023-05-08T14:13:38.562814800Z",
     "start_time": "2023-05-08T14:13:38.421814800Z"
    }
   },
   "outputs": [],
   "source": []
  }
 ],
 "metadata": {
  "kernelspec": {
   "display_name": "Python 3",
   "language": "python",
   "name": "python3"
  },
  "language_info": {
   "codemirror_mode": {
    "name": "ipython",
    "version": 3
   },
   "file_extension": ".py",
   "mimetype": "text/x-python",
   "name": "python",
   "nbconvert_exporter": "python",
   "pygments_lexer": "ipython3",
   "version": "3.10.4"
  }
 },
 "nbformat": 4,
 "nbformat_minor": 0
}
