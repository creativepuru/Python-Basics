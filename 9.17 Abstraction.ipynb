{
 "cells": [
  {
   "cell_type": "markdown",
   "metadata": {
    "collapsed": false
   },
   "source": [
    "# ABSTRACTION"
   ]
  },
  {
   "cell_type": "code",
   "execution_count": 37,
   "metadata": {
    "collapsed": true,
    "ExecuteTime": {
     "end_time": "2023-05-08T14:12:10.996495300Z",
     "start_time": "2023-05-08T14:12:10.843492200Z"
    }
   },
   "outputs": [],
   "source": [
    "import abc\n",
    "\n",
    "class pwskills :\n",
    "\n",
    "    @abc.abstractmethod\n",
    "    def students_details(self):\n",
    "        pass\n",
    "\n",
    "    @abc.abstractmethod\n",
    "    def students_assignments(self):\n",
    "        pass\n",
    "\n",
    "    @abc.abstractmethod\n",
    "    def students_marks(self):\n",
    "        pass"
   ]
  },
  {
   "cell_type": "code",
   "execution_count": 38,
   "metadata": {
    "collapsed": false,
    "ExecuteTime": {
     "end_time": "2023-05-08T14:12:10.999492300Z",
     "start_time": "2023-05-08T14:12:10.887496Z"
    }
   },
   "outputs": [],
   "source": [
    "# importing pre-defined abstract method from the class 'abc'\n",
    "\n",
    "import abc"
   ]
  },
  {
   "cell_type": "code",
   "execution_count": 39,
   "metadata": {
    "collapsed": false,
    "ExecuteTime": {
     "end_time": "2023-05-08T14:12:11.128489800Z",
     "start_time": "2023-05-08T14:12:10.951495700Z"
    }
   },
   "outputs": [],
   "source": [
    "# Creating class and it's functions :\n",
    "\n",
    "class pwskills :\n",
    "\n",
    "    def student_details(self):\n",
    "        pass\n",
    "\n",
    "    def student_assignments(self):\n",
    "        pass\n",
    "\n",
    "    def student_marks(self):\n",
    "        pass"
   ]
  },
  {
   "cell_type": "code",
   "execution_count": 40,
   "metadata": {
    "collapsed": false,
    "ExecuteTime": {
     "end_time": "2023-05-08T14:12:11.337490200Z",
     "start_time": "2023-05-08T14:12:11.143494200Z"
    }
   },
   "outputs": [],
   "source": [
    "# Applying abstract method by using @abc.abstractmethod\n",
    "# Skeleton class / Blueprint Class\n",
    "\n",
    "class pwskills :\n",
    "\n",
    "    @abc.abstractmethod\n",
    "    def student_details(self):\n",
    "        pass\n",
    "\n",
    "    @abc.abstractmethod\n",
    "    def student_assignments(self):\n",
    "        pass\n",
    "\n",
    "    @abc.abstractmethod\n",
    "    def student_marks(self):\n",
    "        pass"
   ]
  },
  {
   "cell_type": "code",
   "execution_count": 41,
   "metadata": {
    "collapsed": false,
    "ExecuteTime": {
     "end_time": "2023-05-08T14:12:11.405491900Z",
     "start_time": "2023-05-08T14:12:11.349493100Z"
    }
   },
   "outputs": [],
   "source": [
    "# Class 1\n",
    "\n",
    "class student_details(pwskills) :\n",
    "\n",
    "    def student_details(self):\n",
    "        return \"This is a method for taking student details\"\n",
    "\n",
    "    def student_assignments(self):\n",
    "        return \"This is a method for assignment details for a particular student\"\n"
   ]
  },
  {
   "cell_type": "code",
   "execution_count": 42,
   "metadata": {
    "collapsed": false,
    "ExecuteTime": {
     "end_time": "2023-05-08T14:12:11.468491400Z",
     "start_time": "2023-05-08T14:12:11.384495500Z"
    }
   },
   "outputs": [],
   "source": [
    "# Class 2\n",
    "\n",
    "class data_science_masters(pwskills):\n",
    "\n",
    "    def student_details(self):\n",
    "        return \"This will return student details for Data Science Masters\"\n",
    "\n",
    "    def student_assignments(self):\n",
    "        return \"This will give you Student assignment details for Data Science Masters\""
   ]
  },
  {
   "cell_type": "code",
   "execution_count": 43,
   "metadata": {
    "collapsed": false,
    "ExecuteTime": {
     "end_time": "2023-05-08T14:12:11.593498700Z",
     "start_time": "2023-05-08T14:12:11.458490300Z"
    }
   },
   "outputs": [],
   "source": [
    "dsm = data_science_masters()"
   ]
  },
  {
   "cell_type": "code",
   "execution_count": 44,
   "metadata": {
    "collapsed": false,
    "ExecuteTime": {
     "end_time": "2023-05-08T14:12:11.834488200Z",
     "start_time": "2023-05-08T14:12:11.604495200Z"
    }
   },
   "outputs": [
    {
     "data": {
      "text/plain": "'This will return student details for Data Science Masters'"
     },
     "execution_count": 44,
     "metadata": {},
     "output_type": "execute_result"
    }
   ],
   "source": [
    "dsm.student_details()"
   ]
  },
  {
   "cell_type": "code",
   "execution_count": 45,
   "metadata": {
    "collapsed": false,
    "ExecuteTime": {
     "end_time": "2023-05-08T14:12:11.896493200Z",
     "start_time": "2023-05-08T14:12:11.752499900Z"
    }
   },
   "outputs": [],
   "source": [
    "sd = student_details()"
   ]
  },
  {
   "cell_type": "code",
   "execution_count": 46,
   "metadata": {
    "collapsed": false,
    "ExecuteTime": {
     "end_time": "2023-05-08T14:12:12.106494700Z",
     "start_time": "2023-05-08T14:12:11.878497700Z"
    }
   },
   "outputs": [
    {
     "data": {
      "text/plain": "'This is a method for taking student details'"
     },
     "execution_count": 46,
     "metadata": {},
     "output_type": "execute_result"
    }
   ],
   "source": [
    "sd.student_details()"
   ]
  },
  {
   "cell_type": "code",
   "execution_count": 47,
   "metadata": {
    "collapsed": false,
    "ExecuteTime": {
     "end_time": "2023-05-08T14:12:12.513494800Z",
     "start_time": "2023-05-08T14:12:12.120491800Z"
    }
   },
   "outputs": [
    {
     "data": {
      "text/plain": "'This will give you Student assignment details for Data Science Masters'"
     },
     "execution_count": 47,
     "metadata": {},
     "output_type": "execute_result"
    }
   ],
   "source": [
    "dsm.student_assignments()"
   ]
  },
  {
   "cell_type": "code",
   "execution_count": 48,
   "metadata": {
    "collapsed": false,
    "ExecuteTime": {
     "end_time": "2023-05-08T14:12:12.670488600Z",
     "start_time": "2023-05-08T14:12:12.543491300Z"
    }
   },
   "outputs": [
    {
     "data": {
      "text/plain": "'This is a method for assignment details for a particular student'"
     },
     "execution_count": 48,
     "metadata": {},
     "output_type": "execute_result"
    }
   ],
   "source": [
    "sd.student_assignments()"
   ]
  },
  {
   "cell_type": "code",
   "execution_count": 48,
   "metadata": {
    "collapsed": false,
    "ExecuteTime": {
     "end_time": "2023-05-08T14:12:12.770496700Z",
     "start_time": "2023-05-08T14:12:12.717491700Z"
    }
   },
   "outputs": [],
   "source": []
  }
 ],
 "metadata": {
  "kernelspec": {
   "display_name": "Python 3",
   "language": "python",
   "name": "python3"
  },
  "language_info": {
   "codemirror_mode": {
    "name": "ipython",
    "version": 3
   },
   "file_extension": ".py",
   "mimetype": "text/x-python",
   "name": "python",
   "nbconvert_exporter": "python",
   "pygments_lexer": "ipython3",
   "version": "3.10.4"
  }
 },
 "nbformat": 4,
 "nbformat_minor": 0
}
