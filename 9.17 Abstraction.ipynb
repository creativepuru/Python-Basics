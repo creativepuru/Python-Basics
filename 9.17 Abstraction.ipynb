{
 "cells": [
  {
   "cell_type": "markdown",
   "metadata": {
    "collapsed": false
   },
   "source": [
    "# ABSTRACTION"
   ]
  },
  {
   "cell_type": "code",
   "execution_count": 1,
   "metadata": {
    "collapsed": true,
    "ExecuteTime": {
     "end_time": "2023-06-03T12:23:06.239463500Z",
     "start_time": "2023-06-03T12:23:06.212098400Z"
    }
   },
   "outputs": [],
   "source": [
    "import abc\n",
    "\n",
    "class pwskills :\n",
    "\n",
    "    @abc.abstractmethod\n",
    "    def students_details(self):\n",
    "        pass\n",
    "\n",
    "    @abc.abstractmethod\n",
    "    def students_assignments(self):\n",
    "        pass\n",
    "\n",
    "    @abc.abstractmethod\n",
    "    def students_marks(self):\n",
    "        pass"
   ]
  },
  {
   "cell_type": "code",
   "execution_count": 2,
   "metadata": {
    "collapsed": false,
    "ExecuteTime": {
     "end_time": "2023-06-03T12:23:06.239463500Z",
     "start_time": "2023-06-03T12:23:06.218626900Z"
    }
   },
   "outputs": [],
   "source": [
    "# importing pre-defined abstract method from the class 'abc'\n",
    "\n",
    "import abc"
   ]
  },
  {
   "cell_type": "code",
   "execution_count": 3,
   "metadata": {
    "collapsed": false,
    "ExecuteTime": {
     "end_time": "2023-06-03T12:23:06.240580400Z",
     "start_time": "2023-06-03T12:23:06.221102800Z"
    }
   },
   "outputs": [],
   "source": [
    "# Creating class and it's functions :\n",
    "\n",
    "class pwskills :\n",
    "\n",
    "    def student_details(self):\n",
    "        pass\n",
    "\n",
    "    def student_assignments(self):\n",
    "        pass\n",
    "\n",
    "    def student_marks(self):\n",
    "        pass"
   ]
  },
  {
   "cell_type": "code",
   "execution_count": 3,
   "metadata": {
    "collapsed": false,
    "ExecuteTime": {
     "end_time": "2023-06-03T12:23:06.240580400Z",
     "start_time": "2023-06-03T12:23:06.225966700Z"
    }
   },
   "outputs": [],
   "source": []
  },
  {
   "cell_type": "code",
   "execution_count": 4,
   "metadata": {
    "collapsed": false,
    "ExecuteTime": {
     "end_time": "2023-06-03T12:23:06.240580400Z",
     "start_time": "2023-06-03T12:23:06.231067700Z"
    }
   },
   "outputs": [],
   "source": [
    "# Applying abstract method by using @abc.abstractmethod\n",
    "# Skeleton class / Blueprint Class\n",
    "\n",
    "class pwskills :\n",
    "\n",
    "    @abc.abstractmethod\n",
    "    def student_details(self):\n",
    "        pass\n",
    "\n",
    "    @abc.abstractmethod\n",
    "    def student_assignments(self):\n",
    "        pass\n",
    "\n",
    "    @abc.abstractmethod\n",
    "    def student_marks(self):\n",
    "        pass"
   ]
  },
  {
   "cell_type": "code",
   "execution_count": 5,
   "metadata": {
    "collapsed": false,
    "ExecuteTime": {
     "end_time": "2023-06-03T12:23:06.240580400Z",
     "start_time": "2023-06-03T12:23:06.236428800Z"
    }
   },
   "outputs": [],
   "source": [
    "# Class 1\n",
    "\n",
    "class student_details(pwskills) :\n",
    "\n",
    "    def student_details(self):\n",
    "        return \"This is a method for taking student details\"\n",
    "\n",
    "    def student_assignments(self):\n",
    "        return \"This is a method for assignment details for a particular student\"\n"
   ]
  },
  {
   "cell_type": "code",
   "execution_count": 6,
   "metadata": {
    "collapsed": false,
    "ExecuteTime": {
     "end_time": "2023-06-03T12:23:06.248535900Z",
     "start_time": "2023-06-03T12:23:06.242948600Z"
    }
   },
   "outputs": [],
   "source": [
    "# Class 2\n",
    "\n",
    "class data_science_masters(pwskills):\n",
    "\n",
    "    def student_details(self):\n",
    "        return \"This will return student details for Data Science Masters\"\n",
    "\n",
    "    def student_assignments(self):\n",
    "        return \"This will give you Student assignment details for Data Science Masters\""
   ]
  },
  {
   "cell_type": "code",
   "execution_count": 7,
   "metadata": {
    "collapsed": false,
    "ExecuteTime": {
     "end_time": "2023-06-03T12:23:06.252431100Z",
     "start_time": "2023-06-03T12:23:06.251086900Z"
    }
   },
   "outputs": [],
   "source": [
    "dsm = data_science_masters()"
   ]
  },
  {
   "cell_type": "code",
   "execution_count": 8,
   "metadata": {
    "collapsed": false,
    "ExecuteTime": {
     "end_time": "2023-06-03T12:23:06.260481900Z",
     "start_time": "2023-06-03T12:23:06.255866400Z"
    }
   },
   "outputs": [
    {
     "data": {
      "text/plain": "'This will return student details for Data Science Masters'"
     },
     "execution_count": 8,
     "metadata": {},
     "output_type": "execute_result"
    }
   ],
   "source": [
    "dsm.student_details()"
   ]
  },
  {
   "cell_type": "code",
   "execution_count": 9,
   "metadata": {
    "collapsed": false,
    "ExecuteTime": {
     "end_time": "2023-06-03T12:23:06.307129200Z",
     "start_time": "2023-06-03T12:23:06.261858Z"
    }
   },
   "outputs": [],
   "source": [
    "sd = student_details()"
   ]
  },
  {
   "cell_type": "code",
   "execution_count": 10,
   "metadata": {
    "collapsed": false,
    "ExecuteTime": {
     "end_time": "2023-06-03T12:23:06.317356Z",
     "start_time": "2023-06-03T12:23:06.265297400Z"
    }
   },
   "outputs": [
    {
     "data": {
      "text/plain": "'This is a method for taking student details'"
     },
     "execution_count": 10,
     "metadata": {},
     "output_type": "execute_result"
    }
   ],
   "source": [
    "sd.student_details()"
   ]
  },
  {
   "cell_type": "code",
   "execution_count": 11,
   "metadata": {
    "collapsed": false,
    "ExecuteTime": {
     "end_time": "2023-06-03T12:23:06.318353Z",
     "start_time": "2023-06-03T12:23:06.273512300Z"
    }
   },
   "outputs": [
    {
     "data": {
      "text/plain": "'This will give you Student assignment details for Data Science Masters'"
     },
     "execution_count": 11,
     "metadata": {},
     "output_type": "execute_result"
    }
   ],
   "source": [
    "dsm.student_assignments()"
   ]
  },
  {
   "cell_type": "code",
   "execution_count": 12,
   "metadata": {
    "collapsed": false,
    "ExecuteTime": {
     "end_time": "2023-06-03T12:23:06.318353Z",
     "start_time": "2023-06-03T12:23:06.278891Z"
    }
   },
   "outputs": [
    {
     "data": {
      "text/plain": "'This is a method for assignment details for a particular student'"
     },
     "execution_count": 12,
     "metadata": {},
     "output_type": "execute_result"
    }
   ],
   "source": [
    "sd.student_assignments()"
   ]
  },
  {
   "cell_type": "code",
   "execution_count": 12,
   "metadata": {
    "collapsed": false,
    "ExecuteTime": {
     "end_time": "2023-06-03T12:23:06.318353Z",
     "start_time": "2023-06-03T12:23:06.286813500Z"
    }
   },
   "outputs": [],
   "source": []
  }
 ],
 "metadata": {
  "kernelspec": {
   "display_name": "Python 3",
   "language": "python",
   "name": "python3"
  },
  "language_info": {
   "codemirror_mode": {
    "name": "ipython",
    "version": 3
   },
   "file_extension": ".py",
   "mimetype": "text/x-python",
   "name": "python",
   "nbconvert_exporter": "python",
   "pygments_lexer": "ipython3",
   "version": "3.10.4"
  }
 },
 "nbformat": 4,
 "nbformat_minor": 0
}
