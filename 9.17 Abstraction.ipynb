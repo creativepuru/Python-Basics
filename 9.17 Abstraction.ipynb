{
 "cells": [
  {
   "cell_type": "markdown",
   "metadata": {
    "collapsed": false
   },
   "source": [
    "# ABSTRACTION"
   ]
  },
  {
   "cell_type": "code",
   "execution_count": 25,
   "metadata": {
    "collapsed": true,
    "ExecuteTime": {
     "end_time": "2023-05-08T14:15:25.455883500Z",
     "start_time": "2023-05-08T14:15:25.328882500Z"
    }
   },
   "outputs": [],
   "source": [
    "import abc\n",
    "\n",
    "class pwskills :\n",
    "\n",
    "    @abc.abstractmethod\n",
    "    def students_details(self):\n",
    "        pass\n",
    "\n",
    "    @abc.abstractmethod\n",
    "    def students_assignments(self):\n",
    "        pass\n",
    "\n",
    "    @abc.abstractmethod\n",
    "    def students_marks(self):\n",
    "        pass"
   ]
  },
  {
   "cell_type": "code",
   "execution_count": 26,
   "metadata": {
    "collapsed": false,
    "ExecuteTime": {
     "end_time": "2023-05-08T14:15:25.458882500Z",
     "start_time": "2023-05-08T14:15:25.355881200Z"
    }
   },
   "outputs": [],
   "source": [
    "# importing pre-defined abstract method from the class 'abc'\n",
    "\n",
    "import abc"
   ]
  },
  {
   "cell_type": "code",
   "execution_count": 27,
   "metadata": {
    "collapsed": false,
    "ExecuteTime": {
     "end_time": "2023-05-08T14:15:25.523879100Z",
     "start_time": "2023-05-08T14:15:25.449879300Z"
    }
   },
   "outputs": [],
   "source": [
    "# Creating class and it's functions :\n",
    "\n",
    "class pwskills :\n",
    "\n",
    "    def student_details(self):\n",
    "        pass\n",
    "\n",
    "    def student_assignments(self):\n",
    "        pass\n",
    "\n",
    "    def student_marks(self):\n",
    "        pass"
   ]
  },
  {
   "cell_type": "code",
   "execution_count": 28,
   "metadata": {
    "collapsed": false,
    "ExecuteTime": {
     "end_time": "2023-05-08T14:15:25.543883500Z",
     "start_time": "2023-05-08T14:15:25.506885800Z"
    }
   },
   "outputs": [],
   "source": [
    "# Applying abstract method by using @abc.abstractmethod\n",
    "# Skeleton class / Blueprint Class\n",
    "\n",
    "class pwskills :\n",
    "\n",
    "    @abc.abstractmethod\n",
    "    def student_details(self):\n",
    "        pass\n",
    "\n",
    "    @abc.abstractmethod\n",
    "    def student_assignments(self):\n",
    "        pass\n",
    "\n",
    "    @abc.abstractmethod\n",
    "    def student_marks(self):\n",
    "        pass"
   ]
  },
  {
   "cell_type": "code",
   "execution_count": 29,
   "metadata": {
    "collapsed": false,
    "ExecuteTime": {
     "end_time": "2023-05-08T14:15:25.659881400Z",
     "start_time": "2023-05-08T14:15:25.558882600Z"
    }
   },
   "outputs": [],
   "source": [
    "# Class 1\n",
    "\n",
    "class student_details(pwskills) :\n",
    "\n",
    "    def student_details(self):\n",
    "        return \"This is a method for taking student details\"\n",
    "\n",
    "    def student_assignments(self):\n",
    "        return \"This is a method for assignment details for a particular student\"\n"
   ]
  },
  {
   "cell_type": "code",
   "execution_count": 30,
   "metadata": {
    "collapsed": false,
    "ExecuteTime": {
     "end_time": "2023-05-08T14:15:25.756879Z",
     "start_time": "2023-05-08T14:15:25.671882500Z"
    }
   },
   "outputs": [],
   "source": [
    "# Class 2\n",
    "\n",
    "class data_science_masters(pwskills):\n",
    "\n",
    "    def student_details(self):\n",
    "        return \"This will return student details for Data Science Masters\"\n",
    "\n",
    "    def student_assignments(self):\n",
    "        return \"This will give you Student assignment details for Data Science Masters\""
   ]
  },
  {
   "cell_type": "code",
   "execution_count": 31,
   "metadata": {
    "collapsed": false,
    "ExecuteTime": {
     "end_time": "2023-05-08T14:15:25.859883700Z",
     "start_time": "2023-05-08T14:15:25.755881400Z"
    }
   },
   "outputs": [],
   "source": [
    "dsm = data_science_masters()"
   ]
  },
  {
   "cell_type": "code",
   "execution_count": 32,
   "metadata": {
    "collapsed": false,
    "ExecuteTime": {
     "end_time": "2023-05-08T14:15:25.951879500Z",
     "start_time": "2023-05-08T14:15:25.861881Z"
    }
   },
   "outputs": [
    {
     "data": {
      "text/plain": "'This will return student details for Data Science Masters'"
     },
     "execution_count": 32,
     "metadata": {},
     "output_type": "execute_result"
    }
   ],
   "source": [
    "dsm.student_details()"
   ]
  },
  {
   "cell_type": "code",
   "execution_count": 33,
   "metadata": {
    "collapsed": false,
    "ExecuteTime": {
     "end_time": "2023-05-08T14:15:26.097886100Z",
     "start_time": "2023-05-08T14:15:25.956884Z"
    }
   },
   "outputs": [],
   "source": [
    "sd = student_details()"
   ]
  },
  {
   "cell_type": "code",
   "execution_count": 34,
   "metadata": {
    "collapsed": false,
    "ExecuteTime": {
     "end_time": "2023-05-08T14:15:26.204878700Z",
     "start_time": "2023-05-08T14:15:26.101883700Z"
    }
   },
   "outputs": [
    {
     "data": {
      "text/plain": "'This is a method for taking student details'"
     },
     "execution_count": 34,
     "metadata": {},
     "output_type": "execute_result"
    }
   ],
   "source": [
    "sd.student_details()"
   ]
  },
  {
   "cell_type": "code",
   "execution_count": 35,
   "metadata": {
    "collapsed": false,
    "ExecuteTime": {
     "end_time": "2023-05-08T14:15:26.358889900Z",
     "start_time": "2023-05-08T14:15:26.209883200Z"
    }
   },
   "outputs": [
    {
     "data": {
      "text/plain": "'This will give you Student assignment details for Data Science Masters'"
     },
     "execution_count": 35,
     "metadata": {},
     "output_type": "execute_result"
    }
   ],
   "source": [
    "dsm.student_assignments()"
   ]
  },
  {
   "cell_type": "code",
   "execution_count": 36,
   "metadata": {
    "collapsed": false,
    "ExecuteTime": {
     "end_time": "2023-05-08T14:15:26.585875800Z",
     "start_time": "2023-05-08T14:15:26.361884700Z"
    }
   },
   "outputs": [
    {
     "data": {
      "text/plain": "'This is a method for assignment details for a particular student'"
     },
     "execution_count": 36,
     "metadata": {},
     "output_type": "execute_result"
    }
   ],
   "source": [
    "sd.student_assignments()"
   ]
  },
  {
   "cell_type": "code",
   "execution_count": 36,
   "metadata": {
    "collapsed": false,
    "ExecuteTime": {
     "end_time": "2023-05-08T14:15:26.611875600Z",
     "start_time": "2023-05-08T14:15:26.545891100Z"
    }
   },
   "outputs": [],
   "source": []
  }
 ],
 "metadata": {
  "kernelspec": {
   "display_name": "Python 3",
   "language": "python",
   "name": "python3"
  },
  "language_info": {
   "codemirror_mode": {
    "name": "ipython",
    "version": 3
   },
   "file_extension": ".py",
   "mimetype": "text/x-python",
   "name": "python",
   "nbconvert_exporter": "python",
   "pygments_lexer": "ipython3",
   "version": "3.10.4"
  }
 },
 "nbformat": 4,
 "nbformat_minor": 0
}
