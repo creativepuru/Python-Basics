{
 "cells": [
  {
   "cell_type": "code",
   "execution_count": 2,
   "metadata": {
    "ExecuteTime": {
     "end_time": "2023-04-13T02:20:15.746164Z",
     "start_time": "2023-04-13T02:20:15.734166Z"
    },
    "collapsed": true
   },
   "outputs": [
    {
     "name": "stdout",
     "output_type": "stream",
     "text": [
      "Hello Purushottam to IIT Delhi\n"
     ]
    }
   ],
   "source": [
    "x = 'Hello Purushottam to IIT Delhi'\n",
    "print (x)"
   ]
  },
  {
   "cell_type": "code",
   "execution_count": 3,
   "metadata": {
    "ExecuteTime": {
     "end_time": "2023-04-13T02:20:36.128739Z",
     "start_time": "2023-04-13T02:20:36.104086Z"
    },
    "collapsed": false
   },
   "outputs": [
    {
     "name": "stdout",
     "output_type": "stream",
     "text": [
      "16\n"
     ]
    }
   ],
   "source": [
    "y = 16\n",
    "print(y)"
   ]
  },
  {
   "cell_type": "code",
   "execution_count": 4,
   "metadata": {
    "ExecuteTime": {
     "end_time": "2023-04-13T02:21:08.148857Z",
     "start_time": "2023-04-13T02:21:07.985384Z"
    },
    "collapsed": false
   },
   "outputs": [
    {
     "name": "stdout",
     "output_type": "stream",
     "text": [
      "<class 'str'>\n",
      "<class 'int'>\n"
     ]
    }
   ],
   "source": [
    "print(type(x))\n",
    "print(type(y))"
   ]
  },
  {
   "cell_type": "code",
   "execution_count": 5,
   "metadata": {
    "ExecuteTime": {
     "end_time": "2023-04-13T02:21:42.411399Z",
     "start_time": "2023-04-13T02:21:42.357384Z"
    },
    "collapsed": false
   },
   "outputs": [],
   "source": [
    "f = 16.12\n",
    "b = True"
   ]
  },
  {
   "cell_type": "code",
   "execution_count": 6,
   "metadata": {
    "ExecuteTime": {
     "end_time": "2023-04-13T02:22:03.344025Z",
     "start_time": "2023-04-13T02:22:03.255482Z"
    },
    "collapsed": false
   },
   "outputs": [
    {
     "name": "stdout",
     "output_type": "stream",
     "text": [
      "<class 'float'>\n",
      "<class 'bool'>\n"
     ]
    }
   ],
   "source": [
    "print(type(f))\n",
    "print(type(b))"
   ]
  },
  {
   "cell_type": "code",
   "execution_count": 7,
   "metadata": {
    "ExecuteTime": {
     "end_time": "2023-04-13T02:24:22.743036Z",
     "start_time": "2023-04-13T02:24:22.673612Z"
    },
    "collapsed": false
   },
   "outputs": [
    {
     "name": "stdout",
     "output_type": "stream",
     "text": [
      "<class 'str'>\n"
     ]
    }
   ],
   "source": [
    "print(type('16'))"
   ]
  },
  {
   "cell_type": "code",
   "execution_count": 8,
   "metadata": {
    "ExecuteTime": {
     "end_time": "2023-04-13T02:25:16.038616Z",
     "start_time": "2023-04-13T02:25:15.980318Z"
    },
    "collapsed": false
   },
   "outputs": [],
   "source": [
    "x = 3;y = 4;z = 100"
   ]
  },
  {
   "cell_type": "code",
   "execution_count": 9,
   "metadata": {
    "ExecuteTime": {
     "end_time": "2023-04-13T02:25:28.582078Z",
     "start_time": "2023-04-13T02:25:28.536199Z"
    },
    "collapsed": false
   },
   "outputs": [
    {
     "data": {
      "text/plain": [
       "7"
      ]
     },
     "execution_count": 9,
     "metadata": {},
     "output_type": "execute_result"
    }
   ],
   "source": [
    "x + y"
   ]
  },
  {
   "cell_type": "code",
   "execution_count": 10,
   "metadata": {
    "ExecuteTime": {
     "end_time": "2023-04-13T02:25:55.319794Z",
     "start_time": "2023-04-13T02:25:55.269469Z"
    },
    "collapsed": false
   },
   "outputs": [
    {
     "data": {
      "text/plain": [
       "-1"
      ]
     },
     "execution_count": 10,
     "metadata": {},
     "output_type": "execute_result"
    }
   ],
   "source": [
    "x - y"
   ]
  },
  {
   "cell_type": "code",
   "execution_count": 11,
   "metadata": {
    "ExecuteTime": {
     "end_time": "2023-04-13T02:26:02.564642Z",
     "start_time": "2023-04-13T02:26:02.515807Z"
    },
    "collapsed": false
   },
   "outputs": [
    {
     "data": {
      "text/plain": [
       "12"
      ]
     },
     "execution_count": 11,
     "metadata": {},
     "output_type": "execute_result"
    }
   ],
   "source": [
    "x * y"
   ]
  },
  {
   "cell_type": "code",
   "execution_count": 12,
   "metadata": {
    "ExecuteTime": {
     "end_time": "2023-04-13T02:28:47.300765Z",
     "start_time": "2023-04-13T02:28:47.243764Z"
    },
    "collapsed": false
   },
   "outputs": [
    {
     "data": {
      "text/plain": [
       "0.75"
      ]
     },
     "execution_count": 12,
     "metadata": {},
     "output_type": "execute_result"
    }
   ],
   "source": [
    "x / y\n",
    "# used for normal division method or say used to find Quotient"
   ]
  },
  {
   "cell_type": "code",
   "execution_count": 13,
   "metadata": {
    "ExecuteTime": {
     "end_time": "2023-04-13T02:28:00.374769Z",
     "start_time": "2023-04-13T02:28:00.293772Z"
    },
    "collapsed": false
   },
   "outputs": [
    {
     "data": {
      "text/plain": [
       "81"
      ]
     },
     "execution_count": 13,
     "metadata": {},
     "output_type": "execute_result"
    }
   ],
   "source": [
    "x ** y\n",
    "# used to find Exponential"
   ]
  },
  {
   "cell_type": "code",
   "execution_count": 14,
   "metadata": {
    "ExecuteTime": {
     "end_time": "2023-04-13T02:27:39.079039Z",
     "start_time": "2023-04-13T02:27:39.023040Z"
    },
    "collapsed": false
   },
   "outputs": [
    {
     "data": {
      "text/plain": [
       "3"
      ]
     },
     "execution_count": 14,
     "metadata": {},
     "output_type": "execute_result"
    }
   ],
   "source": [
    "x % y\n",
    "# used to find Reminders"
   ]
  },
  {
   "cell_type": "code",
   "execution_count": 15,
   "metadata": {
    "ExecuteTime": {
     "end_time": "2023-04-13T02:26:54.825642Z",
     "start_time": "2023-04-13T02:26:54.678909Z"
    },
    "collapsed": false
   },
   "outputs": [
    {
     "data": {
      "text/plain": [
       "3"
      ]
     },
     "execution_count": 15,
     "metadata": {},
     "output_type": "execute_result"
    }
   ],
   "source": [
    "x"
   ]
  },
  {
   "cell_type": "code",
   "execution_count": 16,
   "metadata": {
    "ExecuteTime": {
     "end_time": "2023-04-13T02:27:02.521846Z",
     "start_time": "2023-04-13T02:27:02.464850Z"
    },
    "collapsed": false
   },
   "outputs": [
    {
     "data": {
      "text/plain": [
       "4"
      ]
     },
     "execution_count": 16,
     "metadata": {},
     "output_type": "execute_result"
    }
   ],
   "source": [
    "y"
   ]
  },
  {
   "cell_type": "code",
   "execution_count": 17,
   "metadata": {
    "ExecuteTime": {
     "end_time": "2023-04-13T02:29:06.660241Z",
     "start_time": "2023-04-13T02:29:06.568697Z"
    },
    "collapsed": false
   },
   "outputs": [
    {
     "data": {
      "text/plain": [
       "33.333333333333336"
      ]
     },
     "execution_count": 17,
     "metadata": {},
     "output_type": "execute_result"
    }
   ],
   "source": [
    "z / x"
   ]
  },
  {
   "cell_type": "code",
   "execution_count": 18,
   "metadata": {
    "ExecuteTime": {
     "end_time": "2023-04-13T02:29:39.939078Z",
     "start_time": "2023-04-13T02:29:39.874941Z"
    },
    "collapsed": false
   },
   "outputs": [
    {
     "data": {
      "text/plain": [
       "33"
      ]
     },
     "execution_count": 18,
     "metadata": {},
     "output_type": "execute_result"
    }
   ],
   "source": [
    "z // x\n",
    "# divides but takes floor value"
   ]
  },
  {
   "cell_type": "code",
   "execution_count": 19,
   "metadata": {
    "ExecuteTime": {
     "end_time": "2023-04-13T02:29:53.725847Z",
     "start_time": "2023-04-13T02:29:53.650872Z"
    },
    "collapsed": false
   },
   "outputs": [],
   "source": [
    "a = 5\n",
    "b = 7"
   ]
  },
  {
   "cell_type": "code",
   "execution_count": 20,
   "metadata": {
    "ExecuteTime": {
     "end_time": "2023-04-13T02:30:22.207675Z",
     "start_time": "2023-04-13T02:30:21.899341Z"
    },
    "collapsed": false
   },
   "outputs": [
    {
     "name": "stdout",
     "output_type": "stream",
     "text": [
      "True\n",
      "False\n"
     ]
    }
   ],
   "source": [
    "print(a==5)\n",
    "print(b==6)"
   ]
  },
  {
   "cell_type": "code",
   "execution_count": 21,
   "metadata": {
    "ExecuteTime": {
     "end_time": "2023-04-13T02:31:44.236349Z",
     "start_time": "2023-04-13T02:31:44.196096Z"
    },
    "collapsed": false
   },
   "outputs": [],
   "source": [
    "a = 'hi'\n",
    "b = ' hello'"
   ]
  },
  {
   "cell_type": "code",
   "execution_count": 22,
   "metadata": {
    "ExecuteTime": {
     "end_time": "2023-04-13T02:31:47.442216Z",
     "start_time": "2023-04-13T02:31:47.416603Z"
    },
    "collapsed": false
   },
   "outputs": [
    {
     "name": "stdout",
     "output_type": "stream",
     "text": [
      "hi\n",
      " hello\n"
     ]
    }
   ],
   "source": [
    "print(a)\n",
    "print(b)"
   ]
  },
  {
   "cell_type": "code",
   "execution_count": 23,
   "metadata": {
    "ExecuteTime": {
     "end_time": "2023-04-13T02:31:50.768217Z",
     "start_time": "2023-04-13T02:31:50.730018Z"
    },
    "collapsed": false
   },
   "outputs": [
    {
     "name": "stdout",
     "output_type": "stream",
     "text": [
      "hi hello\n"
     ]
    }
   ],
   "source": [
    "print(a + b)"
   ]
  },
  {
   "cell_type": "code",
   "execution_count": 24,
   "metadata": {
    "ExecuteTime": {
     "end_time": "2023-04-13T02:34:17.416695Z",
     "start_time": "2023-04-13T02:34:17.380694Z"
    },
    "collapsed": false
   },
   "outputs": [
    {
     "name": "stdout",
     "output_type": "stream",
     "text": [
      "3\n"
     ]
    }
   ],
   "source": [
    "a = '2'\n",
    "# print(a + 1) --> TypeError: can only concatenate str (not \"int\") to str\n",
    "print(int(a) + 1)"
   ]
  },
  {
   "cell_type": "code",
   "execution_count": 25,
   "metadata": {
    "ExecuteTime": {
     "end_time": "2023-04-13T02:34:55.890499Z",
     "start_time": "2023-04-13T02:34:55.854329Z"
    },
    "collapsed": false
   },
   "outputs": [],
   "source": [
    "a = \"Hi \""
   ]
  },
  {
   "cell_type": "code",
   "execution_count": 26,
   "metadata": {
    "ExecuteTime": {
     "end_time": "2023-04-13T02:34:57.103056Z",
     "start_time": "2023-04-13T02:34:57.073226Z"
    },
    "collapsed": false
   },
   "outputs": [
    {
     "data": {
      "text/plain": [
       "'Hi Hi Hi '"
      ]
     },
     "execution_count": 26,
     "metadata": {},
     "output_type": "execute_result"
    }
   ],
   "source": [
    "a * 3"
   ]
  },
  {
   "cell_type": "code",
   "execution_count": 27,
   "metadata": {
    "ExecuteTime": {
     "end_time": "2023-04-13T02:36:13.641757Z",
     "start_time": "2023-04-13T02:36:08.468480Z"
    },
    "collapsed": false
   },
   "outputs": [],
   "source": [
    "name = input(\"What's your name ?\")"
   ]
  },
  {
   "cell_type": "code",
   "execution_count": 28,
   "metadata": {
    "ExecuteTime": {
     "end_time": "2023-04-13T02:36:19.886535Z",
     "start_time": "2023-04-13T02:36:19.799424Z"
    },
    "collapsed": false
   },
   "outputs": [
    {
     "name": "stdout",
     "output_type": "stream",
     "text": [
      "Purushottam\n"
     ]
    }
   ],
   "source": [
    "print(name)"
   ]
  },
  {
   "cell_type": "code",
   "execution_count": 29,
   "metadata": {
    "ExecuteTime": {
     "end_time": "2023-04-13T02:37:05.858351Z",
     "start_time": "2023-04-13T02:37:05.817606Z"
    },
    "collapsed": false
   },
   "outputs": [
    {
     "name": "stdout",
     "output_type": "stream",
     "text": [
      "Nice to meet you  Purushottam !\n"
     ]
    }
   ],
   "source": [
    "print(\"Nice to meet you \", name, \"!\")"
   ]
  },
  {
   "cell_type": "code",
   "execution_count": 30,
   "metadata": {
    "ExecuteTime": {
     "end_time": "2023-04-13T02:40:04.451254Z",
     "start_time": "2023-04-13T02:40:01.141932Z"
    },
    "collapsed": false
   },
   "outputs": [],
   "source": [
    "age = input(\"What's your age ?\")"
   ]
  },
  {
   "cell_type": "code",
   "execution_count": 31,
   "metadata": {
    "ExecuteTime": {
     "end_time": "2023-04-13T02:40:09.399962Z",
     "start_time": "2023-04-13T02:40:09.367942Z"
    },
    "collapsed": false
   },
   "outputs": [
    {
     "name": "stdout",
     "output_type": "stream",
     "text": [
      "27\n"
     ]
    }
   ],
   "source": [
    "print(age)"
   ]
  },
  {
   "cell_type": "code",
   "execution_count": 32,
   "metadata": {
    "ExecuteTime": {
     "end_time": "2023-04-13T02:59:07.212394Z",
     "start_time": "2023-04-13T02:59:07.165525Z"
    },
    "collapsed": false
   },
   "outputs": [
    {
     "name": "stdout",
     "output_type": "stream",
     "text": [
      "<class 'str'>\n",
      "<class 'str'>\n"
     ]
    }
   ],
   "source": [
    "print(type(name))\n",
    "print(type(age))"
   ]
  },
  {
   "cell_type": "code",
   "execution_count": 33,
   "metadata": {
    "ExecuteTime": {
     "end_time": "2023-04-13T02:42:05.174871Z",
     "start_time": "2023-04-13T02:42:05.075929Z"
    },
    "collapsed": false
   },
   "outputs": [],
   "source": [
    "# Syntax for Creating Lists\n",
    "\n",
    "lst = [1, 2, 'a', 10.0, True]"
   ]
  },
  {
   "cell_type": "code",
   "execution_count": 34,
   "metadata": {
    "ExecuteTime": {
     "end_time": "2023-04-13T02:42:11.055435Z",
     "start_time": "2023-04-13T02:42:10.980155Z"
    },
    "collapsed": false
   },
   "outputs": [
    {
     "name": "stdout",
     "output_type": "stream",
     "text": [
      "[1, 2, 'a', 10.0, True]\n"
     ]
    }
   ],
   "source": [
    "print(lst)"
   ]
  },
  {
   "cell_type": "code",
   "execution_count": 35,
   "metadata": {
    "ExecuteTime": {
     "end_time": "2023-04-13T02:43:12.888238Z",
     "start_time": "2023-04-13T02:43:12.834441Z"
    },
    "collapsed": false
   },
   "outputs": [
    {
     "name": "stdout",
     "output_type": "stream",
     "text": [
      "<class 'list'>\n"
     ]
    }
   ],
   "source": [
    "print(type(lst))"
   ]
  },
  {
   "cell_type": "code",
   "execution_count": 36,
   "metadata": {
    "ExecuteTime": {
     "end_time": "2023-04-13T03:03:48.055525Z",
     "start_time": "2023-04-13T03:03:48.024272Z"
    },
    "collapsed": false
   },
   "outputs": [],
   "source": [
    "#   --> Conditional statements ( If & Else ) starts from here"
   ]
  },
  {
   "cell_type": "code",
   "execution_count": 37,
   "metadata": {
    "ExecuteTime": {
     "end_time": "2023-04-13T03:09:38.031104Z",
     "start_time": "2023-04-13T03:09:35.769458Z"
    },
    "collapsed": false
   },
   "outputs": [
    {
     "name": "stdout",
     "output_type": "stream",
     "text": [
      "<class 'str'>\n",
      "16  is even\n",
      "<class 'int'>\n"
     ]
    }
   ],
   "source": [
    "x = input(\"Write any number between 0 to 99 : \")\n",
    "print(type(x))\n",
    "y = int(x)\n",
    "if y % 2 == 0:\n",
    "    print(y, \" is even\")\n",
    "else:\n",
    "    print(y, \" is odd\")\n",
    "print(type(y))"
   ]
  },
  {
   "cell_type": "code",
   "execution_count": 38,
   "metadata": {
    "ExecuteTime": {
     "end_time": "2023-04-13T03:20:57.677385Z",
     "start_time": "2023-04-13T03:20:55.970103Z"
    },
    "collapsed": false
   },
   "outputs": [
    {
     "name": "stdout",
     "output_type": "stream",
     "text": [
      "7  is smaller than 10\n",
      "7  is greater than 0\n"
     ]
    }
   ],
   "source": [
    "x = input(\"Write any number between 0 to 10 : \")\n",
    "y = int(x)\n",
    "if y < 10:\n",
    "    print(x, \" is smaller than 10\")\n",
    "if y > 0 :\n",
    "    print(x, \" is greater than 0\")"
   ]
  },
  {
   "cell_type": "code",
   "execution_count": 39,
   "metadata": {
    "ExecuteTime": {
     "end_time": "2023-04-13T03:56:34.463615Z",
     "start_time": "2023-04-13T03:56:32.757438Z"
    },
    "collapsed": false
   },
   "outputs": [
    {
     "name": "stdout",
     "output_type": "stream",
     "text": [
      "7  is smaller than 10\n",
      "7  is greater than 0\n"
     ]
    }
   ],
   "source": [
    "x = input(\"Write any number between 0 to 10 : \")\n",
    "y = int(x)\n",
    "if 10 > y > 0:\n",
    "    print(y, \" is smaller than 10\")\n",
    "    print(y, \" is greater than 0\")"
   ]
  },
  {
   "cell_type": "code",
   "execution_count": 40,
   "metadata": {
    "ExecuteTime": {
     "end_time": "2023-04-13T04:35:58.636716Z",
     "start_time": "2023-04-13T04:35:55.813086Z"
    },
    "collapsed": false
   },
   "outputs": [
    {
     "name": "stdout",
     "output_type": "stream",
     "text": [
      "Oops, you have entered the wrong value !!!\n"
     ]
    }
   ],
   "source": [
    "# Using if else statement as a condition -->\n",
    "\n",
    "x = int(input(\"1st Input = Write any number between 0 to 20 : \"))\n",
    "y = int(input(\"2nd Input = Write any number between 0 to 20 : \"))\n",
    "#x1 = int(x)\n",
    "#y1 = int(y)\n",
    "\n",
    "if x <= 20 and y <= 20 :\n",
    "    if x < y :\n",
    "        print(x, \" is less than \", y)\n",
    "    elif x > y :\n",
    "        print(x, \" is greater than \", y)\n",
    "    else :\n",
    "        print(x, \"&\", y, \" are equal \")\n",
    "\n",
    "else :\n",
    "    print(\"Oops, you have entered the wrong value !!!\")"
   ]
  },
  {
   "cell_type": "code",
   "execution_count": 41,
   "metadata": {
    "ExecuteTime": {
     "end_time": "2023-04-13T04:01:37.308935Z",
     "start_time": "2023-04-13T04:01:37.246407Z"
    },
    "collapsed": false
   },
   "outputs": [
    {
     "name": "stdout",
     "output_type": "stream",
     "text": [
      "x is greater than 5\n"
     ]
    }
   ],
   "source": [
    "x = 6\n",
    "if not (x>5) :\n",
    "    print(\"x is less than 5\")\n",
    "if not (x<5) :\n",
    "    print(\"x is greater than 5\")"
   ]
  },
  {
   "cell_type": "code",
   "execution_count": 42,
   "metadata": {
    "ExecuteTime": {
     "end_time": "2023-04-13T04:06:49.609145Z",
     "start_time": "2023-04-13T04:06:49.505167Z"
    },
    "collapsed": false
   },
   "outputs": [],
   "source": [
    "# Using Iterative Constructs --> While & For Loop"
   ]
  },
  {
   "cell_type": "code",
   "execution_count": 44,
   "metadata": {
    "ExecuteTime": {
     "end_time": "2023-04-13T05:04:37.426385Z",
     "start_time": "2023-04-13T05:04:28.589014Z"
    },
    "collapsed": false,
    "pycharm": {
     "is_executing": true
    }
   },
   "outputs": [
    {
     "name": "stdout",
     "output_type": "stream",
     "text": [
      "Enter Marks of Student  1 : \n",
      "Congrats ! You have got 1st Division !!!\n",
      "\n",
      "Enter Marks of Student  2 : \n",
      "Congrats ! You have got 3rd Division !!!\n",
      "\n"
     ]
    }
   ],
   "source": [
    "n = int(input(\"Enter total number of students : \"))\n",
    "\n",
    "c = 1\n",
    "while c <= n :\n",
    "    print(\"Enter Marks of Student \", c, \": \")\n",
    "    m1 = int(input(\"Enter Marks 1 : \"))\n",
    "    m2 = int(input(\"Enter Marks 2 : \"))\n",
    "    m3 = int(input(\"Enter Marks 3 : \"))\n",
    "    total = m1 + m2 + m3\n",
    "    average = total/3\n",
    "\n",
    "    if average >= 90 :\n",
    "        print(\"Congrats ! You have got 1st Division !!!\\n\")\n",
    "    elif 70 <= average < 90 :\n",
    "        print(\"Congrats ! You have got 2nd Division !!!\\n\")\n",
    "    else:\n",
    "        print(\"Congrats ! You have got 3rd Division !!!\\n\")\n",
    "    c = c + 1"
   ]
  },
  {
   "cell_type": "code",
   "execution_count": null,
   "metadata": {
    "collapsed": false
   },
   "outputs": [],
   "source": []
  }
 ],
 "metadata": {
  "kernelspec": {
   "display_name": "Python 3",
   "language": "python",
   "name": "python3"
  },
  "language_info": {
   "codemirror_mode": {
    "name": "ipython",
    "version": 3
   },
   "file_extension": ".py",
   "mimetype": "text/x-python",
   "name": "python",
   "nbconvert_exporter": "python",
   "pygments_lexer": "ipython3",
   "version": "3.11.3"
  }
 },
 "nbformat": 4,
 "nbformat_minor": 0
}
