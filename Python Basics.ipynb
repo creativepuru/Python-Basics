{
 "cells": [
  {
   "cell_type": "code",
   "execution_count": 1,
   "metadata": {
    "collapsed": true,
    "ExecuteTime": {
     "start_time": "2023-04-13T02:20:15.734166Z",
     "end_time": "2023-04-13T02:20:15.746164Z"
    }
   },
   "outputs": [
    {
     "name": "stdout",
     "output_type": "stream",
     "text": [
      "Hello Purushottam\n"
     ]
    }
   ],
   "source": [
    "x = 'Hello Purushottam'\n",
    "print (x)"
   ]
  },
  {
   "cell_type": "code",
   "execution_count": 2,
   "outputs": [
    {
     "name": "stdout",
     "output_type": "stream",
     "text": [
      "16\n"
     ]
    }
   ],
   "source": [
    "y = 16\n",
    "print(y)"
   ],
   "metadata": {
    "collapsed": false,
    "ExecuteTime": {
     "start_time": "2023-04-13T02:20:36.104086Z",
     "end_time": "2023-04-13T02:20:36.128739Z"
    }
   }
  },
  {
   "cell_type": "code",
   "execution_count": 3,
   "outputs": [
    {
     "name": "stdout",
     "output_type": "stream",
     "text": [
      "<class 'str'>\n",
      "<class 'int'>\n"
     ]
    }
   ],
   "source": [
    "print(type(x))\n",
    "print(type(y))"
   ],
   "metadata": {
    "collapsed": false,
    "ExecuteTime": {
     "start_time": "2023-04-13T02:21:07.985384Z",
     "end_time": "2023-04-13T02:21:08.148857Z"
    }
   }
  },
  {
   "cell_type": "code",
   "execution_count": 5,
   "outputs": [],
   "source": [
    "f = 16.12\n",
    "b = True"
   ],
   "metadata": {
    "collapsed": false,
    "ExecuteTime": {
     "start_time": "2023-04-13T02:21:42.357384Z",
     "end_time": "2023-04-13T02:21:42.411399Z"
    }
   }
  },
  {
   "cell_type": "code",
   "execution_count": 6,
   "outputs": [
    {
     "name": "stdout",
     "output_type": "stream",
     "text": [
      "<class 'float'>\n",
      "<class 'bool'>\n"
     ]
    }
   ],
   "source": [
    "print(type(f))\n",
    "print(type(b))"
   ],
   "metadata": {
    "collapsed": false,
    "ExecuteTime": {
     "start_time": "2023-04-13T02:22:03.255482Z",
     "end_time": "2023-04-13T02:22:03.344025Z"
    }
   }
  },
  {
   "cell_type": "code",
   "execution_count": 7,
   "outputs": [
    {
     "name": "stdout",
     "output_type": "stream",
     "text": [
      "<class 'str'>\n"
     ]
    }
   ],
   "source": [
    "print(type('16'))"
   ],
   "metadata": {
    "collapsed": false,
    "ExecuteTime": {
     "start_time": "2023-04-13T02:24:22.673612Z",
     "end_time": "2023-04-13T02:24:22.743036Z"
    }
   }
  },
  {
   "cell_type": "code",
   "execution_count": 9,
   "outputs": [],
   "source": [
    "x = 3;y = 4;z = 100"
   ],
   "metadata": {
    "collapsed": false,
    "ExecuteTime": {
     "start_time": "2023-04-13T02:25:15.980318Z",
     "end_time": "2023-04-13T02:25:16.038616Z"
    }
   }
  },
  {
   "cell_type": "code",
   "execution_count": 10,
   "outputs": [
    {
     "data": {
      "text/plain": "7"
     },
     "execution_count": 10,
     "metadata": {},
     "output_type": "execute_result"
    }
   ],
   "source": [
    "x + y"
   ],
   "metadata": {
    "collapsed": false,
    "ExecuteTime": {
     "start_time": "2023-04-13T02:25:28.536199Z",
     "end_time": "2023-04-13T02:25:28.582078Z"
    }
   }
  },
  {
   "cell_type": "code",
   "execution_count": 11,
   "outputs": [
    {
     "data": {
      "text/plain": "-1"
     },
     "execution_count": 11,
     "metadata": {},
     "output_type": "execute_result"
    }
   ],
   "source": [
    "x - y"
   ],
   "metadata": {
    "collapsed": false,
    "ExecuteTime": {
     "start_time": "2023-04-13T02:25:55.269469Z",
     "end_time": "2023-04-13T02:25:55.319794Z"
    }
   }
  },
  {
   "cell_type": "code",
   "execution_count": 12,
   "outputs": [
    {
     "data": {
      "text/plain": "12"
     },
     "execution_count": 12,
     "metadata": {},
     "output_type": "execute_result"
    }
   ],
   "source": [
    "x * y"
   ],
   "metadata": {
    "collapsed": false,
    "ExecuteTime": {
     "start_time": "2023-04-13T02:26:02.515807Z",
     "end_time": "2023-04-13T02:26:02.564642Z"
    }
   }
  },
  {
   "cell_type": "code",
   "execution_count": 21,
   "outputs": [
    {
     "data": {
      "text/plain": "0.75"
     },
     "execution_count": 21,
     "metadata": {},
     "output_type": "execute_result"
    }
   ],
   "source": [
    "x / y\n",
    "# used for normal division method or say used to find Quotient"
   ],
   "metadata": {
    "collapsed": false,
    "ExecuteTime": {
     "start_time": "2023-04-13T02:28:47.243764Z",
     "end_time": "2023-04-13T02:28:47.300765Z"
    }
   }
  },
  {
   "cell_type": "code",
   "execution_count": 19,
   "outputs": [
    {
     "data": {
      "text/plain": "81"
     },
     "execution_count": 19,
     "metadata": {},
     "output_type": "execute_result"
    }
   ],
   "source": [
    "x ** y\n",
    "# used to find Exponential"
   ],
   "metadata": {
    "collapsed": false,
    "ExecuteTime": {
     "start_time": "2023-04-13T02:28:00.293772Z",
     "end_time": "2023-04-13T02:28:00.374769Z"
    }
   }
  },
  {
   "cell_type": "code",
   "execution_count": 18,
   "outputs": [
    {
     "data": {
      "text/plain": "3"
     },
     "execution_count": 18,
     "metadata": {},
     "output_type": "execute_result"
    }
   ],
   "source": [
    "x % y\n",
    "# used to find Reminders"
   ],
   "metadata": {
    "collapsed": false,
    "ExecuteTime": {
     "start_time": "2023-04-13T02:27:39.023040Z",
     "end_time": "2023-04-13T02:27:39.079039Z"
    }
   }
  },
  {
   "cell_type": "code",
   "execution_count": 16,
   "outputs": [
    {
     "data": {
      "text/plain": "3"
     },
     "execution_count": 16,
     "metadata": {},
     "output_type": "execute_result"
    }
   ],
   "source": [
    "x"
   ],
   "metadata": {
    "collapsed": false,
    "ExecuteTime": {
     "start_time": "2023-04-13T02:26:54.678909Z",
     "end_time": "2023-04-13T02:26:54.825642Z"
    }
   }
  },
  {
   "cell_type": "code",
   "execution_count": 17,
   "outputs": [
    {
     "data": {
      "text/plain": "4"
     },
     "execution_count": 17,
     "metadata": {},
     "output_type": "execute_result"
    }
   ],
   "source": [
    "y"
   ],
   "metadata": {
    "collapsed": false,
    "ExecuteTime": {
     "start_time": "2023-04-13T02:27:02.464850Z",
     "end_time": "2023-04-13T02:27:02.521846Z"
    }
   }
  },
  {
   "cell_type": "code",
   "execution_count": 22,
   "outputs": [
    {
     "data": {
      "text/plain": "33.333333333333336"
     },
     "execution_count": 22,
     "metadata": {},
     "output_type": "execute_result"
    }
   ],
   "source": [
    "z / x"
   ],
   "metadata": {
    "collapsed": false,
    "ExecuteTime": {
     "start_time": "2023-04-13T02:29:06.568697Z",
     "end_time": "2023-04-13T02:29:06.660241Z"
    }
   }
  },
  {
   "cell_type": "code",
   "execution_count": 25,
   "outputs": [
    {
     "data": {
      "text/plain": "33"
     },
     "execution_count": 25,
     "metadata": {},
     "output_type": "execute_result"
    }
   ],
   "source": [
    "z // x\n",
    "# divides but takes floor value"
   ],
   "metadata": {
    "collapsed": false,
    "ExecuteTime": {
     "start_time": "2023-04-13T02:29:39.874941Z",
     "end_time": "2023-04-13T02:29:39.939078Z"
    }
   }
  },
  {
   "cell_type": "code",
   "execution_count": 26,
   "outputs": [],
   "source": [
    "a = 5\n",
    "b = 7"
   ],
   "metadata": {
    "collapsed": false,
    "ExecuteTime": {
     "start_time": "2023-04-13T02:29:53.650872Z",
     "end_time": "2023-04-13T02:29:53.725847Z"
    }
   }
  },
  {
   "cell_type": "code",
   "execution_count": 27,
   "outputs": [
    {
     "name": "stdout",
     "output_type": "stream",
     "text": [
      "True\n",
      "False\n"
     ]
    }
   ],
   "source": [
    "print(a==5)\n",
    "print(b==6)"
   ],
   "metadata": {
    "collapsed": false,
    "ExecuteTime": {
     "start_time": "2023-04-13T02:30:21.899341Z",
     "end_time": "2023-04-13T02:30:22.207675Z"
    }
   }
  },
  {
   "cell_type": "code",
   "execution_count": 32,
   "outputs": [],
   "source": [
    "a = 'hi'\n",
    "b = ' hello'"
   ],
   "metadata": {
    "collapsed": false,
    "ExecuteTime": {
     "start_time": "2023-04-13T02:31:44.196096Z",
     "end_time": "2023-04-13T02:31:44.236349Z"
    }
   }
  },
  {
   "cell_type": "code",
   "execution_count": 33,
   "outputs": [
    {
     "name": "stdout",
     "output_type": "stream",
     "text": [
      "hi\n",
      " hello\n"
     ]
    }
   ],
   "source": [
    "print(a)\n",
    "print(b)"
   ],
   "metadata": {
    "collapsed": false,
    "ExecuteTime": {
     "start_time": "2023-04-13T02:31:47.416603Z",
     "end_time": "2023-04-13T02:31:47.442216Z"
    }
   }
  },
  {
   "cell_type": "code",
   "execution_count": 34,
   "outputs": [
    {
     "name": "stdout",
     "output_type": "stream",
     "text": [
      "hi hello\n"
     ]
    }
   ],
   "source": [
    "print(a + b)"
   ],
   "metadata": {
    "collapsed": false,
    "ExecuteTime": {
     "start_time": "2023-04-13T02:31:50.730018Z",
     "end_time": "2023-04-13T02:31:50.768217Z"
    }
   }
  },
  {
   "cell_type": "code",
   "execution_count": 38,
   "outputs": [
    {
     "name": "stdout",
     "output_type": "stream",
     "text": [
      "3\n"
     ]
    }
   ],
   "source": [
    "a = '2'\n",
    "# print(a + 1) --> TypeError: can only concatenate str (not \"int\") to str\n",
    "print(int(a) + 1)"
   ],
   "metadata": {
    "collapsed": false,
    "ExecuteTime": {
     "start_time": "2023-04-13T02:34:17.380694Z",
     "end_time": "2023-04-13T02:34:17.416695Z"
    }
   }
  },
  {
   "cell_type": "code",
   "execution_count": 41,
   "outputs": [],
   "source": [
    "a = \"Hi \""
   ],
   "metadata": {
    "collapsed": false,
    "ExecuteTime": {
     "start_time": "2023-04-13T02:34:55.854329Z",
     "end_time": "2023-04-13T02:34:55.890499Z"
    }
   }
  },
  {
   "cell_type": "code",
   "execution_count": 42,
   "outputs": [
    {
     "data": {
      "text/plain": "'Hi Hi Hi '"
     },
     "execution_count": 42,
     "metadata": {},
     "output_type": "execute_result"
    }
   ],
   "source": [
    "a * 3"
   ],
   "metadata": {
    "collapsed": false,
    "ExecuteTime": {
     "start_time": "2023-04-13T02:34:57.073226Z",
     "end_time": "2023-04-13T02:34:57.103056Z"
    }
   }
  },
  {
   "cell_type": "code",
   "execution_count": 43,
   "outputs": [],
   "source": [
    "name = input(\"What's your name ?\")"
   ],
   "metadata": {
    "collapsed": false,
    "ExecuteTime": {
     "start_time": "2023-04-13T02:36:08.468480Z",
     "end_time": "2023-04-13T02:36:13.641757Z"
    }
   }
  },
  {
   "cell_type": "code",
   "execution_count": 44,
   "outputs": [
    {
     "name": "stdout",
     "output_type": "stream",
     "text": [
      "Anand\n"
     ]
    }
   ],
   "source": [
    "print(name)"
   ],
   "metadata": {
    "collapsed": false,
    "ExecuteTime": {
     "start_time": "2023-04-13T02:36:19.799424Z",
     "end_time": "2023-04-13T02:36:19.886535Z"
    }
   }
  },
  {
   "cell_type": "code",
   "execution_count": 47,
   "outputs": [
    {
     "name": "stdout",
     "output_type": "stream",
     "text": [
      "Nice to meet you  Anand !\n"
     ]
    }
   ],
   "source": [
    "print(\"Nice to meet you \", name, \"!\")"
   ],
   "metadata": {
    "collapsed": false,
    "ExecuteTime": {
     "start_time": "2023-04-13T02:37:05.817606Z",
     "end_time": "2023-04-13T02:37:05.858351Z"
    }
   }
  },
  {
   "cell_type": "code",
   "execution_count": 54,
   "outputs": [],
   "source": [
    "age = input(\"What's your age ?\")"
   ],
   "metadata": {
    "collapsed": false,
    "ExecuteTime": {
     "start_time": "2023-04-13T02:40:01.141932Z",
     "end_time": "2023-04-13T02:40:04.451254Z"
    }
   }
  },
  {
   "cell_type": "code",
   "execution_count": 55,
   "outputs": [
    {
     "name": "stdout",
     "output_type": "stream",
     "text": [
      "28\n"
     ]
    }
   ],
   "source": [
    "print(age)"
   ],
   "metadata": {
    "collapsed": false,
    "ExecuteTime": {
     "start_time": "2023-04-13T02:40:09.367942Z",
     "end_time": "2023-04-13T02:40:09.399962Z"
    }
   }
  },
  {
   "cell_type": "code",
   "execution_count": 66,
   "outputs": [
    {
     "name": "stdout",
     "output_type": "stream",
     "text": [
      "<class 'str'>\n",
      "<class 'str'>\n"
     ]
    }
   ],
   "source": [
    "print(type(name))\n",
    "print(type(age))"
   ],
   "metadata": {
    "collapsed": false,
    "ExecuteTime": {
     "start_time": "2023-04-13T02:59:07.165525Z",
     "end_time": "2023-04-13T02:59:07.212394Z"
    }
   }
  },
  {
   "cell_type": "code",
   "execution_count": 57,
   "outputs": [],
   "source": [
    "# Syntax for Creating Lists\n",
    "\n",
    "lst = [1, 2, 'a', 10.0, True]"
   ],
   "metadata": {
    "collapsed": false,
    "ExecuteTime": {
     "start_time": "2023-04-13T02:42:05.075929Z",
     "end_time": "2023-04-13T02:42:05.174871Z"
    }
   }
  },
  {
   "cell_type": "code",
   "execution_count": 58,
   "outputs": [
    {
     "name": "stdout",
     "output_type": "stream",
     "text": [
      "[1, 2, 'a', 10.0, True]\n"
     ]
    }
   ],
   "source": [
    "print(lst)"
   ],
   "metadata": {
    "collapsed": false,
    "ExecuteTime": {
     "start_time": "2023-04-13T02:42:10.980155Z",
     "end_time": "2023-04-13T02:42:11.055435Z"
    }
   }
  },
  {
   "cell_type": "code",
   "execution_count": 63,
   "outputs": [
    {
     "name": "stdout",
     "output_type": "stream",
     "text": [
      "<class 'list'>\n"
     ]
    }
   ],
   "source": [
    "print(type(lst))"
   ],
   "metadata": {
    "collapsed": false,
    "ExecuteTime": {
     "start_time": "2023-04-13T02:43:12.834441Z",
     "end_time": "2023-04-13T02:43:12.888238Z"
    }
   }
  },
  {
   "cell_type": "code",
   "execution_count": 68,
   "outputs": [],
   "source": [
    "#   --> Conditional statements ( If & Else ) starts from here"
   ],
   "metadata": {
    "collapsed": false,
    "ExecuteTime": {
     "start_time": "2023-04-13T03:03:48.024272Z",
     "end_time": "2023-04-13T03:03:48.055525Z"
    }
   }
  },
  {
   "cell_type": "code",
   "execution_count": 73,
   "outputs": [
    {
     "name": "stdout",
     "output_type": "stream",
     "text": [
      "<class 'str'>\n",
      "16  is even\n",
      "<class 'int'>\n"
     ]
    }
   ],
   "source": [
    "x = input(\"Write any number between 0 to 99 : \")\n",
    "print(type(x))\n",
    "y = int(x)\n",
    "if y % 2 == 0:\n",
    "    print(y, \" is even\")\n",
    "else:\n",
    "    print(y, \" is odd\")\n",
    "print(type(y))"
   ],
   "metadata": {
    "collapsed": false,
    "ExecuteTime": {
     "start_time": "2023-04-13T03:09:35.769458Z",
     "end_time": "2023-04-13T03:09:38.031104Z"
    }
   }
  },
  {
   "cell_type": "code",
   "execution_count": 79,
   "outputs": [
    {
     "name": "stdout",
     "output_type": "stream",
     "text": [
      "5  is smaller than 10\n",
      "5  is greater than 0\n"
     ]
    }
   ],
   "source": [
    "x = input(\"Write any number between 0 to 10 : \")\n",
    "y = int(x)\n",
    "if y < 10:\n",
    "    print(x, \" is smaller than 10\")\n",
    "if y > 0 :\n",
    "    print(x, \" is greater than 0\")"
   ],
   "metadata": {
    "collapsed": false,
    "ExecuteTime": {
     "start_time": "2023-04-13T03:20:55.970103Z",
     "end_time": "2023-04-13T03:20:57.677385Z"
    }
   }
  },
  {
   "cell_type": "code",
   "execution_count": 105,
   "outputs": [
    {
     "name": "stdout",
     "output_type": "stream",
     "text": [
      "5  is smaller than 10\n",
      "5  is greater than 0\n"
     ]
    }
   ],
   "source": [
    "x = input(\"Write any number between 0 to 10 : \")\n",
    "y = int(x)\n",
    "if 10 > y > 0:\n",
    "    print(y, \" is smaller than 10\")\n",
    "    print(y, \" is greater than 0\")"
   ],
   "metadata": {
    "collapsed": false,
    "ExecuteTime": {
     "start_time": "2023-04-13T03:56:32.757438Z",
     "end_time": "2023-04-13T03:56:34.463615Z"
    }
   }
  },
  {
   "cell_type": "code",
   "execution_count": 129,
   "outputs": [
    {
     "name": "stdout",
     "output_type": "stream",
     "text": [
      "Oops, you have entered the wrong value !!!\n"
     ]
    }
   ],
   "source": [
    "# Using if else statement as a condition -->\n",
    "\n",
    "x = int(input(\"1st Input = Write any number between 0 to 20 : \"))\n",
    "y = int(input(\"2nd Input = Write any number between 0 to 20 : \"))\n",
    "#x1 = int(x)\n",
    "#y1 = int(y)\n",
    "\n",
    "if x <= 20 and y <= 20 :\n",
    "    if x < y :\n",
    "        print(x, \" is less than \", y)\n",
    "    elif x > y :\n",
    "        print(x, \" is greater than \", y)\n",
    "    else :\n",
    "        print(x, \"&\", y, \" are equal \")\n",
    "\n",
    "else :\n",
    "    print(\"Oops, you have entered the wrong value !!!\")"
   ],
   "metadata": {
    "collapsed": false,
    "ExecuteTime": {
     "start_time": "2023-04-13T04:35:55.813086Z",
     "end_time": "2023-04-13T04:35:58.636716Z"
    }
   }
  },
  {
   "cell_type": "code",
   "execution_count": 109,
   "outputs": [
    {
     "name": "stdout",
     "output_type": "stream",
     "text": [
      "x is greater than 5\n"
     ]
    }
   ],
   "source": [
    "x = 6\n",
    "if not (x>5) :\n",
    "    print(\"x is less than 5\")\n",
    "if not (x<5) :\n",
    "    print(\"x is greater than 5\")"
   ],
   "metadata": {
    "collapsed": false,
    "ExecuteTime": {
     "start_time": "2023-04-13T04:01:37.246407Z",
     "end_time": "2023-04-13T04:01:37.308935Z"
    }
   }
  },
  {
   "cell_type": "code",
   "execution_count": 110,
   "outputs": [],
   "source": [
    "# Using Iterative Constructs --> While & For Loop"
   ],
   "metadata": {
    "collapsed": false,
    "ExecuteTime": {
     "start_time": "2023-04-13T04:06:49.505167Z",
     "end_time": "2023-04-13T04:06:49.609145Z"
    }
   }
  },
  {
   "cell_type": "code",
   "execution_count": null,
   "outputs": [],
   "source": [
    "n = int(input(\"Enter total number of students : \"))\n",
    "\n",
    "c = 1\n",
    "while c <= n :\n",
    "    print(\"Enter Marks of Student \", c, \": \")\n",
    "    m1 = int(input(\"Enter Marks 1 : \"))\n",
    "    m2 = int(input(\"Enter Marks 2 : \"))\n",
    "    m3 = int(input(\"Enter Marks 3 : \"))\n",
    "    total = m1 + m2 + m3\n",
    "    average = total/3\n",
    "\n",
    "    if average >= 90 :\n",
    "        print(\"Congrats ! You have got 1st Division !!!\\n\")\n",
    "    elif 70 <= average < 90 :\n",
    "        print(\"Congrats ! You have got 2nd Division !!!\\n\")\n",
    "    else:\n",
    "        print(\"Congrats ! You have got 3rd Division !!!\\n\")\n",
    "    c = c + 1"
   ],
   "metadata": {
    "collapsed": false,
    "ExecuteTime": {
     "start_time": "2023-04-13T05:04:28.589014Z",
     "end_time": "2023-04-13T05:04:37.426385Z"
    },
    "pycharm": {
     "is_executing": true
    }
   }
  },
  {
   "cell_type": "code",
   "execution_count": null,
   "outputs": [],
   "source": [],
   "metadata": {
    "collapsed": false
   }
  }
 ],
 "metadata": {
  "kernelspec": {
   "display_name": "Python 3",
   "language": "python",
   "name": "python3"
  },
  "language_info": {
   "codemirror_mode": {
    "name": "ipython",
    "version": 2
   },
   "file_extension": ".py",
   "mimetype": "text/x-python",
   "name": "python",
   "nbconvert_exporter": "python",
   "pygments_lexer": "ipython2",
   "version": "2.7.6"
  }
 },
 "nbformat": 4,
 "nbformat_minor": 0
}
