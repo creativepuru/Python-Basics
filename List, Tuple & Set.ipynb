{
 "cells": [
  {
   "cell_type": "code",
   "execution_count": 1,
   "id": "517301e2-7851-4967-a792-bc896a1e8874",
   "metadata": {
    "ExecuteTime": {
     "start_time": "2023-04-14T04:16:43.334750Z",
     "end_time": "2023-04-14T04:16:43.741004Z"
    }
   },
   "outputs": [],
   "source": [
    "l = [1, 200, 1.200, 'Puru', True, 1+2j]"
   ]
  },
  {
   "cell_type": "code",
   "execution_count": 2,
   "id": "741023e2-867d-4ae5-a4ba-52dbcb41052f",
   "metadata": {
    "ExecuteTime": {
     "start_time": "2023-04-14T04:16:43.334750Z",
     "end_time": "2023-04-14T04:16:43.756639Z"
    }
   },
   "outputs": [
    {
     "data": {
      "text/plain": "list"
     },
     "execution_count": 2,
     "metadata": {},
     "output_type": "execute_result"
    }
   ],
   "source": [
    "type(l)"
   ]
  },
  {
   "cell_type": "code",
   "execution_count": 3,
   "id": "cd6bd7d8-5414-417d-8eb4-8316ca4ea93c",
   "metadata": {
    "ExecuteTime": {
     "start_time": "2023-04-14T04:16:43.428501Z",
     "end_time": "2023-04-14T04:16:43.756639Z"
    }
   },
   "outputs": [
    {
     "data": {
      "text/plain": "200"
     },
     "execution_count": 3,
     "metadata": {},
     "output_type": "execute_result"
    }
   ],
   "source": [
    "l[1]"
   ]
  },
  {
   "cell_type": "code",
   "execution_count": 4,
   "id": "16125891-9550-4341-8199-e9d2b39760bf",
   "metadata": {
    "ExecuteTime": {
     "start_time": "2023-04-14T04:16:43.475378Z",
     "end_time": "2023-04-14T04:16:43.756639Z"
    }
   },
   "outputs": [
    {
     "data": {
      "text/plain": "1.2"
     },
     "execution_count": 4,
     "metadata": {},
     "output_type": "execute_result"
    }
   ],
   "source": [
    "l[2]"
   ]
  },
  {
   "cell_type": "code",
   "execution_count": 5,
   "id": "f1ad39ab-6033-4b08-bc97-db7f03e8f899",
   "metadata": {
    "ExecuteTime": {
     "start_time": "2023-04-14T04:16:43.537876Z",
     "end_time": "2023-04-14T04:16:43.756639Z"
    }
   },
   "outputs": [
    {
     "data": {
      "text/plain": "1"
     },
     "execution_count": 5,
     "metadata": {},
     "output_type": "execute_result"
    }
   ],
   "source": [
    "l[0]"
   ]
  },
  {
   "cell_type": "code",
   "execution_count": 6,
   "id": "1e917dbd-5e20-4656-a2bb-4a9d8752c661",
   "metadata": {
    "ExecuteTime": {
     "start_time": "2023-04-14T04:16:43.600381Z",
     "end_time": "2023-04-14T04:16:43.756639Z"
    }
   },
   "outputs": [
    {
     "data": {
      "text/plain": "(1+2j)"
     },
     "execution_count": 6,
     "metadata": {},
     "output_type": "execute_result"
    }
   ],
   "source": [
    "l[-1]"
   ]
  },
  {
   "cell_type": "code",
   "execution_count": 7,
   "id": "080b7203-acfb-4a56-81c5-3c2a5208d5a7",
   "metadata": {
    "ExecuteTime": {
     "start_time": "2023-04-14T04:16:43.631626Z",
     "end_time": "2023-04-14T04:16:43.756639Z"
    }
   },
   "outputs": [
    {
     "data": {
      "text/plain": "True"
     },
     "execution_count": 7,
     "metadata": {},
     "output_type": "execute_result"
    }
   ],
   "source": [
    "l[-2]"
   ]
  },
  {
   "cell_type": "code",
   "execution_count": 8,
   "id": "cbbbca09-c5ca-44c9-90da-c96f703712c2",
   "metadata": {
    "ExecuteTime": {
     "start_time": "2023-04-14T04:16:43.678505Z",
     "end_time": "2023-04-14T04:16:43.756639Z"
    }
   },
   "outputs": [
    {
     "data": {
      "text/plain": "[1, 200, 1.2, 'Puru', True, (1+2j)]"
     },
     "execution_count": 8,
     "metadata": {},
     "output_type": "execute_result"
    }
   ],
   "source": [
    "l"
   ]
  },
  {
   "cell_type": "code",
   "execution_count": 9,
   "id": "1a80d757-c862-4390-b848-b81f9aebbb80",
   "metadata": {
    "ExecuteTime": {
     "start_time": "2023-04-14T04:16:43.709759Z",
     "end_time": "2023-04-14T04:16:43.756639Z"
    }
   },
   "outputs": [
    {
     "data": {
      "text/plain": "6"
     },
     "execution_count": 9,
     "metadata": {},
     "output_type": "execute_result"
    }
   ],
   "source": [
    "len(l)"
   ]
  },
  {
   "cell_type": "code",
   "execution_count": 10,
   "id": "f6df7e3e-8b0b-4504-914c-78db5b9306c8",
   "metadata": {
    "ExecuteTime": {
     "start_time": "2023-04-14T04:16:43.741004Z",
     "end_time": "2023-04-14T04:16:43.772250Z"
    }
   },
   "outputs": [],
   "source": [
    "#l.index()"
   ]
  },
  {
   "cell_type": "code",
   "execution_count": 11,
   "id": "69708750-36bd-451a-bcc9-39a009d802e6",
   "metadata": {
    "ExecuteTime": {
     "start_time": "2023-04-14T04:16:43.772250Z",
     "end_time": "2023-04-14T04:16:44.088998Z"
    }
   },
   "outputs": [
    {
     "data": {
      "text/plain": "1"
     },
     "execution_count": 11,
     "metadata": {},
     "output_type": "execute_result"
    }
   ],
   "source": [
    "l.index(200)"
   ]
  },
  {
   "cell_type": "code",
   "execution_count": 12,
   "id": "c4b5887a-db54-45e1-8c06-462b7d011ff1",
   "metadata": {
    "ExecuteTime": {
     "start_time": "2023-04-14T04:16:43.834754Z",
     "end_time": "2023-04-14T04:16:44.088998Z"
    }
   },
   "outputs": [
    {
     "data": {
      "text/plain": "[1, 200, 1.2, 'Puru', True, (1+2j)]"
     },
     "execution_count": 12,
     "metadata": {},
     "output_type": "execute_result"
    }
   ],
   "source": [
    "l"
   ]
  },
  {
   "cell_type": "code",
   "execution_count": 13,
   "id": "daf8c06a-9f03-49b7-89ea-8664d7273a57",
   "metadata": {
    "ExecuteTime": {
     "start_time": "2023-04-14T04:16:43.881625Z",
     "end_time": "2023-04-14T04:16:44.088998Z"
    }
   },
   "outputs": [],
   "source": [
    "#l[900]"
   ]
  },
  {
   "cell_type": "code",
   "execution_count": 14,
   "id": "0e7f0e28-d759-4b29-9cf5-7d708b3c7148",
   "metadata": {
    "ExecuteTime": {
     "start_time": "2023-04-14T04:16:43.912878Z",
     "end_time": "2023-04-14T04:16:44.088998Z"
    }
   },
   "outputs": [
    {
     "data": {
      "text/plain": "[1, 200, 1.2, 'Puru', True, (1+2j)]"
     },
     "execution_count": 14,
     "metadata": {},
     "output_type": "execute_result"
    }
   ],
   "source": [
    "l"
   ]
  },
  {
   "cell_type": "code",
   "execution_count": 15,
   "id": "77534bff-10dd-4944-af16-fb90bff26006",
   "metadata": {
    "ExecuteTime": {
     "start_time": "2023-04-14T04:16:43.975378Z",
     "end_time": "2023-04-14T04:16:44.088998Z"
    }
   },
   "outputs": [
    {
     "name": "stdout",
     "output_type": "stream",
     "text": [
      "[1, 200, 1.2, 'Puru', True, (1+2j)]\n"
     ]
    }
   ],
   "source": [
    "print(l)"
   ]
  },
  {
   "cell_type": "code",
   "execution_count": 16,
   "id": "9b1cfbdc-a82d-4ca2-a83a-7b3038b78f55",
   "metadata": {
    "ExecuteTime": {
     "start_time": "2023-04-14T04:16:44.026437Z",
     "end_time": "2023-04-14T04:16:44.182742Z"
    }
   },
   "outputs": [],
   "source": [
    "l.append('append')"
   ]
  },
  {
   "cell_type": "code",
   "execution_count": 17,
   "id": "242c99cb-30c3-49c7-b227-4d22f4120b68",
   "metadata": {
    "ExecuteTime": {
     "start_time": "2023-04-14T04:16:44.073368Z",
     "end_time": "2023-04-14T04:16:44.479622Z"
    }
   },
   "outputs": [
    {
     "data": {
      "text/plain": "[1, 200, 1.2, 'Puru', True, (1+2j), 'append']"
     },
     "execution_count": 17,
     "metadata": {},
     "output_type": "execute_result"
    }
   ],
   "source": [
    "l"
   ]
  },
  {
   "cell_type": "code",
   "execution_count": 18,
   "id": "d61b9605-cdca-4085-aad2-a73df2e066ce",
   "metadata": {
    "ExecuteTime": {
     "start_time": "2023-04-14T04:16:44.120246Z",
     "end_time": "2023-04-14T04:16:44.557743Z"
    }
   },
   "outputs": [
    {
     "data": {
      "text/plain": "[1, 200, 1.2]"
     },
     "execution_count": 18,
     "metadata": {},
     "output_type": "execute_result"
    }
   ],
   "source": [
    "l[0:3]"
   ]
  },
  {
   "cell_type": "code",
   "execution_count": 19,
   "id": "0d1a3806-cb47-42b7-a63c-a0e4c225131c",
   "metadata": {
    "ExecuteTime": {
     "start_time": "2023-04-14T04:16:44.167127Z",
     "end_time": "2023-04-14T04:16:44.557743Z"
    }
   },
   "outputs": [
    {
     "data": {
      "text/plain": "[1, 200]"
     },
     "execution_count": 19,
     "metadata": {},
     "output_type": "execute_result"
    }
   ],
   "source": [
    "l[0:2]"
   ]
  },
  {
   "cell_type": "code",
   "execution_count": 20,
   "id": "4d03f6d8-f737-4a74-959f-74c1aab0f8b2",
   "metadata": {
    "ExecuteTime": {
     "start_time": "2023-04-14T04:16:44.245244Z",
     "end_time": "2023-04-14T04:16:44.557743Z"
    }
   },
   "outputs": [
    {
     "data": {
      "text/plain": "[1]"
     },
     "execution_count": 20,
     "metadata": {},
     "output_type": "execute_result"
    }
   ],
   "source": [
    "l[0::-1]"
   ]
  },
  {
   "cell_type": "code",
   "execution_count": 21,
   "id": "8346fdfa-d024-422b-9664-c113265f13d0",
   "metadata": {
    "ExecuteTime": {
     "start_time": "2023-04-14T04:16:44.292123Z",
     "end_time": "2023-04-14T04:16:44.557743Z"
    }
   },
   "outputs": [
    {
     "data": {
      "text/plain": "'append'"
     },
     "execution_count": 21,
     "metadata": {},
     "output_type": "execute_result"
    }
   ],
   "source": [
    "l[-1]"
   ]
  },
  {
   "cell_type": "code",
   "execution_count": 22,
   "id": "9d8f2b9c-b111-40e6-b0bb-5f1b726c6cb6",
   "metadata": {
    "ExecuteTime": {
     "start_time": "2023-04-14T04:16:44.354616Z",
     "end_time": "2023-04-14T04:16:44.557743Z"
    }
   },
   "outputs": [
    {
     "data": {
      "text/plain": "['append', (1+2j), True, 'Puru', 1.2, 200, 1]"
     },
     "execution_count": 22,
     "metadata": {},
     "output_type": "execute_result"
    }
   ],
   "source": [
    "# Reverse the List\n",
    "\n",
    "l[::-1]"
   ]
  },
  {
   "cell_type": "code",
   "execution_count": 23,
   "id": "c9973dde-a25e-4cfb-b720-1ec3009f554f",
   "metadata": {
    "ExecuteTime": {
     "start_time": "2023-04-14T04:16:44.401495Z",
     "end_time": "2023-04-14T04:16:44.573367Z"
    }
   },
   "outputs": [
    {
     "data": {
      "text/plain": "[1, 200, 1.2, 'Puru', True, (1+2j), 'append']"
     },
     "execution_count": 23,
     "metadata": {},
     "output_type": "execute_result"
    }
   ],
   "source": [
    "l"
   ]
  },
  {
   "cell_type": "code",
   "execution_count": 24,
   "id": "4c74c782-5aa2-445e-b610-b8103ea843f4",
   "metadata": {
    "ExecuteTime": {
     "start_time": "2023-04-14T04:16:44.448369Z",
     "end_time": "2023-04-14T04:16:44.573367Z"
    }
   },
   "outputs": [
    {
     "data": {
      "text/plain": "[1, 1.2, True, 'append']"
     },
     "execution_count": 24,
     "metadata": {},
     "output_type": "execute_result"
    }
   ],
   "source": [
    "#Slicing at Even Index\n",
    "\n",
    "l[::2]"
   ]
  },
  {
   "cell_type": "code",
   "execution_count": 25,
   "id": "2709c5f9-93fc-4a09-80e9-39b377954bba",
   "metadata": {
    "ExecuteTime": {
     "start_time": "2023-04-14T04:16:44.479622Z",
     "end_time": "2023-04-14T04:16:44.885873Z"
    }
   },
   "outputs": [
    {
     "data": {
      "text/plain": "[1, 'Puru', 'append']"
     },
     "execution_count": 25,
     "metadata": {},
     "output_type": "execute_result"
    }
   ],
   "source": [
    "l[::3]"
   ]
  },
  {
   "cell_type": "code",
   "execution_count": 26,
   "id": "593a9a8f-a5a1-4d14-944d-b0a5f92e7b32",
   "metadata": {
    "ExecuteTime": {
     "start_time": "2023-04-14T04:16:44.510872Z",
     "end_time": "2023-04-14T04:16:44.885873Z"
    }
   },
   "outputs": [],
   "source": [
    "s = 'pwskills'"
   ]
  },
  {
   "cell_type": "code",
   "execution_count": 27,
   "id": "9dd083b5-0535-4481-8e2e-391e29aa44ba",
   "metadata": {
    "ExecuteTime": {
     "start_time": "2023-04-14T04:16:44.542121Z",
     "end_time": "2023-04-14T04:16:44.885873Z"
    }
   },
   "outputs": [],
   "source": [
    "#l+s"
   ]
  },
  {
   "cell_type": "code",
   "execution_count": 28,
   "id": "b5a0639c-18cb-4ef9-ade8-f90f8279127c",
   "metadata": {
    "ExecuteTime": {
     "start_time": "2023-04-14T04:16:44.573367Z",
     "end_time": "2023-04-14T04:16:44.885873Z"
    }
   },
   "outputs": [
    {
     "data": {
      "text/plain": "['p', 'w', 's', 'k', 'i', 'l', 'l', 's']"
     },
     "execution_count": 28,
     "metadata": {},
     "output_type": "execute_result"
    }
   ],
   "source": [
    "list(s)"
   ]
  },
  {
   "cell_type": "code",
   "execution_count": 29,
   "id": "b09c809d-98d3-48ae-b928-747e37966fb9",
   "metadata": {
    "ExecuteTime": {
     "start_time": "2023-04-14T04:16:44.604626Z",
     "end_time": "2023-04-14T04:16:44.885873Z"
    }
   },
   "outputs": [
    {
     "data": {
      "text/plain": "[1, 200, 1.2, 'Puru', True, (1+2j), 'append']"
     },
     "execution_count": 29,
     "metadata": {},
     "output_type": "execute_result"
    }
   ],
   "source": [
    "list(l)"
   ]
  },
  {
   "cell_type": "code",
   "execution_count": 30,
   "id": "de29e161-011e-447a-93aa-4d209ca59004",
   "metadata": {
    "ExecuteTime": {
     "start_time": "2023-04-14T04:16:44.651492Z",
     "end_time": "2023-04-14T04:16:44.885873Z"
    }
   },
   "outputs": [
    {
     "data": {
      "text/plain": "['p',\n 'w',\n 's',\n 'k',\n 'i',\n 'l',\n 'l',\n 's',\n 1,\n 200,\n 1.2,\n 'Puru',\n True,\n (1+2j),\n 'append']"
     },
     "execution_count": 30,
     "metadata": {},
     "output_type": "execute_result"
    }
   ],
   "source": [
    "list(s) + l"
   ]
  },
  {
   "cell_type": "code",
   "execution_count": 31,
   "id": "821f4a1f-c484-43cc-b354-e461d3bbcef0",
   "metadata": {
    "ExecuteTime": {
     "start_time": "2023-04-14T04:16:44.682743Z",
     "end_time": "2023-04-14T04:16:44.995248Z"
    }
   },
   "outputs": [
    {
     "data": {
      "text/plain": "[1, 200, 1.2, 'Puru', True, (1+2j), 'append']"
     },
     "execution_count": 31,
     "metadata": {},
     "output_type": "execute_result"
    }
   ],
   "source": [
    "l"
   ]
  },
  {
   "cell_type": "code",
   "execution_count": 32,
   "id": "8746d336-1662-4c83-9507-37c940cb2c97",
   "metadata": {
    "ExecuteTime": {
     "start_time": "2023-04-14T04:16:44.729624Z",
     "end_time": "2023-04-14T04:16:45.088992Z"
    }
   },
   "outputs": [
    {
     "data": {
      "text/plain": "'pwskills'"
     },
     "execution_count": 32,
     "metadata": {},
     "output_type": "execute_result"
    }
   ],
   "source": [
    "s"
   ]
  },
  {
   "cell_type": "code",
   "execution_count": 33,
   "id": "a053426f-5416-4ab7-85ed-feb63cd5ca85",
   "metadata": {
    "ExecuteTime": {
     "start_time": "2023-04-14T04:16:44.745242Z",
     "end_time": "2023-04-14T04:16:45.088992Z"
    }
   },
   "outputs": [],
   "source": [
    "ss = list(s)"
   ]
  },
  {
   "cell_type": "code",
   "execution_count": 34,
   "id": "01f873a5-f5ec-4f38-a2c9-fe9cc8e021c3",
   "metadata": {
    "ExecuteTime": {
     "start_time": "2023-04-14T04:16:44.792118Z",
     "end_time": "2023-04-14T04:16:45.088992Z"
    }
   },
   "outputs": [
    {
     "data": {
      "text/plain": "[1,\n 200,\n 1.2,\n 'Puru',\n True,\n (1+2j),\n 'append',\n 'p',\n 'w',\n 's',\n 'k',\n 'i',\n 'l',\n 'l',\n 's']"
     },
     "execution_count": 34,
     "metadata": {},
     "output_type": "execute_result"
    }
   ],
   "source": [
    "l + ss"
   ]
  },
  {
   "cell_type": "code",
   "execution_count": 35,
   "id": "e4ab6da8-d4ed-4c0b-9f08-1153c258f72c",
   "metadata": {
    "ExecuteTime": {
     "start_time": "2023-04-14T04:16:44.823366Z",
     "end_time": "2023-04-14T04:16:45.088992Z"
    }
   },
   "outputs": [],
   "source": [
    "l.append('pwskills')"
   ]
  },
  {
   "cell_type": "code",
   "execution_count": 36,
   "id": "dac248eb-c37c-44dd-aa67-7b939f77b10d",
   "metadata": {
    "ExecuteTime": {
     "start_time": "2023-04-14T04:16:44.838993Z",
     "end_time": "2023-04-14T04:16:45.088992Z"
    }
   },
   "outputs": [
    {
     "data": {
      "text/plain": "[1, 200, 1.2, 'Puru', True, (1+2j), 'append', 'pwskills']"
     },
     "execution_count": 36,
     "metadata": {},
     "output_type": "execute_result"
    }
   ],
   "source": [
    "l"
   ]
  },
  {
   "cell_type": "code",
   "execution_count": 37,
   "id": "b6b4d7b4-c979-41c7-9e84-b67bc2fd5c5d",
   "metadata": {
    "ExecuteTime": {
     "start_time": "2023-04-14T04:16:44.885873Z",
     "end_time": "2023-04-14T04:16:45.479625Z"
    }
   },
   "outputs": [
    {
     "data": {
      "text/plain": "3"
     },
     "execution_count": 37,
     "metadata": {},
     "output_type": "execute_result"
    }
   ],
   "source": [
    "l.index('Puru')"
   ]
  },
  {
   "cell_type": "code",
   "execution_count": 38,
   "id": "3e2f6856-b91a-48cf-a55f-ecafd1b7e453",
   "metadata": {
    "ExecuteTime": {
     "start_time": "2023-04-14T04:16:44.932746Z",
     "end_time": "2023-04-14T04:16:45.479625Z"
    }
   },
   "outputs": [
    {
     "data": {
      "text/plain": "'Puru'"
     },
     "execution_count": 38,
     "metadata": {},
     "output_type": "execute_result"
    }
   ],
   "source": [
    "l[3]"
   ]
  },
  {
   "cell_type": "code",
   "execution_count": 39,
   "id": "a218f096-af8b-4a19-945e-8ae18f074b9f",
   "metadata": {
    "ExecuteTime": {
     "start_time": "2023-04-14T04:16:44.964004Z",
     "end_time": "2023-04-14T04:16:45.479625Z"
    }
   },
   "outputs": [
    {
     "data": {
      "text/plain": "str"
     },
     "execution_count": 39,
     "metadata": {},
     "output_type": "execute_result"
    }
   ],
   "source": [
    "type(l[3])"
   ]
  },
  {
   "cell_type": "code",
   "execution_count": 40,
   "id": "7a2df8ef-1f8f-405a-a9af-0fcb61e6677b",
   "metadata": {
    "ExecuteTime": {
     "start_time": "2023-04-14T04:16:44.995248Z",
     "end_time": "2023-04-14T04:16:45.479625Z"
    }
   },
   "outputs": [
    {
     "data": {
      "text/plain": "'Puru'"
     },
     "execution_count": 40,
     "metadata": {},
     "output_type": "execute_result"
    }
   ],
   "source": [
    "l[3]"
   ]
  },
  {
   "cell_type": "code",
   "execution_count": 41,
   "id": "bdedc65c-878f-4a9b-a21a-f62f29898d3d",
   "metadata": {
    "ExecuteTime": {
     "start_time": "2023-04-14T04:16:45.057747Z",
     "end_time": "2023-04-14T04:16:45.479625Z"
    }
   },
   "outputs": [
    {
     "data": {
      "text/plain": "'Pu'"
     },
     "execution_count": 41,
     "metadata": {},
     "output_type": "execute_result"
    }
   ],
   "source": [
    "l[3][0:2]"
   ]
  },
  {
   "cell_type": "code",
   "execution_count": 42,
   "id": "731d8680-25d2-4035-91f4-7119b5040b09",
   "metadata": {
    "ExecuteTime": {
     "start_time": "2023-04-14T04:16:45.073366Z",
     "end_time": "2023-04-14T04:16:45.479625Z"
    }
   },
   "outputs": [
    {
     "data": {
      "text/plain": "True"
     },
     "execution_count": 42,
     "metadata": {},
     "output_type": "execute_result"
    }
   ],
   "source": [
    "l[4]"
   ]
  },
  {
   "cell_type": "code",
   "execution_count": 43,
   "id": "a87e03dc-da6e-4b12-9da0-8b2db6d83137",
   "metadata": {
    "ExecuteTime": {
     "start_time": "2023-04-14T04:16:45.104614Z",
     "end_time": "2023-04-14T04:16:45.495243Z"
    }
   },
   "outputs": [
    {
     "data": {
      "text/plain": "'True'"
     },
     "execution_count": 43,
     "metadata": {},
     "output_type": "execute_result"
    }
   ],
   "source": [
    "str(l[4])"
   ]
  },
  {
   "cell_type": "code",
   "execution_count": 44,
   "id": "9b753252-cb9c-43c8-870d-5df619a52beb",
   "metadata": {
    "ExecuteTime": {
     "start_time": "2023-04-14T04:16:45.151498Z",
     "end_time": "2023-04-14T04:16:45.604618Z"
    }
   },
   "outputs": [
    {
     "data": {
      "text/plain": "str"
     },
     "execution_count": 44,
     "metadata": {},
     "output_type": "execute_result"
    }
   ],
   "source": [
    "type(str(l[4]))"
   ]
  },
  {
   "cell_type": "code",
   "execution_count": 45,
   "id": "5ca0fe11-2a8a-4d81-8e22-ef0c4edbae88",
   "metadata": {
    "ExecuteTime": {
     "start_time": "2023-04-14T04:16:45.213991Z",
     "end_time": "2023-04-14T04:16:45.608490Z"
    }
   },
   "outputs": [
    {
     "data": {
      "text/plain": "bool"
     },
     "execution_count": 45,
     "metadata": {},
     "output_type": "execute_result"
    }
   ],
   "source": [
    "type(l[4])"
   ]
  },
  {
   "cell_type": "code",
   "execution_count": 46,
   "id": "86ea07a5-c5cc-41bb-ad63-d0fa5aadd132",
   "metadata": {
    "ExecuteTime": {
     "start_time": "2023-04-14T04:16:45.323367Z",
     "end_time": "2023-04-14T04:16:45.608490Z"
    }
   },
   "outputs": [
    {
     "data": {
      "text/plain": "True"
     },
     "execution_count": 46,
     "metadata": {},
     "output_type": "execute_result"
    }
   ],
   "source": [
    "l[4]"
   ]
  },
  {
   "cell_type": "code",
   "execution_count": 47,
   "id": "427114cb-59ac-4fbe-a0d9-3326bc4b7967",
   "metadata": {
    "ExecuteTime": {
     "start_time": "2023-04-14T04:16:45.385870Z",
     "end_time": "2023-04-14T04:16:45.608490Z"
    }
   },
   "outputs": [
    {
     "data": {
      "text/plain": "'Tr'"
     },
     "execution_count": 47,
     "metadata": {},
     "output_type": "execute_result"
    }
   ],
   "source": [
    "str(l[4])[0:2]"
   ]
  },
  {
   "cell_type": "code",
   "execution_count": 48,
   "id": "1ee6dc9a-e767-45f3-8a59-c6f2e2330140",
   "metadata": {
    "ExecuteTime": {
     "start_time": "2023-04-14T04:16:45.417119Z",
     "end_time": "2023-04-14T04:16:45.608490Z"
    }
   },
   "outputs": [],
   "source": [
    "l1 = [1, 2, 3]"
   ]
  },
  {
   "cell_type": "code",
   "execution_count": 49,
   "id": "c4b863ca-aa12-468c-975f-df116bbdc235",
   "metadata": {
    "ExecuteTime": {
     "start_time": "2023-04-14T04:16:45.463998Z",
     "end_time": "2023-04-14T04:16:45.608490Z"
    }
   },
   "outputs": [
    {
     "data": {
      "text/plain": "[1, 200, 1.2, 'Puru', True, (1+2j), 'append', 'pwskills']"
     },
     "execution_count": 49,
     "metadata": {},
     "output_type": "execute_result"
    }
   ],
   "source": [
    "l"
   ]
  },
  {
   "cell_type": "code",
   "execution_count": 50,
   "id": "3faa156e-46a3-4c32-9f7a-5650152705bc",
   "metadata": {
    "ExecuteTime": {
     "start_time": "2023-04-14T04:16:45.495243Z",
     "end_time": "2023-04-14T04:16:46.014785Z"
    }
   },
   "outputs": [
    {
     "data": {
      "text/plain": "[1, 2, 3]"
     },
     "execution_count": 50,
     "metadata": {},
     "output_type": "execute_result"
    }
   ],
   "source": [
    "l1"
   ]
  },
  {
   "cell_type": "code",
   "execution_count": 51,
   "id": "fbc03520-c347-401c-aec6-1c332fe913f1",
   "metadata": {
    "ExecuteTime": {
     "start_time": "2023-04-14T04:16:45.526494Z",
     "end_time": "2023-04-14T04:16:46.014785Z"
    }
   },
   "outputs": [
    {
     "data": {
      "text/plain": "[1, 200, 1.2, 'Puru', True, (1+2j), 'append', 'pwskills', 1, 2, 3]"
     },
     "execution_count": 51,
     "metadata": {},
     "output_type": "execute_result"
    }
   ],
   "source": [
    "l + l1"
   ]
  },
  {
   "cell_type": "code",
   "execution_count": 52,
   "id": "f7e1558f-a1ce-4516-a20f-5b0fd3430c1b",
   "metadata": {
    "ExecuteTime": {
     "start_time": "2023-04-14T04:16:45.557740Z",
     "end_time": "2023-04-14T04:16:46.014785Z"
    }
   },
   "outputs": [
    {
     "data": {
      "text/plain": "[1, 2, 3, 1, 2, 3, 1, 2, 3]"
     },
     "execution_count": 52,
     "metadata": {},
     "output_type": "execute_result"
    }
   ],
   "source": [
    "l1 * 3"
   ]
  },
  {
   "cell_type": "code",
   "execution_count": 53,
   "id": "1ec75672-e114-48fe-9cbe-3de84de985e0",
   "metadata": {
    "ExecuteTime": {
     "start_time": "2023-04-14T04:16:45.588995Z",
     "end_time": "2023-04-14T04:16:46.014785Z"
    }
   },
   "outputs": [
    {
     "data": {
      "text/plain": "[1,\n 200,\n 1.2,\n 'Puru',\n True,\n (1+2j),\n 'append',\n 'pwskills',\n 1,\n 200,\n 1.2,\n 'Puru',\n True,\n (1+2j),\n 'append',\n 'pwskills',\n 1,\n 200,\n 1.2,\n 'Puru',\n True,\n (1+2j),\n 'append',\n 'pwskills']"
     },
     "execution_count": 53,
     "metadata": {},
     "output_type": "execute_result"
    }
   ],
   "source": [
    "l * 3"
   ]
  },
  {
   "cell_type": "code",
   "execution_count": 54,
   "id": "f36fe9ef-094b-4065-b5ce-6acf6288b1bf",
   "metadata": {
    "ExecuteTime": {
     "start_time": "2023-04-14T04:16:45.655415Z",
     "end_time": "2023-04-14T04:16:46.014785Z"
    }
   },
   "outputs": [],
   "source": [
    "l2 = ['*', '**', '***', '****', '*****']"
   ]
  },
  {
   "cell_type": "code",
   "execution_count": 55,
   "id": "51dbbecd-9d31-41b9-8df0-426a6d8cf86c",
   "metadata": {
    "ExecuteTime": {
     "start_time": "2023-04-14T04:16:45.686660Z",
     "end_time": "2023-04-14T04:16:46.202289Z"
    }
   },
   "outputs": [
    {
     "data": {
      "text/plain": "['*',\n '**',\n '***',\n '****',\n '*****',\n '*',\n '**',\n '***',\n '****',\n '*****',\n '*',\n '**',\n '***',\n '****',\n '*****',\n '*',\n '**',\n '***',\n '****',\n '*****',\n '*',\n '**',\n '***',\n '****',\n '*****']"
     },
     "execution_count": 55,
     "metadata": {},
     "output_type": "execute_result"
    }
   ],
   "source": [
    "l2 * 5"
   ]
  },
  {
   "cell_type": "code",
   "execution_count": 56,
   "id": "cf5d3ab8-1f37-41cf-8d9c-005957d3c3c0",
   "metadata": {
    "ExecuteTime": {
     "start_time": "2023-04-14T04:16:45.717915Z",
     "end_time": "2023-04-14T04:16:46.202289Z"
    }
   },
   "outputs": [
    {
     "data": {
      "text/plain": "8"
     },
     "execution_count": 56,
     "metadata": {},
     "output_type": "execute_result"
    }
   ],
   "source": [
    "len(l)"
   ]
  },
  {
   "cell_type": "code",
   "execution_count": 57,
   "id": "32463626-7003-404d-bdd6-ea36dfef21f3",
   "metadata": {
    "ExecuteTime": {
     "start_time": "2023-04-14T04:16:45.749160Z",
     "end_time": "2023-04-14T04:16:46.202289Z"
    }
   },
   "outputs": [
    {
     "data": {
      "text/plain": "3"
     },
     "execution_count": 57,
     "metadata": {},
     "output_type": "execute_result"
    }
   ],
   "source": [
    "len(l1)"
   ]
  },
  {
   "cell_type": "code",
   "execution_count": 58,
   "id": "a45d701e-ba84-4eaf-ad52-070d54ae5842",
   "metadata": {
    "ExecuteTime": {
     "start_time": "2023-04-14T04:16:45.780409Z",
     "end_time": "2023-04-14T04:16:46.202289Z"
    }
   },
   "outputs": [
    {
     "data": {
      "text/plain": "5"
     },
     "execution_count": 58,
     "metadata": {},
     "output_type": "execute_result"
    }
   ],
   "source": [
    "len(l2)"
   ]
  },
  {
   "cell_type": "code",
   "execution_count": 59,
   "id": "65575fc9-2616-49df-af2f-c9747aacd02f",
   "metadata": {
    "ExecuteTime": {
     "start_time": "2023-04-14T04:16:45.827284Z",
     "end_time": "2023-04-14T04:16:46.202289Z"
    }
   },
   "outputs": [
    {
     "data": {
      "text/plain": "[1, 200, 1.2, 'Puru', True, (1+2j), 'append', 'pwskills']"
     },
     "execution_count": 59,
     "metadata": {},
     "output_type": "execute_result"
    }
   ],
   "source": [
    "l"
   ]
  },
  {
   "cell_type": "code",
   "execution_count": 60,
   "id": "cb7625ff-ffae-46e3-a01e-051c11e760c0",
   "metadata": {
    "ExecuteTime": {
     "start_time": "2023-04-14T04:16:45.874162Z",
     "end_time": "2023-04-14T04:16:46.217911Z"
    }
   },
   "outputs": [
    {
     "data": {
      "text/plain": "[1, 2, 3]"
     },
     "execution_count": 60,
     "metadata": {},
     "output_type": "execute_result"
    }
   ],
   "source": [
    "l1"
   ]
  },
  {
   "cell_type": "code",
   "execution_count": 61,
   "id": "dc0f5f5e-c473-41f6-954e-2e968732fc9c",
   "metadata": {
    "ExecuteTime": {
     "start_time": "2023-04-14T04:16:45.921035Z",
     "end_time": "2023-04-14T04:16:46.233535Z"
    }
   },
   "outputs": [
    {
     "data": {
      "text/plain": "['*', '**', '***', '****', '*****']"
     },
     "execution_count": 61,
     "metadata": {},
     "output_type": "execute_result"
    }
   ],
   "source": [
    "l2"
   ]
  },
  {
   "cell_type": "code",
   "execution_count": 62,
   "id": "265f4ae8-3a73-4d54-a859-c2ac6300539b",
   "metadata": {
    "ExecuteTime": {
     "start_time": "2023-04-14T04:16:45.999164Z",
     "end_time": "2023-04-14T04:16:46.233535Z"
    }
   },
   "outputs": [],
   "source": [
    "l.append(l1)"
   ]
  },
  {
   "cell_type": "code",
   "execution_count": 63,
   "id": "675d3831-98d4-47c5-ac48-a16a5a5de9fc",
   "metadata": {
    "ExecuteTime": {
     "start_time": "2023-04-14T04:16:46.030412Z",
     "end_time": "2023-04-14T04:16:46.764789Z"
    }
   },
   "outputs": [
    {
     "data": {
      "text/plain": "[1, 200, 1.2, 'Puru', True, (1+2j), 'append', 'pwskills', [1, 2, 3]]"
     },
     "execution_count": 63,
     "metadata": {},
     "output_type": "execute_result"
    }
   ],
   "source": [
    "l"
   ]
  },
  {
   "cell_type": "code",
   "execution_count": 64,
   "id": "191cf239-207d-4cbc-ac4f-cf7ef7dd5c44",
   "metadata": {
    "ExecuteTime": {
     "start_time": "2023-04-14T04:16:46.061659Z",
     "end_time": "2023-04-14T04:16:46.811656Z"
    }
   },
   "outputs": [
    {
     "data": {
      "text/plain": "'pwskills'"
     },
     "execution_count": 64,
     "metadata": {},
     "output_type": "execute_result"
    }
   ],
   "source": [
    "s"
   ]
  },
  {
   "cell_type": "code",
   "execution_count": 65,
   "id": "5c36c320-7175-4cc2-b6bc-94d4b196b0f6",
   "metadata": {
    "ExecuteTime": {
     "start_time": "2023-04-14T04:16:46.108540Z",
     "end_time": "2023-04-14T04:16:46.827296Z"
    }
   },
   "outputs": [],
   "source": [
    "l.append(l2)"
   ]
  },
  {
   "cell_type": "code",
   "execution_count": 66,
   "id": "03c89910-650a-4135-823d-6cd5d2317f41",
   "metadata": {
    "ExecuteTime": {
     "start_time": "2023-04-14T04:16:46.155415Z",
     "end_time": "2023-04-14T04:16:46.827296Z"
    }
   },
   "outputs": [
    {
     "data": {
      "text/plain": "[1,\n 200,\n 1.2,\n 'Puru',\n True,\n (1+2j),\n 'append',\n 'pwskills',\n [1, 2, 3],\n ['*', '**', '***', '****', '*****']]"
     },
     "execution_count": 66,
     "metadata": {},
     "output_type": "execute_result"
    }
   ],
   "source": [
    "l"
   ]
  },
  {
   "cell_type": "code",
   "execution_count": 67,
   "id": "8f08fd87-77a8-4f26-b160-aa77b177d016",
   "metadata": {
    "ExecuteTime": {
     "start_time": "2023-04-14T04:16:46.186662Z",
     "end_time": "2023-04-14T04:16:46.827296Z"
    }
   },
   "outputs": [
    {
     "data": {
      "text/plain": "[1,\n 200,\n 1.2,\n 'Puru',\n True,\n (1+2j),\n 'append',\n 'pwskills',\n [1, 2, 3],\n ['*', '**', '***', '****', '*****']]"
     },
     "execution_count": 67,
     "metadata": {},
     "output_type": "execute_result"
    }
   ],
   "source": [
    "l"
   ]
  },
  {
   "cell_type": "code",
   "execution_count": 68,
   "id": "e9d55923-2008-43cb-b6e3-92afd430e0e3",
   "metadata": {
    "ExecuteTime": {
     "start_time": "2023-04-14T04:16:46.217911Z",
     "end_time": "2023-04-14T04:16:46.858533Z"
    }
   },
   "outputs": [
    {
     "data": {
      "text/plain": "[1, 2, 3]"
     },
     "execution_count": 68,
     "metadata": {},
     "output_type": "execute_result"
    }
   ],
   "source": [
    "l[8]"
   ]
  },
  {
   "cell_type": "code",
   "execution_count": 69,
   "id": "dfb5bb9a-5438-4e04-b332-6beee2674a71",
   "metadata": {
    "ExecuteTime": {
     "start_time": "2023-04-14T04:16:46.264787Z",
     "end_time": "2023-04-14T04:16:46.889787Z"
    }
   },
   "outputs": [
    {
     "data": {
      "text/plain": "2"
     },
     "execution_count": 69,
     "metadata": {},
     "output_type": "execute_result"
    }
   ],
   "source": [
    "l[8][1]"
   ]
  },
  {
   "cell_type": "code",
   "execution_count": 70,
   "id": "da20727b-5a18-47d0-bed8-7d177241666f",
   "metadata": {
    "ExecuteTime": {
     "start_time": "2023-04-14T04:16:46.311666Z",
     "end_time": "2023-04-14T04:16:46.889787Z"
    }
   },
   "outputs": [
    {
     "data": {
      "text/plain": "[1,\n 200,\n 1.2,\n 'Puru',\n True,\n (1+2j),\n 'append',\n 'pwskills',\n [1, 2, 3],\n ['*', '**', '***', '****', '*****']]"
     },
     "execution_count": 70,
     "metadata": {},
     "output_type": "execute_result"
    }
   ],
   "source": [
    "l"
   ]
  },
  {
   "cell_type": "code",
   "execution_count": 71,
   "id": "6c950591-70e3-456f-891a-24122c2b9b3e",
   "metadata": {
    "ExecuteTime": {
     "start_time": "2023-04-14T04:16:46.389785Z",
     "end_time": "2023-04-14T04:16:46.889787Z"
    }
   },
   "outputs": [],
   "source": [
    "l.extend('anand')"
   ]
  },
  {
   "cell_type": "code",
   "execution_count": 72,
   "id": "57ce422d-6cef-446c-8cf5-81bcded56a13",
   "metadata": {
    "ExecuteTime": {
     "start_time": "2023-04-14T04:16:46.421035Z",
     "end_time": "2023-04-14T04:16:46.889787Z"
    }
   },
   "outputs": [
    {
     "data": {
      "text/plain": "[1,\n 200,\n 1.2,\n 'Puru',\n True,\n (1+2j),\n 'append',\n 'pwskills',\n [1, 2, 3],\n ['*', '**', '***', '****', '*****'],\n 'a',\n 'n',\n 'a',\n 'n',\n 'd']"
     },
     "execution_count": 72,
     "metadata": {},
     "output_type": "execute_result"
    }
   ],
   "source": [
    "l"
   ]
  },
  {
   "cell_type": "code",
   "execution_count": 73,
   "id": "f7cb00ce-51fa-41f7-97ed-4ba3cf0d0692",
   "metadata": {
    "ExecuteTime": {
     "start_time": "2023-04-14T04:18:41.856155Z",
     "end_time": "2023-04-14T04:18:42.122530Z"
    }
   },
   "outputs": [
    {
     "data": {
      "text/plain": "[1, 2, 3]"
     },
     "execution_count": 73,
     "metadata": {},
     "output_type": "execute_result"
    }
   ],
   "source": [
    "l1"
   ]
  },
  {
   "cell_type": "code",
   "execution_count": 74,
   "outputs": [],
   "source": [
    "l1.insert(1, \"Puru\")"
   ],
   "metadata": {
    "collapsed": false,
    "ExecuteTime": {
     "start_time": "2023-04-14T04:21:38.880780Z",
     "end_time": "2023-04-14T04:21:39.110874Z"
    }
   }
  },
  {
   "cell_type": "code",
   "execution_count": 75,
   "outputs": [
    {
     "data": {
      "text/plain": "[1, 'Puru', 2, 3]"
     },
     "execution_count": 75,
     "metadata": {},
     "output_type": "execute_result"
    }
   ],
   "source": [
    "l1"
   ],
   "metadata": {
    "collapsed": false,
    "ExecuteTime": {
     "start_time": "2023-04-14T04:21:40.980776Z",
     "end_time": "2023-04-14T04:21:41.166796Z"
    }
   }
  },
  {
   "cell_type": "code",
   "execution_count": 76,
   "outputs": [],
   "source": [
    "l1.insert(0, \"Anand\")"
   ],
   "metadata": {
    "collapsed": false,
    "ExecuteTime": {
     "start_time": "2023-04-14T04:23:02.045919Z",
     "end_time": "2023-04-14T04:23:02.305713Z"
    }
   }
  },
  {
   "cell_type": "code",
   "execution_count": 77,
   "outputs": [
    {
     "data": {
      "text/plain": "['Anand', 1, 'Puru', 2, 3]"
     },
     "execution_count": 77,
     "metadata": {},
     "output_type": "execute_result"
    }
   ],
   "source": [
    "l1"
   ],
   "metadata": {
    "collapsed": false,
    "ExecuteTime": {
     "start_time": "2023-04-14T04:23:06.555892Z",
     "end_time": "2023-04-14T04:23:06.808193Z"
    }
   }
  },
  {
   "cell_type": "code",
   "execution_count": 78,
   "outputs": [],
   "source": [
    "l1.insert(4, [1,2,3])"
   ],
   "metadata": {
    "collapsed": false,
    "ExecuteTime": {
     "start_time": "2023-04-14T04:23:45.615860Z",
     "end_time": "2023-04-14T04:23:45.950761Z"
    }
   }
  },
  {
   "cell_type": "code",
   "execution_count": 79,
   "outputs": [
    {
     "data": {
      "text/plain": "['Anand', 1, 'Puru', 2, [1, 2, 3], 3]"
     },
     "execution_count": 79,
     "metadata": {},
     "output_type": "execute_result"
    }
   ],
   "source": [
    "l1"
   ],
   "metadata": {
    "collapsed": false,
    "ExecuteTime": {
     "start_time": "2023-04-14T04:23:48.541050Z",
     "end_time": "2023-04-14T04:23:48.796056Z"
    }
   }
  },
  {
   "cell_type": "code",
   "execution_count": 80,
   "outputs": [],
   "source": [
    "l1.insert(-1, 16)"
   ],
   "metadata": {
    "collapsed": false,
    "ExecuteTime": {
     "start_time": "2023-04-14T04:24:15.545835Z",
     "end_time": "2023-04-14T04:24:15.845880Z"
    }
   }
  },
  {
   "cell_type": "code",
   "execution_count": 81,
   "outputs": [
    {
     "data": {
      "text/plain": "['Anand', 1, 'Puru', 2, [1, 2, 3], 16, 3]"
     },
     "execution_count": 81,
     "metadata": {},
     "output_type": "execute_result"
    }
   ],
   "source": [
    "l1"
   ],
   "metadata": {
    "collapsed": false,
    "ExecuteTime": {
     "start_time": "2023-04-14T04:24:18.080966Z",
     "end_time": "2023-04-14T04:24:18.342020Z"
    }
   }
  },
  {
   "cell_type": "code",
   "execution_count": 82,
   "outputs": [],
   "source": [
    "l1.insert(0, 16)"
   ],
   "metadata": {
    "collapsed": false,
    "ExecuteTime": {
     "start_time": "2023-04-14T04:27:08.383107Z",
     "end_time": "2023-04-14T04:27:08.661013Z"
    }
   }
  },
  {
   "cell_type": "code",
   "execution_count": 83,
   "outputs": [
    {
     "data": {
      "text/plain": "[16, 'Anand', 1, 'Puru', 2, [1, 2, 3], 16, 3]"
     },
     "execution_count": 83,
     "metadata": {},
     "output_type": "execute_result"
    }
   ],
   "source": [
    "l1"
   ],
   "metadata": {
    "collapsed": false,
    "ExecuteTime": {
     "start_time": "2023-04-14T04:27:09.916128Z",
     "end_time": "2023-04-14T04:27:10.082102Z"
    }
   }
  },
  {
   "cell_type": "code",
   "execution_count": 85,
   "outputs": [
    {
     "data": {
      "text/plain": "16"
     },
     "execution_count": 85,
     "metadata": {},
     "output_type": "execute_result"
    }
   ],
   "source": [
    "l1.pop()"
   ],
   "metadata": {
    "collapsed": false,
    "ExecuteTime": {
     "start_time": "2023-04-14T04:47:11.004730Z",
     "end_time": "2023-04-14T04:47:11.051594Z"
    }
   }
  },
  {
   "cell_type": "code",
   "execution_count": 86,
   "outputs": [
    {
     "data": {
      "text/plain": "'Puru'"
     },
     "execution_count": 86,
     "metadata": {},
     "output_type": "execute_result"
    }
   ],
   "source": [
    "l1.pop(3)"
   ],
   "metadata": {
    "collapsed": false,
    "ExecuteTime": {
     "start_time": "2023-04-14T04:47:27.511214Z",
     "end_time": "2023-04-14T04:47:27.745589Z"
    }
   }
  },
  {
   "cell_type": "code",
   "execution_count": 87,
   "outputs": [
    {
     "data": {
      "text/plain": "[16, 'Anand', 1, 2, [1, 2, 3]]"
     },
     "execution_count": 87,
     "metadata": {},
     "output_type": "execute_result"
    }
   ],
   "source": [
    "l1"
   ],
   "metadata": {
    "collapsed": false,
    "ExecuteTime": {
     "start_time": "2023-04-14T04:48:14.840647Z",
     "end_time": "2023-04-14T04:48:15.043830Z"
    }
   }
  },
  {
   "cell_type": "code",
   "execution_count": 88,
   "outputs": [
    {
     "data": {
      "text/plain": "[1, 2, 3]"
     },
     "execution_count": 88,
     "metadata": {},
     "output_type": "execute_result"
    }
   ],
   "source": [
    "l1.pop(4)"
   ],
   "metadata": {
    "collapsed": false,
    "ExecuteTime": {
     "start_time": "2023-04-14T04:49:04.087497Z",
     "end_time": "2023-04-14T04:49:04.343326Z"
    }
   }
  },
  {
   "cell_type": "code",
   "execution_count": 89,
   "outputs": [
    {
     "data": {
      "text/plain": "[16, 'Anand', 1, 2]"
     },
     "execution_count": 89,
     "metadata": {},
     "output_type": "execute_result"
    }
   ],
   "source": [
    "l1"
   ],
   "metadata": {
    "collapsed": false,
    "ExecuteTime": {
     "start_time": "2023-04-14T04:49:08.367663Z",
     "end_time": "2023-04-14T04:49:08.630070Z"
    }
   }
  },
  {
   "cell_type": "code",
   "execution_count": 90,
   "outputs": [],
   "source": [
    "l1.insert(2, \"Purushottam\")"
   ],
   "metadata": {
    "collapsed": false,
    "ExecuteTime": {
     "start_time": "2023-04-14T04:49:49.648978Z",
     "end_time": "2023-04-14T04:49:49.984380Z"
    }
   }
  },
  {
   "cell_type": "code",
   "execution_count": 91,
   "outputs": [
    {
     "data": {
      "text/plain": "['*', '**', '***', '****', '*****']"
     },
     "execution_count": 91,
     "metadata": {},
     "output_type": "execute_result"
    }
   ],
   "source": [
    "l2"
   ],
   "metadata": {
    "collapsed": false,
    "ExecuteTime": {
     "start_time": "2023-04-14T04:49:53.844090Z",
     "end_time": "2023-04-14T04:49:54.087337Z"
    }
   }
  },
  {
   "cell_type": "code",
   "execution_count": 92,
   "outputs": [
    {
     "data": {
      "text/plain": "[16, 'Anand', 'Purushottam', 1, 2]"
     },
     "execution_count": 92,
     "metadata": {},
     "output_type": "execute_result"
    }
   ],
   "source": [
    "l1"
   ],
   "metadata": {
    "collapsed": false,
    "ExecuteTime": {
     "start_time": "2023-04-14T04:49:59.472318Z",
     "end_time": "2023-04-14T04:49:59.652497Z"
    }
   }
  },
  {
   "cell_type": "code",
   "execution_count": 93,
   "outputs": [],
   "source": [
    "l1.remove(2)"
   ],
   "metadata": {
    "collapsed": false,
    "ExecuteTime": {
     "start_time": "2023-04-14T04:53:19.249919Z",
     "end_time": "2023-04-14T04:53:19.537394Z"
    }
   }
  },
  {
   "cell_type": "code",
   "execution_count": 94,
   "outputs": [
    {
     "data": {
      "text/plain": "[16, 'Anand', 'Purushottam', 1]"
     },
     "execution_count": 94,
     "metadata": {},
     "output_type": "execute_result"
    }
   ],
   "source": [
    "l1"
   ],
   "metadata": {
    "collapsed": false,
    "ExecuteTime": {
     "start_time": "2023-04-14T04:53:32.652409Z",
     "end_time": "2023-04-14T04:53:32.972729Z"
    }
   }
  },
  {
   "cell_type": "code",
   "execution_count": 95,
   "outputs": [],
   "source": [
    "l1.append([1,2,3])"
   ],
   "metadata": {
    "collapsed": false,
    "ExecuteTime": {
     "start_time": "2023-04-14T04:56:37.938911Z",
     "end_time": "2023-04-14T04:56:38.188910Z"
    }
   }
  },
  {
   "cell_type": "code",
   "execution_count": 96,
   "outputs": [
    {
     "data": {
      "text/plain": "[16, 'Anand', 'Purushottam', 1, [1, 2, 3]]"
     },
     "execution_count": 96,
     "metadata": {},
     "output_type": "execute_result"
    }
   ],
   "source": [
    "l1"
   ],
   "metadata": {
    "collapsed": false,
    "ExecuteTime": {
     "start_time": "2023-04-14T04:56:40.753743Z",
     "end_time": "2023-04-14T04:56:40.972487Z"
    }
   }
  },
  {
   "cell_type": "code",
   "execution_count": 97,
   "outputs": [
    {
     "data": {
      "text/plain": "[1, 2, 3]"
     },
     "execution_count": 97,
     "metadata": {},
     "output_type": "execute_result"
    }
   ],
   "source": [
    "l1[4]"
   ],
   "metadata": {
    "collapsed": false,
    "ExecuteTime": {
     "start_time": "2023-04-14T04:56:52.639068Z",
     "end_time": "2023-04-14T04:56:52.889062Z"
    }
   }
  },
  {
   "cell_type": "code",
   "execution_count": 98,
   "outputs": [],
   "source": [
    "l1[4].remove(2)"
   ],
   "metadata": {
    "collapsed": false,
    "ExecuteTime": {
     "start_time": "2023-04-14T04:57:16.832053Z",
     "end_time": "2023-04-14T04:57:16.972689Z"
    }
   }
  },
  {
   "cell_type": "code",
   "execution_count": 99,
   "outputs": [
    {
     "data": {
      "text/plain": "[16, 'Anand', 'Purushottam', 1, [1, 3]]"
     },
     "execution_count": 99,
     "metadata": {},
     "output_type": "execute_result"
    }
   ],
   "source": [
    "l1"
   ],
   "metadata": {
    "collapsed": false,
    "ExecuteTime": {
     "start_time": "2023-04-14T04:57:19.792068Z",
     "end_time": "2023-04-14T04:57:19.932743Z"
    }
   }
  },
  {
   "cell_type": "code",
   "execution_count": 100,
   "outputs": [
    {
     "data": {
      "text/plain": "16"
     },
     "execution_count": 100,
     "metadata": {},
     "output_type": "execute_result"
    }
   ],
   "source": [
    "l1[0]"
   ],
   "metadata": {
    "collapsed": false,
    "ExecuteTime": {
     "start_time": "2023-04-14T04:58:27.622791Z",
     "end_time": "2023-04-14T04:58:27.832656Z"
    }
   }
  },
  {
   "cell_type": "code",
   "execution_count": 101,
   "outputs": [
    {
     "data": {
      "text/plain": "'Anand'"
     },
     "execution_count": 101,
     "metadata": {},
     "output_type": "execute_result"
    }
   ],
   "source": [
    "l1[1]"
   ],
   "metadata": {
    "collapsed": false,
    "ExecuteTime": {
     "start_time": "2023-04-14T04:58:33.922741Z",
     "end_time": "2023-04-14T04:58:34.057817Z"
    }
   }
  },
  {
   "cell_type": "code",
   "execution_count": 103,
   "outputs": [],
   "source": [
    "#AttributeError: 'str' object has no attribute 'remove'\n",
    "\n",
    "# l1[1].remove(nd)"
   ],
   "metadata": {
    "collapsed": false,
    "ExecuteTime": {
     "start_time": "2023-04-14T05:00:02.882659Z",
     "end_time": "2023-04-14T05:00:03.050257Z"
    }
   }
  },
  {
   "cell_type": "code",
   "execution_count": 104,
   "outputs": [
    {
     "data": {
      "text/plain": "[16, 'Anand', 'Purushottam', 1, [1, 3]]"
     },
     "execution_count": 104,
     "metadata": {},
     "output_type": "execute_result"
    }
   ],
   "source": [
    "l1"
   ],
   "metadata": {
    "collapsed": false,
    "ExecuteTime": {
     "start_time": "2023-04-14T05:00:18.137839Z",
     "end_time": "2023-04-14T05:00:18.308518Z"
    }
   }
  },
  {
   "cell_type": "code",
   "execution_count": 105,
   "outputs": [],
   "source": [
    "l1.insert(4, 2)"
   ],
   "metadata": {
    "collapsed": false,
    "ExecuteTime": {
     "start_time": "2023-04-14T05:00:36.512741Z",
     "end_time": "2023-04-14T05:00:36.817744Z"
    }
   }
  },
  {
   "cell_type": "code",
   "execution_count": 106,
   "outputs": [
    {
     "data": {
      "text/plain": "[16, 'Anand', 'Purushottam', 1, 2, [1, 3]]"
     },
     "execution_count": 106,
     "metadata": {},
     "output_type": "execute_result"
    }
   ],
   "source": [
    "l1"
   ],
   "metadata": {
    "collapsed": false,
    "ExecuteTime": {
     "start_time": "2023-04-14T05:00:39.317734Z",
     "end_time": "2023-04-14T05:00:39.602910Z"
    }
   }
  },
  {
   "cell_type": "code",
   "execution_count": 109,
   "outputs": [
    {
     "data": {
      "text/plain": "[[1, 3], 2, 1, 'Purushottam', 'Anand', 16]"
     },
     "execution_count": 109,
     "metadata": {},
     "output_type": "execute_result"
    }
   ],
   "source": [
    "l1[::-1]\n",
    "# Reverse the List - TEMPORARY"
   ],
   "metadata": {
    "collapsed": false,
    "ExecuteTime": {
     "start_time": "2023-04-14T05:03:29.971117Z",
     "end_time": "2023-04-14T05:03:30.010125Z"
    }
   }
  },
  {
   "cell_type": "code",
   "execution_count": 110,
   "outputs": [
    {
     "data": {
      "text/plain": "[16, 'Anand', 'Purushottam', 1, 2, [1, 3]]"
     },
     "execution_count": 110,
     "metadata": {},
     "output_type": "execute_result"
    }
   ],
   "source": [
    "l1"
   ],
   "metadata": {
    "collapsed": false,
    "ExecuteTime": {
     "start_time": "2023-04-14T05:03:46.193343Z",
     "end_time": "2023-04-14T05:03:46.362329Z"
    }
   }
  },
  {
   "cell_type": "code",
   "execution_count": 113,
   "outputs": [],
   "source": [
    "l1.reverse()\n",
    "# Reverse the List - PERMANENT"
   ],
   "metadata": {
    "collapsed": false,
    "ExecuteTime": {
     "start_time": "2023-04-14T05:04:16.791333Z",
     "end_time": "2023-04-14T05:04:16.859326Z"
    }
   }
  },
  {
   "cell_type": "code",
   "execution_count": 112,
   "outputs": [
    {
     "data": {
      "text/plain": "[[1, 3], 2, 1, 'Purushottam', 'Anand', 16]"
     },
     "execution_count": 112,
     "metadata": {},
     "output_type": "execute_result"
    }
   ],
   "source": [
    "l1"
   ],
   "metadata": {
    "collapsed": false,
    "ExecuteTime": {
     "start_time": "2023-04-14T05:03:53.249335Z",
     "end_time": "2023-04-14T05:03:53.483323Z"
    }
   }
  },
  {
   "cell_type": "code",
   "execution_count": 114,
   "outputs": [
    {
     "data": {
      "text/plain": "[[1, 3], 2, 1, 'Purushottam', 'Anand', 16]"
     },
     "execution_count": 114,
     "metadata": {},
     "output_type": "execute_result"
    }
   ],
   "source": [
    "l1[::-1]"
   ],
   "metadata": {
    "collapsed": false,
    "ExecuteTime": {
     "start_time": "2023-04-14T05:04:31.013330Z",
     "end_time": "2023-04-14T05:04:31.201324Z"
    }
   }
  },
  {
   "cell_type": "code",
   "execution_count": 115,
   "outputs": [
    {
     "data": {
      "text/plain": "[16, 'Anand', 'Purushottam', 1, 2, [1, 3]]"
     },
     "execution_count": 115,
     "metadata": {},
     "output_type": "execute_result"
    }
   ],
   "source": [
    "l1"
   ],
   "metadata": {
    "collapsed": false,
    "ExecuteTime": {
     "start_time": "2023-04-14T05:05:00.482331Z",
     "end_time": "2023-04-14T05:05:00.734325Z"
    }
   }
  },
  {
   "cell_type": "code",
   "execution_count": 116,
   "outputs": [
    {
     "data": {
      "text/plain": "[16, 'Anand', 'Purushottam', 1, 2, [1, 3]]"
     },
     "execution_count": 116,
     "metadata": {},
     "output_type": "execute_result"
    }
   ],
   "source": [
    "l1"
   ],
   "metadata": {
    "collapsed": false,
    "ExecuteTime": {
     "start_time": "2023-04-14T05:05:17.942332Z",
     "end_time": "2023-04-14T05:05:18.122326Z"
    }
   }
  },
  {
   "cell_type": "code",
   "execution_count": 117,
   "outputs": [],
   "source": [
    "l1.reverse()"
   ],
   "metadata": {
    "collapsed": false,
    "ExecuteTime": {
     "start_time": "2023-04-14T05:05:26.348333Z",
     "end_time": "2023-04-14T05:05:26.490324Z"
    }
   }
  },
  {
   "cell_type": "code",
   "execution_count": 118,
   "outputs": [
    {
     "data": {
      "text/plain": "[[1, 3], 2, 1, 'Purushottam', 'Anand', 16]"
     },
     "execution_count": 118,
     "metadata": {},
     "output_type": "execute_result"
    }
   ],
   "source": [
    "l1"
   ],
   "metadata": {
    "collapsed": false,
    "ExecuteTime": {
     "start_time": "2023-04-14T05:05:28.959329Z",
     "end_time": "2023-04-14T05:05:29.148334Z"
    }
   }
  },
  {
   "cell_type": "code",
   "execution_count": 119,
   "outputs": [
    {
     "data": {
      "text/plain": "[[1, 3], 2, 1, 'Purushottam', 'Anand', 16]"
     },
     "execution_count": 119,
     "metadata": {},
     "output_type": "execute_result"
    }
   ],
   "source": [
    "l1"
   ],
   "metadata": {
    "collapsed": false,
    "ExecuteTime": {
     "start_time": "2023-04-14T05:05:41.010849Z",
     "end_time": "2023-04-14T05:05:41.223845Z"
    }
   }
  },
  {
   "cell_type": "code",
   "execution_count": 124,
   "outputs": [],
   "source": [
    "l1 = l1[::-1]\n",
    "# Reverse the List - PERMANENT"
   ],
   "metadata": {
    "collapsed": false,
    "ExecuteTime": {
     "start_time": "2023-04-14T05:06:52.926854Z",
     "end_time": "2023-04-14T05:06:52.979849Z"
    }
   }
  },
  {
   "cell_type": "code",
   "execution_count": 125,
   "outputs": [
    {
     "data": {
      "text/plain": "[[1, 3], 2, 1, 'Purushottam', 'Anand', 16]"
     },
     "execution_count": 125,
     "metadata": {},
     "output_type": "execute_result"
    }
   ],
   "source": [
    "l1"
   ],
   "metadata": {
    "collapsed": false,
    "ExecuteTime": {
     "start_time": "2023-04-14T05:06:55.470849Z",
     "end_time": "2023-04-14T05:06:55.599854Z"
    }
   }
  },
  {
   "cell_type": "code",
   "execution_count": 132,
   "outputs": [],
   "source": [
    "l2 = [5,4,6,9,8,2,3,1,7,16,12,456,86554,1321654,50,661]"
   ],
   "metadata": {
    "collapsed": false,
    "ExecuteTime": {
     "start_time": "2023-04-14T05:10:44.881781Z",
     "end_time": "2023-04-14T05:10:44.948622Z"
    }
   }
  },
  {
   "cell_type": "code",
   "execution_count": 133,
   "outputs": [],
   "source": [
    "l2.sort()"
   ],
   "metadata": {
    "collapsed": false,
    "ExecuteTime": {
     "start_time": "2023-04-14T05:10:50.832127Z",
     "end_time": "2023-04-14T05:10:50.906937Z"
    }
   }
  },
  {
   "cell_type": "code",
   "execution_count": 134,
   "outputs": [
    {
     "data": {
      "text/plain": "[1, 2, 3, 4, 5, 6, 7, 8, 9, 12, 16, 50, 456, 661, 86554, 1321654]"
     },
     "execution_count": 134,
     "metadata": {},
     "output_type": "execute_result"
    }
   ],
   "source": [
    "l2"
   ],
   "metadata": {
    "collapsed": false,
    "ExecuteTime": {
     "start_time": "2023-04-14T05:10:51.652186Z",
     "end_time": "2023-04-14T05:10:51.886947Z"
    }
   }
  },
  {
   "cell_type": "code",
   "execution_count": 135,
   "outputs": [],
   "source": [
    "l2.append(16)"
   ],
   "metadata": {
    "collapsed": false,
    "ExecuteTime": {
     "start_time": "2023-04-14T05:10:58.551125Z",
     "end_time": "2023-04-14T05:10:58.615160Z"
    }
   }
  },
  {
   "cell_type": "code",
   "execution_count": 136,
   "outputs": [
    {
     "data": {
      "text/plain": "[1, 2, 3, 4, 5, 6, 7, 8, 9, 12, 16, 50, 456, 661, 86554, 1321654, 16]"
     },
     "execution_count": 136,
     "metadata": {},
     "output_type": "execute_result"
    }
   ],
   "source": [
    "l2"
   ],
   "metadata": {
    "collapsed": false,
    "ExecuteTime": {
     "start_time": "2023-04-14T05:10:59.252178Z",
     "end_time": "2023-04-14T05:10:59.336919Z"
    }
   }
  },
  {
   "cell_type": "code",
   "execution_count": 137,
   "outputs": [],
   "source": [
    "l2.sort()"
   ],
   "metadata": {
    "collapsed": false,
    "ExecuteTime": {
     "start_time": "2023-04-14T05:11:09.307865Z",
     "end_time": "2023-04-14T05:11:09.397177Z"
    }
   }
  },
  {
   "cell_type": "code",
   "execution_count": 138,
   "outputs": [
    {
     "data": {
      "text/plain": "[1, 2, 3, 4, 5, 6, 7, 8, 9, 12, 16, 16, 50, 456, 661, 86554, 1321654]"
     },
     "execution_count": 138,
     "metadata": {},
     "output_type": "execute_result"
    }
   ],
   "source": [
    "l2"
   ],
   "metadata": {
    "collapsed": false,
    "ExecuteTime": {
     "start_time": "2023-04-14T05:11:11.686994Z",
     "end_time": "2023-04-14T05:11:11.832167Z"
    }
   }
  },
  {
   "cell_type": "code",
   "execution_count": 139,
   "outputs": [
    {
     "data": {
      "text/plain": "[[1, 3], 2, 1, 'Purushottam', 'Anand', 16]"
     },
     "execution_count": 139,
     "metadata": {},
     "output_type": "execute_result"
    }
   ],
   "source": [
    "l1"
   ],
   "metadata": {
    "collapsed": false,
    "ExecuteTime": {
     "start_time": "2023-04-14T05:11:33.507087Z",
     "end_time": "2023-04-14T05:11:33.783459Z"
    }
   }
  },
  {
   "cell_type": "code",
   "execution_count": 141,
   "outputs": [],
   "source": [
    "# l1.sort()\n",
    "\n",
    "# TypeError: '<' not supported between instances of 'int' and 'list'"
   ],
   "metadata": {
    "collapsed": false,
    "ExecuteTime": {
     "start_time": "2023-04-14T05:12:15.511917Z",
     "end_time": "2023-04-14T05:12:15.590699Z"
    }
   }
  },
  {
   "cell_type": "code",
   "execution_count": 148,
   "outputs": [],
   "source": [
    "l3 = ['a', 'g', 'f', 'b', 'd', 'z']"
   ],
   "metadata": {
    "collapsed": false,
    "ExecuteTime": {
     "start_time": "2023-04-14T05:16:04.889170Z",
     "end_time": "2023-04-14T05:16:05.029802Z"
    }
   }
  },
  {
   "cell_type": "code",
   "execution_count": 149,
   "outputs": [],
   "source": [
    "l3.sort()"
   ],
   "metadata": {
    "collapsed": false,
    "ExecuteTime": {
     "start_time": "2023-04-14T05:16:05.688206Z",
     "end_time": "2023-04-14T05:16:05.781951Z"
    }
   }
  },
  {
   "cell_type": "code",
   "execution_count": 150,
   "outputs": [
    {
     "data": {
      "text/plain": "['a', 'b', 'd', 'f', 'g', 'z']"
     },
     "execution_count": 150,
     "metadata": {},
     "output_type": "execute_result"
    }
   ],
   "source": [
    "l3"
   ],
   "metadata": {
    "collapsed": false,
    "ExecuteTime": {
     "start_time": "2023-04-14T05:16:06.263139Z",
     "end_time": "2023-04-14T05:16:06.341261Z"
    }
   }
  },
  {
   "cell_type": "code",
   "execution_count": 152,
   "outputs": [],
   "source": [
    "l4 = ['Anand', 'Puru', \"Data\", 'Science', 'PWSKILLS']"
   ],
   "metadata": {
    "collapsed": false,
    "ExecuteTime": {
     "start_time": "2023-04-14T05:16:12.280860Z",
     "end_time": "2023-04-14T05:16:12.358987Z"
    }
   }
  },
  {
   "cell_type": "code",
   "execution_count": 160,
   "outputs": [
    {
     "name": "stdout",
     "output_type": "stream",
     "text": [
      "['Anand', 'Data', 'PWSKILLS', 'Puru', 'Science']\n"
     ]
    }
   ],
   "source": [
    "# Sort in Ascending Order\n",
    "\n",
    "l4.sort()\n",
    "print(l4)"
   ],
   "metadata": {
    "collapsed": false,
    "ExecuteTime": {
     "start_time": "2023-04-14T05:19:34.922422Z",
     "end_time": "2023-04-14T05:19:35.049438Z"
    }
   }
  },
  {
   "cell_type": "code",
   "execution_count": 158,
   "outputs": [],
   "source": [
    "l3.sort(reverse=True)\n",
    "\n",
    "# Sort in Descending Order"
   ],
   "metadata": {
    "collapsed": false,
    "ExecuteTime": {
     "start_time": "2023-04-14T05:19:03.353458Z",
     "end_time": "2023-04-14T05:19:03.427973Z"
    }
   }
  },
  {
   "cell_type": "code",
   "execution_count": 159,
   "outputs": [
    {
     "data": {
      "text/plain": "['z', 'g', 'f', 'd', 'b', 'a']"
     },
     "execution_count": 159,
     "metadata": {},
     "output_type": "execute_result"
    }
   ],
   "source": [
    "l3"
   ],
   "metadata": {
    "collapsed": false,
    "ExecuteTime": {
     "start_time": "2023-04-14T05:19:04.418158Z",
     "end_time": "2023-04-14T05:19:04.551933Z"
    }
   }
  },
  {
   "cell_type": "code",
   "execution_count": 162,
   "outputs": [
    {
     "data": {
      "text/plain": "3"
     },
     "execution_count": 162,
     "metadata": {},
     "output_type": "execute_result"
    }
   ],
   "source": [
    "l3.index('d')"
   ],
   "metadata": {
    "collapsed": false,
    "ExecuteTime": {
     "start_time": "2023-04-14T05:20:14.378039Z",
     "end_time": "2023-04-14T05:20:14.663066Z"
    }
   }
  },
  {
   "cell_type": "code",
   "execution_count": 163,
   "outputs": [
    {
     "data": {
      "text/plain": "1"
     },
     "execution_count": 163,
     "metadata": {},
     "output_type": "execute_result"
    }
   ],
   "source": [
    "l3.count('d')"
   ],
   "metadata": {
    "collapsed": false,
    "ExecuteTime": {
     "start_time": "2023-04-14T05:20:43.438115Z",
     "end_time": "2023-04-14T05:20:43.803036Z"
    }
   }
  },
  {
   "cell_type": "code",
   "execution_count": 164,
   "outputs": [],
   "source": [
    "l3.insert(0, 'd')"
   ],
   "metadata": {
    "collapsed": false,
    "ExecuteTime": {
     "start_time": "2023-04-14T05:21:16.168170Z",
     "end_time": "2023-04-14T05:21:16.518357Z"
    }
   }
  },
  {
   "cell_type": "code",
   "execution_count": 165,
   "outputs": [
    {
     "data": {
      "text/plain": "['d', 'z', 'g', 'f', 'd', 'b', 'a']"
     },
     "execution_count": 165,
     "metadata": {},
     "output_type": "execute_result"
    }
   ],
   "source": [
    "l3"
   ],
   "metadata": {
    "collapsed": false,
    "ExecuteTime": {
     "start_time": "2023-04-14T05:21:19.068045Z",
     "end_time": "2023-04-14T05:21:19.413496Z"
    }
   }
  },
  {
   "cell_type": "code",
   "execution_count": 166,
   "outputs": [],
   "source": [
    "l3.sort()"
   ],
   "metadata": {
    "collapsed": false,
    "ExecuteTime": {
     "start_time": "2023-04-14T05:21:25.038001Z",
     "end_time": "2023-04-14T05:21:25.318308Z"
    }
   }
  },
  {
   "cell_type": "code",
   "execution_count": 167,
   "outputs": [
    {
     "data": {
      "text/plain": "['a', 'b', 'd', 'd', 'f', 'g', 'z']"
     },
     "execution_count": 167,
     "metadata": {},
     "output_type": "execute_result"
    }
   ],
   "source": [
    "l3"
   ],
   "metadata": {
    "collapsed": false,
    "ExecuteTime": {
     "start_time": "2023-04-14T05:21:26.908275Z",
     "end_time": "2023-04-14T05:21:27.187419Z"
    }
   }
  },
  {
   "cell_type": "code",
   "execution_count": 168,
   "outputs": [
    {
     "data": {
      "text/plain": "2"
     },
     "execution_count": 168,
     "metadata": {},
     "output_type": "execute_result"
    }
   ],
   "source": [
    "l3.count('d')"
   ],
   "metadata": {
    "collapsed": false,
    "ExecuteTime": {
     "start_time": "2023-04-14T05:21:34.873422Z",
     "end_time": "2023-04-14T05:21:35.218481Z"
    }
   }
  },
  {
   "cell_type": "code",
   "execution_count": 169,
   "outputs": [
    {
     "data": {
      "text/plain": "2"
     },
     "execution_count": 169,
     "metadata": {},
     "output_type": "execute_result"
    }
   ],
   "source": [
    "l3.index('d')"
   ],
   "metadata": {
    "collapsed": false,
    "ExecuteTime": {
     "start_time": "2023-04-14T05:21:46.533027Z",
     "end_time": "2023-04-14T05:21:46.748471Z"
    }
   }
  },
  {
   "cell_type": "code",
   "execution_count": 170,
   "outputs": [
    {
     "data": {
      "text/plain": "2"
     },
     "execution_count": 170,
     "metadata": {},
     "output_type": "execute_result"
    }
   ],
   "source": [
    "l3.index('d')"
   ],
   "metadata": {
    "collapsed": false,
    "ExecuteTime": {
     "start_time": "2023-04-14T05:22:00.943285Z",
     "end_time": "2023-04-14T05:22:01.222357Z"
    }
   }
  },
  {
   "cell_type": "code",
   "execution_count": 171,
   "outputs": [
    {
     "name": "stdout",
     "output_type": "stream",
     "text": [
      "Anand\n"
     ]
    }
   ],
   "source": [
    "s = \"Anand\"\n",
    "print(s)"
   ],
   "metadata": {
    "collapsed": false,
    "ExecuteTime": {
     "start_time": "2023-04-14T05:23:08.209697Z",
     "end_time": "2023-04-14T05:23:08.428503Z"
    }
   }
  },
  {
   "cell_type": "code",
   "execution_count": 172,
   "outputs": [
    {
     "data": {
      "text/plain": "'A'"
     },
     "execution_count": 172,
     "metadata": {},
     "output_type": "execute_result"
    }
   ],
   "source": [
    "s[0]"
   ],
   "metadata": {
    "collapsed": false,
    "ExecuteTime": {
     "start_time": "2023-04-14T05:23:34.386425Z",
     "end_time": "2023-04-14T05:23:34.480684Z"
    }
   }
  },
  {
   "cell_type": "code",
   "execution_count": 186,
   "outputs": [],
   "source": [
    "# s[0] = 'P'\n",
    "\n",
    "# TypeError: 'str' object does not support item assignment\n",
    "# String is  Immutable\n",
    "# Lists are Mutable"
   ],
   "metadata": {
    "collapsed": false,
    "ExecuteTime": {
     "start_time": "2023-04-14T05:30:01.414573Z",
     "end_time": "2023-04-14T05:30:01.689580Z"
    }
   }
  },
  {
   "cell_type": "markdown",
   "source": [
    "Mutable are those whose value can be changed by accessing there \"Index\"\n",
    "Here, value of String at 0th index can not be changed. So Strings are Im-mutable.\n",
    "We use \"replace()\" function to change value of any index in a string. It is called \"assignment\".\n",
    "But value of list at 0th Index can be changed. So, lists are Mutable"
   ],
   "metadata": {
    "collapsed": false
   }
  },
  {
   "cell_type": "code",
   "execution_count": 179,
   "outputs": [],
   "source": [
    "l4 = [1,2,32,56,4,5,6,25]"
   ],
   "metadata": {
    "collapsed": false,
    "ExecuteTime": {
     "start_time": "2023-04-14T05:29:02.654507Z",
     "end_time": "2023-04-14T05:29:02.754325Z"
    }
   }
  },
  {
   "cell_type": "code",
   "execution_count": 180,
   "outputs": [
    {
     "data": {
      "text/plain": "[1, 2, 32, 56, 4, 5, 6, 25]"
     },
     "execution_count": 180,
     "metadata": {},
     "output_type": "execute_result"
    }
   ],
   "source": [
    "l4"
   ],
   "metadata": {
    "collapsed": false,
    "ExecuteTime": {
     "start_time": "2023-04-14T05:29:05.998354Z",
     "end_time": "2023-04-14T05:29:06.208180Z"
    }
   }
  },
  {
   "cell_type": "code",
   "execution_count": 181,
   "outputs": [],
   "source": [
    "l4.sort()"
   ],
   "metadata": {
    "collapsed": false,
    "ExecuteTime": {
     "start_time": "2023-04-14T05:29:12.039253Z",
     "end_time": "2023-04-14T05:29:12.186707Z"
    }
   }
  },
  {
   "cell_type": "code",
   "execution_count": 182,
   "outputs": [
    {
     "data": {
      "text/plain": "[1, 2, 4, 5, 6, 25, 32, 56]"
     },
     "execution_count": 182,
     "metadata": {},
     "output_type": "execute_result"
    }
   ],
   "source": [
    "l4"
   ],
   "metadata": {
    "collapsed": false,
    "ExecuteTime": {
     "start_time": "2023-04-14T05:29:15.194191Z",
     "end_time": "2023-04-14T05:29:15.470132Z"
    }
   }
  },
  {
   "cell_type": "code",
   "execution_count": 185,
   "outputs": [],
   "source": [
    "l4[0] = 10\n",
    "\n",
    "# Lists are Mutable"
   ],
   "metadata": {
    "collapsed": false,
    "ExecuteTime": {
     "start_time": "2023-04-14T05:29:47.989564Z",
     "end_time": "2023-04-14T05:29:48.110630Z"
    }
   }
  },
  {
   "cell_type": "code",
   "execution_count": 184,
   "outputs": [
    {
     "data": {
      "text/plain": "[10, 2, 4, 5, 6, 25, 32, 56]"
     },
     "execution_count": 184,
     "metadata": {},
     "output_type": "execute_result"
    }
   ],
   "source": [
    "l4"
   ],
   "metadata": {
    "collapsed": false,
    "ExecuteTime": {
     "start_time": "2023-04-14T05:29:34.874655Z",
     "end_time": "2023-04-14T05:29:35.063655Z"
    }
   }
  },
  {
   "cell_type": "code",
   "execution_count": 187,
   "outputs": [
    {
     "data": {
      "text/plain": "'Anand'"
     },
     "execution_count": 187,
     "metadata": {},
     "output_type": "execute_result"
    }
   ],
   "source": [
    "s"
   ],
   "metadata": {
    "collapsed": false,
    "ExecuteTime": {
     "start_time": "2023-04-14T05:30:29.088716Z",
     "end_time": "2023-04-14T05:30:29.294690Z"
    }
   }
  },
  {
   "cell_type": "code",
   "execution_count": 188,
   "outputs": [
    {
     "data": {
      "text/plain": "'Pnand'"
     },
     "execution_count": 188,
     "metadata": {},
     "output_type": "execute_result"
    }
   ],
   "source": [
    "s.replace('A', 'P')"
   ],
   "metadata": {
    "collapsed": false,
    "ExecuteTime": {
     "start_time": "2023-04-14T05:31:15.480002Z",
     "end_time": "2023-04-14T05:31:15.730023Z"
    }
   }
  },
  {
   "cell_type": "code",
   "execution_count": 189,
   "outputs": [
    {
     "data": {
      "text/plain": "'Anand'"
     },
     "execution_count": 189,
     "metadata": {},
     "output_type": "execute_result"
    }
   ],
   "source": [
    "s"
   ],
   "metadata": {
    "collapsed": false,
    "ExecuteTime": {
     "start_time": "2023-04-14T05:35:52.703319Z",
     "end_time": "2023-04-14T05:35:52.962328Z"
    }
   }
  },
  {
   "cell_type": "code",
   "execution_count": 190,
   "outputs": [],
   "source": [
    "s = s.replace('A', 'P')"
   ],
   "metadata": {
    "collapsed": false,
    "ExecuteTime": {
     "start_time": "2023-04-14T05:36:05.469056Z",
     "end_time": "2023-04-14T05:36:05.831443Z"
    }
   }
  },
  {
   "cell_type": "code",
   "execution_count": 191,
   "outputs": [
    {
     "data": {
      "text/plain": "'Pnand'"
     },
     "execution_count": 191,
     "metadata": {},
     "output_type": "execute_result"
    }
   ],
   "source": [
    "s"
   ],
   "metadata": {
    "collapsed": false,
    "ExecuteTime": {
     "start_time": "2023-04-14T05:36:07.280361Z",
     "end_time": "2023-04-14T05:36:07.748289Z"
    }
   }
  },
  {
   "cell_type": "code",
   "execution_count": 192,
   "outputs": [],
   "source": [
    "# Tuples\n",
    "\n",
    "t = (1,2,3, 'anand', True, 4.5)"
   ],
   "metadata": {
    "collapsed": false,
    "ExecuteTime": {
     "start_time": "2023-04-14T05:50:32.462347Z",
     "end_time": "2023-04-14T05:50:32.588300Z"
    }
   }
  },
  {
   "cell_type": "markdown",
   "source": [
    "TUPLES starts from here ---->\n",
    "\n",
    "Tuples are also kinda like List.\n",
    "Just the difference of Brackets in between them.\n",
    "Tuples can also store any type of data inside it.\n",
    "\n",
    "MAJOR DIFFERENCE between LIST & TUPLE is \"MUTABILITY\"\n",
    "LISTS are Mutable\n",
    "TUPLES are not Mutable\n",
    "\n",
    "Tuples are used like when we do not want the data to be changed or modified. Like storing Passwords."
   ],
   "metadata": {
    "collapsed": false
   }
  },
  {
   "cell_type": "code",
   "execution_count": 193,
   "outputs": [
    {
     "data": {
      "text/plain": "(1, 2, 3, 'anand', True, 4.5)"
     },
     "execution_count": 193,
     "metadata": {},
     "output_type": "execute_result"
    }
   ],
   "source": [
    "t"
   ],
   "metadata": {
    "collapsed": false,
    "ExecuteTime": {
     "start_time": "2023-04-14T05:50:38.493148Z",
     "end_time": "2023-04-14T05:50:38.867821Z"
    }
   }
  },
  {
   "cell_type": "code",
   "execution_count": 194,
   "outputs": [
    {
     "data": {
      "text/plain": "tuple"
     },
     "execution_count": 194,
     "metadata": {},
     "output_type": "execute_result"
    }
   ],
   "source": [
    "type(t)"
   ],
   "metadata": {
    "collapsed": false,
    "ExecuteTime": {
     "start_time": "2023-04-14T05:50:59.690831Z",
     "end_time": "2023-04-14T05:51:00.148540Z"
    }
   }
  },
  {
   "cell_type": "code",
   "execution_count": 195,
   "outputs": [
    {
     "data": {
      "text/plain": "6"
     },
     "execution_count": 195,
     "metadata": {},
     "output_type": "execute_result"
    }
   ],
   "source": [
    "len(t)"
   ],
   "metadata": {
    "collapsed": false,
    "ExecuteTime": {
     "start_time": "2023-04-14T05:51:05.988242Z",
     "end_time": "2023-04-14T05:51:06.287943Z"
    }
   }
  },
  {
   "cell_type": "code",
   "execution_count": 196,
   "outputs": [
    {
     "data": {
      "text/plain": "1"
     },
     "execution_count": 196,
     "metadata": {},
     "output_type": "execute_result"
    }
   ],
   "source": [
    "t[0]"
   ],
   "metadata": {
    "collapsed": false,
    "ExecuteTime": {
     "start_time": "2023-04-14T05:51:29.847967Z",
     "end_time": "2023-04-14T05:51:30.277952Z"
    }
   }
  },
  {
   "cell_type": "code",
   "execution_count": 198,
   "outputs": [
    {
     "data": {
      "text/plain": "4.5"
     },
     "execution_count": 198,
     "metadata": {},
     "output_type": "execute_result"
    }
   ],
   "source": [
    "t[-1]"
   ],
   "metadata": {
    "collapsed": false,
    "ExecuteTime": {
     "start_time": "2023-04-14T05:51:52.888171Z",
     "end_time": "2023-04-14T05:51:53.120854Z"
    }
   }
  },
  {
   "cell_type": "code",
   "execution_count": 199,
   "outputs": [
    {
     "data": {
      "text/plain": "(4.5, True, 'anand', 3, 2, 1)"
     },
     "execution_count": 199,
     "metadata": {},
     "output_type": "execute_result"
    }
   ],
   "source": [
    "t[::-1]"
   ],
   "metadata": {
    "collapsed": false,
    "ExecuteTime": {
     "start_time": "2023-04-14T05:52:02.052920Z",
     "end_time": "2023-04-14T05:52:02.467827Z"
    }
   }
  },
  {
   "cell_type": "code",
   "execution_count": 200,
   "outputs": [
    {
     "data": {
      "text/plain": "(1, 2, 3, 'anand', True, 4.5)"
     },
     "execution_count": 200,
     "metadata": {},
     "output_type": "execute_result"
    }
   ],
   "source": [
    "t"
   ],
   "metadata": {
    "collapsed": false,
    "ExecuteTime": {
     "start_time": "2023-04-14T05:52:06.282811Z",
     "end_time": "2023-04-14T05:52:06.722926Z"
    }
   }
  },
  {
   "cell_type": "code",
   "execution_count": 201,
   "outputs": [
    {
     "data": {
      "text/plain": "[10, 2, 4, 5, 6, 25, 32, 56]"
     },
     "execution_count": 201,
     "metadata": {},
     "output_type": "execute_result"
    }
   ],
   "source": [
    "l4"
   ],
   "metadata": {
    "collapsed": false,
    "ExecuteTime": {
     "start_time": "2023-04-14T05:54:46.151919Z",
     "end_time": "2023-04-14T05:54:46.413115Z"
    }
   }
  },
  {
   "cell_type": "code",
   "execution_count": 203,
   "outputs": [
    {
     "name": "stdout",
     "output_type": "stream",
     "text": [
      "[1, 2, 4, 5, 6, 25, 32, 56]\n"
     ]
    }
   ],
   "source": [
    "l4[0] = 1\n",
    "print(l4)"
   ],
   "metadata": {
    "collapsed": false,
    "ExecuteTime": {
     "start_time": "2023-04-14T05:55:23.299230Z",
     "end_time": "2023-04-14T05:55:23.437228Z"
    }
   }
  },
  {
   "cell_type": "code",
   "execution_count": 204,
   "outputs": [
    {
     "data": {
      "text/plain": "(1, 2, 3, 'anand', True, 4.5)"
     },
     "execution_count": 204,
     "metadata": {},
     "output_type": "execute_result"
    }
   ],
   "source": [
    "t"
   ],
   "metadata": {
    "collapsed": false,
    "ExecuteTime": {
     "start_time": "2023-04-14T05:55:27.824238Z",
     "end_time": "2023-04-14T05:55:28.074223Z"
    }
   }
  },
  {
   "cell_type": "code",
   "execution_count": 205,
   "outputs": [
    {
     "data": {
      "text/plain": "1"
     },
     "execution_count": 205,
     "metadata": {},
     "output_type": "execute_result"
    }
   ],
   "source": [
    "t[0]"
   ],
   "metadata": {
    "collapsed": false,
    "ExecuteTime": {
     "start_time": "2023-04-14T05:55:32.113236Z",
     "end_time": "2023-04-14T05:55:32.281232Z"
    }
   }
  },
  {
   "cell_type": "code",
   "execution_count": 207,
   "outputs": [
    {
     "data": {
      "text/plain": "\" TypeError                                 Traceback (most recent call last)\\nCell In[206], line 1\\n----> 1 t[0] = 10\\n\\nTypeError: 'tuple' object does not support item assignment \""
     },
     "execution_count": 207,
     "metadata": {},
     "output_type": "execute_result"
    }
   ],
   "source": [
    "# t[0] = 10\n",
    "\n",
    "# ---------------------------------------------------------------------------\n",
    "''' TypeError                                 Traceback (most recent call last)\n",
    "Cell In[206], line 1\n",
    "----> 1 t[0] = 10\n",
    "\n",
    "TypeError: 'tuple' object does not support item assignment '''"
   ],
   "metadata": {
    "collapsed": false,
    "ExecuteTime": {
     "start_time": "2023-04-14T05:56:35.074233Z",
     "end_time": "2023-04-14T05:56:35.222223Z"
    }
   }
  },
  {
   "cell_type": "code",
   "execution_count": null,
   "outputs": [],
   "source": [],
   "metadata": {
    "collapsed": false
   }
  }
 ],
 "metadata": {
  "kernelspec": {
   "display_name": "Python 3 (ipykernel)",
   "language": "python",
   "name": "python3"
  },
  "language_info": {
   "codemirror_mode": {
    "name": "ipython",
    "version": 3
   },
   "file_extension": ".py",
   "mimetype": "text/x-python",
   "name": "python",
   "nbconvert_exporter": "python",
   "pygments_lexer": "ipython3",
   "version": "3.11.3"
  }
 },
 "nbformat": 4,
 "nbformat_minor": 5
}
