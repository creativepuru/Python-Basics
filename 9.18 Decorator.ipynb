{
 "cells": [
  {
   "cell_type": "code",
   "execution_count": 46,
   "metadata": {},
   "outputs": [],
   "source": [
    "def test():\n",
    "    print(\"This is my function to test\")"
   ]
  },
  {
   "cell_type": "code",
   "execution_count": 47,
   "metadata": {},
   "outputs": [
    {
     "name": "stdout",
     "output_type": "stream",
     "text": [
      "This is my function to test\n"
     ]
    }
   ],
   "source": [
    "test()"
   ]
  },
  {
   "cell_type": "code",
   "execution_count": 48,
   "metadata": {},
   "outputs": [],
   "source": [
    "def test():\n",
    "    print(\"This is the start of my function\")\n",
    "    print(\"This is my function to test\")\n",
    "    print(\"This is the end of my function\")"
   ]
  },
  {
   "cell_type": "code",
   "execution_count": 49,
   "metadata": {},
   "outputs": [
    {
     "name": "stdout",
     "output_type": "stream",
     "text": [
      "This is the start of my function\n",
      "This is my function to test\n",
      "This is the end of my function\n"
     ]
    }
   ],
   "source": [
    "test()"
   ]
  },
  {
   "cell_type": "code",
   "execution_count": 50,
   "metadata": {},
   "outputs": [],
   "source": [
    "def deco(func):\n",
    "    def inner_deco():\n",
    "        print(\"This is the start of my function\")\n",
    "        func()\n",
    "        print(\"This is the end of my function\")\n",
    "    return inner_deco"
   ]
  },
  {
   "cell_type": "code",
   "execution_count": 51,
   "metadata": {},
   "outputs": [],
   "source": [
    "@deco\n",
    "def test_deco():\n",
    "    print(\"'Testing deco function'\")"
   ]
  },
  {
   "cell_type": "code",
   "execution_count": 52,
   "metadata": {},
   "outputs": [
    {
     "name": "stdout",
     "output_type": "stream",
     "text": [
      "This is the start of my function\n",
      "'Testing deco function'\n",
      "This is the end of my function\n"
     ]
    }
   ],
   "source": [
    "test_deco()"
   ]
  },
  {
   "cell_type": "code",
   "execution_count": 53,
   "metadata": {},
   "outputs": [],
   "source": [
    "@deco\n",
    "def test_deco_2():\n",
    "    print(\"1 + 1 =\", 1+10)"
   ]
  },
  {
   "cell_type": "code",
   "execution_count": 54,
   "metadata": {},
   "outputs": [
    {
     "name": "stdout",
     "output_type": "stream",
     "text": [
      "This is the start of my function\n",
      "1 + 1 = 11\n",
      "This is the end of my function\n"
     ]
    }
   ],
   "source": [
    "test_deco_2()"
   ]
  },
  {
   "cell_type": "code",
   "execution_count": 55,
   "metadata": {},
   "outputs": [],
   "source": [
    "import time\n",
    "\n",
    "def timer_test(func):\n",
    "\n",
    "    def timer_test_inner():\n",
    "        start = time.time()\n",
    "        func()\n",
    "        end = time.time()\n",
    "        print(\"Time taken to execute this function:\", end - start)\n",
    "        \n",
    "    return timer_test_inner"
   ]
  },
  {
   "cell_type": "code",
   "execution_count": 56,
   "metadata": {},
   "outputs": [],
   "source": [
    "@timer_test\n",
    "\n",
    "def test_timer():\n",
    "    print(\"1 + 1 = \", 1+10)\n",
    "    name = input(\"Enter your Name: \")\n",
    "    print(name)"
   ]
  },
  {
   "cell_type": "code",
   "execution_count": 57,
   "metadata": {},
   "outputs": [
    {
     "name": "stdout",
     "output_type": "stream",
     "text": [
      "1 + 1 =  11\n",
      "Puru\n",
      "Time taken to execute this function: 3.48887300491333\n"
     ]
    }
   ],
   "source": [
    "test_timer()"
   ]
  },
  {
   "cell_type": "code",
   "execution_count": 58,
   "metadata": {},
   "outputs": [
    {
     "name": "stdout",
     "output_type": "stream",
     "text": [
      "Can not call this function directly 'timer_test()'. Throws an Error !!!\n",
      "\n",
      "---------------------------------------------------------------------------\n",
      "TypeError                                 Traceback (most recent call last)\n",
      "Cell In[39], line 1\n",
      "----> 1 timer_test()\n",
      "\n",
      "TypeError: timer_test() missing 1 required positional argument: 'func' \n"
     ]
    }
   ],
   "source": [
    "#timer_test()\n",
    "\n",
    "Error = '''Can not call this function directly 'timer_test()'. Throws an Error !!!\n",
    "\n",
    "---------------------------------------------------------------------------\n",
    "TypeError                                 Traceback (most recent call last)\n",
    "Cell In[39], line 1\n",
    "----> 1 timer_test()\n",
    "\n",
    "TypeError: timer_test() missing 1 required positional argument: 'func' '''\n",
    "\n",
    "print(Error)"
   ]
  },
  {
   "cell_type": "code",
   "execution_count": 59,
   "metadata": {},
   "outputs": [],
   "source": [
    "@timer_test\n",
    "\n",
    "def test_timer_2():\n",
    "    for i in range(100000000):\n",
    "        pass"
   ]
  },
  {
   "cell_type": "code",
   "execution_count": 60,
   "metadata": {},
   "outputs": [
    {
     "name": "stdout",
     "output_type": "stream",
     "text": [
      "Time taken to execute this function: 1.5468013286590576\n"
     ]
    }
   ],
   "source": [
    "test_timer_2()"
   ]
  },
  {
   "cell_type": "code",
   "execution_count": null,
   "metadata": {},
   "outputs": [],
   "source": []
  }
 ],
 "metadata": {
  "kernelspec": {
   "display_name": "Python 3",
   "language": "python",
   "name": "python3"
  },
  "language_info": {
   "codemirror_mode": {
    "name": "ipython",
    "version": 3
   },
   "file_extension": ".py",
   "mimetype": "text/x-python",
   "name": "python",
   "nbconvert_exporter": "python",
   "pygments_lexer": "ipython3",
   "version": "3.11.3"
  },
  "orig_nbformat": 4
 },
 "nbformat": 4,
 "nbformat_minor": 2
}
