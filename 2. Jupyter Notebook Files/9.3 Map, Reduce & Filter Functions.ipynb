{
 "cells": [
  {
   "cell_type": "code",
   "execution_count": 20,
   "metadata": {
    "ExecuteTime": {
     "start_time": "2023-04-23T22:19:56.255771Z",
     "end_time": "2023-04-23T22:19:56.597940Z"
    }
   },
   "outputs": [
    {
     "name": "stdout",
     "output_type": "stream",
     "text": [
      "This notebook file is for practice of Map, Reduce & Filter Functions\n"
     ]
    }
   ],
   "source": [
    "print(\"This notebook file is for practice of Map, Reduce & Filter Functions\")"
   ]
  },
  {
   "cell_type": "code",
   "execution_count": 38,
   "outputs": [
    {
     "name": "stdout",
     "output_type": "stream",
     "text": [
      "Check from Data-spell app\n"
     ]
    }
   ],
   "source": [
    "print(\"Check from Data-spell app\")"
   ],
   "metadata": {
    "collapsed": false,
    "ExecuteTime": {
     "start_time": "2023-04-23T22:35:48.128249Z",
     "end_time": "2023-04-23T22:35:48.188267Z"
    }
   }
  },
  {
   "cell_type": "code",
   "execution_count": 21,
   "metadata": {
    "ExecuteTime": {
     "start_time": "2023-04-23T22:19:56.303238Z",
     "end_time": "2023-04-23T22:19:56.597940Z"
    }
   },
   "outputs": [],
   "source": [
    "l = [1,2,3,4,5,6.7,7.0]"
   ]
  },
  {
   "cell_type": "code",
   "execution_count": 22,
   "metadata": {
    "ExecuteTime": {
     "start_time": "2023-04-23T22:19:56.337995Z",
     "end_time": "2023-04-23T22:19:56.597940Z"
    }
   },
   "outputs": [],
   "source": [
    "def test(l) :\n",
    "    l1 = []\n",
    "    for i in l :\n",
    "        l1.append(i**2)\n",
    "    return l1"
   ]
  },
  {
   "cell_type": "code",
   "execution_count": 23,
   "metadata": {
    "ExecuteTime": {
     "start_time": "2023-04-23T22:19:56.367808Z",
     "end_time": "2023-04-23T22:19:56.597940Z"
    }
   },
   "outputs": [],
   "source": [
    "def test(l) :\n",
    "    l1 = []\n",
    "    for i in l :\n",
    "        l1.append(i**2)\n",
    "    return l1"
   ]
  },
  {
   "cell_type": "code",
   "execution_count": 24,
   "metadata": {
    "ExecuteTime": {
     "start_time": "2023-04-23T22:19:56.422911Z",
     "end_time": "2023-04-23T22:19:56.602989Z"
    }
   },
   "outputs": [],
   "source": [
    "def test(l) :\n",
    "    l1 = []\n",
    "    for i in l :\n",
    "        l1.append(i**2)\n",
    "    return l1"
   ]
  },
  {
   "cell_type": "code",
   "execution_count": 25,
   "metadata": {
    "ExecuteTime": {
     "start_time": "2023-04-23T22:19:56.458058Z",
     "end_time": "2023-04-23T22:19:56.602989Z"
    }
   },
   "outputs": [],
   "source": [
    "def test(l) :\n",
    "    l1 = []\n",
    "    for i in l :\n",
    "        l1.append(i**2)\n",
    "    return l1"
   ]
  },
  {
   "cell_type": "code",
   "execution_count": 26,
   "metadata": {
    "ExecuteTime": {
     "start_time": "2023-04-23T22:19:56.498118Z",
     "end_time": "2023-04-23T22:19:56.602989Z"
    }
   },
   "outputs": [
    {
     "data": {
      "text/plain": "[1, 4, 9, 16, 25, 44.89, 49.0]"
     },
     "execution_count": 26,
     "metadata": {},
     "output_type": "execute_result"
    }
   ],
   "source": [
    "test(l)"
   ]
  },
  {
   "cell_type": "code",
   "execution_count": 27,
   "metadata": {
    "ExecuteTime": {
     "start_time": "2023-04-23T22:19:56.549406Z",
     "end_time": "2023-04-23T22:19:56.643939Z"
    }
   },
   "outputs": [],
   "source": [
    "def sq(x) : \n",
    "    return x**2"
   ]
  },
  {
   "cell_type": "code",
   "execution_count": 28,
   "metadata": {
    "ExecuteTime": {
     "start_time": "2023-04-23T22:19:56.610560Z",
     "end_time": "2023-04-23T22:19:56.940075Z"
    }
   },
   "outputs": [
    {
     "data": {
      "text/plain": "<map at 0x245d2b776a0>"
     },
     "execution_count": 28,
     "metadata": {},
     "output_type": "execute_result"
    }
   ],
   "source": [
    "map(sq, l)"
   ]
  },
  {
   "cell_type": "code",
   "execution_count": 29,
   "metadata": {
    "ExecuteTime": {
     "start_time": "2023-04-23T22:19:56.668029Z",
     "end_time": "2023-04-23T22:19:56.957731Z"
    }
   },
   "outputs": [
    {
     "data": {
      "text/plain": "[1, 4, 9, 16, 25, 44.89, 49.0]"
     },
     "execution_count": 29,
     "metadata": {},
     "output_type": "execute_result"
    }
   ],
   "source": [
    "list(map(sq, l))"
   ]
  },
  {
   "cell_type": "code",
   "execution_count": 30,
   "metadata": {
    "ExecuteTime": {
     "start_time": "2023-04-23T22:19:56.744188Z",
     "end_time": "2023-04-23T22:19:56.962792Z"
    }
   },
   "outputs": [
    {
     "data": {
      "text/plain": "[1, 2, 3, 4, 5, 6.7, 7.0]"
     },
     "execution_count": 30,
     "metadata": {},
     "output_type": "execute_result"
    }
   ],
   "source": [
    "l"
   ]
  },
  {
   "cell_type": "code",
   "execution_count": 31,
   "metadata": {
    "ExecuteTime": {
     "start_time": "2023-04-23T22:19:56.788030Z",
     "end_time": "2023-04-23T22:19:56.962792Z"
    }
   },
   "outputs": [
    {
     "data": {
      "text/plain": "[1, 4, 9, 16, 25, 44.89, 49.0]"
     },
     "execution_count": 31,
     "metadata": {},
     "output_type": "execute_result"
    }
   ],
   "source": [
    "list(map(sq, l))"
   ]
  },
  {
   "cell_type": "code",
   "execution_count": 32,
   "metadata": {
    "ExecuteTime": {
     "start_time": "2023-04-23T22:19:56.893125Z",
     "end_time": "2023-04-23T22:19:57.211128Z"
    }
   },
   "outputs": [],
   "source": [
    "l2 = [2,5,7,10]"
   ]
  },
  {
   "cell_type": "code",
   "execution_count": 33,
   "metadata": {
    "ExecuteTime": {
     "start_time": "2023-04-23T22:19:56.982935Z",
     "end_time": "2023-04-23T22:19:57.218143Z"
    }
   },
   "outputs": [
    {
     "data": {
      "text/plain": "[4, 25, 49, 100]"
     },
     "execution_count": 33,
     "metadata": {},
     "output_type": "execute_result"
    }
   ],
   "source": [
    "list(map(sq, l2))"
   ]
  },
  {
   "cell_type": "code",
   "execution_count": 34,
   "metadata": {
    "ExecuteTime": {
     "start_time": "2023-04-23T22:19:57.137991Z",
     "end_time": "2023-04-23T22:19:57.412786Z"
    }
   },
   "outputs": [
    {
     "data": {
      "text/plain": "[4, 25, 49, 100]"
     },
     "execution_count": 34,
     "metadata": {},
     "output_type": "execute_result"
    }
   ],
   "source": [
    "list(map(lambda x : x**2 , l2))"
   ]
  },
  {
   "cell_type": "code",
   "execution_count": 35,
   "metadata": {
    "ExecuteTime": {
     "start_time": "2023-04-23T22:19:57.312918Z",
     "end_time": "2023-04-23T22:19:57.417799Z"
    }
   },
   "outputs": [
    {
     "data": {
      "text/plain": "[1, 4, 9, 16, 25, 44.89, 49.0]"
     },
     "execution_count": 35,
     "metadata": {},
     "output_type": "execute_result"
    }
   ],
   "source": [
    "list(map(lambda x : x**2 , l))"
   ]
  },
  {
   "cell_type": "code",
   "execution_count": 36,
   "metadata": {
    "ExecuteTime": {
     "start_time": "2023-04-23T22:19:57.393098Z",
     "end_time": "2023-04-23T22:19:58.167804Z"
    }
   },
   "outputs": [],
   "source": [
    "l1 = [1,2,3,4,5]\n",
    "l2 = [6,7,8,9,10]"
   ]
  },
  {
   "cell_type": "code",
   "execution_count": 37,
   "metadata": {
    "ExecuteTime": {
     "start_time": "2023-04-23T22:19:58.172860Z",
     "end_time": "2023-04-23T22:19:58.289350Z"
    }
   },
   "outputs": [
    {
     "data": {
      "text/plain": "[7, 9, 11, 13, 15]"
     },
     "execution_count": 37,
     "metadata": {},
     "output_type": "execute_result"
    }
   ],
   "source": [
    "list(map(lambda x, y : x + y, l1, l2))"
   ]
  },
  {
   "cell_type": "code",
   "execution_count": 37,
   "metadata": {
    "ExecuteTime": {
     "start_time": "2023-04-23T22:19:58.218173Z",
     "end_time": "2023-04-23T22:19:58.318017Z"
    }
   },
   "outputs": [],
   "source": []
  }
 ],
 "metadata": {
  "kernelspec": {
   "display_name": "base",
   "language": "python",
   "name": "python3"
  },
  "language_info": {
   "codemirror_mode": {
    "name": "ipython",
    "version": 3
   },
   "file_extension": ".py",
   "mimetype": "text/x-python",
   "name": "python",
   "nbconvert_exporter": "python",
   "pygments_lexer": "ipython3",
   "version": "3.10.9"
  },
  "orig_nbformat": 4
 },
 "nbformat": 4,
 "nbformat_minor": 2
}
