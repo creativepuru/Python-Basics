{
 "cells": [
  {
   "cell_type": "code",
   "execution_count": 30,
   "metadata": {
    "ExecuteTime": {
     "start_time": "2023-04-23T23:29:30.560983Z",
     "end_time": "2023-04-23T23:29:31.234941Z"
    }
   },
   "outputs": [
    {
     "name": "stdout",
     "output_type": "stream",
     "text": [
      "This notebook file is for practice of Map, Reduce & Filter Functions\n"
     ]
    }
   ],
   "source": [
    "print(\"This notebook file is for practice of Map, Reduce & Filter Functions\")"
   ]
  },
  {
   "cell_type": "code",
   "execution_count": 31,
   "metadata": {
    "ExecuteTime": {
     "start_time": "2023-04-23T23:29:30.693728Z",
     "end_time": "2023-04-23T23:29:31.235955Z"
    }
   },
   "outputs": [],
   "source": [
    "l = [1,2,3,4,5,6.7,7.0]"
   ]
  },
  {
   "cell_type": "code",
   "execution_count": 32,
   "metadata": {
    "ExecuteTime": {
     "start_time": "2023-04-23T23:29:30.716424Z",
     "end_time": "2023-04-23T23:29:31.283728Z"
    }
   },
   "outputs": [],
   "source": [
    "def test(l) :\n",
    "    l1 = []\n",
    "    for i in l :\n",
    "        l1.append(i**2)\n",
    "    return l1"
   ]
  },
  {
   "cell_type": "code",
   "execution_count": 33,
   "metadata": {
    "ExecuteTime": {
     "start_time": "2023-04-23T23:29:30.737559Z",
     "end_time": "2023-04-23T23:29:31.285255Z"
    }
   },
   "outputs": [
    {
     "data": {
      "text/plain": "[1, 4, 9, 16, 25, 44.89, 49.0]"
     },
     "execution_count": 33,
     "metadata": {},
     "output_type": "execute_result"
    }
   ],
   "source": [
    "test(l)"
   ]
  },
  {
   "cell_type": "code",
   "execution_count": 34,
   "metadata": {
    "ExecuteTime": {
     "start_time": "2023-04-23T23:29:30.854773Z",
     "end_time": "2023-04-23T23:29:31.286271Z"
    }
   },
   "outputs": [],
   "source": [
    "def sq(x) :\n",
    "    return x**2"
   ]
  },
  {
   "cell_type": "code",
   "execution_count": 35,
   "metadata": {
    "ExecuteTime": {
     "start_time": "2023-04-23T23:29:30.918647Z",
     "end_time": "2023-04-23T23:29:31.533630Z"
    }
   },
   "outputs": [
    {
     "data": {
      "text/plain": "<map at 0x1a667e7e800>"
     },
     "execution_count": 35,
     "metadata": {},
     "output_type": "execute_result"
    }
   ],
   "source": [
    "map(sq, l)"
   ]
  },
  {
   "cell_type": "code",
   "execution_count": 36,
   "metadata": {
    "ExecuteTime": {
     "start_time": "2023-04-23T23:29:31.485372Z",
     "end_time": "2023-04-23T23:29:31.696104Z"
    }
   },
   "outputs": [
    {
     "data": {
      "text/plain": "[1, 4, 9, 16, 25, 44.89, 49.0]"
     },
     "execution_count": 36,
     "metadata": {},
     "output_type": "execute_result"
    }
   ],
   "source": [
    "list(map(sq, l))"
   ]
  },
  {
   "cell_type": "code",
   "execution_count": 37,
   "metadata": {
    "ExecuteTime": {
     "start_time": "2023-04-23T23:29:31.540177Z",
     "end_time": "2023-04-23T23:29:31.842442Z"
    }
   },
   "outputs": [
    {
     "data": {
      "text/plain": "[1, 2, 3, 4, 5, 6.7, 7.0]"
     },
     "execution_count": 37,
     "metadata": {},
     "output_type": "execute_result"
    }
   ],
   "source": [
    "l"
   ]
  },
  {
   "cell_type": "code",
   "execution_count": 38,
   "metadata": {
    "ExecuteTime": {
     "start_time": "2023-04-23T23:29:31.829915Z",
     "end_time": "2023-04-23T23:29:31.953249Z"
    }
   },
   "outputs": [
    {
     "data": {
      "text/plain": "[1, 4, 9, 16, 25, 44.89, 49.0]"
     },
     "execution_count": 38,
     "metadata": {},
     "output_type": "execute_result"
    }
   ],
   "source": [
    "list(map(sq, l))"
   ]
  },
  {
   "cell_type": "code",
   "execution_count": 39,
   "metadata": {
    "ExecuteTime": {
     "start_time": "2023-04-23T23:29:31.972340Z",
     "end_time": "2023-04-23T23:29:32.052129Z"
    }
   },
   "outputs": [],
   "source": [
    "l2 = [2,5,7,10]"
   ]
  },
  {
   "cell_type": "code",
   "execution_count": 40,
   "metadata": {
    "ExecuteTime": {
     "start_time": "2023-04-23T23:29:31.989817Z",
     "end_time": "2023-04-23T23:29:32.208594Z"
    }
   },
   "outputs": [
    {
     "data": {
      "text/plain": "[4, 25, 49, 100]"
     },
     "execution_count": 40,
     "metadata": {},
     "output_type": "execute_result"
    }
   ],
   "source": [
    "list(map(sq, l2))"
   ]
  },
  {
   "cell_type": "code",
   "execution_count": 41,
   "metadata": {
    "ExecuteTime": {
     "start_time": "2023-04-23T23:29:32.117986Z",
     "end_time": "2023-04-23T23:29:32.246822Z"
    }
   },
   "outputs": [
    {
     "data": {
      "text/plain": "[4, 25, 49, 100]"
     },
     "execution_count": 41,
     "metadata": {},
     "output_type": "execute_result"
    }
   ],
   "source": [
    "list(map(lambda x : x**2 , l2))"
   ]
  },
  {
   "cell_type": "code",
   "execution_count": 42,
   "metadata": {
    "ExecuteTime": {
     "start_time": "2023-04-23T23:29:32.187436Z",
     "end_time": "2023-04-23T23:29:32.413889Z"
    }
   },
   "outputs": [
    {
     "data": {
      "text/plain": "[1, 4, 9, 16, 25, 44.89, 49.0]"
     },
     "execution_count": 42,
     "metadata": {},
     "output_type": "execute_result"
    }
   ],
   "source": [
    "list(map(lambda x : x**2 , l))"
   ]
  },
  {
   "cell_type": "code",
   "execution_count": 43,
   "metadata": {
    "ExecuteTime": {
     "start_time": "2023-04-23T23:29:32.690163Z",
     "end_time": "2023-04-23T23:29:33.565265Z"
    }
   },
   "outputs": [],
   "source": [
    "l1 = [1,2,3,4,5]\n",
    "l2 = [6,7,8,9,10]"
   ]
  },
  {
   "cell_type": "code",
   "execution_count": 44,
   "metadata": {
    "ExecuteTime": {
     "start_time": "2023-04-23T23:29:33.573293Z",
     "end_time": "2023-04-23T23:29:33.694526Z"
    }
   },
   "outputs": [
    {
     "data": {
      "text/plain": "[7, 9, 11, 13, 15]"
     },
     "execution_count": 44,
     "metadata": {},
     "output_type": "execute_result"
    }
   ],
   "source": [
    "list(map(lambda x, y : x + y, l1, l2))"
   ]
  },
  {
   "cell_type": "code",
   "execution_count": 45,
   "metadata": {
    "ExecuteTime": {
     "start_time": "2023-04-23T23:29:33.645717Z",
     "end_time": "2023-04-23T23:29:33.897610Z"
    }
   },
   "outputs": [
    {
     "data": {
      "text/plain": "[0.5, 1.0, 1.5, 2.0, 2.5, 3.35, 3.5]"
     },
     "execution_count": 45,
     "metadata": {},
     "output_type": "execute_result"
    }
   ],
   "source": [
    "list(map(lambda y : y/2, l))"
   ]
  },
  {
   "cell_type": "code",
   "execution_count": 46,
   "outputs": [
    {
     "data": {
      "text/plain": "[1, 2, 3, 4, 5, 6.7, 7.0]"
     },
     "execution_count": 46,
     "metadata": {},
     "output_type": "execute_result"
    }
   ],
   "source": [
    "l"
   ],
   "metadata": {
    "collapsed": false,
    "ExecuteTime": {
     "start_time": "2023-04-23T23:29:33.878520Z",
     "end_time": "2023-04-23T23:29:34.226152Z"
    }
   }
  },
  {
   "cell_type": "code",
   "execution_count": 47,
   "outputs": [
    {
     "data": {
      "text/plain": "[6.0, 3.5, 2.6666666666666665, 2.25, 2.0]"
     },
     "execution_count": 47,
     "metadata": {},
     "output_type": "execute_result"
    }
   ],
   "source": [
    "list(map(lambda x, y : x/y, l2, l1))"
   ],
   "metadata": {
    "collapsed": false,
    "ExecuteTime": {
     "start_time": "2023-04-23T23:29:34.233168Z",
     "end_time": "2023-04-23T23:29:34.474633Z"
    }
   }
  },
  {
   "cell_type": "code",
   "execution_count": 48,
   "outputs": [],
   "source": [
    "def sum(x,y) :\n",
    "    return x + y"
   ],
   "metadata": {
    "collapsed": false,
    "ExecuteTime": {
     "start_time": "2023-04-23T23:29:34.479675Z",
     "end_time": "2023-04-23T23:29:34.822036Z"
    }
   }
  },
  {
   "cell_type": "code",
   "execution_count": 49,
   "outputs": [
    {
     "data": {
      "text/plain": "[7, 9, 11, 13, 15]"
     },
     "execution_count": 49,
     "metadata": {},
     "output_type": "execute_result"
    }
   ],
   "source": [
    "list(map(sum, l1, l2))"
   ],
   "metadata": {
    "collapsed": false,
    "ExecuteTime": {
     "start_time": "2023-04-23T23:29:34.825596Z",
     "end_time": "2023-04-23T23:29:34.966470Z"
    }
   }
  },
  {
   "cell_type": "code",
   "execution_count": 50,
   "outputs": [
    {
     "data": {
      "text/plain": "[7, 9, 11, 13, 15]"
     },
     "execution_count": 50,
     "metadata": {},
     "output_type": "execute_result"
    }
   ],
   "source": [
    "list(map(lambda x, y : x + y, l1, l2))"
   ],
   "metadata": {
    "collapsed": false,
    "ExecuteTime": {
     "start_time": "2023-04-23T23:29:34.869325Z",
     "end_time": "2023-04-23T23:29:35.005798Z"
    }
   }
  },
  {
   "cell_type": "code",
   "execution_count": 51,
   "outputs": [
    {
     "name": "stdout",
     "output_type": "stream",
     "text": [
      "[1, 2, 3, 4, 5]\n",
      "[6, 7, 8, 9, 10]\n"
     ]
    }
   ],
   "source": [
    "print(l1)\n",
    "print(l2)"
   ],
   "metadata": {
    "collapsed": false,
    "ExecuteTime": {
     "start_time": "2023-04-23T23:29:35.015342Z",
     "end_time": "2023-04-23T23:29:35.313182Z"
    }
   }
  },
  {
   "cell_type": "code",
   "execution_count": 52,
   "outputs": [],
   "source": [
    "s = \"pwskills\""
   ],
   "metadata": {
    "collapsed": false,
    "ExecuteTime": {
     "start_time": "2023-04-23T23:29:35.333310Z",
     "end_time": "2023-04-23T23:29:35.399780Z"
    }
   }
  },
  {
   "cell_type": "code",
   "execution_count": 53,
   "outputs": [
    {
     "data": {
      "text/plain": "'PWSKILLS'"
     },
     "execution_count": 53,
     "metadata": {},
     "output_type": "execute_result"
    }
   ],
   "source": [
    "s.upper()"
   ],
   "metadata": {
    "collapsed": false,
    "ExecuteTime": {
     "start_time": "2023-04-23T23:29:35.372123Z",
     "end_time": "2023-04-23T23:29:35.433432Z"
    }
   }
  },
  {
   "cell_type": "code",
   "execution_count": 54,
   "outputs": [
    {
     "data": {
      "text/plain": "['P', 'W', 'S', 'K', 'I', 'L', 'L', 'S']"
     },
     "execution_count": 54,
     "metadata": {},
     "output_type": "execute_result"
    }
   ],
   "source": [
    "list(map(lambda s : s.upper(), s))"
   ],
   "metadata": {
    "collapsed": false,
    "ExecuteTime": {
     "start_time": "2023-04-23T23:29:35.437997Z",
     "end_time": "2023-04-23T23:29:35.665253Z"
    }
   }
  },
  {
   "cell_type": "code",
   "execution_count": 55,
   "outputs": [],
   "source": [
    "s = \"puRushoTtam\""
   ],
   "metadata": {
    "collapsed": false,
    "ExecuteTime": {
     "start_time": "2023-04-23T23:29:35.585273Z",
     "end_time": "2023-04-23T23:29:35.873608Z"
    }
   }
  },
  {
   "cell_type": "code",
   "execution_count": 56,
   "outputs": [
    {
     "data": {
      "text/plain": "['P', 'U', 'R', 'U', 'S', 'H', 'O', 'T', 'T', 'A', 'M']"
     },
     "execution_count": 56,
     "metadata": {},
     "output_type": "execute_result"
    }
   ],
   "source": [
    "list(map(lambda s : s.upper(), s))"
   ],
   "metadata": {
    "collapsed": false,
    "ExecuteTime": {
     "start_time": "2023-04-23T23:29:35.881167Z",
     "end_time": "2023-04-23T23:29:36.179397Z"
    }
   }
  },
  {
   "cell_type": "markdown",
   "source": [
    "# ---------- LAMBDA function ENDS here ----------"
   ],
   "metadata": {
    "collapsed": false
   }
  },
  {
   "cell_type": "markdown",
   "source": [
    "# ------------- REDUCE functions starts from here -------------"
   ],
   "metadata": {
    "collapsed": false
   }
  },
  {
   "cell_type": "code",
   "execution_count": 58,
   "outputs": [],
   "source": [
    "from functools import reduce"
   ],
   "metadata": {
    "collapsed": false,
    "ExecuteTime": {
     "start_time": "2023-04-23T23:29:53.071931Z",
     "end_time": "2023-04-23T23:29:53.184547Z"
    }
   }
  },
  {
   "cell_type": "code",
   "execution_count": 59,
   "outputs": [],
   "source": [
    "l = [1,2,3,4,5,6,7]"
   ],
   "metadata": {
    "collapsed": false,
    "ExecuteTime": {
     "start_time": "2023-04-23T23:30:04.499846Z",
     "end_time": "2023-04-23T23:30:04.649802Z"
    }
   }
  },
  {
   "cell_type": "code",
   "execution_count": 60,
   "outputs": [
    {
     "data": {
      "text/plain": "28"
     },
     "execution_count": 60,
     "metadata": {},
     "output_type": "execute_result"
    }
   ],
   "source": [
    "reduce(lambda x,y : x + y, l)"
   ],
   "metadata": {
    "collapsed": false,
    "ExecuteTime": {
     "start_time": "2023-04-23T23:31:38.014536Z",
     "end_time": "2023-04-23T23:31:38.133540Z"
    }
   }
  },
  {
   "cell_type": "code",
   "execution_count": null,
   "outputs": [],
   "source": [],
   "metadata": {
    "collapsed": false
   }
  }
 ],
 "metadata": {
  "kernelspec": {
   "display_name": "base",
   "language": "python",
   "name": "python3"
  },
  "language_info": {
   "codemirror_mode": {
    "name": "ipython",
    "version": 3
   },
   "file_extension": ".py",
   "mimetype": "text/x-python",
   "name": "python",
   "nbconvert_exporter": "python",
   "pygments_lexer": "ipython3",
   "version": "3.10.9"
  },
  "orig_nbformat": 4
 },
 "nbformat": 4,
 "nbformat_minor": 2
}
