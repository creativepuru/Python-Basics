{
 "cells": [
  {
   "cell_type": "code",
   "execution_count": 1,
   "id": "053b993c-7728-4774-a841-8fe90ce1056e",
   "metadata": {},
   "outputs": [
    {
     "name": "stdout",
     "output_type": "stream",
     "text": [
      "3.10.8 | packaged by conda-forge | (main, Nov 22 2022, 08:26:04) [GCC 10.4.0]\n"
     ]
    }
   ],
   "source": [
    "import sys\n",
    "print(sys.version)"
   ]
  },
  {
   "cell_type": "code",
   "execution_count": 4,
   "id": "1a020a9c-c1ed-4a98-bdfd-da3df111cc0e",
   "metadata": {},
   "outputs": [
    {
     "name": "stdout",
     "output_type": "stream",
     "text": [
      "Hello Purushottam\n"
     ]
    }
   ],
   "source": [
    "print ('Hello Purushottam')"
   ]
  },
  {
   "cell_type": "code",
   "execution_count": 8,
   "id": "22fbfaa4-3ef7-4396-9a09-9d78e442f789",
   "metadata": {},
   "outputs": [
    {
     "name": "stdin",
     "output_type": "stream",
     "text": [
      "Write your First Name :  Anand\n"
     ]
    },
    {
     "name": "stdout",
     "output_type": "stream",
     "text": [
      "Hello Anand\n"
     ]
    }
   ],
   "source": [
    "f = input('Write your First Name : ')\n",
    "\n",
    "print('Hello ' + f)"
   ]
  },
  {
   "cell_type": "code",
   "execution_count": 32,
   "id": "3a807f3c-f68e-4f9f-a7cf-41f2c57f806f",
   "metadata": {},
   "outputs": [
    {
     "name": "stdin",
     "output_type": "stream",
     "text": [
      "Enter your age (in years) :  27\n"
     ]
    },
    {
     "ename": "TypeError",
     "evalue": "can only concatenate str (not \"int\") to str",
     "output_type": "error",
     "traceback": [
      "\u001b[0;31m---------------------------------------------------------------------------\u001b[0m",
      "\u001b[0;31mTypeError\u001b[0m                                 Traceback (most recent call last)",
      "Cell \u001b[0;32mIn[32], line 4\u001b[0m\n\u001b[1;32m      1\u001b[0m f \u001b[38;5;241m=\u001b[39m \u001b[38;5;28mint\u001b[39m(\u001b[38;5;28minput\u001b[39m(\u001b[38;5;124m'\u001b[39m\u001b[38;5;124mEnter your age (in years) : \u001b[39m\u001b[38;5;124m'\u001b[39m))\n\u001b[1;32m      2\u001b[0m born \u001b[38;5;241m=\u001b[39m \u001b[38;5;241m2023\u001b[39m\u001b[38;5;241m-\u001b[39mf\n\u001b[0;32m----> 4\u001b[0m \u001b[38;5;28mprint\u001b[39m(\u001b[38;5;124;43m'\u001b[39;49m\u001b[38;5;124;43mYou were born in the Year : \u001b[39;49m\u001b[38;5;124;43m'\u001b[39;49m\u001b[43m \u001b[49m\u001b[38;5;241;43m+\u001b[39;49m\u001b[43m \u001b[49m\u001b[43mborn\u001b[49m)\n",
      "\u001b[0;31mTypeError\u001b[0m: can only concatenate str (not \"int\") to str"
     ]
    }
   ],
   "source": [
    "f = int(input('Enter your age (in years) : '))\n",
    "born = 2023-f\n",
    "\n",
    "print('You were born in the Year : ' + born)"
   ]
  },
  {
   "cell_type": "code",
   "execution_count": 33,
   "id": "653642f3-1da0-4bab-a2e0-fa930b83d3ad",
   "metadata": {},
   "outputs": [
    {
     "name": "stdin",
     "output_type": "stream",
     "text": [
      "Enter your age (in years) :  25\n"
     ]
    },
    {
     "name": "stdout",
     "output_type": "stream",
     "text": [
      "You were born in the Year : \n",
      "1998\n"
     ]
    }
   ],
   "source": [
    "f = int(input('Enter your age (in years) : '))\n",
    "born = 2023-f\n",
    "\n",
    "print('You were born in the Year : ')\n",
    "print(born)"
   ]
  },
  {
   "cell_type": "code",
   "execution_count": 24,
   "id": "ee2608e1-04cf-422f-a24f-33a81b7b3dda",
   "metadata": {},
   "outputs": [
    {
     "name": "stdin",
     "output_type": "stream",
     "text": [
      "Write your First Name :  Anand\n",
      "Write your Second Name :  Purushottam\n"
     ]
    },
    {
     "name": "stdout",
     "output_type": "stream",
     "text": [
      "Hello Anand Purushottam\n"
     ]
    }
   ],
   "source": [
    "f1 = input('Write your First Name : ')\n",
    "f2 = input('Write your Second Name : ')\n",
    "\n",
    "print('Hello ' + f1 + ' ' + f2)"
   ]
  },
  {
   "cell_type": "code",
   "execution_count": 37,
   "id": "74bde03e-b7f9-40eb-a5b7-8476b019328e",
   "metadata": {},
   "outputs": [
    {
     "name": "stdin",
     "output_type": "stream",
     "text": [
      "Enter your age (in years) :  25\n"
     ]
    },
    {
     "name": "stdout",
     "output_type": "stream",
     "text": [
      "You were born in the Year : \n",
      "1998\n"
     ]
    },
    {
     "data": {
      "text/plain": [
       "int"
      ]
     },
     "execution_count": 37,
     "metadata": {},
     "output_type": "execute_result"
    }
   ],
   "source": [
    "f = int(input('Enter your age (in years) : '))\n",
    "born = 2023-f\n",
    "\n",
    "print('You were born in the Year : ')\n",
    "print(born)\n",
    "#type(f)\n",
    "type(born)"
   ]
  },
  {
   "cell_type": "code",
   "execution_count": null,
   "id": "62268f67-9c74-42af-9358-b6721bc69980",
   "metadata": {},
   "outputs": [],
   "source": []
  }
 ],
 "metadata": {
  "kernelspec": {
   "display_name": "Python 3 (ipykernel)",
   "language": "python",
   "name": "python3"
  },
  "language_info": {
   "codemirror_mode": {
    "name": "ipython",
    "version": 3
   },
   "file_extension": ".py",
   "mimetype": "text/x-python",
   "name": "python",
   "nbconvert_exporter": "python",
   "pygments_lexer": "ipython3",
   "version": "3.10.8"
  }
 },
 "nbformat": 4,
 "nbformat_minor": 5
}
