{
 "cells": [
  {
   "cell_type": "markdown",
   "source": [
    "# Polymorphism - Same entity but different behaviour in different environments based upon data input"
   ],
   "metadata": {
    "collapsed": false
   }
  },
  {
   "cell_type": "code",
   "execution_count": 1,
   "metadata": {
    "collapsed": true,
    "ExecuteTime": {
     "start_time": "2023-04-25T03:35:56.194704Z",
     "end_time": "2023-04-25T03:35:57.229925Z"
    }
   },
   "outputs": [
    {
     "name": "stdout",
     "output_type": "stream",
     "text": [
      "Push from Data-Spell app\n"
     ]
    }
   ],
   "source": [
    "print(\"Push from Data-Spell app\")"
   ]
  },
  {
   "cell_type": "code",
   "execution_count": 2,
   "outputs": [],
   "source": [
    "def test(a , b) :\n",
    "    return a + b"
   ],
   "metadata": {
    "collapsed": false,
    "ExecuteTime": {
     "start_time": "2023-04-25T03:35:56.488247Z",
     "end_time": "2023-04-25T03:35:57.366279Z"
    }
   }
  },
  {
   "cell_type": "code",
   "execution_count": 3,
   "outputs": [
    {
     "data": {
      "text/plain": "11"
     },
     "execution_count": 3,
     "metadata": {},
     "output_type": "execute_result"
    }
   ],
   "source": [
    "test(5,6)"
   ],
   "metadata": {
    "collapsed": false,
    "ExecuteTime": {
     "start_time": "2023-04-25T03:35:56.488247Z",
     "end_time": "2023-04-25T03:35:57.373822Z"
    }
   }
  },
  {
   "cell_type": "code",
   "execution_count": 4,
   "outputs": [
    {
     "data": {
      "text/plain": "3"
     },
     "execution_count": 4,
     "metadata": {},
     "output_type": "execute_result"
    }
   ],
   "source": [
    "test(1,2)"
   ],
   "metadata": {
    "collapsed": false,
    "ExecuteTime": {
     "start_time": "2023-04-25T03:35:56.488247Z",
     "end_time": "2023-04-25T03:35:57.375826Z"
    }
   }
  },
  {
   "cell_type": "code",
   "execution_count": 5,
   "outputs": [
    {
     "data": {
      "text/plain": "'puru anand'"
     },
     "execution_count": 5,
     "metadata": {},
     "output_type": "execute_result"
    }
   ],
   "source": [
    "test('puru ', 'anand')"
   ],
   "metadata": {
    "collapsed": false,
    "ExecuteTime": {
     "start_time": "2023-04-25T03:35:56.493784Z",
     "end_time": "2023-04-25T03:35:57.391489Z"
    }
   }
  },
  {
   "cell_type": "code",
   "execution_count": 6,
   "outputs": [
    {
     "data": {
      "text/plain": "[1, 2, 3, 9, 8, 7]"
     },
     "execution_count": 6,
     "metadata": {},
     "output_type": "execute_result"
    }
   ],
   "source": [
    "test([1,2,3], [9,8,7])"
   ],
   "metadata": {
    "collapsed": false,
    "ExecuteTime": {
     "start_time": "2023-04-25T03:35:56.493784Z",
     "end_time": "2023-04-25T03:35:57.393534Z"
    }
   }
  },
  {
   "cell_type": "code",
   "execution_count": 14,
   "outputs": [],
   "source": [
    "class DataScience :\n",
    "\n",
    "    def syllabus(self):\n",
    "        print(\"This is my syllabus for Data Science Masters\")"
   ],
   "metadata": {
    "collapsed": false,
    "ExecuteTime": {
     "start_time": "2023-04-25T03:36:33.574859Z",
     "end_time": "2023-04-25T03:36:33.657870Z"
    }
   }
  },
  {
   "cell_type": "code",
   "execution_count": 15,
   "outputs": [],
   "source": [
    "class WebDev :\n",
    "\n",
    "    def syllabus(self):\n",
    "        print(\"This is my syllabus for Web Development\")"
   ],
   "metadata": {
    "collapsed": false,
    "ExecuteTime": {
     "start_time": "2023-04-25T03:36:34.356857Z",
     "end_time": "2023-04-25T03:36:34.488867Z"
    }
   }
  },
  {
   "cell_type": "code",
   "execution_count": 16,
   "outputs": [],
   "source": [
    "def class_parcer(class_obj) :\n",
    "    for i in class_obj :\n",
    "        i.syllabus()"
   ],
   "metadata": {
    "collapsed": false,
    "ExecuteTime": {
     "start_time": "2023-04-25T03:36:35.120862Z",
     "end_time": "2023-04-25T03:36:35.184859Z"
    }
   }
  },
  {
   "cell_type": "code",
   "execution_count": 17,
   "outputs": [],
   "source": [
    "data_science = DataScience"
   ],
   "metadata": {
    "collapsed": false,
    "ExecuteTime": {
     "start_time": "2023-04-25T03:36:35.833862Z",
     "end_time": "2023-04-25T03:36:35.891868Z"
    }
   }
  },
  {
   "cell_type": "code",
   "execution_count": 18,
   "outputs": [],
   "source": [
    "web_dev = WebDev"
   ],
   "metadata": {
    "collapsed": false,
    "ExecuteTime": {
     "start_time": "2023-04-25T03:36:36.411864Z",
     "end_time": "2023-04-25T03:36:36.468859Z"
    }
   }
  },
  {
   "cell_type": "code",
   "execution_count": 19,
   "outputs": [],
   "source": [
    "class_obj = [data_science, web_dev]"
   ],
   "metadata": {
    "collapsed": false,
    "ExecuteTime": {
     "start_time": "2023-04-25T03:36:38.190858Z",
     "end_time": "2023-04-25T03:36:38.243862Z"
    }
   }
  },
  {
   "cell_type": "code",
   "execution_count": 20,
   "outputs": [
    {
     "ename": "TypeError",
     "evalue": "DataScience.syllabus() missing 1 required positional argument: 'self'",
     "output_type": "error",
     "traceback": [
      "\u001B[1;31m---------------------------------------------------------------------------\u001B[0m",
      "\u001B[1;31mTypeError\u001B[0m                                 Traceback (most recent call last)",
      "Cell \u001B[1;32mIn[20], line 1\u001B[0m\n\u001B[1;32m----> 1\u001B[0m \u001B[43mclass_parcer\u001B[49m\u001B[43m(\u001B[49m\u001B[43mclass_obj\u001B[49m\u001B[43m)\u001B[49m\n",
      "Cell \u001B[1;32mIn[16], line 3\u001B[0m, in \u001B[0;36mclass_parcer\u001B[1;34m(class_obj)\u001B[0m\n\u001B[0;32m      1\u001B[0m \u001B[38;5;28;01mdef\u001B[39;00m \u001B[38;5;21mclass_parcer\u001B[39m(class_obj) :\n\u001B[0;32m      2\u001B[0m     \u001B[38;5;28;01mfor\u001B[39;00m i \u001B[38;5;129;01min\u001B[39;00m class_obj :\n\u001B[1;32m----> 3\u001B[0m         \u001B[43mi\u001B[49m\u001B[38;5;241;43m.\u001B[39;49m\u001B[43msyllabus\u001B[49m\u001B[43m(\u001B[49m\u001B[43m)\u001B[49m\n",
      "\u001B[1;31mTypeError\u001B[0m: DataScience.syllabus() missing 1 required positional argument: 'self'"
     ]
    }
   ],
   "source": [
    "class_parcer(class_obj)"
   ],
   "metadata": {
    "collapsed": false,
    "ExecuteTime": {
     "start_time": "2023-04-25T03:35:56.556074Z",
     "end_time": "2023-04-25T03:35:57.438767Z"
    }
   }
  },
  {
   "cell_type": "code",
   "execution_count": 21,
   "outputs": [],
   "source": [
    "Error = '''---------------------------------------------------------------------------\n",
    "TypeError                                 Traceback (most recent call last)\n",
    "Cell In[20], line 1\n",
    "----> 1 class_parcer(class_obj)\n",
    "\n",
    "Cell In[16], line 3, in class_parcer(class_obj)\n",
    "      1 def class_parcer(class_obj) :\n",
    "      2     for i in class_obj :\n",
    "----> 3         i.syllabus()\n",
    "\n",
    "TypeError: DataScience.syllabus() missing 1 required positional argument: 'self' '''"
   ],
   "metadata": {
    "collapsed": false,
    "ExecuteTime": {
     "start_time": "2023-04-25T03:37:19.141857Z",
     "end_time": "2023-04-25T03:37:19.233863Z"
    }
   }
  },
  {
   "cell_type": "code",
   "execution_count": 22,
   "outputs": [
    {
     "name": "stdout",
     "output_type": "stream",
     "text": [
      "---------------------------------------------------------------------------\n",
      "TypeError                                 Traceback (most recent call last)\n",
      "Cell In[20], line 1\n",
      "----> 1 class_parcer(class_obj)\n",
      "\n",
      "Cell In[16], line 3, in class_parcer(class_obj)\n",
      "      1 def class_parcer(class_obj) :\n",
      "      2     for i in class_obj :\n",
      "----> 3         i.syllabus()\n",
      "\n",
      "TypeError: DataScience.syllabus() missing 1 required positional argument: 'self' \n"
     ]
    }
   ],
   "source": [
    "print(Error)"
   ],
   "metadata": {
    "collapsed": false,
    "ExecuteTime": {
     "start_time": "2023-04-25T03:37:26.444860Z",
     "end_time": "2023-04-25T03:37:26.527861Z"
    }
   }
  },
  {
   "cell_type": "code",
   "execution_count": null,
   "outputs": [],
   "source": [],
   "metadata": {
    "collapsed": false
   }
  }
 ],
 "metadata": {
  "kernelspec": {
   "display_name": "Python 3",
   "language": "python",
   "name": "python3"
  },
  "language_info": {
   "codemirror_mode": {
    "name": "ipython",
    "version": 2
   },
   "file_extension": ".py",
   "mimetype": "text/x-python",
   "name": "python",
   "nbconvert_exporter": "python",
   "pygments_lexer": "ipython2",
   "version": "2.7.6"
  }
 },
 "nbformat": 4,
 "nbformat_minor": 0
}
