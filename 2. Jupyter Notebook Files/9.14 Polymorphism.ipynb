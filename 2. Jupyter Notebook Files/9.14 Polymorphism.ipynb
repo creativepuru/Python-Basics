{
 "cells": [
  {
   "cell_type": "markdown",
   "source": [
    "# Polymorphism - Same entity but different behaviour in different environments based upon data input"
   ],
   "metadata": {
    "collapsed": false
   }
  },
  {
   "cell_type": "code",
   "execution_count": 1,
   "metadata": {
    "collapsed": true,
    "ExecuteTime": {
     "start_time": "2023-04-25T03:35:56.194704Z",
     "end_time": "2023-04-25T03:35:57.229925Z"
    }
   },
   "outputs": [
    {
     "name": "stdout",
     "output_type": "stream",
     "text": [
      "Push from Data-Spell app\n"
     ]
    }
   ],
   "source": [
    "print(\"Push from Data-Spell app\")"
   ]
  },
  {
   "cell_type": "code",
   "execution_count": 2,
   "outputs": [],
   "source": [
    "def test(a , b) :\n",
    "    return a + b"
   ],
   "metadata": {
    "collapsed": false,
    "ExecuteTime": {
     "start_time": "2023-04-25T03:35:56.488247Z",
     "end_time": "2023-04-25T03:35:57.366279Z"
    }
   }
  },
  {
   "cell_type": "code",
   "execution_count": 3,
   "outputs": [
    {
     "data": {
      "text/plain": "11"
     },
     "execution_count": 3,
     "metadata": {},
     "output_type": "execute_result"
    }
   ],
   "source": [
    "test(5,6)"
   ],
   "metadata": {
    "collapsed": false,
    "ExecuteTime": {
     "start_time": "2023-04-25T03:35:56.488247Z",
     "end_time": "2023-04-25T03:35:57.373822Z"
    }
   }
  },
  {
   "cell_type": "code",
   "execution_count": 4,
   "outputs": [
    {
     "data": {
      "text/plain": "3"
     },
     "execution_count": 4,
     "metadata": {},
     "output_type": "execute_result"
    }
   ],
   "source": [
    "test(1,2)"
   ],
   "metadata": {
    "collapsed": false,
    "ExecuteTime": {
     "start_time": "2023-04-25T03:35:56.488247Z",
     "end_time": "2023-04-25T03:35:57.375826Z"
    }
   }
  },
  {
   "cell_type": "code",
   "execution_count": 5,
   "outputs": [
    {
     "data": {
      "text/plain": "'puru anand'"
     },
     "execution_count": 5,
     "metadata": {},
     "output_type": "execute_result"
    }
   ],
   "source": [
    "test('puru ', 'anand')"
   ],
   "metadata": {
    "collapsed": false,
    "ExecuteTime": {
     "start_time": "2023-04-25T03:35:56.493784Z",
     "end_time": "2023-04-25T03:35:57.391489Z"
    }
   }
  },
  {
   "cell_type": "code",
   "execution_count": 6,
   "outputs": [
    {
     "data": {
      "text/plain": "[1, 2, 3, 9, 8, 7]"
     },
     "execution_count": 6,
     "metadata": {},
     "output_type": "execute_result"
    }
   ],
   "source": [
    "test([1,2,3], [9,8,7])"
   ],
   "metadata": {
    "collapsed": false,
    "ExecuteTime": {
     "start_time": "2023-04-25T03:35:56.493784Z",
     "end_time": "2023-04-25T03:35:57.393534Z"
    }
   }
  },
  {
   "cell_type": "code",
   "execution_count": 14,
   "outputs": [],
   "source": [
    "class DataScience :\n",
    "\n",
    "    def syllabus(self):\n",
    "        print(\"This is my syllabus for Data Science Masters\")"
   ],
   "metadata": {
    "collapsed": false,
    "ExecuteTime": {
     "start_time": "2023-04-25T03:36:33.574859Z",
     "end_time": "2023-04-25T03:36:33.657870Z"
    }
   }
  },
  {
   "cell_type": "code",
   "execution_count": 15,
   "outputs": [],
   "source": [
    "class WebDev :\n",
    "\n",
    "    def syllabus(self):\n",
    "        print(\"This is my syllabus for Web Development\")"
   ],
   "metadata": {
    "collapsed": false,
    "ExecuteTime": {
     "start_time": "2023-04-25T03:36:34.356857Z",
     "end_time": "2023-04-25T03:36:34.488867Z"
    }
   }
  },
  {
   "cell_type": "code",
   "execution_count": 16,
   "outputs": [],
   "source": [
    "def class_parcer(class_obj) :\n",
    "    for i in class_obj :\n",
    "        i.syllabus()"
   ],
   "metadata": {
    "collapsed": false,
    "ExecuteTime": {
     "start_time": "2023-04-25T03:36:35.120862Z",
     "end_time": "2023-04-25T03:36:35.184859Z"
    }
   }
  },
  {
   "cell_type": "code",
   "execution_count": 17,
   "outputs": [],
   "source": [
    "data_science = DataScience"
   ],
   "metadata": {
    "collapsed": false,
    "ExecuteTime": {
     "start_time": "2023-04-25T03:36:35.833862Z",
     "end_time": "2023-04-25T03:36:35.891868Z"
    }
   }
  },
  {
   "cell_type": "code",
   "execution_count": 18,
   "outputs": [],
   "source": [
    "web_dev = WebDev"
   ],
   "metadata": {
    "collapsed": false,
    "ExecuteTime": {
     "start_time": "2023-04-25T03:36:36.411864Z",
     "end_time": "2023-04-25T03:36:36.468859Z"
    }
   }
  },
  {
   "cell_type": "code",
   "execution_count": 19,
   "outputs": [],
   "source": [
    "class_obj = [data_science, web_dev]"
   ],
   "metadata": {
    "collapsed": false,
    "ExecuteTime": {
     "start_time": "2023-04-25T03:36:38.190858Z",
     "end_time": "2023-04-25T03:36:38.243862Z"
    }
   }
  },
  {
   "cell_type": "code",
   "execution_count": 28,
   "outputs": [],
   "source": [
    "# class_parcer(class_obj)"
   ],
   "metadata": {
    "collapsed": false,
    "ExecuteTime": {
     "start_time": "2023-04-25T03:45:01.453098Z",
     "end_time": "2023-04-25T03:45:01.492094Z"
    }
   }
  },
  {
   "cell_type": "code",
   "execution_count": 29,
   "outputs": [],
   "source": [
    "# class_parcer(class_obj)\n",
    "Error = '''---------------------------------------------------------------------------\n",
    "TypeError                                 Traceback (most recent call last)\n",
    "Cell In[20], line 1\n",
    "----> 1 class_parcer(class_obj)\n",
    "\n",
    "Cell In[16], line 3, in class_parcer(class_obj)\n",
    "      1 def class_parcer(class_obj) :\n",
    "      2     for i in class_obj :\n",
    "----> 3         i.syllabus()\n",
    "\n",
    "TypeError: DataScience.syllabus() missing 1 required positional argument: 'self' '''"
   ],
   "metadata": {
    "collapsed": false,
    "ExecuteTime": {
     "start_time": "2023-04-25T03:45:16.010096Z",
     "end_time": "2023-04-25T03:45:16.051099Z"
    }
   }
  },
  {
   "cell_type": "code",
   "execution_count": 30,
   "outputs": [
    {
     "name": "stdout",
     "output_type": "stream",
     "text": [
      "---------------------------------------------------------------------------\n",
      "TypeError                                 Traceback (most recent call last)\n",
      "Cell In[20], line 1\n",
      "----> 1 class_parcer(class_obj)\n",
      "\n",
      "Cell In[16], line 3, in class_parcer(class_obj)\n",
      "      1 def class_parcer(class_obj) :\n",
      "      2     for i in class_obj :\n",
      "----> 3         i.syllabus()\n",
      "\n",
      "TypeError: DataScience.syllabus() missing 1 required positional argument: 'self' \n"
     ]
    }
   ],
   "source": [
    "print(Error)"
   ],
   "metadata": {
    "collapsed": false,
    "ExecuteTime": {
     "start_time": "2023-04-25T03:45:17.502093Z",
     "end_time": "2023-04-25T03:45:17.585096Z"
    }
   }
  },
  {
   "cell_type": "code",
   "execution_count": 35,
   "outputs": [
    {
     "name": "stdout",
     "output_type": "stream",
     "text": [
      "This is my syllabus for Data Science Masters\n",
      "This is my syllabus for Web Development\n"
     ]
    }
   ],
   "source": [
    "class DataScience :\n",
    "    def syllabus(self):\n",
    "        print(\"This is my syllabus for Data Science Masters\")\n",
    "\n",
    "class WebDev :\n",
    "    def syllabus(self):\n",
    "        print(\"This is my syllabus for Web Development\")\n",
    "\n",
    "data_science = DataScience()\n",
    "web_dev = WebDev()\n",
    "\n",
    "def class_parcer(class_obj) :\n",
    "    for i in class_obj :\n",
    "        i.syllabus()\n",
    "\n",
    "class_obj = [data_science, web_dev]\n",
    "\n",
    "class_parcer(class_obj)"
   ],
   "metadata": {
    "collapsed": false,
    "ExecuteTime": {
     "start_time": "2023-04-25T03:49:03.388592Z",
     "end_time": "2023-04-25T03:49:03.431593Z"
    }
   }
  },
  {
   "cell_type": "code",
   "execution_count": null,
   "outputs": [],
   "source": [],
   "metadata": {
    "collapsed": false
   }
  }
 ],
 "metadata": {
  "kernelspec": {
   "display_name": "Python 3",
   "language": "python",
   "name": "python3"
  },
  "language_info": {
   "codemirror_mode": {
    "name": "ipython",
    "version": 2
   },
   "file_extension": ".py",
   "mimetype": "text/x-python",
   "name": "python",
   "nbconvert_exporter": "python",
   "pygments_lexer": "ipython2",
   "version": "2.7.6"
  }
 },
 "nbformat": 4,
 "nbformat_minor": 0
}
