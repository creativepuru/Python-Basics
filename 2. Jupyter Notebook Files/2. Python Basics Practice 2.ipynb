{
 "cells": [
  {
   "cell_type": "code",
   "execution_count": 335,
   "id": "0208e64f-eb91-4395-b2d9-63dcc65ae3e0",
   "metadata": {},
   "outputs": [
    {
     "data": {
      "text/plain": [
       "2"
      ]
     },
     "execution_count": 335,
     "metadata": {},
     "output_type": "execute_result"
    }
   ],
   "source": [
    "1+1"
   ]
  },
  {
   "cell_type": "code",
   "execution_count": 336,
   "id": "69798d1f-05d0-4cb5-8cdb-abc331982025",
   "metadata": {},
   "outputs": [
    {
     "data": {
      "text/plain": [
       "25"
      ]
     },
     "execution_count": 336,
     "metadata": {},
     "output_type": "execute_result"
    }
   ],
   "source": [
    "5*5"
   ]
  },
  {
   "cell_type": "code",
   "execution_count": 337,
   "id": "b670ffb4-296c-4d2d-a84c-bd00a12af616",
   "metadata": {},
   "outputs": [],
   "source": [
    "a = 5*5"
   ]
  },
  {
   "cell_type": "code",
   "execution_count": 338,
   "id": "ba47f654-eee1-44c1-a420-2cd33126e59f",
   "metadata": {},
   "outputs": [
    {
     "name": "stdout",
     "output_type": "stream",
     "text": [
      "25\n"
     ]
    }
   ],
   "source": [
    "print(a)"
   ]
  },
  {
   "cell_type": "code",
   "execution_count": 339,
   "id": "f4bef8d1-f090-4a2b-a1f7-e9664224b6f1",
   "metadata": {},
   "outputs": [
    {
     "name": "stdout",
     "output_type": "stream",
     "text": [
      "25\n"
     ]
    }
   ],
   "source": [
    "+a\n",
    "print(a)"
   ]
  },
  {
   "cell_type": "code",
   "execution_count": 340,
   "id": "1e618b39-9afc-4f67-b144-ea067b487ad4",
   "metadata": {},
   "outputs": [
    {
     "name": "stdout",
     "output_type": "stream",
     "text": [
      "35\n"
     ]
    }
   ],
   "source": [
    "b = 10\n",
    "print (a+b)"
   ]
  },
  {
   "cell_type": "code",
   "execution_count": 341,
   "id": "60f37d85-7a81-4d43-a58e-f5faa0cecc1f",
   "metadata": {},
   "outputs": [
    {
     "data": {
      "text/plain": [
       "35"
      ]
     },
     "execution_count": 341,
     "metadata": {},
     "output_type": "execute_result"
    }
   ],
   "source": [
    "a+b"
   ]
  },
  {
   "cell_type": "code",
   "execution_count": 342,
   "id": "143c13e8-665e-4be6-a94f-080a8ae81d47",
   "metadata": {},
   "outputs": [
    {
     "data": {
      "text/plain": [
       "int"
      ]
     },
     "execution_count": 342,
     "metadata": {},
     "output_type": "execute_result"
    }
   ],
   "source": [
    "type(a)"
   ]
  },
  {
   "cell_type": "code",
   "execution_count": 343,
   "id": "5b8fa031-01eb-4d4c-b481-00a649ab35a0",
   "metadata": {},
   "outputs": [
    {
     "data": {
      "text/plain": [
       "int"
      ]
     },
     "execution_count": 343,
     "metadata": {},
     "output_type": "execute_result"
    }
   ],
   "source": [
    "type(a+b)"
   ]
  },
  {
   "cell_type": "code",
   "execution_count": 344,
   "id": "ea7376a3-331c-4ff4-8a27-b40351035472",
   "metadata": {},
   "outputs": [],
   "source": [
    "c = 10.10"
   ]
  },
  {
   "cell_type": "code",
   "execution_count": 345,
   "id": "c529dfef-65a3-4edd-bbd7-f715cfb04410",
   "metadata": {},
   "outputs": [
    {
     "data": {
      "text/plain": [
       "float"
      ]
     },
     "execution_count": 345,
     "metadata": {},
     "output_type": "execute_result"
    }
   ],
   "source": [
    "type(c)"
   ]
  },
  {
   "cell_type": "code",
   "execution_count": 346,
   "id": "b4ed14ce-1b62-4d95-8f9a-041d7f65dd91",
   "metadata": {},
   "outputs": [
    {
     "data": {
      "text/plain": [
       "str"
      ]
     },
     "execution_count": 346,
     "metadata": {},
     "output_type": "execute_result"
    }
   ],
   "source": [
    "d = 'Anand Purushottam'\n",
    "type (d)"
   ]
  },
  {
   "cell_type": "code",
   "execution_count": 347,
   "id": "70373f05-4460-4174-93bd-6783cb200747",
   "metadata": {},
   "outputs": [
    {
     "data": {
      "text/plain": [
       "bool"
      ]
     },
     "execution_count": 347,
     "metadata": {},
     "output_type": "execute_result"
    }
   ],
   "source": [
    "e = True\n",
    "type (e)"
   ]
  },
  {
   "cell_type": "code",
   "execution_count": 348,
   "id": "6ea6489e-538a-4acf-8b8a-97b5bc4d04c5",
   "metadata": {},
   "outputs": [
    {
     "data": {
      "text/plain": [
       "bool"
      ]
     },
     "execution_count": 348,
     "metadata": {},
     "output_type": "execute_result"
    }
   ],
   "source": [
    "f = False\n",
    "type (f)"
   ]
  },
  {
   "cell_type": "code",
   "execution_count": 349,
   "id": "b68da823-4b49-46a0-9b80-f40c0b671bf2",
   "metadata": {},
   "outputs": [
    {
     "data": {
      "text/plain": [
       "1"
      ]
     },
     "execution_count": 349,
     "metadata": {},
     "output_type": "execute_result"
    }
   ],
   "source": [
    "e+f"
   ]
  },
  {
   "cell_type": "code",
   "execution_count": 350,
   "id": "26d53cff-ad11-4560-817e-d1d57dc92bb3",
   "metadata": {},
   "outputs": [
    {
     "data": {
      "text/plain": [
       "0"
      ]
     },
     "execution_count": 350,
     "metadata": {},
     "output_type": "execute_result"
    }
   ],
   "source": [
    "e*f"
   ]
  },
  {
   "cell_type": "code",
   "execution_count": 351,
   "id": "367e6d17-b274-4af6-bf3b-9e3f5e65e467",
   "metadata": {},
   "outputs": [
    {
     "data": {
      "text/plain": [
       "-1"
      ]
     },
     "execution_count": 351,
     "metadata": {},
     "output_type": "execute_result"
    }
   ],
   "source": [
    "e-f\n",
    "f-e"
   ]
  },
  {
   "cell_type": "code",
   "execution_count": 352,
   "id": "971543b8-d63b-4654-8be4-322bb6130678",
   "metadata": {},
   "outputs": [
    {
     "data": {
      "text/plain": [
       "1"
      ]
     },
     "execution_count": 352,
     "metadata": {},
     "output_type": "execute_result"
    }
   ],
   "source": [
    "e-f"
   ]
  },
  {
   "cell_type": "code",
   "execution_count": 353,
   "id": "256421c6-5f4e-4f80-9280-d48ba8414a1f",
   "metadata": {},
   "outputs": [
    {
     "data": {
      "text/plain": [
       "-1"
      ]
     },
     "execution_count": 353,
     "metadata": {},
     "output_type": "execute_result"
    }
   ],
   "source": [
    "f-e"
   ]
  },
  {
   "cell_type": "code",
   "execution_count": 354,
   "id": "9d1221be-f674-4508-b7fd-0e7e7956157f",
   "metadata": {},
   "outputs": [],
   "source": [
    "#e/f"
   ]
  },
  {
   "cell_type": "code",
   "execution_count": 355,
   "id": "31e4d93c-8128-4d1d-a9f8-708c81936546",
   "metadata": {},
   "outputs": [
    {
     "data": {
      "text/plain": [
       "0.0"
      ]
     },
     "execution_count": 355,
     "metadata": {},
     "output_type": "execute_result"
    }
   ],
   "source": [
    "f/e"
   ]
  },
  {
   "cell_type": "code",
   "execution_count": 356,
   "id": "3ed2b68d-de0f-42de-9089-2ebd99de4fe4",
   "metadata": {},
   "outputs": [],
   "source": [
    "#1/0"
   ]
  },
  {
   "cell_type": "code",
   "execution_count": 357,
   "id": "f3176e79-36f5-4c6b-852d-6533642c3072",
   "metadata": {},
   "outputs": [],
   "source": [
    "v = 1 + 2j"
   ]
  },
  {
   "cell_type": "code",
   "execution_count": 358,
   "id": "64720414-a67e-48bc-8c3c-0b29c028cf7b",
   "metadata": {},
   "outputs": [
    {
     "data": {
      "text/plain": [
       "complex"
      ]
     },
     "execution_count": 358,
     "metadata": {},
     "output_type": "execute_result"
    }
   ],
   "source": [
    "type(v)"
   ]
  },
  {
   "cell_type": "code",
   "execution_count": 359,
   "id": "675f11f9-2873-4886-adf1-50971528b750",
   "metadata": {},
   "outputs": [
    {
     "data": {
      "text/plain": [
       "2.0"
      ]
     },
     "execution_count": 359,
     "metadata": {},
     "output_type": "execute_result"
    }
   ],
   "source": [
    "v.imag"
   ]
  },
  {
   "cell_type": "code",
   "execution_count": 360,
   "id": "c5928970-4ffa-41c3-bb1a-edd4c75551b9",
   "metadata": {},
   "outputs": [
    {
     "data": {
      "text/plain": [
       "1.0"
      ]
     },
     "execution_count": 360,
     "metadata": {},
     "output_type": "execute_result"
    }
   ],
   "source": [
    "v.real"
   ]
  },
  {
   "cell_type": "code",
   "execution_count": 361,
   "id": "293cb55d-875c-4891-98f0-52edc81bc824",
   "metadata": {},
   "outputs": [
    {
     "name": "stdout",
     "output_type": "stream",
     "text": [
      "25\n"
     ]
    }
   ],
   "source": [
    "print(a)"
   ]
  },
  {
   "cell_type": "code",
   "execution_count": 362,
   "id": "76ce2047-ea9b-4823-a991-692cc9120d59",
   "metadata": {},
   "outputs": [
    {
     "name": "stdout",
     "output_type": "stream",
     "text": [
      "10\n"
     ]
    }
   ],
   "source": [
    "print(b)"
   ]
  },
  {
   "cell_type": "code",
   "execution_count": 363,
   "id": "d3992c10-e10b-4830-bf13-94a64efb5dc8",
   "metadata": {},
   "outputs": [
    {
     "name": "stdout",
     "output_type": "stream",
     "text": [
      "10.1\n"
     ]
    }
   ],
   "source": [
    "print(c)"
   ]
  },
  {
   "cell_type": "code",
   "execution_count": 364,
   "id": "da81c872-0cb7-427e-b383-a0d919ae2a65",
   "metadata": {
    "tags": []
   },
   "outputs": [],
   "source": [
    "s = \"pwskills\"\n",
    "#    01234567\n",
    "#   -8-7-6-5-4-3-2-1"
   ]
  },
  {
   "cell_type": "code",
   "execution_count": 365,
   "id": "6d97986e-ef68-42d0-ba04-c39a257f1830",
   "metadata": {},
   "outputs": [
    {
     "data": {
      "text/plain": [
       "str"
      ]
     },
     "execution_count": 365,
     "metadata": {},
     "output_type": "execute_result"
    }
   ],
   "source": [
    "type(s)"
   ]
  },
  {
   "cell_type": "code",
   "execution_count": 366,
   "id": "88608df3-420d-4dd1-b5fa-ee32754f6c35",
   "metadata": {},
   "outputs": [
    {
     "data": {
      "text/plain": [
       "'p'"
      ]
     },
     "execution_count": 366,
     "metadata": {},
     "output_type": "execute_result"
    }
   ],
   "source": [
    "s[0]"
   ]
  },
  {
   "cell_type": "code",
   "execution_count": 367,
   "id": "1b426687-5238-4330-86ab-a7780eff6013",
   "metadata": {},
   "outputs": [
    {
     "data": {
      "text/plain": [
       "'s'"
      ]
     },
     "execution_count": 367,
     "metadata": {},
     "output_type": "execute_result"
    }
   ],
   "source": [
    "s[2]"
   ]
  },
  {
   "cell_type": "code",
   "execution_count": 368,
   "id": "1e5e02f3-2008-4c38-9cec-5bedec2040f9",
   "metadata": {},
   "outputs": [
    {
     "data": {
      "text/plain": [
       "'s'"
      ]
     },
     "execution_count": 368,
     "metadata": {},
     "output_type": "execute_result"
    }
   ],
   "source": [
    "s[-1]"
   ]
  },
  {
   "cell_type": "code",
   "execution_count": 369,
   "id": "026fa91d-242e-45a1-b701-a9bb9748f992",
   "metadata": {},
   "outputs": [
    {
     "data": {
      "text/plain": [
       "'l'"
      ]
     },
     "execution_count": 369,
     "metadata": {},
     "output_type": "execute_result"
    }
   ],
   "source": [
    "s[-3]"
   ]
  },
  {
   "cell_type": "code",
   "execution_count": 370,
   "id": "0d471281-297f-4b21-87e8-4c7c415e921b",
   "metadata": {},
   "outputs": [
    {
     "data": {
      "text/plain": [
       "'i'"
      ]
     },
     "execution_count": 370,
     "metadata": {},
     "output_type": "execute_result"
    }
   ],
   "source": [
    "s[-4]"
   ]
  },
  {
   "cell_type": "code",
   "execution_count": 371,
   "id": "b822820d-2ce5-4e5d-9e58-8370d7bc2003",
   "metadata": {},
   "outputs": [
    {
     "data": {
      "text/plain": [
       "'pws'"
      ]
     },
     "execution_count": 371,
     "metadata": {},
     "output_type": "execute_result"
    }
   ],
   "source": [
    "s[0:3]"
   ]
  },
  {
   "cell_type": "code",
   "execution_count": 372,
   "id": "ce6c502a-1c4f-43fc-ac26-d3a7731d137d",
   "metadata": {},
   "outputs": [
    {
     "name": "stdout",
     "output_type": "stream",
     "text": [
      "pwskills\n"
     ]
    }
   ],
   "source": [
    "print(s)"
   ]
  },
  {
   "cell_type": "code",
   "execution_count": 373,
   "id": "768e7921-76ea-4d20-8859-ed453d44cf55",
   "metadata": {},
   "outputs": [
    {
     "data": {
      "text/plain": [
       "'pwsk'"
      ]
     },
     "execution_count": 373,
     "metadata": {},
     "output_type": "execute_result"
    }
   ],
   "source": [
    "s[0:4]"
   ]
  },
  {
   "cell_type": "code",
   "execution_count": 374,
   "id": "13253f92-3e06-4cf1-9917-adf75286e15c",
   "metadata": {},
   "outputs": [
    {
     "data": {
      "text/plain": [
       "'pw'"
      ]
     },
     "execution_count": 374,
     "metadata": {},
     "output_type": "execute_result"
    }
   ],
   "source": [
    "s[0:2]"
   ]
  },
  {
   "cell_type": "code",
   "execution_count": 375,
   "id": "06ae2599-5567-4ea3-be15-b87cdab048e1",
   "metadata": {},
   "outputs": [
    {
     "data": {
      "text/plain": [
       "'psil'"
      ]
     },
     "execution_count": 375,
     "metadata": {},
     "output_type": "execute_result"
    }
   ],
   "source": [
    "s[0:8:2]"
   ]
  },
  {
   "cell_type": "code",
   "execution_count": 376,
   "id": "33d09496-fb08-4068-a2a2-646be1e32448",
   "metadata": {},
   "outputs": [
    {
     "data": {
      "text/plain": [
       "'pwskills'"
      ]
     },
     "execution_count": 376,
     "metadata": {},
     "output_type": "execute_result"
    }
   ],
   "source": [
    "s[0:8:1]"
   ]
  },
  {
   "cell_type": "code",
   "execution_count": 377,
   "id": "a51772c1-01f3-4701-adef-88f0df8b20a5",
   "metadata": {},
   "outputs": [
    {
     "data": {
      "text/plain": [
       "'psil'"
      ]
     },
     "execution_count": 377,
     "metadata": {},
     "output_type": "execute_result"
    }
   ],
   "source": [
    "s[::2]"
   ]
  },
  {
   "cell_type": "code",
   "execution_count": 378,
   "id": "bed87344-deb6-4e5c-b1a4-2233bfa337ec",
   "metadata": {},
   "outputs": [
    {
     "data": {
      "text/plain": [
       "''"
      ]
     },
     "execution_count": 378,
     "metadata": {},
     "output_type": "execute_result"
    }
   ],
   "source": [
    "s[2:2]"
   ]
  },
  {
   "cell_type": "code",
   "execution_count": 379,
   "id": "3b8f234c-ca1a-477d-98d3-8153db5bc34e",
   "metadata": {},
   "outputs": [
    {
     "data": {
      "text/plain": [
       "'sil'"
      ]
     },
     "execution_count": 379,
     "metadata": {},
     "output_type": "execute_result"
    }
   ],
   "source": [
    "s[2::2]"
   ]
  },
  {
   "cell_type": "code",
   "execution_count": 380,
   "id": "36df4b9f-f3fe-40c4-8e15-60da6dc4f559",
   "metadata": {},
   "outputs": [
    {
     "data": {
      "text/plain": [
       "'sl'"
      ]
     },
     "execution_count": 380,
     "metadata": {},
     "output_type": "execute_result"
    }
   ],
   "source": [
    "s[2::3]"
   ]
  },
  {
   "cell_type": "code",
   "execution_count": 381,
   "id": "d858d97a-84df-4927-929c-09c5be13182f",
   "metadata": {},
   "outputs": [
    {
     "data": {
      "text/plain": [
       "'sllikswp'"
      ]
     },
     "execution_count": 381,
     "metadata": {},
     "output_type": "execute_result"
    }
   ],
   "source": [
    "s[::-1]"
   ]
  },
  {
   "cell_type": "code",
   "execution_count": 382,
   "id": "6794f5c3-c2a5-419f-bcf9-761f21dc464e",
   "metadata": {},
   "outputs": [
    {
     "data": {
      "text/plain": [
       "''"
      ]
     },
     "execution_count": 382,
     "metadata": {},
     "output_type": "execute_result"
    }
   ],
   "source": [
    "s[2:7:-1]"
   ]
  },
  {
   "cell_type": "code",
   "execution_count": 383,
   "id": "a7f0bd13-cf4f-4491-8e34-1ad7adc9ad80",
   "metadata": {},
   "outputs": [
    {
     "data": {
      "text/plain": [
       "''"
      ]
     },
     "execution_count": 383,
     "metadata": {},
     "output_type": "execute_result"
    }
   ],
   "source": [
    "s[8:0]"
   ]
  },
  {
   "cell_type": "code",
   "execution_count": 384,
   "id": "2d37d9af-f8d6-4eec-b1f1-2c073aec77ae",
   "metadata": {},
   "outputs": [
    {
     "data": {
      "text/plain": [
       "'slliksw'"
      ]
     },
     "execution_count": 384,
     "metadata": {},
     "output_type": "execute_result"
    }
   ],
   "source": [
    "s[8:0:-1]"
   ]
  },
  {
   "cell_type": "code",
   "execution_count": 385,
   "id": "4591df0a-bb7a-49f5-8c78-5d22c23b746b",
   "metadata": {},
   "outputs": [
    {
     "data": {
      "text/plain": [
       "'slliksw'"
      ]
     },
     "execution_count": 385,
     "metadata": {},
     "output_type": "execute_result"
    }
   ],
   "source": [
    "s[9:0:-1]"
   ]
  },
  {
   "cell_type": "code",
   "execution_count": 386,
   "id": "4e7aa37f-8c5d-49f4-8204-ea11ad2373e5",
   "metadata": {},
   "outputs": [
    {
     "data": {
      "text/plain": [
       "''"
      ]
     },
     "execution_count": 386,
     "metadata": {},
     "output_type": "execute_result"
    }
   ],
   "source": [
    "s[8:-1:-1]"
   ]
  },
  {
   "cell_type": "code",
   "execution_count": 387,
   "id": "a08b22ea-176c-4b30-ae6a-0acc11e40c54",
   "metadata": {},
   "outputs": [
    {
     "data": {
      "text/plain": [
       "'sllikswp'"
      ]
     },
     "execution_count": 387,
     "metadata": {},
     "output_type": "execute_result"
    }
   ],
   "source": [
    "s[8::-1]"
   ]
  },
  {
   "cell_type": "code",
   "execution_count": 388,
   "id": "7454fb9c-035d-4ffb-ac6b-3cb3b9671755",
   "metadata": {},
   "outputs": [
    {
     "data": {
      "text/plain": [
       "''"
      ]
     },
     "execution_count": 388,
     "metadata": {},
     "output_type": "execute_result"
    }
   ],
   "source": [
    "s[-2:-8:1]"
   ]
  },
  {
   "cell_type": "code",
   "execution_count": 389,
   "id": "96c9c5ee-7bee-4414-a310-70f982ea1e11",
   "metadata": {},
   "outputs": [
    {
     "data": {
      "text/plain": [
       "'lliksw'"
      ]
     },
     "execution_count": 389,
     "metadata": {},
     "output_type": "execute_result"
    }
   ],
   "source": [
    "s[-2:-8:-1]"
   ]
  },
  {
   "cell_type": "code",
   "execution_count": 390,
   "id": "719fa843-a0b1-4e43-9548-e8de781f8fa2",
   "metadata": {},
   "outputs": [
    {
     "data": {
      "text/plain": [
       "'sllikswp'"
      ]
     },
     "execution_count": 390,
     "metadata": {},
     "output_type": "execute_result"
    }
   ],
   "source": [
    "s[::-1]"
   ]
  },
  {
   "cell_type": "code",
   "execution_count": 391,
   "id": "ec11543e-0939-4ac2-a905-7f6b10a52d3a",
   "metadata": {},
   "outputs": [
    {
     "data": {
      "text/plain": [
       "'pwskills'"
      ]
     },
     "execution_count": 391,
     "metadata": {},
     "output_type": "execute_result"
    }
   ],
   "source": [
    "s[::]"
   ]
  },
  {
   "cell_type": "code",
   "execution_count": 392,
   "id": "5525f457-0005-4c79-a4f7-ad21ed2645cf",
   "metadata": {},
   "outputs": [
    {
     "data": {
      "text/plain": [
       "''"
      ]
     },
     "execution_count": 392,
     "metadata": {},
     "output_type": "execute_result"
    }
   ],
   "source": [
    "s[:-90:]"
   ]
  },
  {
   "cell_type": "code",
   "execution_count": 393,
   "id": "4b3ebdb0-e6de-4c18-8b65-306ffdc7596b",
   "metadata": {},
   "outputs": [],
   "source": [
    "#s[90]"
   ]
  },
  {
   "cell_type": "code",
   "execution_count": 394,
   "id": "7936a931-d267-4d58-9b0a-725f62db0518",
   "metadata": {},
   "outputs": [
    {
     "data": {
      "text/plain": [
       "'sllikswp'"
      ]
     },
     "execution_count": 394,
     "metadata": {},
     "output_type": "execute_result"
    }
   ],
   "source": [
    "s[:-90:-1]"
   ]
  },
  {
   "cell_type": "code",
   "execution_count": 395,
   "id": "59cbd068-644b-459e-af67-8b345bd8d1ea",
   "metadata": {},
   "outputs": [],
   "source": [
    "c = 200023"
   ]
  },
  {
   "cell_type": "code",
   "execution_count": 396,
   "id": "d5d5bccb-21b0-41dd-b513-3b9bb4aa7331",
   "metadata": {},
   "outputs": [],
   "source": [
    "d = str(c)"
   ]
  },
  {
   "cell_type": "code",
   "execution_count": 397,
   "id": "89e89711-b123-411a-bc03-fb7f3703db6d",
   "metadata": {},
   "outputs": [],
   "source": [
    "#c[::]"
   ]
  },
  {
   "cell_type": "code",
   "execution_count": 398,
   "id": "c33ba92a-1e79-4060-8789-34f90992db9b",
   "metadata": {},
   "outputs": [
    {
     "data": {
      "text/plain": [
       "'200023'"
      ]
     },
     "execution_count": 398,
     "metadata": {},
     "output_type": "execute_result"
    }
   ],
   "source": [
    "d[::]"
   ]
  },
  {
   "cell_type": "code",
   "execution_count": 399,
   "id": "c2e496fc-b620-4f67-b0d4-276c75bf7ab1",
   "metadata": {},
   "outputs": [
    {
     "data": {
      "text/plain": [
       "'2'"
      ]
     },
     "execution_count": 399,
     "metadata": {},
     "output_type": "execute_result"
    }
   ],
   "source": [
    "d[0::-1]"
   ]
  },
  {
   "cell_type": "code",
   "execution_count": 400,
   "id": "87aa3fad-7b8b-4ed9-80a8-beb1656a7d7f",
   "metadata": {},
   "outputs": [
    {
     "data": {
      "text/plain": [
       "'320002'"
      ]
     },
     "execution_count": 400,
     "metadata": {},
     "output_type": "execute_result"
    }
   ],
   "source": [
    "d[::-1]"
   ]
  },
  {
   "cell_type": "code",
   "execution_count": 401,
   "id": "a194e87f-7e7d-4b7d-a986-cc431382b2ae",
   "metadata": {},
   "outputs": [],
   "source": [
    "s1 = \"this is my string class\""
   ]
  },
  {
   "cell_type": "code",
   "execution_count": 402,
   "id": "ceceef5f-300b-4926-9b7e-7e1c60de6778",
   "metadata": {},
   "outputs": [
    {
     "data": {
      "text/plain": [
       "23"
      ]
     },
     "execution_count": 402,
     "metadata": {},
     "output_type": "execute_result"
    }
   ],
   "source": [
    "len(s1)"
   ]
  },
  {
   "cell_type": "code",
   "execution_count": 403,
   "id": "dad74438-790f-4f65-9cba-41d3f40400d0",
   "metadata": {},
   "outputs": [
    {
     "data": {
      "text/plain": [
       "-1"
      ]
     },
     "execution_count": 403,
     "metadata": {},
     "output_type": "execute_result"
    }
   ],
   "source": [
    "s1.find(s)"
   ]
  },
  {
   "cell_type": "code",
   "execution_count": 404,
   "id": "b653d77f-94bd-46b4-9ec7-3ce5fbbf5a2d",
   "metadata": {},
   "outputs": [
    {
     "data": {
      "text/plain": [
       "3"
      ]
     },
     "execution_count": 404,
     "metadata": {},
     "output_type": "execute_result"
    }
   ],
   "source": [
    "s1.find('s')"
   ]
  },
  {
   "cell_type": "code",
   "execution_count": 405,
   "id": "3a06e2f5-1045-4386-a408-102efa2018e7",
   "metadata": {},
   "outputs": [
    {
     "data": {
      "text/plain": [
       "2"
      ]
     },
     "execution_count": 405,
     "metadata": {},
     "output_type": "execute_result"
    }
   ],
   "source": [
    "s1.find('is')"
   ]
  },
  {
   "cell_type": "code",
   "execution_count": 406,
   "id": "81346d82-acf2-49ef-a58c-af210db4782d",
   "metadata": {},
   "outputs": [
    {
     "data": {
      "text/plain": [
       "-1"
      ]
     },
     "execution_count": 406,
     "metadata": {},
     "output_type": "execute_result"
    }
   ],
   "source": [
    "s1.find('iS')"
   ]
  },
  {
   "cell_type": "code",
   "execution_count": 407,
   "id": "84fd6339-3759-4a5c-9d46-4d435c10f1c3",
   "metadata": {},
   "outputs": [
    {
     "data": {
      "text/plain": [
       "'This is my string class'"
      ]
     },
     "execution_count": 407,
     "metadata": {},
     "output_type": "execute_result"
    }
   ],
   "source": [
    "s1.capitalize()"
   ]
  },
  {
   "cell_type": "code",
   "execution_count": 408,
   "id": "678cd1eb-1b0a-4cb0-be17-899c3e48f2ca",
   "metadata": {},
   "outputs": [
    {
     "data": {
      "text/plain": [
       "5"
      ]
     },
     "execution_count": 408,
     "metadata": {},
     "output_type": "execute_result"
    }
   ],
   "source": [
    "s1.count('s')"
   ]
  },
  {
   "cell_type": "code",
   "execution_count": 409,
   "id": "52470967-422d-48f2-b065-198700bd1d1e",
   "metadata": {},
   "outputs": [
    {
     "data": {
      "text/plain": [
       "2"
      ]
     },
     "execution_count": 409,
     "metadata": {},
     "output_type": "execute_result"
    }
   ],
   "source": [
    "s1.index('is')"
   ]
  },
  {
   "cell_type": "code",
   "execution_count": 410,
   "id": "e863d76e-45d7-4da5-8480-137cdcfd30a2",
   "metadata": {},
   "outputs": [
    {
     "data": {
      "text/plain": [
       "'This is my string class'"
      ]
     },
     "execution_count": 410,
     "metadata": {},
     "output_type": "execute_result"
    }
   ],
   "source": [
    "s1.capitalize()"
   ]
  },
  {
   "cell_type": "code",
   "execution_count": 411,
   "id": "69e5f54e-8ecb-4b71-aa08-9f3cebba188c",
   "metadata": {},
   "outputs": [
    {
     "data": {
      "text/plain": [
       "False"
      ]
     },
     "execution_count": 411,
     "metadata": {},
     "output_type": "execute_result"
    }
   ],
   "source": [
    "s1.isupper()"
   ]
  },
  {
   "cell_type": "code",
   "execution_count": 412,
   "id": "2b301b7f-c690-4030-93a3-caa5da4e26e2",
   "metadata": {},
   "outputs": [
    {
     "name": "stdout",
     "output_type": "stream",
     "text": [
      "THIS IS MY STRING CLASS\n"
     ]
    }
   ],
   "source": [
    "s2 = s1.upper()\n",
    "print(s2)"
   ]
  },
  {
   "cell_type": "code",
   "execution_count": 413,
   "id": "bb8ca7dd-d291-40d0-9154-d911a90714a1",
   "metadata": {},
   "outputs": [
    {
     "data": {
      "text/plain": [
       "True"
      ]
     },
     "execution_count": 413,
     "metadata": {},
     "output_type": "execute_result"
    }
   ],
   "source": [
    "s2.isupper()"
   ]
  },
  {
   "cell_type": "code",
   "execution_count": 414,
   "id": "c79e3aca-86b5-4ee7-98fc-10bc48e05616",
   "metadata": {},
   "outputs": [
    {
     "data": {
      "text/plain": [
       "'This Is My String Class'"
      ]
     },
     "execution_count": 414,
     "metadata": {},
     "output_type": "execute_result"
    }
   ],
   "source": [
    "s1.title()"
   ]
  },
  {
   "cell_type": "code",
   "execution_count": 415,
   "id": "6f00cb3a-72a8-4603-ad51-cf2199925c9c",
   "metadata": {},
   "outputs": [
    {
     "data": {
      "text/plain": [
       "'pwskills'"
      ]
     },
     "execution_count": 415,
     "metadata": {},
     "output_type": "execute_result"
    }
   ],
   "source": [
    "s"
   ]
  },
  {
   "cell_type": "code",
   "execution_count": 416,
   "id": "dd629f1e-b206-44c4-92be-31cc3cfee79d",
   "metadata": {},
   "outputs": [],
   "source": [
    "#s + 1"
   ]
  },
  {
   "cell_type": "code",
   "execution_count": 417,
   "id": "43edd03b-6c3a-4aca-a052-4c17e40448cf",
   "metadata": {},
   "outputs": [
    {
     "data": {
      "text/plain": [
       "'pwskills puru'"
      ]
     },
     "execution_count": 417,
     "metadata": {},
     "output_type": "execute_result"
    }
   ],
   "source": [
    "s + \" puru\""
   ]
  },
  {
   "cell_type": "code",
   "execution_count": 418,
   "id": "5bcfb979-2790-49be-a751-61297f0887b4",
   "metadata": {},
   "outputs": [
    {
     "data": {
      "text/plain": [
       "'pwskills 1'"
      ]
     },
     "execution_count": 418,
     "metadata": {},
     "output_type": "execute_result"
    }
   ],
   "source": [
    "s + ' 1'"
   ]
  },
  {
   "cell_type": "code",
   "execution_count": 419,
   "id": "7f23623b-4d16-402a-93af-e785ebf4e1ef",
   "metadata": {},
   "outputs": [
    {
     "data": {
      "text/plain": [
       "'pwskills 1'"
      ]
     },
     "execution_count": 419,
     "metadata": {},
     "output_type": "execute_result"
    }
   ],
   "source": [
    "s + ' ' + str(1)"
   ]
  },
  {
   "cell_type": "code",
   "execution_count": 420,
   "id": "1381bedd-a5cc-430f-a623-a9fe4163b199",
   "metadata": {},
   "outputs": [
    {
     "data": {
      "text/plain": [
       "'pwskillspwskillspwskills'"
      ]
     },
     "execution_count": 420,
     "metadata": {},
     "output_type": "execute_result"
    }
   ],
   "source": [
    "s * 3"
   ]
  },
  {
   "cell_type": "code",
   "execution_count": 421,
   "id": "c4f99dfd-7a84-4930-8428-9033620c1bb6",
   "metadata": {},
   "outputs": [
    {
     "data": {
      "text/plain": [
       "'purupurupurupurupuru'"
      ]
     },
     "execution_count": 421,
     "metadata": {},
     "output_type": "execute_result"
    }
   ],
   "source": [
    "'puru' * 5"
   ]
  },
  {
   "cell_type": "code",
   "execution_count": 422,
   "id": "6de54b6c-aaba-47aa-9b85-cf74c1591cca",
   "metadata": {},
   "outputs": [],
   "source": [
    "#puru/4"
   ]
  },
  {
   "cell_type": "code",
   "execution_count": 423,
   "id": "a179f7a0-2f4b-467f-b745-f1263a64f9f2",
   "metadata": {},
   "outputs": [],
   "source": [
    "#'puru'/4"
   ]
  },
  {
   "cell_type": "code",
   "execution_count": 424,
   "id": "3f1433dd-2a2e-4cb5-a6eb-747f2a068512",
   "metadata": {},
   "outputs": [],
   "source": [
    "#'don't do copy and paste in my class'"
   ]
  },
  {
   "cell_type": "code",
   "execution_count": 425,
   "id": "9f33a10a-c09d-4f37-91bf-fbae343cf8d4",
   "metadata": {},
   "outputs": [
    {
     "data": {
      "text/plain": [
       "\"don't do copy and paste in my class\""
      ]
     },
     "execution_count": 425,
     "metadata": {},
     "output_type": "execute_result"
    }
   ],
   "source": [
    "\"don't do copy and paste in my class\""
   ]
  },
  {
   "cell_type": "code",
   "execution_count": 426,
   "id": "bfd443f4-0501-4184-9a21-3d3e2b95aaca",
   "metadata": {},
   "outputs": [],
   "source": [
    "# It is used for comments"
   ]
  },
  {
   "cell_type": "code",
   "execution_count": 427,
   "id": "e14d450e-674d-4d4b-af2a-f8ae52437120",
   "metadata": {},
   "outputs": [],
   "source": [
    "## It is comment section"
   ]
  },
  {
   "cell_type": "code",
   "execution_count": 428,
   "id": "8cce938c-f14b-4e85-9c48-e8244a16d729",
   "metadata": {},
   "outputs": [
    {
     "data": {
      "text/plain": [
       "' This is my first class of programming. I have learnt variable declaration, data types, string, integer, boolean, complex nos.\\nI have seen some example of string slicing and indexing\\nI have gone through some of the string inbuilt function\\nApart from that I am also trying to practice in my laptop '"
      ]
     },
     "execution_count": 428,
     "metadata": {},
     "output_type": "execute_result"
    }
   ],
   "source": [
    "# Now I am using comment for more than 1 line\n",
    "\n",
    "''' This is my first class of programming. I have learnt variable declaration, data types, string, integer, boolean, complex nos.\n",
    "I have seen some example of string slicing and indexing\n",
    "I have gone through some of the string inbuilt function\n",
    "Apart from that I am also trying to practice in my laptop '''\n",
    "\n",
    "# Select all and then press Ctrl+/ to automatically enter '#' for every single line"
   ]
  },
  {
   "cell_type": "code",
   "execution_count": 429,
   "id": "9de3c5b7-2bfa-4a51-a651-a27080712fd4",
   "metadata": {},
   "outputs": [
    {
     "data": {
      "text/plain": [
       "25"
      ]
     },
     "execution_count": 429,
     "metadata": {},
     "output_type": "execute_result"
    }
   ],
   "source": [
    "a"
   ]
  },
  {
   "cell_type": "code",
   "execution_count": 430,
   "id": "d2fafabe-7209-43f4-a763-c8388c496578",
   "metadata": {},
   "outputs": [
    {
     "data": {
      "text/plain": [
       "10"
      ]
     },
     "execution_count": 430,
     "metadata": {},
     "output_type": "execute_result"
    }
   ],
   "source": [
    "b"
   ]
  },
  {
   "cell_type": "code",
   "execution_count": 431,
   "id": "af801bc5-af6a-484d-8435-c2f9b12f4335",
   "metadata": {},
   "outputs": [
    {
     "data": {
      "text/plain": [
       "200023"
      ]
     },
     "execution_count": 431,
     "metadata": {},
     "output_type": "execute_result"
    }
   ],
   "source": [
    "c"
   ]
  },
  {
   "cell_type": "code",
   "execution_count": 432,
   "id": "0e0b10cc-4f85-43b3-baa5-03064737b527",
   "metadata": {},
   "outputs": [
    {
     "data": {
      "text/plain": [
       "'200023'"
      ]
     },
     "execution_count": 432,
     "metadata": {},
     "output_type": "execute_result"
    }
   ],
   "source": [
    "d"
   ]
  },
  {
   "cell_type": "code",
   "execution_count": 433,
   "id": "08b300b3-6cdc-42f6-9abe-38c5d7bd46f7",
   "metadata": {},
   "outputs": [
    {
     "data": {
      "text/plain": [
       "True"
      ]
     },
     "execution_count": 433,
     "metadata": {},
     "output_type": "execute_result"
    }
   ],
   "source": [
    "e"
   ]
  },
  {
   "cell_type": "code",
   "execution_count": 434,
   "id": "3f619bce-14b4-4c97-b0d6-d255da17b1a2",
   "metadata": {},
   "outputs": [
    {
     "data": {
      "text/plain": [
       "False"
      ]
     },
     "execution_count": 434,
     "metadata": {},
     "output_type": "execute_result"
    }
   ],
   "source": [
    "f"
   ]
  },
  {
   "cell_type": "code",
   "execution_count": 435,
   "id": "5978807e-e847-42b4-8029-b7a6567af71a",
   "metadata": {},
   "outputs": [
    {
     "data": {
      "text/plain": [
       "'pwskills'"
      ]
     },
     "execution_count": 435,
     "metadata": {},
     "output_type": "execute_result"
    }
   ],
   "source": [
    "s"
   ]
  },
  {
   "cell_type": "code",
   "execution_count": 436,
   "id": "17b958d9-50dc-4f08-add3-15dc035778fb",
   "metadata": {},
   "outputs": [
    {
     "data": {
      "text/plain": [
       "'this is my string class'"
      ]
     },
     "execution_count": 436,
     "metadata": {},
     "output_type": "execute_result"
    }
   ],
   "source": [
    "s1"
   ]
  },
  {
   "cell_type": "code",
   "execution_count": 437,
   "id": "eef3e902-4755-4767-a7d5-9f0c386f8871",
   "metadata": {},
   "outputs": [
    {
     "data": {
      "text/plain": [
       "str"
      ]
     },
     "execution_count": 437,
     "metadata": {},
     "output_type": "execute_result"
    }
   ],
   "source": [
    "type(s)"
   ]
  },
  {
   "cell_type": "code",
   "execution_count": 438,
   "id": "4cba87a1-bedd-47a6-a791-c5cfc557ca71",
   "metadata": {},
   "outputs": [],
   "source": [
    "#type(s,s1,s2)"
   ]
  },
  {
   "cell_type": "code",
   "execution_count": 439,
   "id": "7065ce82-f70a-4079-b9e1-4cd485bf4446",
   "metadata": {},
   "outputs": [
    {
     "data": {
      "text/plain": [
       "'THIS IS MY STRING CLASS'"
      ]
     },
     "execution_count": 439,
     "metadata": {},
     "output_type": "execute_result"
    }
   ],
   "source": [
    "s2"
   ]
  },
  {
   "cell_type": "code",
   "execution_count": null,
   "id": "361fdf40-4368-4362-b4be-fb730ea5a398",
   "metadata": {},
   "outputs": [],
   "source": []
  }
 ],
 "metadata": {
  "kernelspec": {
   "display_name": "Python 3 (ipykernel)",
   "language": "python",
   "name": "python3"
  },
  "language_info": {
   "codemirror_mode": {
    "name": "ipython",
    "version": 3
   },
   "file_extension": ".py",
   "mimetype": "text/x-python",
   "name": "python",
   "nbconvert_exporter": "python",
   "pygments_lexer": "ipython3",
   "version": "3.11.3"
  }
 },
 "nbformat": 4,
 "nbformat_minor": 5
}
