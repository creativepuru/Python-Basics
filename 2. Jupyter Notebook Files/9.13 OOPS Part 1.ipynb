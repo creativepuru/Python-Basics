{
 "cells": [
  {
   "attachments": {},
   "cell_type": "markdown",
   "metadata": {},
   "source": [
    "# OOPS - OBJECT ORIENTED PROGRAMMING SYSTEMS"
   ]
  },
  {
   "cell_type": "code",
   "execution_count": 1,
   "metadata": {
    "ExecuteTime": {
     "start_time": "2023-04-25T01:52:35.984092Z",
     "end_time": "2023-04-25T01:52:35.986899Z"
    },
    "collapsed": true
   },
   "outputs": [
    {
     "name": "stdout",
     "output_type": "stream",
     "text": [
      "Push from VS Code\n"
     ]
    }
   ],
   "source": [
    "print(\"Push from VS Code\")"
   ]
  },
  {
   "cell_type": "code",
   "execution_count": 2,
   "metadata": {
    "ExecuteTime": {
     "start_time": "2023-04-25T01:52:35.986899Z",
     "end_time": "2023-04-25T01:52:36.111905Z"
    }
   },
   "outputs": [],
   "source": [
    "a = 1"
   ]
  },
  {
   "cell_type": "code",
   "execution_count": 3,
   "metadata": {
    "ExecuteTime": {
     "start_time": "2023-04-25T01:52:36.033779Z",
     "end_time": "2023-04-25T01:52:36.143157Z"
    }
   },
   "outputs": [
    {
     "data": {
      "text/plain": "int"
     },
     "execution_count": 3,
     "metadata": {},
     "output_type": "execute_result"
    }
   ],
   "source": [
    "type(a)"
   ]
  },
  {
   "cell_type": "code",
   "execution_count": 4,
   "metadata": {
    "ExecuteTime": {
     "start_time": "2023-04-25T01:52:36.111905Z",
     "end_time": "2023-04-25T01:52:36.143157Z"
    }
   },
   "outputs": [
    {
     "name": "stdout",
     "output_type": "stream",
     "text": [
      "<class 'int'>\n"
     ]
    }
   ],
   "source": [
    "print(type(a))"
   ]
  },
  {
   "cell_type": "code",
   "execution_count": 5,
   "metadata": {
    "ExecuteTime": {
     "start_time": "2023-04-25T01:52:36.143157Z",
     "end_time": "2023-04-25T01:52:36.315029Z"
    }
   },
   "outputs": [],
   "source": [
    "b = \"puru\""
   ]
  },
  {
   "cell_type": "code",
   "execution_count": 6,
   "metadata": {
    "ExecuteTime": {
     "start_time": "2023-04-25T01:52:36.174405Z",
     "end_time": "2023-04-25T01:52:36.346278Z"
    }
   },
   "outputs": [
    {
     "name": "stdout",
     "output_type": "stream",
     "text": [
      "<class 'str'>\n"
     ]
    }
   ],
   "source": [
    "print(type(b))"
   ]
  },
  {
   "cell_type": "code",
   "execution_count": 7,
   "metadata": {
    "ExecuteTime": {
     "start_time": "2023-04-25T01:52:36.205658Z",
     "end_time": "2023-04-25T01:52:36.346278Z"
    }
   },
   "outputs": [
    {
     "name": "stdout",
     "output_type": "stream",
     "text": [
      "<class 'str'>\n"
     ]
    }
   ],
   "source": [
    "print(type(\"purushottam\"))"
   ]
  },
  {
   "cell_type": "code",
   "execution_count": 8,
   "metadata": {
    "ExecuteTime": {
     "start_time": "2023-04-25T01:52:36.236904Z",
     "end_time": "2023-04-25T01:52:36.346278Z"
    }
   },
   "outputs": [
    {
     "data": {
      "text/plain": "\" Error : can not create empty class. To create empty class, we need to add the parameter 'pass'\\nCell In[9], line 1\\n    class test :\\n                ^\\nSyntaxError: incomplete input \""
     },
     "execution_count": 8,
     "metadata": {},
     "output_type": "execute_result"
    }
   ],
   "source": [
    "# class test :\n",
    "\n",
    "''' Error : can not create empty class. To create empty class, we need to add the parameter 'pass'\n",
    "Cell In[9], line 1\n",
    "    class test :\n",
    "                ^\n",
    "SyntaxError: incomplete input '''"
   ]
  },
  {
   "cell_type": "code",
   "execution_count": 9,
   "metadata": {
    "ExecuteTime": {
     "start_time": "2023-04-25T01:52:36.268154Z",
     "end_time": "2023-04-25T01:52:36.346278Z"
    }
   },
   "outputs": [
    {
     "data": {
      "text/plain": "\"shortcut to show row numbers in VS Code --> select the cell and type 'cl' to show row numbers\\ntype 'ro' to collapse the output \""
     },
     "execution_count": 9,
     "metadata": {},
     "output_type": "execute_result"
    }
   ],
   "source": [
    "'''shortcut to show row numbers in VS Code --> select the cell and type 'cl' to show row numbers\n",
    "type 'ro' to collapse the output '''"
   ]
  },
  {
   "attachments": {},
   "cell_type": "markdown",
   "metadata": {},
   "source": [
    "Creating a class"
   ]
  },
  {
   "cell_type": "code",
   "execution_count": 10,
   "metadata": {
    "ExecuteTime": {
     "start_time": "2023-04-25T01:52:36.299409Z",
     "end_time": "2023-04-25T01:52:36.346278Z"
    }
   },
   "outputs": [],
   "source": [
    "class test :\n",
    "    pass"
   ]
  },
  {
   "attachments": {},
   "cell_type": "markdown",
   "metadata": {},
   "source": [
    "Creating object (variable) of the class"
   ]
  },
  {
   "cell_type": "code",
   "execution_count": 11,
   "metadata": {
    "ExecuteTime": {
     "start_time": "2023-04-25T01:52:36.330654Z",
     "end_time": "2023-04-25T01:52:36.580659Z"
    }
   },
   "outputs": [],
   "source": [
    "a = test()"
   ]
  },
  {
   "cell_type": "code",
   "execution_count": 12,
   "metadata": {
    "ExecuteTime": {
     "start_time": "2023-04-25T01:52:36.377529Z",
     "end_time": "2023-04-25T01:52:36.627532Z"
    }
   },
   "outputs": [
    {
     "data": {
      "text/plain": "__main__.test"
     },
     "execution_count": 12,
     "metadata": {},
     "output_type": "execute_result"
    }
   ],
   "source": [
    "type(a)"
   ]
  },
  {
   "cell_type": "code",
   "execution_count": 13,
   "metadata": {
    "ExecuteTime": {
     "start_time": "2023-04-25T01:52:36.440031Z",
     "end_time": "2023-04-25T01:52:36.627532Z"
    }
   },
   "outputs": [
    {
     "name": "stdout",
     "output_type": "stream",
     "text": [
      "<class '__main__.test'>\n"
     ]
    }
   ],
   "source": [
    "print(type(a))"
   ]
  },
  {
   "cell_type": "code",
   "execution_count": 14,
   "metadata": {
    "ExecuteTime": {
     "start_time": "2023-04-25T01:52:36.518161Z",
     "end_time": "2023-04-25T01:52:36.627532Z"
    }
   },
   "outputs": [],
   "source": [
    "class pwskills :\n",
    "    \n",
    "    def welcome_msg() :\n",
    "        print(\"Welcome to PWSKILLS\")"
   ]
  },
  {
   "cell_type": "code",
   "execution_count": 15,
   "metadata": {
    "ExecuteTime": {
     "start_time": "2023-04-25T01:52:36.565029Z",
     "end_time": "2023-04-25T01:52:36.627532Z"
    }
   },
   "outputs": [],
   "source": [
    "anand = pwskills()"
   ]
  },
  {
   "cell_type": "code",
   "execution_count": 16,
   "metadata": {
    "ExecuteTime": {
     "start_time": "2023-04-25T01:52:36.611905Z",
     "end_time": "2023-04-25T01:52:36.799409Z"
    }
   },
   "outputs": [
    {
     "name": "stdout",
     "output_type": "stream",
     "text": [
      "<class '__main__.pwskills'>\n"
     ]
    }
   ],
   "source": [
    "print(type(anand))"
   ]
  },
  {
   "cell_type": "code",
   "execution_count": 17,
   "metadata": {
    "ExecuteTime": {
     "start_time": "2023-04-25T01:52:36.674411Z",
     "end_time": "2023-04-25T01:52:36.799409Z"
    }
   },
   "outputs": [
    {
     "data": {
      "text/plain": "' ---------------------------------------------------------------------------\\nTypeError                                 Traceback (most recent call last)\\nCell In[18], line 1\\n----> 1 anand.welcome_msg()\\n\\nTypeError: pwskills.welcome_msg() takes 0 positional arguments but 1 was given '"
     },
     "execution_count": 17,
     "metadata": {},
     "output_type": "execute_result"
    }
   ],
   "source": [
    "# anand.welcome_msg()\n",
    "''' ---------------------------------------------------------------------------\n",
    "TypeError                                 Traceback (most recent call last)\n",
    "Cell In[18], line 1\n",
    "----> 1 anand.welcome_msg()\n",
    "\n",
    "TypeError: pwskills.welcome_msg() takes 0 positional arguments but 1 was given '''"
   ]
  },
  {
   "cell_type": "code",
   "execution_count": 18,
   "outputs": [],
   "source": [
    "class pwskills :\n",
    "\n",
    "    def welcome_msg(self) :\n",
    "        print(\"Welcome to PWSKILLS\")"
   ],
   "metadata": {
    "collapsed": false,
    "ExecuteTime": {
     "start_time": "2023-04-25T01:52:36.736907Z",
     "end_time": "2023-04-25T01:52:36.799409Z"
    }
   }
  },
  {
   "cell_type": "code",
   "execution_count": 19,
   "outputs": [],
   "source": [
    "anand = pwskills()"
   ],
   "metadata": {
    "collapsed": false,
    "ExecuteTime": {
     "start_time": "2023-04-25T01:52:36.768153Z",
     "end_time": "2023-04-25T01:52:36.799409Z"
    }
   }
  },
  {
   "cell_type": "code",
   "execution_count": 20,
   "outputs": [
    {
     "name": "stdout",
     "output_type": "stream",
     "text": [
      "Welcome to PWSKILLS\n"
     ]
    }
   ],
   "source": [
    "anand.welcome_msg()"
   ],
   "metadata": {
    "collapsed": false,
    "ExecuteTime": {
     "start_time": "2023-04-25T01:52:36.815034Z",
     "end_time": "2023-04-25T01:52:37.065029Z"
    }
   }
  },
  {
   "cell_type": "code",
   "execution_count": 21,
   "outputs": [],
   "source": [
    "puru = pwskills()"
   ],
   "metadata": {
    "collapsed": false,
    "ExecuteTime": {
     "start_time": "2023-04-25T01:52:36.893156Z",
     "end_time": "2023-04-25T01:52:37.080657Z"
    }
   }
  },
  {
   "cell_type": "code",
   "execution_count": 22,
   "outputs": [
    {
     "name": "stdout",
     "output_type": "stream",
     "text": [
      "Welcome to PWSKILLS\n"
     ]
    }
   ],
   "source": [
    "puru.welcome_msg()"
   ],
   "metadata": {
    "collapsed": false,
    "ExecuteTime": {
     "start_time": "2023-04-25T01:52:36.955657Z",
     "end_time": "2023-04-25T01:52:37.080657Z"
    }
   }
  },
  {
   "cell_type": "code",
   "execution_count": 28,
   "outputs": [],
   "source": [
    "class pwskills1 :\n",
    "\n",
    "    def __init__(self, phone_number, email_id, student_id) :\n",
    "        \"\"\"This class will take data(input) from the user\"\"\"\n",
    "\n",
    "        # Variable name   =  Data\n",
    "        self.phone_number = phone_number\n",
    "        self.email_id = email_id\n",
    "        self.student_id = student_id\n",
    "\n",
    "    def return_student_details(self) :\n",
    "        \"\"\"This class will return all the inputs taken from user\"\"\"\n",
    "\n",
    "        return self.student_id, self.email_id, self.phone_number"
   ],
   "metadata": {
    "collapsed": false,
    "ExecuteTime": {
     "start_time": "2023-04-25T01:57:54.176154Z",
     "end_time": "2023-04-25T01:57:54.191773Z"
    }
   }
  },
  {
   "cell_type": "code",
   "execution_count": 29,
   "outputs": [],
   "source": [
    "anand = pwskills1(123456789, \"anand@gmail.com\", 101)"
   ],
   "metadata": {
    "collapsed": false,
    "ExecuteTime": {
     "start_time": "2023-04-25T01:57:56.025865Z",
     "end_time": "2023-04-25T01:57:56.057109Z"
    }
   }
  },
  {
   "cell_type": "code",
   "execution_count": 30,
   "outputs": [
    {
     "data": {
      "text/plain": "(101, 'anand@gmail.com', 123456789)"
     },
     "execution_count": 30,
     "metadata": {},
     "output_type": "execute_result"
    }
   ],
   "source": [
    "anand.return_student_details()"
   ],
   "metadata": {
    "collapsed": false,
    "ExecuteTime": {
     "start_time": "2023-04-25T01:58:31.028977Z",
     "end_time": "2023-04-25T01:58:31.060249Z"
    }
   }
  },
  {
   "cell_type": "code",
   "execution_count": 31,
   "outputs": [],
   "source": [
    "rohan = pwskills1(21351561, \"rohan@gmail.com\", 102)"
   ],
   "metadata": {
    "collapsed": false,
    "ExecuteTime": {
     "start_time": "2023-04-25T01:58:58.981839Z",
     "end_time": "2023-04-25T01:58:59.044341Z"
    }
   }
  },
  {
   "cell_type": "code",
   "execution_count": 32,
   "outputs": [
    {
     "data": {
      "text/plain": "(102, 'rohan@gmail.com', 21351561)"
     },
     "execution_count": 32,
     "metadata": {},
     "output_type": "execute_result"
    }
   ],
   "source": [
    "rohan.return_student_details()"
   ],
   "metadata": {
    "collapsed": false,
    "ExecuteTime": {
     "start_time": "2023-04-25T01:59:04.352184Z",
     "end_time": "2023-04-25T01:59:04.407759Z"
    }
   }
  },
  {
   "cell_type": "code",
   "execution_count": 33,
   "outputs": [
    {
     "data": {
      "text/plain": "102"
     },
     "execution_count": 33,
     "metadata": {},
     "output_type": "execute_result"
    }
   ],
   "source": [
    "rohan.student_id"
   ],
   "metadata": {
    "collapsed": false,
    "ExecuteTime": {
     "start_time": "2023-04-25T01:59:10.354552Z",
     "end_time": "2023-04-25T01:59:10.417052Z"
    }
   }
  },
  {
   "cell_type": "code",
   "execution_count": 34,
   "outputs": [
    {
     "data": {
      "text/plain": "21351561"
     },
     "execution_count": 34,
     "metadata": {},
     "output_type": "execute_result"
    }
   ],
   "source": [
    "rohan.phone_number"
   ],
   "metadata": {
    "collapsed": false,
    "ExecuteTime": {
     "start_time": "2023-04-25T01:59:15.959730Z",
     "end_time": "2023-04-25T01:59:16.053481Z"
    }
   }
  },
  {
   "cell_type": "code",
   "execution_count": 35,
   "outputs": [
    {
     "data": {
      "text/plain": "123456789"
     },
     "execution_count": 35,
     "metadata": {},
     "output_type": "execute_result"
    }
   ],
   "source": [
    "anand.phone_number"
   ],
   "metadata": {
    "collapsed": false,
    "ExecuteTime": {
     "start_time": "2023-04-25T01:59:22.640464Z",
     "end_time": "2023-04-25T01:59:22.749836Z"
    }
   }
  },
  {
   "cell_type": "code",
   "execution_count": 36,
   "outputs": [
    {
     "data": {
      "text/plain": "'anand@gmail.com'"
     },
     "execution_count": 36,
     "metadata": {},
     "output_type": "execute_result"
    }
   ],
   "source": [
    "anand.email_id\n"
   ],
   "metadata": {
    "collapsed": false,
    "ExecuteTime": {
     "start_time": "2023-04-25T02:00:15.203004Z",
     "end_time": "2023-04-25T02:00:15.355318Z"
    }
   }
  },
  {
   "cell_type": "code",
   "execution_count": 42,
   "outputs": [],
   "source": [
    "class pwskills2 :\n",
    "\n",
    "    def __init__(self, phone_number, email_id, student_id) :\n",
    "        \"\"\"This class will take data(input) from the user\"\"\"\n",
    "\n",
    "        # Variable name   =  Data\n",
    "        self.phone_number1 = phone_number\n",
    "        self.email_id1 = email_id\n",
    "        self.student_id1 = student_id\n",
    "\n",
    "    def return_student_details(self) :\n",
    "        \"\"\"This class will return all the inputs taken from user\"\"\"\n",
    "\n",
    "        return self.student_id1, self.email_id1, self.phone_number1"
   ],
   "metadata": {
    "collapsed": false,
    "ExecuteTime": {
     "start_time": "2023-04-25T02:04:45.744464Z",
     "end_time": "2023-04-25T02:04:45.775729Z"
    }
   }
  },
  {
   "cell_type": "code",
   "execution_count": 43,
   "outputs": [],
   "source": [
    "sudh = pwskills2(12312323, 'sdfasf@dfsdf.com', 110)"
   ],
   "metadata": {
    "collapsed": false,
    "ExecuteTime": {
     "start_time": "2023-04-25T02:04:47.688575Z",
     "end_time": "2023-04-25T02:04:47.719826Z"
    }
   }
  },
  {
   "cell_type": "code",
   "execution_count": 44,
   "outputs": [
    {
     "data": {
      "text/plain": "\"Error :\\n---------------------------------------------------------------------------\\nAttributeError                            Traceback (most recent call last)\\nCell In[39], line 1\\n----> 1 sudh.phone_number\\n\\nAttributeError: 'pwskills2' object has no attribute 'phone_number'\\n\""
     },
     "execution_count": 44,
     "metadata": {},
     "output_type": "execute_result"
    }
   ],
   "source": [
    "# sudh.phone_number\n",
    "\n",
    "'''Error :\n",
    "---------------------------------------------------------------------------\n",
    "AttributeError                            Traceback (most recent call last)\n",
    "Cell In[39], line 1\n",
    "----> 1 sudh.phone_number\n",
    "\n",
    "AttributeError: 'pwskills2' object has no attribute 'phone_number'\n",
    "'''"
   ],
   "metadata": {
    "collapsed": false,
    "ExecuteTime": {
     "start_time": "2023-04-25T02:04:48.870483Z",
     "end_time": "2023-04-25T02:04:48.901736Z"
    }
   }
  },
  {
   "cell_type": "code",
   "execution_count": 45,
   "outputs": [
    {
     "data": {
      "text/plain": "12312323"
     },
     "execution_count": 45,
     "metadata": {},
     "output_type": "execute_result"
    }
   ],
   "source": [
    "sudh.phone_number1"
   ],
   "metadata": {
    "collapsed": false,
    "ExecuteTime": {
     "start_time": "2023-04-25T02:04:49.636920Z",
     "end_time": "2023-04-25T02:04:49.699411Z"
    }
   }
  },
  {
   "cell_type": "code",
   "execution_count": 46,
   "outputs": [
    {
     "data": {
      "text/plain": "(110, 'sdfasf@dfsdf.com', 12312323)"
     },
     "execution_count": 46,
     "metadata": {},
     "output_type": "execute_result"
    }
   ],
   "source": [
    "sudh.return_student_details()"
   ],
   "metadata": {
    "collapsed": false,
    "ExecuteTime": {
     "start_time": "2023-04-25T02:04:55.453857Z",
     "end_time": "2023-04-25T02:04:55.547661Z"
    }
   }
  },
  {
   "cell_type": "code",
   "execution_count": 48,
   "outputs": [
    {
     "data": {
      "text/plain": "123456789"
     },
     "execution_count": 48,
     "metadata": {},
     "output_type": "execute_result"
    }
   ],
   "source": [
    "anand.phone_number"
   ],
   "metadata": {
    "collapsed": false,
    "ExecuteTime": {
     "start_time": "2023-04-25T02:05:11.028104Z",
     "end_time": "2023-04-25T02:05:11.106226Z"
    }
   }
  },
  {
   "cell_type": "code",
   "execution_count": 49,
   "outputs": [
    {
     "data": {
      "text/plain": "(101, 'anand@gmail.com', 123456789)"
     },
     "execution_count": 49,
     "metadata": {},
     "output_type": "execute_result"
    }
   ],
   "source": [
    "anand.return_student_details()"
   ],
   "metadata": {
    "collapsed": false,
    "ExecuteTime": {
     "start_time": "2023-04-25T02:05:17.016301Z",
     "end_time": "2023-04-25T02:05:17.125673Z"
    }
   }
  },
  {
   "cell_type": "markdown",
   "source": [
    "Self is not a reserved keyword ! We can use any argument name of our choice. Just like I have used 'puru' here !!!"
   ],
   "metadata": {
    "collapsed": false
   }
  },
  {
   "cell_type": "code",
   "execution_count": 55,
   "outputs": [],
   "source": [
    "class pwskills2 :\n",
    "\n",
    "    def __init__(puru, phone_number, email_id, student_id) :\n",
    "        \"\"\"This class will take data(input) from the user\"\"\"\n",
    "        # Self is not a reserved keyword ! We can use any argument name of our choice. Just like I have used 'puru' here !!!\n",
    "\n",
    "        # Variable name   =  Data\n",
    "        puru.phone_number1 = phone_number\n",
    "        puru.email_id1 = email_id\n",
    "        puru.student_id1 = student_id\n",
    "\n",
    "    def return_student_details(puru) :\n",
    "        \"\"\"This class will return all the inputs taken from user\"\"\"\n",
    "\n",
    "        return puru.student_id1, puru.email_id1, puru.phone_number1"
   ],
   "metadata": {
    "collapsed": false,
    "ExecuteTime": {
     "start_time": "2023-04-25T02:15:01.162736Z",
     "end_time": "2023-04-25T02:15:01.193979Z"
    }
   }
  },
  {
   "cell_type": "code",
   "execution_count": 56,
   "outputs": [],
   "source": [
    "sohan = pwskills2(12312323, 'sdfasf@dfsdf.com', 110)"
   ],
   "metadata": {
    "collapsed": false,
    "ExecuteTime": {
     "start_time": "2023-04-25T02:15:02.001365Z",
     "end_time": "2023-04-25T02:15:02.048249Z"
    }
   }
  },
  {
   "cell_type": "code",
   "execution_count": 57,
   "outputs": [
    {
     "data": {
      "text/plain": "12312323"
     },
     "execution_count": 57,
     "metadata": {},
     "output_type": "execute_result"
    }
   ],
   "source": [
    "sohan.phone_number1"
   ],
   "metadata": {
    "collapsed": false,
    "ExecuteTime": {
     "start_time": "2023-04-25T02:15:02.953610Z",
     "end_time": "2023-04-25T02:15:03.031738Z"
    }
   }
  },
  {
   "cell_type": "code",
   "execution_count": 58,
   "outputs": [
    {
     "data": {
      "text/plain": "'sdfasf@dfsdf.com'"
     },
     "execution_count": 58,
     "metadata": {},
     "output_type": "execute_result"
    }
   ],
   "source": [
    "sohan.email_id1"
   ],
   "metadata": {
    "collapsed": false,
    "ExecuteTime": {
     "start_time": "2023-04-25T02:15:03.234860Z",
     "end_time": "2023-04-25T02:15:03.297358Z"
    }
   }
  },
  {
   "cell_type": "code",
   "execution_count": 59,
   "outputs": [
    {
     "data": {
      "text/plain": "(110, 'sdfasf@dfsdf.com', 12312323)"
     },
     "execution_count": 59,
     "metadata": {},
     "output_type": "execute_result"
    }
   ],
   "source": [
    "sohan.return_student_details()"
   ],
   "metadata": {
    "collapsed": false,
    "ExecuteTime": {
     "start_time": "2023-04-25T02:15:03.469250Z",
     "end_time": "2023-04-25T02:15:03.547355Z"
    }
   }
  },
  {
   "cell_type": "code",
   "execution_count": null,
   "outputs": [],
   "source": [],
   "metadata": {
    "collapsed": false
   }
  }
 ],
 "metadata": {
  "kernelspec": {
   "display_name": "Python 3",
   "language": "python",
   "name": "python3"
  },
  "language_info": {
   "codemirror_mode": {
    "name": "ipython",
    "version": 3
   },
   "file_extension": ".py",
   "mimetype": "text/x-python",
   "name": "python",
   "nbconvert_exporter": "python",
   "pygments_lexer": "ipython3",
   "version": "3.10.9"
  }
 },
 "nbformat": 4,
 "nbformat_minor": 0
}
