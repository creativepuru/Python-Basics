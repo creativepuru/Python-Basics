{
 "cells": [
  {
   "attachments": {},
   "cell_type": "markdown",
   "metadata": {},
   "source": [
    "# OOPS - OBJECT ORIENTED PROGRAMMING SYSTEMS"
   ]
  },
  {
   "cell_type": "code",
   "execution_count": 1,
   "metadata": {
    "ExecuteTime": {
     "start_time": "2023-04-25T01:16:50.972195Z",
     "end_time": "2023-04-25T01:16:50.994202Z"
    },
    "collapsed": true
   },
   "outputs": [
    {
     "name": "stdout",
     "output_type": "stream",
     "text": [
      "Push from VS Code\n"
     ]
    }
   ],
   "source": [
    "print(\"Push from VS Code\")"
   ]
  },
  {
   "cell_type": "code",
   "execution_count": 2,
   "metadata": {
    "ExecuteTime": {
     "start_time": "2023-04-25T01:16:50.996198Z",
     "end_time": "2023-04-25T01:16:51.105202Z"
    }
   },
   "outputs": [],
   "source": [
    "a = 1"
   ]
  },
  {
   "cell_type": "code",
   "execution_count": 3,
   "metadata": {
    "ExecuteTime": {
     "start_time": "2023-04-25T01:16:51.057201Z",
     "end_time": "2023-04-25T01:16:51.153200Z"
    }
   },
   "outputs": [
    {
     "data": {
      "text/plain": "int"
     },
     "execution_count": 3,
     "metadata": {},
     "output_type": "execute_result"
    }
   ],
   "source": [
    "type(a)"
   ]
  },
  {
   "cell_type": "code",
   "execution_count": 4,
   "metadata": {
    "ExecuteTime": {
     "start_time": "2023-04-25T01:16:51.143208Z",
     "end_time": "2023-04-25T01:16:51.319200Z"
    }
   },
   "outputs": [
    {
     "name": "stdout",
     "output_type": "stream",
     "text": [
      "<class 'int'>\n"
     ]
    }
   ],
   "source": [
    "print(type(a))"
   ]
  },
  {
   "cell_type": "code",
   "execution_count": 5,
   "metadata": {
    "ExecuteTime": {
     "start_time": "2023-04-25T01:16:51.215197Z",
     "end_time": "2023-04-25T01:16:51.320200Z"
    }
   },
   "outputs": [],
   "source": [
    "b = \"puru\""
   ]
  },
  {
   "cell_type": "code",
   "execution_count": 6,
   "metadata": {
    "ExecuteTime": {
     "start_time": "2023-04-25T01:16:51.262196Z",
     "end_time": "2023-04-25T01:16:51.322198Z"
    }
   },
   "outputs": [
    {
     "name": "stdout",
     "output_type": "stream",
     "text": [
      "<class 'str'>\n"
     ]
    }
   ],
   "source": [
    "print(type(b))"
   ]
  },
  {
   "cell_type": "code",
   "execution_count": 7,
   "metadata": {
    "ExecuteTime": {
     "start_time": "2023-04-25T01:16:51.310198Z",
     "end_time": "2023-04-25T01:16:51.469199Z"
    }
   },
   "outputs": [
    {
     "name": "stdout",
     "output_type": "stream",
     "text": [
      "<class 'str'>\n"
     ]
    }
   ],
   "source": [
    "print(type(\"purushottam\"))"
   ]
  },
  {
   "cell_type": "code",
   "execution_count": 8,
   "metadata": {
    "ExecuteTime": {
     "start_time": "2023-04-25T01:16:51.389198Z",
     "end_time": "2023-04-25T01:16:51.472199Z"
    }
   },
   "outputs": [
    {
     "data": {
      "text/plain": "\" Error : can not create empty class. To create empty class, we need to add the parameter 'pass'\\nCell In[9], line 1\\n    class test :\\n                ^\\nSyntaxError: incomplete input \""
     },
     "execution_count": 8,
     "metadata": {},
     "output_type": "execute_result"
    }
   ],
   "source": [
    "# class test :\n",
    "\n",
    "''' Error : can not create empty class. To create empty class, we need to add the parameter 'pass'\n",
    "Cell In[9], line 1\n",
    "    class test :\n",
    "                ^\n",
    "SyntaxError: incomplete input '''"
   ]
  },
  {
   "cell_type": "code",
   "execution_count": 9,
   "metadata": {
    "ExecuteTime": {
     "start_time": "2023-04-25T01:16:51.454199Z",
     "end_time": "2023-04-25T01:16:51.697192Z"
    }
   },
   "outputs": [
    {
     "data": {
      "text/plain": "\"shortcut to show row numbers in VS Code --> select the cell and type 'cl' to show row numbers\\ntype 'ro' to collapse the output \""
     },
     "execution_count": 9,
     "metadata": {},
     "output_type": "execute_result"
    }
   ],
   "source": [
    "'''shortcut to show row numbers in VS Code --> select the cell and type 'cl' to show row numbers\n",
    "type 'ro' to collapse the output '''"
   ]
  },
  {
   "attachments": {},
   "cell_type": "markdown",
   "metadata": {},
   "source": [
    "Creating a class"
   ]
  },
  {
   "cell_type": "code",
   "execution_count": 10,
   "metadata": {
    "ExecuteTime": {
     "start_time": "2023-04-25T01:16:51.533199Z",
     "end_time": "2023-04-25T01:16:51.758193Z"
    }
   },
   "outputs": [],
   "source": [
    "class test :\n",
    "    pass"
   ]
  },
  {
   "attachments": {},
   "cell_type": "markdown",
   "metadata": {},
   "source": [
    "Creating object (variable) of the class"
   ]
  },
  {
   "cell_type": "code",
   "execution_count": 11,
   "metadata": {
    "ExecuteTime": {
     "start_time": "2023-04-25T01:16:51.590202Z",
     "end_time": "2023-04-25T01:16:51.776200Z"
    }
   },
   "outputs": [],
   "source": [
    "a = test()"
   ]
  },
  {
   "cell_type": "code",
   "execution_count": 12,
   "metadata": {
    "ExecuteTime": {
     "start_time": "2023-04-25T01:16:51.641203Z",
     "end_time": "2023-04-25T01:16:51.778197Z"
    }
   },
   "outputs": [
    {
     "data": {
      "text/plain": "__main__.test"
     },
     "execution_count": 12,
     "metadata": {},
     "output_type": "execute_result"
    }
   ],
   "source": [
    "type(a)"
   ]
  },
  {
   "cell_type": "code",
   "execution_count": 13,
   "metadata": {
    "ExecuteTime": {
     "start_time": "2023-04-25T01:16:51.726200Z",
     "end_time": "2023-04-25T01:16:51.930190Z"
    }
   },
   "outputs": [
    {
     "name": "stdout",
     "output_type": "stream",
     "text": [
      "<class '__main__.test'>\n"
     ]
    }
   ],
   "source": [
    "print(type(a))"
   ]
  },
  {
   "cell_type": "code",
   "execution_count": 17,
   "metadata": {
    "ExecuteTime": {
     "start_time": "2023-04-25T01:18:24.170841Z",
     "end_time": "2023-04-25T01:18:24.240833Z"
    }
   },
   "outputs": [],
   "source": [
    "class pwskills :\n",
    "    \n",
    "    def welcome_msg() :\n",
    "        print(\"Welcome to PWSKILLS\")"
   ]
  },
  {
   "cell_type": "code",
   "execution_count": 15,
   "metadata": {
    "ExecuteTime": {
     "start_time": "2023-04-25T01:16:51.816201Z",
     "end_time": "2023-04-25T01:16:51.941198Z"
    }
   },
   "outputs": [],
   "source": [
    "anand = pwskills()"
   ]
  },
  {
   "cell_type": "code",
   "execution_count": 16,
   "metadata": {
    "ExecuteTime": {
     "start_time": "2023-04-25T01:16:51.853200Z",
     "end_time": "2023-04-25T01:16:51.942196Z"
    }
   },
   "outputs": [
    {
     "name": "stdout",
     "output_type": "stream",
     "text": [
      "<class '__main__.pwskills'>\n"
     ]
    }
   ],
   "source": [
    "print(type(anand))"
   ]
  },
  {
   "cell_type": "code",
   "execution_count": 19,
   "metadata": {
    "ExecuteTime": {
     "start_time": "2023-04-25T01:23:00.610914Z",
     "end_time": "2023-04-25T01:23:00.661820Z"
    }
   },
   "outputs": [
    {
     "data": {
      "text/plain": "' ---------------------------------------------------------------------------\\nTypeError                                 Traceback (most recent call last)\\nCell In[18], line 1\\n----> 1 anand.welcome_msg()\\n\\nTypeError: pwskills.welcome_msg() takes 0 positional arguments but 1 was given '"
     },
     "execution_count": 19,
     "metadata": {},
     "output_type": "execute_result"
    }
   ],
   "source": [
    "# anand.welcome_msg()\n",
    "''' ---------------------------------------------------------------------------\n",
    "TypeError                                 Traceback (most recent call last)\n",
    "Cell In[18], line 1\n",
    "----> 1 anand.welcome_msg()\n",
    "\n",
    "TypeError: pwskills.welcome_msg() takes 0 positional arguments but 1 was given '''"
   ]
  },
  {
   "cell_type": "code",
   "execution_count": 22,
   "outputs": [],
   "source": [
    "class pwskills :\n",
    "\n",
    "    def welcome_msg(self) :\n",
    "        print(\"Welcome to PWSKILLS\")"
   ],
   "metadata": {
    "collapsed": false,
    "ExecuteTime": {
     "start_time": "2023-04-25T01:23:58.017847Z",
     "end_time": "2023-04-25T01:23:58.080346Z"
    }
   }
  },
  {
   "cell_type": "code",
   "execution_count": 23,
   "outputs": [],
   "source": [
    "anand = pwskills()"
   ],
   "metadata": {
    "collapsed": false,
    "ExecuteTime": {
     "start_time": "2023-04-25T01:24:01.599111Z",
     "end_time": "2023-04-25T01:24:01.630350Z"
    }
   }
  },
  {
   "cell_type": "code",
   "execution_count": 24,
   "outputs": [
    {
     "name": "stdout",
     "output_type": "stream",
     "text": [
      "Welcome to PWSKILLS\n"
     ]
    }
   ],
   "source": [
    "anand.welcome_msg()"
   ],
   "metadata": {
    "collapsed": false,
    "ExecuteTime": {
     "start_time": "2023-04-25T01:24:06.516416Z",
     "end_time": "2023-04-25T01:24:06.668416Z"
    }
   }
  },
  {
   "cell_type": "code",
   "execution_count": null,
   "outputs": [],
   "source": [],
   "metadata": {
    "collapsed": false
   }
  }
 ],
 "metadata": {
  "kernelspec": {
   "display_name": "Python 3",
   "language": "python",
   "name": "python3"
  },
  "language_info": {
   "codemirror_mode": {
    "name": "ipython",
    "version": 3
   },
   "file_extension": ".py",
   "mimetype": "text/x-python",
   "name": "python",
   "nbconvert_exporter": "python",
   "pygments_lexer": "ipython3",
   "version": "3.10.9"
  }
 },
 "nbformat": 4,
 "nbformat_minor": 0
}
