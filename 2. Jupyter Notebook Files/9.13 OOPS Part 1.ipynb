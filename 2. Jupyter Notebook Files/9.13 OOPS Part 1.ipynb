{
 "cells": [
  {
   "attachments": {},
   "cell_type": "markdown",
   "metadata": {},
   "source": [
    "# OOPS - OBJECT ORIENTED PROGRAMMING SYSTEMS"
   ]
  },
  {
   "cell_type": "code",
   "execution_count": 60,
   "metadata": {
    "ExecuteTime": {
     "start_time": "2023-04-25T02:17:03.852630Z",
     "end_time": "2023-04-25T02:17:04.777005Z"
    },
    "collapsed": true
   },
   "outputs": [
    {
     "name": "stdout",
     "output_type": "stream",
     "text": [
      "Push from VS Code\n"
     ]
    }
   ],
   "source": [
    "print(\"Push from VS Code\")"
   ]
  },
  {
   "cell_type": "code",
   "execution_count": 61,
   "metadata": {
    "ExecuteTime": {
     "start_time": "2023-04-25T02:17:03.930754Z",
     "end_time": "2023-04-25T02:17:04.953146Z"
    }
   },
   "outputs": [],
   "source": [
    "a = 1"
   ]
  },
  {
   "cell_type": "code",
   "execution_count": 62,
   "metadata": {
    "ExecuteTime": {
     "start_time": "2023-04-25T02:17:03.993252Z",
     "end_time": "2023-04-25T02:17:04.968773Z"
    }
   },
   "outputs": [
    {
     "data": {
      "text/plain": "int"
     },
     "execution_count": 62,
     "metadata": {},
     "output_type": "execute_result"
    }
   ],
   "source": [
    "type(a)"
   ]
  },
  {
   "cell_type": "code",
   "execution_count": 63,
   "metadata": {
    "ExecuteTime": {
     "start_time": "2023-04-25T02:17:04.040141Z",
     "end_time": "2023-04-25T02:17:04.968773Z"
    }
   },
   "outputs": [
    {
     "name": "stdout",
     "output_type": "stream",
     "text": [
      "<class 'int'>\n"
     ]
    }
   ],
   "source": [
    "print(type(a))"
   ]
  },
  {
   "cell_type": "code",
   "execution_count": 64,
   "metadata": {
    "ExecuteTime": {
     "start_time": "2023-04-25T02:17:04.071378Z",
     "end_time": "2023-04-25T02:17:04.984393Z"
    }
   },
   "outputs": [],
   "source": [
    "b = \"puru\""
   ]
  },
  {
   "cell_type": "code",
   "execution_count": 65,
   "metadata": {
    "ExecuteTime": {
     "start_time": "2023-04-25T02:17:04.087022Z",
     "end_time": "2023-04-25T02:17:05.000021Z"
    }
   },
   "outputs": [
    {
     "name": "stdout",
     "output_type": "stream",
     "text": [
      "<class 'str'>\n"
     ]
    }
   ],
   "source": [
    "print(type(b))"
   ]
  },
  {
   "cell_type": "code",
   "execution_count": 66,
   "metadata": {
    "ExecuteTime": {
     "start_time": "2023-04-25T02:17:04.118252Z",
     "end_time": "2023-04-25T02:17:05.000021Z"
    }
   },
   "outputs": [
    {
     "name": "stdout",
     "output_type": "stream",
     "text": [
      "<class 'str'>\n"
     ]
    }
   ],
   "source": [
    "print(type(\"purushottam\"))"
   ]
  },
  {
   "cell_type": "code",
   "execution_count": 67,
   "metadata": {
    "ExecuteTime": {
     "start_time": "2023-04-25T02:17:04.149504Z",
     "end_time": "2023-04-25T02:17:05.000021Z"
    }
   },
   "outputs": [
    {
     "data": {
      "text/plain": "\" Error : can not create empty class. To create empty class, we need to add the parameter 'pass'\\nCell In[9], line 1\\n    class test :\\n                ^\\nSyntaxError: incomplete input \""
     },
     "execution_count": 67,
     "metadata": {},
     "output_type": "execute_result"
    }
   ],
   "source": [
    "# class test :\n",
    "\n",
    "''' Error : can not create empty class. To create empty class, we need to add the parameter 'pass'\n",
    "Cell In[9], line 1\n",
    "    class test :\n",
    "                ^\n",
    "SyntaxError: incomplete input '''"
   ]
  },
  {
   "cell_type": "code",
   "execution_count": 68,
   "metadata": {
    "ExecuteTime": {
     "start_time": "2023-04-25T02:17:04.212001Z",
     "end_time": "2023-04-25T02:17:05.000021Z"
    }
   },
   "outputs": [
    {
     "data": {
      "text/plain": "\"shortcut to show row numbers in VS Code --> select the cell and type 'cl' to show row numbers\\ntype 'ro' to collapse the output \""
     },
     "execution_count": 68,
     "metadata": {},
     "output_type": "execute_result"
    }
   ],
   "source": [
    "'''shortcut to show row numbers in VS Code --> select the cell and type 'cl' to show row numbers\n",
    "type 'ro' to collapse the output '''"
   ]
  },
  {
   "attachments": {},
   "cell_type": "markdown",
   "metadata": {},
   "source": [
    "# Creating a class"
   ]
  },
  {
   "cell_type": "code",
   "execution_count": 69,
   "metadata": {
    "ExecuteTime": {
     "start_time": "2023-04-25T02:17:04.243254Z",
     "end_time": "2023-04-25T02:17:05.000021Z"
    }
   },
   "outputs": [],
   "source": [
    "class test :\n",
    "    pass"
   ]
  },
  {
   "attachments": {},
   "cell_type": "markdown",
   "metadata": {},
   "source": [
    "# Creating object (variable) of the class"
   ]
  },
  {
   "cell_type": "code",
   "execution_count": 70,
   "metadata": {
    "ExecuteTime": {
     "start_time": "2023-04-25T02:17:04.274504Z",
     "end_time": "2023-04-25T02:17:05.000021Z"
    }
   },
   "outputs": [],
   "source": [
    "a = test()"
   ]
  },
  {
   "cell_type": "code",
   "execution_count": 71,
   "metadata": {
    "ExecuteTime": {
     "start_time": "2023-04-25T02:17:04.290128Z",
     "end_time": "2023-04-25T02:17:05.000021Z"
    }
   },
   "outputs": [
    {
     "data": {
      "text/plain": "__main__.test"
     },
     "execution_count": 71,
     "metadata": {},
     "output_type": "execute_result"
    }
   ],
   "source": [
    "type(a)"
   ]
  },
  {
   "cell_type": "code",
   "execution_count": 72,
   "metadata": {
    "ExecuteTime": {
     "start_time": "2023-04-25T02:17:04.321381Z",
     "end_time": "2023-04-25T02:17:05.000021Z"
    }
   },
   "outputs": [
    {
     "name": "stdout",
     "output_type": "stream",
     "text": [
      "<class '__main__.test'>\n"
     ]
    }
   ],
   "source": [
    "print(type(a))"
   ]
  },
  {
   "cell_type": "code",
   "execution_count": 73,
   "metadata": {
    "ExecuteTime": {
     "start_time": "2023-04-25T02:17:04.368257Z",
     "end_time": "2023-04-25T02:17:05.000021Z"
    }
   },
   "outputs": [],
   "source": [
    "class pwskills :\n",
    "    \n",
    "    def welcome_msg() :\n",
    "        print(\"Welcome to PWSKILLS\")"
   ]
  },
  {
   "cell_type": "code",
   "execution_count": 74,
   "metadata": {
    "ExecuteTime": {
     "start_time": "2023-04-25T02:17:04.399500Z",
     "end_time": "2023-04-25T02:17:05.000021Z"
    }
   },
   "outputs": [],
   "source": [
    "anand = pwskills()"
   ]
  },
  {
   "cell_type": "code",
   "execution_count": 75,
   "metadata": {
    "ExecuteTime": {
     "start_time": "2023-04-25T02:17:04.415125Z",
     "end_time": "2023-04-25T02:17:05.000021Z"
    }
   },
   "outputs": [
    {
     "name": "stdout",
     "output_type": "stream",
     "text": [
      "<class '__main__.pwskills'>\n"
     ]
    }
   ],
   "source": [
    "print(type(anand))"
   ]
  },
  {
   "cell_type": "code",
   "execution_count": 76,
   "metadata": {
    "ExecuteTime": {
     "start_time": "2023-04-25T02:17:04.446376Z",
     "end_time": "2023-04-25T02:17:05.000021Z"
    }
   },
   "outputs": [
    {
     "data": {
      "text/plain": "' ---------------------------------------------------------------------------\\nTypeError                                 Traceback (most recent call last)\\nCell In[18], line 1\\n----> 1 anand.welcome_msg()\\n\\nTypeError: pwskills.welcome_msg() takes 0 positional arguments but 1 was given '"
     },
     "execution_count": 76,
     "metadata": {},
     "output_type": "execute_result"
    }
   ],
   "source": [
    "# anand.welcome_msg()\n",
    "''' ---------------------------------------------------------------------------\n",
    "TypeError                                 Traceback (most recent call last)\n",
    "Cell In[18], line 1\n",
    "----> 1 anand.welcome_msg()\n",
    "\n",
    "TypeError: pwskills.welcome_msg() takes 0 positional arguments but 1 was given '''"
   ]
  },
  {
   "cell_type": "code",
   "execution_count": 77,
   "outputs": [],
   "source": [
    "class pwskills :\n",
    "\n",
    "    def welcome_msg(self) :\n",
    "        print(\"Welcome to PWSKILLS\")"
   ],
   "metadata": {
    "collapsed": false,
    "ExecuteTime": {
     "start_time": "2023-04-25T02:17:04.477641Z",
     "end_time": "2023-04-25T02:17:05.000021Z"
    }
   }
  },
  {
   "cell_type": "code",
   "execution_count": 78,
   "outputs": [],
   "source": [
    "anand = pwskills()"
   ],
   "metadata": {
    "collapsed": false,
    "ExecuteTime": {
     "start_time": "2023-04-25T02:17:04.508874Z",
     "end_time": "2023-04-25T02:17:05.000021Z"
    }
   }
  },
  {
   "cell_type": "code",
   "execution_count": 79,
   "outputs": [
    {
     "name": "stdout",
     "output_type": "stream",
     "text": [
      "Welcome to PWSKILLS\n"
     ]
    }
   ],
   "source": [
    "anand.welcome_msg()"
   ],
   "metadata": {
    "collapsed": false,
    "ExecuteTime": {
     "start_time": "2023-04-25T02:17:04.555756Z",
     "end_time": "2023-04-25T02:17:05.616914Z"
    }
   }
  },
  {
   "cell_type": "code",
   "execution_count": 80,
   "outputs": [],
   "source": [
    "puru = pwskills()"
   ],
   "metadata": {
    "collapsed": false,
    "ExecuteTime": {
     "start_time": "2023-04-25T02:17:04.587811Z",
     "end_time": "2023-04-25T02:17:05.616914Z"
    }
   }
  },
  {
   "cell_type": "code",
   "execution_count": 81,
   "outputs": [
    {
     "name": "stdout",
     "output_type": "stream",
     "text": [
      "Welcome to PWSKILLS\n"
     ]
    }
   ],
   "source": [
    "puru.welcome_msg()"
   ],
   "metadata": {
    "collapsed": false,
    "ExecuteTime": {
     "start_time": "2023-04-25T02:17:04.603436Z",
     "end_time": "2023-04-25T02:17:05.616914Z"
    }
   }
  },
  {
   "cell_type": "code",
   "execution_count": 82,
   "outputs": [],
   "source": [
    "class pwskills1 :\n",
    "\n",
    "    def __init__(self, phone_number, email_id, student_id) :\n",
    "        \"\"\"This class will take data(input) from the user\"\"\"\n",
    "\n",
    "        # Variable name   =  Data\n",
    "        self.phone_number = phone_number\n",
    "        self.email_id = email_id\n",
    "        self.student_id = student_id\n",
    "\n",
    "    def return_student_details(self) :\n",
    "        \"\"\"This class will return all the inputs taken from user\"\"\"\n",
    "\n",
    "        return self.student_id, self.email_id, self.phone_number"
   ],
   "metadata": {
    "collapsed": false,
    "ExecuteTime": {
     "start_time": "2023-04-25T02:17:04.634681Z",
     "end_time": "2023-04-25T02:17:05.616914Z"
    }
   }
  },
  {
   "cell_type": "code",
   "execution_count": 83,
   "outputs": [],
   "source": [
    "anand = pwskills1(123456789, \"anand@gmail.com\", 101)"
   ],
   "metadata": {
    "collapsed": false,
    "ExecuteTime": {
     "start_time": "2023-04-25T02:17:04.665932Z",
     "end_time": "2023-04-25T02:17:05.616914Z"
    }
   }
  },
  {
   "cell_type": "code",
   "execution_count": 84,
   "outputs": [
    {
     "data": {
      "text/plain": "(101, 'anand@gmail.com', 123456789)"
     },
     "execution_count": 84,
     "metadata": {},
     "output_type": "execute_result"
    }
   ],
   "source": [
    "anand.return_student_details()"
   ],
   "metadata": {
    "collapsed": false,
    "ExecuteTime": {
     "start_time": "2023-04-25T02:17:04.705886Z",
     "end_time": "2023-04-25T02:17:05.616914Z"
    }
   }
  },
  {
   "cell_type": "code",
   "execution_count": 85,
   "outputs": [],
   "source": [
    "rohan = pwskills1(21351561, \"rohan@gmail.com\", 102)"
   ],
   "metadata": {
    "collapsed": false,
    "ExecuteTime": {
     "start_time": "2023-04-25T02:17:04.745706Z",
     "end_time": "2023-04-25T02:17:05.616914Z"
    }
   }
  },
  {
   "cell_type": "code",
   "execution_count": 86,
   "outputs": [
    {
     "data": {
      "text/plain": "(102, 'rohan@gmail.com', 21351561)"
     },
     "execution_count": 86,
     "metadata": {},
     "output_type": "execute_result"
    }
   ],
   "source": [
    "rohan.return_student_details()"
   ],
   "metadata": {
    "collapsed": false,
    "ExecuteTime": {
     "start_time": "2023-04-25T02:17:04.801227Z",
     "end_time": "2023-04-25T02:17:05.616914Z"
    }
   }
  },
  {
   "cell_type": "code",
   "execution_count": 87,
   "outputs": [
    {
     "data": {
      "text/plain": "102"
     },
     "execution_count": 87,
     "metadata": {},
     "output_type": "execute_result"
    }
   ],
   "source": [
    "rohan.student_id"
   ],
   "metadata": {
    "collapsed": false,
    "ExecuteTime": {
     "start_time": "2023-04-25T02:17:04.853704Z",
     "end_time": "2023-04-25T02:17:05.616914Z"
    }
   }
  },
  {
   "cell_type": "code",
   "execution_count": 88,
   "outputs": [
    {
     "data": {
      "text/plain": "21351561"
     },
     "execution_count": 88,
     "metadata": {},
     "output_type": "execute_result"
    }
   ],
   "source": [
    "rohan.phone_number"
   ],
   "metadata": {
    "collapsed": false,
    "ExecuteTime": {
     "start_time": "2023-04-25T02:17:04.897166Z",
     "end_time": "2023-04-25T02:17:05.703958Z"
    }
   }
  },
  {
   "cell_type": "code",
   "execution_count": 89,
   "outputs": [
    {
     "data": {
      "text/plain": "123456789"
     },
     "execution_count": 89,
     "metadata": {},
     "output_type": "execute_result"
    }
   ],
   "source": [
    "anand.phone_number"
   ],
   "metadata": {
    "collapsed": false,
    "ExecuteTime": {
     "start_time": "2023-04-25T02:17:04.921886Z",
     "end_time": "2023-04-25T02:17:05.762102Z"
    }
   }
  },
  {
   "cell_type": "code",
   "execution_count": 90,
   "outputs": [
    {
     "data": {
      "text/plain": "'anand@gmail.com'"
     },
     "execution_count": 90,
     "metadata": {},
     "output_type": "execute_result"
    }
   ],
   "source": [
    "anand.email_id\n"
   ],
   "metadata": {
    "collapsed": false,
    "ExecuteTime": {
     "start_time": "2023-04-25T02:17:04.953146Z",
     "end_time": "2023-04-25T02:17:05.762102Z"
    }
   }
  },
  {
   "cell_type": "code",
   "execution_count": 91,
   "outputs": [],
   "source": [
    "class pwskills2 :\n",
    "\n",
    "    def __init__(self, phone_number, email_id, student_id) :\n",
    "        \"\"\"This class will take data(input) from the user\"\"\"\n",
    "\n",
    "        # Variable name   =  Data\n",
    "        self.phone_number1 = phone_number\n",
    "        self.email_id1 = email_id\n",
    "        self.student_id1 = student_id\n",
    "\n",
    "    def return_student_details(self) :\n",
    "        \"\"\"This class will return all the inputs taken from user\"\"\"\n",
    "\n",
    "        return self.student_id1, self.email_id1, self.phone_number1"
   ],
   "metadata": {
    "collapsed": false,
    "ExecuteTime": {
     "start_time": "2023-04-25T02:17:05.015642Z",
     "end_time": "2023-04-25T02:17:05.762102Z"
    }
   }
  },
  {
   "cell_type": "code",
   "execution_count": 92,
   "outputs": [],
   "source": [
    "sudh = pwskills2(12312323, 'sdfasf@dfsdf.com', 110)"
   ],
   "metadata": {
    "collapsed": false,
    "ExecuteTime": {
     "start_time": "2023-04-25T02:17:05.031270Z",
     "end_time": "2023-04-25T02:17:05.762102Z"
    }
   }
  },
  {
   "cell_type": "code",
   "execution_count": 93,
   "outputs": [
    {
     "data": {
      "text/plain": "\"Error :\\n---------------------------------------------------------------------------\\nAttributeError                            Traceback (most recent call last)\\nCell In[39], line 1\\n----> 1 sudh.phone_number\\n\\nAttributeError: 'pwskills2' object has no attribute 'phone_number'\\n\""
     },
     "execution_count": 93,
     "metadata": {},
     "output_type": "execute_result"
    }
   ],
   "source": [
    "# sudh.phone_number\n",
    "\n",
    "'''Error :\n",
    "---------------------------------------------------------------------------\n",
    "AttributeError                            Traceback (most recent call last)\n",
    "Cell In[39], line 1\n",
    "----> 1 sudh.phone_number\n",
    "\n",
    "AttributeError: 'pwskills2' object has no attribute 'phone_number'\n",
    "'''"
   ],
   "metadata": {
    "collapsed": false,
    "ExecuteTime": {
     "start_time": "2023-04-25T02:17:05.062517Z",
     "end_time": "2023-04-25T02:17:05.762102Z"
    }
   }
  },
  {
   "cell_type": "code",
   "execution_count": 94,
   "outputs": [
    {
     "data": {
      "text/plain": "12312323"
     },
     "execution_count": 94,
     "metadata": {},
     "output_type": "execute_result"
    }
   ],
   "source": [
    "sudh.phone_number1"
   ],
   "metadata": {
    "collapsed": false,
    "ExecuteTime": {
     "start_time": "2023-04-25T02:17:05.140641Z",
     "end_time": "2023-04-25T02:17:05.762102Z"
    }
   }
  },
  {
   "cell_type": "code",
   "execution_count": 95,
   "outputs": [
    {
     "data": {
      "text/plain": "(110, 'sdfasf@dfsdf.com', 12312323)"
     },
     "execution_count": 95,
     "metadata": {},
     "output_type": "execute_result"
    }
   ],
   "source": [
    "sudh.return_student_details()"
   ],
   "metadata": {
    "collapsed": false,
    "ExecuteTime": {
     "start_time": "2023-04-25T02:17:05.187518Z",
     "end_time": "2023-04-25T02:17:05.808987Z"
    }
   }
  },
  {
   "cell_type": "code",
   "execution_count": 96,
   "outputs": [
    {
     "data": {
      "text/plain": "123456789"
     },
     "execution_count": 96,
     "metadata": {},
     "output_type": "execute_result"
    }
   ],
   "source": [
    "anand.phone_number"
   ],
   "metadata": {
    "collapsed": false,
    "ExecuteTime": {
     "start_time": "2023-04-25T02:17:05.234391Z",
     "end_time": "2023-04-25T02:17:05.808987Z"
    }
   }
  },
  {
   "cell_type": "code",
   "execution_count": 97,
   "outputs": [
    {
     "data": {
      "text/plain": "(101, 'anand@gmail.com', 123456789)"
     },
     "execution_count": 97,
     "metadata": {},
     "output_type": "execute_result"
    }
   ],
   "source": [
    "anand.return_student_details()"
   ],
   "metadata": {
    "collapsed": false,
    "ExecuteTime": {
     "start_time": "2023-04-25T02:17:05.265642Z",
     "end_time": "2023-04-25T02:17:05.808987Z"
    }
   }
  },
  {
   "cell_type": "markdown",
   "source": [
    "# Self is not a reserved keyword ! We can use any argument name of our choice. Just like I have used 'puru' here !!!"
   ],
   "metadata": {
    "collapsed": false
   }
  },
  {
   "cell_type": "code",
   "execution_count": 98,
   "outputs": [],
   "source": [
    "class pwskills2 :\n",
    "\n",
    "    def __init__(puru, phone_number, email_id, student_id) :\n",
    "        \"\"\"This class will take data(input) from the user\"\"\"\n",
    "        # Self is not a reserved keyword ! We can use any argument name of our choice. Just like I have used 'puru' here !!!\n",
    "\n",
    "        # Variable name   =  Data\n",
    "        puru.phone_number1 = phone_number\n",
    "        puru.email_id1 = email_id\n",
    "        puru.student_id1 = student_id\n",
    "\n",
    "    def return_student_details(puru) :\n",
    "        \"\"\"This class will return all the inputs taken from user\"\"\"\n",
    "\n",
    "        return puru.student_id1, puru.email_id1, puru.phone_number1"
   ],
   "metadata": {
    "collapsed": false,
    "ExecuteTime": {
     "start_time": "2023-04-25T02:17:05.312521Z",
     "end_time": "2023-04-25T02:17:05.808987Z"
    }
   }
  },
  {
   "cell_type": "code",
   "execution_count": 99,
   "outputs": [],
   "source": [
    "sohan = pwskills2(12312323, 'sdfasf@dfsdf.com', 110)"
   ],
   "metadata": {
    "collapsed": false,
    "ExecuteTime": {
     "start_time": "2023-04-25T02:17:05.343766Z",
     "end_time": "2023-04-25T02:17:05.808987Z"
    }
   }
  },
  {
   "cell_type": "code",
   "execution_count": 100,
   "outputs": [
    {
     "data": {
      "text/plain": "12312323"
     },
     "execution_count": 100,
     "metadata": {},
     "output_type": "execute_result"
    }
   ],
   "source": [
    "sohan.phone_number1"
   ],
   "metadata": {
    "collapsed": false,
    "ExecuteTime": {
     "start_time": "2023-04-25T02:17:05.359392Z",
     "end_time": "2023-04-25T02:17:05.808987Z"
    }
   }
  },
  {
   "cell_type": "code",
   "execution_count": 101,
   "outputs": [
    {
     "data": {
      "text/plain": "'sdfasf@dfsdf.com'"
     },
     "execution_count": 101,
     "metadata": {},
     "output_type": "execute_result"
    }
   ],
   "source": [
    "sohan.email_id1"
   ],
   "metadata": {
    "collapsed": false,
    "ExecuteTime": {
     "start_time": "2023-04-25T02:17:05.406270Z",
     "end_time": "2023-04-25T02:17:05.808987Z"
    }
   }
  },
  {
   "cell_type": "code",
   "execution_count": 102,
   "outputs": [
    {
     "data": {
      "text/plain": "(110, 'sdfasf@dfsdf.com', 12312323)"
     },
     "execution_count": 102,
     "metadata": {},
     "output_type": "execute_result"
    }
   ],
   "source": [
    "sohan.return_student_details()"
   ],
   "metadata": {
    "collapsed": false,
    "ExecuteTime": {
     "start_time": "2023-04-25T02:17:05.453143Z",
     "end_time": "2023-04-25T02:17:05.808987Z"
    }
   }
  },
  {
   "cell_type": "markdown",
   "source": [
    "# ------------------- END -------------------"
   ],
   "metadata": {
    "collapsed": false
   }
  },
  {
   "cell_type": "code",
   "execution_count": 102,
   "outputs": [],
   "source": [],
   "metadata": {
    "collapsed": false,
    "ExecuteTime": {
     "start_time": "2023-04-25T02:17:05.484396Z",
     "end_time": "2023-04-25T02:17:05.808987Z"
    }
   }
  }
 ],
 "metadata": {
  "kernelspec": {
   "display_name": "Python 3",
   "language": "python",
   "name": "python3"
  },
  "language_info": {
   "codemirror_mode": {
    "name": "ipython",
    "version": 3
   },
   "file_extension": ".py",
   "mimetype": "text/x-python",
   "name": "python",
   "nbconvert_exporter": "python",
   "pygments_lexer": "ipython3",
   "version": "3.10.9"
  }
 },
 "nbformat": 4,
 "nbformat_minor": 0
}
