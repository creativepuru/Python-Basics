{
 "cells": [
  {
   "cell_type": "markdown",
   "source": [
    "# Inheritance in Python"
   ],
   "metadata": {
    "collapsed": false
   }
  },
  {
   "cell_type": "code",
   "execution_count": 1,
   "metadata": {
    "collapsed": true,
    "ExecuteTime": {
     "start_time": "2023-04-26T04:09:15.453917Z",
     "end_time": "2023-04-26T04:09:15.466910Z"
    }
   },
   "outputs": [],
   "source": [
    "# Parent Class\n",
    "\n",
    "class test :\n",
    "\n",
    "    def test_meth(self):\n",
    "        return \"This is my first class\""
   ]
  },
  {
   "cell_type": "code",
   "execution_count": 2,
   "outputs": [],
   "source": [
    "# Child Class\n",
    "\n",
    "class child_test(test) :\n",
    "    pass"
   ],
   "metadata": {
    "collapsed": false,
    "ExecuteTime": {
     "start_time": "2023-04-26T04:09:15.473912Z",
     "end_time": "2023-04-26T04:09:15.528482Z"
    }
   }
  },
  {
   "cell_type": "code",
   "execution_count": 3,
   "outputs": [],
   "source": [
    "# Creating Object of child class\n",
    "\n",
    "child_test_object = child_test()"
   ],
   "metadata": {
    "collapsed": false,
    "ExecuteTime": {
     "start_time": "2023-04-26T04:09:15.506913Z",
     "end_time": "2023-04-26T04:09:15.528482Z"
    }
   }
  },
  {
   "cell_type": "code",
   "execution_count": 4,
   "outputs": [
    {
     "data": {
      "text/plain": "<__main__.child_test at 0x12cfeba9ea0>"
     },
     "execution_count": 4,
     "metadata": {},
     "output_type": "execute_result"
    }
   ],
   "source": [
    "child_test_object"
   ],
   "metadata": {
    "collapsed": false,
    "ExecuteTime": {
     "start_time": "2023-04-26T04:09:15.526483Z",
     "end_time": "2023-04-26T04:09:15.634017Z"
    }
   }
  },
  {
   "cell_type": "code",
   "execution_count": 5,
   "outputs": [
    {
     "data": {
      "text/plain": "'This is my first class'"
     },
     "execution_count": 5,
     "metadata": {},
     "output_type": "execute_result"
    }
   ],
   "source": [
    "# Calling function of parent class by using object of child class\n",
    "\n",
    "child_test_object.test_meth()"
   ],
   "metadata": {
    "collapsed": false,
    "ExecuteTime": {
     "start_time": "2023-04-26T04:09:15.572461Z",
     "end_time": "2023-04-26T04:09:15.669013Z"
    }
   }
  },
  {
   "cell_type": "code",
   "execution_count": 6,
   "outputs": [],
   "source": [
    "class class1 :\n",
    "\n",
    "    def test_class1(self):\n",
    "        return \"This is a method from class 1\""
   ],
   "metadata": {
    "collapsed": false,
    "ExecuteTime": {
     "start_time": "2023-04-26T04:09:15.601464Z",
     "end_time": "2023-04-26T04:09:15.671014Z"
    }
   }
  },
  {
   "cell_type": "code",
   "execution_count": 7,
   "outputs": [],
   "source": [
    "class class2(class1) :\n",
    "\n",
    "    def test_class2(self):\n",
    "        return \"This is a method from class 2\""
   ],
   "metadata": {
    "collapsed": false,
    "ExecuteTime": {
     "start_time": "2023-04-26T04:09:15.626017Z",
     "end_time": "2023-04-26T04:09:15.672014Z"
    }
   }
  },
  {
   "cell_type": "code",
   "execution_count": 8,
   "outputs": [],
   "source": [
    "class class3(class2) :\n",
    "    pass"
   ],
   "metadata": {
    "collapsed": false,
    "ExecuteTime": {
     "start_time": "2023-04-26T04:09:15.658020Z",
     "end_time": "2023-04-26T04:09:15.771558Z"
    }
   }
  },
  {
   "cell_type": "code",
   "execution_count": 9,
   "outputs": [],
   "source": [
    "obj_class3 = class3()"
   ],
   "metadata": {
    "collapsed": false,
    "ExecuteTime": {
     "start_time": "2023-04-26T04:09:15.693019Z",
     "end_time": "2023-04-26T04:09:15.805560Z"
    }
   }
  },
  {
   "cell_type": "code",
   "execution_count": 10,
   "outputs": [
    {
     "data": {
      "text/plain": "'This is a method from class 1'"
     },
     "execution_count": 10,
     "metadata": {},
     "output_type": "execute_result"
    }
   ],
   "source": [
    "obj_class3.test_class1()"
   ],
   "metadata": {
    "collapsed": false,
    "ExecuteTime": {
     "start_time": "2023-04-26T04:09:15.726561Z",
     "end_time": "2023-04-26T04:09:15.806559Z"
    }
   }
  },
  {
   "cell_type": "code",
   "execution_count": 11,
   "outputs": [
    {
     "data": {
      "text/plain": "'This is a method from class 2'"
     },
     "execution_count": 11,
     "metadata": {},
     "output_type": "execute_result"
    }
   ],
   "source": [
    "obj_class3.test_class2()"
   ],
   "metadata": {
    "collapsed": false,
    "ExecuteTime": {
     "start_time": "2023-04-26T04:09:15.754562Z",
     "end_time": "2023-04-26T04:09:15.807562Z"
    }
   }
  },
  {
   "cell_type": "markdown",
   "source": [
    "# Multi Level Inheritance"
   ],
   "metadata": {
    "collapsed": false
   }
  },
  {
   "cell_type": "code",
   "execution_count": 12,
   "outputs": [],
   "source": [
    "# Example of Multi Level Inheritance :\n",
    "\n",
    "class class1 :\n",
    "    def test_class1(self):\n",
    "        return \"This is a method from class 1\"\n",
    "\n",
    "class class2(class1) :\n",
    "    def test_class2(self):\n",
    "        return \"This is a method from class 2\"\n",
    "\n",
    "class class3(class2) :\n",
    "    pass\n",
    "\n",
    "obj_class3 = class3()"
   ],
   "metadata": {
    "collapsed": false,
    "ExecuteTime": {
     "start_time": "2023-04-26T04:09:15.781566Z",
     "end_time": "2023-04-26T04:09:15.944702Z"
    }
   }
  },
  {
   "cell_type": "markdown",
   "source": [
    "# Multiple Inheritance"
   ],
   "metadata": {
    "collapsed": false
   }
  },
  {
   "cell_type": "code",
   "execution_count": 15,
   "outputs": [],
   "source": [
    "class class1 :\n",
    "    def test_class1(self):\n",
    "        return \"--> This is a class 1\"\n",
    "\n",
    "class class2 :\n",
    "    def test_class2(self):\n",
    "        return \"--> This is class 2\"\n",
    "\n",
    "class class3(class1, class2):\n",
    "    pass\n",
    "\n",
    "obj_class3 = class3()"
   ],
   "metadata": {
    "collapsed": false,
    "ExecuteTime": {
     "start_time": "2023-04-26T04:09:27.869968Z",
     "end_time": "2023-04-26T04:09:27.923963Z"
    }
   }
  },
  {
   "cell_type": "code",
   "execution_count": 16,
   "outputs": [
    {
     "data": {
      "text/plain": "'--> This is class 2'"
     },
     "execution_count": 16,
     "metadata": {},
     "output_type": "execute_result"
    }
   ],
   "source": [
    "obj_class3.test_class2()"
   ],
   "metadata": {
    "collapsed": false,
    "ExecuteTime": {
     "start_time": "2023-04-26T04:09:28.686060Z",
     "end_time": "2023-04-26T04:09:28.736064Z"
    }
   }
  },
  {
   "cell_type": "code",
   "execution_count": 17,
   "outputs": [
    {
     "data": {
      "text/plain": "'--> This is a class 1'"
     },
     "execution_count": 17,
     "metadata": {},
     "output_type": "execute_result"
    }
   ],
   "source": [
    "obj_class3.test_class1()"
   ],
   "metadata": {
    "collapsed": false,
    "ExecuteTime": {
     "start_time": "2023-04-26T04:09:39.160613Z",
     "end_time": "2023-04-26T04:09:39.271193Z"
    }
   }
  },
  {
   "cell_type": "code",
   "execution_count": null,
   "outputs": [],
   "source": [],
   "metadata": {
    "collapsed": false
   }
  }
 ],
 "metadata": {
  "kernelspec": {
   "display_name": "Python 3",
   "language": "python",
   "name": "python3"
  },
  "language_info": {
   "codemirror_mode": {
    "name": "ipython",
    "version": 2
   },
   "file_extension": ".py",
   "mimetype": "text/x-python",
   "name": "python",
   "nbconvert_exporter": "python",
   "pygments_lexer": "ipython2",
   "version": "2.7.6"
  }
 },
 "nbformat": 4,
 "nbformat_minor": 0
}
